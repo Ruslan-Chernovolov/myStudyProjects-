{
 "cells": [
  {
   "cell_type": "markdown",
   "metadata": {},
   "source": [
    "### Выбор локации для скважины"
   ]
  },
  {
   "cell_type": "code",
   "execution_count": 1,
   "metadata": {},
   "outputs": [],
   "source": [
    "import pandas as pd\n",
    "import numpy as np\n",
    "from scipy import stats\n",
    "state = np.random.RandomState(24)\n",
    "from scipy import stats as st\n",
    "from sklearn.metrics import mean_squared_error\n",
    "from sklearn.linear_model import LogisticRegression\n",
    "from sklearn.linear_model import LinearRegression\n",
    "from sklearn.model_selection import train_test_split\n",
    "from sklearn.ensemble import RandomForestClassifier\n",
    "from sklearn.tree import DecisionTreeClassifier\n",
    "from sklearn.metrics import accuracy_score \n",
    "from sklearn.dummy import DummyClassifier\n",
    "from sklearn.metrics import f1_score \n",
    "from sklearn.preprocessing import StandardScaler \n",
    "pd.options.mode.chained_assignment = None\n",
    "from sklearn.model_selection import GridSearchCV\n",
    "from sklearn.utils import shuffle\n",
    "import matplotlib.pyplot as plt\n",
    "import seaborn as sns\n",
    "from sklearn.metrics import confusion_matrix\n",
    "from sklearn.metrics import recall_score\n",
    "from sklearn.metrics import precision_score\n",
    "from sklearn.metrics import precision_recall_curve\n",
    "from sklearn.metrics import roc_auc_score \n",
    "from sklearn.metrics import roc_curve \n"
   ]
  },
  {
   "cell_type": "code",
   "execution_count": 2,
   "metadata": {},
   "outputs": [],
   "source": [
    "# считываем датафрейм\n",
    "try:\n",
    "    df_0 = pd.read_csv('C:\\\\Python\\\\ЯП\\\\проект_6\\\\geo_data_0.csv', sep=',')\n",
    "    df_1 = pd.read_csv('C:\\\\Python\\\\ЯП\\\\проект_6\\\\geo_data_1.csv', sep=',')\n",
    "    df_2 = pd.read_csv('C:\\\\Python\\\\ЯП\\\\проект_6\\\\geo_data_2.csv', sep=',')\n",
    "    \n",
    "except:\n",
    "    df_0 = pd.read_csv('https://code.s3.yandex.net/datasets/geo_data_0.csv', sep=',')\n",
    "    df_1 = pd.read_csv('https://code.s3.yandex.net/datasets/geo_data_1.csv', sep=',')\n",
    "    df_2 = pd.read_csv('https://code.s3.yandex.net/datasets/geo_data_2.csv', sep=',')"
   ]
  },
  {
   "cell_type": "markdown",
   "metadata": {},
   "source": [
    " "
   ]
  },
  {
   "cell_type": "markdown",
   "metadata": {},
   "source": [
    " "
   ]
  },
  {
   "cell_type": "markdown",
   "metadata": {},
   "source": [
    "•\tid — уникальный идентификатор скважины;\n",
    "\n",
    "•\tf0, f1, f2 — три признака точек (неважно, что они означают, но сами признаки значимы);\n",
    "\n",
    "\n",
    "•\tproduct — объём запасов в скважине (тыс. баррелей).\n"
   ]
  },
  {
   "cell_type": "code",
   "execution_count": 3,
   "metadata": {},
   "outputs": [
    {
     "data": {
      "text/html": [
       "<div>\n",
       "<style scoped>\n",
       "    .dataframe tbody tr th:only-of-type {\n",
       "        vertical-align: middle;\n",
       "    }\n",
       "\n",
       "    .dataframe tbody tr th {\n",
       "        vertical-align: top;\n",
       "    }\n",
       "\n",
       "    .dataframe thead th {\n",
       "        text-align: right;\n",
       "    }\n",
       "</style>\n",
       "<table border=\"1\" class=\"dataframe\">\n",
       "  <thead>\n",
       "    <tr style=\"text-align: right;\">\n",
       "      <th></th>\n",
       "      <th>id</th>\n",
       "      <th>f0</th>\n",
       "      <th>f1</th>\n",
       "      <th>f2</th>\n",
       "      <th>product</th>\n",
       "    </tr>\n",
       "  </thead>\n",
       "  <tbody>\n",
       "    <tr>\n",
       "      <th>0</th>\n",
       "      <td>txEyH</td>\n",
       "      <td>0.705745</td>\n",
       "      <td>-0.497823</td>\n",
       "      <td>1.221170</td>\n",
       "      <td>105.280062</td>\n",
       "    </tr>\n",
       "    <tr>\n",
       "      <th>1</th>\n",
       "      <td>2acmU</td>\n",
       "      <td>1.334711</td>\n",
       "      <td>-0.340164</td>\n",
       "      <td>4.365080</td>\n",
       "      <td>73.037750</td>\n",
       "    </tr>\n",
       "    <tr>\n",
       "      <th>2</th>\n",
       "      <td>409Wp</td>\n",
       "      <td>1.022732</td>\n",
       "      <td>0.151990</td>\n",
       "      <td>1.419926</td>\n",
       "      <td>85.265647</td>\n",
       "    </tr>\n",
       "  </tbody>\n",
       "</table>\n",
       "</div>"
      ],
      "text/plain": [
       "      id        f0        f1        f2     product\n",
       "0  txEyH  0.705745 -0.497823  1.221170  105.280062\n",
       "1  2acmU  1.334711 -0.340164  4.365080   73.037750\n",
       "2  409Wp  1.022732  0.151990  1.419926   85.265647"
      ]
     },
     "execution_count": 3,
     "metadata": {},
     "output_type": "execute_result"
    }
   ],
   "source": [
    "df_0.head(3)"
   ]
  },
  {
   "cell_type": "markdown",
   "metadata": {},
   "source": [
    " "
   ]
  },
  {
   "cell_type": "markdown",
   "metadata": {},
   "source": [
    " "
   ]
  },
  {
   "cell_type": "markdown",
   "metadata": {},
   "source": [
    "### Предобработка данных"
   ]
  },
  {
   "cell_type": "code",
   "execution_count": 4,
   "metadata": {},
   "outputs": [
    {
     "name": "stdout",
     "output_type": "stream",
     "text": [
      "Для 0 региона:\n",
      "id         0\n",
      "f0         0\n",
      "f1         0\n",
      "f2         0\n",
      "product    0\n",
      "dtype: int64\n",
      " \n",
      "<class 'pandas.core.frame.DataFrame'>\n",
      "RangeIndex: 100000 entries, 0 to 99999\n",
      "Data columns (total 5 columns):\n",
      " #   Column   Non-Null Count   Dtype  \n",
      "---  ------   --------------   -----  \n",
      " 0   id       100000 non-null  object \n",
      " 1   f0       100000 non-null  float64\n",
      " 2   f1       100000 non-null  float64\n",
      " 3   f2       100000 non-null  float64\n",
      " 4   product  100000 non-null  float64\n",
      "dtypes: float64(4), object(1)\n",
      "memory usage: 3.8+ MB\n",
      "None\n",
      " \n",
      "Размер выборки = (100000, 5)\n",
      " \n",
      "Для 1 региона:\n",
      "id         0\n",
      "f0         0\n",
      "f1         0\n",
      "f2         0\n",
      "product    0\n",
      "dtype: int64\n",
      " \n",
      "<class 'pandas.core.frame.DataFrame'>\n",
      "RangeIndex: 100000 entries, 0 to 99999\n",
      "Data columns (total 5 columns):\n",
      " #   Column   Non-Null Count   Dtype  \n",
      "---  ------   --------------   -----  \n",
      " 0   id       100000 non-null  object \n",
      " 1   f0       100000 non-null  float64\n",
      " 2   f1       100000 non-null  float64\n",
      " 3   f2       100000 non-null  float64\n",
      " 4   product  100000 non-null  float64\n",
      "dtypes: float64(4), object(1)\n",
      "memory usage: 3.8+ MB\n",
      "None\n",
      " \n",
      "Размер выборки = (100000, 5)\n",
      " \n",
      "Для 2 региона:\n",
      "id         0\n",
      "f0         0\n",
      "f1         0\n",
      "f2         0\n",
      "product    0\n",
      "dtype: int64\n",
      " \n",
      "<class 'pandas.core.frame.DataFrame'>\n",
      "RangeIndex: 100000 entries, 0 to 99999\n",
      "Data columns (total 5 columns):\n",
      " #   Column   Non-Null Count   Dtype  \n",
      "---  ------   --------------   -----  \n",
      " 0   id       100000 non-null  object \n",
      " 1   f0       100000 non-null  float64\n",
      " 2   f1       100000 non-null  float64\n",
      " 3   f2       100000 non-null  float64\n",
      " 4   product  100000 non-null  float64\n",
      "dtypes: float64(4), object(1)\n",
      "memory usage: 3.8+ MB\n",
      "None\n",
      " \n",
      "Размер выборки = (100000, 5)\n",
      " \n"
     ]
    }
   ],
   "source": [
    "count = 0\n",
    "for i in [df_0,df_1,df_2]:\n",
    "    print('Для ' + str(count) + ' региона:')\n",
    "    print(i.isnull().sum())\n",
    "    print(' ')\n",
    "    print(i.info())\n",
    "    print(' ')\n",
    "    print('Размер выборки = ' + str(i.shape))\n",
    "    print(' ')\n",
    "    count+= 1"
   ]
  },
  {
   "cell_type": "markdown",
   "metadata": {},
   "source": [
    "Пропусков в данных нет, все три датафрейма одинаковых размеров."
   ]
  },
  {
   "cell_type": "markdown",
   "metadata": {},
   "source": [
    " "
   ]
  },
  {
   "cell_type": "markdown",
   "metadata": {},
   "source": [
    " "
   ]
  },
  {
   "cell_type": "markdown",
   "metadata": {},
   "source": [
    "Проверим столбец id на наличие дубликатов"
   ]
  },
  {
   "cell_type": "code",
   "execution_count": 5,
   "metadata": {},
   "outputs": [
    {
     "data": {
      "text/plain": [
       "10"
      ]
     },
     "execution_count": 5,
     "metadata": {},
     "output_type": "execute_result"
    }
   ],
   "source": [
    "df_0['id'].duplicated().sum()"
   ]
  },
  {
   "cell_type": "code",
   "execution_count": 6,
   "metadata": {},
   "outputs": [
    {
     "data": {
      "text/plain": [
       "4"
      ]
     },
     "execution_count": 6,
     "metadata": {},
     "output_type": "execute_result"
    }
   ],
   "source": [
    "df_1['id'].duplicated().sum()"
   ]
  },
  {
   "cell_type": "code",
   "execution_count": 7,
   "metadata": {},
   "outputs": [
    {
     "data": {
      "text/plain": [
       "4"
      ]
     },
     "execution_count": 7,
     "metadata": {},
     "output_type": "execute_result"
    }
   ],
   "source": [
    "df_2['id'].duplicated().sum()"
   ]
  },
  {
   "cell_type": "markdown",
   "metadata": {},
   "source": [
    "Удалим дубликаты"
   ]
  },
  {
   "cell_type": "code",
   "execution_count": 8,
   "metadata": {},
   "outputs": [],
   "source": [
    "df_0=df_0.drop(df_0[df_0['id'].duplicated()].index)\n",
    "df_1=df_1.drop(df_1[df_1['id'].duplicated()].index)\n",
    "df_2=df_2.drop(df_2[df_2['id'].duplicated()].index)"
   ]
  },
  {
   "cell_type": "markdown",
   "metadata": {},
   "source": [
    "Дубликатов в столбцах с id больше нет"
   ]
  },
  {
   "cell_type": "markdown",
   "metadata": {},
   "source": [
    " "
   ]
  },
  {
   "cell_type": "markdown",
   "metadata": {},
   "source": [
    " "
   ]
  },
  {
   "cell_type": "markdown",
   "metadata": {},
   "source": [
    "#### Исследуем нулевой регион"
   ]
  },
  {
   "cell_type": "code",
   "execution_count": 9,
   "metadata": {},
   "outputs": [
    {
     "data": {
      "text/html": [
       "<div>\n",
       "<style scoped>\n",
       "    .dataframe tbody tr th:only-of-type {\n",
       "        vertical-align: middle;\n",
       "    }\n",
       "\n",
       "    .dataframe tbody tr th {\n",
       "        vertical-align: top;\n",
       "    }\n",
       "\n",
       "    .dataframe thead th {\n",
       "        text-align: right;\n",
       "    }\n",
       "</style>\n",
       "<table border=\"1\" class=\"dataframe\">\n",
       "  <thead>\n",
       "    <tr style=\"text-align: right;\">\n",
       "      <th></th>\n",
       "      <th>f0</th>\n",
       "      <th>f1</th>\n",
       "      <th>f2</th>\n",
       "      <th>product</th>\n",
       "    </tr>\n",
       "  </thead>\n",
       "  <tbody>\n",
       "    <tr>\n",
       "      <th>count</th>\n",
       "      <td>99990.000000</td>\n",
       "      <td>99990.000000</td>\n",
       "      <td>99990.000000</td>\n",
       "      <td>99990.000000</td>\n",
       "    </tr>\n",
       "    <tr>\n",
       "      <th>mean</th>\n",
       "      <td>0.500454</td>\n",
       "      <td>0.250141</td>\n",
       "      <td>2.502629</td>\n",
       "      <td>92.499684</td>\n",
       "    </tr>\n",
       "    <tr>\n",
       "      <th>std</th>\n",
       "      <td>0.871844</td>\n",
       "      <td>0.504430</td>\n",
       "      <td>3.248149</td>\n",
       "      <td>44.288304</td>\n",
       "    </tr>\n",
       "    <tr>\n",
       "      <th>min</th>\n",
       "      <td>-1.408605</td>\n",
       "      <td>-0.848218</td>\n",
       "      <td>-12.088328</td>\n",
       "      <td>0.000000</td>\n",
       "    </tr>\n",
       "    <tr>\n",
       "      <th>25%</th>\n",
       "      <td>-0.072572</td>\n",
       "      <td>-0.200877</td>\n",
       "      <td>0.287784</td>\n",
       "      <td>56.497069</td>\n",
       "    </tr>\n",
       "    <tr>\n",
       "      <th>50%</th>\n",
       "      <td>0.502405</td>\n",
       "      <td>0.250252</td>\n",
       "      <td>2.515969</td>\n",
       "      <td>91.847928</td>\n",
       "    </tr>\n",
       "    <tr>\n",
       "      <th>75%</th>\n",
       "      <td>1.073626</td>\n",
       "      <td>0.700640</td>\n",
       "      <td>4.715035</td>\n",
       "      <td>128.563699</td>\n",
       "    </tr>\n",
       "    <tr>\n",
       "      <th>max</th>\n",
       "      <td>2.362331</td>\n",
       "      <td>1.343769</td>\n",
       "      <td>16.003790</td>\n",
       "      <td>185.364347</td>\n",
       "    </tr>\n",
       "  </tbody>\n",
       "</table>\n",
       "</div>"
      ],
      "text/plain": [
       "                 f0            f1            f2       product\n",
       "count  99990.000000  99990.000000  99990.000000  99990.000000\n",
       "mean       0.500454      0.250141      2.502629     92.499684\n",
       "std        0.871844      0.504430      3.248149     44.288304\n",
       "min       -1.408605     -0.848218    -12.088328      0.000000\n",
       "25%       -0.072572     -0.200877      0.287784     56.497069\n",
       "50%        0.502405      0.250252      2.515969     91.847928\n",
       "75%        1.073626      0.700640      4.715035    128.563699\n",
       "max        2.362331      1.343769     16.003790    185.364347"
      ]
     },
     "execution_count": 9,
     "metadata": {},
     "output_type": "execute_result"
    }
   ],
   "source": [
    "df_0.describe()"
   ]
  },
  {
   "cell_type": "code",
   "execution_count": 10,
   "metadata": {},
   "outputs": [
    {
     "data": {
      "image/png": "[encoded data removed]",
      "text/plain": [
       "<Figure size 504x504 with 1 Axes>"
      ]
     },
     "metadata": {
      "needs_background": "light"
     },
     "output_type": "display_data"
    }
   ],
   "source": [
    "df_0[['f0','f1','f2']].boxplot(figsize=(7,7));"
   ]
  },
  {
   "cell_type": "code",
   "execution_count": 11,
   "metadata": {},
   "outputs": [
    {
     "data": {
      "image/png": "[encoded data removed]",
      "text/plain": [
       "<Figure size 432x288 with 1 Axes>"
      ]
     },
     "metadata": {
      "needs_background": "light"
     },
     "output_type": "display_data"
    }
   ],
   "source": [
    "df_0['f0'].hist(bins = 100);"
   ]
  },
  {
   "cell_type": "code",
   "execution_count": 12,
   "metadata": {},
   "outputs": [
    {
     "data": {
      "image/png": "[encoded data removed]",
      "text/plain": [
       "<Figure size 432x288 with 1 Axes>"
      ]
     },
     "metadata": {
      "needs_background": "light"
     },
     "output_type": "display_data"
    }
   ],
   "source": [
    "df_0['f1'].hist(bins = 100);"
   ]
  },
  {
   "cell_type": "code",
   "execution_count": 13,
   "metadata": {},
   "outputs": [
    {
     "data": {
      "image/png": "[encoded data removed]",
      "text/plain": [
       "<Figure size 432x288 with 1 Axes>"
      ]
     },
     "metadata": {
      "needs_background": "light"
     },
     "output_type": "display_data"
    }
   ],
   "source": [
    "df_0['f2'].hist(bins = 100);"
   ]
  },
  {
   "cell_type": "markdown",
   "metadata": {},
   "source": [
    "Судя по боксплоту и гистограммам у признака f2 много выбросов и он имеет нормальное распределение. У метрик f1 f0 распределение ненормальное, но и выбросов нет"
   ]
  },
  {
   "cell_type": "markdown",
   "metadata": {},
   "source": [
    "Удалим выбросы:"
   ]
  },
  {
   "cell_type": "code",
   "execution_count": 14,
   "metadata": {},
   "outputs": [
    {
     "data": {
      "text/plain": [
       "(233, 5)"
      ]
     },
     "execution_count": 14,
     "metadata": {},
     "output_type": "execute_result"
    }
   ],
   "source": [
    "df_0[df_0['f2'] > 11.45].shape"
   ]
  },
  {
   "cell_type": "code",
   "execution_count": 15,
   "metadata": {},
   "outputs": [
    {
     "data": {
      "text/plain": [
       "(237, 5)"
      ]
     },
     "execution_count": 15,
     "metadata": {},
     "output_type": "execute_result"
    }
   ],
   "source": [
    "df_0[df_0['f2'] < -6.45].shape"
   ]
  },
  {
   "cell_type": "code",
   "execution_count": 16,
   "metadata": {},
   "outputs": [
    {
     "data": {
      "text/plain": [
       "(99990, 5)"
      ]
     },
     "execution_count": 16,
     "metadata": {},
     "output_type": "execute_result"
    }
   ],
   "source": [
    "df_0.shape"
   ]
  },
  {
   "cell_type": "code",
   "execution_count": 17,
   "metadata": {},
   "outputs": [],
   "source": [
    "df_0=df_0.drop(df_0[df_0['f2'] > 11.4].index)"
   ]
  },
  {
   "cell_type": "code",
   "execution_count": 18,
   "metadata": {},
   "outputs": [],
   "source": [
    "df_0=df_0.drop(df_0[df_0['f2'] < -6.4].index)"
   ]
  },
  {
   "cell_type": "code",
   "execution_count": 19,
   "metadata": {},
   "outputs": [
    {
     "data": {
      "text/plain": [
       "(99498, 5)"
      ]
     },
     "execution_count": 19,
     "metadata": {},
     "output_type": "execute_result"
    }
   ],
   "source": [
    "df_0.shape"
   ]
  },
  {
   "cell_type": "markdown",
   "metadata": {},
   "source": [
    "удалили корректно. Объем удаленных данных меньше процента"
   ]
  },
  {
   "cell_type": "markdown",
   "metadata": {},
   "source": [
    " "
   ]
  },
  {
   "cell_type": "markdown",
   "metadata": {},
   "source": [
    "#### Исследуем первый регион"
   ]
  },
  {
   "cell_type": "code",
   "execution_count": 20,
   "metadata": {},
   "outputs": [
    {
     "data": {
      "text/html": [
       "<div>\n",
       "<style scoped>\n",
       "    .dataframe tbody tr th:only-of-type {\n",
       "        vertical-align: middle;\n",
       "    }\n",
       "\n",
       "    .dataframe tbody tr th {\n",
       "        vertical-align: top;\n",
       "    }\n",
       "\n",
       "    .dataframe thead th {\n",
       "        text-align: right;\n",
       "    }\n",
       "</style>\n",
       "<table border=\"1\" class=\"dataframe\">\n",
       "  <thead>\n",
       "    <tr style=\"text-align: right;\">\n",
       "      <th></th>\n",
       "      <th>f0</th>\n",
       "      <th>f1</th>\n",
       "      <th>f2</th>\n",
       "      <th>product</th>\n",
       "    </tr>\n",
       "  </thead>\n",
       "  <tbody>\n",
       "    <tr>\n",
       "      <th>count</th>\n",
       "      <td>99996.000000</td>\n",
       "      <td>99996.000000</td>\n",
       "      <td>99996.000000</td>\n",
       "      <td>99996.000000</td>\n",
       "    </tr>\n",
       "    <tr>\n",
       "      <th>mean</th>\n",
       "      <td>1.141209</td>\n",
       "      <td>-4.796608</td>\n",
       "      <td>2.494501</td>\n",
       "      <td>68.823916</td>\n",
       "    </tr>\n",
       "    <tr>\n",
       "      <th>std</th>\n",
       "      <td>8.965815</td>\n",
       "      <td>5.119906</td>\n",
       "      <td>1.703579</td>\n",
       "      <td>45.944663</td>\n",
       "    </tr>\n",
       "    <tr>\n",
       "      <th>min</th>\n",
       "      <td>-31.609576</td>\n",
       "      <td>-26.358598</td>\n",
       "      <td>-0.018144</td>\n",
       "      <td>0.000000</td>\n",
       "    </tr>\n",
       "    <tr>\n",
       "      <th>25%</th>\n",
       "      <td>-6.298551</td>\n",
       "      <td>-8.267985</td>\n",
       "      <td>1.000021</td>\n",
       "      <td>26.953261</td>\n",
       "    </tr>\n",
       "    <tr>\n",
       "      <th>50%</th>\n",
       "      <td>1.153055</td>\n",
       "      <td>-4.813172</td>\n",
       "      <td>2.011475</td>\n",
       "      <td>57.085625</td>\n",
       "    </tr>\n",
       "    <tr>\n",
       "      <th>75%</th>\n",
       "      <td>8.620964</td>\n",
       "      <td>-1.332816</td>\n",
       "      <td>3.999904</td>\n",
       "      <td>107.813044</td>\n",
       "    </tr>\n",
       "    <tr>\n",
       "      <th>max</th>\n",
       "      <td>29.421755</td>\n",
       "      <td>18.734063</td>\n",
       "      <td>5.019721</td>\n",
       "      <td>137.945408</td>\n",
       "    </tr>\n",
       "  </tbody>\n",
       "</table>\n",
       "</div>"
      ],
      "text/plain": [
       "                 f0            f1            f2       product\n",
       "count  99996.000000  99996.000000  99996.000000  99996.000000\n",
       "mean       1.141209     -4.796608      2.494501     68.823916\n",
       "std        8.965815      5.119906      1.703579     45.944663\n",
       "min      -31.609576    -26.358598     -0.018144      0.000000\n",
       "25%       -6.298551     -8.267985      1.000021     26.953261\n",
       "50%        1.153055     -4.813172      2.011475     57.085625\n",
       "75%        8.620964     -1.332816      3.999904    107.813044\n",
       "max       29.421755     18.734063      5.019721    137.945408"
      ]
     },
     "execution_count": 20,
     "metadata": {},
     "output_type": "execute_result"
    }
   ],
   "source": [
    "df_1.describe()"
   ]
  },
  {
   "cell_type": "code",
   "execution_count": 21,
   "metadata": {},
   "outputs": [
    {
     "data": {
      "image/png": "[encoded data removed]",
      "text/plain": [
       "<Figure size 504x504 with 1 Axes>"
      ]
     },
     "metadata": {
      "needs_background": "light"
     },
     "output_type": "display_data"
    }
   ],
   "source": [
    "df_1[['f0','f1','f2']].boxplot(figsize = (7,7));"
   ]
  },
  {
   "cell_type": "code",
   "execution_count": 22,
   "metadata": {},
   "outputs": [
    {
     "data": {
      "image/png": "[encoded data removed]",
      "text/plain": [
       "<Figure size 432x288 with 1 Axes>"
      ]
     },
     "metadata": {
      "needs_background": "light"
     },
     "output_type": "display_data"
    }
   ],
   "source": [
    "df_1['f0'].hist(bins = 100);"
   ]
  },
  {
   "cell_type": "code",
   "execution_count": 23,
   "metadata": {},
   "outputs": [
    {
     "data": {
      "image/png": "[encoded data removed]",
      "text/plain": [
       "<Figure size 432x288 with 1 Axes>"
      ]
     },
     "metadata": {
      "needs_background": "light"
     },
     "output_type": "display_data"
    }
   ],
   "source": [
    "df_1['f1'].hist(bins = 100);"
   ]
  },
  {
   "cell_type": "code",
   "execution_count": 24,
   "metadata": {},
   "outputs": [
    {
     "data": {
      "image/png": "[encoded data removed]",
      "text/plain": [
       "<Figure size 432x288 with 1 Axes>"
      ]
     },
     "metadata": {
      "needs_background": "light"
     },
     "output_type": "display_data"
    }
   ],
   "source": [
    "df_1['f2'].hist(bins = 100);"
   ]
  },
  {
   "cell_type": "markdown",
   "metadata": {},
   "source": [
    "Судя по боксплоту и гистограммам у признака f1 много выбросов и он имеет нормальное распределение. У метрик f2 f0 распределение ненормальное, но и выбросов нет"
   ]
  },
  {
   "cell_type": "markdown",
   "metadata": {},
   "source": [
    " "
   ]
  },
  {
   "cell_type": "markdown",
   "metadata": {},
   "source": [
    "Удалим выбросы:"
   ]
  },
  {
   "cell_type": "code",
   "execution_count": 25,
   "metadata": {},
   "outputs": [
    {
     "data": {
      "text/plain": [
       "(348, 5)"
      ]
     },
     "execution_count": 25,
     "metadata": {},
     "output_type": "execute_result"
    }
   ],
   "source": [
    "df_1[df_1['f1'] > 9].shape"
   ]
  },
  {
   "cell_type": "code",
   "execution_count": 26,
   "metadata": {},
   "outputs": [
    {
     "data": {
      "text/plain": [
       "(335, 5)"
      ]
     },
     "execution_count": 26,
     "metadata": {},
     "output_type": "execute_result"
    }
   ],
   "source": [
    "df_1[df_1['f1'] < -18.5].shape"
   ]
  },
  {
   "cell_type": "code",
   "execution_count": 27,
   "metadata": {},
   "outputs": [],
   "source": [
    "df_1=df_1.drop(df_1[df_1['f1'] > 9].index)"
   ]
  },
  {
   "cell_type": "code",
   "execution_count": 28,
   "metadata": {},
   "outputs": [],
   "source": [
    "df_1=df_1.drop(df_1[df_1['f1'] < -18.5].index)"
   ]
  },
  {
   "cell_type": "code",
   "execution_count": 29,
   "metadata": {},
   "outputs": [
    {
     "data": {
      "text/plain": [
       "(99313, 5)"
      ]
     },
     "execution_count": 29,
     "metadata": {},
     "output_type": "execute_result"
    }
   ],
   "source": [
    "df_1.shape"
   ]
  },
  {
   "cell_type": "markdown",
   "metadata": {},
   "source": [
    " "
   ]
  },
  {
   "cell_type": "markdown",
   "metadata": {},
   "source": [
    "  "
   ]
  },
  {
   "cell_type": "markdown",
   "metadata": {},
   "source": [
    "#### Исследуем второй регион"
   ]
  },
  {
   "cell_type": "code",
   "execution_count": 30,
   "metadata": {},
   "outputs": [
    {
     "data": {
      "text/html": [
       "<div>\n",
       "<style scoped>\n",
       "    .dataframe tbody tr th:only-of-type {\n",
       "        vertical-align: middle;\n",
       "    }\n",
       "\n",
       "    .dataframe tbody tr th {\n",
       "        vertical-align: top;\n",
       "    }\n",
       "\n",
       "    .dataframe thead th {\n",
       "        text-align: right;\n",
       "    }\n",
       "</style>\n",
       "<table border=\"1\" class=\"dataframe\">\n",
       "  <thead>\n",
       "    <tr style=\"text-align: right;\">\n",
       "      <th></th>\n",
       "      <th>f0</th>\n",
       "      <th>f1</th>\n",
       "      <th>f2</th>\n",
       "      <th>product</th>\n",
       "    </tr>\n",
       "  </thead>\n",
       "  <tbody>\n",
       "    <tr>\n",
       "      <th>count</th>\n",
       "      <td>99996.000000</td>\n",
       "      <td>99996.000000</td>\n",
       "      <td>99996.000000</td>\n",
       "      <td>99996.000000</td>\n",
       "    </tr>\n",
       "    <tr>\n",
       "      <th>mean</th>\n",
       "      <td>0.002002</td>\n",
       "      <td>-0.002159</td>\n",
       "      <td>2.495084</td>\n",
       "      <td>94.998342</td>\n",
       "    </tr>\n",
       "    <tr>\n",
       "      <th>std</th>\n",
       "      <td>1.732052</td>\n",
       "      <td>1.730397</td>\n",
       "      <td>3.473482</td>\n",
       "      <td>44.749573</td>\n",
       "    </tr>\n",
       "    <tr>\n",
       "      <th>min</th>\n",
       "      <td>-8.760004</td>\n",
       "      <td>-7.084020</td>\n",
       "      <td>-11.970335</td>\n",
       "      <td>0.000000</td>\n",
       "    </tr>\n",
       "    <tr>\n",
       "      <th>25%</th>\n",
       "      <td>-1.162328</td>\n",
       "      <td>-1.174841</td>\n",
       "      <td>0.130269</td>\n",
       "      <td>59.450028</td>\n",
       "    </tr>\n",
       "    <tr>\n",
       "      <th>50%</th>\n",
       "      <td>0.009424</td>\n",
       "      <td>-0.009661</td>\n",
       "      <td>2.484236</td>\n",
       "      <td>94.925026</td>\n",
       "    </tr>\n",
       "    <tr>\n",
       "      <th>75%</th>\n",
       "      <td>1.158477</td>\n",
       "      <td>1.163523</td>\n",
       "      <td>4.858720</td>\n",
       "      <td>130.586815</td>\n",
       "    </tr>\n",
       "    <tr>\n",
       "      <th>max</th>\n",
       "      <td>7.238262</td>\n",
       "      <td>7.844801</td>\n",
       "      <td>16.739402</td>\n",
       "      <td>190.029838</td>\n",
       "    </tr>\n",
       "  </tbody>\n",
       "</table>\n",
       "</div>"
      ],
      "text/plain": [
       "                 f0            f1            f2       product\n",
       "count  99996.000000  99996.000000  99996.000000  99996.000000\n",
       "mean       0.002002     -0.002159      2.495084     94.998342\n",
       "std        1.732052      1.730397      3.473482     44.749573\n",
       "min       -8.760004     -7.084020    -11.970335      0.000000\n",
       "25%       -1.162328     -1.174841      0.130269     59.450028\n",
       "50%        0.009424     -0.009661      2.484236     94.925026\n",
       "75%        1.158477      1.163523      4.858720    130.586815\n",
       "max        7.238262      7.844801     16.739402    190.029838"
      ]
     },
     "execution_count": 30,
     "metadata": {},
     "output_type": "execute_result"
    }
   ],
   "source": [
    "df_2.describe()"
   ]
  },
  {
   "cell_type": "code",
   "execution_count": 31,
   "metadata": {},
   "outputs": [
    {
     "data": {
      "image/png": "[encoded data removed]",
      "text/plain": [
       "<Figure size 504x504 with 1 Axes>"
      ]
     },
     "metadata": {
      "needs_background": "light"
     },
     "output_type": "display_data"
    }
   ],
   "source": [
    "df_2[['f0','f1','f2']].boxplot(figsize = (7,7));"
   ]
  },
  {
   "cell_type": "code",
   "execution_count": 32,
   "metadata": {},
   "outputs": [],
   "source": [
    "df_2=df_2.drop(df_2[df_2['f0'] > 4.5].index)"
   ]
  },
  {
   "cell_type": "code",
   "execution_count": 33,
   "metadata": {},
   "outputs": [],
   "source": [
    "df_2=df_2.drop(df_2[df_2['f0'] < -4].index)"
   ]
  },
  {
   "cell_type": "markdown",
   "metadata": {},
   "source": [
    " "
   ]
  },
  {
   "cell_type": "code",
   "execution_count": 34,
   "metadata": {},
   "outputs": [],
   "source": [
    "df_2=df_2.drop(df_2[df_2['f1'] > 4.5].index)"
   ]
  },
  {
   "cell_type": "code",
   "execution_count": 35,
   "metadata": {},
   "outputs": [],
   "source": [
    "df_2=df_2.drop(df_2[df_2['f1'] < -4].index)"
   ]
  },
  {
   "cell_type": "markdown",
   "metadata": {},
   "source": [
    " "
   ]
  },
  {
   "cell_type": "code",
   "execution_count": 36,
   "metadata": {},
   "outputs": [],
   "source": [
    "df_2=df_2.drop(df_2[df_2['f2'] > 11.5].index)"
   ]
  },
  {
   "cell_type": "code",
   "execution_count": 37,
   "metadata": {},
   "outputs": [],
   "source": [
    "df_2=df_2.drop(df_2[df_2['f2'] < -6.5].index)"
   ]
  },
  {
   "cell_type": "code",
   "execution_count": 38,
   "metadata": {},
   "outputs": [
    {
     "data": {
      "text/plain": [
       "(96172, 5)"
      ]
     },
     "execution_count": 38,
     "metadata": {},
     "output_type": "execute_result"
    }
   ],
   "source": [
    "df_2.shape"
   ]
  },
  {
   "cell_type": "code",
   "execution_count": 39,
   "metadata": {},
   "outputs": [
    {
     "data": {
      "image/png": "[encoded data removed]",
      "text/plain": [
       "<Figure size 432x288 with 1 Axes>"
      ]
     },
     "metadata": {
      "needs_background": "light"
     },
     "output_type": "display_data"
    }
   ],
   "source": [
    "df_2['f0'].hist(bins = 100);"
   ]
  },
  {
   "cell_type": "code",
   "execution_count": 40,
   "metadata": {},
   "outputs": [
    {
     "data": {
      "image/png": "[encoded data removed]",
      "text/plain": [
       "<Figure size 432x288 with 1 Axes>"
      ]
     },
     "metadata": {
      "needs_background": "light"
     },
     "output_type": "display_data"
    }
   ],
   "source": [
    "df_2['f1'].hist(bins = 100);"
   ]
  },
  {
   "cell_type": "code",
   "execution_count": 41,
   "metadata": {},
   "outputs": [
    {
     "data": {
      "image/png": "[encoded data removed]",
      "text/plain": [
       "<Figure size 432x288 with 1 Axes>"
      ]
     },
     "metadata": {
      "needs_background": "light"
     },
     "output_type": "display_data"
    }
   ],
   "source": [
    "df_2['f2'].hist(bins = 100);"
   ]
  },
  {
   "cell_type": "markdown",
   "metadata": {},
   "source": [
    "Судя по боксплоту и гистограммам у признаков f0,f1,f2 много выбросов и они имеют нормальное распределение."
   ]
  },
  {
   "cell_type": "markdown",
   "metadata": {},
   "source": [
    "Выводы: Предобработали данные 3-х датасетов. Устранили дубликаты и выбросы. Исследовали форму распределения."
   ]
  },
  {
   "cell_type": "markdown",
   "metadata": {},
   "source": [
    " "
   ]
  },
  {
   "cell_type": "markdown",
   "metadata": {},
   "source": [
    " "
   ]
  },
  {
   "cell_type": "markdown",
   "metadata": {},
   "source": [
    " "
   ]
  },
  {
   "cell_type": "markdown",
   "metadata": {},
   "source": [
    "### Построение модели линейной регрессии"
   ]
  },
  {
   "cell_type": "markdown",
   "metadata": {},
   "source": [
    "Отделим фичи от таргетных значений"
   ]
  },
  {
   "cell_type": "code",
   "execution_count": 42,
   "metadata": {},
   "outputs": [],
   "source": [
    "features_0 = df_0.drop(['product','id'], axis = 1)# извлеките признаки \n",
    "target_0 = df_0['product'] # извлеките целевой признак"
   ]
  },
  {
   "cell_type": "markdown",
   "metadata": {},
   "source": [
    "разобьем на трейновую и тестовую выборки"
   ]
  },
  {
   "cell_type": "code",
   "execution_count": 43,
   "metadata": {},
   "outputs": [],
   "source": [
    "features_train_0, features_valid_0, target_train_0, target_valid_0 = train_test_split(\n",
    "    features_0, target_0, test_size = 0.25, random_state = 12345) # отделите 25% данных для вал-ой выборки"
   ]
  },
  {
   "cell_type": "markdown",
   "metadata": {},
   "source": [
    " "
   ]
  },
  {
   "cell_type": "code",
   "execution_count": 44,
   "metadata": {},
   "outputs": [
    {
     "data": {
      "text/html": [
       "<div>\n",
       "<style scoped>\n",
       "    .dataframe tbody tr th:only-of-type {\n",
       "        vertical-align: middle;\n",
       "    }\n",
       "\n",
       "    .dataframe tbody tr th {\n",
       "        vertical-align: top;\n",
       "    }\n",
       "\n",
       "    .dataframe thead th {\n",
       "        text-align: right;\n",
       "    }\n",
       "</style>\n",
       "<table border=\"1\" class=\"dataframe\">\n",
       "  <thead>\n",
       "    <tr style=\"text-align: right;\">\n",
       "      <th></th>\n",
       "      <th>id</th>\n",
       "      <th>f0</th>\n",
       "      <th>f1</th>\n",
       "      <th>f2</th>\n",
       "      <th>product</th>\n",
       "    </tr>\n",
       "  </thead>\n",
       "  <tbody>\n",
       "    <tr>\n",
       "      <th>0</th>\n",
       "      <td>kBEdx</td>\n",
       "      <td>-15.001348</td>\n",
       "      <td>-8.276000</td>\n",
       "      <td>-0.005876</td>\n",
       "      <td>3.179103</td>\n",
       "    </tr>\n",
       "    <tr>\n",
       "      <th>1</th>\n",
       "      <td>62mP7</td>\n",
       "      <td>14.272088</td>\n",
       "      <td>-3.475083</td>\n",
       "      <td>0.999183</td>\n",
       "      <td>26.953261</td>\n",
       "    </tr>\n",
       "    <tr>\n",
       "      <th>2</th>\n",
       "      <td>vyE1P</td>\n",
       "      <td>6.263187</td>\n",
       "      <td>-5.948386</td>\n",
       "      <td>5.001160</td>\n",
       "      <td>134.766305</td>\n",
       "    </tr>\n",
       "  </tbody>\n",
       "</table>\n",
       "</div>"
      ],
      "text/plain": [
       "      id         f0        f1        f2     product\n",
       "0  kBEdx -15.001348 -8.276000 -0.005876    3.179103\n",
       "1  62mP7  14.272088 -3.475083  0.999183   26.953261\n",
       "2  vyE1P   6.263187 -5.948386  5.001160  134.766305"
      ]
     },
     "execution_count": 44,
     "metadata": {},
     "output_type": "execute_result"
    }
   ],
   "source": [
    "df_1.head(3)"
   ]
  },
  {
   "cell_type": "code",
   "execution_count": 45,
   "metadata": {},
   "outputs": [],
   "source": [
    "features_1 = df_1.drop(['product','id'], axis = 1)\n",
    "target_1 = df_1['product'] "
   ]
  },
  {
   "cell_type": "code",
   "execution_count": 46,
   "metadata": {},
   "outputs": [],
   "source": [
    "features_train_1, features_valid_1, target_train_1, target_valid_1 = train_test_split(\n",
    "    features_1, target_1, test_size = 0.25, random_state = 12345)"
   ]
  },
  {
   "cell_type": "markdown",
   "metadata": {},
   "source": [
    " "
   ]
  },
  {
   "cell_type": "code",
   "execution_count": 47,
   "metadata": {},
   "outputs": [
    {
     "data": {
      "text/html": [
       "<div>\n",
       "<style scoped>\n",
       "    .dataframe tbody tr th:only-of-type {\n",
       "        vertical-align: middle;\n",
       "    }\n",
       "\n",
       "    .dataframe tbody tr th {\n",
       "        vertical-align: top;\n",
       "    }\n",
       "\n",
       "    .dataframe thead th {\n",
       "        text-align: right;\n",
       "    }\n",
       "</style>\n",
       "<table border=\"1\" class=\"dataframe\">\n",
       "  <thead>\n",
       "    <tr style=\"text-align: right;\">\n",
       "      <th></th>\n",
       "      <th>id</th>\n",
       "      <th>f0</th>\n",
       "      <th>f1</th>\n",
       "      <th>f2</th>\n",
       "      <th>product</th>\n",
       "    </tr>\n",
       "  </thead>\n",
       "  <tbody>\n",
       "    <tr>\n",
       "      <th>0</th>\n",
       "      <td>fwXo0</td>\n",
       "      <td>-1.146987</td>\n",
       "      <td>0.963328</td>\n",
       "      <td>-0.828965</td>\n",
       "      <td>27.758673</td>\n",
       "    </tr>\n",
       "    <tr>\n",
       "      <th>1</th>\n",
       "      <td>WJtFt</td>\n",
       "      <td>0.262778</td>\n",
       "      <td>0.269839</td>\n",
       "      <td>-2.530187</td>\n",
       "      <td>56.069697</td>\n",
       "    </tr>\n",
       "    <tr>\n",
       "      <th>2</th>\n",
       "      <td>ovLUW</td>\n",
       "      <td>0.194587</td>\n",
       "      <td>0.289035</td>\n",
       "      <td>-5.586433</td>\n",
       "      <td>62.871910</td>\n",
       "    </tr>\n",
       "  </tbody>\n",
       "</table>\n",
       "</div>"
      ],
      "text/plain": [
       "      id        f0        f1        f2    product\n",
       "0  fwXo0 -1.146987  0.963328 -0.828965  27.758673\n",
       "1  WJtFt  0.262778  0.269839 -2.530187  56.069697\n",
       "2  ovLUW  0.194587  0.289035 -5.586433  62.871910"
      ]
     },
     "execution_count": 47,
     "metadata": {},
     "output_type": "execute_result"
    }
   ],
   "source": [
    "df_2.head(3)"
   ]
  },
  {
   "cell_type": "code",
   "execution_count": 48,
   "metadata": {},
   "outputs": [],
   "source": [
    "features_2 = df_2.drop(['product','id'], axis = 1)\n",
    "target_2 = df_2['product']"
   ]
  },
  {
   "cell_type": "code",
   "execution_count": 49,
   "metadata": {},
   "outputs": [],
   "source": [
    "features_train_2, features_valid_2, target_train_2, target_valid_2 = train_test_split(\n",
    "    features_2, target_2, test_size = 0.25, random_state = 12345)"
   ]
  },
  {
   "cell_type": "markdown",
   "metadata": {},
   "source": [
    " "
   ]
  },
  {
   "cell_type": "markdown",
   "metadata": {},
   "source": [
    " "
   ]
  },
  {
   "cell_type": "markdown",
   "metadata": {},
   "source": [
    "инициализируем модель LinearRegression и оформим как функцию"
   ]
  },
  {
   "cell_type": "code",
   "execution_count": 50,
   "metadata": {},
   "outputs": [],
   "source": [
    "def funk_model(features_train,target_train,target_valid, features_valid):\n",
    "    \n",
    "    model = LinearRegression()\n",
    "    model.fit(features_train, target_train) \n",
    "    predictions_valid = model.predict(features_valid) # получите предсказания модели на валидационной выборке\n",
    "    mean = predictions_valid.mean()\n",
    "    MSE = mean_squared_error(target_valid, predictions_valid)\n",
    "    RMSE = MSE**0.5# посчитайте значение метрики RMSE на валидационной выборке\n",
    "    \n",
    "    print(\"RMSE модели линейной регрессии на валидационной выборке:\", RMSE )\n",
    "    print(\"средний запас предсказанного сырья месторождения\", mean )\n",
    "    print(' ')\n",
    "    return predictions_valid"
   ]
  },
  {
   "cell_type": "markdown",
   "metadata": {},
   "source": [
    " "
   ]
  },
  {
   "cell_type": "markdown",
   "metadata": {},
   "source": [
    " "
   ]
  },
  {
   "cell_type": "markdown",
   "metadata": {},
   "source": [
    "Применим функцию с помощью цикла:"
   ]
  },
  {
   "cell_type": "code",
   "execution_count": 51,
   "metadata": {},
   "outputs": [
    {
     "name": "stdout",
     "output_type": "stream",
     "text": [
      "Для месторождения № 0\n",
      "RMSE модели линейной регрессии на валидационной выборке: 37.704227357074025\n",
      "средний запас предсказанного сырья месторождения 92.4657279462084\n",
      " \n",
      "Для месторождения № 1\n",
      "RMSE модели линейной регрессии на валидационной выборке: 0.8957076630622065\n",
      "средний запас предсказанного сырья месторождения 69.06478300011143\n",
      " \n",
      "Для месторождения № 2\n",
      "RMSE модели линейной регрессии на валидационной выборке: 39.9453565736291\n",
      "средний запас предсказанного сырья месторождения 94.8292213272688\n",
      " \n"
     ]
    }
   ],
   "source": [
    "predictions_valid_0 = []\n",
    "predictions_valid_1 = []\n",
    "predictions_valid_2 = []\n",
    "count=0\n",
    "for i in [(features_train_0,target_train_0,target_valid_0, features_valid_0,predictions_valid_0),\n",
    "          (features_train_1,target_train_1,target_valid_1, features_valid_1,predictions_valid_1),\n",
    "          (features_train_2,target_train_2,target_valid_2, features_valid_2,predictions_valid_2)]:\n",
    "    print('Для месторождения №',count)\n",
    "    pred = funk_model(i[0],i[1],i[2],i[3])\n",
    "    i[4].append(pred)\n",
    "    count+=1"
   ]
  },
  {
   "cell_type": "code",
   "execution_count": 52,
   "metadata": {},
   "outputs": [
    {
     "data": {
      "text/plain": [
       "[array([103.26132529, 112.04872114,  83.43594111, ...,  98.26492643,\n",
       "         55.67217845,  82.20299732])]"
      ]
     },
     "execution_count": 52,
     "metadata": {},
     "output_type": "execute_result"
    }
   ],
   "source": [
    "predictions_valid_0"
   ]
  },
  {
   "cell_type": "markdown",
   "metadata": {},
   "source": [
    " "
   ]
  },
  {
   "cell_type": "markdown",
   "metadata": {},
   "source": [
    "Применим функцию к трем регионам"
   ]
  },
  {
   "cell_type": "code",
   "execution_count": 53,
   "metadata": {},
   "outputs": [
    {
     "name": "stdout",
     "output_type": "stream",
     "text": [
      "RMSE модели линейной регрессии на валидационной выборке: 37.704227357074025\n",
      "средний запас предсказанного сырья месторождения 92.4657279462084\n",
      " \n",
      "RMSE модели линейной регрессии на валидационной выборке: 0.8957076630622065\n",
      "средний запас предсказанного сырья месторождения 69.06478300011143\n",
      " \n",
      "RMSE модели линейной регрессии на валидационной выборке: 39.9453565736291\n",
      "средний запас предсказанного сырья месторождения 94.8292213272688\n",
      " \n"
     ]
    }
   ],
   "source": [
    "predictions_valid_0 = funk_model(features_train_0,target_train_0,target_valid_0, features_valid_0)\n",
    "predictions_valid_1 = funk_model(features_train_1,target_train_1,target_valid_1, features_valid_1)\n",
    "predictions_valid_2 = funk_model(features_train_2,target_train_2,target_valid_2, features_valid_2)"
   ]
  },
  {
   "cell_type": "markdown",
   "metadata": {},
   "source": [
    "Подсчитали метрику RMSE  и средний запас сырья для каждого участка"
   ]
  },
  {
   "cell_type": "markdown",
   "metadata": {},
   "source": [
    " "
   ]
  },
  {
   "cell_type": "markdown",
   "metadata": {},
   "source": [
    "По условию мы должны отобрать лучшие 200 скважин. Отсортируем и посмотрим средние величины там."
   ]
  },
  {
   "cell_type": "code",
   "execution_count": 54,
   "metadata": {},
   "outputs": [
    {
     "data": {
      "text/plain": [
       "152.215579066362"
      ]
     },
     "execution_count": 54,
     "metadata": {},
     "output_type": "execute_result"
    }
   ],
   "source": [
    "best_200_0 = sorted(predictions_valid_0)[-200:]\n",
    "np.mean(best_200_0)"
   ]
  },
  {
   "cell_type": "code",
   "execution_count": 55,
   "metadata": {},
   "outputs": [
    {
     "data": {
      "text/plain": [
       "138.73978231150753"
      ]
     },
     "execution_count": 55,
     "metadata": {},
     "output_type": "execute_result"
    }
   ],
   "source": [
    "best_200_1 = sorted(predictions_valid_1)[-200:]\n",
    "np.mean(best_200_1)"
   ]
  },
  {
   "cell_type": "code",
   "execution_count": 56,
   "metadata": {},
   "outputs": [
    {
     "data": {
      "text/plain": [
       "142.78695097265665"
      ]
     },
     "execution_count": 56,
     "metadata": {},
     "output_type": "execute_result"
    }
   ],
   "source": [
    "best_200_2 = sorted(predictions_valid_2)[-200:]\n",
    "np.mean(best_200_2)"
   ]
  },
  {
   "cell_type": "markdown",
   "metadata": {},
   "source": [
    "Выводы: \n",
    "\n",
    "Получили результаты по трем месторождениям:\n",
    "Наибольший средний запас у первого и третьего месторождений(с небольшой разницей), при этом у второго месторождения значение RMSE значительно меньше."
   ]
  },
  {
   "cell_type": "markdown",
   "metadata": {},
   "source": [
    " "
   ]
  },
  {
   "cell_type": "markdown",
   "metadata": {},
   "source": [
    " "
   ]
  },
  {
   "cell_type": "markdown",
   "metadata": {},
   "source": [
    "### Расчёт прибыли"
   ]
  },
  {
   "cell_type": "markdown",
   "metadata": {},
   "source": [
    "•\tПри разведке региона исследуют 500 точек, из которых с помощью машинного обучения выбирают 200 лучших для разработки."
   ]
  },
  {
   "cell_type": "markdown",
   "metadata": {},
   "source": [
    " "
   ]
  },
  {
   "cell_type": "markdown",
   "metadata": {},
   "source": [
    "•\tБюджет на разработку скважин в регионе — 10 млрд рублей (в тысячах руб)."
   ]
  },
  {
   "cell_type": "code",
   "execution_count": 57,
   "metadata": {},
   "outputs": [],
   "source": [
    "BUDGET = 10_000_000"
   ]
  },
  {
   "cell_type": "markdown",
   "metadata": {},
   "source": [
    " "
   ]
  },
  {
   "cell_type": "markdown",
   "metadata": {},
   "source": [
    " "
   ]
  },
  {
   "cell_type": "markdown",
   "metadata": {},
   "source": [
    "Доход с каждой единицы продукта составляет 450 тыс. рублей, поскольку объём указан в тысячах баррелей"
   ]
  },
  {
   "cell_type": "code",
   "execution_count": 58,
   "metadata": {},
   "outputs": [],
   "source": [
    "DOHOD_1_PRODUCT = 450"
   ]
  },
  {
   "cell_type": "markdown",
   "metadata": {},
   "source": [
    " "
   ]
  },
  {
   "cell_type": "markdown",
   "metadata": {},
   "source": [
    "•\tПосле оценки рисков нужно оставить лишь те регионы, в которых вероятность убытков меньше 2.5%. Среди них выбирают регион с наибольшей средней прибылью."
   ]
  },
  {
   "cell_type": "code",
   "execution_count": 59,
   "metadata": {},
   "outputs": [],
   "source": [
    "alpha = 0.025"
   ]
  },
  {
   "cell_type": "markdown",
   "metadata": {},
   "source": [
    " "
   ]
  },
  {
   "cell_type": "markdown",
   "metadata": {},
   "source": [
    "Итак, прикинем какой объем сырья нам нужно добыть чтобы не \"вылезти\" за пределы 10 млрд руб:"
   ]
  },
  {
   "cell_type": "code",
   "execution_count": 60,
   "metadata": {},
   "outputs": [
    {
     "data": {
      "text/plain": [
       "22222.222222222223"
      ]
     },
     "execution_count": 60,
     "metadata": {},
     "output_type": "execute_result"
    }
   ],
   "source": [
    "MIN_V = BUDGET / DOHOD_1_PRODUCT\n",
    "MIN_V"
   ]
  },
  {
   "cell_type": "markdown",
   "metadata": {},
   "source": [
    " "
   ]
  },
  {
   "cell_type": "markdown",
   "metadata": {},
   "source": [
    "При разведке региона исследуют 500 точек, из которых с помощью машинного обучения выбирают 200 лучших для разработки."
   ]
  },
  {
   "cell_type": "code",
   "execution_count": 61,
   "metadata": {},
   "outputs": [
    {
     "data": {
      "text/plain": [
       "111.11111111111111"
      ]
     },
     "execution_count": 61,
     "metadata": {},
     "output_type": "execute_result"
    }
   ],
   "source": [
    "MIN_V / 200"
   ]
  },
  {
   "cell_type": "code",
   "execution_count": 62,
   "metadata": {},
   "outputs": [
    {
     "data": {
      "text/plain": [
       "50000.0"
      ]
     },
     "execution_count": 62,
     "metadata": {},
     "output_type": "execute_result"
    }
   ],
   "source": [
    "111.11111111111111*450"
   ]
  },
  {
   "cell_type": "markdown",
   "metadata": {},
   "source": [
    "не менее 111  единиц продукта (или 50000 в денежном эквиваленте) в среднем должны содержать лучшие 200 скважин в регионе"
   ]
  },
  {
   "cell_type": "markdown",
   "metadata": {},
   "source": [
    "Выводы: средние цифры по регионам (80-88) несколько меньше чем необходимый порог (111), Если рассматривать лучшие 200 скважин в каждом регионе то вроде все не так и плохо..."
   ]
  },
  {
   "cell_type": "markdown",
   "metadata": {},
   "source": [
    " "
   ]
  },
  {
   "cell_type": "markdown",
   "metadata": {},
   "source": [
    " "
   ]
  },
  {
   "cell_type": "markdown",
   "metadata": {},
   "source": [
    "## Суммарная прибыль лучших скважин в каждом регионе. Расчет риска убытков"
   ]
  },
  {
   "cell_type": "markdown",
   "metadata": {},
   "source": [
    "Посчитаем прибыль в каждом регионе из наших 200 лучших скважин:"
   ]
  },
  {
   "cell_type": "markdown",
   "metadata": {},
   "source": [
    "Для первого региона"
   ]
  },
  {
   "cell_type": "code",
   "execution_count": 63,
   "metadata": {},
   "outputs": [],
   "source": [
    "sum_volume_0 = np.sum(best_200_0)"
   ]
  },
  {
   "cell_type": "code",
   "execution_count": 64,
   "metadata": {},
   "outputs": [
    {
     "data": {
      "text/plain": [
       "13699402.11597258"
      ]
     },
     "execution_count": 64,
     "metadata": {},
     "output_type": "execute_result"
    }
   ],
   "source": [
    "money_0 = sum_volume_0*DOHOD_1_PRODUCT\n",
    "money_0"
   ]
  },
  {
   "cell_type": "markdown",
   "metadata": {},
   "source": [
    " "
   ]
  },
  {
   "cell_type": "markdown",
   "metadata": {},
   "source": [
    "Для второго региона"
   ]
  },
  {
   "cell_type": "code",
   "execution_count": 65,
   "metadata": {},
   "outputs": [],
   "source": [
    "sum_volume_1 = np.sum(best_200_1)"
   ]
  },
  {
   "cell_type": "code",
   "execution_count": 66,
   "metadata": {},
   "outputs": [
    {
     "data": {
      "text/plain": [
       "12486580.408035679"
      ]
     },
     "execution_count": 66,
     "metadata": {},
     "output_type": "execute_result"
    }
   ],
   "source": [
    "money_1 = sum_volume_1*DOHOD_1_PRODUCT\n",
    "money_1"
   ]
  },
  {
   "cell_type": "markdown",
   "metadata": {},
   "source": [
    " "
   ]
  },
  {
   "cell_type": "markdown",
   "metadata": {},
   "source": [
    "Для третьего региона"
   ]
  },
  {
   "cell_type": "code",
   "execution_count": 67,
   "metadata": {},
   "outputs": [],
   "source": [
    "sum_volume_2 = np.sum(best_200_2)"
   ]
  },
  {
   "cell_type": "code",
   "execution_count": 68,
   "metadata": {},
   "outputs": [
    {
     "data": {
      "text/plain": [
       "12850825.5875391"
      ]
     },
     "execution_count": 68,
     "metadata": {},
     "output_type": "execute_result"
    }
   ],
   "source": [
    "money_2 = sum_volume_2*DOHOD_1_PRODUCT\n",
    "money_2"
   ]
  },
  {
   "cell_type": "markdown",
   "metadata": {},
   "source": [
    " "
   ]
  },
  {
   "cell_type": "markdown",
   "metadata": {},
   "source": [
    " "
   ]
  },
  {
   "cell_type": "markdown",
   "metadata": {},
   "source": [
    "Для дальнейшей работы приведем наши предсказания в вид серии"
   ]
  },
  {
   "cell_type": "code",
   "execution_count": 69,
   "metadata": {},
   "outputs": [
    {
     "data": {
      "text/plain": [
       "numpy.ndarray"
      ]
     },
     "execution_count": 69,
     "metadata": {},
     "output_type": "execute_result"
    }
   ],
   "source": [
    "type(predictions_valid_0)"
   ]
  },
  {
   "cell_type": "code",
   "execution_count": 70,
   "metadata": {},
   "outputs": [],
   "source": [
    "predictions_valid_0 = pd.Series(predictions_valid_0)\n",
    "predictions_valid_1 = pd.Series(predictions_valid_1)\n",
    "predictions_valid_2 = pd.Series(predictions_valid_2)"
   ]
  },
  {
   "cell_type": "code",
   "execution_count": 71,
   "metadata": {},
   "outputs": [
    {
     "data": {
      "text/plain": [
       "5563     167.330846\n",
       "7038     163.182073\n",
       "8867     162.472845\n",
       "15896    162.275957\n",
       "22983    162.181657\n",
       "            ...    \n",
       "18498    146.513256\n",
       "11555    146.492163\n",
       "23557    146.388825\n",
       "11806    146.380180\n",
       "20532    146.374318\n",
       "Length: 200, dtype: float64"
      ]
     },
     "execution_count": 71,
     "metadata": {},
     "output_type": "execute_result"
    }
   ],
   "source": [
    "predictions_valid_0.sort_values(ascending=False)[:200]"
   ]
  },
  {
   "cell_type": "markdown",
   "metadata": {},
   "source": [
    " "
   ]
  },
  {
   "cell_type": "markdown",
   "metadata": {},
   "source": [
    " "
   ]
  },
  {
   "cell_type": "markdown",
   "metadata": {},
   "source": [
    "#### Применим технику Bootstrap с 1000 выборок, чтобы найти распределение прибыли."
   ]
  },
  {
   "cell_type": "code",
   "execution_count": 72,
   "metadata": {},
   "outputs": [],
   "source": [
    "# функция расчета прибыли\n",
    "def profit_calculation(targets, predictions, number_of_wells, price):\n",
    "    # отсортируем предсказания\n",
    "    pred_sorted = predictions.sort_values(ascending=False)[:number_of_wells]\n",
    "    \n",
    "    #топовые скважины\n",
    "    top_wells = targets[pred_sorted.index]\n",
    "    \n",
    "    # доход\n",
    "    revenue = price*top_wells.sum().round()\n",
    "    \n",
    "    # вычитаем из дохода затраты на разработку\n",
    "    return revenue-BUDGET\n",
    " \n",
    "# расчет прибыли\n",
    "profit_results = []"
   ]
  },
  {
   "cell_type": "markdown",
   "metadata": {},
   "source": [
    " "
   ]
  },
  {
   "cell_type": "markdown",
   "metadata": {},
   "source": [
    " "
   ]
  },
  {
   "cell_type": "markdown",
   "metadata": {},
   "source": [
    "скорректируем индексы для дальнейшей работы"
   ]
  },
  {
   "cell_type": "code",
   "execution_count": 73,
   "metadata": {},
   "outputs": [],
   "source": [
    "target_valid_0 = target_valid_0.reset_index(drop=True)\n",
    "target_valid_1 = target_valid_1.reset_index(drop=True)\n",
    "target_valid_2 = target_valid_2.reset_index(drop=True)"
   ]
  },
  {
   "cell_type": "code",
   "execution_count": 74,
   "metadata": {},
   "outputs": [
    {
     "data": {
      "text/plain": [
       "0        145.316275\n",
       "1        164.182655\n",
       "2         56.051131\n",
       "3         57.336710\n",
       "4        159.578082\n",
       "            ...    \n",
       "24870    143.025959\n",
       "24871    123.947080\n",
       "24872     26.662216\n",
       "24873     37.720923\n",
       "24874     12.714491\n",
       "Name: product, Length: 24875, dtype: float64"
      ]
     },
     "execution_count": 74,
     "metadata": {},
     "output_type": "execute_result"
    }
   ],
   "source": [
    "target_valid_0"
   ]
  },
  {
   "cell_type": "code",
   "execution_count": 75,
   "metadata": {},
   "outputs": [
    {
     "data": {
      "text/plain": [
       "0        103.261325\n",
       "1        112.048721\n",
       "2         83.435941\n",
       "3         62.295483\n",
       "4        119.175989\n",
       "            ...    \n",
       "24870    105.878321\n",
       "24871    101.918248\n",
       "24872     98.264926\n",
       "24873     55.672178\n",
       "24874     82.202997\n",
       "Length: 24875, dtype: float64"
      ]
     },
     "execution_count": 75,
     "metadata": {},
     "output_type": "execute_result"
    }
   ],
   "source": [
    "predictions_valid_0"
   ]
  },
  {
   "cell_type": "markdown",
   "metadata": {},
   "source": [
    " "
   ]
  },
  {
   "cell_type": "markdown",
   "metadata": {},
   "source": [
    "создание распределений прибыли с помощью бутстрепа"
   ]
  },
  {
   "cell_type": "code",
   "execution_count": 76,
   "metadata": {},
   "outputs": [],
   "source": [
    "profit_results = []\n",
    "\n",
    "for i in [(target_valid_0, predictions_valid_0),\n",
    "          (target_valid_1, predictions_valid_1),\n",
    "          (target_valid_2, predictions_valid_2)]:\n",
    "    profit_results.append(profit_calculation(i[0], i[1], 200, 450))"
   ]
  },
  {
   "cell_type": "markdown",
   "metadata": {},
   "source": [
    "Посмотрим что получилось:"
   ]
  },
  {
   "cell_type": "code",
   "execution_count": 77,
   "metadata": {},
   "outputs": [
    {
     "data": {
      "text/plain": [
       "[3001850.0, 2415050.0, 2121650.0]"
      ]
     },
     "execution_count": 77,
     "metadata": {},
     "output_type": "execute_result"
    }
   ],
   "source": [
    "profit_results"
   ]
  },
  {
   "cell_type": "markdown",
   "metadata": {},
   "source": [
    " "
   ]
  },
  {
   "cell_type": "code",
   "execution_count": 78,
   "metadata": {},
   "outputs": [],
   "source": [
    "# создание распределений прибыли с помощью бутстрепа\n",
    "profit_bs_0 = []\n",
    "profit_bs_1 = []\n",
    "profit_bs_2 = []"
   ]
  },
  {
   "cell_type": "code",
   "execution_count": 79,
   "metadata": {},
   "outputs": [],
   "source": [
    "for i in [(target_valid_0, predictions_valid_0, profit_bs_0),(target_valid_1, predictions_valid_1, profit_bs_1),(target_valid_2, predictions_valid_2, profit_bs_2)]:\n",
    "   \n",
    "    for k in range(1000):\n",
    "        target_subsample = i[0].sample(500, replace=True, random_state=state)\n",
    "        pred_subsample = i[1][target_subsample.index]\n",
    "        prof = profit_calculation(target_subsample, pred_subsample, 200, 450)\n",
    "        i[2].append(prof)"
   ]
  },
  {
   "cell_type": "markdown",
   "metadata": {},
   "source": [
    "Распределения нашли!"
   ]
  },
  {
   "cell_type": "markdown",
   "metadata": {},
   "source": [
    " "
   ]
  },
  {
   "cell_type": "markdown",
   "metadata": {},
   "source": [
    "посмотрим на средние значения прибыли"
   ]
  },
  {
   "cell_type": "code",
   "execution_count": 80,
   "metadata": {},
   "outputs": [
    {
     "data": {
      "text/plain": [
       "624682.7"
      ]
     },
     "execution_count": 80,
     "metadata": {},
     "output_type": "execute_result"
    }
   ],
   "source": [
    "np.mean(profit_bs_0)"
   ]
  },
  {
   "cell_type": "code",
   "execution_count": 81,
   "metadata": {},
   "outputs": [
    {
     "data": {
      "text/plain": [
       "693333.8"
      ]
     },
     "execution_count": 81,
     "metadata": {},
     "output_type": "execute_result"
    }
   ],
   "source": [
    "np.mean(profit_bs_1)"
   ]
  },
  {
   "cell_type": "code",
   "execution_count": 82,
   "metadata": {},
   "outputs": [
    {
     "data": {
      "text/plain": [
       "545985.8"
      ]
     },
     "execution_count": 82,
     "metadata": {},
     "output_type": "execute_result"
    }
   ],
   "source": [
    "np.mean(profit_bs_2)"
   ]
  },
  {
   "cell_type": "markdown",
   "metadata": {},
   "source": [
    " "
   ]
  },
  {
   "cell_type": "markdown",
   "metadata": {},
   "source": [
    "Найдем 95% доверительный интервал"
   ]
  },
  {
   "cell_type": "code",
   "execution_count": 83,
   "metadata": {},
   "outputs": [],
   "source": [
    "profit_bs_0 = pd.Series(profit_bs_0)\n",
    "profit_bs_1 = pd.Series(profit_bs_1)\n",
    "profit_bs_2 = pd.Series(profit_bs_2)"
   ]
  },
  {
   "cell_type": "markdown",
   "metadata": {},
   "source": [
    "#### 95% доверительный интервал для 0-го региона"
   ]
  },
  {
   "cell_type": "code",
   "execution_count": 84,
   "metadata": {},
   "outputs": [
    {
     "data": {
      "text/plain": [
       "[52820.00000000001, 1272106.25]"
      ]
     },
     "execution_count": 84,
     "metadata": {},
     "output_type": "execute_result"
    }
   ],
   "source": [
    "confidence_interval_0 = []\n",
    "\n",
    "lower = profit_bs_0.quantile(0.025)\n",
    "upper = profit_bs_0.quantile(0.975)\n",
    "\n",
    "confidence_interval_0.append(lower)\n",
    "confidence_interval_0.append(upper)\n",
    "\n",
    "confidence_interval_0"
   ]
  },
  {
   "cell_type": "markdown",
   "metadata": {},
   "source": [
    "#### 95% доверительный интервал для 1-го региона"
   ]
  },
  {
   "cell_type": "code",
   "execution_count": 85,
   "metadata": {},
   "outputs": [
    {
     "data": {
      "text/plain": [
       "[210038.75, 1264163.7499999998]"
      ]
     },
     "execution_count": 85,
     "metadata": {},
     "output_type": "execute_result"
    }
   ],
   "source": [
    "confidence_interval_1 = []\n",
    "\n",
    "\n",
    "lower = profit_bs_1.quantile(0.025)\n",
    "upper = profit_bs_1.quantile(0.975)\n",
    "\n",
    "confidence_interval_1.append(lower)\n",
    "confidence_interval_1.append(upper)\n",
    "\n",
    "confidence_interval_1"
   ]
  },
  {
   "cell_type": "markdown",
   "metadata": {},
   "source": [
    "#### 95% доверительный интервал для 2-го региона"
   ]
  },
  {
   "cell_type": "code",
   "execution_count": 86,
   "metadata": {},
   "outputs": [
    {
     "data": {
      "text/plain": [
       "[-72156.25, 1206721.2499999998]"
      ]
     },
     "execution_count": 86,
     "metadata": {},
     "output_type": "execute_result"
    }
   ],
   "source": [
    "confidence_interval_2 = []\n",
    "\n",
    "\n",
    "lower = profit_bs_2.quantile(0.025)\n",
    "upper = profit_bs_2.quantile(0.975)\n",
    "\n",
    "confidence_interval_2.append(lower)\n",
    "confidence_interval_2.append(upper)\n",
    "\n",
    "confidence_interval_2"
   ]
  },
  {
   "cell_type": "markdown",
   "metadata": {},
   "source": [
    " "
   ]
  },
  {
   "cell_type": "markdown",
   "metadata": {},
   "source": [
    " "
   ]
  },
  {
   "cell_type": "markdown",
   "metadata": {},
   "source": [
    "Найдите риск убытков. Убыток — это отрицательная прибыль."
   ]
  },
  {
   "cell_type": "code",
   "execution_count": 87,
   "metadata": {},
   "outputs": [
    {
     "name": "stdout",
     "output_type": "stream",
     "text": [
      "Риск убытка в нулевом регионе = 1.7000000000000002\n",
      "Риск убытка во первом регионе = 0.1\n",
      "Риск убытка в втором регионе = 4.1000000000000005\n"
     ]
    }
   ],
   "source": [
    "print('Риск убытка в нулевом регионе =',(pd.Series(profit_bs_0) < 0).mean() * 100)\n",
    "print('Риск убытка во первом регионе =',(pd.Series(profit_bs_1) < 0).mean() * 100)\n",
    "print('Риск убытка в втором регионе =',(pd.Series(profit_bs_2) < 0).mean() * 100)"
   ]
  },
  {
   "cell_type": "code",
   "execution_count": 88,
   "metadata": {},
   "outputs": [
    {
     "name": "stdout",
     "output_type": "stream",
     "text": [
      "Риск убытка в нулевом регионе = 1.7\n",
      "Риск убытка во первом регионе = 0.1\n",
      "Риск убытка в втором регионе = 4.1\n"
     ]
    }
   ],
   "source": [
    "print('Риск убытка в нулевом регионе =', stats.percentileofscore(profit_bs_0, 0))\n",
    "print('Риск убытка во первом регионе =',stats.percentileofscore(profit_bs_1, 0))\n",
    "print('Риск убытка в втором регионе =',stats.percentileofscore(profit_bs_2, 0))"
   ]
  },
  {
   "cell_type": "markdown",
   "metadata": {},
   "source": [
    " "
   ]
  },
  {
   "cell_type": "markdown",
   "metadata": {},
   "source": [
    "Выводы: По условиям рисков (вероятность убытков меньше 2.5%) проходит первый и нулевой регионы."
   ]
  },
  {
   "cell_type": "markdown",
   "metadata": {},
   "source": [
    " "
   ]
  },
  {
   "cell_type": "markdown",
   "metadata": {},
   "source": [
    "# Выводы:\n",
    "\n",
    "\n",
    "\n",
    "   Наиболее привлекательной считаем 1-й участок, т.к. там :\n",
    "  - наиболее привлекательный риск убытка (0.1%)\n",
    "  - низкое значение RMSE модели\n",
    "  - наибольший расчет прибыли с помощью бутстрепа\n",
    "  \n",
    "Второй участок не подходит по условиям риска убытков (>2.5%)"
   ]
  }
 ],
 "metadata": {
  "ExecuteTimeLog": [
   {
    "duration": 368,
    "start_time": "2021-09-21T16:10:07.482Z"
   },
   {
    "duration": 1605,
    "start_time": "2021-09-21T16:10:13.220Z"
   },
   {
    "duration": 3130,
    "start_time": "2021-09-21T16:10:14.827Z"
   },
   {
    "duration": 16,
    "start_time": "2021-09-21T16:10:17.960Z"
   },
   {
    "duration": 9,
    "start_time": "2021-09-21T16:10:17.980Z"
   },
   {
    "duration": 23,
    "start_time": "2021-09-21T16:10:17.992Z"
   },
   {
    "duration": 43,
    "start_time": "2021-09-21T16:10:18.018Z"
   },
   {
    "duration": 7,
    "start_time": "2021-09-21T16:10:18.063Z"
   },
   {
    "duration": 18,
    "start_time": "2021-09-21T16:10:18.075Z"
   },
   {
    "duration": 12,
    "start_time": "2021-09-21T16:10:18.096Z"
   },
   {
    "duration": 9,
    "start_time": "2021-09-21T16:10:18.110Z"
   },
   {
    "duration": 52,
    "start_time": "2021-09-21T16:10:18.121Z"
   },
   {
    "duration": 8,
    "start_time": "2021-09-21T16:10:18.175Z"
   },
   {
    "duration": 6,
    "start_time": "2021-09-21T16:10:18.185Z"
   },
   {
    "duration": 66,
    "start_time": "2021-09-21T16:10:18.193Z"
   },
   {
    "duration": 97,
    "start_time": "2021-09-21T16:10:18.262Z"
   },
   {
    "duration": 105,
    "start_time": "2021-09-21T16:10:18.363Z"
   },
   {
    "duration": 23,
    "start_time": "2021-09-21T16:10:18.471Z"
   },
   {
    "duration": 20,
    "start_time": "2021-09-21T16:10:18.497Z"
   },
   {
    "duration": 37,
    "start_time": "2021-09-21T16:10:18.519Z"
   },
   {
    "duration": 9,
    "start_time": "2021-09-21T16:10:18.559Z"
   },
   {
    "duration": 12,
    "start_time": "2021-09-21T16:10:18.570Z"
   },
   {
    "duration": 7,
    "start_time": "2021-09-21T16:10:18.585Z"
   },
   {
    "duration": 7,
    "start_time": "2021-09-21T16:10:18.596Z"
   },
   {
    "duration": 5,
    "start_time": "2021-09-21T16:10:18.606Z"
   },
   {
    "duration": 8,
    "start_time": "2021-09-21T16:10:18.613Z"
   },
   {
    "duration": 7,
    "start_time": "2021-09-21T16:10:18.623Z"
   },
   {
    "duration": 5,
    "start_time": "2021-09-21T16:10:18.657Z"
   },
   {
    "duration": 11,
    "start_time": "2021-09-21T16:10:18.665Z"
   },
   {
    "duration": 15,
    "start_time": "2021-09-21T16:10:18.679Z"
   },
   {
    "duration": 11,
    "start_time": "2021-09-21T16:10:18.696Z"
   },
   {
    "duration": 7,
    "start_time": "2021-09-21T16:10:18.710Z"
   },
   {
    "duration": 36,
    "start_time": "2021-09-21T16:10:18.720Z"
   },
   {
    "duration": 21,
    "start_time": "2021-09-21T16:10:18.759Z"
   },
   {
    "duration": 5,
    "start_time": "2021-09-21T16:10:18.782Z"
   },
   {
    "duration": 9,
    "start_time": "2021-09-21T16:10:18.789Z"
   },
   {
    "duration": 12646,
    "start_time": "2021-09-21T16:10:18.800Z"
   },
   {
    "duration": 8,
    "start_time": "2021-09-21T16:10:31.448Z"
   },
   {
    "duration": 6,
    "start_time": "2021-09-21T16:10:31.459Z"
   },
   {
    "duration": 11,
    "start_time": "2021-09-21T16:10:31.467Z"
   },
   {
    "duration": 11,
    "start_time": "2021-09-21T16:10:31.481Z"
   },
   {
    "duration": 17,
    "start_time": "2021-09-21T16:10:31.494Z"
   },
   {
    "duration": 18,
    "start_time": "2021-09-21T16:10:31.514Z"
   },
   {
    "duration": 10,
    "start_time": "2021-09-21T16:10:31.555Z"
   },
   {
    "duration": 24,
    "start_time": "2021-09-21T16:12:15.476Z"
   },
   {
    "duration": 8,
    "start_time": "2021-09-21T16:17:11.755Z"
   },
   {
    "duration": 460,
    "start_time": "2021-09-22T12:00:47.450Z"
   },
   {
    "duration": 1533,
    "start_time": "2021-09-22T12:01:13.522Z"
   },
   {
    "duration": 4987,
    "start_time": "2021-09-22T12:01:15.058Z"
   },
   {
    "duration": 19,
    "start_time": "2021-09-22T12:01:20.049Z"
   },
   {
    "duration": 11,
    "start_time": "2021-09-22T12:01:20.071Z"
   },
   {
    "duration": 24,
    "start_time": "2021-09-22T12:01:20.085Z"
   },
   {
    "duration": 14,
    "start_time": "2021-09-22T12:01:20.112Z"
   },
   {
    "duration": 36,
    "start_time": "2021-09-22T12:01:20.129Z"
   },
   {
    "duration": 29,
    "start_time": "2021-09-22T12:01:20.169Z"
   },
   {
    "duration": 12,
    "start_time": "2021-09-22T12:01:20.201Z"
   },
   {
    "duration": 19,
    "start_time": "2021-09-22T12:01:20.215Z"
   },
   {
    "duration": 37,
    "start_time": "2021-09-22T12:01:20.237Z"
   },
   {
    "duration": 3,
    "start_time": "2021-09-22T12:01:20.277Z"
   },
   {
    "duration": 19,
    "start_time": "2021-09-22T12:01:20.282Z"
   },
   {
    "duration": 265,
    "start_time": "2021-09-22T12:01:20.304Z"
   },
   {
    "duration": 1409,
    "start_time": "2021-09-22T12:01:20.571Z"
   },
   {
    "duration": -908,
    "start_time": "2021-09-22T12:01:22.891Z"
   },
   {
    "duration": -910,
    "start_time": "2021-09-22T12:01:22.895Z"
   },
   {
    "duration": -910,
    "start_time": "2021-09-22T12:01:22.896Z"
   },
   {
    "duration": -930,
    "start_time": "2021-09-22T12:01:22.918Z"
   },
   {
    "duration": -935,
    "start_time": "2021-09-22T12:01:22.924Z"
   },
   {
    "duration": -937,
    "start_time": "2021-09-22T12:01:22.927Z"
   },
   {
    "duration": -939,
    "start_time": "2021-09-22T12:01:22.931Z"
   },
   {
    "duration": -942,
    "start_time": "2021-09-22T12:01:22.935Z"
   },
   {
    "duration": -946,
    "start_time": "2021-09-22T12:01:22.941Z"
   },
   {
    "duration": -947,
    "start_time": "2021-09-22T12:01:22.943Z"
   },
   {
    "duration": -949,
    "start_time": "2021-09-22T12:01:22.946Z"
   },
   {
    "duration": -949,
    "start_time": "2021-09-22T12:01:22.948Z"
   },
   {
    "duration": -951,
    "start_time": "2021-09-22T12:01:22.951Z"
   },
   {
    "duration": -954,
    "start_time": "2021-09-22T12:01:22.956Z"
   },
   {
    "duration": -956,
    "start_time": "2021-09-22T12:01:22.959Z"
   },
   {
    "duration": -958,
    "start_time": "2021-09-22T12:01:22.962Z"
   },
   {
    "duration": -958,
    "start_time": "2021-09-22T12:01:22.964Z"
   },
   {
    "duration": -959,
    "start_time": "2021-09-22T12:01:22.966Z"
   },
   {
    "duration": -964,
    "start_time": "2021-09-22T12:01:22.972Z"
   },
   {
    "duration": -965,
    "start_time": "2021-09-22T12:01:22.975Z"
   },
   {
    "duration": -966,
    "start_time": "2021-09-22T12:01:22.977Z"
   },
   {
    "duration": -968,
    "start_time": "2021-09-22T12:01:22.980Z"
   },
   {
    "duration": -968,
    "start_time": "2021-09-22T12:01:22.982Z"
   },
   {
    "duration": -970,
    "start_time": "2021-09-22T12:01:22.985Z"
   },
   {
    "duration": -973,
    "start_time": "2021-09-22T12:01:22.990Z"
   },
   {
    "duration": -974,
    "start_time": "2021-09-22T12:01:22.992Z"
   },
   {
    "duration": -939,
    "start_time": "2021-09-22T12:01:22.994Z"
   },
   {
    "duration": -940,
    "start_time": "2021-09-22T12:01:22.997Z"
   },
   {
    "duration": -940,
    "start_time": "2021-09-22T12:01:22.998Z"
   },
   {
    "duration": 244,
    "start_time": "2021-09-22T12:02:21.919Z"
   },
   {
    "duration": 202,
    "start_time": "2021-09-22T12:02:45.769Z"
   },
   {
    "duration": 1650,
    "start_time": "2021-09-22T12:39:02.104Z"
   },
   {
    "duration": 4278,
    "start_time": "2021-09-22T12:39:03.758Z"
   },
   {
    "duration": 21,
    "start_time": "2021-09-22T12:39:08.040Z"
   },
   {
    "duration": 19,
    "start_time": "2021-09-22T12:39:08.065Z"
   },
   {
    "duration": 19,
    "start_time": "2021-09-22T12:39:08.086Z"
   },
   {
    "duration": 13,
    "start_time": "2021-09-22T12:39:08.107Z"
   },
   {
    "duration": 32,
    "start_time": "2021-09-22T12:39:08.122Z"
   },
   {
    "duration": 38,
    "start_time": "2021-09-22T12:39:08.164Z"
   },
   {
    "duration": 22,
    "start_time": "2021-09-22T12:39:08.205Z"
   },
   {
    "duration": 21,
    "start_time": "2021-09-22T12:39:08.230Z"
   },
   {
    "duration": 34,
    "start_time": "2021-09-22T12:39:08.254Z"
   },
   {
    "duration": 3,
    "start_time": "2021-09-22T12:39:08.291Z"
   },
   {
    "duration": 24,
    "start_time": "2021-09-22T12:39:08.297Z"
   },
   {
    "duration": 19,
    "start_time": "2021-09-22T12:39:08.324Z"
   },
   {
    "duration": 233,
    "start_time": "2021-09-22T12:39:08.346Z"
   },
   {
    "duration": 1605,
    "start_time": "2021-09-22T12:39:08.669Z"
   },
   {
    "duration": -857,
    "start_time": "2021-09-22T12:39:11.135Z"
   },
   {
    "duration": -857,
    "start_time": "2021-09-22T12:39:11.137Z"
   },
   {
    "duration": -857,
    "start_time": "2021-09-22T12:39:11.138Z"
   },
   {
    "duration": -857,
    "start_time": "2021-09-22T12:39:11.140Z"
   },
   {
    "duration": -873,
    "start_time": "2021-09-22T12:39:11.157Z"
   },
   {
    "duration": -875,
    "start_time": "2021-09-22T12:39:11.160Z"
   },
   {
    "duration": -880,
    "start_time": "2021-09-22T12:39:11.167Z"
   },
   {
    "duration": -881,
    "start_time": "2021-09-22T12:39:11.169Z"
   },
   {
    "duration": -882,
    "start_time": "2021-09-22T12:39:11.171Z"
   },
   {
    "duration": -882,
    "start_time": "2021-09-22T12:39:11.173Z"
   },
   {
    "duration": -884,
    "start_time": "2021-09-22T12:39:11.176Z"
   },
   {
    "duration": -887,
    "start_time": "2021-09-22T12:39:11.181Z"
   },
   {
    "duration": -888,
    "start_time": "2021-09-22T12:39:11.183Z"
   },
   {
    "duration": -888,
    "start_time": "2021-09-22T12:39:11.185Z"
   },
   {
    "duration": -889,
    "start_time": "2021-09-22T12:39:11.187Z"
   },
   {
    "duration": -889,
    "start_time": "2021-09-22T12:39:11.189Z"
   },
   {
    "duration": -890,
    "start_time": "2021-09-22T12:39:11.191Z"
   },
   {
    "duration": -910,
    "start_time": "2021-09-22T12:39:11.213Z"
   },
   {
    "duration": -911,
    "start_time": "2021-09-22T12:39:11.215Z"
   },
   {
    "duration": -913,
    "start_time": "2021-09-22T12:39:11.218Z"
   },
   {
    "duration": -913,
    "start_time": "2021-09-22T12:39:11.220Z"
   },
   {
    "duration": -914,
    "start_time": "2021-09-22T12:39:11.222Z"
   },
   {
    "duration": -914,
    "start_time": "2021-09-22T12:39:11.224Z"
   },
   {
    "duration": -919,
    "start_time": "2021-09-22T12:39:11.230Z"
   },
   {
    "duration": -921,
    "start_time": "2021-09-22T12:39:11.233Z"
   },
   {
    "duration": -921,
    "start_time": "2021-09-22T12:39:11.234Z"
   },
   {
    "duration": -932,
    "start_time": "2021-09-22T12:39:11.247Z"
   },
   {
    "duration": -905,
    "start_time": "2021-09-22T12:39:11.261Z"
   },
   {
    "duration": 1721,
    "start_time": "2021-09-22T12:39:39.972Z"
   },
   {
    "duration": 3297,
    "start_time": "2021-09-22T12:39:41.696Z"
   },
   {
    "duration": 22,
    "start_time": "2021-09-22T12:39:44.996Z"
   },
   {
    "duration": 23,
    "start_time": "2021-09-22T12:39:45.021Z"
   },
   {
    "duration": 36,
    "start_time": "2021-09-22T12:39:45.047Z"
   },
   {
    "duration": 15,
    "start_time": "2021-09-22T12:39:45.094Z"
   },
   {
    "duration": 30,
    "start_time": "2021-09-22T12:39:45.112Z"
   },
   {
    "duration": 41,
    "start_time": "2021-09-22T12:39:45.144Z"
   },
   {
    "duration": 12,
    "start_time": "2021-09-22T12:39:45.190Z"
   },
   {
    "duration": 19,
    "start_time": "2021-09-22T12:39:45.205Z"
   },
   {
    "duration": 42,
    "start_time": "2021-09-22T12:39:45.227Z"
   },
   {
    "duration": 3,
    "start_time": "2021-09-22T12:39:45.273Z"
   },
   {
    "duration": 10,
    "start_time": "2021-09-22T12:39:45.279Z"
   },
   {
    "duration": 15,
    "start_time": "2021-09-22T12:39:45.291Z"
   },
   {
    "duration": 161,
    "start_time": "2021-09-22T12:39:45.309Z"
   },
   {
    "duration": 94,
    "start_time": "2021-09-22T12:39:45.473Z"
   },
   {
    "duration": 100,
    "start_time": "2021-09-22T12:39:45.571Z"
   },
   {
    "duration": 7,
    "start_time": "2021-09-22T12:39:45.674Z"
   },
   {
    "duration": 4,
    "start_time": "2021-09-22T12:39:45.684Z"
   },
   {
    "duration": 6,
    "start_time": "2021-09-22T12:39:45.690Z"
   },
   {
    "duration": 10,
    "start_time": "2021-09-22T12:39:45.699Z"
   },
   {
    "duration": 11,
    "start_time": "2021-09-22T12:39:45.712Z"
   },
   {
    "duration": 47,
    "start_time": "2021-09-22T12:39:45.726Z"
   },
   {
    "duration": 5,
    "start_time": "2021-09-22T12:39:45.776Z"
   },
   {
    "duration": 7,
    "start_time": "2021-09-22T12:39:45.783Z"
   },
   {
    "duration": 4,
    "start_time": "2021-09-22T12:39:45.793Z"
   },
   {
    "duration": 16,
    "start_time": "2021-09-22T12:39:45.802Z"
   },
   {
    "duration": 34,
    "start_time": "2021-09-22T12:39:45.821Z"
   },
   {
    "duration": 6,
    "start_time": "2021-09-22T12:39:45.858Z"
   },
   {
    "duration": 6,
    "start_time": "2021-09-22T12:39:45.867Z"
   },
   {
    "duration": 8,
    "start_time": "2021-09-22T12:39:45.876Z"
   },
   {
    "duration": 23,
    "start_time": "2021-09-22T12:39:45.887Z"
   },
   {
    "duration": 63,
    "start_time": "2021-09-22T12:39:45.913Z"
   },
   {
    "duration": 8,
    "start_time": "2021-09-22T12:39:45.979Z"
   },
   {
    "duration": 7,
    "start_time": "2021-09-22T12:39:45.991Z"
   },
   {
    "duration": 2582,
    "start_time": "2021-09-22T12:39:46.001Z"
   },
   {
    "duration": -965,
    "start_time": "2021-09-22T12:39:49.551Z"
   },
   {
    "duration": -965,
    "start_time": "2021-09-22T12:39:49.553Z"
   },
   {
    "duration": -965,
    "start_time": "2021-09-22T12:39:49.555Z"
   },
   {
    "duration": -965,
    "start_time": "2021-09-22T12:39:49.557Z"
   },
   {
    "duration": -967,
    "start_time": "2021-09-22T12:39:49.561Z"
   },
   {
    "duration": -970,
    "start_time": "2021-09-22T12:39:49.566Z"
   },
   {
    "duration": -969,
    "start_time": "2021-09-22T12:39:49.568Z"
   },
   {
    "duration": 1621,
    "start_time": "2021-09-22T12:42:29.111Z"
   },
   {
    "duration": 4947,
    "start_time": "2021-09-22T12:42:30.736Z"
   },
   {
    "duration": 16,
    "start_time": "2021-09-22T12:42:35.685Z"
   },
   {
    "duration": 5,
    "start_time": "2021-09-22T12:42:35.704Z"
   },
   {
    "duration": 29,
    "start_time": "2021-09-22T12:42:35.712Z"
   },
   {
    "duration": 25,
    "start_time": "2021-09-22T12:42:35.756Z"
   },
   {
    "duration": 10,
    "start_time": "2021-09-22T12:42:35.784Z"
   },
   {
    "duration": 60,
    "start_time": "2021-09-22T12:42:35.797Z"
   },
   {
    "duration": 13,
    "start_time": "2021-09-22T12:42:35.863Z"
   },
   {
    "duration": 12,
    "start_time": "2021-09-22T12:42:35.879Z"
   },
   {
    "duration": 27,
    "start_time": "2021-09-22T12:42:35.894Z"
   },
   {
    "duration": 4,
    "start_time": "2021-09-22T12:42:35.924Z"
   },
   {
    "duration": 5,
    "start_time": "2021-09-22T12:42:35.960Z"
   },
   {
    "duration": 7,
    "start_time": "2021-09-22T12:42:35.971Z"
   },
   {
    "duration": 196,
    "start_time": "2021-09-22T12:42:35.981Z"
   },
   {
    "duration": 95,
    "start_time": "2021-09-22T12:42:36.268Z"
   },
   {
    "duration": 10,
    "start_time": "2021-09-22T12:42:36.368Z"
   },
   {
    "duration": 9,
    "start_time": "2021-09-22T12:42:36.380Z"
   },
   {
    "duration": 4,
    "start_time": "2021-09-22T12:42:36.392Z"
   },
   {
    "duration": 12,
    "start_time": "2021-09-22T12:42:36.398Z"
   },
   {
    "duration": 1411,
    "start_time": "2021-09-22T12:42:36.412Z"
   },
   {
    "duration": -889,
    "start_time": "2021-09-22T12:42:38.716Z"
   },
   {
    "duration": -891,
    "start_time": "2021-09-22T12:42:38.719Z"
   },
   {
    "duration": -891,
    "start_time": "2021-09-22T12:42:38.721Z"
   },
   {
    "duration": -916,
    "start_time": "2021-09-22T12:42:38.747Z"
   },
   {
    "duration": -916,
    "start_time": "2021-09-22T12:42:38.749Z"
   },
   {
    "duration": -919,
    "start_time": "2021-09-22T12:42:38.753Z"
   },
   {
    "duration": -923,
    "start_time": "2021-09-22T12:42:38.758Z"
   },
   {
    "duration": -928,
    "start_time": "2021-09-22T12:42:38.764Z"
   },
   {
    "duration": -930,
    "start_time": "2021-09-22T12:42:38.767Z"
   },
   {
    "duration": -931,
    "start_time": "2021-09-22T12:42:38.770Z"
   },
   {
    "duration": -932,
    "start_time": "2021-09-22T12:42:38.772Z"
   },
   {
    "duration": -934,
    "start_time": "2021-09-22T12:42:38.775Z"
   },
   {
    "duration": -939,
    "start_time": "2021-09-22T12:42:38.781Z"
   },
   {
    "duration": -939,
    "start_time": "2021-09-22T12:42:38.783Z"
   },
   {
    "duration": -941,
    "start_time": "2021-09-22T12:42:38.786Z"
   },
   {
    "duration": -943,
    "start_time": "2021-09-22T12:42:38.789Z"
   },
   {
    "duration": -943,
    "start_time": "2021-09-22T12:42:38.791Z"
   },
   {
    "duration": -948,
    "start_time": "2021-09-22T12:42:38.797Z"
   },
   {
    "duration": -949,
    "start_time": "2021-09-22T12:42:38.799Z"
   },
   {
    "duration": -950,
    "start_time": "2021-09-22T12:42:38.802Z"
   },
   {
    "duration": -951,
    "start_time": "2021-09-22T12:42:38.804Z"
   },
   {
    "duration": -948,
    "start_time": "2021-09-22T12:42:38.806Z"
   },
   {
    "duration": -948,
    "start_time": "2021-09-22T12:42:38.809Z"
   },
   {
    "duration": -951,
    "start_time": "2021-09-22T12:42:38.814Z"
   },
   {
    "duration": 10,
    "start_time": "2021-09-22T12:44:43.082Z"
   },
   {
    "duration": 7,
    "start_time": "2021-09-22T12:44:53.721Z"
   },
   {
    "duration": 6,
    "start_time": "2021-09-22T12:44:54.492Z"
   },
   {
    "duration": 9,
    "start_time": "2021-09-22T12:45:19.002Z"
   },
   {
    "duration": 12,
    "start_time": "2021-09-22T12:45:22.932Z"
   },
   {
    "duration": 8,
    "start_time": "2021-09-22T12:45:33.832Z"
   },
   {
    "duration": 7,
    "start_time": "2021-09-22T12:45:33.995Z"
   },
   {
    "duration": 13,
    "start_time": "2021-09-22T12:45:34.175Z"
   },
   {
    "duration": 8,
    "start_time": "2021-09-22T12:45:39.521Z"
   },
   {
    "duration": 11,
    "start_time": "2021-09-22T12:45:39.532Z"
   },
   {
    "duration": 12,
    "start_time": "2021-09-22T12:45:40.625Z"
   },
   {
    "duration": 10,
    "start_time": "2021-09-22T12:46:05.139Z"
   },
   {
    "duration": 14,
    "start_time": "2021-09-22T12:46:05.362Z"
   },
   {
    "duration": 12,
    "start_time": "2021-09-22T12:46:05.732Z"
   },
   {
    "duration": 9,
    "start_time": "2021-09-22T12:46:15.690Z"
   },
   {
    "duration": 13,
    "start_time": "2021-09-22T12:46:16.074Z"
   },
   {
    "duration": 1689,
    "start_time": "2021-09-22T12:46:50.886Z"
   },
   {
    "duration": 2393,
    "start_time": "2021-09-22T12:46:52.578Z"
   },
   {
    "duration": 18,
    "start_time": "2021-09-22T12:46:54.973Z"
   },
   {
    "duration": 9,
    "start_time": "2021-09-22T12:46:54.993Z"
   },
   {
    "duration": 22,
    "start_time": "2021-09-22T12:46:55.004Z"
   },
   {
    "duration": 41,
    "start_time": "2021-09-22T12:46:55.029Z"
   },
   {
    "duration": 5,
    "start_time": "2021-09-22T12:46:55.073Z"
   },
   {
    "duration": 19,
    "start_time": "2021-09-22T12:46:55.082Z"
   },
   {
    "duration": 12,
    "start_time": "2021-09-22T12:46:55.104Z"
   },
   {
    "duration": 46,
    "start_time": "2021-09-22T12:46:55.118Z"
   },
   {
    "duration": 21,
    "start_time": "2021-09-22T12:46:55.168Z"
   },
   {
    "duration": 4,
    "start_time": "2021-09-22T12:46:55.191Z"
   },
   {
    "duration": 8,
    "start_time": "2021-09-22T12:46:55.197Z"
   },
   {
    "duration": 11,
    "start_time": "2021-09-22T12:46:55.207Z"
   },
   {
    "duration": 340,
    "start_time": "2021-09-22T12:46:55.220Z"
   },
   {
    "duration": 100,
    "start_time": "2021-09-22T12:46:55.563Z"
   },
   {
    "duration": 6,
    "start_time": "2021-09-22T12:46:55.669Z"
   },
   {
    "duration": 9,
    "start_time": "2021-09-22T12:46:55.678Z"
   },
   {
    "duration": 5,
    "start_time": "2021-09-22T12:46:55.689Z"
   },
   {
    "duration": 7,
    "start_time": "2021-09-22T12:46:55.696Z"
   },
   {
    "duration": 6,
    "start_time": "2021-09-22T12:46:55.706Z"
   },
   {
    "duration": 954,
    "start_time": "2021-09-22T12:46:55.714Z"
   },
   {
    "duration": -847,
    "start_time": "2021-09-22T12:46:57.519Z"
   },
   {
    "duration": -848,
    "start_time": "2021-09-22T12:46:57.521Z"
   },
   {
    "duration": -854,
    "start_time": "2021-09-22T12:46:57.529Z"
   },
   {
    "duration": -856,
    "start_time": "2021-09-22T12:46:57.532Z"
   },
   {
    "duration": -856,
    "start_time": "2021-09-22T12:46:57.534Z"
   },
   {
    "duration": -869,
    "start_time": "2021-09-22T12:46:57.548Z"
   },
   {
    "duration": -870,
    "start_time": "2021-09-22T12:46:57.551Z"
   },
   {
    "duration": -871,
    "start_time": "2021-09-22T12:46:57.553Z"
   },
   {
    "duration": -872,
    "start_time": "2021-09-22T12:46:57.555Z"
   },
   {
    "duration": -873,
    "start_time": "2021-09-22T12:46:57.558Z"
   },
   {
    "duration": -877,
    "start_time": "2021-09-22T12:46:57.563Z"
   },
   {
    "duration": -878,
    "start_time": "2021-09-22T12:46:57.566Z"
   },
   {
    "duration": -879,
    "start_time": "2021-09-22T12:46:57.568Z"
   },
   {
    "duration": -879,
    "start_time": "2021-09-22T12:46:57.570Z"
   },
   {
    "duration": -881,
    "start_time": "2021-09-22T12:46:57.573Z"
   },
   {
    "duration": -900,
    "start_time": "2021-09-22T12:46:57.594Z"
   },
   {
    "duration": -904,
    "start_time": "2021-09-22T12:46:57.599Z"
   },
   {
    "duration": -905,
    "start_time": "2021-09-22T12:46:57.602Z"
   },
   {
    "duration": -907,
    "start_time": "2021-09-22T12:46:57.605Z"
   },
   {
    "duration": -907,
    "start_time": "2021-09-22T12:46:57.607Z"
   },
   {
    "duration": -912,
    "start_time": "2021-09-22T12:46:57.613Z"
   },
   {
    "duration": -913,
    "start_time": "2021-09-22T12:46:57.616Z"
   },
   {
    "duration": -915,
    "start_time": "2021-09-22T12:46:57.619Z"
   },
   {
    "duration": -918,
    "start_time": "2021-09-22T12:46:57.623Z"
   },
   {
    "duration": 1603,
    "start_time": "2021-09-22T12:47:15.890Z"
   },
   {
    "duration": 4612,
    "start_time": "2021-09-22T12:47:17.496Z"
   },
   {
    "duration": 16,
    "start_time": "2021-09-22T12:47:22.112Z"
   },
   {
    "duration": 25,
    "start_time": "2021-09-22T12:47:22.130Z"
   },
   {
    "duration": 29,
    "start_time": "2021-09-22T12:47:22.161Z"
   },
   {
    "duration": 20,
    "start_time": "2021-09-22T12:47:22.193Z"
   },
   {
    "duration": 28,
    "start_time": "2021-09-22T12:47:22.215Z"
   },
   {
    "duration": 50,
    "start_time": "2021-09-22T12:47:22.246Z"
   },
   {
    "duration": 13,
    "start_time": "2021-09-22T12:47:22.302Z"
   },
   {
    "duration": 21,
    "start_time": "2021-09-22T12:47:22.318Z"
   },
   {
    "duration": 36,
    "start_time": "2021-09-22T12:47:22.341Z"
   },
   {
    "duration": 11,
    "start_time": "2021-09-22T12:47:22.379Z"
   },
   {
    "duration": 22,
    "start_time": "2021-09-22T12:47:22.393Z"
   },
   {
    "duration": 28,
    "start_time": "2021-09-22T12:47:22.417Z"
   },
   {
    "duration": 312,
    "start_time": "2021-09-22T12:47:22.447Z"
   },
   {
    "duration": 17,
    "start_time": "2021-09-22T12:47:22.762Z"
   },
   {
    "duration": 7,
    "start_time": "2021-09-22T12:47:22.869Z"
   },
   {
    "duration": 24,
    "start_time": "2021-09-22T12:47:22.878Z"
   },
   {
    "duration": 18,
    "start_time": "2021-09-22T12:47:22.904Z"
   },
   {
    "duration": 29,
    "start_time": "2021-09-22T12:47:22.924Z"
   },
   {
    "duration": 18,
    "start_time": "2021-09-22T12:47:22.955Z"
   },
   {
    "duration": 24,
    "start_time": "2021-09-22T12:47:22.976Z"
   },
   {
    "duration": 9,
    "start_time": "2021-09-22T12:47:23.002Z"
   },
   {
    "duration": 8,
    "start_time": "2021-09-22T12:47:23.013Z"
   },
   {
    "duration": 13,
    "start_time": "2021-09-22T12:47:23.024Z"
   },
   {
    "duration": 10,
    "start_time": "2021-09-22T12:47:23.039Z"
   },
   {
    "duration": 10,
    "start_time": "2021-09-22T12:47:23.057Z"
   },
   {
    "duration": 18,
    "start_time": "2021-09-22T12:47:23.071Z"
   },
   {
    "duration": 15,
    "start_time": "2021-09-22T12:47:23.091Z"
   },
   {
    "duration": 16,
    "start_time": "2021-09-22T12:47:23.109Z"
   },
   {
    "duration": 22,
    "start_time": "2021-09-22T12:47:23.128Z"
   },
   {
    "duration": 26,
    "start_time": "2021-09-22T12:47:23.153Z"
   },
   {
    "duration": 15,
    "start_time": "2021-09-22T12:47:23.182Z"
   },
   {
    "duration": 20,
    "start_time": "2021-09-22T12:47:23.199Z"
   },
   {
    "duration": 526,
    "start_time": "2021-09-22T12:47:23.221Z"
   },
   {
    "duration": -850,
    "start_time": "2021-09-22T12:47:24.600Z"
   },
   {
    "duration": -851,
    "start_time": "2021-09-22T12:47:24.602Z"
   },
   {
    "duration": -852,
    "start_time": "2021-09-22T12:47:24.604Z"
   },
   {
    "duration": -852,
    "start_time": "2021-09-22T12:47:24.606Z"
   },
   {
    "duration": -866,
    "start_time": "2021-09-22T12:47:24.625Z"
   },
   {
    "duration": -869,
    "start_time": "2021-09-22T12:47:24.630Z"
   },
   {
    "duration": -870,
    "start_time": "2021-09-22T12:47:24.633Z"
   },
   {
    "duration": -869,
    "start_time": "2021-09-22T12:47:24.635Z"
   },
   {
    "duration": -869,
    "start_time": "2021-09-22T12:47:24.637Z"
   },
   {
    "duration": -870,
    "start_time": "2021-09-22T12:47:24.640Z"
   },
   {
    "duration": -874,
    "start_time": "2021-09-22T12:47:24.645Z"
   },
   {
    "duration": 1622,
    "start_time": "2021-09-22T12:47:33.535Z"
   },
   {
    "duration": 6829,
    "start_time": "2021-09-22T12:47:35.161Z"
   },
   {
    "duration": 16,
    "start_time": "2021-09-22T12:47:41.993Z"
   },
   {
    "duration": 14,
    "start_time": "2021-09-22T12:47:42.012Z"
   },
   {
    "duration": 31,
    "start_time": "2021-09-22T12:47:42.028Z"
   },
   {
    "duration": 14,
    "start_time": "2021-09-22T12:47:42.062Z"
   },
   {
    "duration": 12,
    "start_time": "2021-09-22T12:47:42.078Z"
   },
   {
    "duration": 22,
    "start_time": "2021-09-22T12:47:42.094Z"
   },
   {
    "duration": 20,
    "start_time": "2021-09-22T12:47:42.119Z"
   },
   {
    "duration": 10,
    "start_time": "2021-09-22T12:47:42.141Z"
   },
   {
    "duration": 33,
    "start_time": "2021-09-22T12:47:42.153Z"
   },
   {
    "duration": 3,
    "start_time": "2021-09-22T12:47:42.189Z"
   },
   {
    "duration": 7,
    "start_time": "2021-09-22T12:47:42.194Z"
   },
   {
    "duration": 11,
    "start_time": "2021-09-22T12:47:42.205Z"
   },
   {
    "duration": 263,
    "start_time": "2021-09-22T12:47:42.219Z"
   },
   {
    "duration": 93,
    "start_time": "2021-09-22T12:47:42.484Z"
   },
   {
    "duration": 6,
    "start_time": "2021-09-22T12:47:42.668Z"
   },
   {
    "duration": 12,
    "start_time": "2021-09-22T12:47:42.676Z"
   },
   {
    "duration": 6,
    "start_time": "2021-09-22T12:47:42.690Z"
   },
   {
    "duration": 8,
    "start_time": "2021-09-22T12:47:42.699Z"
   },
   {
    "duration": 16,
    "start_time": "2021-09-22T12:47:42.709Z"
   },
   {
    "duration": 11,
    "start_time": "2021-09-22T12:47:42.727Z"
   },
   {
    "duration": 10,
    "start_time": "2021-09-22T12:47:42.743Z"
   },
   {
    "duration": 22,
    "start_time": "2021-09-22T12:47:42.757Z"
   },
   {
    "duration": 13,
    "start_time": "2021-09-22T12:47:42.781Z"
   },
   {
    "duration": 18,
    "start_time": "2021-09-22T12:47:42.796Z"
   },
   {
    "duration": 16,
    "start_time": "2021-09-22T12:47:42.816Z"
   },
   {
    "duration": 35,
    "start_time": "2021-09-22T12:47:42.834Z"
   },
   {
    "duration": 27,
    "start_time": "2021-09-22T12:47:42.871Z"
   },
   {
    "duration": 25,
    "start_time": "2021-09-22T12:47:42.900Z"
   },
   {
    "duration": 21,
    "start_time": "2021-09-22T12:47:42.928Z"
   },
   {
    "duration": 37,
    "start_time": "2021-09-22T12:47:42.952Z"
   },
   {
    "duration": 21,
    "start_time": "2021-09-22T12:47:42.991Z"
   },
   {
    "duration": 24,
    "start_time": "2021-09-22T12:47:43.014Z"
   },
   {
    "duration": 1453,
    "start_time": "2021-09-22T12:47:43.040Z"
   },
   {
    "duration": -1085,
    "start_time": "2021-09-22T12:47:45.580Z"
   },
   {
    "duration": -1087,
    "start_time": "2021-09-22T12:47:45.583Z"
   },
   {
    "duration": -1087,
    "start_time": "2021-09-22T12:47:45.585Z"
   },
   {
    "duration": -1088,
    "start_time": "2021-09-22T12:47:45.587Z"
   },
   {
    "duration": -1089,
    "start_time": "2021-09-22T12:47:45.589Z"
   },
   {
    "duration": -1091,
    "start_time": "2021-09-22T12:47:45.592Z"
   },
   {
    "duration": -1095,
    "start_time": "2021-09-22T12:47:45.597Z"
   },
   {
    "duration": -1096,
    "start_time": "2021-09-22T12:47:45.599Z"
   },
   {
    "duration": -1096,
    "start_time": "2021-09-22T12:47:45.601Z"
   },
   {
    "duration": -1098,
    "start_time": "2021-09-22T12:47:45.604Z"
   },
   {
    "duration": 1727,
    "start_time": "2021-09-22T12:49:02.776Z"
   },
   {
    "duration": 4651,
    "start_time": "2021-09-22T12:49:04.506Z"
   },
   {
    "duration": 20,
    "start_time": "2021-09-22T12:49:09.160Z"
   },
   {
    "duration": 19,
    "start_time": "2021-09-22T12:49:09.183Z"
   },
   {
    "duration": 32,
    "start_time": "2021-09-22T12:49:09.204Z"
   },
   {
    "duration": 28,
    "start_time": "2021-09-22T12:49:09.239Z"
   },
   {
    "duration": 21,
    "start_time": "2021-09-22T12:49:09.271Z"
   },
   {
    "duration": 45,
    "start_time": "2021-09-22T12:49:09.294Z"
   },
   {
    "duration": 17,
    "start_time": "2021-09-22T12:49:09.345Z"
   },
   {
    "duration": 19,
    "start_time": "2021-09-22T12:49:09.367Z"
   },
   {
    "duration": 33,
    "start_time": "2021-09-22T12:49:09.389Z"
   },
   {
    "duration": 5,
    "start_time": "2021-09-22T12:49:09.425Z"
   },
   {
    "duration": 17,
    "start_time": "2021-09-22T12:49:09.432Z"
   },
   {
    "duration": 21,
    "start_time": "2021-09-22T12:49:09.452Z"
   },
   {
    "duration": 287,
    "start_time": "2021-09-22T12:49:09.476Z"
   },
   {
    "duration": 103,
    "start_time": "2021-09-22T12:49:09.766Z"
   },
   {
    "duration": 6,
    "start_time": "2021-09-22T12:49:09.872Z"
   },
   {
    "duration": 21,
    "start_time": "2021-09-22T12:49:09.881Z"
   },
   {
    "duration": 30,
    "start_time": "2021-09-22T12:49:09.904Z"
   },
   {
    "duration": 23,
    "start_time": "2021-09-22T12:49:09.937Z"
   },
   {
    "duration": 21,
    "start_time": "2021-09-22T12:49:09.963Z"
   },
   {
    "duration": 19,
    "start_time": "2021-09-22T12:49:09.986Z"
   },
   {
    "duration": 20,
    "start_time": "2021-09-22T12:49:10.007Z"
   },
   {
    "duration": 14,
    "start_time": "2021-09-22T12:49:10.029Z"
   },
   {
    "duration": 21,
    "start_time": "2021-09-22T12:49:10.046Z"
   },
   {
    "duration": 10,
    "start_time": "2021-09-22T12:49:10.072Z"
   },
   {
    "duration": 21,
    "start_time": "2021-09-22T12:49:10.086Z"
   },
   {
    "duration": 21,
    "start_time": "2021-09-22T12:49:10.110Z"
   },
   {
    "duration": 21,
    "start_time": "2021-09-22T12:49:10.133Z"
   },
   {
    "duration": 15,
    "start_time": "2021-09-22T12:49:10.161Z"
   },
   {
    "duration": 20,
    "start_time": "2021-09-22T12:49:10.178Z"
   },
   {
    "duration": 22,
    "start_time": "2021-09-22T12:49:10.201Z"
   },
   {
    "duration": 22,
    "start_time": "2021-09-22T12:49:10.225Z"
   },
   {
    "duration": 37,
    "start_time": "2021-09-22T12:49:10.249Z"
   },
   {
    "duration": 20,
    "start_time": "2021-09-22T12:49:10.289Z"
   },
   {
    "duration": 20,
    "start_time": "2021-09-22T12:49:10.312Z"
   },
   {
    "duration": 34,
    "start_time": "2021-09-22T12:49:10.334Z"
   },
   {
    "duration": 700,
    "start_time": "2021-09-22T12:49:10.372Z"
   },
   {
    "duration": -908,
    "start_time": "2021-09-22T12:49:11.983Z"
   },
   {
    "duration": -909,
    "start_time": "2021-09-22T12:49:11.986Z"
   },
   {
    "duration": -909,
    "start_time": "2021-09-22T12:49:11.988Z"
   },
   {
    "duration": -911,
    "start_time": "2021-09-22T12:49:11.991Z"
   },
   {
    "duration": -914,
    "start_time": "2021-09-22T12:49:11.997Z"
   },
   {
    "duration": -916,
    "start_time": "2021-09-22T12:49:12.000Z"
   },
   {
    "duration": -916,
    "start_time": "2021-09-22T12:49:12.002Z"
   },
   {
    "duration": 7,
    "start_time": "2021-09-22T12:50:16.602Z"
   },
   {
    "duration": 10,
    "start_time": "2021-09-22T12:50:27.163Z"
   },
   {
    "duration": 1636,
    "start_time": "2021-09-22T12:51:35.231Z"
   },
   {
    "duration": 2752,
    "start_time": "2021-09-22T12:51:36.870Z"
   },
   {
    "duration": 16,
    "start_time": "2021-09-22T12:51:39.625Z"
   },
   {
    "duration": 10,
    "start_time": "2021-09-22T12:51:39.643Z"
   },
   {
    "duration": 24,
    "start_time": "2021-09-22T12:51:39.660Z"
   },
   {
    "duration": 12,
    "start_time": "2021-09-22T12:51:39.687Z"
   },
   {
    "duration": 16,
    "start_time": "2021-09-22T12:51:39.701Z"
   },
   {
    "duration": 20,
    "start_time": "2021-09-22T12:51:39.720Z"
   },
   {
    "duration": 11,
    "start_time": "2021-09-22T12:51:39.743Z"
   },
   {
    "duration": 22,
    "start_time": "2021-09-22T12:51:39.762Z"
   },
   {
    "duration": 22,
    "start_time": "2021-09-22T12:51:39.786Z"
   },
   {
    "duration": 3,
    "start_time": "2021-09-22T12:51:39.810Z"
   },
   {
    "duration": 9,
    "start_time": "2021-09-22T12:51:39.815Z"
   },
   {
    "duration": 13,
    "start_time": "2021-09-22T12:51:39.826Z"
   },
   {
    "duration": 232,
    "start_time": "2021-09-22T12:51:39.841Z"
   },
   {
    "duration": 88,
    "start_time": "2021-09-22T12:51:40.076Z"
   },
   {
    "duration": 93,
    "start_time": "2021-09-22T12:51:40.174Z"
   },
   {
    "duration": 11,
    "start_time": "2021-09-22T12:51:40.269Z"
   },
   {
    "duration": 6,
    "start_time": "2021-09-22T12:51:40.282Z"
   },
   {
    "duration": 9,
    "start_time": "2021-09-22T12:51:40.290Z"
   },
   {
    "duration": 7,
    "start_time": "2021-09-22T12:51:40.302Z"
   },
   {
    "duration": 10,
    "start_time": "2021-09-22T12:51:40.311Z"
   },
   {
    "duration": 7,
    "start_time": "2021-09-22T12:51:40.326Z"
   },
   {
    "duration": 7,
    "start_time": "2021-09-22T12:51:40.336Z"
   },
   {
    "duration": 9,
    "start_time": "2021-09-22T12:51:40.345Z"
   },
   {
    "duration": 7,
    "start_time": "2021-09-22T12:51:40.361Z"
   },
   {
    "duration": 13,
    "start_time": "2021-09-22T12:51:40.370Z"
   },
   {
    "duration": 12,
    "start_time": "2021-09-22T12:51:40.386Z"
   },
   {
    "duration": 19,
    "start_time": "2021-09-22T12:51:40.400Z"
   },
   {
    "duration": 12,
    "start_time": "2021-09-22T12:51:40.421Z"
   },
   {
    "duration": 10,
    "start_time": "2021-09-22T12:51:40.435Z"
   },
   {
    "duration": 19,
    "start_time": "2021-09-22T12:51:40.447Z"
   },
   {
    "duration": 1611,
    "start_time": "2021-09-22T12:51:40.470Z"
   },
   {
    "duration": -1723,
    "start_time": "2021-09-22T12:51:43.807Z"
   },
   {
    "duration": -1727,
    "start_time": "2021-09-22T12:51:43.812Z"
   },
   {
    "duration": -1729,
    "start_time": "2021-09-22T12:51:43.816Z"
   },
   {
    "duration": -1729,
    "start_time": "2021-09-22T12:51:43.818Z"
   },
   {
    "duration": -1740,
    "start_time": "2021-09-22T12:51:43.830Z"
   },
   {
    "duration": -1741,
    "start_time": "2021-09-22T12:51:43.832Z"
   },
   {
    "duration": -1742,
    "start_time": "2021-09-22T12:51:43.835Z"
   },
   {
    "duration": -1759,
    "start_time": "2021-09-22T12:51:43.853Z"
   },
   {
    "duration": -1761,
    "start_time": "2021-09-22T12:51:43.856Z"
   },
   {
    "duration": -1764,
    "start_time": "2021-09-22T12:51:43.861Z"
   },
   {
    "duration": -1766,
    "start_time": "2021-09-22T12:51:43.864Z"
   },
   {
    "duration": -1767,
    "start_time": "2021-09-22T12:51:43.866Z"
   },
   {
    "duration": -1768,
    "start_time": "2021-09-22T12:51:43.869Z"
   },
   {
    "duration": -1770,
    "start_time": "2021-09-22T12:51:43.872Z"
   },
   {
    "duration": -1771,
    "start_time": "2021-09-22T12:51:43.874Z"
   },
   {
    "duration": -1777,
    "start_time": "2021-09-22T12:51:43.882Z"
   },
   {
    "duration": -1777,
    "start_time": "2021-09-22T12:51:43.883Z"
   },
   {
    "duration": 1646,
    "start_time": "2021-09-22T12:52:19.088Z"
   },
   {
    "duration": 1676,
    "start_time": "2021-09-22T12:53:21.644Z"
   },
   {
    "duration": 18,
    "start_time": "2021-09-22T12:53:27.567Z"
   },
   {
    "duration": 7,
    "start_time": "2021-09-22T12:53:27.587Z"
   },
   {
    "duration": 21,
    "start_time": "2021-09-22T12:53:27.596Z"
   },
   {
    "duration": 12,
    "start_time": "2021-09-22T12:53:27.620Z"
   },
   {
    "duration": 8,
    "start_time": "2021-09-22T12:53:27.662Z"
   },
   {
    "duration": 20,
    "start_time": "2021-09-22T12:53:27.674Z"
   },
   {
    "duration": 12,
    "start_time": "2021-09-22T12:53:27.697Z"
   },
   {
    "duration": 10,
    "start_time": "2021-09-22T12:53:27.712Z"
   },
   {
    "duration": 54,
    "start_time": "2021-09-22T12:53:27.724Z"
   },
   {
    "duration": 3,
    "start_time": "2021-09-22T12:53:27.780Z"
   },
   {
    "duration": 5,
    "start_time": "2021-09-22T12:53:27.785Z"
   },
   {
    "duration": 9,
    "start_time": "2021-09-22T12:53:27.792Z"
   },
   {
    "duration": 264,
    "start_time": "2021-09-22T12:53:27.803Z"
   },
   {
    "duration": 98,
    "start_time": "2021-09-22T12:53:28.069Z"
   },
   {
    "duration": 9,
    "start_time": "2021-09-22T12:53:28.170Z"
   },
   {
    "duration": 18,
    "start_time": "2021-09-22T12:53:28.255Z"
   },
   {
    "duration": 4,
    "start_time": "2021-09-22T12:53:28.277Z"
   },
   {
    "duration": 6,
    "start_time": "2021-09-22T12:53:28.284Z"
   },
   {
    "duration": 15,
    "start_time": "2021-09-22T12:53:28.293Z"
   },
   {
    "duration": 13,
    "start_time": "2021-09-22T12:53:28.311Z"
   },
   {
    "duration": 37,
    "start_time": "2021-09-22T12:53:28.330Z"
   },
   {
    "duration": 4,
    "start_time": "2021-09-22T12:53:28.371Z"
   },
   {
    "duration": 19,
    "start_time": "2021-09-22T12:53:28.377Z"
   },
   {
    "duration": 32,
    "start_time": "2021-09-22T12:53:28.399Z"
   },
   {
    "duration": 27,
    "start_time": "2021-09-22T12:53:28.434Z"
   },
   {
    "duration": 15,
    "start_time": "2021-09-22T12:53:28.464Z"
   },
   {
    "duration": 9,
    "start_time": "2021-09-22T12:53:28.481Z"
   },
   {
    "duration": 14,
    "start_time": "2021-09-22T12:53:28.493Z"
   },
   {
    "duration": 10,
    "start_time": "2021-09-22T12:53:28.509Z"
   },
   {
    "duration": 11,
    "start_time": "2021-09-22T12:53:28.522Z"
   },
   {
    "duration": 8,
    "start_time": "2021-09-22T12:53:28.536Z"
   },
   {
    "duration": 28,
    "start_time": "2021-09-22T12:53:28.547Z"
   },
   {
    "duration": 11,
    "start_time": "2021-09-22T12:53:28.577Z"
   },
   {
    "duration": 12,
    "start_time": "2021-09-22T12:53:28.590Z"
   },
   {
    "duration": 17,
    "start_time": "2021-09-22T12:53:28.605Z"
   },
   {
    "duration": 19,
    "start_time": "2021-09-22T12:53:28.624Z"
   },
   {
    "duration": 1471,
    "start_time": "2021-09-22T12:53:28.646Z"
   },
   {
    "duration": -914,
    "start_time": "2021-09-22T12:53:31.034Z"
   },
   {
    "duration": -917,
    "start_time": "2021-09-22T12:53:31.038Z"
   },
   {
    "duration": -918,
    "start_time": "2021-09-22T12:53:31.041Z"
   },
   {
    "duration": -922,
    "start_time": "2021-09-22T12:53:31.047Z"
   },
   {
    "duration": -922,
    "start_time": "2021-09-22T12:53:31.049Z"
   },
   {
    "duration": -923,
    "start_time": "2021-09-22T12:53:31.051Z"
   },
   {
    "duration": -924,
    "start_time": "2021-09-22T12:53:31.054Z"
   },
   {
    "duration": -926,
    "start_time": "2021-09-22T12:53:31.057Z"
   },
   {
    "duration": -930,
    "start_time": "2021-09-22T12:53:31.062Z"
   },
   {
    "duration": -929,
    "start_time": "2021-09-22T12:53:31.063Z"
   },
   {
    "duration": -931,
    "start_time": "2021-09-22T12:53:31.066Z"
   },
   {
    "duration": 1603,
    "start_time": "2021-09-22T12:53:52.332Z"
   },
   {
    "duration": 3345,
    "start_time": "2021-09-22T12:53:53.938Z"
   },
   {
    "duration": 19,
    "start_time": "2021-09-22T12:53:57.288Z"
   },
   {
    "duration": 7,
    "start_time": "2021-09-22T12:53:57.310Z"
   },
   {
    "duration": 50,
    "start_time": "2021-09-22T12:53:57.320Z"
   },
   {
    "duration": 12,
    "start_time": "2021-09-22T12:53:57.373Z"
   },
   {
    "duration": 10,
    "start_time": "2021-09-22T12:53:57.387Z"
   },
   {
    "duration": 21,
    "start_time": "2021-09-22T12:53:57.399Z"
   },
   {
    "duration": 12,
    "start_time": "2021-09-22T12:53:57.423Z"
   },
   {
    "duration": 10,
    "start_time": "2021-09-22T12:53:57.463Z"
   },
   {
    "duration": 21,
    "start_time": "2021-09-22T12:53:57.476Z"
   },
   {
    "duration": 4,
    "start_time": "2021-09-22T12:53:57.500Z"
   },
   {
    "duration": 7,
    "start_time": "2021-09-22T12:53:57.507Z"
   },
   {
    "duration": 52,
    "start_time": "2021-09-22T12:53:57.516Z"
   },
   {
    "duration": 287,
    "start_time": "2021-09-22T12:53:57.571Z"
   },
   {
    "duration": 9,
    "start_time": "2021-09-22T12:53:57.861Z"
   },
   {
    "duration": 97,
    "start_time": "2021-09-22T12:53:57.877Z"
   },
   {
    "duration": 9,
    "start_time": "2021-09-22T12:53:57.976Z"
   },
   {
    "duration": 8,
    "start_time": "2021-09-22T12:53:57.988Z"
   },
   {
    "duration": 10,
    "start_time": "2021-09-22T12:53:57.998Z"
   },
   {
    "duration": 8,
    "start_time": "2021-09-22T12:53:58.010Z"
   },
   {
    "duration": 9,
    "start_time": "2021-09-22T12:53:58.021Z"
   },
   {
    "duration": 29,
    "start_time": "2021-09-22T12:53:58.032Z"
   },
   {
    "duration": 5,
    "start_time": "2021-09-22T12:53:58.064Z"
   },
   {
    "duration": 7,
    "start_time": "2021-09-22T12:53:58.072Z"
   },
   {
    "duration": 12,
    "start_time": "2021-09-22T12:53:58.081Z"
   },
   {
    "duration": 14,
    "start_time": "2021-09-22T12:53:58.098Z"
   },
   {
    "duration": 22,
    "start_time": "2021-09-22T12:53:58.115Z"
   },
   {
    "duration": 10,
    "start_time": "2021-09-22T12:53:58.140Z"
   },
   {
    "duration": 13,
    "start_time": "2021-09-22T12:53:58.161Z"
   },
   {
    "duration": 5,
    "start_time": "2021-09-22T12:53:58.177Z"
   },
   {
    "duration": 10,
    "start_time": "2021-09-22T12:53:58.184Z"
   },
   {
    "duration": 8,
    "start_time": "2021-09-22T12:53:58.197Z"
   },
   {
    "duration": 15,
    "start_time": "2021-09-22T12:53:58.207Z"
   },
   {
    "duration": 10,
    "start_time": "2021-09-22T12:53:58.224Z"
   },
   {
    "duration": 32,
    "start_time": "2021-09-22T12:53:58.236Z"
   },
   {
    "duration": 9,
    "start_time": "2021-09-22T12:53:58.271Z"
   },
   {
    "duration": 8,
    "start_time": "2021-09-22T12:53:58.283Z"
   },
   {
    "duration": 1025,
    "start_time": "2021-09-22T12:53:58.294Z"
   },
   {
    "duration": -881,
    "start_time": "2021-09-22T12:54:00.202Z"
   },
   {
    "duration": -905,
    "start_time": "2021-09-22T12:54:00.228Z"
   },
   {
    "duration": -907,
    "start_time": "2021-09-22T12:54:00.231Z"
   },
   {
    "duration": -909,
    "start_time": "2021-09-22T12:54:00.234Z"
   },
   {
    "duration": -910,
    "start_time": "2021-09-22T12:54:00.236Z"
   },
   {
    "duration": -910,
    "start_time": "2021-09-22T12:54:00.238Z"
   },
   {
    "duration": -911,
    "start_time": "2021-09-22T12:54:00.240Z"
   },
   {
    "duration": -916,
    "start_time": "2021-09-22T12:54:00.246Z"
   },
   {
    "duration": -917,
    "start_time": "2021-09-22T12:54:00.249Z"
   },
   {
    "duration": -918,
    "start_time": "2021-09-22T12:54:00.251Z"
   },
   {
    "duration": 1831,
    "start_time": "2021-09-22T12:55:16.511Z"
   },
   {
    "duration": 4791,
    "start_time": "2021-09-22T12:55:18.345Z"
   },
   {
    "duration": 21,
    "start_time": "2021-09-22T12:55:23.139Z"
   },
   {
    "duration": 12,
    "start_time": "2021-09-22T12:55:23.164Z"
   },
   {
    "duration": 24,
    "start_time": "2021-09-22T12:55:23.179Z"
   },
   {
    "duration": 13,
    "start_time": "2021-09-22T12:55:23.205Z"
   },
   {
    "duration": 9,
    "start_time": "2021-09-22T12:55:23.220Z"
   },
   {
    "duration": 44,
    "start_time": "2021-09-22T12:55:23.233Z"
   },
   {
    "duration": 12,
    "start_time": "2021-09-22T12:55:23.280Z"
   },
   {
    "duration": 10,
    "start_time": "2021-09-22T12:55:23.294Z"
   },
   {
    "duration": 54,
    "start_time": "2021-09-22T12:55:23.306Z"
   },
   {
    "duration": 5,
    "start_time": "2021-09-22T12:55:23.363Z"
   },
   {
    "duration": 8,
    "start_time": "2021-09-22T12:55:23.371Z"
   },
   {
    "duration": 7,
    "start_time": "2021-09-22T12:55:23.381Z"
   },
   {
    "duration": 278,
    "start_time": "2021-09-22T12:55:23.391Z"
   },
   {
    "duration": 101,
    "start_time": "2021-09-22T12:55:23.672Z"
   },
   {
    "duration": 90,
    "start_time": "2021-09-22T12:55:23.778Z"
   },
   {
    "duration": 6,
    "start_time": "2021-09-22T12:55:23.871Z"
   },
   {
    "duration": 5,
    "start_time": "2021-09-22T12:55:23.880Z"
   },
   {
    "duration": 8,
    "start_time": "2021-09-22T12:55:23.888Z"
   },
   {
    "duration": 7,
    "start_time": "2021-09-22T12:55:23.899Z"
   },
   {
    "duration": 9,
    "start_time": "2021-09-22T12:55:23.909Z"
   },
   {
    "duration": 16,
    "start_time": "2021-09-22T12:55:23.958Z"
   },
   {
    "duration": 3,
    "start_time": "2021-09-22T12:55:23.979Z"
   },
   {
    "duration": 12,
    "start_time": "2021-09-22T12:55:23.985Z"
   },
   {
    "duration": 8,
    "start_time": "2021-09-22T12:55:23.999Z"
   },
   {
    "duration": 9,
    "start_time": "2021-09-22T12:55:24.010Z"
   },
   {
    "duration": 8,
    "start_time": "2021-09-22T12:55:24.022Z"
   },
   {
    "duration": 29,
    "start_time": "2021-09-22T12:55:24.033Z"
   },
   {
    "duration": 8,
    "start_time": "2021-09-22T12:55:24.066Z"
   },
   {
    "duration": 8,
    "start_time": "2021-09-22T12:55:24.077Z"
   },
   {
    "duration": 15,
    "start_time": "2021-09-22T12:55:24.087Z"
   },
   {
    "duration": 9,
    "start_time": "2021-09-22T12:55:24.104Z"
   },
   {
    "duration": 44,
    "start_time": "2021-09-22T12:55:24.116Z"
   },
   {
    "duration": 13,
    "start_time": "2021-09-22T12:55:24.164Z"
   },
   {
    "duration": 11,
    "start_time": "2021-09-22T12:55:24.180Z"
   },
   {
    "duration": 14,
    "start_time": "2021-09-22T12:55:24.193Z"
   },
   {
    "duration": 13,
    "start_time": "2021-09-22T12:55:24.210Z"
   },
   {
    "duration": 46,
    "start_time": "2021-09-22T12:55:24.225Z"
   },
   {
    "duration": 6,
    "start_time": "2021-09-22T12:55:24.274Z"
   },
   {
    "duration": 5,
    "start_time": "2021-09-22T12:55:24.282Z"
   },
   {
    "duration": 632,
    "start_time": "2021-09-22T12:55:24.289Z"
   },
   {
    "duration": -934,
    "start_time": "2021-09-22T12:55:25.857Z"
   },
   {
    "duration": -937,
    "start_time": "2021-09-22T12:55:25.862Z"
   },
   {
    "duration": -938,
    "start_time": "2021-09-22T12:55:25.864Z"
   },
   {
    "duration": -938,
    "start_time": "2021-09-22T12:55:25.866Z"
   },
   {
    "duration": -940,
    "start_time": "2021-09-22T12:55:25.869Z"
   },
   {
    "duration": -941,
    "start_time": "2021-09-22T12:55:25.871Z"
   },
   {
    "duration": -943,
    "start_time": "2021-09-22T12:55:25.874Z"
   },
   {
    "duration": 7,
    "start_time": "2021-09-22T13:01:12.857Z"
   },
   {
    "duration": 4,
    "start_time": "2021-09-22T13:01:14.436Z"
   },
   {
    "duration": 7,
    "start_time": "2021-09-22T13:01:14.846Z"
   },
   {
    "duration": 1694,
    "start_time": "2021-09-22T13:01:33.831Z"
   },
   {
    "duration": 3421,
    "start_time": "2021-09-22T13:01:35.528Z"
   },
   {
    "duration": 17,
    "start_time": "2021-09-22T13:01:38.955Z"
   },
   {
    "duration": 7,
    "start_time": "2021-09-22T13:01:38.975Z"
   },
   {
    "duration": 21,
    "start_time": "2021-09-22T13:01:38.984Z"
   },
   {
    "duration": 12,
    "start_time": "2021-09-22T13:01:39.007Z"
   },
   {
    "duration": 14,
    "start_time": "2021-09-22T13:01:39.021Z"
   },
   {
    "duration": 37,
    "start_time": "2021-09-22T13:01:39.039Z"
   },
   {
    "duration": 12,
    "start_time": "2021-09-22T13:01:39.079Z"
   },
   {
    "duration": 15,
    "start_time": "2021-09-22T13:01:39.093Z"
   },
   {
    "duration": 24,
    "start_time": "2021-09-22T13:01:39.111Z"
   },
   {
    "duration": 3,
    "start_time": "2021-09-22T13:01:39.138Z"
   },
   {
    "duration": 11,
    "start_time": "2021-09-22T13:01:39.143Z"
   },
   {
    "duration": 15,
    "start_time": "2021-09-22T13:01:39.156Z"
   },
   {
    "duration": 188,
    "start_time": "2021-09-22T13:01:39.174Z"
   },
   {
    "duration": 95,
    "start_time": "2021-09-22T13:01:39.365Z"
   },
   {
    "duration": 105,
    "start_time": "2021-09-22T13:01:39.464Z"
   },
   {
    "duration": 15,
    "start_time": "2021-09-22T13:01:39.572Z"
   },
   {
    "duration": 22,
    "start_time": "2021-09-22T13:01:39.589Z"
   },
   {
    "duration": 13,
    "start_time": "2021-09-22T13:01:39.614Z"
   },
   {
    "duration": 10,
    "start_time": "2021-09-22T13:01:39.629Z"
   },
   {
    "duration": 16,
    "start_time": "2021-09-22T13:01:39.641Z"
   },
   {
    "duration": 38,
    "start_time": "2021-09-22T13:01:39.662Z"
   },
   {
    "duration": 12,
    "start_time": "2021-09-22T13:01:39.703Z"
   },
   {
    "duration": 17,
    "start_time": "2021-09-22T13:01:39.717Z"
   },
   {
    "duration": 10,
    "start_time": "2021-09-22T13:01:39.737Z"
   },
   {
    "duration": 33,
    "start_time": "2021-09-22T13:01:39.750Z"
   },
   {
    "duration": 24,
    "start_time": "2021-09-22T13:01:39.785Z"
   },
   {
    "duration": 20,
    "start_time": "2021-09-22T13:01:39.811Z"
   },
   {
    "duration": 30,
    "start_time": "2021-09-22T13:01:39.834Z"
   },
   {
    "duration": 27,
    "start_time": "2021-09-22T13:01:39.866Z"
   },
   {
    "duration": 19,
    "start_time": "2021-09-22T13:01:39.895Z"
   },
   {
    "duration": 754,
    "start_time": "2021-09-22T13:01:39.916Z"
   },
   {
    "duration": -2032,
    "start_time": "2021-09-22T13:01:42.705Z"
   },
   {
    "duration": -2036,
    "start_time": "2021-09-22T13:01:42.710Z"
   },
   {
    "duration": -2037,
    "start_time": "2021-09-22T13:01:42.713Z"
   },
   {
    "duration": -2038,
    "start_time": "2021-09-22T13:01:42.715Z"
   },
   {
    "duration": -2038,
    "start_time": "2021-09-22T13:01:42.717Z"
   },
   {
    "duration": -2040,
    "start_time": "2021-09-22T13:01:42.720Z"
   },
   {
    "duration": -2040,
    "start_time": "2021-09-22T13:01:42.722Z"
   },
   {
    "duration": -2044,
    "start_time": "2021-09-22T13:01:42.727Z"
   },
   {
    "duration": -2044,
    "start_time": "2021-09-22T13:01:42.729Z"
   },
   {
    "duration": -2046,
    "start_time": "2021-09-22T13:01:42.732Z"
   },
   {
    "duration": -2046,
    "start_time": "2021-09-22T13:01:42.734Z"
   },
   {
    "duration": -2055,
    "start_time": "2021-09-22T13:01:42.744Z"
   },
   {
    "duration": -2066,
    "start_time": "2021-09-22T13:01:42.756Z"
   },
   {
    "duration": -2069,
    "start_time": "2021-09-22T13:01:42.761Z"
   },
   {
    "duration": -2071,
    "start_time": "2021-09-22T13:01:42.764Z"
   },
   {
    "duration": -2072,
    "start_time": "2021-09-22T13:01:42.766Z"
   },
   {
    "duration": -2073,
    "start_time": "2021-09-22T13:01:42.769Z"
   },
   {
    "duration": 1592,
    "start_time": "2021-09-22T13:02:17.222Z"
   },
   {
    "duration": 1375,
    "start_time": "2021-09-22T13:02:18.816Z"
   },
   {
    "duration": 17,
    "start_time": "2021-09-22T13:02:20.194Z"
   },
   {
    "duration": 6,
    "start_time": "2021-09-22T13:02:20.214Z"
   },
   {
    "duration": 42,
    "start_time": "2021-09-22T13:02:20.222Z"
   },
   {
    "duration": 12,
    "start_time": "2021-09-22T13:02:20.267Z"
   },
   {
    "duration": 7,
    "start_time": "2021-09-22T13:02:20.282Z"
   },
   {
    "duration": 32,
    "start_time": "2021-09-22T13:02:20.293Z"
   },
   {
    "duration": 28,
    "start_time": "2021-09-22T13:02:20.329Z"
   },
   {
    "duration": 14,
    "start_time": "2021-09-22T13:02:20.359Z"
   },
   {
    "duration": 22,
    "start_time": "2021-09-22T13:02:20.375Z"
   },
   {
    "duration": 3,
    "start_time": "2021-09-22T13:02:20.399Z"
   },
   {
    "duration": 20,
    "start_time": "2021-09-22T13:02:20.404Z"
   },
   {
    "duration": 10,
    "start_time": "2021-09-22T13:02:20.426Z"
   },
   {
    "duration": 127,
    "start_time": "2021-09-22T13:02:20.439Z"
   },
   {
    "duration": 90,
    "start_time": "2021-09-22T13:02:20.570Z"
   },
   {
    "duration": 101,
    "start_time": "2021-09-22T13:02:20.663Z"
   },
   {
    "duration": 13,
    "start_time": "2021-09-22T13:02:20.767Z"
   },
   {
    "duration": 15,
    "start_time": "2021-09-22T13:02:20.782Z"
   },
   {
    "duration": 15,
    "start_time": "2021-09-22T13:02:20.799Z"
   },
   {
    "duration": 13,
    "start_time": "2021-09-22T13:02:20.817Z"
   },
   {
    "duration": 17,
    "start_time": "2021-09-22T13:02:20.833Z"
   },
   {
    "duration": 21,
    "start_time": "2021-09-22T13:02:20.856Z"
   },
   {
    "duration": 19,
    "start_time": "2021-09-22T13:02:20.880Z"
   },
   {
    "duration": 25,
    "start_time": "2021-09-22T13:02:20.901Z"
   },
   {
    "duration": 12,
    "start_time": "2021-09-22T13:02:20.928Z"
   },
   {
    "duration": 24,
    "start_time": "2021-09-22T13:02:20.942Z"
   },
   {
    "duration": 21,
    "start_time": "2021-09-22T13:02:20.969Z"
   },
   {
    "duration": 14,
    "start_time": "2021-09-22T13:02:20.992Z"
   },
   {
    "duration": 27,
    "start_time": "2021-09-22T13:02:21.008Z"
   },
   {
    "duration": 566,
    "start_time": "2021-09-22T13:02:21.038Z"
   },
   {
    "duration": -871,
    "start_time": "2021-09-22T13:02:22.477Z"
   },
   {
    "duration": -872,
    "start_time": "2021-09-22T13:02:22.480Z"
   },
   {
    "duration": -875,
    "start_time": "2021-09-22T13:02:22.484Z"
   },
   {
    "duration": -919,
    "start_time": "2021-09-22T13:02:22.529Z"
   },
   {
    "duration": -921,
    "start_time": "2021-09-22T13:02:22.532Z"
   },
   {
    "duration": -922,
    "start_time": "2021-09-22T13:02:22.534Z"
   },
   {
    "duration": -922,
    "start_time": "2021-09-22T13:02:22.536Z"
   },
   {
    "duration": -924,
    "start_time": "2021-09-22T13:02:22.539Z"
   },
   {
    "duration": -926,
    "start_time": "2021-09-22T13:02:22.542Z"
   },
   {
    "duration": -927,
    "start_time": "2021-09-22T13:02:22.544Z"
   },
   {
    "duration": -928,
    "start_time": "2021-09-22T13:02:22.546Z"
   },
   {
    "duration": -929,
    "start_time": "2021-09-22T13:02:22.548Z"
   },
   {
    "duration": -929,
    "start_time": "2021-09-22T13:02:22.550Z"
   },
   {
    "duration": -930,
    "start_time": "2021-09-22T13:02:22.552Z"
   },
   {
    "duration": -930,
    "start_time": "2021-09-22T13:02:22.553Z"
   },
   {
    "duration": -931,
    "start_time": "2021-09-22T13:02:22.555Z"
   },
   {
    "duration": -932,
    "start_time": "2021-09-22T13:02:22.558Z"
   },
   {
    "duration": -931,
    "start_time": "2021-09-22T13:02:22.559Z"
   },
   {
    "duration": -932,
    "start_time": "2021-09-22T13:02:22.561Z"
   },
   {
    "duration": -933,
    "start_time": "2021-09-22T13:02:22.563Z"
   },
   {
    "duration": -933,
    "start_time": "2021-09-22T13:02:22.564Z"
   },
   {
    "duration": 414,
    "start_time": "2021-09-22T13:02:46.654Z"
   },
   {
    "duration": 5,
    "start_time": "2021-09-22T13:02:56.235Z"
   },
   {
    "duration": 1604,
    "start_time": "2021-09-22T13:10:07.182Z"
   },
   {
    "duration": 5096,
    "start_time": "2021-09-22T13:10:08.789Z"
   },
   {
    "duration": 17,
    "start_time": "2021-09-22T13:10:13.889Z"
   },
   {
    "duration": 23,
    "start_time": "2021-09-22T13:10:13.909Z"
   },
   {
    "duration": 62,
    "start_time": "2021-09-22T13:10:13.935Z"
   },
   {
    "duration": 20,
    "start_time": "2021-09-22T13:10:14.000Z"
   },
   {
    "duration": 20,
    "start_time": "2021-09-22T13:10:14.023Z"
   },
   {
    "duration": 32,
    "start_time": "2021-09-22T13:10:14.046Z"
   },
   {
    "duration": 12,
    "start_time": "2021-09-22T13:10:14.082Z"
   },
   {
    "duration": 26,
    "start_time": "2021-09-22T13:10:14.097Z"
   },
   {
    "duration": 38,
    "start_time": "2021-09-22T13:10:14.125Z"
   },
   {
    "duration": 6,
    "start_time": "2021-09-22T13:10:14.165Z"
   },
   {
    "duration": 14,
    "start_time": "2021-09-22T13:10:14.174Z"
   },
   {
    "duration": 20,
    "start_time": "2021-09-22T13:10:14.190Z"
   },
   {
    "duration": 249,
    "start_time": "2021-09-22T13:10:14.212Z"
   },
   {
    "duration": 95,
    "start_time": "2021-09-22T13:10:14.464Z"
   },
   {
    "duration": 94,
    "start_time": "2021-09-22T13:10:14.563Z"
   },
   {
    "duration": 14,
    "start_time": "2021-09-22T13:10:14.660Z"
   },
   {
    "duration": 16,
    "start_time": "2021-09-22T13:10:14.676Z"
   },
   {
    "duration": 14,
    "start_time": "2021-09-22T13:10:14.694Z"
   },
   {
    "duration": 16,
    "start_time": "2021-09-22T13:10:14.710Z"
   },
   {
    "duration": 16,
    "start_time": "2021-09-22T13:10:14.728Z"
   },
   {
    "duration": 17,
    "start_time": "2021-09-22T13:10:14.746Z"
   },
   {
    "duration": 13,
    "start_time": "2021-09-22T13:10:14.765Z"
   },
   {
    "duration": 10,
    "start_time": "2021-09-22T13:10:14.781Z"
   },
   {
    "duration": 7,
    "start_time": "2021-09-22T13:10:14.794Z"
   },
   {
    "duration": 7,
    "start_time": "2021-09-22T13:10:14.808Z"
   },
   {
    "duration": 12,
    "start_time": "2021-09-22T13:10:14.819Z"
   },
   {
    "duration": 21,
    "start_time": "2021-09-22T13:10:14.834Z"
   },
   {
    "duration": 13,
    "start_time": "2021-09-22T13:10:14.858Z"
   },
   {
    "duration": 16,
    "start_time": "2021-09-22T13:10:14.874Z"
   },
   {
    "duration": 9,
    "start_time": "2021-09-22T13:10:14.893Z"
   },
   {
    "duration": 17,
    "start_time": "2021-09-22T13:10:14.905Z"
   },
   {
    "duration": 13,
    "start_time": "2021-09-22T13:10:14.924Z"
   },
   {
    "duration": 17,
    "start_time": "2021-09-22T13:10:14.939Z"
   },
   {
    "duration": 10,
    "start_time": "2021-09-22T13:10:14.958Z"
   },
   {
    "duration": 13,
    "start_time": "2021-09-22T13:10:14.971Z"
   },
   {
    "duration": 18,
    "start_time": "2021-09-22T13:10:14.986Z"
   },
   {
    "duration": 26,
    "start_time": "2021-09-22T13:10:15.006Z"
   },
   {
    "duration": 880,
    "start_time": "2021-09-22T13:10:15.035Z"
   },
   {
    "duration": -848,
    "start_time": "2021-09-22T13:10:16.766Z"
   },
   {
    "duration": -902,
    "start_time": "2021-09-22T13:10:16.822Z"
   },
   {
    "duration": -903,
    "start_time": "2021-09-22T13:10:16.825Z"
   },
   {
    "duration": -903,
    "start_time": "2021-09-22T13:10:16.827Z"
   },
   {
    "duration": -905,
    "start_time": "2021-09-22T13:10:16.830Z"
   },
   {
    "duration": -906,
    "start_time": "2021-09-22T13:10:16.832Z"
   },
   {
    "duration": -908,
    "start_time": "2021-09-22T13:10:16.835Z"
   },
   {
    "duration": -908,
    "start_time": "2021-09-22T13:10:16.837Z"
   },
   {
    "duration": -911,
    "start_time": "2021-09-22T13:10:16.842Z"
   },
   {
    "duration": -911,
    "start_time": "2021-09-22T13:10:16.844Z"
   },
   {
    "duration": 1561,
    "start_time": "2021-09-22T13:11:34.748Z"
   },
   {
    "duration": 4641,
    "start_time": "2021-09-22T13:11:36.312Z"
   },
   {
    "duration": 16,
    "start_time": "2021-09-22T13:11:40.956Z"
   },
   {
    "duration": 28,
    "start_time": "2021-09-22T13:11:40.974Z"
   },
   {
    "duration": 30,
    "start_time": "2021-09-22T13:11:41.005Z"
   },
   {
    "duration": 12,
    "start_time": "2021-09-22T13:11:41.038Z"
   },
   {
    "duration": 18,
    "start_time": "2021-09-22T13:11:41.052Z"
   },
   {
    "duration": 23,
    "start_time": "2021-09-22T13:11:41.074Z"
   },
   {
    "duration": 12,
    "start_time": "2021-09-22T13:11:41.100Z"
   },
   {
    "duration": 14,
    "start_time": "2021-09-22T13:11:41.114Z"
   },
   {
    "duration": 22,
    "start_time": "2021-09-22T13:11:41.130Z"
   },
   {
    "duration": 5,
    "start_time": "2021-09-22T13:11:41.154Z"
   },
   {
    "duration": 16,
    "start_time": "2021-09-22T13:11:41.161Z"
   },
   {
    "duration": 29,
    "start_time": "2021-09-22T13:11:41.179Z"
   },
   {
    "duration": 252,
    "start_time": "2021-09-22T13:11:41.210Z"
   },
   {
    "duration": 95,
    "start_time": "2021-09-22T13:11:41.465Z"
   },
   {
    "duration": 8,
    "start_time": "2021-09-22T13:11:41.563Z"
   },
   {
    "duration": 7,
    "start_time": "2021-09-22T13:11:41.657Z"
   },
   {
    "duration": 9,
    "start_time": "2021-09-22T13:11:41.666Z"
   },
   {
    "duration": 7,
    "start_time": "2021-09-22T13:11:41.677Z"
   },
   {
    "duration": 9,
    "start_time": "2021-09-22T13:11:41.686Z"
   },
   {
    "duration": 12,
    "start_time": "2021-09-22T13:11:41.697Z"
   },
   {
    "duration": 4,
    "start_time": "2021-09-22T13:11:41.714Z"
   },
   {
    "duration": 9,
    "start_time": "2021-09-22T13:11:41.721Z"
   },
   {
    "duration": 10,
    "start_time": "2021-09-22T13:11:41.732Z"
   },
   {
    "duration": 8,
    "start_time": "2021-09-22T13:11:41.745Z"
   },
   {
    "duration": 9,
    "start_time": "2021-09-22T13:11:41.755Z"
   },
   {
    "duration": 10,
    "start_time": "2021-09-22T13:11:41.766Z"
   },
   {
    "duration": 9,
    "start_time": "2021-09-22T13:11:41.778Z"
   },
   {
    "duration": 785,
    "start_time": "2021-09-22T13:11:41.789Z"
   },
   {
    "duration": -1750,
    "start_time": "2021-09-22T13:11:44.326Z"
   },
   {
    "duration": -1750,
    "start_time": "2021-09-22T13:11:44.328Z"
   },
   {
    "duration": -1751,
    "start_time": "2021-09-22T13:11:44.330Z"
   },
   {
    "duration": -1753,
    "start_time": "2021-09-22T13:11:44.333Z"
   },
   {
    "duration": -1754,
    "start_time": "2021-09-22T13:11:44.335Z"
   },
   {
    "duration": -1757,
    "start_time": "2021-09-22T13:11:44.340Z"
   },
   {
    "duration": -1759,
    "start_time": "2021-09-22T13:11:44.343Z"
   },
   {
    "duration": -1760,
    "start_time": "2021-09-22T13:11:44.345Z"
   },
   {
    "duration": -1760,
    "start_time": "2021-09-22T13:11:44.347Z"
   },
   {
    "duration": -1771,
    "start_time": "2021-09-22T13:11:44.359Z"
   },
   {
    "duration": -1772,
    "start_time": "2021-09-22T13:11:44.361Z"
   },
   {
    "duration": -1773,
    "start_time": "2021-09-22T13:11:44.364Z"
   },
   {
    "duration": -1774,
    "start_time": "2021-09-22T13:11:44.366Z"
   },
   {
    "duration": -1776,
    "start_time": "2021-09-22T13:11:44.369Z"
   },
   {
    "duration": -1781,
    "start_time": "2021-09-22T13:11:44.375Z"
   },
   {
    "duration": -1781,
    "start_time": "2021-09-22T13:11:44.377Z"
   },
   {
    "duration": -1783,
    "start_time": "2021-09-22T13:11:44.380Z"
   },
   {
    "duration": -1784,
    "start_time": "2021-09-22T13:11:44.382Z"
   },
   {
    "duration": -1785,
    "start_time": "2021-09-22T13:11:44.384Z"
   },
   {
    "duration": -1788,
    "start_time": "2021-09-22T13:11:44.388Z"
   },
   {
    "duration": 5,
    "start_time": "2021-09-22T13:11:51.760Z"
   },
   {
    "duration": 4,
    "start_time": "2021-09-22T13:11:52.201Z"
   },
   {
    "duration": 9,
    "start_time": "2021-09-22T13:11:52.990Z"
   },
   {
    "duration": 12,
    "start_time": "2021-09-22T13:12:03.914Z"
   },
   {
    "duration": 3364,
    "start_time": "2021-09-22T13:13:31.457Z"
   },
   {
    "duration": 3210,
    "start_time": "2021-09-22T13:13:34.824Z"
   },
   {
    "duration": 21,
    "start_time": "2021-09-22T13:13:38.037Z"
   },
   {
    "duration": 11,
    "start_time": "2021-09-22T13:13:38.061Z"
   },
   {
    "duration": 21,
    "start_time": "2021-09-22T13:13:38.075Z"
   },
   {
    "duration": 13,
    "start_time": "2021-09-22T13:13:38.099Z"
   },
   {
    "duration": 41,
    "start_time": "2021-09-22T13:13:38.115Z"
   },
   {
    "duration": 17,
    "start_time": "2021-09-22T13:13:38.160Z"
   },
   {
    "duration": 12,
    "start_time": "2021-09-22T13:13:38.180Z"
   },
   {
    "duration": 12,
    "start_time": "2021-09-22T13:13:38.195Z"
   },
   {
    "duration": 59,
    "start_time": "2021-09-22T13:13:38.209Z"
   },
   {
    "duration": 3,
    "start_time": "2021-09-22T13:13:38.271Z"
   },
   {
    "duration": 11,
    "start_time": "2021-09-22T13:13:38.276Z"
   },
   {
    "duration": 8,
    "start_time": "2021-09-22T13:13:38.290Z"
   },
   {
    "duration": 163,
    "start_time": "2021-09-22T13:13:38.300Z"
   },
   {
    "duration": 93,
    "start_time": "2021-09-22T13:13:38.466Z"
   },
   {
    "duration": 97,
    "start_time": "2021-09-22T13:13:38.562Z"
   },
   {
    "duration": 16,
    "start_time": "2021-09-22T13:13:38.662Z"
   },
   {
    "duration": 6,
    "start_time": "2021-09-22T13:13:38.681Z"
   },
   {
    "duration": 7,
    "start_time": "2021-09-22T13:13:38.690Z"
   },
   {
    "duration": 10,
    "start_time": "2021-09-22T13:13:38.700Z"
   },
   {
    "duration": 9,
    "start_time": "2021-09-22T13:13:38.712Z"
   },
   {
    "duration": 5,
    "start_time": "2021-09-22T13:13:38.726Z"
   },
   {
    "duration": 6,
    "start_time": "2021-09-22T13:13:38.734Z"
   },
   {
    "duration": 8,
    "start_time": "2021-09-22T13:13:38.742Z"
   },
   {
    "duration": 6,
    "start_time": "2021-09-22T13:13:38.752Z"
   },
   {
    "duration": 14,
    "start_time": "2021-09-22T13:13:38.760Z"
   },
   {
    "duration": 26,
    "start_time": "2021-09-22T13:13:38.776Z"
   },
   {
    "duration": 26,
    "start_time": "2021-09-22T13:13:38.804Z"
   },
   {
    "duration": 1691,
    "start_time": "2021-09-22T13:13:38.832Z"
   },
   {
    "duration": -2083,
    "start_time": "2021-09-22T13:13:42.609Z"
   },
   {
    "duration": -2085,
    "start_time": "2021-09-22T13:13:42.612Z"
   },
   {
    "duration": -2086,
    "start_time": "2021-09-22T13:13:42.614Z"
   },
   {
    "duration": -2087,
    "start_time": "2021-09-22T13:13:42.617Z"
   },
   {
    "duration": -2088,
    "start_time": "2021-09-22T13:13:42.619Z"
   },
   {
    "duration": -2094,
    "start_time": "2021-09-22T13:13:42.626Z"
   },
   {
    "duration": -2096,
    "start_time": "2021-09-22T13:13:42.629Z"
   },
   {
    "duration": -2096,
    "start_time": "2021-09-22T13:13:42.631Z"
   },
   {
    "duration": -2098,
    "start_time": "2021-09-22T13:13:42.634Z"
   },
   {
    "duration": -2107,
    "start_time": "2021-09-22T13:13:42.644Z"
   },
   {
    "duration": -2108,
    "start_time": "2021-09-22T13:13:42.646Z"
   },
   {
    "duration": -2110,
    "start_time": "2021-09-22T13:13:42.649Z"
   },
   {
    "duration": -2111,
    "start_time": "2021-09-22T13:13:42.652Z"
   },
   {
    "duration": -2115,
    "start_time": "2021-09-22T13:13:42.657Z"
   },
   {
    "duration": -2117,
    "start_time": "2021-09-22T13:13:42.660Z"
   },
   {
    "duration": -2117,
    "start_time": "2021-09-22T13:13:42.662Z"
   },
   {
    "duration": -2119,
    "start_time": "2021-09-22T13:13:42.665Z"
   },
   {
    "duration": -2120,
    "start_time": "2021-09-22T13:13:42.667Z"
   },
   {
    "duration": -2120,
    "start_time": "2021-09-22T13:13:42.669Z"
   },
   {
    "duration": -2124,
    "start_time": "2021-09-22T13:13:42.674Z"
   },
   {
    "duration": -2127,
    "start_time": "2021-09-22T13:13:42.678Z"
   },
   {
    "duration": 5,
    "start_time": "2021-09-22T13:13:45.369Z"
   },
   {
    "duration": 7,
    "start_time": "2021-09-22T13:13:46.841Z"
   },
   {
    "duration": 5,
    "start_time": "2021-09-22T13:13:54.497Z"
   },
   {
    "duration": 400,
    "start_time": "2021-09-22T13:14:02.337Z"
   },
   {
    "duration": 403,
    "start_time": "2021-09-22T13:14:10.385Z"
   },
   {
    "duration": 582,
    "start_time": "2021-09-22T13:14:31.907Z"
   },
   {
    "duration": 1695,
    "start_time": "2021-09-22T13:16:25.149Z"
   },
   {
    "duration": 3077,
    "start_time": "2021-09-22T13:16:26.847Z"
   },
   {
    "duration": 17,
    "start_time": "2021-09-22T13:16:29.927Z"
   },
   {
    "duration": 25,
    "start_time": "2021-09-22T13:16:29.947Z"
   },
   {
    "duration": 30,
    "start_time": "2021-09-22T13:16:29.974Z"
   },
   {
    "duration": 15,
    "start_time": "2021-09-22T13:16:30.007Z"
   },
   {
    "duration": 30,
    "start_time": "2021-09-22T13:16:30.024Z"
   },
   {
    "duration": 20,
    "start_time": "2021-09-22T13:16:30.063Z"
   },
   {
    "duration": 27,
    "start_time": "2021-09-22T13:16:30.086Z"
   },
   {
    "duration": 53,
    "start_time": "2021-09-22T13:16:30.115Z"
   },
   {
    "duration": 36,
    "start_time": "2021-09-22T13:16:30.171Z"
   },
   {
    "duration": 16,
    "start_time": "2021-09-22T13:16:30.209Z"
   },
   {
    "duration": 22,
    "start_time": "2021-09-22T13:16:30.228Z"
   },
   {
    "duration": 33,
    "start_time": "2021-09-22T13:16:30.253Z"
   },
   {
    "duration": 274,
    "start_time": "2021-09-22T13:16:30.289Z"
   },
   {
    "duration": 10,
    "start_time": "2021-09-22T13:16:30.566Z"
   },
   {
    "duration": 24,
    "start_time": "2021-09-22T13:16:30.668Z"
   },
   {
    "duration": 26,
    "start_time": "2021-09-22T13:16:30.694Z"
   },
   {
    "duration": 21,
    "start_time": "2021-09-22T13:16:30.723Z"
   },
   {
    "duration": 19,
    "start_time": "2021-09-22T13:16:30.747Z"
   },
   {
    "duration": 27,
    "start_time": "2021-09-22T13:16:30.768Z"
   },
   {
    "duration": 34,
    "start_time": "2021-09-22T13:16:30.797Z"
   },
   {
    "duration": 17,
    "start_time": "2021-09-22T13:16:30.836Z"
   },
   {
    "duration": 17,
    "start_time": "2021-09-22T13:16:30.861Z"
   },
   {
    "duration": 32,
    "start_time": "2021-09-22T13:16:30.880Z"
   },
   {
    "duration": 12,
    "start_time": "2021-09-22T13:16:30.915Z"
   },
   {
    "duration": 10,
    "start_time": "2021-09-22T13:16:30.929Z"
   },
   {
    "duration": 22,
    "start_time": "2021-09-22T13:16:30.942Z"
   },
   {
    "duration": 31,
    "start_time": "2021-09-22T13:16:30.967Z"
   },
   {
    "duration": 28,
    "start_time": "2021-09-22T13:16:31.000Z"
   },
   {
    "duration": 41,
    "start_time": "2021-09-22T13:16:31.031Z"
   },
   {
    "duration": 25,
    "start_time": "2021-09-22T13:16:31.075Z"
   },
   {
    "duration": 659,
    "start_time": "2021-09-22T13:16:31.103Z"
   },
   {
    "duration": -849,
    "start_time": "2021-09-22T13:16:32.614Z"
   },
   {
    "duration": -849,
    "start_time": "2021-09-22T13:16:32.616Z"
   },
   {
    "duration": -849,
    "start_time": "2021-09-22T13:16:32.618Z"
   },
   {
    "duration": -854,
    "start_time": "2021-09-22T13:16:32.624Z"
   },
   {
    "duration": -855,
    "start_time": "2021-09-22T13:16:32.627Z"
   },
   {
    "duration": -855,
    "start_time": "2021-09-22T13:16:32.629Z"
   },
   {
    "duration": -856,
    "start_time": "2021-09-22T13:16:32.631Z"
   },
   {
    "duration": -858,
    "start_time": "2021-09-22T13:16:32.634Z"
   },
   {
    "duration": -858,
    "start_time": "2021-09-22T13:16:32.636Z"
   },
   {
    "duration": -863,
    "start_time": "2021-09-22T13:16:32.642Z"
   },
   {
    "duration": -865,
    "start_time": "2021-09-22T13:16:32.645Z"
   },
   {
    "duration": -864,
    "start_time": "2021-09-22T13:16:32.646Z"
   },
   {
    "duration": -866,
    "start_time": "2021-09-22T13:16:32.649Z"
   },
   {
    "duration": -867,
    "start_time": "2021-09-22T13:16:32.651Z"
   },
   {
    "duration": -871,
    "start_time": "2021-09-22T13:16:32.657Z"
   },
   {
    "duration": -873,
    "start_time": "2021-09-22T13:16:32.660Z"
   },
   {
    "duration": -873,
    "start_time": "2021-09-22T13:16:32.662Z"
   },
   {
    "duration": -874,
    "start_time": "2021-09-22T13:16:32.664Z"
   },
   {
    "duration": -875,
    "start_time": "2021-09-22T13:16:32.667Z"
   },
   {
    "duration": 1740,
    "start_time": "2021-09-22T13:17:09.253Z"
   },
   {
    "duration": 2539,
    "start_time": "2021-09-22T13:17:10.996Z"
   },
   {
    "duration": 26,
    "start_time": "2021-09-22T13:17:13.538Z"
   },
   {
    "duration": 10,
    "start_time": "2021-09-22T13:17:13.567Z"
   },
   {
    "duration": 24,
    "start_time": "2021-09-22T13:17:13.579Z"
   },
   {
    "duration": 12,
    "start_time": "2021-09-22T13:17:13.605Z"
   },
   {
    "duration": 8,
    "start_time": "2021-09-22T13:17:13.619Z"
   },
   {
    "duration": 22,
    "start_time": "2021-09-22T13:17:13.659Z"
   },
   {
    "duration": 12,
    "start_time": "2021-09-22T13:17:13.685Z"
   },
   {
    "duration": 15,
    "start_time": "2021-09-22T13:17:13.700Z"
   },
   {
    "duration": 43,
    "start_time": "2021-09-22T13:17:13.717Z"
   },
   {
    "duration": 7,
    "start_time": "2021-09-22T13:17:13.763Z"
   },
   {
    "duration": 38,
    "start_time": "2021-09-22T13:17:13.772Z"
   },
   {
    "duration": 27,
    "start_time": "2021-09-22T13:17:13.813Z"
   },
   {
    "duration": 324,
    "start_time": "2021-09-22T13:17:13.843Z"
   },
   {
    "duration": 90,
    "start_time": "2021-09-22T13:17:14.170Z"
   },
   {
    "duration": 1474,
    "start_time": "2021-09-22T13:17:14.264Z"
   },
   {
    "duration": -848,
    "start_time": "2021-09-22T13:17:16.590Z"
   },
   {
    "duration": -849,
    "start_time": "2021-09-22T13:17:16.593Z"
   },
   {
    "duration": -878,
    "start_time": "2021-09-22T13:17:16.624Z"
   },
   {
    "duration": -883,
    "start_time": "2021-09-22T13:17:16.630Z"
   },
   {
    "duration": -884,
    "start_time": "2021-09-22T13:17:16.633Z"
   },
   {
    "duration": -898,
    "start_time": "2021-09-22T13:17:16.648Z"
   },
   {
    "duration": -900,
    "start_time": "2021-09-22T13:17:16.652Z"
   },
   {
    "duration": -904,
    "start_time": "2021-09-22T13:17:16.657Z"
   },
   {
    "duration": -905,
    "start_time": "2021-09-22T13:17:16.659Z"
   },
   {
    "duration": -906,
    "start_time": "2021-09-22T13:17:16.661Z"
   },
   {
    "duration": -915,
    "start_time": "2021-09-22T13:17:16.672Z"
   },
   {
    "duration": -923,
    "start_time": "2021-09-22T13:17:16.681Z"
   },
   {
    "duration": -924,
    "start_time": "2021-09-22T13:17:16.685Z"
   },
   {
    "duration": -927,
    "start_time": "2021-09-22T13:17:16.691Z"
   },
   {
    "duration": -927,
    "start_time": "2021-09-22T13:17:16.694Z"
   },
   {
    "duration": -927,
    "start_time": "2021-09-22T13:17:16.697Z"
   },
   {
    "duration": -928,
    "start_time": "2021-09-22T13:17:16.699Z"
   },
   {
    "duration": -928,
    "start_time": "2021-09-22T13:17:16.701Z"
   },
   {
    "duration": -931,
    "start_time": "2021-09-22T13:17:16.706Z"
   },
   {
    "duration": -933,
    "start_time": "2021-09-22T13:17:16.709Z"
   },
   {
    "duration": -934,
    "start_time": "2021-09-22T13:17:16.711Z"
   },
   {
    "duration": -934,
    "start_time": "2021-09-22T13:17:16.713Z"
   },
   {
    "duration": -935,
    "start_time": "2021-09-22T13:17:16.715Z"
   },
   {
    "duration": -946,
    "start_time": "2021-09-22T13:17:16.727Z"
   },
   {
    "duration": -946,
    "start_time": "2021-09-22T13:17:16.729Z"
   },
   {
    "duration": -947,
    "start_time": "2021-09-22T13:17:16.731Z"
   },
   {
    "duration": -948,
    "start_time": "2021-09-22T13:17:16.733Z"
   },
   {
    "duration": -948,
    "start_time": "2021-09-22T13:17:16.735Z"
   },
   {
    "duration": -953,
    "start_time": "2021-09-22T13:17:16.741Z"
   },
   {
    "duration": -954,
    "start_time": "2021-09-22T13:17:16.743Z"
   },
   {
    "duration": -954,
    "start_time": "2021-09-22T13:17:16.745Z"
   },
   {
    "duration": -968,
    "start_time": "2021-09-22T13:17:16.760Z"
   },
   {
    "duration": -970,
    "start_time": "2021-09-22T13:17:16.763Z"
   },
   {
    "duration": -970,
    "start_time": "2021-09-22T13:17:16.765Z"
   },
   {
    "duration": -971,
    "start_time": "2021-09-22T13:17:16.767Z"
   },
   {
    "duration": -975,
    "start_time": "2021-09-22T13:17:16.772Z"
   },
   {
    "duration": -975,
    "start_time": "2021-09-22T13:17:16.774Z"
   },
   {
    "duration": 514,
    "start_time": "2021-09-22T13:18:35.672Z"
   },
   {
    "duration": 120,
    "start_time": "2021-09-22T13:19:15.854Z"
   },
   {
    "duration": 7,
    "start_time": "2021-09-22T13:19:40.353Z"
   },
   {
    "duration": 113,
    "start_time": "2021-09-22T13:24:15.572Z"
   },
   {
    "duration": 3,
    "start_time": "2021-09-22T13:24:26.762Z"
   },
   {
    "duration": 823,
    "start_time": "2021-09-22T13:25:08.521Z"
   }
  ],
  "kernelspec": {
   "display_name": "Python 3",
   "language": "python",
   "name": "python3"
  },
  "language_info": {
   "codemirror_mode": {
    "name": "ipython",
    "version": 3
   },
   "file_extension": ".py",
   "mimetype": "text/x-python",
   "name": "python",
   "nbconvert_exporter": "python",
   "pygments_lexer": "ipython3",
   "version": "3.8.5"
  },
  "toc": {
   "base_numbering": 1,
   "nav_menu": {},
   "number_sections": true,
   "sideBar": true,
   "skip_h1_title": true,
   "title_cell": "Table of Contents",
   "title_sidebar": "Contents",
   "toc_cell": false,
   "toc_position": {},
   "toc_section_display": true,
   "toc_window_display": false
  }
 },
 "nbformat": 4,
 "nbformat_minor": 4
}
