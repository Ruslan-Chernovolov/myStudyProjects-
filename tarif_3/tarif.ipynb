{
 "cells": [
  {
   "cell_type": "markdown",
   "metadata": {},
   "source": [
    "# Рекомендация тарифов"
   ]
  },
  {
   "cell_type": "markdown",
   "metadata": {},
   "source": [
    "## 1. Разбиваем наши данные на тестовую, валидационную и тренировочную"
   ]
  },
  {
   "cell_type": "markdown",
   "metadata": {},
   "source": [
    "импортируем библиотеки"
   ]
  },
  {
   "cell_type": "code",
   "execution_count": 1,
   "metadata": {},
   "outputs": [],
   "source": [
    "import pandas as pd\n",
    "from sklearn.linear_model import LogisticRegression\n",
    "from sklearn.linear_model import LinearRegression\n",
    "from sklearn.model_selection import train_test_split\n",
    "from sklearn.ensemble import RandomForestClassifier\n",
    "from sklearn.tree import DecisionTreeClassifier\n",
    "from sklearn.metrics import accuracy_score \n",
    "from sklearn.dummy import DummyClassifier\n"
   ]
  },
  {
   "cell_type": "code",
   "execution_count": 2,
   "metadata": {},
   "outputs": [],
   "source": [
    "# считываем датафрейм\n",
    "try:\n",
    "    df=pd.read_csv('C:\\\\\\\\Python\\\\\\\\ЯП\\\\\\\\проект_4\\\\\\\\users_behavior.csv', sep=',')\n",
    "\n",
    "except:\n",
    "    df=pd.read_csv('https://code.s3.yandex.net/datasets/users_behavior.csv', sep=',')\n"
   ]
  },
  {
   "cell_type": "code",
   "execution_count": 3,
   "metadata": {},
   "outputs": [
    {
     "data": {
      "text/html": [
       "<div>\n",
       "<style scoped>\n",
       "    .dataframe tbody tr th:only-of-type {\n",
       "        vertical-align: middle;\n",
       "    }\n",
       "\n",
       "    .dataframe tbody tr th {\n",
       "        vertical-align: top;\n",
       "    }\n",
       "\n",
       "    .dataframe thead th {\n",
       "        text-align: right;\n",
       "    }\n",
       "</style>\n",
       "<table border=\"1\" class=\"dataframe\">\n",
       "  <thead>\n",
       "    <tr style=\"text-align: right;\">\n",
       "      <th></th>\n",
       "      <th>calls</th>\n",
       "      <th>minutes</th>\n",
       "      <th>messages</th>\n",
       "      <th>mb_used</th>\n",
       "      <th>is_ultra</th>\n",
       "    </tr>\n",
       "  </thead>\n",
       "  <tbody>\n",
       "    <tr>\n",
       "      <th>0</th>\n",
       "      <td>40.0</td>\n",
       "      <td>311.90</td>\n",
       "      <td>83.0</td>\n",
       "      <td>19915.42</td>\n",
       "      <td>0</td>\n",
       "    </tr>\n",
       "    <tr>\n",
       "      <th>1</th>\n",
       "      <td>85.0</td>\n",
       "      <td>516.75</td>\n",
       "      <td>56.0</td>\n",
       "      <td>22696.96</td>\n",
       "      <td>0</td>\n",
       "    </tr>\n",
       "    <tr>\n",
       "      <th>2</th>\n",
       "      <td>77.0</td>\n",
       "      <td>467.66</td>\n",
       "      <td>86.0</td>\n",
       "      <td>21060.45</td>\n",
       "      <td>0</td>\n",
       "    </tr>\n",
       "    <tr>\n",
       "      <th>3</th>\n",
       "      <td>106.0</td>\n",
       "      <td>745.53</td>\n",
       "      <td>81.0</td>\n",
       "      <td>8437.39</td>\n",
       "      <td>1</td>\n",
       "    </tr>\n",
       "    <tr>\n",
       "      <th>4</th>\n",
       "      <td>66.0</td>\n",
       "      <td>418.74</td>\n",
       "      <td>1.0</td>\n",
       "      <td>14502.75</td>\n",
       "      <td>0</td>\n",
       "    </tr>\n",
       "    <tr>\n",
       "      <th>...</th>\n",
       "      <td>...</td>\n",
       "      <td>...</td>\n",
       "      <td>...</td>\n",
       "      <td>...</td>\n",
       "      <td>...</td>\n",
       "    </tr>\n",
       "    <tr>\n",
       "      <th>3209</th>\n",
       "      <td>122.0</td>\n",
       "      <td>910.98</td>\n",
       "      <td>20.0</td>\n",
       "      <td>35124.90</td>\n",
       "      <td>1</td>\n",
       "    </tr>\n",
       "    <tr>\n",
       "      <th>3210</th>\n",
       "      <td>25.0</td>\n",
       "      <td>190.36</td>\n",
       "      <td>0.0</td>\n",
       "      <td>3275.61</td>\n",
       "      <td>0</td>\n",
       "    </tr>\n",
       "    <tr>\n",
       "      <th>3211</th>\n",
       "      <td>97.0</td>\n",
       "      <td>634.44</td>\n",
       "      <td>70.0</td>\n",
       "      <td>13974.06</td>\n",
       "      <td>0</td>\n",
       "    </tr>\n",
       "    <tr>\n",
       "      <th>3212</th>\n",
       "      <td>64.0</td>\n",
       "      <td>462.32</td>\n",
       "      <td>90.0</td>\n",
       "      <td>31239.78</td>\n",
       "      <td>0</td>\n",
       "    </tr>\n",
       "    <tr>\n",
       "      <th>3213</th>\n",
       "      <td>80.0</td>\n",
       "      <td>566.09</td>\n",
       "      <td>6.0</td>\n",
       "      <td>29480.52</td>\n",
       "      <td>1</td>\n",
       "    </tr>\n",
       "  </tbody>\n",
       "</table>\n",
       "<p>3214 rows × 5 columns</p>\n",
       "</div>"
      ],
      "text/plain": [
       "      calls  minutes  messages   mb_used  is_ultra\n",
       "0      40.0   311.90      83.0  19915.42         0\n",
       "1      85.0   516.75      56.0  22696.96         0\n",
       "2      77.0   467.66      86.0  21060.45         0\n",
       "3     106.0   745.53      81.0   8437.39         1\n",
       "4      66.0   418.74       1.0  14502.75         0\n",
       "...     ...      ...       ...       ...       ...\n",
       "3209  122.0   910.98      20.0  35124.90         1\n",
       "3210   25.0   190.36       0.0   3275.61         0\n",
       "3211   97.0   634.44      70.0  13974.06         0\n",
       "3212   64.0   462.32      90.0  31239.78         0\n",
       "3213   80.0   566.09       6.0  29480.52         1\n",
       "\n",
       "[3214 rows x 5 columns]"
      ]
     },
     "execution_count": 3,
     "metadata": {},
     "output_type": "execute_result"
    }
   ],
   "source": [
    "df"
   ]
  },
  {
   "cell_type": "markdown",
   "metadata": {},
   "source": [
    " "
   ]
  },
  {
   "cell_type": "markdown",
   "metadata": {},
   "source": [
    "посмотрим на типы данных"
   ]
  },
  {
   "cell_type": "code",
   "execution_count": 4,
   "metadata": {},
   "outputs": [
    {
     "name": "stdout",
     "output_type": "stream",
     "text": [
      "<class 'pandas.core.frame.DataFrame'>\n",
      "RangeIndex: 3214 entries, 0 to 3213\n",
      "Data columns (total 5 columns):\n",
      " #   Column    Non-Null Count  Dtype  \n",
      "---  ------    --------------  -----  \n",
      " 0   calls     3214 non-null   float64\n",
      " 1   minutes   3214 non-null   float64\n",
      " 2   messages  3214 non-null   float64\n",
      " 3   mb_used   3214 non-null   float64\n",
      " 4   is_ultra  3214 non-null   int64  \n",
      "dtypes: float64(4), int64(1)\n",
      "memory usage: 125.7 KB\n"
     ]
    }
   ],
   "source": [
    "df.info()"
   ]
  },
  {
   "cell_type": "markdown",
   "metadata": {},
   "source": [
    " "
   ]
  },
  {
   "cell_type": "markdown",
   "metadata": {},
   "source": [
    " "
   ]
  },
  {
   "cell_type": "code",
   "execution_count": 5,
   "metadata": {},
   "outputs": [
    {
     "data": {
      "text/html": [
       "<div>\n",
       "<style scoped>\n",
       "    .dataframe tbody tr th:only-of-type {\n",
       "        vertical-align: middle;\n",
       "    }\n",
       "\n",
       "    .dataframe tbody tr th {\n",
       "        vertical-align: top;\n",
       "    }\n",
       "\n",
       "    .dataframe thead th {\n",
       "        text-align: right;\n",
       "    }\n",
       "</style>\n",
       "<table border=\"1\" class=\"dataframe\">\n",
       "  <thead>\n",
       "    <tr style=\"text-align: right;\">\n",
       "      <th></th>\n",
       "      <th>calls</th>\n",
       "      <th>minutes</th>\n",
       "      <th>messages</th>\n",
       "      <th>mb_used</th>\n",
       "      <th>is_ultra</th>\n",
       "    </tr>\n",
       "  </thead>\n",
       "  <tbody>\n",
       "    <tr>\n",
       "      <th>count</th>\n",
       "      <td>3214.000000</td>\n",
       "      <td>3214.000000</td>\n",
       "      <td>3214.000000</td>\n",
       "      <td>3214.000000</td>\n",
       "      <td>3214.000000</td>\n",
       "    </tr>\n",
       "    <tr>\n",
       "      <th>mean</th>\n",
       "      <td>63.038892</td>\n",
       "      <td>438.208787</td>\n",
       "      <td>38.281269</td>\n",
       "      <td>17207.673836</td>\n",
       "      <td>0.306472</td>\n",
       "    </tr>\n",
       "    <tr>\n",
       "      <th>std</th>\n",
       "      <td>33.236368</td>\n",
       "      <td>234.569872</td>\n",
       "      <td>36.148326</td>\n",
       "      <td>7570.968246</td>\n",
       "      <td>0.461100</td>\n",
       "    </tr>\n",
       "    <tr>\n",
       "      <th>min</th>\n",
       "      <td>0.000000</td>\n",
       "      <td>0.000000</td>\n",
       "      <td>0.000000</td>\n",
       "      <td>0.000000</td>\n",
       "      <td>0.000000</td>\n",
       "    </tr>\n",
       "    <tr>\n",
       "      <th>25%</th>\n",
       "      <td>40.000000</td>\n",
       "      <td>274.575000</td>\n",
       "      <td>9.000000</td>\n",
       "      <td>12491.902500</td>\n",
       "      <td>0.000000</td>\n",
       "    </tr>\n",
       "    <tr>\n",
       "      <th>50%</th>\n",
       "      <td>62.000000</td>\n",
       "      <td>430.600000</td>\n",
       "      <td>30.000000</td>\n",
       "      <td>16943.235000</td>\n",
       "      <td>0.000000</td>\n",
       "    </tr>\n",
       "    <tr>\n",
       "      <th>75%</th>\n",
       "      <td>82.000000</td>\n",
       "      <td>571.927500</td>\n",
       "      <td>57.000000</td>\n",
       "      <td>21424.700000</td>\n",
       "      <td>1.000000</td>\n",
       "    </tr>\n",
       "    <tr>\n",
       "      <th>max</th>\n",
       "      <td>244.000000</td>\n",
       "      <td>1632.060000</td>\n",
       "      <td>224.000000</td>\n",
       "      <td>49745.730000</td>\n",
       "      <td>1.000000</td>\n",
       "    </tr>\n",
       "  </tbody>\n",
       "</table>\n",
       "</div>"
      ],
      "text/plain": [
       "             calls      minutes     messages       mb_used     is_ultra\n",
       "count  3214.000000  3214.000000  3214.000000   3214.000000  3214.000000\n",
       "mean     63.038892   438.208787    38.281269  17207.673836     0.306472\n",
       "std      33.236368   234.569872    36.148326   7570.968246     0.461100\n",
       "min       0.000000     0.000000     0.000000      0.000000     0.000000\n",
       "25%      40.000000   274.575000     9.000000  12491.902500     0.000000\n",
       "50%      62.000000   430.600000    30.000000  16943.235000     0.000000\n",
       "75%      82.000000   571.927500    57.000000  21424.700000     1.000000\n",
       "max     244.000000  1632.060000   224.000000  49745.730000     1.000000"
      ]
     },
     "execution_count": 5,
     "metadata": {},
     "output_type": "execute_result"
    }
   ],
   "source": [
    "df.describe()"
   ]
  },
  {
   "cell_type": "markdown",
   "metadata": {},
   "source": [
    "Все столбцы, кроме столбца is_ultra имеют тип данных  float64.\n",
    "\n",
    "Средние значения не сильно отличаются от медианных, что говорит о незначительных и умеренных выбросах."
   ]
  },
  {
   "cell_type": "markdown",
   "metadata": {},
   "source": [
    " "
   ]
  },
  {
   "cell_type": "markdown",
   "metadata": {},
   "source": [
    " "
   ]
  },
  {
   "cell_type": "markdown",
   "metadata": {},
   "source": [
    "Отделяем от нашего датасета 20% тестовой выборки"
   ]
  },
  {
   "cell_type": "code",
   "execution_count": 6,
   "metadata": {},
   "outputs": [],
   "source": [
    "train_valid, test = train_test_split(df, test_size=0.2)"
   ]
  },
  {
   "cell_type": "code",
   "execution_count": 7,
   "metadata": {},
   "outputs": [
    {
     "data": {
      "text/html": [
       "<div>\n",
       "<style scoped>\n",
       "    .dataframe tbody tr th:only-of-type {\n",
       "        vertical-align: middle;\n",
       "    }\n",
       "\n",
       "    .dataframe tbody tr th {\n",
       "        vertical-align: top;\n",
       "    }\n",
       "\n",
       "    .dataframe thead th {\n",
       "        text-align: right;\n",
       "    }\n",
       "</style>\n",
       "<table border=\"1\" class=\"dataframe\">\n",
       "  <thead>\n",
       "    <tr style=\"text-align: right;\">\n",
       "      <th></th>\n",
       "      <th>calls</th>\n",
       "      <th>minutes</th>\n",
       "      <th>messages</th>\n",
       "      <th>mb_used</th>\n",
       "      <th>is_ultra</th>\n",
       "    </tr>\n",
       "  </thead>\n",
       "  <tbody>\n",
       "    <tr>\n",
       "      <th>3197</th>\n",
       "      <td>89.0</td>\n",
       "      <td>660.72</td>\n",
       "      <td>68.0</td>\n",
       "      <td>11711.54</td>\n",
       "      <td>0</td>\n",
       "    </tr>\n",
       "    <tr>\n",
       "      <th>333</th>\n",
       "      <td>93.0</td>\n",
       "      <td>687.92</td>\n",
       "      <td>78.0</td>\n",
       "      <td>16290.94</td>\n",
       "      <td>0</td>\n",
       "    </tr>\n",
       "    <tr>\n",
       "      <th>808</th>\n",
       "      <td>25.0</td>\n",
       "      <td>203.33</td>\n",
       "      <td>25.0</td>\n",
       "      <td>22518.06</td>\n",
       "      <td>0</td>\n",
       "    </tr>\n",
       "    <tr>\n",
       "      <th>1485</th>\n",
       "      <td>77.0</td>\n",
       "      <td>526.03</td>\n",
       "      <td>137.0</td>\n",
       "      <td>20517.57</td>\n",
       "      <td>1</td>\n",
       "    </tr>\n",
       "    <tr>\n",
       "      <th>72</th>\n",
       "      <td>69.0</td>\n",
       "      <td>477.53</td>\n",
       "      <td>7.0</td>\n",
       "      <td>21437.29</td>\n",
       "      <td>0</td>\n",
       "    </tr>\n",
       "    <tr>\n",
       "      <th>...</th>\n",
       "      <td>...</td>\n",
       "      <td>...</td>\n",
       "      <td>...</td>\n",
       "      <td>...</td>\n",
       "      <td>...</td>\n",
       "    </tr>\n",
       "    <tr>\n",
       "      <th>2873</th>\n",
       "      <td>73.0</td>\n",
       "      <td>511.82</td>\n",
       "      <td>1.0</td>\n",
       "      <td>13779.45</td>\n",
       "      <td>0</td>\n",
       "    </tr>\n",
       "    <tr>\n",
       "      <th>2898</th>\n",
       "      <td>65.0</td>\n",
       "      <td>387.84</td>\n",
       "      <td>0.0</td>\n",
       "      <td>17035.25</td>\n",
       "      <td>0</td>\n",
       "    </tr>\n",
       "    <tr>\n",
       "      <th>127</th>\n",
       "      <td>68.0</td>\n",
       "      <td>444.41</td>\n",
       "      <td>35.0</td>\n",
       "      <td>26460.37</td>\n",
       "      <td>1</td>\n",
       "    </tr>\n",
       "    <tr>\n",
       "      <th>3161</th>\n",
       "      <td>70.0</td>\n",
       "      <td>430.16</td>\n",
       "      <td>33.0</td>\n",
       "      <td>18828.47</td>\n",
       "      <td>0</td>\n",
       "    </tr>\n",
       "    <tr>\n",
       "      <th>1078</th>\n",
       "      <td>91.0</td>\n",
       "      <td>604.39</td>\n",
       "      <td>19.0</td>\n",
       "      <td>25152.82</td>\n",
       "      <td>1</td>\n",
       "    </tr>\n",
       "  </tbody>\n",
       "</table>\n",
       "<p>2571 rows × 5 columns</p>\n",
       "</div>"
      ],
      "text/plain": [
       "      calls  minutes  messages   mb_used  is_ultra\n",
       "3197   89.0   660.72      68.0  11711.54         0\n",
       "333    93.0   687.92      78.0  16290.94         0\n",
       "808    25.0   203.33      25.0  22518.06         0\n",
       "1485   77.0   526.03     137.0  20517.57         1\n",
       "72     69.0   477.53       7.0  21437.29         0\n",
       "...     ...      ...       ...       ...       ...\n",
       "2873   73.0   511.82       1.0  13779.45         0\n",
       "2898   65.0   387.84       0.0  17035.25         0\n",
       "127    68.0   444.41      35.0  26460.37         1\n",
       "3161   70.0   430.16      33.0  18828.47         0\n",
       "1078   91.0   604.39      19.0  25152.82         1\n",
       "\n",
       "[2571 rows x 5 columns]"
      ]
     },
     "execution_count": 7,
     "metadata": {},
     "output_type": "execute_result"
    }
   ],
   "source": [
    "train_valid"
   ]
  },
  {
   "cell_type": "code",
   "execution_count": 8,
   "metadata": {},
   "outputs": [
    {
     "data": {
      "text/html": [
       "<div>\n",
       "<style scoped>\n",
       "    .dataframe tbody tr th:only-of-type {\n",
       "        vertical-align: middle;\n",
       "    }\n",
       "\n",
       "    .dataframe tbody tr th {\n",
       "        vertical-align: top;\n",
       "    }\n",
       "\n",
       "    .dataframe thead th {\n",
       "        text-align: right;\n",
       "    }\n",
       "</style>\n",
       "<table border=\"1\" class=\"dataframe\">\n",
       "  <thead>\n",
       "    <tr style=\"text-align: right;\">\n",
       "      <th></th>\n",
       "      <th>calls</th>\n",
       "      <th>minutes</th>\n",
       "      <th>messages</th>\n",
       "      <th>mb_used</th>\n",
       "      <th>is_ultra</th>\n",
       "    </tr>\n",
       "  </thead>\n",
       "  <tbody>\n",
       "    <tr>\n",
       "      <th>2884</th>\n",
       "      <td>68.0</td>\n",
       "      <td>465.66</td>\n",
       "      <td>40.0</td>\n",
       "      <td>14477.30</td>\n",
       "      <td>0</td>\n",
       "    </tr>\n",
       "    <tr>\n",
       "      <th>2451</th>\n",
       "      <td>10.0</td>\n",
       "      <td>62.84</td>\n",
       "      <td>50.0</td>\n",
       "      <td>27796.65</td>\n",
       "      <td>1</td>\n",
       "    </tr>\n",
       "    <tr>\n",
       "      <th>2629</th>\n",
       "      <td>104.0</td>\n",
       "      <td>685.18</td>\n",
       "      <td>52.0</td>\n",
       "      <td>18334.30</td>\n",
       "      <td>0</td>\n",
       "    </tr>\n",
       "    <tr>\n",
       "      <th>775</th>\n",
       "      <td>119.0</td>\n",
       "      <td>808.13</td>\n",
       "      <td>14.0</td>\n",
       "      <td>20728.45</td>\n",
       "      <td>0</td>\n",
       "    </tr>\n",
       "    <tr>\n",
       "      <th>2909</th>\n",
       "      <td>25.0</td>\n",
       "      <td>201.38</td>\n",
       "      <td>0.0</td>\n",
       "      <td>13586.52</td>\n",
       "      <td>0</td>\n",
       "    </tr>\n",
       "    <tr>\n",
       "      <th>...</th>\n",
       "      <td>...</td>\n",
       "      <td>...</td>\n",
       "      <td>...</td>\n",
       "      <td>...</td>\n",
       "      <td>...</td>\n",
       "    </tr>\n",
       "    <tr>\n",
       "      <th>955</th>\n",
       "      <td>85.0</td>\n",
       "      <td>613.98</td>\n",
       "      <td>34.0</td>\n",
       "      <td>5622.08</td>\n",
       "      <td>1</td>\n",
       "    </tr>\n",
       "    <tr>\n",
       "      <th>1660</th>\n",
       "      <td>61.0</td>\n",
       "      <td>420.18</td>\n",
       "      <td>40.0</td>\n",
       "      <td>17969.47</td>\n",
       "      <td>0</td>\n",
       "    </tr>\n",
       "    <tr>\n",
       "      <th>1818</th>\n",
       "      <td>26.0</td>\n",
       "      <td>201.35</td>\n",
       "      <td>32.0</td>\n",
       "      <td>9027.27</td>\n",
       "      <td>1</td>\n",
       "    </tr>\n",
       "    <tr>\n",
       "      <th>1007</th>\n",
       "      <td>73.0</td>\n",
       "      <td>550.58</td>\n",
       "      <td>25.0</td>\n",
       "      <td>18322.63</td>\n",
       "      <td>0</td>\n",
       "    </tr>\n",
       "    <tr>\n",
       "      <th>116</th>\n",
       "      <td>87.0</td>\n",
       "      <td>626.62</td>\n",
       "      <td>0.0</td>\n",
       "      <td>20718.43</td>\n",
       "      <td>0</td>\n",
       "    </tr>\n",
       "  </tbody>\n",
       "</table>\n",
       "<p>643 rows × 5 columns</p>\n",
       "</div>"
      ],
      "text/plain": [
       "      calls  minutes  messages   mb_used  is_ultra\n",
       "2884   68.0   465.66      40.0  14477.30         0\n",
       "2451   10.0    62.84      50.0  27796.65         1\n",
       "2629  104.0   685.18      52.0  18334.30         0\n",
       "775   119.0   808.13      14.0  20728.45         0\n",
       "2909   25.0   201.38       0.0  13586.52         0\n",
       "...     ...      ...       ...       ...       ...\n",
       "955    85.0   613.98      34.0   5622.08         1\n",
       "1660   61.0   420.18      40.0  17969.47         0\n",
       "1818   26.0   201.35      32.0   9027.27         1\n",
       "1007   73.0   550.58      25.0  18322.63         0\n",
       "116    87.0   626.62       0.0  20718.43         0\n",
       "\n",
       "[643 rows x 5 columns]"
      ]
     },
     "execution_count": 8,
     "metadata": {},
     "output_type": "execute_result"
    }
   ],
   "source": [
    "test"
   ]
  },
  {
   "cell_type": "markdown",
   "metadata": {},
   "source": [
    " "
   ]
  },
  {
   "cell_type": "markdown",
   "metadata": {},
   "source": [
    "Оставшийся большой кусок разделяем на тренировочную и валидационную выборки"
   ]
  },
  {
   "cell_type": "code",
   "execution_count": 9,
   "metadata": {},
   "outputs": [],
   "source": [
    "train, valid = train_test_split(train_valid, test_size=0.25)"
   ]
  },
  {
   "cell_type": "code",
   "execution_count": 10,
   "metadata": {},
   "outputs": [
    {
     "data": {
      "text/html": [
       "<div>\n",
       "<style scoped>\n",
       "    .dataframe tbody tr th:only-of-type {\n",
       "        vertical-align: middle;\n",
       "    }\n",
       "\n",
       "    .dataframe tbody tr th {\n",
       "        vertical-align: top;\n",
       "    }\n",
       "\n",
       "    .dataframe thead th {\n",
       "        text-align: right;\n",
       "    }\n",
       "</style>\n",
       "<table border=\"1\" class=\"dataframe\">\n",
       "  <thead>\n",
       "    <tr style=\"text-align: right;\">\n",
       "      <th></th>\n",
       "      <th>calls</th>\n",
       "      <th>minutes</th>\n",
       "      <th>messages</th>\n",
       "      <th>mb_used</th>\n",
       "      <th>is_ultra</th>\n",
       "    </tr>\n",
       "  </thead>\n",
       "  <tbody>\n",
       "    <tr>\n",
       "      <th>1493</th>\n",
       "      <td>100.0</td>\n",
       "      <td>729.71</td>\n",
       "      <td>55.0</td>\n",
       "      <td>18939.82</td>\n",
       "      <td>0</td>\n",
       "    </tr>\n",
       "    <tr>\n",
       "      <th>1488</th>\n",
       "      <td>62.0</td>\n",
       "      <td>452.89</td>\n",
       "      <td>66.0</td>\n",
       "      <td>20815.17</td>\n",
       "      <td>0</td>\n",
       "    </tr>\n",
       "    <tr>\n",
       "      <th>2584</th>\n",
       "      <td>46.0</td>\n",
       "      <td>298.79</td>\n",
       "      <td>39.0</td>\n",
       "      <td>19376.93</td>\n",
       "      <td>1</td>\n",
       "    </tr>\n",
       "    <tr>\n",
       "      <th>2194</th>\n",
       "      <td>37.0</td>\n",
       "      <td>263.89</td>\n",
       "      <td>113.0</td>\n",
       "      <td>19808.22</td>\n",
       "      <td>1</td>\n",
       "    </tr>\n",
       "    <tr>\n",
       "      <th>688</th>\n",
       "      <td>111.0</td>\n",
       "      <td>633.05</td>\n",
       "      <td>94.0</td>\n",
       "      <td>8792.86</td>\n",
       "      <td>1</td>\n",
       "    </tr>\n",
       "    <tr>\n",
       "      <th>...</th>\n",
       "      <td>...</td>\n",
       "      <td>...</td>\n",
       "      <td>...</td>\n",
       "      <td>...</td>\n",
       "      <td>...</td>\n",
       "    </tr>\n",
       "    <tr>\n",
       "      <th>948</th>\n",
       "      <td>58.0</td>\n",
       "      <td>386.44</td>\n",
       "      <td>0.0</td>\n",
       "      <td>16581.86</td>\n",
       "      <td>0</td>\n",
       "    </tr>\n",
       "    <tr>\n",
       "      <th>1278</th>\n",
       "      <td>64.0</td>\n",
       "      <td>473.62</td>\n",
       "      <td>68.0</td>\n",
       "      <td>16776.81</td>\n",
       "      <td>0</td>\n",
       "    </tr>\n",
       "    <tr>\n",
       "      <th>639</th>\n",
       "      <td>18.0</td>\n",
       "      <td>123.75</td>\n",
       "      <td>0.0</td>\n",
       "      <td>4383.90</td>\n",
       "      <td>0</td>\n",
       "    </tr>\n",
       "    <tr>\n",
       "      <th>3012</th>\n",
       "      <td>29.0</td>\n",
       "      <td>192.59</td>\n",
       "      <td>91.0</td>\n",
       "      <td>14062.80</td>\n",
       "      <td>0</td>\n",
       "    </tr>\n",
       "    <tr>\n",
       "      <th>3017</th>\n",
       "      <td>12.0</td>\n",
       "      <td>70.63</td>\n",
       "      <td>16.0</td>\n",
       "      <td>5109.11</td>\n",
       "      <td>0</td>\n",
       "    </tr>\n",
       "  </tbody>\n",
       "</table>\n",
       "<p>1928 rows × 5 columns</p>\n",
       "</div>"
      ],
      "text/plain": [
       "      calls  minutes  messages   mb_used  is_ultra\n",
       "1493  100.0   729.71      55.0  18939.82         0\n",
       "1488   62.0   452.89      66.0  20815.17         0\n",
       "2584   46.0   298.79      39.0  19376.93         1\n",
       "2194   37.0   263.89     113.0  19808.22         1\n",
       "688   111.0   633.05      94.0   8792.86         1\n",
       "...     ...      ...       ...       ...       ...\n",
       "948    58.0   386.44       0.0  16581.86         0\n",
       "1278   64.0   473.62      68.0  16776.81         0\n",
       "639    18.0   123.75       0.0   4383.90         0\n",
       "3012   29.0   192.59      91.0  14062.80         0\n",
       "3017   12.0    70.63      16.0   5109.11         0\n",
       "\n",
       "[1928 rows x 5 columns]"
      ]
     },
     "execution_count": 10,
     "metadata": {},
     "output_type": "execute_result"
    }
   ],
   "source": [
    "train"
   ]
  },
  {
   "cell_type": "code",
   "execution_count": 11,
   "metadata": {},
   "outputs": [
    {
     "data": {
      "text/html": [
       "<div>\n",
       "<style scoped>\n",
       "    .dataframe tbody tr th:only-of-type {\n",
       "        vertical-align: middle;\n",
       "    }\n",
       "\n",
       "    .dataframe tbody tr th {\n",
       "        vertical-align: top;\n",
       "    }\n",
       "\n",
       "    .dataframe thead th {\n",
       "        text-align: right;\n",
       "    }\n",
       "</style>\n",
       "<table border=\"1\" class=\"dataframe\">\n",
       "  <thead>\n",
       "    <tr style=\"text-align: right;\">\n",
       "      <th></th>\n",
       "      <th>calls</th>\n",
       "      <th>minutes</th>\n",
       "      <th>messages</th>\n",
       "      <th>mb_used</th>\n",
       "      <th>is_ultra</th>\n",
       "    </tr>\n",
       "  </thead>\n",
       "  <tbody>\n",
       "    <tr>\n",
       "      <th>2968</th>\n",
       "      <td>80.0</td>\n",
       "      <td>581.24</td>\n",
       "      <td>60.0</td>\n",
       "      <td>20897.77</td>\n",
       "      <td>1</td>\n",
       "    </tr>\n",
       "    <tr>\n",
       "      <th>246</th>\n",
       "      <td>15.0</td>\n",
       "      <td>107.45</td>\n",
       "      <td>49.0</td>\n",
       "      <td>35656.30</td>\n",
       "      <td>1</td>\n",
       "    </tr>\n",
       "    <tr>\n",
       "      <th>183</th>\n",
       "      <td>162.0</td>\n",
       "      <td>993.11</td>\n",
       "      <td>106.0</td>\n",
       "      <td>20211.20</td>\n",
       "      <td>1</td>\n",
       "    </tr>\n",
       "    <tr>\n",
       "      <th>950</th>\n",
       "      <td>65.0</td>\n",
       "      <td>421.87</td>\n",
       "      <td>28.0</td>\n",
       "      <td>23488.98</td>\n",
       "      <td>0</td>\n",
       "    </tr>\n",
       "    <tr>\n",
       "      <th>1981</th>\n",
       "      <td>15.0</td>\n",
       "      <td>152.00</td>\n",
       "      <td>14.0</td>\n",
       "      <td>5144.73</td>\n",
       "      <td>0</td>\n",
       "    </tr>\n",
       "    <tr>\n",
       "      <th>...</th>\n",
       "      <td>...</td>\n",
       "      <td>...</td>\n",
       "      <td>...</td>\n",
       "      <td>...</td>\n",
       "      <td>...</td>\n",
       "    </tr>\n",
       "    <tr>\n",
       "      <th>1259</th>\n",
       "      <td>81.0</td>\n",
       "      <td>606.20</td>\n",
       "      <td>36.0</td>\n",
       "      <td>20066.10</td>\n",
       "      <td>0</td>\n",
       "    </tr>\n",
       "    <tr>\n",
       "      <th>1570</th>\n",
       "      <td>72.0</td>\n",
       "      <td>442.22</td>\n",
       "      <td>10.0</td>\n",
       "      <td>16983.66</td>\n",
       "      <td>0</td>\n",
       "    </tr>\n",
       "    <tr>\n",
       "      <th>444</th>\n",
       "      <td>69.0</td>\n",
       "      <td>437.91</td>\n",
       "      <td>56.0</td>\n",
       "      <td>18723.16</td>\n",
       "      <td>0</td>\n",
       "    </tr>\n",
       "    <tr>\n",
       "      <th>3028</th>\n",
       "      <td>82.0</td>\n",
       "      <td>488.33</td>\n",
       "      <td>20.0</td>\n",
       "      <td>19438.46</td>\n",
       "      <td>1</td>\n",
       "    </tr>\n",
       "    <tr>\n",
       "      <th>604</th>\n",
       "      <td>10.0</td>\n",
       "      <td>96.29</td>\n",
       "      <td>20.0</td>\n",
       "      <td>3184.72</td>\n",
       "      <td>1</td>\n",
       "    </tr>\n",
       "  </tbody>\n",
       "</table>\n",
       "<p>643 rows × 5 columns</p>\n",
       "</div>"
      ],
      "text/plain": [
       "      calls  minutes  messages   mb_used  is_ultra\n",
       "2968   80.0   581.24      60.0  20897.77         1\n",
       "246    15.0   107.45      49.0  35656.30         1\n",
       "183   162.0   993.11     106.0  20211.20         1\n",
       "950    65.0   421.87      28.0  23488.98         0\n",
       "1981   15.0   152.00      14.0   5144.73         0\n",
       "...     ...      ...       ...       ...       ...\n",
       "1259   81.0   606.20      36.0  20066.10         0\n",
       "1570   72.0   442.22      10.0  16983.66         0\n",
       "444    69.0   437.91      56.0  18723.16         0\n",
       "3028   82.0   488.33      20.0  19438.46         1\n",
       "604    10.0    96.29      20.0   3184.72         1\n",
       "\n",
       "[643 rows x 5 columns]"
      ]
     },
     "execution_count": 11,
     "metadata": {},
     "output_type": "execute_result"
    }
   ],
   "source": [
    "valid"
   ]
  },
  {
   "cell_type": "markdown",
   "metadata": {},
   "source": [
    "  "
   ]
  },
  {
   "cell_type": "markdown",
   "metadata": {},
   "source": [
    "Последний этап в разбиение выборок: разбиение каждой из выборок на features и target"
   ]
  },
  {
   "cell_type": "code",
   "execution_count": 12,
   "metadata": {},
   "outputs": [],
   "source": [
    "features_train = train.drop(['is_ultra'], axis=1)\n",
    "target_train = train['is_ultra']"
   ]
  },
  {
   "cell_type": "code",
   "execution_count": 13,
   "metadata": {},
   "outputs": [],
   "source": [
    "features_valid = valid.drop(['is_ultra'], axis=1)\n",
    "target_valid = valid['is_ultra']"
   ]
  },
  {
   "cell_type": "code",
   "execution_count": 14,
   "metadata": {},
   "outputs": [],
   "source": [
    "features_test = test.drop(['is_ultra'], axis=1)\n",
    "target_test = test['is_ultra']"
   ]
  },
  {
   "cell_type": "markdown",
   "metadata": {},
   "source": [
    "Вывод: Разбили полученные данные на тестовую, валидационную и тренировочную выборки"
   ]
  },
  {
   "cell_type": "markdown",
   "metadata": {},
   "source": [
    " "
   ]
  },
  {
   "cell_type": "code",
   "execution_count": 15,
   "metadata": {},
   "outputs": [
    {
     "data": {
      "text/plain": [
       "(1928, 4)"
      ]
     },
     "execution_count": 15,
     "metadata": {},
     "output_type": "execute_result"
    }
   ],
   "source": [
    "features_train.shape"
   ]
  },
  {
   "cell_type": "code",
   "execution_count": 16,
   "metadata": {},
   "outputs": [
    {
     "data": {
      "text/plain": [
       "(643, 4)"
      ]
     },
     "execution_count": 16,
     "metadata": {},
     "output_type": "execute_result"
    }
   ],
   "source": [
    "features_valid.shape"
   ]
  },
  {
   "cell_type": "code",
   "execution_count": 17,
   "metadata": {},
   "outputs": [
    {
     "data": {
      "text/plain": [
       "(643, 4)"
      ]
     },
     "execution_count": 17,
     "metadata": {},
     "output_type": "execute_result"
    }
   ],
   "source": [
    "features_test.shape"
   ]
  },
  {
   "cell_type": "markdown",
   "metadata": {},
   "source": [
    " "
   ]
  },
  {
   "cell_type": "markdown",
   "metadata": {},
   "source": [
    " "
   ]
  },
  {
   "cell_type": "markdown",
   "metadata": {},
   "source": [
    "##  Применяем различные алгоритмы машинного обучения"
   ]
  },
  {
   "cell_type": "markdown",
   "metadata": {},
   "source": [
    "### Логистическая регрессия"
   ]
  },
  {
   "cell_type": "code",
   "execution_count": 18,
   "metadata": {},
   "outputs": [
    {
     "name": "stdout",
     "output_type": "stream",
     "text": [
      "Accuracy модели логистической регрессии на валидационной выборке: 0.7247278382581649\n",
      "Accuracy модели логистической регрессии на тестовой выборке: 0.7278382581648523\n"
     ]
    }
   ],
   "source": [
    "model = LogisticRegression(random_state=12345, solver='liblinear')\n",
    "model.fit(features_train, target_train) \n",
    "valid_result = model.score(features_valid,target_valid)\n",
    "test_result = model.score(features_test,target_test)\n",
    "\n",
    "print(\"Accuracy модели логистической регрессии на валидационной выборке:\", valid_result)\n",
    "print(\"Accuracy модели логистической регрессии на тестовой выборке:\", test_result)"
   ]
  },
  {
   "cell_type": "markdown",
   "metadata": {},
   "source": [
    "Применяя логистическую регрессию, на тестовой выборке получаем обычно значение Accuracy в орайоне 0.7, что недостаточно для удовлетворительного результата."
   ]
  },
  {
   "cell_type": "markdown",
   "metadata": {},
   "source": [
    " "
   ]
  },
  {
   "cell_type": "markdown",
   "metadata": {},
   "source": [
    " "
   ]
  },
  {
   "cell_type": "markdown",
   "metadata": {},
   "source": [
    "### Дерево решений"
   ]
  },
  {
   "cell_type": "markdown",
   "metadata": {},
   "source": [
    "Применим алгоритм дерева решений без настроек глубины дерева"
   ]
  },
  {
   "cell_type": "code",
   "execution_count": 19,
   "metadata": {},
   "outputs": [],
   "source": [
    "model = DecisionTreeClassifier(random_state=12345)\n",
    "\n",
    "model.fit(features_train, target_train)\n",
    "\n",
    "train_predictions = model.predict(features_train)\n",
    "accuracy =accuracy_score(target_train, train_predictions)"
   ]
  },
  {
   "cell_type": "code",
   "execution_count": 20,
   "metadata": {},
   "outputs": [
    {
     "name": "stdout",
     "output_type": "stream",
     "text": [
      "Accuracy\n",
      "Обучающая выборка: 1.0\n",
      "Валидационная выборка: 0.7231726283048211\n",
      "Тестовая выборка: 0.7153965785381027\n"
     ]
    }
   ],
   "source": [
    "valid_predictions = model.predict(features_valid)\n",
    "test_predictions = model.predict(features_test)\n",
    "\n",
    "accuracy_valid=accuracy_score(target_valid, valid_predictions) \n",
    "accuracy_test=accuracy_score(target_test, test_predictions) \n",
    "\n",
    "\n",
    "print(\"Accuracy\")\n",
    "print(\"Обучающая выборка:\", accuracy)\n",
    "print(\"Валидационная выборка:\", accuracy_valid)\n",
    "print(\"Тестовая выборка:\", accuracy_test)# "
   ]
  },
  {
   "cell_type": "markdown",
   "metadata": {},
   "source": [
    "Полученное значение Accuracy на тестовой выборке снова колеблется в районе 0.7."
   ]
  },
  {
   "cell_type": "markdown",
   "metadata": {},
   "source": [
    " "
   ]
  },
  {
   "cell_type": "markdown",
   "metadata": {},
   "source": [
    "Попробуем посмотреть на различные значения Accuracy относительно различных глубин деревьев"
   ]
  },
  {
   "cell_type": "code",
   "execution_count": 21,
   "metadata": {},
   "outputs": [
    {
     "name": "stdout",
     "output_type": "stream",
     "text": [
      "max_depth = 1 : 0.744945567651633\n",
      "max_depth = 2 : 0.7791601866251944\n",
      "max_depth = 3 : 0.7931570762052877\n",
      "max_depth = 4 : 0.7931570762052877\n",
      "max_depth = 5 : 0.7884914463452566\n",
      "max_depth = 6 : 0.776049766718507\n",
      "max_depth = 7 : 0.7651632970451011\n",
      "max_depth = 8 : 0.7807153965785381\n",
      "max_depth = 9 : 0.7667185069984448\n"
     ]
    }
   ],
   "source": [
    "for depth in range(1, 10):\n",
    "    \n",
    "    model = DecisionTreeClassifier(random_state=12345, max_depth=depth)\n",
    "    model.fit(features_train, target_train)\n",
    "    predictions_valid = model.predict(features_valid)\n",
    "    \n",
    "    print(\"max_depth =\", depth, \": \", end='')\n",
    "    print(accuracy_score(target_valid, predictions_valid)) \n"
   ]
  },
  {
   "cell_type": "markdown",
   "metadata": {},
   "source": [
    "Выберем для прмера вариант дерева с глубиной 3. Там значение Accuracy более-менее приличное. и Установим это значение глубины дерева в последующем решении"
   ]
  },
  {
   "cell_type": "code",
   "execution_count": 22,
   "metadata": {},
   "outputs": [
    {
     "name": "stdout",
     "output_type": "stream",
     "text": [
      "Accuracy\n",
      "Обучающая выборка: 1.0\n",
      "Валидационная выборка: 0.7931570762052877\n",
      "Тестовая выборка: 0.7916018662519441\n"
     ]
    }
   ],
   "source": [
    "model = DecisionTreeClassifier(random_state=12345, max_depth=3)\n",
    "model.fit(features_train, target_train)\n",
    "\n",
    "valid_predictions = model.predict(features_valid)\n",
    "test_predictions = model.predict(features_test)\n",
    "\n",
    "accuracy_valid=accuracy_score(target_valid, valid_predictions) \n",
    "accuracy_test=accuracy_score(target_test, test_predictions) \n",
    "\n",
    "\n",
    "print(\"Accuracy\")\n",
    "print(\"Обучающая выборка:\", accuracy)\n",
    "print(\"Валидационная выборка:\", accuracy_valid)\n",
    "print(\"Тестовая выборка:\", accuracy_test)"
   ]
  },
  {
   "cell_type": "markdown",
   "metadata": {},
   "source": [
    " "
   ]
  },
  {
   "cell_type": "markdown",
   "metadata": {},
   "source": [
    " "
   ]
  },
  {
   "cell_type": "markdown",
   "metadata": {},
   "source": [
    "### Случайный лес"
   ]
  },
  {
   "cell_type": "code",
   "execution_count": 23,
   "metadata": {
    "scrolled": true
   },
   "outputs": [
    {
     "name": "stdout",
     "output_type": "stream",
     "text": [
      "n_estimators = 1 : max_depth = 1 : 0.7465007776049767\n",
      "n_estimators = 1 : max_depth = 2 : 0.7884914463452566\n",
      "n_estimators = 1 : max_depth = 3 : 0.8009331259720062\n",
      "n_estimators = 1 : max_depth = 5 : 0.8102643856920684\n",
      "n_estimators = 3 : max_depth = 5 : 0.8149300155520995\n",
      "n_estimators = 4 : max_depth = 5 : 0.8164852255054432\n",
      "Accuracy наилучшей модели на валидационной выборке: 0.8164852255054432\n",
      "Accuracy наилучшей модели на тестовой выборке: 0.80248833592535\n"
     ]
    }
   ],
   "source": [
    "best_model = None\n",
    "best_result = 0\n",
    "for est in range(1, 20):\n",
    "     for depth in range (1, 20):\n",
    "            model = RandomForestClassifier(random_state=12345, n_estimators=est,max_depth=depth) \n",
    "\n",
    "    \n",
    "            model.fit(features_train, target_train) \n",
    "            result = model.score(features_valid, target_valid)\n",
    "            predictions_valid = model.predict(features_valid)\n",
    "            if result > best_result:\n",
    "                print(\"n_estimators =\", est, \": \", end='')\n",
    "                print(\"max_depth =\", depth, \": \", end='')\n",
    "                print(accuracy_score(target_valid, predictions_valid))\n",
    "                best_model =model\n",
    "                best_result =result \n",
    "            \n",
    "             \n",
    "\n",
    "print(\"Accuracy наилучшей модели на валидационной выборке:\", best_result)\n",
    "print(\"Accuracy наилучшей модели на тестовой выборке:\", model.score(features_test, target_test))"
   ]
  },
  {
   "cell_type": "markdown",
   "metadata": {},
   "source": [
    "Вывод: Алгоритм случайного леса выдал нам наибольшую точность. В целях экономии времени мы ограничили глубину дерева и кол-во деревьев до значения 20."
   ]
  },
  {
   "cell_type": "markdown",
   "metadata": {},
   "source": [
    " "
   ]
  },
  {
   "cell_type": "markdown",
   "metadata": {},
   "source": [
    " "
   ]
  },
  {
   "cell_type": "markdown",
   "metadata": {},
   "source": [
    " "
   ]
  },
  {
   "cell_type": "code",
   "execution_count": 24,
   "metadata": {},
   "outputs": [
    {
     "data": {
      "text/plain": [
       "0.7107309486780715"
      ]
     },
     "execution_count": 24,
     "metadata": {},
     "output_type": "execute_result"
    }
   ],
   "source": [
    "dummy = DummyClassifier(strategy='most_frequent').fit(features_train, target_train)\n",
    "dummy_pred = dummy.predict(features_test)\n",
    "accuracy_score(target_test, dummy_pred)"
   ]
  },
  {
   "cell_type": "markdown",
   "metadata": {},
   "source": [
    "Чтобы наши модели можно было назвать адекватными, их точность должна превосходить 0.67"
   ]
  },
  {
   "cell_type": "markdown",
   "metadata": {},
   "source": [
    " "
   ]
  },
  {
   "cell_type": "markdown",
   "metadata": {},
   "source": [
    "  "
   ]
  },
  {
   "cell_type": "markdown",
   "metadata": {},
   "source": [
    "## Выводы"
   ]
  },
  {
   "cell_type": "markdown",
   "metadata": {},
   "source": [
    "В процессе создания наиболее точной модели мы попробовали три алгоритма: \n",
    "  - 1) Логистическая регрессия\n",
    "  \n",
    "  - 2) Дерево решений\n",
    "  \n",
    "  - 3) Случайный лес\n",
    "   \n",
    "   \n",
    "Наибольшую точность показал алгоритм Случайного леса. \n",
    "\n",
    "Для проверки адекватности модели мы использовали DummyClassifier. "
   ]
  }
 ],
 "metadata": {
  "ExecuteTimeLog": [
   {
    "duration": 1456,
    "start_time": "2021-08-21T12:09:41.174Z"
   },
   {
    "duration": 362,
    "start_time": "2021-08-21T12:09:42.633Z"
   },
   {
    "duration": 21,
    "start_time": "2021-08-21T12:09:42.998Z"
   },
   {
    "duration": 7,
    "start_time": "2021-08-21T12:16:49.625Z"
   },
   {
    "duration": 20,
    "start_time": "2021-08-21T12:17:00.241Z"
   },
   {
    "duration": 9,
    "start_time": "2021-08-21T12:17:00.400Z"
   },
   {
    "duration": 4,
    "start_time": "2021-08-21T12:17:41.668Z"
   },
   {
    "duration": 503,
    "start_time": "2021-08-21T12:17:42.284Z"
   },
   {
    "duration": 366,
    "start_time": "2021-08-21T12:18:22.702Z"
   },
   {
    "duration": 87,
    "start_time": "2021-08-21T12:18:42.878Z"
   },
   {
    "duration": 7,
    "start_time": "2021-08-21T12:18:47.630Z"
   },
   {
    "duration": 3,
    "start_time": "2021-08-21T12:18:49.200Z"
   },
   {
    "duration": 6501,
    "start_time": "2021-08-21T12:18:50.444Z"
   },
   {
    "duration": 8,
    "start_time": "2021-08-21T12:21:22.124Z"
   },
   {
    "duration": 7,
    "start_time": "2021-08-21T12:21:22.282Z"
   },
   {
    "duration": 5,
    "start_time": "2021-08-21T12:21:22.450Z"
   },
   {
    "duration": 5,
    "start_time": "2021-08-21T12:21:22.626Z"
   },
   {
    "duration": 6,
    "start_time": "2021-08-21T12:21:22.794Z"
   },
   {
    "duration": 4,
    "start_time": "2021-08-21T12:21:52.657Z"
   },
   {
    "duration": 6003,
    "start_time": "2021-08-21T12:21:52.841Z"
   },
   {
    "duration": 1511,
    "start_time": "2021-08-21T12:22:19.876Z"
   },
   {
    "duration": 364,
    "start_time": "2021-08-21T12:22:21.389Z"
   },
   {
    "duration": 21,
    "start_time": "2021-08-21T12:22:21.756Z"
   },
   {
    "duration": 6,
    "start_time": "2021-08-21T12:22:21.780Z"
   },
   {
    "duration": 9,
    "start_time": "2021-08-21T12:22:21.788Z"
   },
   {
    "duration": 6,
    "start_time": "2021-08-21T12:22:21.799Z"
   },
   {
    "duration": 8,
    "start_time": "2021-08-21T12:22:21.807Z"
   },
   {
    "duration": 5,
    "start_time": "2021-08-21T12:22:21.856Z"
   },
   {
    "duration": 510,
    "start_time": "2021-08-21T12:22:21.864Z"
   },
   {
    "duration": -740,
    "start_time": "2021-08-21T12:22:23.117Z"
   },
   {
    "duration": -740,
    "start_time": "2021-08-21T12:22:23.118Z"
   },
   {
    "duration": -740,
    "start_time": "2021-08-21T12:22:23.120Z"
   },
   {
    "duration": -739,
    "start_time": "2021-08-21T12:22:23.121Z"
   },
   {
    "duration": 4,
    "start_time": "2021-08-21T12:22:29.326Z"
   },
   {
    "duration": 5494,
    "start_time": "2021-08-21T12:22:29.486Z"
   },
   {
    "duration": 46513,
    "start_time": "2021-08-21T12:22:57.462Z"
   },
   {
    "duration": 30294,
    "start_time": "2021-08-21T12:23:55.987Z"
   },
   {
    "duration": 1877,
    "start_time": "2021-08-21T12:25:51.793Z"
   },
   {
    "duration": 492,
    "start_time": "2021-08-21T12:26:11.721Z"
   },
   {
    "duration": 600,
    "start_time": "2021-08-21T12:26:26.417Z"
   },
   {
    "duration": 1488,
    "start_time": "2021-08-21T12:26:43.200Z"
   },
   {
    "duration": 353,
    "start_time": "2021-08-21T12:26:44.691Z"
   },
   {
    "duration": 21,
    "start_time": "2021-08-21T12:26:45.047Z"
   },
   {
    "duration": 5,
    "start_time": "2021-08-21T12:26:45.072Z"
   },
   {
    "duration": 10,
    "start_time": "2021-08-21T12:26:45.080Z"
   },
   {
    "duration": 12,
    "start_time": "2021-08-21T12:26:45.092Z"
   },
   {
    "duration": 11,
    "start_time": "2021-08-21T12:26:45.106Z"
   },
   {
    "duration": 13,
    "start_time": "2021-08-21T12:26:45.120Z"
   },
   {
    "duration": 22,
    "start_time": "2021-08-21T12:26:45.135Z"
   },
   {
    "duration": 503,
    "start_time": "2021-08-21T12:26:45.160Z"
   },
   {
    "duration": 1526,
    "start_time": "2021-08-21T12:27:05.364Z"
   },
   {
    "duration": 376,
    "start_time": "2021-08-21T12:27:06.892Z"
   },
   {
    "duration": 20,
    "start_time": "2021-08-21T12:27:07.271Z"
   },
   {
    "duration": 10,
    "start_time": "2021-08-21T12:27:07.294Z"
   },
   {
    "duration": 13,
    "start_time": "2021-08-21T12:27:07.306Z"
   },
   {
    "duration": 8,
    "start_time": "2021-08-21T12:27:07.321Z"
   },
   {
    "duration": 9,
    "start_time": "2021-08-21T12:27:07.331Z"
   },
   {
    "duration": 8,
    "start_time": "2021-08-21T12:27:07.356Z"
   },
   {
    "duration": 7,
    "start_time": "2021-08-21T12:27:07.368Z"
   },
   {
    "duration": 380215,
    "start_time": "2021-08-21T12:27:07.377Z"
   },
   {
    "duration": 16949,
    "start_time": "2021-08-21T12:37:29.941Z"
   },
   {
    "duration": 513,
    "start_time": "2021-08-21T12:42:45.006Z"
   },
   {
    "duration": 352,
    "start_time": "2021-08-21T12:44:13.150Z"
   },
   {
    "duration": -589,
    "start_time": "2021-08-21T12:44:14.094Z"
   },
   {
    "duration": 6,
    "start_time": "2021-08-21T12:44:42.959Z"
   },
   {
    "duration": 4,
    "start_time": "2021-08-21T12:44:47.206Z"
   },
   {
    "duration": 20,
    "start_time": "2021-08-21T12:44:48.931Z"
   },
   {
    "duration": 5,
    "start_time": "2021-08-21T12:44:50.090Z"
   },
   {
    "duration": 353,
    "start_time": "2021-08-21T12:44:52.542Z"
   },
   {
    "duration": 5,
    "start_time": "2021-08-21T12:45:14.033Z"
   },
   {
    "duration": 5947,
    "start_time": "2021-08-21T12:45:14.190Z"
   },
   {
    "duration": 8,
    "start_time": "2021-08-21T12:45:38.751Z"
   },
   {
    "duration": 5966,
    "start_time": "2021-08-21T12:46:16.112Z"
   },
   {
    "duration": 6,
    "start_time": "2021-08-21T12:47:14.730Z"
   },
   {
    "duration": 18,
    "start_time": "2021-08-21T12:52:31.595Z"
   },
   {
    "duration": 8,
    "start_time": "2021-08-21T12:53:17.244Z"
   },
   {
    "duration": 12,
    "start_time": "2021-08-21T12:55:00.225Z"
   },
   {
    "duration": 1668,
    "start_time": "2021-08-21T12:56:40.821Z"
   },
   {
    "duration": 322,
    "start_time": "2021-08-21T12:56:42.492Z"
   },
   {
    "duration": 24,
    "start_time": "2021-08-21T12:56:42.817Z"
   },
   {
    "duration": 495,
    "start_time": "2021-08-21T12:56:42.844Z"
   },
   {
    "duration": -693,
    "start_time": "2021-08-21T12:56:44.036Z"
   },
   {
    "duration": -693,
    "start_time": "2021-08-21T12:56:44.038Z"
   },
   {
    "duration": -693,
    "start_time": "2021-08-21T12:56:44.040Z"
   },
   {
    "duration": -692,
    "start_time": "2021-08-21T12:56:44.041Z"
   },
   {
    "duration": -691,
    "start_time": "2021-08-21T12:56:44.042Z"
   },
   {
    "duration": -692,
    "start_time": "2021-08-21T12:56:44.045Z"
   },
   {
    "duration": -696,
    "start_time": "2021-08-21T12:56:44.051Z"
   },
   {
    "duration": -696,
    "start_time": "2021-08-21T12:56:44.053Z"
   },
   {
    "duration": -694,
    "start_time": "2021-08-21T12:56:44.054Z"
   },
   {
    "duration": -694,
    "start_time": "2021-08-21T12:56:44.056Z"
   },
   {
    "duration": -692,
    "start_time": "2021-08-21T12:56:44.057Z"
   },
   {
    "duration": -692,
    "start_time": "2021-08-21T12:56:44.058Z"
   },
   {
    "duration": -692,
    "start_time": "2021-08-21T12:56:44.061Z"
   },
   {
    "duration": -691,
    "start_time": "2021-08-21T12:56:44.062Z"
   },
   {
    "duration": 6,
    "start_time": "2021-08-21T12:56:51.170Z"
   },
   {
    "duration": 17,
    "start_time": "2021-08-21T12:56:51.946Z"
   },
   {
    "duration": 17,
    "start_time": "2021-08-21T12:56:53.905Z"
   },
   {
    "duration": 7,
    "start_time": "2021-08-21T12:57:09.041Z"
   },
   {
    "duration": 17,
    "start_time": "2021-08-21T12:57:09.830Z"
   },
   {
    "duration": 17,
    "start_time": "2021-08-21T12:57:10.145Z"
   },
   {
    "duration": 5,
    "start_time": "2021-08-21T12:57:39.482Z"
   },
   {
    "duration": 23,
    "start_time": "2021-08-21T12:57:39.490Z"
   },
   {
    "duration": 9,
    "start_time": "2021-08-21T12:57:39.516Z"
   },
   {
    "duration": 385,
    "start_time": "2021-08-21T12:57:58.211Z"
   },
   {
    "duration": 20,
    "start_time": "2021-08-21T12:58:08.144Z"
   },
   {
    "duration": 11,
    "start_time": "2021-08-21T12:58:12.281Z"
   },
   {
    "duration": 9,
    "start_time": "2021-08-21T12:58:15.698Z"
   },
   {
    "duration": 20,
    "start_time": "2021-08-21T12:58:23.959Z"
   },
   {
    "duration": 11,
    "start_time": "2021-08-21T12:58:24.233Z"
   },
   {
    "duration": 21,
    "start_time": "2021-08-21T13:01:21.224Z"
   },
   {
    "duration": 13,
    "start_time": "2021-08-21T13:01:21.396Z"
   },
   {
    "duration": 357,
    "start_time": "2021-08-21T13:03:22.531Z"
   },
   {
    "duration": 69,
    "start_time": "2021-08-21T13:04:59.561Z"
   },
   {
    "duration": 1211,
    "start_time": "2021-08-21T13:05:08.215Z"
   },
   {
    "duration": 1202,
    "start_time": "2021-08-21T13:05:31.167Z"
   },
   {
    "duration": 11,
    "start_time": "2021-08-21T13:05:33.382Z"
   },
   {
    "duration": 39,
    "start_time": "2021-08-21T13:08:03.067Z"
   },
   {
    "duration": 147,
    "start_time": "2021-08-21T13:08:08.963Z"
   },
   {
    "duration": 2303,
    "start_time": "2021-08-21T13:08:14.284Z"
   },
   {
    "duration": 72,
    "start_time": "2021-08-21T13:08:35.435Z"
   },
   {
    "duration": 15,
    "start_time": "2021-08-21T13:09:32.081Z"
   },
   {
    "duration": 502,
    "start_time": "2021-08-21T13:47:21.947Z"
   },
   {
    "duration": 6,
    "start_time": "2021-08-21T13:47:58.227Z"
   },
   {
    "duration": 2271,
    "start_time": "2021-08-21T13:48:01.719Z"
   },
   {
    "duration": 2221,
    "start_time": "2021-08-21T13:48:35.609Z"
   },
   {
    "duration": 2394,
    "start_time": "2021-08-21T13:48:52.070Z"
   },
   {
    "duration": 2432,
    "start_time": "2021-08-21T13:49:23.678Z"
   },
   {
    "duration": 2407,
    "start_time": "2021-08-21T13:50:21.796Z"
   },
   {
    "duration": 6,
    "start_time": "2021-08-21T13:51:03.411Z"
   },
   {
    "duration": 6,
    "start_time": "2021-08-21T13:51:19.707Z"
   },
   {
    "duration": 6,
    "start_time": "2021-08-21T13:51:24.482Z"
   },
   {
    "duration": 5,
    "start_time": "2021-08-21T13:51:30.078Z"
   },
   {
    "duration": 5,
    "start_time": "2021-08-21T13:51:34.178Z"
   },
   {
    "duration": 2263,
    "start_time": "2021-08-21T13:51:37.921Z"
   },
   {
    "duration": 2430,
    "start_time": "2021-08-21T13:51:58.586Z"
   },
   {
    "duration": 371,
    "start_time": "2021-08-21T13:52:57.327Z"
   },
   {
    "duration": 1548,
    "start_time": "2021-08-21T13:53:34.741Z"
   },
   {
    "duration": 432,
    "start_time": "2021-08-21T13:53:36.292Z"
   },
   {
    "duration": 22,
    "start_time": "2021-08-21T13:53:36.726Z"
   },
   {
    "duration": 8,
    "start_time": "2021-08-21T13:53:36.751Z"
   },
   {
    "duration": 19,
    "start_time": "2021-08-21T13:53:36.761Z"
   },
   {
    "duration": 21,
    "start_time": "2021-08-21T13:53:36.782Z"
   },
   {
    "duration": 11,
    "start_time": "2021-08-21T13:53:36.805Z"
   },
   {
    "duration": 44,
    "start_time": "2021-08-21T13:53:36.819Z"
   },
   {
    "duration": 18,
    "start_time": "2021-08-21T13:53:36.865Z"
   },
   {
    "duration": 7,
    "start_time": "2021-08-21T13:53:36.885Z"
   },
   {
    "duration": 11,
    "start_time": "2021-08-21T13:53:36.895Z"
   },
   {
    "duration": 8,
    "start_time": "2021-08-21T13:53:36.908Z"
   },
   {
    "duration": 502,
    "start_time": "2021-08-21T13:53:36.918Z"
   },
   {
    "duration": -685,
    "start_time": "2021-08-21T13:53:38.108Z"
   },
   {
    "duration": -694,
    "start_time": "2021-08-21T13:53:38.118Z"
   },
   {
    "duration": -697,
    "start_time": "2021-08-21T13:53:38.122Z"
   },
   {
    "duration": -697,
    "start_time": "2021-08-21T13:53:38.124Z"
   },
   {
    "duration": -699,
    "start_time": "2021-08-21T13:53:38.127Z"
   },
   {
    "duration": -704,
    "start_time": "2021-08-21T13:53:38.134Z"
   },
   {
    "duration": -706,
    "start_time": "2021-08-21T13:53:38.137Z"
   },
   {
    "duration": -706,
    "start_time": "2021-08-21T13:53:38.139Z"
   },
   {
    "duration": 366,
    "start_time": "2021-08-21T13:54:02.434Z"
   },
   {
    "duration": 364,
    "start_time": "2021-08-21T13:56:02.664Z"
   },
   {
    "duration": 37,
    "start_time": "2021-08-21T13:56:26.159Z"
   },
   {
    "duration": 20,
    "start_time": "2021-08-21T13:56:31.239Z"
   },
   {
    "duration": 14,
    "start_time": "2021-08-21T13:56:34.447Z"
   },
   {
    "duration": 84,
    "start_time": "2021-08-21T13:56:41.694Z"
   },
   {
    "duration": 14,
    "start_time": "2021-08-21T13:56:50.914Z"
   },
   {
    "duration": 26,
    "start_time": "2021-08-21T13:56:54.434Z"
   },
   {
    "duration": 20,
    "start_time": "2021-08-21T13:56:59.274Z"
   },
   {
    "duration": 14,
    "start_time": "2021-08-21T13:57:03.670Z"
   },
   {
    "duration": 42,
    "start_time": "2021-08-21T13:57:12.618Z"
   },
   {
    "duration": 164,
    "start_time": "2021-08-21T13:57:18.049Z"
   },
   {
    "duration": 5987,
    "start_time": "2021-08-21T13:57:24.534Z"
   },
   {
    "duration": 409,
    "start_time": "2021-08-21T13:57:53.798Z"
   },
   {
    "duration": 864,
    "start_time": "2021-08-21T13:58:32.816Z"
   },
   {
    "duration": 6404,
    "start_time": "2021-08-21T13:58:51.605Z"
   },
   {
    "duration": 7057,
    "start_time": "2021-08-21T13:59:41.482Z"
   },
   {
    "duration": 562,
    "start_time": "2021-08-21T14:00:47.909Z"
   },
   {
    "duration": 7318,
    "start_time": "2021-08-21T14:01:08.554Z"
   },
   {
    "duration": 767,
    "start_time": "2021-08-21T14:01:32.064Z"
   },
   {
    "duration": 312603,
    "start_time": "2021-08-21T14:27:29.912Z"
   },
   {
    "duration": 1941,
    "start_time": "2021-08-22T11:25:52.272Z"
   },
   {
    "duration": 254,
    "start_time": "2021-08-22T11:25:56.535Z"
   },
   {
    "duration": 31,
    "start_time": "2021-08-22T11:25:58.661Z"
   },
   {
    "duration": 7,
    "start_time": "2021-08-22T11:26:01.383Z"
   },
   {
    "duration": 18,
    "start_time": "2021-08-22T11:26:01.631Z"
   },
   {
    "duration": 17,
    "start_time": "2021-08-22T11:26:03.471Z"
   },
   {
    "duration": 6,
    "start_time": "2021-08-22T11:26:06.634Z"
   },
   {
    "duration": 17,
    "start_time": "2021-08-22T11:26:07.055Z"
   },
   {
    "duration": 27,
    "start_time": "2021-08-22T11:26:08.855Z"
   },
   {
    "duration": 7,
    "start_time": "2021-08-22T11:26:11.935Z"
   },
   {
    "duration": 7,
    "start_time": "2021-08-22T11:26:12.126Z"
   },
   {
    "duration": 5,
    "start_time": "2021-08-22T11:26:12.602Z"
   },
   {
    "duration": 19,
    "start_time": "2021-08-22T11:26:24.445Z"
   },
   {
    "duration": 17,
    "start_time": "2021-08-22T11:26:35.949Z"
   },
   {
    "duration": 18,
    "start_time": "2021-08-22T11:26:45.005Z"
   },
   {
    "duration": 17,
    "start_time": "2021-08-22T11:26:46.886Z"
   },
   {
    "duration": 1978,
    "start_time": "2021-08-22T11:27:00.913Z"
   },
   {
    "duration": 255,
    "start_time": "2021-08-22T11:27:02.895Z"
   },
   {
    "duration": 23,
    "start_time": "2021-08-22T11:27:03.153Z"
   },
   {
    "duration": 7,
    "start_time": "2021-08-22T11:27:03.179Z"
   },
   {
    "duration": 18,
    "start_time": "2021-08-22T11:27:03.188Z"
   },
   {
    "duration": 20,
    "start_time": "2021-08-22T11:27:03.209Z"
   },
   {
    "duration": 33,
    "start_time": "2021-08-22T11:27:03.231Z"
   },
   {
    "duration": 17,
    "start_time": "2021-08-22T11:27:03.266Z"
   },
   {
    "duration": 17,
    "start_time": "2021-08-22T11:27:03.287Z"
   },
   {
    "duration": 9,
    "start_time": "2021-08-22T11:27:03.308Z"
   },
   {
    "duration": 42,
    "start_time": "2021-08-22T11:27:03.320Z"
   },
   {
    "duration": 13,
    "start_time": "2021-08-22T11:27:03.365Z"
   },
   {
    "duration": 24,
    "start_time": "2021-08-22T11:27:03.381Z"
   },
   {
    "duration": 396,
    "start_time": "2021-08-22T11:27:03.408Z"
   },
   {
    "duration": 1577,
    "start_time": "2021-08-22T11:27:02.230Z"
   },
   {
    "duration": 1572,
    "start_time": "2021-08-22T11:27:02.236Z"
   },
   {
    "duration": 1571,
    "start_time": "2021-08-22T11:27:02.239Z"
   },
   {
    "duration": 1569,
    "start_time": "2021-08-22T11:27:02.242Z"
   },
   {
    "duration": 1568,
    "start_time": "2021-08-22T11:27:02.245Z"
   },
   {
    "duration": 1567,
    "start_time": "2021-08-22T11:27:02.247Z"
   },
   {
    "duration": 1562,
    "start_time": "2021-08-22T11:27:02.254Z"
   },
   {
    "duration": 1560,
    "start_time": "2021-08-22T11:27:02.257Z"
   },
   {
    "duration": 1558,
    "start_time": "2021-08-22T11:27:02.260Z"
   },
   {
    "duration": 1532,
    "start_time": "2021-08-22T11:27:19.635Z"
   },
   {
    "duration": 223,
    "start_time": "2021-08-22T11:27:21.171Z"
   },
   {
    "duration": 31,
    "start_time": "2021-08-22T11:27:21.398Z"
   },
   {
    "duration": 8,
    "start_time": "2021-08-22T11:27:21.432Z"
   },
   {
    "duration": 33,
    "start_time": "2021-08-22T11:27:21.443Z"
   },
   {
    "duration": 23,
    "start_time": "2021-08-22T11:27:21.479Z"
   },
   {
    "duration": 10,
    "start_time": "2021-08-22T11:27:21.505Z"
   },
   {
    "duration": 53,
    "start_time": "2021-08-22T11:27:21.521Z"
   },
   {
    "duration": 17,
    "start_time": "2021-08-22T11:27:21.577Z"
   },
   {
    "duration": 9,
    "start_time": "2021-08-22T11:27:21.596Z"
   },
   {
    "duration": 8,
    "start_time": "2021-08-22T11:27:21.607Z"
   },
   {
    "duration": 8,
    "start_time": "2021-08-22T11:27:21.617Z"
   },
   {
    "duration": 55,
    "start_time": "2021-08-22T11:27:21.627Z"
   },
   {
    "duration": 611,
    "start_time": "2021-08-22T11:27:21.684Z"
   },
   {
    "duration": 1564,
    "start_time": "2021-08-22T11:27:20.734Z"
   },
   {
    "duration": 1563,
    "start_time": "2021-08-22T11:27:20.737Z"
   },
   {
    "duration": 1555,
    "start_time": "2021-08-22T11:27:20.747Z"
   },
   {
    "duration": 1554,
    "start_time": "2021-08-22T11:27:20.749Z"
   },
   {
    "duration": 1553,
    "start_time": "2021-08-22T11:27:20.751Z"
   },
   {
    "duration": 1553,
    "start_time": "2021-08-22T11:27:20.753Z"
   },
   {
    "duration": 1552,
    "start_time": "2021-08-22T11:27:20.755Z"
   },
   {
    "duration": 1551,
    "start_time": "2021-08-22T11:27:20.758Z"
   },
   {
    "duration": 1545,
    "start_time": "2021-08-22T11:27:20.765Z"
   },
   {
    "duration": 23,
    "start_time": "2021-08-22T11:27:29.718Z"
   },
   {
    "duration": 28,
    "start_time": "2021-08-22T11:27:32.143Z"
   },
   {
    "duration": 4,
    "start_time": "2021-08-22T11:29:55.939Z"
   },
   {
    "duration": 22,
    "start_time": "2021-08-22T11:30:20.935Z"
   },
   {
    "duration": 1731,
    "start_time": "2021-08-22T11:30:33.436Z"
   },
   {
    "duration": 374,
    "start_time": "2021-08-22T11:30:35.170Z"
   },
   {
    "duration": 21,
    "start_time": "2021-08-22T11:30:35.547Z"
   },
   {
    "duration": 11,
    "start_time": "2021-08-22T11:30:35.571Z"
   },
   {
    "duration": 28,
    "start_time": "2021-08-22T11:30:35.585Z"
   },
   {
    "duration": 21,
    "start_time": "2021-08-22T11:30:35.616Z"
   },
   {
    "duration": 24,
    "start_time": "2021-08-22T11:30:35.641Z"
   },
   {
    "duration": 22,
    "start_time": "2021-08-22T11:30:35.668Z"
   },
   {
    "duration": 17,
    "start_time": "2021-08-22T11:30:35.696Z"
   },
   {
    "duration": 21,
    "start_time": "2021-08-22T11:30:35.716Z"
   },
   {
    "duration": 26,
    "start_time": "2021-08-22T11:30:35.761Z"
   },
   {
    "duration": 9,
    "start_time": "2021-08-22T11:30:35.790Z"
   },
   {
    "duration": 30,
    "start_time": "2021-08-22T11:30:35.802Z"
   },
   {
    "duration": 751,
    "start_time": "2021-08-22T11:30:35.836Z"
   },
   {
    "duration": 1568,
    "start_time": "2021-08-22T11:30:35.021Z"
   },
   {
    "duration": 1568,
    "start_time": "2021-08-22T11:30:35.023Z"
   },
   {
    "duration": 1566,
    "start_time": "2021-08-22T11:30:35.026Z"
   },
   {
    "duration": 1562,
    "start_time": "2021-08-22T11:30:35.032Z"
   },
   {
    "duration": 1560,
    "start_time": "2021-08-22T11:30:35.035Z"
   },
   {
    "duration": 1559,
    "start_time": "2021-08-22T11:30:35.037Z"
   },
   {
    "duration": 1559,
    "start_time": "2021-08-22T11:30:35.039Z"
   },
   {
    "duration": 1558,
    "start_time": "2021-08-22T11:30:35.041Z"
   },
   {
    "duration": 1552,
    "start_time": "2021-08-22T11:30:35.048Z"
   },
   {
    "duration": 1593,
    "start_time": "2021-08-22T11:31:17.209Z"
   },
   {
    "duration": 226,
    "start_time": "2021-08-22T11:31:18.805Z"
   },
   {
    "duration": 25,
    "start_time": "2021-08-22T11:31:19.034Z"
   },
   {
    "duration": 22,
    "start_time": "2021-08-22T11:31:19.062Z"
   },
   {
    "duration": 52,
    "start_time": "2021-08-22T11:31:19.087Z"
   },
   {
    "duration": 67,
    "start_time": "2021-08-22T11:31:19.143Z"
   },
   {
    "duration": 51,
    "start_time": "2021-08-22T11:31:19.213Z"
   },
   {
    "duration": 58,
    "start_time": "2021-08-22T11:31:19.266Z"
   },
   {
    "duration": 61,
    "start_time": "2021-08-22T11:31:19.329Z"
   },
   {
    "duration": 40,
    "start_time": "2021-08-22T11:31:19.393Z"
   },
   {
    "duration": 39,
    "start_time": "2021-08-22T11:31:19.435Z"
   },
   {
    "duration": 26,
    "start_time": "2021-08-22T11:31:19.477Z"
   },
   {
    "duration": 32,
    "start_time": "2021-08-22T11:31:19.505Z"
   },
   {
    "duration": 534,
    "start_time": "2021-08-22T11:31:19.539Z"
   },
   {
    "duration": 1564,
    "start_time": "2021-08-22T11:31:18.512Z"
   },
   {
    "duration": 1560,
    "start_time": "2021-08-22T11:31:18.518Z"
   },
   {
    "duration": 1558,
    "start_time": "2021-08-22T11:31:18.521Z"
   },
   {
    "duration": 1558,
    "start_time": "2021-08-22T11:31:18.523Z"
   },
   {
    "duration": 1557,
    "start_time": "2021-08-22T11:31:18.525Z"
   },
   {
    "duration": 1557,
    "start_time": "2021-08-22T11:31:18.527Z"
   },
   {
    "duration": 1552,
    "start_time": "2021-08-22T11:31:18.533Z"
   },
   {
    "duration": 1552,
    "start_time": "2021-08-22T11:31:18.535Z"
   },
   {
    "duration": 1551,
    "start_time": "2021-08-22T11:31:18.537Z"
   },
   {
    "duration": 22,
    "start_time": "2021-08-22T11:33:16.417Z"
   },
   {
    "duration": 25,
    "start_time": "2021-08-22T11:33:37.072Z"
   },
   {
    "duration": 1834,
    "start_time": "2021-08-22T11:33:48.537Z"
   },
   {
    "duration": 381,
    "start_time": "2021-08-22T11:33:50.374Z"
   },
   {
    "duration": 22,
    "start_time": "2021-08-22T11:33:50.764Z"
   },
   {
    "duration": 8,
    "start_time": "2021-08-22T11:33:50.789Z"
   },
   {
    "duration": 32,
    "start_time": "2021-08-22T11:33:50.799Z"
   },
   {
    "duration": 18,
    "start_time": "2021-08-22T11:33:50.862Z"
   },
   {
    "duration": 9,
    "start_time": "2021-08-22T11:33:50.882Z"
   },
   {
    "duration": 22,
    "start_time": "2021-08-22T11:33:50.896Z"
   },
   {
    "duration": 58,
    "start_time": "2021-08-22T11:33:50.922Z"
   },
   {
    "duration": 15,
    "start_time": "2021-08-22T11:33:50.983Z"
   },
   {
    "duration": 10,
    "start_time": "2021-08-22T11:33:51.000Z"
   },
   {
    "duration": 14,
    "start_time": "2021-08-22T11:33:51.012Z"
   },
   {
    "duration": 36,
    "start_time": "2021-08-22T11:33:51.028Z"
   },
   {
    "duration": 718,
    "start_time": "2021-08-22T11:33:51.067Z"
   },
   {
    "duration": 1301,
    "start_time": "2021-08-22T11:33:50.487Z"
   },
   {
    "duration": 1300,
    "start_time": "2021-08-22T11:33:50.490Z"
   },
   {
    "duration": 1299,
    "start_time": "2021-08-22T11:33:50.492Z"
   },
   {
    "duration": 1298,
    "start_time": "2021-08-22T11:33:50.495Z"
   },
   {
    "duration": 1293,
    "start_time": "2021-08-22T11:33:50.502Z"
   },
   {
    "duration": 1291,
    "start_time": "2021-08-22T11:33:50.505Z"
   },
   {
    "duration": 1292,
    "start_time": "2021-08-22T11:33:50.506Z"
   },
   {
    "duration": 1290,
    "start_time": "2021-08-22T11:33:50.509Z"
   },
   {
    "duration": 1285,
    "start_time": "2021-08-22T11:33:50.516Z"
   },
   {
    "duration": 1555,
    "start_time": "2021-08-22T11:34:50.044Z"
   },
   {
    "duration": 225,
    "start_time": "2021-08-22T11:34:51.601Z"
   },
   {
    "duration": 22,
    "start_time": "2021-08-22T11:34:51.830Z"
   },
   {
    "duration": 7,
    "start_time": "2021-08-22T11:34:51.855Z"
   },
   {
    "duration": 24,
    "start_time": "2021-08-22T11:34:51.864Z"
   },
   {
    "duration": 17,
    "start_time": "2021-08-22T11:34:51.891Z"
   },
   {
    "duration": 7,
    "start_time": "2021-08-22T11:34:51.911Z"
   },
   {
    "duration": 52,
    "start_time": "2021-08-22T11:34:51.922Z"
   },
   {
    "duration": 19,
    "start_time": "2021-08-22T11:34:51.980Z"
   },
   {
    "duration": 10,
    "start_time": "2021-08-22T11:34:52.002Z"
   },
   {
    "duration": 10,
    "start_time": "2021-08-22T11:34:52.014Z"
   },
   {
    "duration": 7,
    "start_time": "2021-08-22T11:34:52.027Z"
   },
   {
    "duration": 20,
    "start_time": "2021-08-22T11:34:52.063Z"
   },
   {
    "duration": 4,
    "start_time": "2021-08-22T11:34:52.086Z"
   },
   {
    "duration": 16907,
    "start_time": "2021-08-22T11:34:52.092Z"
   },
   {
    "duration": 19,
    "start_time": "2021-08-22T11:35:09.002Z"
   },
   {
    "duration": 13,
    "start_time": "2021-08-22T11:35:09.024Z"
   },
   {
    "duration": 78,
    "start_time": "2021-08-22T11:35:09.063Z"
   },
   {
    "duration": 22,
    "start_time": "2021-08-22T11:35:09.163Z"
   },
   {
    "duration": 5590,
    "start_time": "2021-08-22T11:35:09.188Z"
   },
   {
    "duration": 12,
    "start_time": "2021-08-22T11:35:14.781Z"
   },
   {
    "duration": 325548,
    "start_time": "2021-08-22T11:35:14.796Z"
   },
   {
    "duration": -70,
    "start_time": "2021-08-22T12:02:15.732Z"
   },
   {
    "duration": 324430,
    "start_time": "2021-08-22T12:02:17.661Z"
   },
   {
    "duration": 6,
    "start_time": "2021-08-22T12:24:45.042Z"
   },
   {
    "duration": 6,
    "start_time": "2021-08-22T12:24:46.444Z"
   },
   {
    "duration": 11,
    "start_time": "2021-08-22T12:24:46.452Z"
   },
   {
    "duration": 20,
    "start_time": "2021-08-22T12:32:18.119Z"
   },
   {
    "duration": 3,
    "start_time": "2021-08-22T12:33:39.270Z"
   },
   {
    "duration": 78546,
    "start_time": "2021-08-22T12:33:39.446Z"
   },
   {
    "duration": 22146,
    "start_time": "2021-08-22T12:35:10.872Z"
   },
   {
    "duration": 20,
    "start_time": "2021-08-22T12:40:19.445Z"
   },
   {
    "duration": 12,
    "start_time": "2021-08-22T12:40:27.752Z"
   },
   {
    "duration": 1552,
    "start_time": "2021-08-22T12:40:41.242Z"
   },
   {
    "duration": 243,
    "start_time": "2021-08-22T12:40:42.796Z"
   },
   {
    "duration": 20,
    "start_time": "2021-08-22T12:40:43.042Z"
   },
   {
    "duration": 6,
    "start_time": "2021-08-22T12:40:43.065Z"
   },
   {
    "duration": 18,
    "start_time": "2021-08-22T12:40:43.074Z"
   },
   {
    "duration": 19,
    "start_time": "2021-08-22T12:40:43.094Z"
   },
   {
    "duration": 9,
    "start_time": "2021-08-22T12:40:43.116Z"
   },
   {
    "duration": 18,
    "start_time": "2021-08-22T12:40:43.161Z"
   },
   {
    "duration": 19,
    "start_time": "2021-08-22T12:40:43.184Z"
   },
   {
    "duration": 9,
    "start_time": "2021-08-22T12:40:43.206Z"
   },
   {
    "duration": 44,
    "start_time": "2021-08-22T12:40:43.218Z"
   },
   {
    "duration": 6,
    "start_time": "2021-08-22T12:40:43.265Z"
   },
   {
    "duration": 27,
    "start_time": "2021-08-22T12:40:43.274Z"
   },
   {
    "duration": 4,
    "start_time": "2021-08-22T12:40:43.304Z"
   },
   {
    "duration": 21433,
    "start_time": "2021-08-22T12:40:43.311Z"
   },
   {
    "duration": 28,
    "start_time": "2021-08-22T12:41:04.746Z"
   },
   {
    "duration": 10,
    "start_time": "2021-08-22T12:41:04.776Z"
   },
   {
    "duration": 568,
    "start_time": "2021-08-22T12:41:04.789Z"
   },
   {
    "duration": -1074,
    "start_time": "2021-08-22T12:41:06.434Z"
   },
   {
    "duration": -1077,
    "start_time": "2021-08-22T12:41:06.439Z"
   },
   {
    "duration": -1085,
    "start_time": "2021-08-22T12:41:06.448Z"
   },
   {
    "duration": -1088,
    "start_time": "2021-08-22T12:41:06.453Z"
   },
   {
    "duration": -1096,
    "start_time": "2021-08-22T12:41:06.462Z"
   },
   {
    "duration": 75,
    "start_time": "2021-08-22T12:43:16.707Z"
   },
   {
    "duration": 16,
    "start_time": "2021-08-22T12:45:29.079Z"
   },
   {
    "duration": 22,
    "start_time": "2021-08-22T12:48:38.811Z"
   },
   {
    "duration": 13,
    "start_time": "2021-08-22T12:48:39.269Z"
   },
   {
    "duration": 73,
    "start_time": "2021-08-22T12:48:46.348Z"
   },
   {
    "duration": 5485,
    "start_time": "2021-08-22T12:50:07.577Z"
   },
   {
    "duration": 13,
    "start_time": "2021-08-22T12:50:15.858Z"
   },
   {
    "duration": 322068,
    "start_time": "2021-08-22T12:50:16.096Z"
   },
   {
    "duration": 1522,
    "start_time": "2021-08-22T16:39:41.981Z"
   },
   {
    "duration": 259,
    "start_time": "2021-08-22T16:39:43.506Z"
   },
   {
    "duration": 22,
    "start_time": "2021-08-22T16:39:43.768Z"
   },
   {
    "duration": 15,
    "start_time": "2021-08-22T16:39:43.793Z"
   },
   {
    "duration": 28,
    "start_time": "2021-08-22T16:39:43.811Z"
   },
   {
    "duration": 41,
    "start_time": "2021-08-22T16:39:43.842Z"
   },
   {
    "duration": 25,
    "start_time": "2021-08-22T16:39:43.885Z"
   },
   {
    "duration": 33,
    "start_time": "2021-08-22T16:39:43.914Z"
   },
   {
    "duration": 33,
    "start_time": "2021-08-22T16:39:43.950Z"
   },
   {
    "duration": 16,
    "start_time": "2021-08-22T16:39:43.986Z"
   },
   {
    "duration": 20,
    "start_time": "2021-08-22T16:39:44.005Z"
   },
   {
    "duration": 30,
    "start_time": "2021-08-22T16:39:44.027Z"
   },
   {
    "duration": 39,
    "start_time": "2021-08-22T16:39:44.060Z"
   },
   {
    "duration": 21,
    "start_time": "2021-08-22T16:39:44.102Z"
   },
   {
    "duration": 29,
    "start_time": "2021-08-22T16:39:44.126Z"
   },
   {
    "duration": 79,
    "start_time": "2021-08-22T16:39:44.158Z"
   },
   {
    "duration": 15,
    "start_time": "2021-08-22T16:39:44.255Z"
   },
   {
    "duration": 62131,
    "start_time": "2021-08-22T16:39:44.273Z"
   },
   {
    "duration": 1384,
    "start_time": "2021-08-23T11:01:54.301Z"
   },
   {
    "duration": 304,
    "start_time": "2021-08-23T11:01:55.687Z"
   },
   {
    "duration": 21,
    "start_time": "2021-08-23T11:01:55.993Z"
   },
   {
    "duration": 6,
    "start_time": "2021-08-23T11:01:56.017Z"
   },
   {
    "duration": 17,
    "start_time": "2021-08-23T11:01:56.025Z"
   },
   {
    "duration": 48,
    "start_time": "2021-08-23T11:01:56.044Z"
   },
   {
    "duration": 15,
    "start_time": "2021-08-23T11:01:56.095Z"
   },
   {
    "duration": 16,
    "start_time": "2021-08-23T11:01:56.115Z"
   },
   {
    "duration": 17,
    "start_time": "2021-08-23T11:01:56.135Z"
   },
   {
    "duration": 6,
    "start_time": "2021-08-23T11:01:56.182Z"
   },
   {
    "duration": 9,
    "start_time": "2021-08-23T11:01:56.191Z"
   },
   {
    "duration": 6,
    "start_time": "2021-08-23T11:01:56.202Z"
   },
   {
    "duration": 21,
    "start_time": "2021-08-23T11:01:56.210Z"
   },
   {
    "duration": 54,
    "start_time": "2021-08-23T11:01:56.233Z"
   },
   {
    "duration": 10,
    "start_time": "2021-08-23T11:01:56.290Z"
   },
   {
    "duration": 86,
    "start_time": "2021-08-23T11:01:56.302Z"
   },
   {
    "duration": 14,
    "start_time": "2021-08-23T11:01:56.390Z"
   },
   {
    "duration": 60202,
    "start_time": "2021-08-23T11:01:56.407Z"
   },
   {
    "duration": 4,
    "start_time": "2021-08-23T11:08:20.696Z"
   },
   {
    "duration": 7,
    "start_time": "2021-08-23T11:08:21.500Z"
   },
   {
    "duration": 429,
    "start_time": "2021-08-23T11:08:23.168Z"
   },
   {
    "duration": 6,
    "start_time": "2021-08-23T11:08:48.351Z"
   },
   {
    "duration": 5,
    "start_time": "2021-08-23T11:09:00.022Z"
   },
   {
    "duration": 7,
    "start_time": "2021-08-23T11:09:01.038Z"
   },
   {
    "duration": 4,
    "start_time": "2021-08-23T11:09:04.582Z"
   },
   {
    "duration": 6,
    "start_time": "2021-08-23T11:09:04.762Z"
   },
   {
    "duration": 5,
    "start_time": "2021-08-23T11:09:04.934Z"
   },
   {
    "duration": 6,
    "start_time": "2021-08-23T11:09:05.118Z"
   },
   {
    "duration": 5,
    "start_time": "2021-08-23T11:09:20.110Z"
   },
   {
    "duration": 7,
    "start_time": "2021-08-23T11:09:20.290Z"
   },
   {
    "duration": 4,
    "start_time": "2021-08-23T11:09:44.733Z"
   },
   {
    "duration": 5,
    "start_time": "2021-08-23T11:09:44.902Z"
   },
   {
    "duration": 5,
    "start_time": "2021-08-23T11:09:45.061Z"
   },
   {
    "duration": 3,
    "start_time": "2021-08-23T11:29:58.802Z"
   },
   {
    "duration": 3,
    "start_time": "2021-08-23T11:29:58.969Z"
   },
   {
    "duration": 4,
    "start_time": "2021-08-23T11:29:59.160Z"
   },
   {
    "duration": 12,
    "start_time": "2021-08-23T11:30:01.184Z"
   },
   {
    "duration": 77,
    "start_time": "2021-08-23T11:31:03.168Z"
   },
   {
    "duration": 6,
    "start_time": "2021-08-23T11:31:50.782Z"
   },
   {
    "duration": 9,
    "start_time": "2021-08-23T11:31:58.951Z"
   },
   {
    "duration": 5,
    "start_time": "2021-08-23T11:32:07.185Z"
   },
   {
    "duration": 79,
    "start_time": "2021-08-23T11:32:22.142Z"
   },
   {
    "duration": 367,
    "start_time": "2021-08-23T11:32:35.469Z"
   },
   {
    "duration": 7,
    "start_time": "2021-08-23T11:32:47.245Z"
   },
   {
    "duration": 8,
    "start_time": "2021-08-23T11:34:16.114Z"
   },
   {
    "duration": 1478,
    "start_time": "2021-08-23T11:35:03.446Z"
   },
   {
    "duration": 235,
    "start_time": "2021-08-23T11:35:04.927Z"
   },
   {
    "duration": 23,
    "start_time": "2021-08-23T11:35:05.165Z"
   },
   {
    "duration": 6,
    "start_time": "2021-08-23T11:35:05.192Z"
   },
   {
    "duration": 23,
    "start_time": "2021-08-23T11:35:05.202Z"
   },
   {
    "duration": 18,
    "start_time": "2021-08-23T11:35:05.227Z"
   },
   {
    "duration": 40,
    "start_time": "2021-08-23T11:35:05.247Z"
   },
   {
    "duration": 18,
    "start_time": "2021-08-23T11:35:05.292Z"
   },
   {
    "duration": 16,
    "start_time": "2021-08-23T11:35:05.313Z"
   },
   {
    "duration": 8,
    "start_time": "2021-08-23T11:35:05.332Z"
   },
   {
    "duration": 7,
    "start_time": "2021-08-23T11:35:05.382Z"
   },
   {
    "duration": 9,
    "start_time": "2021-08-23T11:35:05.391Z"
   },
   {
    "duration": 32,
    "start_time": "2021-08-23T11:35:05.402Z"
   },
   {
    "duration": 17,
    "start_time": "2021-08-23T11:35:05.437Z"
   },
   {
    "duration": 33,
    "start_time": "2021-08-23T11:35:05.457Z"
   },
   {
    "duration": 93,
    "start_time": "2021-08-23T11:35:05.492Z"
   },
   {
    "duration": 15,
    "start_time": "2021-08-23T11:35:05.588Z"
   },
   {
    "duration": 59779,
    "start_time": "2021-08-23T11:35:05.606Z"
   },
   {
    "duration": 3,
    "start_time": "2021-08-23T11:36:05.388Z"
   },
   {
    "duration": 25,
    "start_time": "2021-08-23T11:36:05.394Z"
   },
   {
    "duration": 6,
    "start_time": "2021-08-23T11:36:31.303Z"
   },
   {
    "duration": 1458,
    "start_time": "2021-08-23T11:36:44.931Z"
   },
   {
    "duration": 235,
    "start_time": "2021-08-23T11:36:46.392Z"
   },
   {
    "duration": 27,
    "start_time": "2021-08-23T11:36:46.630Z"
   },
   {
    "duration": 8,
    "start_time": "2021-08-23T11:36:46.660Z"
   },
   {
    "duration": 23,
    "start_time": "2021-08-23T11:36:46.671Z"
   },
   {
    "duration": 24,
    "start_time": "2021-08-23T11:36:46.697Z"
   },
   {
    "duration": 8,
    "start_time": "2021-08-23T11:36:46.723Z"
   },
   {
    "duration": 48,
    "start_time": "2021-08-23T11:36:46.736Z"
   },
   {
    "duration": 18,
    "start_time": "2021-08-23T11:36:46.788Z"
   },
   {
    "duration": 5,
    "start_time": "2021-08-23T11:36:46.808Z"
   },
   {
    "duration": 8,
    "start_time": "2021-08-23T11:36:46.815Z"
   },
   {
    "duration": 9,
    "start_time": "2021-08-23T11:36:46.825Z"
   },
   {
    "duration": 49,
    "start_time": "2021-08-23T11:36:46.836Z"
   },
   {
    "duration": 17,
    "start_time": "2021-08-23T11:36:46.888Z"
   },
   {
    "duration": 10,
    "start_time": "2021-08-23T11:36:46.907Z"
   },
   {
    "duration": 105,
    "start_time": "2021-08-23T11:36:46.919Z"
   },
   {
    "duration": 15,
    "start_time": "2021-08-23T11:36:47.026Z"
   },
   {
    "duration": 59427,
    "start_time": "2021-08-23T11:36:47.043Z"
   },
   {
    "duration": 13,
    "start_time": "2021-08-23T11:37:46.473Z"
   },
   {
    "duration": 16289,
    "start_time": "2021-08-23T11:38:08.719Z"
   },
   {
    "duration": 10,
    "start_time": "2021-08-23T11:38:39.891Z"
   },
   {
    "duration": 1359,
    "start_time": "2021-08-23T11:46:01.148Z"
   },
   {
    "duration": 244,
    "start_time": "2021-08-23T11:46:02.509Z"
   },
   {
    "duration": 27,
    "start_time": "2021-08-23T11:46:02.756Z"
   },
   {
    "duration": 6,
    "start_time": "2021-08-23T11:46:02.786Z"
   },
   {
    "duration": 29,
    "start_time": "2021-08-23T11:46:02.795Z"
   },
   {
    "duration": 20,
    "start_time": "2021-08-23T11:46:02.826Z"
   },
   {
    "duration": 6,
    "start_time": "2021-08-23T11:46:02.848Z"
   },
   {
    "duration": 17,
    "start_time": "2021-08-23T11:46:02.883Z"
   },
   {
    "duration": 19,
    "start_time": "2021-08-23T11:46:02.904Z"
   },
   {
    "duration": 10,
    "start_time": "2021-08-23T11:46:02.926Z"
   },
   {
    "duration": 8,
    "start_time": "2021-08-23T11:46:02.939Z"
   },
   {
    "duration": 34,
    "start_time": "2021-08-23T11:46:02.949Z"
   },
   {
    "duration": 27,
    "start_time": "2021-08-23T11:46:02.986Z"
   },
   {
    "duration": 20,
    "start_time": "2021-08-23T11:46:03.015Z"
   },
   {
    "duration": 12,
    "start_time": "2021-08-23T11:46:03.038Z"
   },
   {
    "duration": 72,
    "start_time": "2021-08-23T11:46:03.083Z"
   },
   {
    "duration": 37,
    "start_time": "2021-08-23T11:46:03.157Z"
   },
   {
    "duration": 17364,
    "start_time": "2021-08-23T11:46:03.196Z"
   },
   {
    "duration": 20,
    "start_time": "2021-08-23T11:46:20.563Z"
   }
  ],
  "kernelspec": {
   "display_name": "Python 3",
   "language": "python",
   "name": "python3"
  },
  "language_info": {
   "codemirror_mode": {
    "name": "ipython",
    "version": 3
   },
   "file_extension": ".py",
   "mimetype": "text/x-python",
   "name": "python",
   "nbconvert_exporter": "python",
   "pygments_lexer": "ipython3",
   "version": "3.8.5"
  },
  "toc": {
   "base_numbering": 1,
   "nav_menu": {},
   "number_sections": true,
   "sideBar": true,
   "skip_h1_title": true,
   "title_cell": "Table of Contents",
   "title_sidebar": "Contents",
   "toc_cell": false,
   "toc_position": {},
   "toc_section_display": true,
   "toc_window_display": true
  }
 },
 "nbformat": 4,
 "nbformat_minor": 2
}
