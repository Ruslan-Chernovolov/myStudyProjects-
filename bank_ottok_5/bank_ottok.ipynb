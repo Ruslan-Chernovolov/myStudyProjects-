{
 "cells": [
  {
   "cell_type": "markdown",
   "metadata": {},
   "source": [
    "# Исследование оттока клиентов банка "
   ]
  },
  {
   "cell_type": "markdown",
   "metadata": {},
   "source": [
    "### Краткий анализ данных"
   ]
  },
  {
   "cell_type": "code",
   "execution_count": 1,
   "metadata": {},
   "outputs": [],
   "source": [
    "import pandas as pd\n",
    "import numpy as np\n",
    "import matplotlib.pyplot as plt\n",
    "import seaborn as sns\n",
    "\n",
    "from sklearn.linear_model import LogisticRegression\n",
    "from sklearn.linear_model import LinearRegression\n",
    "from sklearn.model_selection import train_test_split\n",
    "from sklearn.ensemble import RandomForestClassifier\n",
    "from sklearn.tree import DecisionTreeClassifier\n",
    "from sklearn.metrics import accuracy_score \n",
    "from sklearn.dummy import DummyClassifier\n",
    "from sklearn.metrics import f1_score \n",
    "from sklearn.preprocessing import StandardScaler \n",
    "pd.options.mode.chained_assignment = None\n",
    "from sklearn.model_selection import GridSearchCV\n",
    "from sklearn.utils import shuffle\n",
    "from sklearn.metrics import confusion_matrix\n",
    "from sklearn.metrics import recall_score\n",
    "from sklearn.metrics import precision_score\n",
    "from sklearn.metrics import precision_recall_curve\n",
    "from sklearn.metrics import roc_auc_score \n",
    "from sklearn.metrics import roc_curve \n",
    "\n",
    "import warnings\n",
    "warnings.filterwarnings(\"ignore\")"
   ]
  },
  {
   "cell_type": "code",
   "execution_count": 2,
   "metadata": {},
   "outputs": [],
   "source": [
    "# считываем датафрейм\n",
    "try:\n",
    "    df=pd.read_csv('C:\\\\Python\\\\ЯП\\\\проект_5\\\\Churn.csv', sep=',')\n",
    "\n",
    "except:\n",
    "    df=pd.read_csv('https://code.s3.yandex.net/datasets/Churn.csv', sep=',')"
   ]
  },
  {
   "cell_type": "markdown",
   "metadata": {},
   "source": [
    "  "
   ]
  },
  {
   "cell_type": "code",
   "execution_count": 3,
   "metadata": {},
   "outputs": [
    {
     "data": {
      "text/html": [
       "<div>\n",
       "<style scoped>\n",
       "    .dataframe tbody tr th:only-of-type {\n",
       "        vertical-align: middle;\n",
       "    }\n",
       "\n",
       "    .dataframe tbody tr th {\n",
       "        vertical-align: top;\n",
       "    }\n",
       "\n",
       "    .dataframe thead th {\n",
       "        text-align: right;\n",
       "    }\n",
       "</style>\n",
       "<table border=\"1\" class=\"dataframe\">\n",
       "  <thead>\n",
       "    <tr style=\"text-align: right;\">\n",
       "      <th></th>\n",
       "      <th>RowNumber</th>\n",
       "      <th>CustomerId</th>\n",
       "      <th>Surname</th>\n",
       "      <th>CreditScore</th>\n",
       "      <th>Geography</th>\n",
       "      <th>Gender</th>\n",
       "      <th>Age</th>\n",
       "      <th>Tenure</th>\n",
       "      <th>Balance</th>\n",
       "      <th>NumOfProducts</th>\n",
       "      <th>HasCrCard</th>\n",
       "      <th>IsActiveMember</th>\n",
       "      <th>EstimatedSalary</th>\n",
       "      <th>Exited</th>\n",
       "    </tr>\n",
       "  </thead>\n",
       "  <tbody>\n",
       "    <tr>\n",
       "      <th>0</th>\n",
       "      <td>1</td>\n",
       "      <td>15634602</td>\n",
       "      <td>Hargrave</td>\n",
       "      <td>619</td>\n",
       "      <td>France</td>\n",
       "      <td>Female</td>\n",
       "      <td>42</td>\n",
       "      <td>2.0</td>\n",
       "      <td>0.00</td>\n",
       "      <td>1</td>\n",
       "      <td>1</td>\n",
       "      <td>1</td>\n",
       "      <td>101348.88</td>\n",
       "      <td>1</td>\n",
       "    </tr>\n",
       "    <tr>\n",
       "      <th>1</th>\n",
       "      <td>2</td>\n",
       "      <td>15647311</td>\n",
       "      <td>Hill</td>\n",
       "      <td>608</td>\n",
       "      <td>Spain</td>\n",
       "      <td>Female</td>\n",
       "      <td>41</td>\n",
       "      <td>1.0</td>\n",
       "      <td>83807.86</td>\n",
       "      <td>1</td>\n",
       "      <td>0</td>\n",
       "      <td>1</td>\n",
       "      <td>112542.58</td>\n",
       "      <td>0</td>\n",
       "    </tr>\n",
       "    <tr>\n",
       "      <th>2</th>\n",
       "      <td>3</td>\n",
       "      <td>15619304</td>\n",
       "      <td>Onio</td>\n",
       "      <td>502</td>\n",
       "      <td>France</td>\n",
       "      <td>Female</td>\n",
       "      <td>42</td>\n",
       "      <td>8.0</td>\n",
       "      <td>159660.80</td>\n",
       "      <td>3</td>\n",
       "      <td>1</td>\n",
       "      <td>0</td>\n",
       "      <td>113931.57</td>\n",
       "      <td>1</td>\n",
       "    </tr>\n",
       "    <tr>\n",
       "      <th>3</th>\n",
       "      <td>4</td>\n",
       "      <td>15701354</td>\n",
       "      <td>Boni</td>\n",
       "      <td>699</td>\n",
       "      <td>France</td>\n",
       "      <td>Female</td>\n",
       "      <td>39</td>\n",
       "      <td>1.0</td>\n",
       "      <td>0.00</td>\n",
       "      <td>2</td>\n",
       "      <td>0</td>\n",
       "      <td>0</td>\n",
       "      <td>93826.63</td>\n",
       "      <td>0</td>\n",
       "    </tr>\n",
       "    <tr>\n",
       "      <th>4</th>\n",
       "      <td>5</td>\n",
       "      <td>15737888</td>\n",
       "      <td>Mitchell</td>\n",
       "      <td>850</td>\n",
       "      <td>Spain</td>\n",
       "      <td>Female</td>\n",
       "      <td>43</td>\n",
       "      <td>2.0</td>\n",
       "      <td>125510.82</td>\n",
       "      <td>1</td>\n",
       "      <td>1</td>\n",
       "      <td>1</td>\n",
       "      <td>79084.10</td>\n",
       "      <td>0</td>\n",
       "    </tr>\n",
       "    <tr>\n",
       "      <th>...</th>\n",
       "      <td>...</td>\n",
       "      <td>...</td>\n",
       "      <td>...</td>\n",
       "      <td>...</td>\n",
       "      <td>...</td>\n",
       "      <td>...</td>\n",
       "      <td>...</td>\n",
       "      <td>...</td>\n",
       "      <td>...</td>\n",
       "      <td>...</td>\n",
       "      <td>...</td>\n",
       "      <td>...</td>\n",
       "      <td>...</td>\n",
       "      <td>...</td>\n",
       "    </tr>\n",
       "    <tr>\n",
       "      <th>9995</th>\n",
       "      <td>9996</td>\n",
       "      <td>15606229</td>\n",
       "      <td>Obijiaku</td>\n",
       "      <td>771</td>\n",
       "      <td>France</td>\n",
       "      <td>Male</td>\n",
       "      <td>39</td>\n",
       "      <td>5.0</td>\n",
       "      <td>0.00</td>\n",
       "      <td>2</td>\n",
       "      <td>1</td>\n",
       "      <td>0</td>\n",
       "      <td>96270.64</td>\n",
       "      <td>0</td>\n",
       "    </tr>\n",
       "    <tr>\n",
       "      <th>9996</th>\n",
       "      <td>9997</td>\n",
       "      <td>15569892</td>\n",
       "      <td>Johnstone</td>\n",
       "      <td>516</td>\n",
       "      <td>France</td>\n",
       "      <td>Male</td>\n",
       "      <td>35</td>\n",
       "      <td>10.0</td>\n",
       "      <td>57369.61</td>\n",
       "      <td>1</td>\n",
       "      <td>1</td>\n",
       "      <td>1</td>\n",
       "      <td>101699.77</td>\n",
       "      <td>0</td>\n",
       "    </tr>\n",
       "    <tr>\n",
       "      <th>9997</th>\n",
       "      <td>9998</td>\n",
       "      <td>15584532</td>\n",
       "      <td>Liu</td>\n",
       "      <td>709</td>\n",
       "      <td>France</td>\n",
       "      <td>Female</td>\n",
       "      <td>36</td>\n",
       "      <td>7.0</td>\n",
       "      <td>0.00</td>\n",
       "      <td>1</td>\n",
       "      <td>0</td>\n",
       "      <td>1</td>\n",
       "      <td>42085.58</td>\n",
       "      <td>1</td>\n",
       "    </tr>\n",
       "    <tr>\n",
       "      <th>9998</th>\n",
       "      <td>9999</td>\n",
       "      <td>15682355</td>\n",
       "      <td>Sabbatini</td>\n",
       "      <td>772</td>\n",
       "      <td>Germany</td>\n",
       "      <td>Male</td>\n",
       "      <td>42</td>\n",
       "      <td>3.0</td>\n",
       "      <td>75075.31</td>\n",
       "      <td>2</td>\n",
       "      <td>1</td>\n",
       "      <td>0</td>\n",
       "      <td>92888.52</td>\n",
       "      <td>1</td>\n",
       "    </tr>\n",
       "    <tr>\n",
       "      <th>9999</th>\n",
       "      <td>10000</td>\n",
       "      <td>15628319</td>\n",
       "      <td>Walker</td>\n",
       "      <td>792</td>\n",
       "      <td>France</td>\n",
       "      <td>Female</td>\n",
       "      <td>28</td>\n",
       "      <td>NaN</td>\n",
       "      <td>130142.79</td>\n",
       "      <td>1</td>\n",
       "      <td>1</td>\n",
       "      <td>0</td>\n",
       "      <td>38190.78</td>\n",
       "      <td>0</td>\n",
       "    </tr>\n",
       "  </tbody>\n",
       "</table>\n",
       "<p>10000 rows × 14 columns</p>\n",
       "</div>"
      ],
      "text/plain": [
       "      RowNumber  CustomerId    Surname  CreditScore Geography  Gender  Age  \\\n",
       "0             1    15634602   Hargrave          619    France  Female   42   \n",
       "1             2    15647311       Hill          608     Spain  Female   41   \n",
       "2             3    15619304       Onio          502    France  Female   42   \n",
       "3             4    15701354       Boni          699    France  Female   39   \n",
       "4             5    15737888   Mitchell          850     Spain  Female   43   \n",
       "...         ...         ...        ...          ...       ...     ...  ...   \n",
       "9995       9996    15606229   Obijiaku          771    France    Male   39   \n",
       "9996       9997    15569892  Johnstone          516    France    Male   35   \n",
       "9997       9998    15584532        Liu          709    France  Female   36   \n",
       "9998       9999    15682355  Sabbatini          772   Germany    Male   42   \n",
       "9999      10000    15628319     Walker          792    France  Female   28   \n",
       "\n",
       "      Tenure    Balance  NumOfProducts  HasCrCard  IsActiveMember  \\\n",
       "0        2.0       0.00              1          1               1   \n",
       "1        1.0   83807.86              1          0               1   \n",
       "2        8.0  159660.80              3          1               0   \n",
       "3        1.0       0.00              2          0               0   \n",
       "4        2.0  125510.82              1          1               1   \n",
       "...      ...        ...            ...        ...             ...   \n",
       "9995     5.0       0.00              2          1               0   \n",
       "9996    10.0   57369.61              1          1               1   \n",
       "9997     7.0       0.00              1          0               1   \n",
       "9998     3.0   75075.31              2          1               0   \n",
       "9999     NaN  130142.79              1          1               0   \n",
       "\n",
       "      EstimatedSalary  Exited  \n",
       "0           101348.88       1  \n",
       "1           112542.58       0  \n",
       "2           113931.57       1  \n",
       "3            93826.63       0  \n",
       "4            79084.10       0  \n",
       "...               ...     ...  \n",
       "9995         96270.64       0  \n",
       "9996        101699.77       0  \n",
       "9997         42085.58       1  \n",
       "9998         92888.52       1  \n",
       "9999         38190.78       0  \n",
       "\n",
       "[10000 rows x 14 columns]"
      ]
     },
     "execution_count": 3,
     "metadata": {},
     "output_type": "execute_result"
    }
   ],
   "source": [
    "df"
   ]
  },
  {
   "cell_type": "markdown",
   "metadata": {},
   "source": [
    " "
   ]
  },
  {
   "cell_type": "markdown",
   "metadata": {},
   "source": [
    " "
   ]
  },
  {
   "cell_type": "markdown",
   "metadata": {},
   "source": [
    "#### Почистим выбросы"
   ]
  },
  {
   "cell_type": "code",
   "execution_count": 4,
   "metadata": {},
   "outputs": [
    {
     "data": {
      "image/png": "[encoded data removed]",
      "text/plain": [
       "<Figure size 504x504 with 1 Axes>"
      ]
     },
     "metadata": {
      "needs_background": "light"
     },
     "output_type": "display_data"
    }
   ],
   "source": [
    "df[['CreditScore']].boxplot(figsize=(7,7));"
   ]
  },
  {
   "cell_type": "code",
   "execution_count": 5,
   "metadata": {},
   "outputs": [
    {
     "data": {
      "text/plain": [
       "count    10000.000000\n",
       "mean       650.528800\n",
       "std         96.653299\n",
       "min        350.000000\n",
       "25%        584.000000\n",
       "50%        652.000000\n",
       "75%        718.000000\n",
       "max        850.000000\n",
       "Name: CreditScore, dtype: float64"
      ]
     },
     "execution_count": 5,
     "metadata": {},
     "output_type": "execute_result"
    }
   ],
   "source": [
    "df['CreditScore'].describe()"
   ]
  },
  {
   "cell_type": "code",
   "execution_count": 6,
   "metadata": {},
   "outputs": [
    {
     "data": {
      "text/html": [
       "<div>\n",
       "<style scoped>\n",
       "    .dataframe tbody tr th:only-of-type {\n",
       "        vertical-align: middle;\n",
       "    }\n",
       "\n",
       "    .dataframe tbody tr th {\n",
       "        vertical-align: top;\n",
       "    }\n",
       "\n",
       "    .dataframe thead th {\n",
       "        text-align: right;\n",
       "    }\n",
       "</style>\n",
       "<table border=\"1\" class=\"dataframe\">\n",
       "  <thead>\n",
       "    <tr style=\"text-align: right;\">\n",
       "      <th></th>\n",
       "      <th>RowNumber</th>\n",
       "      <th>CustomerId</th>\n",
       "      <th>Surname</th>\n",
       "      <th>CreditScore</th>\n",
       "      <th>Geography</th>\n",
       "      <th>Gender</th>\n",
       "      <th>Age</th>\n",
       "      <th>Tenure</th>\n",
       "      <th>Balance</th>\n",
       "      <th>NumOfProducts</th>\n",
       "      <th>HasCrCard</th>\n",
       "      <th>IsActiveMember</th>\n",
       "      <th>EstimatedSalary</th>\n",
       "      <th>Exited</th>\n",
       "    </tr>\n",
       "  </thead>\n",
       "  <tbody>\n",
       "    <tr>\n",
       "      <th>1405</th>\n",
       "      <td>1406</td>\n",
       "      <td>15612494</td>\n",
       "      <td>Panicucci</td>\n",
       "      <td>359</td>\n",
       "      <td>France</td>\n",
       "      <td>Female</td>\n",
       "      <td>44</td>\n",
       "      <td>NaN</td>\n",
       "      <td>128747.69</td>\n",
       "      <td>1</td>\n",
       "      <td>1</td>\n",
       "      <td>0</td>\n",
       "      <td>146955.71</td>\n",
       "      <td>1</td>\n",
       "    </tr>\n",
       "    <tr>\n",
       "      <th>1631</th>\n",
       "      <td>1632</td>\n",
       "      <td>15685372</td>\n",
       "      <td>Azubuike</td>\n",
       "      <td>350</td>\n",
       "      <td>Spain</td>\n",
       "      <td>Male</td>\n",
       "      <td>54</td>\n",
       "      <td>1.0</td>\n",
       "      <td>152677.48</td>\n",
       "      <td>1</td>\n",
       "      <td>1</td>\n",
       "      <td>1</td>\n",
       "      <td>191973.49</td>\n",
       "      <td>1</td>\n",
       "    </tr>\n",
       "    <tr>\n",
       "      <th>1838</th>\n",
       "      <td>1839</td>\n",
       "      <td>15758813</td>\n",
       "      <td>Campbell</td>\n",
       "      <td>350</td>\n",
       "      <td>Germany</td>\n",
       "      <td>Male</td>\n",
       "      <td>39</td>\n",
       "      <td>0.0</td>\n",
       "      <td>109733.20</td>\n",
       "      <td>2</td>\n",
       "      <td>0</td>\n",
       "      <td>0</td>\n",
       "      <td>123602.11</td>\n",
       "      <td>1</td>\n",
       "    </tr>\n",
       "    <tr>\n",
       "      <th>1962</th>\n",
       "      <td>1963</td>\n",
       "      <td>15692416</td>\n",
       "      <td>Aikenhead</td>\n",
       "      <td>358</td>\n",
       "      <td>Spain</td>\n",
       "      <td>Female</td>\n",
       "      <td>52</td>\n",
       "      <td>8.0</td>\n",
       "      <td>143542.36</td>\n",
       "      <td>3</td>\n",
       "      <td>1</td>\n",
       "      <td>0</td>\n",
       "      <td>141959.11</td>\n",
       "      <td>1</td>\n",
       "    </tr>\n",
       "    <tr>\n",
       "      <th>2473</th>\n",
       "      <td>2474</td>\n",
       "      <td>15679249</td>\n",
       "      <td>Chou</td>\n",
       "      <td>351</td>\n",
       "      <td>Germany</td>\n",
       "      <td>Female</td>\n",
       "      <td>57</td>\n",
       "      <td>4.0</td>\n",
       "      <td>163146.46</td>\n",
       "      <td>1</td>\n",
       "      <td>1</td>\n",
       "      <td>0</td>\n",
       "      <td>169621.69</td>\n",
       "      <td>1</td>\n",
       "    </tr>\n",
       "    <tr>\n",
       "      <th>8723</th>\n",
       "      <td>8724</td>\n",
       "      <td>15803202</td>\n",
       "      <td>Onyekachi</td>\n",
       "      <td>350</td>\n",
       "      <td>France</td>\n",
       "      <td>Male</td>\n",
       "      <td>51</td>\n",
       "      <td>10.0</td>\n",
       "      <td>0.00</td>\n",
       "      <td>1</td>\n",
       "      <td>1</td>\n",
       "      <td>1</td>\n",
       "      <td>125823.79</td>\n",
       "      <td>1</td>\n",
       "    </tr>\n",
       "    <tr>\n",
       "      <th>8762</th>\n",
       "      <td>8763</td>\n",
       "      <td>15765173</td>\n",
       "      <td>Lin</td>\n",
       "      <td>350</td>\n",
       "      <td>France</td>\n",
       "      <td>Female</td>\n",
       "      <td>60</td>\n",
       "      <td>3.0</td>\n",
       "      <td>0.00</td>\n",
       "      <td>1</td>\n",
       "      <td>0</td>\n",
       "      <td>0</td>\n",
       "      <td>113796.15</td>\n",
       "      <td>1</td>\n",
       "    </tr>\n",
       "    <tr>\n",
       "      <th>9624</th>\n",
       "      <td>9625</td>\n",
       "      <td>15668309</td>\n",
       "      <td>Maslow</td>\n",
       "      <td>350</td>\n",
       "      <td>France</td>\n",
       "      <td>Female</td>\n",
       "      <td>40</td>\n",
       "      <td>0.0</td>\n",
       "      <td>111098.85</td>\n",
       "      <td>1</td>\n",
       "      <td>1</td>\n",
       "      <td>1</td>\n",
       "      <td>172321.21</td>\n",
       "      <td>1</td>\n",
       "    </tr>\n",
       "  </tbody>\n",
       "</table>\n",
       "</div>"
      ],
      "text/plain": [
       "      RowNumber  CustomerId    Surname  CreditScore Geography  Gender  Age  \\\n",
       "1405       1406    15612494  Panicucci          359    France  Female   44   \n",
       "1631       1632    15685372   Azubuike          350     Spain    Male   54   \n",
       "1838       1839    15758813   Campbell          350   Germany    Male   39   \n",
       "1962       1963    15692416  Aikenhead          358     Spain  Female   52   \n",
       "2473       2474    15679249       Chou          351   Germany  Female   57   \n",
       "8723       8724    15803202  Onyekachi          350    France    Male   51   \n",
       "8762       8763    15765173        Lin          350    France  Female   60   \n",
       "9624       9625    15668309     Maslow          350    France  Female   40   \n",
       "\n",
       "      Tenure    Balance  NumOfProducts  HasCrCard  IsActiveMember  \\\n",
       "1405     NaN  128747.69              1          1               0   \n",
       "1631     1.0  152677.48              1          1               1   \n",
       "1838     0.0  109733.20              2          0               0   \n",
       "1962     8.0  143542.36              3          1               0   \n",
       "2473     4.0  163146.46              1          1               0   \n",
       "8723    10.0       0.00              1          1               1   \n",
       "8762     3.0       0.00              1          0               0   \n",
       "9624     0.0  111098.85              1          1               1   \n",
       "\n",
       "      EstimatedSalary  Exited  \n",
       "1405        146955.71       1  \n",
       "1631        191973.49       1  \n",
       "1838        123602.11       1  \n",
       "1962        141959.11       1  \n",
       "2473        169621.69       1  \n",
       "8723        125823.79       1  \n",
       "8762        113796.15       1  \n",
       "9624        172321.21       1  "
      ]
     },
     "execution_count": 6,
     "metadata": {},
     "output_type": "execute_result"
    }
   ],
   "source": [
    "df[df['CreditScore'] < 361]"
   ]
  },
  {
   "cell_type": "markdown",
   "metadata": {},
   "source": [
    " "
   ]
  },
  {
   "cell_type": "code",
   "execution_count": 7,
   "metadata": {},
   "outputs": [],
   "source": [
    "df=df.drop(df[df['CreditScore'] < 361].index)"
   ]
  },
  {
   "cell_type": "code",
   "execution_count": 8,
   "metadata": {},
   "outputs": [
    {
     "data": {
      "image/png": "[encoded data removed]",
      "text/plain": [
       "<Figure size 504x504 with 1 Axes>"
      ]
     },
     "metadata": {
      "needs_background": "light"
     },
     "output_type": "display_data"
    }
   ],
   "source": [
    "df[['CreditScore']].boxplot(figsize = (7,7));"
   ]
  },
  {
   "cell_type": "code",
   "execution_count": 9,
   "metadata": {},
   "outputs": [
    {
     "data": {
      "image/png": "[encoded data removed]",
      "text/plain": [
       "<Figure size 504x504 with 1 Axes>"
      ]
     },
     "metadata": {
      "needs_background": "light"
     },
     "output_type": "display_data"
    }
   ],
   "source": [
    "df[['Age']].boxplot(figsize = (7,7));"
   ]
  },
  {
   "cell_type": "code",
   "execution_count": 10,
   "metadata": {},
   "outputs": [],
   "source": [
    "df=df.drop(df[df['Age'] > 63].index)"
   ]
  },
  {
   "cell_type": "code",
   "execution_count": 11,
   "metadata": {},
   "outputs": [
    {
     "data": {
      "image/png": "[encoded data removed]",
      "text/plain": [
       "<Figure size 504x504 with 1 Axes>"
      ]
     },
     "metadata": {
      "needs_background": "light"
     },
     "output_type": "display_data"
    }
   ],
   "source": [
    "df[['EstimatedSalary']].boxplot(figsize = (7,7));"
   ]
  },
  {
   "cell_type": "code",
   "execution_count": 12,
   "metadata": {},
   "outputs": [
    {
     "data": {
      "image/png": "[encoded data removed]",
      "text/plain": [
       "<Figure size 504x504 with 1 Axes>"
      ]
     },
     "metadata": {
      "needs_background": "light"
     },
     "output_type": "display_data"
    }
   ],
   "source": [
    "df[['Balance']].boxplot(figsize = (7,7));"
   ]
  },
  {
   "cell_type": "markdown",
   "metadata": {},
   "source": [
    " "
   ]
  },
  {
   "cell_type": "code",
   "execution_count": 13,
   "metadata": {},
   "outputs": [
    {
     "name": "stdout",
     "output_type": "stream",
     "text": [
      "<class 'pandas.core.frame.DataFrame'>\n",
      "Int64Index: 9673 entries, 0 to 9999\n",
      "Data columns (total 14 columns):\n",
      " #   Column           Non-Null Count  Dtype  \n",
      "---  ------           --------------  -----  \n",
      " 0   RowNumber        9673 non-null   int64  \n",
      " 1   CustomerId       9673 non-null   int64  \n",
      " 2   Surname          9673 non-null   object \n",
      " 3   CreditScore      9673 non-null   int64  \n",
      " 4   Geography        9673 non-null   object \n",
      " 5   Gender           9673 non-null   object \n",
      " 6   Age              9673 non-null   int64  \n",
      " 7   Tenure           8784 non-null   float64\n",
      " 8   Balance          9673 non-null   float64\n",
      " 9   NumOfProducts    9673 non-null   int64  \n",
      " 10  HasCrCard        9673 non-null   int64  \n",
      " 11  IsActiveMember   9673 non-null   int64  \n",
      " 12  EstimatedSalary  9673 non-null   float64\n",
      " 13  Exited           9673 non-null   int64  \n",
      "dtypes: float64(3), int64(8), object(3)\n",
      "memory usage: 1.1+ MB\n"
     ]
    }
   ],
   "source": [
    "df.info()"
   ]
  },
  {
   "cell_type": "code",
   "execution_count": 14,
   "metadata": {
    "scrolled": true
   },
   "outputs": [
    {
     "data": {
      "text/plain": [
       "RowNumber            0\n",
       "CustomerId           0\n",
       "Surname              0\n",
       "CreditScore          0\n",
       "Geography            0\n",
       "Gender               0\n",
       "Age                  0\n",
       "Tenure             889\n",
       "Balance              0\n",
       "NumOfProducts        0\n",
       "HasCrCard            0\n",
       "IsActiveMember       0\n",
       "EstimatedSalary      0\n",
       "Exited               0\n",
       "dtype: int64"
      ]
     },
     "execution_count": 14,
     "metadata": {},
     "output_type": "execute_result"
    }
   ],
   "source": [
    "df.isnull().sum()"
   ]
  },
  {
   "cell_type": "code",
   "execution_count": 15,
   "metadata": {},
   "outputs": [
    {
     "data": {
      "text/plain": [
       "<AxesSubplot:>"
      ]
     },
     "execution_count": 15,
     "metadata": {},
     "output_type": "execute_result"
    },
    {
     "data": {
      "image/png": "[encoded data removed]",
      "text/plain": [
       "<Figure size 720x576 with 2 Axes>"
      ]
     },
     "metadata": {
      "needs_background": "light"
     },
     "output_type": "display_data"
    }
   ],
   "source": [
    "plt.figure(figsize = (10, 8))\n",
    "sns.heatmap(df.corr(method = 'spearman'), annot = True, fmt = '.3f', linecolor = 'black', linewidths = 0.1)"
   ]
  },
  {
   "cell_type": "markdown",
   "metadata": {},
   "source": [
    "У нас прослеживается слабая корреляция столбцов:\n",
    "   - Exited и Age\n",
    "   - NumOfProducts и Balance"
   ]
  },
  {
   "cell_type": "markdown",
   "metadata": {},
   "source": [
    " "
   ]
  },
  {
   "cell_type": "markdown",
   "metadata": {},
   "source": [
    " "
   ]
  },
  {
   "cell_type": "markdown",
   "metadata": {},
   "source": [
    "Пропуски в столбце Tenure - сколько лет человек является клиентом банка.\n",
    "Удалим их:"
   ]
  },
  {
   "cell_type": "code",
   "execution_count": 16,
   "metadata": {},
   "outputs": [],
   "source": [
    "df=df.drop(df[df['Tenure'].isnull()==True].index)"
   ]
  },
  {
   "cell_type": "code",
   "execution_count": 17,
   "metadata": {},
   "outputs": [
    {
     "data": {
      "text/plain": [
       "RowNumber          0\n",
       "CustomerId         0\n",
       "Surname            0\n",
       "CreditScore        0\n",
       "Geography          0\n",
       "Gender             0\n",
       "Age                0\n",
       "Tenure             0\n",
       "Balance            0\n",
       "NumOfProducts      0\n",
       "HasCrCard          0\n",
       "IsActiveMember     0\n",
       "EstimatedSalary    0\n",
       "Exited             0\n",
       "dtype: int64"
      ]
     },
     "execution_count": 17,
     "metadata": {},
     "output_type": "execute_result"
    }
   ],
   "source": [
    "df.isnull().sum()"
   ]
  },
  {
   "cell_type": "markdown",
   "metadata": {},
   "source": [
    " Проверили - пропусков нет"
   ]
  },
  {
   "cell_type": "markdown",
   "metadata": {},
   "source": [
    " "
   ]
  },
  {
   "cell_type": "markdown",
   "metadata": {},
   "source": [
    " "
   ]
  },
  {
   "cell_type": "code",
   "execution_count": 18,
   "metadata": {},
   "outputs": [
    {
     "data": {
      "image/png": "[encoded data removed]",
      "text/plain": [
       "<Figure size 432x288 with 1 Axes>"
      ]
     },
     "metadata": {
      "needs_background": "light"
     },
     "output_type": "display_data"
    }
   ],
   "source": [
    "df['Tenure'].hist();"
   ]
  },
  {
   "cell_type": "code",
   "execution_count": 19,
   "metadata": {},
   "outputs": [
    {
     "data": {
      "image/png": "[encoded data removed]",
      "text/plain": [
       "<Figure size 432x288 with 1 Axes>"
      ]
     },
     "metadata": {
      "needs_background": "light"
     },
     "output_type": "display_data"
    }
   ],
   "source": [
    "df['CreditScore'].hist();"
   ]
  },
  {
   "cell_type": "code",
   "execution_count": 20,
   "metadata": {},
   "outputs": [
    {
     "data": {
      "image/png": "[encoded data removed]",
      "text/plain": [
       "<Figure size 432x288 with 1 Axes>"
      ]
     },
     "metadata": {
      "needs_background": "light"
     },
     "output_type": "display_data"
    }
   ],
   "source": [
    "df['Age'].hist(bins=100);"
   ]
  },
  {
   "cell_type": "code",
   "execution_count": 21,
   "metadata": {},
   "outputs": [
    {
     "data": {
      "image/png": "[encoded data removed]",
      "text/plain": [
       "<Figure size 432x288 with 1 Axes>"
      ]
     },
     "metadata": {
      "needs_background": "light"
     },
     "output_type": "display_data"
    }
   ],
   "source": [
    "df['Balance'].hist(bins=50);"
   ]
  },
  {
   "cell_type": "markdown",
   "metadata": {},
   "source": [
    "очень много людей с нулевым балансом на счете"
   ]
  },
  {
   "cell_type": "markdown",
   "metadata": {},
   "source": [
    " "
   ]
  },
  {
   "cell_type": "markdown",
   "metadata": {},
   "source": [
    " "
   ]
  },
  {
   "cell_type": "markdown",
   "metadata": {},
   "source": [
    "Выводы: \n",
    "   - переведем колонки Geography(всего 3 страны), Gender в бинарный вид. \n",
    "\n",
    "   - Признаки CreditScore и Age и Balance и EstimatedSalary и Tenure отнормируем. \n",
    "\n",
    "   - RowNumber, CustomerId, Surnamе - уберем из модели (они не очень информативны)"
   ]
  },
  {
   "cell_type": "markdown",
   "metadata": {},
   "source": [
    " "
   ]
  },
  {
   "cell_type": "markdown",
   "metadata": {},
   "source": [
    " "
   ]
  },
  {
   "cell_type": "markdown",
   "metadata": {},
   "source": [
    " "
   ]
  },
  {
   "cell_type": "markdown",
   "metadata": {},
   "source": [
    "### Разбиваем наши данные на тестовую, валидационную и тренировочную"
   ]
  },
  {
   "cell_type": "code",
   "execution_count": 22,
   "metadata": {},
   "outputs": [
    {
     "data": {
      "text/html": [
       "<div>\n",
       "<style scoped>\n",
       "    .dataframe tbody tr th:only-of-type {\n",
       "        vertical-align: middle;\n",
       "    }\n",
       "\n",
       "    .dataframe tbody tr th {\n",
       "        vertical-align: top;\n",
       "    }\n",
       "\n",
       "    .dataframe thead th {\n",
       "        text-align: right;\n",
       "    }\n",
       "</style>\n",
       "<table border=\"1\" class=\"dataframe\">\n",
       "  <thead>\n",
       "    <tr style=\"text-align: right;\">\n",
       "      <th></th>\n",
       "      <th>RowNumber</th>\n",
       "      <th>CustomerId</th>\n",
       "      <th>Surname</th>\n",
       "      <th>CreditScore</th>\n",
       "      <th>Geography</th>\n",
       "      <th>Gender</th>\n",
       "      <th>Age</th>\n",
       "      <th>Tenure</th>\n",
       "      <th>Balance</th>\n",
       "      <th>NumOfProducts</th>\n",
       "      <th>HasCrCard</th>\n",
       "      <th>IsActiveMember</th>\n",
       "      <th>EstimatedSalary</th>\n",
       "      <th>Exited</th>\n",
       "    </tr>\n",
       "  </thead>\n",
       "  <tbody>\n",
       "    <tr>\n",
       "      <th>0</th>\n",
       "      <td>1</td>\n",
       "      <td>15634602</td>\n",
       "      <td>Hargrave</td>\n",
       "      <td>619</td>\n",
       "      <td>France</td>\n",
       "      <td>Female</td>\n",
       "      <td>42</td>\n",
       "      <td>2.0</td>\n",
       "      <td>0.00</td>\n",
       "      <td>1</td>\n",
       "      <td>1</td>\n",
       "      <td>1</td>\n",
       "      <td>101348.88</td>\n",
       "      <td>1</td>\n",
       "    </tr>\n",
       "    <tr>\n",
       "      <th>1</th>\n",
       "      <td>2</td>\n",
       "      <td>15647311</td>\n",
       "      <td>Hill</td>\n",
       "      <td>608</td>\n",
       "      <td>Spain</td>\n",
       "      <td>Female</td>\n",
       "      <td>41</td>\n",
       "      <td>1.0</td>\n",
       "      <td>83807.86</td>\n",
       "      <td>1</td>\n",
       "      <td>0</td>\n",
       "      <td>1</td>\n",
       "      <td>112542.58</td>\n",
       "      <td>0</td>\n",
       "    </tr>\n",
       "    <tr>\n",
       "      <th>2</th>\n",
       "      <td>3</td>\n",
       "      <td>15619304</td>\n",
       "      <td>Onio</td>\n",
       "      <td>502</td>\n",
       "      <td>France</td>\n",
       "      <td>Female</td>\n",
       "      <td>42</td>\n",
       "      <td>8.0</td>\n",
       "      <td>159660.80</td>\n",
       "      <td>3</td>\n",
       "      <td>1</td>\n",
       "      <td>0</td>\n",
       "      <td>113931.57</td>\n",
       "      <td>1</td>\n",
       "    </tr>\n",
       "  </tbody>\n",
       "</table>\n",
       "</div>"
      ],
      "text/plain": [
       "   RowNumber  CustomerId   Surname  CreditScore Geography  Gender  Age  \\\n",
       "0          1    15634602  Hargrave          619    France  Female   42   \n",
       "1          2    15647311      Hill          608     Spain  Female   41   \n",
       "2          3    15619304      Onio          502    France  Female   42   \n",
       "\n",
       "   Tenure    Balance  NumOfProducts  HasCrCard  IsActiveMember  \\\n",
       "0     2.0       0.00              1          1               1   \n",
       "1     1.0   83807.86              1          0               1   \n",
       "2     8.0  159660.80              3          1               0   \n",
       "\n",
       "   EstimatedSalary  Exited  \n",
       "0        101348.88       1  \n",
       "1        112542.58       0  \n",
       "2        113931.57       1  "
      ]
     },
     "execution_count": 22,
     "metadata": {},
     "output_type": "execute_result"
    }
   ],
   "source": [
    "df.head(3)"
   ]
  },
  {
   "cell_type": "code",
   "execution_count": 23,
   "metadata": {},
   "outputs": [],
   "source": [
    "df=df.drop(['RowNumber', 'CustomerId', 'Surname'], axis = 1)"
   ]
  },
  {
   "cell_type": "markdown",
   "metadata": {},
   "source": [
    " "
   ]
  },
  {
   "cell_type": "code",
   "execution_count": 24,
   "metadata": {},
   "outputs": [
    {
     "data": {
      "text/html": [
       "<div>\n",
       "<style scoped>\n",
       "    .dataframe tbody tr th:only-of-type {\n",
       "        vertical-align: middle;\n",
       "    }\n",
       "\n",
       "    .dataframe tbody tr th {\n",
       "        vertical-align: top;\n",
       "    }\n",
       "\n",
       "    .dataframe thead th {\n",
       "        text-align: right;\n",
       "    }\n",
       "</style>\n",
       "<table border=\"1\" class=\"dataframe\">\n",
       "  <thead>\n",
       "    <tr style=\"text-align: right;\">\n",
       "      <th></th>\n",
       "      <th>CreditScore</th>\n",
       "      <th>Geography</th>\n",
       "      <th>Gender</th>\n",
       "      <th>Age</th>\n",
       "      <th>Tenure</th>\n",
       "      <th>Balance</th>\n",
       "      <th>NumOfProducts</th>\n",
       "      <th>HasCrCard</th>\n",
       "      <th>IsActiveMember</th>\n",
       "      <th>EstimatedSalary</th>\n",
       "      <th>Exited</th>\n",
       "    </tr>\n",
       "  </thead>\n",
       "  <tbody>\n",
       "    <tr>\n",
       "      <th>0</th>\n",
       "      <td>619</td>\n",
       "      <td>France</td>\n",
       "      <td>Female</td>\n",
       "      <td>42</td>\n",
       "      <td>2.0</td>\n",
       "      <td>0.00</td>\n",
       "      <td>1</td>\n",
       "      <td>1</td>\n",
       "      <td>1</td>\n",
       "      <td>101348.88</td>\n",
       "      <td>1</td>\n",
       "    </tr>\n",
       "    <tr>\n",
       "      <th>1</th>\n",
       "      <td>608</td>\n",
       "      <td>Spain</td>\n",
       "      <td>Female</td>\n",
       "      <td>41</td>\n",
       "      <td>1.0</td>\n",
       "      <td>83807.86</td>\n",
       "      <td>1</td>\n",
       "      <td>0</td>\n",
       "      <td>1</td>\n",
       "      <td>112542.58</td>\n",
       "      <td>0</td>\n",
       "    </tr>\n",
       "    <tr>\n",
       "      <th>2</th>\n",
       "      <td>502</td>\n",
       "      <td>France</td>\n",
       "      <td>Female</td>\n",
       "      <td>42</td>\n",
       "      <td>8.0</td>\n",
       "      <td>159660.80</td>\n",
       "      <td>3</td>\n",
       "      <td>1</td>\n",
       "      <td>0</td>\n",
       "      <td>113931.57</td>\n",
       "      <td>1</td>\n",
       "    </tr>\n",
       "    <tr>\n",
       "      <th>3</th>\n",
       "      <td>699</td>\n",
       "      <td>France</td>\n",
       "      <td>Female</td>\n",
       "      <td>39</td>\n",
       "      <td>1.0</td>\n",
       "      <td>0.00</td>\n",
       "      <td>2</td>\n",
       "      <td>0</td>\n",
       "      <td>0</td>\n",
       "      <td>93826.63</td>\n",
       "      <td>0</td>\n",
       "    </tr>\n",
       "    <tr>\n",
       "      <th>4</th>\n",
       "      <td>850</td>\n",
       "      <td>Spain</td>\n",
       "      <td>Female</td>\n",
       "      <td>43</td>\n",
       "      <td>2.0</td>\n",
       "      <td>125510.82</td>\n",
       "      <td>1</td>\n",
       "      <td>1</td>\n",
       "      <td>1</td>\n",
       "      <td>79084.10</td>\n",
       "      <td>0</td>\n",
       "    </tr>\n",
       "    <tr>\n",
       "      <th>...</th>\n",
       "      <td>...</td>\n",
       "      <td>...</td>\n",
       "      <td>...</td>\n",
       "      <td>...</td>\n",
       "      <td>...</td>\n",
       "      <td>...</td>\n",
       "      <td>...</td>\n",
       "      <td>...</td>\n",
       "      <td>...</td>\n",
       "      <td>...</td>\n",
       "      <td>...</td>\n",
       "    </tr>\n",
       "    <tr>\n",
       "      <th>9994</th>\n",
       "      <td>800</td>\n",
       "      <td>France</td>\n",
       "      <td>Female</td>\n",
       "      <td>29</td>\n",
       "      <td>2.0</td>\n",
       "      <td>0.00</td>\n",
       "      <td>2</td>\n",
       "      <td>0</td>\n",
       "      <td>0</td>\n",
       "      <td>167773.55</td>\n",
       "      <td>0</td>\n",
       "    </tr>\n",
       "    <tr>\n",
       "      <th>9995</th>\n",
       "      <td>771</td>\n",
       "      <td>France</td>\n",
       "      <td>Male</td>\n",
       "      <td>39</td>\n",
       "      <td>5.0</td>\n",
       "      <td>0.00</td>\n",
       "      <td>2</td>\n",
       "      <td>1</td>\n",
       "      <td>0</td>\n",
       "      <td>96270.64</td>\n",
       "      <td>0</td>\n",
       "    </tr>\n",
       "    <tr>\n",
       "      <th>9996</th>\n",
       "      <td>516</td>\n",
       "      <td>France</td>\n",
       "      <td>Male</td>\n",
       "      <td>35</td>\n",
       "      <td>10.0</td>\n",
       "      <td>57369.61</td>\n",
       "      <td>1</td>\n",
       "      <td>1</td>\n",
       "      <td>1</td>\n",
       "      <td>101699.77</td>\n",
       "      <td>0</td>\n",
       "    </tr>\n",
       "    <tr>\n",
       "      <th>9997</th>\n",
       "      <td>709</td>\n",
       "      <td>France</td>\n",
       "      <td>Female</td>\n",
       "      <td>36</td>\n",
       "      <td>7.0</td>\n",
       "      <td>0.00</td>\n",
       "      <td>1</td>\n",
       "      <td>0</td>\n",
       "      <td>1</td>\n",
       "      <td>42085.58</td>\n",
       "      <td>1</td>\n",
       "    </tr>\n",
       "    <tr>\n",
       "      <th>9998</th>\n",
       "      <td>772</td>\n",
       "      <td>Germany</td>\n",
       "      <td>Male</td>\n",
       "      <td>42</td>\n",
       "      <td>3.0</td>\n",
       "      <td>75075.31</td>\n",
       "      <td>2</td>\n",
       "      <td>1</td>\n",
       "      <td>0</td>\n",
       "      <td>92888.52</td>\n",
       "      <td>1</td>\n",
       "    </tr>\n",
       "  </tbody>\n",
       "</table>\n",
       "<p>8784 rows × 11 columns</p>\n",
       "</div>"
      ],
      "text/plain": [
       "      CreditScore Geography  Gender  Age  Tenure    Balance  NumOfProducts  \\\n",
       "0             619    France  Female   42     2.0       0.00              1   \n",
       "1             608     Spain  Female   41     1.0   83807.86              1   \n",
       "2             502    France  Female   42     8.0  159660.80              3   \n",
       "3             699    France  Female   39     1.0       0.00              2   \n",
       "4             850     Spain  Female   43     2.0  125510.82              1   \n",
       "...           ...       ...     ...  ...     ...        ...            ...   \n",
       "9994          800    France  Female   29     2.0       0.00              2   \n",
       "9995          771    France    Male   39     5.0       0.00              2   \n",
       "9996          516    France    Male   35    10.0   57369.61              1   \n",
       "9997          709    France  Female   36     7.0       0.00              1   \n",
       "9998          772   Germany    Male   42     3.0   75075.31              2   \n",
       "\n",
       "      HasCrCard  IsActiveMember  EstimatedSalary  Exited  \n",
       "0             1               1        101348.88       1  \n",
       "1             0               1        112542.58       0  \n",
       "2             1               0        113931.57       1  \n",
       "3             0               0         93826.63       0  \n",
       "4             1               1         79084.10       0  \n",
       "...         ...             ...              ...     ...  \n",
       "9994          0               0        167773.55       0  \n",
       "9995          1               0         96270.64       0  \n",
       "9996          1               1        101699.77       0  \n",
       "9997          0               1         42085.58       1  \n",
       "9998          1               0         92888.52       1  \n",
       "\n",
       "[8784 rows x 11 columns]"
      ]
     },
     "execution_count": 24,
     "metadata": {},
     "output_type": "execute_result"
    }
   ],
   "source": [
    "df"
   ]
  },
  {
   "cell_type": "markdown",
   "metadata": {},
   "source": [
    "Переведем часть наших данных в бинарный вид"
   ]
  },
  {
   "cell_type": "code",
   "execution_count": 25,
   "metadata": {},
   "outputs": [],
   "source": [
    "df = pd.get_dummies(df, drop_first = True)"
   ]
  },
  {
   "cell_type": "code",
   "execution_count": 26,
   "metadata": {},
   "outputs": [
    {
     "data": {
      "text/html": [
       "<div>\n",
       "<style scoped>\n",
       "    .dataframe tbody tr th:only-of-type {\n",
       "        vertical-align: middle;\n",
       "    }\n",
       "\n",
       "    .dataframe tbody tr th {\n",
       "        vertical-align: top;\n",
       "    }\n",
       "\n",
       "    .dataframe thead th {\n",
       "        text-align: right;\n",
       "    }\n",
       "</style>\n",
       "<table border=\"1\" class=\"dataframe\">\n",
       "  <thead>\n",
       "    <tr style=\"text-align: right;\">\n",
       "      <th></th>\n",
       "      <th>CreditScore</th>\n",
       "      <th>Age</th>\n",
       "      <th>Tenure</th>\n",
       "      <th>Balance</th>\n",
       "      <th>NumOfProducts</th>\n",
       "      <th>HasCrCard</th>\n",
       "      <th>IsActiveMember</th>\n",
       "      <th>EstimatedSalary</th>\n",
       "      <th>Exited</th>\n",
       "      <th>Geography_Germany</th>\n",
       "      <th>Geography_Spain</th>\n",
       "      <th>Gender_Male</th>\n",
       "    </tr>\n",
       "  </thead>\n",
       "  <tbody>\n",
       "    <tr>\n",
       "      <th>0</th>\n",
       "      <td>619</td>\n",
       "      <td>42</td>\n",
       "      <td>2.0</td>\n",
       "      <td>0.00</td>\n",
       "      <td>1</td>\n",
       "      <td>1</td>\n",
       "      <td>1</td>\n",
       "      <td>101348.88</td>\n",
       "      <td>1</td>\n",
       "      <td>0</td>\n",
       "      <td>0</td>\n",
       "      <td>0</td>\n",
       "    </tr>\n",
       "    <tr>\n",
       "      <th>1</th>\n",
       "      <td>608</td>\n",
       "      <td>41</td>\n",
       "      <td>1.0</td>\n",
       "      <td>83807.86</td>\n",
       "      <td>1</td>\n",
       "      <td>0</td>\n",
       "      <td>1</td>\n",
       "      <td>112542.58</td>\n",
       "      <td>0</td>\n",
       "      <td>0</td>\n",
       "      <td>1</td>\n",
       "      <td>0</td>\n",
       "    </tr>\n",
       "    <tr>\n",
       "      <th>2</th>\n",
       "      <td>502</td>\n",
       "      <td>42</td>\n",
       "      <td>8.0</td>\n",
       "      <td>159660.80</td>\n",
       "      <td>3</td>\n",
       "      <td>1</td>\n",
       "      <td>0</td>\n",
       "      <td>113931.57</td>\n",
       "      <td>1</td>\n",
       "      <td>0</td>\n",
       "      <td>0</td>\n",
       "      <td>0</td>\n",
       "    </tr>\n",
       "    <tr>\n",
       "      <th>3</th>\n",
       "      <td>699</td>\n",
       "      <td>39</td>\n",
       "      <td>1.0</td>\n",
       "      <td>0.00</td>\n",
       "      <td>2</td>\n",
       "      <td>0</td>\n",
       "      <td>0</td>\n",
       "      <td>93826.63</td>\n",
       "      <td>0</td>\n",
       "      <td>0</td>\n",
       "      <td>0</td>\n",
       "      <td>0</td>\n",
       "    </tr>\n",
       "    <tr>\n",
       "      <th>4</th>\n",
       "      <td>850</td>\n",
       "      <td>43</td>\n",
       "      <td>2.0</td>\n",
       "      <td>125510.82</td>\n",
       "      <td>1</td>\n",
       "      <td>1</td>\n",
       "      <td>1</td>\n",
       "      <td>79084.10</td>\n",
       "      <td>0</td>\n",
       "      <td>0</td>\n",
       "      <td>1</td>\n",
       "      <td>0</td>\n",
       "    </tr>\n",
       "    <tr>\n",
       "      <th>...</th>\n",
       "      <td>...</td>\n",
       "      <td>...</td>\n",
       "      <td>...</td>\n",
       "      <td>...</td>\n",
       "      <td>...</td>\n",
       "      <td>...</td>\n",
       "      <td>...</td>\n",
       "      <td>...</td>\n",
       "      <td>...</td>\n",
       "      <td>...</td>\n",
       "      <td>...</td>\n",
       "      <td>...</td>\n",
       "    </tr>\n",
       "    <tr>\n",
       "      <th>9994</th>\n",
       "      <td>800</td>\n",
       "      <td>29</td>\n",
       "      <td>2.0</td>\n",
       "      <td>0.00</td>\n",
       "      <td>2</td>\n",
       "      <td>0</td>\n",
       "      <td>0</td>\n",
       "      <td>167773.55</td>\n",
       "      <td>0</td>\n",
       "      <td>0</td>\n",
       "      <td>0</td>\n",
       "      <td>0</td>\n",
       "    </tr>\n",
       "    <tr>\n",
       "      <th>9995</th>\n",
       "      <td>771</td>\n",
       "      <td>39</td>\n",
       "      <td>5.0</td>\n",
       "      <td>0.00</td>\n",
       "      <td>2</td>\n",
       "      <td>1</td>\n",
       "      <td>0</td>\n",
       "      <td>96270.64</td>\n",
       "      <td>0</td>\n",
       "      <td>0</td>\n",
       "      <td>0</td>\n",
       "      <td>1</td>\n",
       "    </tr>\n",
       "    <tr>\n",
       "      <th>9996</th>\n",
       "      <td>516</td>\n",
       "      <td>35</td>\n",
       "      <td>10.0</td>\n",
       "      <td>57369.61</td>\n",
       "      <td>1</td>\n",
       "      <td>1</td>\n",
       "      <td>1</td>\n",
       "      <td>101699.77</td>\n",
       "      <td>0</td>\n",
       "      <td>0</td>\n",
       "      <td>0</td>\n",
       "      <td>1</td>\n",
       "    </tr>\n",
       "    <tr>\n",
       "      <th>9997</th>\n",
       "      <td>709</td>\n",
       "      <td>36</td>\n",
       "      <td>7.0</td>\n",
       "      <td>0.00</td>\n",
       "      <td>1</td>\n",
       "      <td>0</td>\n",
       "      <td>1</td>\n",
       "      <td>42085.58</td>\n",
       "      <td>1</td>\n",
       "      <td>0</td>\n",
       "      <td>0</td>\n",
       "      <td>0</td>\n",
       "    </tr>\n",
       "    <tr>\n",
       "      <th>9998</th>\n",
       "      <td>772</td>\n",
       "      <td>42</td>\n",
       "      <td>3.0</td>\n",
       "      <td>75075.31</td>\n",
       "      <td>2</td>\n",
       "      <td>1</td>\n",
       "      <td>0</td>\n",
       "      <td>92888.52</td>\n",
       "      <td>1</td>\n",
       "      <td>1</td>\n",
       "      <td>0</td>\n",
       "      <td>1</td>\n",
       "    </tr>\n",
       "  </tbody>\n",
       "</table>\n",
       "<p>8784 rows × 12 columns</p>\n",
       "</div>"
      ],
      "text/plain": [
       "      CreditScore  Age  Tenure    Balance  NumOfProducts  HasCrCard  \\\n",
       "0             619   42     2.0       0.00              1          1   \n",
       "1             608   41     1.0   83807.86              1          0   \n",
       "2             502   42     8.0  159660.80              3          1   \n",
       "3             699   39     1.0       0.00              2          0   \n",
       "4             850   43     2.0  125510.82              1          1   \n",
       "...           ...  ...     ...        ...            ...        ...   \n",
       "9994          800   29     2.0       0.00              2          0   \n",
       "9995          771   39     5.0       0.00              2          1   \n",
       "9996          516   35    10.0   57369.61              1          1   \n",
       "9997          709   36     7.0       0.00              1          0   \n",
       "9998          772   42     3.0   75075.31              2          1   \n",
       "\n",
       "      IsActiveMember  EstimatedSalary  Exited  Geography_Germany  \\\n",
       "0                  1        101348.88       1                  0   \n",
       "1                  1        112542.58       0                  0   \n",
       "2                  0        113931.57       1                  0   \n",
       "3                  0         93826.63       0                  0   \n",
       "4                  1         79084.10       0                  0   \n",
       "...              ...              ...     ...                ...   \n",
       "9994               0        167773.55       0                  0   \n",
       "9995               0         96270.64       0                  0   \n",
       "9996               1        101699.77       0                  0   \n",
       "9997               1         42085.58       1                  0   \n",
       "9998               0         92888.52       1                  1   \n",
       "\n",
       "      Geography_Spain  Gender_Male  \n",
       "0                   0            0  \n",
       "1                   1            0  \n",
       "2                   0            0  \n",
       "3                   0            0  \n",
       "4                   1            0  \n",
       "...               ...          ...  \n",
       "9994                0            0  \n",
       "9995                0            1  \n",
       "9996                0            1  \n",
       "9997                0            0  \n",
       "9998                0            1  \n",
       "\n",
       "[8784 rows x 12 columns]"
      ]
     },
     "execution_count": 26,
     "metadata": {},
     "output_type": "execute_result"
    }
   ],
   "source": [
    "df"
   ]
  },
  {
   "cell_type": "markdown",
   "metadata": {},
   "source": [
    " "
   ]
  },
  {
   "cell_type": "markdown",
   "metadata": {},
   "source": [
    " "
   ]
  },
  {
   "cell_type": "markdown",
   "metadata": {},
   "source": [
    "Разделим наши данные на тестовую, тренировочную и валидационную выборки"
   ]
  },
  {
   "cell_type": "code",
   "execution_count": 27,
   "metadata": {},
   "outputs": [],
   "source": [
    "target = df['Exited']\n",
    "features = df.drop('Exited', axis=1)"
   ]
  },
  {
   "cell_type": "markdown",
   "metadata": {},
   "source": [
    "Отделяем от нашего датасета 20% тестовой выборки"
   ]
  },
  {
   "cell_type": "code",
   "execution_count": 28,
   "metadata": {},
   "outputs": [],
   "source": [
    "features_valid, features_test, target_valid, target_test = train_test_split(\n",
    "    features, target, test_size=0.20, random_state=12345)"
   ]
  },
  {
   "cell_type": "code",
   "execution_count": 29,
   "metadata": {},
   "outputs": [
    {
     "data": {
      "text/plain": [
       "(1757, 11)"
      ]
     },
     "execution_count": 29,
     "metadata": {},
     "output_type": "execute_result"
    }
   ],
   "source": [
    "features_test.shape"
   ]
  },
  {
   "cell_type": "code",
   "execution_count": 30,
   "metadata": {},
   "outputs": [
    {
     "data": {
      "text/plain": [
       "(7027, 11)"
      ]
     },
     "execution_count": 30,
     "metadata": {},
     "output_type": "execute_result"
    }
   ],
   "source": [
    "features_valid.shape"
   ]
  },
  {
   "cell_type": "markdown",
   "metadata": {},
   "source": [
    "Оставшийся большой кусок разделяем на тренировочную и валидационную выборки"
   ]
  },
  {
   "cell_type": "code",
   "execution_count": 31,
   "metadata": {},
   "outputs": [],
   "source": [
    "features_train, features_valid, target_train, target_valid = train_test_split(\n",
    "    features_valid, target_valid, test_size=0.25, random_state=12345)"
   ]
  },
  {
   "cell_type": "code",
   "execution_count": 32,
   "metadata": {},
   "outputs": [
    {
     "data": {
      "text/plain": [
       "(5270, 11)"
      ]
     },
     "execution_count": 32,
     "metadata": {},
     "output_type": "execute_result"
    }
   ],
   "source": [
    "features_train.shape"
   ]
  },
  {
   "cell_type": "code",
   "execution_count": 33,
   "metadata": {},
   "outputs": [
    {
     "data": {
      "text/plain": [
       "(1757, 11)"
      ]
     },
     "execution_count": 33,
     "metadata": {},
     "output_type": "execute_result"
    }
   ],
   "source": [
    "features_valid.shape"
   ]
  },
  {
   "cell_type": "markdown",
   "metadata": {},
   "source": [
    " "
   ]
  },
  {
   "cell_type": "markdown",
   "metadata": {},
   "source": [
    "Отнормируем колонки 'CreditScore', 'Age', 'Tenure','Balance','EstimatedSalary'"
   ]
  },
  {
   "cell_type": "code",
   "execution_count": 34,
   "metadata": {},
   "outputs": [],
   "source": [
    "numeric = ['CreditScore', 'Age', 'Tenure','Balance','EstimatedSalary']"
   ]
  },
  {
   "cell_type": "code",
   "execution_count": 35,
   "metadata": {},
   "outputs": [],
   "source": [
    "scaler = StandardScaler()"
   ]
  },
  {
   "cell_type": "code",
   "execution_count": 36,
   "metadata": {},
   "outputs": [
    {
     "data": {
      "text/plain": [
       "StandardScaler()"
      ]
     },
     "execution_count": 36,
     "metadata": {},
     "output_type": "execute_result"
    }
   ],
   "source": [
    "scaler.fit(features_train[numeric]) "
   ]
  },
  {
   "cell_type": "code",
   "execution_count": 37,
   "metadata": {},
   "outputs": [],
   "source": [
    "features_train[numeric] = scaler.transform(features_train[numeric])\n",
    "features_valid[numeric] = scaler.transform(features_valid[numeric]) \n",
    "features_test[numeric] = scaler.transform(features_test[numeric]) "
   ]
  },
  {
   "cell_type": "markdown",
   "metadata": {},
   "source": [
    " "
   ]
  },
  {
   "cell_type": "markdown",
   "metadata": {},
   "source": [
    "Посмотрим на баланс наших выборок"
   ]
  },
  {
   "cell_type": "code",
   "execution_count": 38,
   "metadata": {},
   "outputs": [
    {
     "data": {
      "text/plain": [
       "0    4194\n",
       "1    1076\n",
       "Name: Exited, dtype: int64"
      ]
     },
     "execution_count": 38,
     "metadata": {},
     "output_type": "execute_result"
    }
   ],
   "source": [
    "target_train.value_counts()"
   ]
  },
  {
   "cell_type": "markdown",
   "metadata": {},
   "source": [
    "разница примерно в 3-4 раза"
   ]
  },
  {
   "cell_type": "markdown",
   "metadata": {},
   "source": [
    " "
   ]
  },
  {
   "cell_type": "markdown",
   "metadata": {},
   "source": [
    "### Обучение модели на несбалансированных данных"
   ]
  },
  {
   "cell_type": "code",
   "execution_count": 39,
   "metadata": {},
   "outputs": [
    {
     "name": "stdout",
     "output_type": "stream",
     "text": [
      "n_estimators = 1 : max_depth = 1 : 0.17632241813602015\n",
      "n_estimators = 1 : max_depth = 4 : 0.5008635578583766\n",
      "n_estimators = 3 : max_depth = 8 : 0.5009208103130754\n",
      "n_estimators = 4 : max_depth = 10 : 0.5064220183486239\n",
      "n_estimators = 5 : max_depth = 12 : 0.5144804088586031\n",
      "n_estimators = 7 : max_depth = 12 : 0.5163511187607573\n",
      "n_estimators = 8 : max_depth = 12 : 0.5202108963093146\n",
      "n_estimators = 9 : max_depth = 12 : 0.5305410122164048\n",
      "f1_score наилучшей модели на валидационной выборке: 0.5305410122164048\n"
     ]
    }
   ],
   "source": [
    "scores_data=pd.DataFrame()\n",
    "best_model = None\n",
    "best_result = 0\n",
    "for est in range(1, 16):\n",
    "     for depth in range (1, 16):\n",
    "            model = RandomForestClassifier(random_state=12345, n_estimators=est,max_depth=depth) \n",
    "            # обучите модель с заданным количеством деревьев\n",
    "    \n",
    "            model.fit(features_train, target_train) # обучите модель на тренировочной выборке\n",
    "            predictions_valid = model.predict(features_valid)\n",
    "            result=f1_score(target_valid, predictions_valid)\n",
    "            if result > best_result:\n",
    "                print(\"n_estimators =\", est, \": \", end='')\n",
    "                print(\"max_depth =\", depth, \": \", end='')\n",
    "                print(f1_score(target_valid, predictions_valid))\n",
    "                best_model =model # сохраните наилучшую модель\n",
    "                best_result =result #  сохраните наилучшее значение метрики на валидационных данных\n",
    "                \n",
    "                temp_score_data=pd.DataFrame({'est':[est],\n",
    "                                  'depth':[depth],\n",
    "                                  'score':[result]})\n",
    "    \n",
    "                scores_data=scores_data.append(temp_score_data)\n",
    "                \n",
    "print(\"f1_score наилучшей модели на валидационной выборке:\", best_result)"
   ]
  },
  {
   "cell_type": "code",
   "execution_count": 40,
   "metadata": {},
   "outputs": [
    {
     "data": {
      "text/html": [
       "<div>\n",
       "<style scoped>\n",
       "    .dataframe tbody tr th:only-of-type {\n",
       "        vertical-align: middle;\n",
       "    }\n",
       "\n",
       "    .dataframe tbody tr th {\n",
       "        vertical-align: top;\n",
       "    }\n",
       "\n",
       "    .dataframe thead th {\n",
       "        text-align: right;\n",
       "    }\n",
       "</style>\n",
       "<table border=\"1\" class=\"dataframe\">\n",
       "  <thead>\n",
       "    <tr style=\"text-align: right;\">\n",
       "      <th></th>\n",
       "      <th>est</th>\n",
       "      <th>depth</th>\n",
       "      <th>score</th>\n",
       "    </tr>\n",
       "  </thead>\n",
       "  <tbody>\n",
       "    <tr>\n",
       "      <th>0</th>\n",
       "      <td>1</td>\n",
       "      <td>1</td>\n",
       "      <td>0.176322</td>\n",
       "    </tr>\n",
       "    <tr>\n",
       "      <th>0</th>\n",
       "      <td>1</td>\n",
       "      <td>4</td>\n",
       "      <td>0.500864</td>\n",
       "    </tr>\n",
       "    <tr>\n",
       "      <th>0</th>\n",
       "      <td>3</td>\n",
       "      <td>8</td>\n",
       "      <td>0.500921</td>\n",
       "    </tr>\n",
       "    <tr>\n",
       "      <th>0</th>\n",
       "      <td>4</td>\n",
       "      <td>10</td>\n",
       "      <td>0.506422</td>\n",
       "    </tr>\n",
       "    <tr>\n",
       "      <th>0</th>\n",
       "      <td>5</td>\n",
       "      <td>12</td>\n",
       "      <td>0.514480</td>\n",
       "    </tr>\n",
       "    <tr>\n",
       "      <th>0</th>\n",
       "      <td>7</td>\n",
       "      <td>12</td>\n",
       "      <td>0.516351</td>\n",
       "    </tr>\n",
       "    <tr>\n",
       "      <th>0</th>\n",
       "      <td>8</td>\n",
       "      <td>12</td>\n",
       "      <td>0.520211</td>\n",
       "    </tr>\n",
       "    <tr>\n",
       "      <th>0</th>\n",
       "      <td>9</td>\n",
       "      <td>12</td>\n",
       "      <td>0.530541</td>\n",
       "    </tr>\n",
       "  </tbody>\n",
       "</table>\n",
       "</div>"
      ],
      "text/plain": [
       "   est  depth     score\n",
       "0    1      1  0.176322\n",
       "0    1      4  0.500864\n",
       "0    3      8  0.500921\n",
       "0    4     10  0.506422\n",
       "0    5     12  0.514480\n",
       "0    7     12  0.516351\n",
       "0    8     12  0.520211\n",
       "0    9     12  0.530541"
      ]
     },
     "execution_count": 40,
     "metadata": {},
     "output_type": "execute_result"
    }
   ],
   "source": [
    "scores_data"
   ]
  },
  {
   "cell_type": "code",
   "execution_count": 41,
   "metadata": {},
   "outputs": [
    {
     "data": {
      "text/plain": [
       "0.5953947368421053"
      ]
     },
     "execution_count": 41,
     "metadata": {},
     "output_type": "execute_result"
    }
   ],
   "source": [
    "predictions_test = model.predict(features_test)\n",
    "result=f1_score(target_test, predictions_test)\n",
    "result"
   ]
  },
  {
   "cell_type": "markdown",
   "metadata": {},
   "source": [
    "Выводы: Наилучший показатель F1-метрики на валидационной выборке = 0.55, а на тестовой = 0.53. Что недостаточно по условию задачи (не менее 0.59)"
   ]
  },
  {
   "cell_type": "markdown",
   "metadata": {},
   "source": [
    " "
   ]
  },
  {
   "cell_type": "markdown",
   "metadata": {},
   "source": [
    " "
   ]
  },
  {
   "cell_type": "markdown",
   "metadata": {},
   "source": [
    "### Устраним дисбаланс классов"
   ]
  },
  {
   "cell_type": "markdown",
   "metadata": {},
   "source": [
    " "
   ]
  },
  {
   "cell_type": "markdown",
   "metadata": {},
   "source": [
    "Сделаем наши выборки более равновесными, увеличив \"отстающую\""
   ]
  },
  {
   "cell_type": "code",
   "execution_count": 42,
   "metadata": {},
   "outputs": [],
   "source": [
    "def upsample(features, target, repeat):\n",
    "    features_zeros = features[target == 0]\n",
    "    features_ones = features[target == 1]\n",
    "    target_zeros = target[target == 0]\n",
    "    target_ones = target[target == 1]\n",
    "    features_upsampled = pd.concat([features_zeros] + [features_ones] * repeat)\n",
    "    target_upsampled = pd.concat([target_zeros] + [target_ones] * repeat)\n",
    "    features_upsampled, target_upsampled = shuffle(\n",
    "        features_upsampled, target_upsampled, random_state=12345)\n",
    "    return features_upsampled, target_upsampled"
   ]
  },
  {
   "cell_type": "code",
   "execution_count": 43,
   "metadata": {},
   "outputs": [],
   "source": [
    "features_upsampled, target_upsampled = upsample(features_train, target_train, 4)"
   ]
  },
  {
   "cell_type": "code",
   "execution_count": 44,
   "metadata": {},
   "outputs": [
    {
     "data": {
      "text/plain": [
       "(8498, 11)"
      ]
     },
     "execution_count": 44,
     "metadata": {},
     "output_type": "execute_result"
    }
   ],
   "source": [
    "features_upsampled.shape"
   ]
  },
  {
   "cell_type": "code",
   "execution_count": 45,
   "metadata": {},
   "outputs": [
    {
     "data": {
      "text/plain": [
       "(8498,)"
      ]
     },
     "execution_count": 45,
     "metadata": {},
     "output_type": "execute_result"
    }
   ],
   "source": [
    "target_upsampled.shape"
   ]
  },
  {
   "cell_type": "code",
   "execution_count": 46,
   "metadata": {},
   "outputs": [
    {
     "data": {
      "text/plain": [
       "1    4304\n",
       "0    4194\n",
       "Name: Exited, dtype: int64"
      ]
     },
     "execution_count": 46,
     "metadata": {},
     "output_type": "execute_result"
    }
   ],
   "source": [
    "target_upsampled.value_counts()"
   ]
  },
  {
   "cell_type": "markdown",
   "metadata": {},
   "source": [
    "Вывод: Выравнили баланс 0 и 1"
   ]
  },
  {
   "cell_type": "markdown",
   "metadata": {},
   "source": [
    " "
   ]
  },
  {
   "cell_type": "markdown",
   "metadata": {},
   "source": [
    "### Построим и обучим модели логистической регресси и случайного леса"
   ]
  },
  {
   "cell_type": "markdown",
   "metadata": {},
   "source": [
    "#### Модель логистической регрессии"
   ]
  },
  {
   "cell_type": "code",
   "execution_count": 47,
   "metadata": {},
   "outputs": [
    {
     "name": "stdout",
     "output_type": "stream",
     "text": [
      "F1: 0.46817248459958927\n"
     ]
    }
   ],
   "source": [
    "model_l=LogisticRegression(solver='liblinear', random_state=12345,class_weight='balanced')\n",
    "model_l.fit(features_upsampled,target_upsampled)\n",
    "predicted_valid=model_l.predict(features_valid)\n",
    "print(\"F1:\", f1_score(target_valid, predicted_valid))"
   ]
  },
  {
   "cell_type": "markdown",
   "metadata": {},
   "source": [
    "Проверим модель на тестовой выборке"
   ]
  },
  {
   "cell_type": "code",
   "execution_count": 48,
   "metadata": {},
   "outputs": [
    {
     "data": {
      "text/plain": [
       "0.5182266009852217"
      ]
     },
     "execution_count": 48,
     "metadata": {},
     "output_type": "execute_result"
    }
   ],
   "source": [
    "predictions_test = model_l.predict(features_test)\n",
    "result=f1_score(target_test, predictions_test)\n",
    "result"
   ]
  },
  {
   "cell_type": "markdown",
   "metadata": {},
   "source": [
    "Не самые выдающиеся результаты. Построим модель случайного леса."
   ]
  },
  {
   "cell_type": "markdown",
   "metadata": {},
   "source": [
    " "
   ]
  },
  {
   "cell_type": "markdown",
   "metadata": {},
   "source": [
    " "
   ]
  },
  {
   "cell_type": "markdown",
   "metadata": {},
   "source": [
    "#### Модель случайного леса"
   ]
  },
  {
   "cell_type": "code",
   "execution_count": 49,
   "metadata": {},
   "outputs": [
    {
     "name": "stdout",
     "output_type": "stream",
     "text": [
      "n_estimators = 1 : max_depth = 1 : 0.17632241813602015\n",
      "n_estimators = 1 : max_depth = 2 : 0.3781094527363184\n",
      "n_estimators = 1 : max_depth = 3 : 0.453765490943756\n",
      "n_estimators = 1 : max_depth = 4 : 0.501108647450111\n",
      "n_estimators = 1 : max_depth = 7 : 0.5117370892018779\n",
      "n_estimators = 1 : max_depth = 8 : 0.5267489711934157\n",
      "n_estimators = 1 : max_depth = 9 : 0.5424912689173457\n",
      "n_estimators = 4 : max_depth = 7 : 0.5483870967741935\n",
      "n_estimators = 6 : max_depth = 6 : 0.5515587529976019\n",
      "n_estimators = 7 : max_depth = 7 : 0.5531914893617021\n",
      "n_estimators = 7 : max_depth = 12 : 0.5572413793103449\n",
      "n_estimators = 9 : max_depth = 7 : 0.5592417061611376\n",
      "n_estimators = 11 : max_depth = 6 : 0.5655339805825242\n",
      "f1_score наилучшей модели на валидационной выборке: 0.5655339805825242\n"
     ]
    }
   ],
   "source": [
    "scores_data=pd.DataFrame()\n",
    "best_model = None\n",
    "best_result = 0\n",
    "for est in range(1, 20):\n",
    "     for depth in range (1, 20):\n",
    "            model_rfc = RandomForestClassifier(random_state=12345, n_estimators=est,max_depth=depth,class_weight='balanced') \n",
    "            # обучите модель с заданным количеством деревьев\n",
    "    \n",
    "            model_rfc.fit(features_upsampled, target_upsampled) # обучим модель на тренировочной выборке\n",
    "            predictions_valid = model_rfc.predict(features_valid)\n",
    "            result=f1_score(target_valid, predictions_valid)\n",
    "            if result > best_result:\n",
    "                print(\"n_estimators =\", est, \": \", end='')\n",
    "                print(\"max_depth =\", depth, \": \", end='')\n",
    "                print(f1_score(target_valid, predictions_valid))\n",
    "                best_model =model_rfc # сохраним наилучшую модель\n",
    "                best_result =result #  сохраним наилучшее значение метрики на валидационных данных\n",
    "                \n",
    "                temp_score_data=pd.DataFrame({'est':[est],\n",
    "                                  'depth':[depth],\n",
    "                                  'score':[result]})\n",
    "    \n",
    "                scores_data=scores_data.append(temp_score_data)\n",
    "                \n",
    "print(\"f1_score наилучшей модели на валидационной выборке:\", best_result)"
   ]
  },
  {
   "cell_type": "markdown",
   "metadata": {},
   "source": [
    "Проверим модель на тестовой выборке"
   ]
  },
  {
   "cell_type": "code",
   "execution_count": 50,
   "metadata": {},
   "outputs": [
    {
     "data": {
      "text/plain": [
       "0.6104651162790697"
      ]
     },
     "execution_count": 50,
     "metadata": {},
     "output_type": "execute_result"
    }
   ],
   "source": [
    "predictions_test = model_rfc.predict(features_test)\n",
    "result=f1_score(target_test, predictions_test)\n",
    "result"
   ]
  },
  {
   "cell_type": "markdown",
   "metadata": {},
   "source": [
    " "
   ]
  },
  {
   "cell_type": "markdown",
   "metadata": {},
   "source": [
    "#### Использование случайного леса совместно с GridSearchCV"
   ]
  },
  {
   "cell_type": "markdown",
   "metadata": {},
   "source": [
    "т.к. валидационная выборка тут не нужна, то мы можем увеличить за счет нее объем наших обучающих данных"
   ]
  },
  {
   "cell_type": "code",
   "execution_count": 51,
   "metadata": {},
   "outputs": [
    {
     "data": {
      "text/plain": [
       "(7027, 11)"
      ]
     },
     "execution_count": 51,
     "metadata": {},
     "output_type": "execute_result"
    }
   ],
   "source": [
    "target = df['Exited']\n",
    "features = df.drop('Exited', axis=1)\n",
    "\n",
    "features_train, features_test, target_train, target_test = train_test_split(\n",
    "    features, target, test_size=0.20, random_state=12345)\n",
    "features_train.shape"
   ]
  },
  {
   "cell_type": "code",
   "execution_count": 52,
   "metadata": {},
   "outputs": [
    {
     "data": {
      "text/plain": [
       "(1757, 11)"
      ]
     },
     "execution_count": 52,
     "metadata": {},
     "output_type": "execute_result"
    }
   ],
   "source": [
    "features_test.shape"
   ]
  },
  {
   "cell_type": "markdown",
   "metadata": {},
   "source": [
    "снова отнормируем данные "
   ]
  },
  {
   "cell_type": "code",
   "execution_count": 53,
   "metadata": {},
   "outputs": [],
   "source": [
    "numeric = ['CreditScore', 'Age', 'Tenure','Balance','EstimatedSalary']\n",
    "scaler = StandardScaler()\n",
    "scaler.fit(features_train[numeric]) \n",
    "\n",
    "features_train[numeric] = scaler.transform(features_train[numeric])\n",
    "features_test[numeric] = scaler.transform(features_test[numeric]) \n"
   ]
  },
  {
   "cell_type": "markdown",
   "metadata": {},
   "source": [
    "и сбалансируем"
   ]
  },
  {
   "cell_type": "code",
   "execution_count": 54,
   "metadata": {},
   "outputs": [
    {
     "data": {
      "text/plain": [
       "0    5597\n",
       "1    1430\n",
       "Name: Exited, dtype: int64"
      ]
     },
     "execution_count": 54,
     "metadata": {},
     "output_type": "execute_result"
    }
   ],
   "source": [
    "target_train.value_counts()"
   ]
  },
  {
   "cell_type": "code",
   "execution_count": 55,
   "metadata": {},
   "outputs": [],
   "source": [
    "features_upsampled, target_upsampled = upsample(features_train, target_train, 4)"
   ]
  },
  {
   "cell_type": "code",
   "execution_count": 56,
   "metadata": {},
   "outputs": [
    {
     "data": {
      "text/plain": [
       "1    5720\n",
       "0    5597\n",
       "Name: Exited, dtype: int64"
      ]
     },
     "execution_count": 56,
     "metadata": {},
     "output_type": "execute_result"
    }
   ],
   "source": [
    "target_upsampled.value_counts()"
   ]
  },
  {
   "cell_type": "markdown",
   "metadata": {},
   "source": [
    "Обучим нашу модель"
   ]
  },
  {
   "cell_type": "code",
   "execution_count": 57,
   "metadata": {},
   "outputs": [
    {
     "name": "stdout",
     "output_type": "stream",
     "text": [
      "{'max_depth': 9, 'n_estimators': 23}\n",
      "0.6226415094339622\n"
     ]
    }
   ],
   "source": [
    "clf_rf_cv=RandomForestClassifier(random_state=12345,class_weight='balanced')\n",
    "parametrs={\n",
    "    'n_estimators':range(5,30),\n",
    "    'max_depth':range(3,10),\n",
    "}\n",
    "gr=GridSearchCV(clf_rf_cv,parametrs, cv=5)\n",
    "gr.fit(features_upsampled, target_upsampled)\n",
    "\n",
    "predictions_test = gr.predict(features_test)\n",
    "result=f1_score(target_test, predictions_test)\n",
    "\n",
    "print(gr.best_params_)\n",
    "print(result)"
   ]
  },
  {
   "cell_type": "markdown",
   "metadata": {},
   "source": [
    "Почему то при использовании GridSearchCV результат не получается лучше...."
   ]
  },
  {
   "cell_type": "markdown",
   "metadata": {},
   "source": [
    " "
   ]
  },
  {
   "cell_type": "markdown",
   "metadata": {},
   "source": [
    " "
   ]
  },
  {
   "cell_type": "markdown",
   "metadata": {},
   "source": [
    "#### Обучим случайный лес на более полной выборке и проверим на тестовой"
   ]
  },
  {
   "cell_type": "code",
   "execution_count": 58,
   "metadata": {},
   "outputs": [
    {
     "name": "stdout",
     "output_type": "stream",
     "text": [
      "f1_score наилучшей модели на тестовой выборке: 0.613931523022432\n"
     ]
    }
   ],
   "source": [
    "model_rfc_2 = RandomForestClassifier(random_state=12345, n_estimators=13,max_depth=9,class_weight='balanced') \n",
    "model_rfc_2.fit(features_upsampled, target_upsampled) # обучим модель на тренировочной выборке\n",
    "predictions_test_2 = model_rfc_2.predict(features_test)\n",
    "result_2=f1_score(target_test, predictions_test_2)    \n",
    "print(\"f1_score наилучшей модели на тестовой выборке:\", result_2)"
   ]
  },
  {
   "cell_type": "markdown",
   "metadata": {},
   "source": [
    " "
   ]
  },
  {
   "cell_type": "markdown",
   "metadata": {},
   "source": [
    " "
   ]
  },
  {
   "cell_type": "markdown",
   "metadata": {},
   "source": [
    "#### Посмотрим метрики:"
   ]
  },
  {
   "cell_type": "code",
   "execution_count": 59,
   "metadata": {},
   "outputs": [
    {
     "data": {
      "text/plain": [
       "array([[1173,  218],\n",
       "       [ 102,  264]], dtype=int64)"
      ]
     },
     "execution_count": 59,
     "metadata": {},
     "output_type": "execute_result"
    }
   ],
   "source": [
    "confusion_matrix(target_test, predictions_test)"
   ]
  },
  {
   "cell_type": "code",
   "execution_count": 60,
   "metadata": {},
   "outputs": [
    {
     "data": {
      "text/plain": [
       "0.7213114754098361"
      ]
     },
     "execution_count": 60,
     "metadata": {},
     "output_type": "execute_result"
    }
   ],
   "source": [
    "recall_score(target_test,predictions_test)"
   ]
  },
  {
   "cell_type": "code",
   "execution_count": 61,
   "metadata": {},
   "outputs": [
    {
     "data": {
      "text/plain": [
       "0.5477178423236515"
      ]
     },
     "execution_count": 61,
     "metadata": {},
     "output_type": "execute_result"
    }
   ],
   "source": [
    "precision_score(target_test,predictions_test)"
   ]
  },
  {
   "cell_type": "markdown",
   "metadata": {},
   "source": [
    " "
   ]
  },
  {
   "cell_type": "markdown",
   "metadata": {},
   "source": [
    "Построим ROC - кривую"
   ]
  },
  {
   "cell_type": "code",
   "execution_count": 62,
   "metadata": {},
   "outputs": [
    {
     "data": {
      "text/plain": [
       "Text(0.5, 1.0, 'ROC-кривая')"
      ]
     },
     "execution_count": 62,
     "metadata": {},
     "output_type": "execute_result"
    },
    {
     "data": {
      "image/png": "[encoded data removed]",
      "text/plain": [
       "<Figure size 432x288 with 1 Axes>"
      ]
     },
     "metadata": {
      "needs_background": "light"
     },
     "output_type": "display_data"
    }
   ],
   "source": [
    "probabilities_test = model_rfc.predict_proba(features_test)\n",
    "probabilities_one_test = probabilities_test[:, 1]\n",
    "fpr, tpr, thresholds = roc_curve(target_test, probabilities_one_test) \n",
    "plt.figure()\n",
    "plt.plot([0, 1], [0, 1], linestyle='--')\n",
    "\n",
    "plt.plot(fpr, tpr)\n",
    "plt.xlim([0.0, 1.0])\n",
    "plt.ylim([0.0, 1.0])\n",
    "plt.xlabel('False Positive Rate')\n",
    "plt.ylabel('True Positive Rate')\n",
    "plt.title('ROC-кривая')\n"
   ]
  },
  {
   "cell_type": "markdown",
   "metadata": {},
   "source": [
    "Посмотрим метрику roc_auc"
   ]
  },
  {
   "cell_type": "code",
   "execution_count": 63,
   "metadata": {},
   "outputs": [
    {
     "name": "stdout",
     "output_type": "stream",
     "text": [
      "0.840666776663406\n"
     ]
    }
   ],
   "source": [
    "probabilities_test = model_rfc.predict_proba(features_test)\n",
    "probabilities_one_test = probabilities_test[:, 1]\n",
    "auc_roc = roc_auc_score(target_test, probabilities_one_test)\n",
    "print(roc_auc_score(target_test, probabilities_one_test))\n"
   ]
  },
  {
   "cell_type": "markdown",
   "metadata": {},
   "source": [
    " "
   ]
  },
  {
   "cell_type": "markdown",
   "metadata": {},
   "source": [
    " "
   ]
  },
  {
   "cell_type": "markdown",
   "metadata": {},
   "source": [
    "Для проверки адекватности модели мы использовали DummyClassifier. "
   ]
  },
  {
   "cell_type": "code",
   "execution_count": 64,
   "metadata": {},
   "outputs": [
    {
     "data": {
      "text/plain": [
       "0.3447951012717852"
      ]
     },
     "execution_count": 64,
     "metadata": {},
     "output_type": "execute_result"
    }
   ],
   "source": [
    "dummy = DummyClassifier(strategy='most_frequent').fit(features_upsampled, target_upsampled)\n",
    "dummy_pred = dummy.predict(features_test)\n",
    "f1_score(target_test, dummy_pred)"
   ]
  },
  {
   "cell_type": "code",
   "execution_count": 65,
   "metadata": {},
   "outputs": [
    {
     "data": {
      "image/png": "[encoded data removed]",
      "text/plain": [
       "<Figure size 432x288 with 1 Axes>"
      ]
     },
     "metadata": {
      "needs_background": "light"
     },
     "output_type": "display_data"
    }
   ],
   "source": [
    "importances = pd.DataFrame({'feature':features_upsampled.columns,'importance':np.round(model_rfc.feature_importances_,3)})\n",
    "importances = importances.sort_values('importance',ascending=False).set_index('feature')\n",
    "importances.plot.bar();"
   ]
  },
  {
   "cell_type": "markdown",
   "metadata": {},
   "source": [
    "Наиболее ценной метрикой оказался возраст. Когда удаляем выбросы(возраст выше 63 лет), качество модели ростет."
   ]
  },
  {
   "cell_type": "markdown",
   "metadata": {},
   "source": [
    " "
   ]
  },
  {
   "cell_type": "markdown",
   "metadata": {},
   "source": [
    "# Выводы:\n",
    "  - Мы провели краткий анализ исходных данных и подготовили их к дальнейшей обработке\n",
    "  - Оценили баланс классов\n",
    "  - Построили модель машинного обучения на модели с дисбалансом\n",
    "  - Устронили дисбаланс классов\n",
    "  - Построенная модель машинного обучения (случайный лес) по f1-метрики превышает 0.59\n",
    "  - метрики precision получились в районе 0.54 и recall получились в районе 0.72\n",
    "  - метрика roc_auc = 0.84\n",
    "  - наиболее ценной метрикой оказался возраст"
   ]
  }
 ],
 "metadata": {
  "ExecuteTimeLog": [
   {
    "duration": 1298,
    "start_time": "2021-09-09T14:02:21.877Z"
   },
   {
    "duration": 385,
    "start_time": "2021-09-09T14:02:23.177Z"
   },
   {
    "duration": 28,
    "start_time": "2021-09-09T14:03:03.349Z"
   },
   {
    "duration": 7,
    "start_time": "2021-09-09T14:03:06.374Z"
   },
   {
    "duration": 14,
    "start_time": "2021-09-09T14:03:07.870Z"
   },
   {
    "duration": 13,
    "start_time": "2021-09-09T14:03:08.391Z"
   },
   {
    "duration": 1089,
    "start_time": "2021-09-09T14:03:09.509Z"
   },
   {
    "duration": 7,
    "start_time": "2021-09-09T14:04:06.906Z"
   },
   {
    "duration": 8,
    "start_time": "2021-09-09T14:04:07.544Z"
   },
   {
    "duration": 195,
    "start_time": "2021-09-09T14:04:09.565Z"
   },
   {
    "duration": 202,
    "start_time": "2021-09-09T14:04:10.085Z"
   },
   {
    "duration": 422,
    "start_time": "2021-09-09T14:04:10.886Z"
   },
   {
    "duration": 284,
    "start_time": "2021-09-09T14:04:11.310Z"
   },
   {
    "duration": 15,
    "start_time": "2021-09-09T14:05:57.500Z"
   },
   {
    "duration": 5,
    "start_time": "2021-09-09T14:06:03.258Z"
   },
   {
    "duration": 19,
    "start_time": "2021-09-09T14:06:50.656Z"
   },
   {
    "duration": 15,
    "start_time": "2021-09-09T14:06:52.264Z"
   },
   {
    "duration": 22,
    "start_time": "2021-09-09T14:06:57.512Z"
   },
   {
    "duration": 6,
    "start_time": "2021-09-09T14:07:22.976Z"
   },
   {
    "duration": 8,
    "start_time": "2021-09-09T14:07:24.372Z"
   },
   {
    "duration": 23,
    "start_time": "2021-09-09T14:07:24.562Z"
   },
   {
    "duration": 9,
    "start_time": "2021-09-09T14:07:24.861Z"
   },
   {
    "duration": 7,
    "start_time": "2021-09-09T14:07:39.104Z"
   },
   {
    "duration": 4,
    "start_time": "2021-09-09T14:07:39.327Z"
   },
   {
    "duration": 5,
    "start_time": "2021-09-09T14:07:39.551Z"
   },
   {
    "duration": 3,
    "start_time": "2021-09-09T14:14:41.319Z"
   },
   {
    "duration": 3,
    "start_time": "2021-09-09T14:14:42.495Z"
   },
   {
    "duration": 10,
    "start_time": "2021-09-09T14:14:43.735Z"
   },
   {
    "duration": 22,
    "start_time": "2021-09-09T14:14:44.216Z"
   },
   {
    "duration": 7,
    "start_time": "2021-09-09T14:14:51.863Z"
   },
   {
    "duration": 4,
    "start_time": "2021-09-09T14:16:51.609Z"
   },
   {
    "duration": 11930,
    "start_time": "2021-09-09T14:16:59.003Z"
   },
   {
    "duration": 7,
    "start_time": "2021-09-09T14:17:10.935Z"
   },
   {
    "duration": 16,
    "start_time": "2021-09-09T14:17:10.944Z"
   },
   {
    "duration": 13,
    "start_time": "2021-09-09T14:17:19.185Z"
   },
   {
    "duration": 4,
    "start_time": "2021-09-09T14:17:20.326Z"
   },
   {
    "duration": 5,
    "start_time": "2021-09-09T14:17:20.832Z"
   },
   {
    "duration": 6,
    "start_time": "2021-09-09T14:17:21.033Z"
   },
   {
    "duration": 37,
    "start_time": "2021-09-09T14:17:28.440Z"
   },
   {
    "duration": 8,
    "start_time": "2021-09-09T14:17:29.367Z"
   },
   {
    "duration": 15692,
    "start_time": "2021-09-09T14:17:37.052Z"
   },
   {
    "duration": 17,
    "start_time": "2021-09-09T14:17:52.746Z"
   },
   {
    "duration": 71387,
    "start_time": "2021-09-09T14:17:55.065Z"
   },
   {
    "duration": 27,
    "start_time": "2021-09-09T14:19:06.454Z"
   },
   {
    "duration": 7,
    "start_time": "2021-09-09T14:19:06.483Z"
   },
   {
    "duration": 6,
    "start_time": "2021-09-09T14:19:06.493Z"
   },
   {
    "duration": 8,
    "start_time": "2021-09-09T14:19:06.501Z"
   },
   {
    "duration": 229,
    "start_time": "2021-09-09T14:19:06.511Z"
   },
   {
    "duration": 17,
    "start_time": "2021-09-09T14:19:06.743Z"
   },
   {
    "duration": 10,
    "start_time": "2021-09-09T14:19:06.777Z"
   },
   {
    "duration": 93,
    "start_time": "2021-09-10T05:46:47.931Z"
   },
   {
    "duration": 86,
    "start_time": "2021-09-10T05:50:47.114Z"
   },
   {
    "duration": 1122,
    "start_time": "2021-09-10T05:56:47.526Z"
   },
   {
    "duration": 312,
    "start_time": "2021-09-10T05:56:48.650Z"
   },
   {
    "duration": 3,
    "start_time": "2021-09-10T05:56:48.964Z"
   },
   {
    "duration": 25,
    "start_time": "2021-09-10T05:56:48.969Z"
   },
   {
    "duration": 6,
    "start_time": "2021-09-10T05:56:48.996Z"
   },
   {
    "duration": 8,
    "start_time": "2021-09-10T05:56:49.004Z"
   },
   {
    "duration": 6,
    "start_time": "2021-09-10T05:56:49.014Z"
   },
   {
    "duration": 890,
    "start_time": "2021-09-10T05:56:49.021Z"
   },
   {
    "duration": 6,
    "start_time": "2021-09-10T05:56:49.914Z"
   },
   {
    "duration": 6,
    "start_time": "2021-09-10T05:56:49.922Z"
   },
   {
    "duration": 200,
    "start_time": "2021-09-10T05:56:49.929Z"
   },
   {
    "duration": 184,
    "start_time": "2021-09-10T05:56:50.130Z"
   },
   {
    "duration": 378,
    "start_time": "2021-09-10T05:56:50.316Z"
   },
   {
    "duration": 246,
    "start_time": "2021-09-10T05:56:50.695Z"
   },
   {
    "duration": 12,
    "start_time": "2021-09-10T05:56:50.942Z"
   },
   {
    "duration": 9,
    "start_time": "2021-09-10T05:56:50.955Z"
   },
   {
    "duration": 30,
    "start_time": "2021-09-10T05:56:50.965Z"
   },
   {
    "duration": 20,
    "start_time": "2021-09-10T05:56:50.996Z"
   },
   {
    "duration": 22,
    "start_time": "2021-09-10T05:56:51.017Z"
   },
   {
    "duration": 5,
    "start_time": "2021-09-10T05:56:51.040Z"
   },
   {
    "duration": 11,
    "start_time": "2021-09-10T05:56:51.046Z"
   },
   {
    "duration": 10,
    "start_time": "2021-09-10T05:56:51.059Z"
   },
   {
    "duration": 15,
    "start_time": "2021-09-10T05:56:51.070Z"
   },
   {
    "duration": 12,
    "start_time": "2021-09-10T05:56:51.087Z"
   },
   {
    "duration": 12,
    "start_time": "2021-09-10T05:56:51.100Z"
   },
   {
    "duration": 11,
    "start_time": "2021-09-10T05:56:51.113Z"
   },
   {
    "duration": 355,
    "start_time": "2021-09-10T05:56:51.129Z"
   },
   {
    "duration": -1025,
    "start_time": "2021-09-10T05:56:52.512Z"
   },
   {
    "duration": -1030,
    "start_time": "2021-09-10T05:56:52.519Z"
   },
   {
    "duration": -1032,
    "start_time": "2021-09-10T05:56:52.522Z"
   },
   {
    "duration": -1035,
    "start_time": "2021-09-10T05:56:52.526Z"
   },
   {
    "duration": -1046,
    "start_time": "2021-09-10T05:56:52.539Z"
   },
   {
    "duration": -1049,
    "start_time": "2021-09-10T05:56:52.543Z"
   },
   {
    "duration": -1065,
    "start_time": "2021-09-10T05:56:52.560Z"
   },
   {
    "duration": -1070,
    "start_time": "2021-09-10T05:56:52.567Z"
   },
   {
    "duration": -1072,
    "start_time": "2021-09-10T05:56:52.570Z"
   },
   {
    "duration": -1074,
    "start_time": "2021-09-10T05:56:52.573Z"
   },
   {
    "duration": -1074,
    "start_time": "2021-09-10T05:56:52.575Z"
   },
   {
    "duration": -1076,
    "start_time": "2021-09-10T05:56:52.578Z"
   },
   {
    "duration": -1081,
    "start_time": "2021-09-10T05:56:52.584Z"
   },
   {
    "duration": -1082,
    "start_time": "2021-09-10T05:56:52.586Z"
   },
   {
    "duration": -1083,
    "start_time": "2021-09-10T05:56:52.589Z"
   },
   {
    "duration": -1085,
    "start_time": "2021-09-10T05:56:52.592Z"
   },
   {
    "duration": -1087,
    "start_time": "2021-09-10T05:56:52.595Z"
   },
   {
    "duration": -1091,
    "start_time": "2021-09-10T05:56:52.600Z"
   },
   {
    "duration": -1092,
    "start_time": "2021-09-10T05:56:52.602Z"
   },
   {
    "duration": -1094,
    "start_time": "2021-09-10T05:56:52.605Z"
   },
   {
    "duration": -1096,
    "start_time": "2021-09-10T05:56:52.608Z"
   },
   {
    "duration": -1099,
    "start_time": "2021-09-10T05:56:52.612Z"
   },
   {
    "duration": -1105,
    "start_time": "2021-09-10T05:56:52.618Z"
   },
   {
    "duration": -1106,
    "start_time": "2021-09-10T05:56:52.620Z"
   },
   {
    "duration": -1108,
    "start_time": "2021-09-10T05:56:52.623Z"
   },
   {
    "duration": 214,
    "start_time": "2021-09-10T05:59:35.050Z"
   },
   {
    "duration": 1080,
    "start_time": "2021-09-10T05:59:56.946Z"
   },
   {
    "duration": 387,
    "start_time": "2021-09-10T05:59:58.028Z"
   },
   {
    "duration": 2,
    "start_time": "2021-09-10T05:59:58.417Z"
   },
   {
    "duration": 35,
    "start_time": "2021-09-10T05:59:58.421Z"
   },
   {
    "duration": 16,
    "start_time": "2021-09-10T05:59:58.458Z"
   },
   {
    "duration": 22,
    "start_time": "2021-09-10T05:59:58.475Z"
   },
   {
    "duration": 12,
    "start_time": "2021-09-10T05:59:58.498Z"
   },
   {
    "duration": 886,
    "start_time": "2021-09-10T05:59:58.512Z"
   },
   {
    "duration": 6,
    "start_time": "2021-09-10T05:59:59.400Z"
   },
   {
    "duration": 13,
    "start_time": "2021-09-10T05:59:59.408Z"
   },
   {
    "duration": 201,
    "start_time": "2021-09-10T05:59:59.423Z"
   },
   {
    "duration": 193,
    "start_time": "2021-09-10T05:59:59.626Z"
   },
   {
    "duration": 396,
    "start_time": "2021-09-10T05:59:59.821Z"
   },
   {
    "duration": 268,
    "start_time": "2021-09-10T06:00:00.219Z"
   },
   {
    "duration": 15,
    "start_time": "2021-09-10T06:00:00.489Z"
   },
   {
    "duration": 25,
    "start_time": "2021-09-10T06:00:00.506Z"
   },
   {
    "duration": 23,
    "start_time": "2021-09-10T06:00:00.533Z"
   },
   {
    "duration": 28,
    "start_time": "2021-09-10T06:00:00.559Z"
   },
   {
    "duration": 20,
    "start_time": "2021-09-10T06:00:00.588Z"
   },
   {
    "duration": 7,
    "start_time": "2021-09-10T06:00:00.610Z"
   },
   {
    "duration": 22,
    "start_time": "2021-09-10T06:00:00.619Z"
   },
   {
    "duration": 25,
    "start_time": "2021-09-10T06:00:00.642Z"
   },
   {
    "duration": 24,
    "start_time": "2021-09-10T06:00:00.672Z"
   },
   {
    "duration": 21,
    "start_time": "2021-09-10T06:00:00.699Z"
   },
   {
    "duration": 19,
    "start_time": "2021-09-10T06:00:00.722Z"
   },
   {
    "duration": 29,
    "start_time": "2021-09-10T06:00:00.742Z"
   },
   {
    "duration": 26,
    "start_time": "2021-09-10T06:00:00.773Z"
   },
   {
    "duration": 27,
    "start_time": "2021-09-10T06:00:00.800Z"
   },
   {
    "duration": 21,
    "start_time": "2021-09-10T06:00:00.829Z"
   },
   {
    "duration": 41,
    "start_time": "2021-09-10T06:00:00.851Z"
   },
   {
    "duration": 31,
    "start_time": "2021-09-10T06:00:00.893Z"
   },
   {
    "duration": 7985,
    "start_time": "2021-09-10T06:00:00.926Z"
   },
   {
    "duration": 7,
    "start_time": "2021-09-10T06:00:08.913Z"
   },
   {
    "duration": 58,
    "start_time": "2021-09-10T06:00:08.921Z"
   },
   {
    "duration": 4,
    "start_time": "2021-09-10T06:00:08.980Z"
   },
   {
    "duration": 17,
    "start_time": "2021-09-10T06:00:08.986Z"
   },
   {
    "duration": 33,
    "start_time": "2021-09-10T06:00:09.005Z"
   },
   {
    "duration": 9,
    "start_time": "2021-09-10T06:00:09.039Z"
   },
   {
    "duration": 7,
    "start_time": "2021-09-10T06:00:09.050Z"
   },
   {
    "duration": 28,
    "start_time": "2021-09-10T06:00:09.059Z"
   },
   {
    "duration": 200,
    "start_time": "2021-09-10T06:00:09.089Z"
   },
   {
    "duration": 10227,
    "start_time": "2021-09-10T06:00:09.291Z"
   },
   {
    "duration": 12,
    "start_time": "2021-09-10T06:00:19.520Z"
   },
   {
    "duration": 44052,
    "start_time": "2021-09-10T06:00:19.533Z"
   },
   {
    "duration": 10,
    "start_time": "2021-09-10T06:01:03.587Z"
   },
   {
    "duration": 6,
    "start_time": "2021-09-10T06:01:03.599Z"
   },
   {
    "duration": 5,
    "start_time": "2021-09-10T06:01:03.606Z"
   },
   {
    "duration": 4,
    "start_time": "2021-09-10T06:01:03.613Z"
   },
   {
    "duration": 202,
    "start_time": "2021-09-10T06:01:03.619Z"
   },
   {
    "duration": 12,
    "start_time": "2021-09-10T06:01:03.823Z"
   },
   {
    "duration": 6,
    "start_time": "2021-09-10T06:01:03.837Z"
   },
   {
    "duration": 11,
    "start_time": "2021-09-10T06:06:38.637Z"
   },
   {
    "duration": 3,
    "start_time": "2021-09-10T06:06:39.438Z"
   },
   {
    "duration": 4,
    "start_time": "2021-09-10T06:06:40.237Z"
   },
   {
    "duration": 5,
    "start_time": "2021-09-10T06:06:41.085Z"
   },
   {
    "duration": 24,
    "start_time": "2021-09-10T06:06:59.175Z"
   },
   {
    "duration": 10,
    "start_time": "2021-09-10T06:07:00.380Z"
   },
   {
    "duration": 11308,
    "start_time": "2021-09-10T06:07:05.684Z"
   },
   {
    "duration": 13,
    "start_time": "2021-09-10T06:07:19.518Z"
   },
   {
    "duration": 47853,
    "start_time": "2021-09-10T06:08:36.782Z"
   },
   {
    "duration": 16,
    "start_time": "2021-09-10T06:14:20.882Z"
   },
   {
    "duration": 8,
    "start_time": "2021-09-10T06:14:41.483Z"
   },
   {
    "duration": 20,
    "start_time": "2021-09-10T06:15:16.599Z"
   },
   {
    "duration": 9,
    "start_time": "2021-09-10T06:15:25.181Z"
   },
   {
    "duration": 4,
    "start_time": "2021-09-10T06:15:31.023Z"
   },
   {
    "duration": 10,
    "start_time": "2021-09-10T06:16:54.642Z"
   },
   {
    "duration": 3,
    "start_time": "2021-09-10T06:16:54.813Z"
   },
   {
    "duration": 17,
    "start_time": "2021-09-10T06:16:56.761Z"
   },
   {
    "duration": 6,
    "start_time": "2021-09-10T06:17:10.584Z"
   },
   {
    "duration": 13,
    "start_time": "2021-09-10T06:17:13.719Z"
   },
   {
    "duration": 6,
    "start_time": "2021-09-10T06:17:35.397Z"
   },
   {
    "duration": 61393,
    "start_time": "2021-09-10T06:17:56.405Z"
   },
   {
    "duration": 86,
    "start_time": "2021-09-10T06:26:34.898Z"
   },
   {
    "duration": 7,
    "start_time": "2021-09-10T06:27:34.614Z"
   },
   {
    "duration": 16896,
    "start_time": "2021-09-10T06:31:34.647Z"
   },
   {
    "duration": 30129,
    "start_time": "2021-09-10T06:32:06.132Z"
   },
   {
    "duration": 29710,
    "start_time": "2021-09-10T06:32:51.958Z"
   },
   {
    "duration": 239,
    "start_time": "2021-09-10T06:42:05.730Z"
   },
   {
    "duration": 3,
    "start_time": "2021-09-10T06:42:06.320Z"
   },
   {
    "duration": 20,
    "start_time": "2021-09-10T06:42:06.526Z"
   },
   {
    "duration": 6,
    "start_time": "2021-09-10T06:42:24.949Z"
   },
   {
    "duration": 5,
    "start_time": "2021-09-10T06:42:36.198Z"
   },
   {
    "duration": 199,
    "start_time": "2021-09-10T06:46:11.479Z"
   },
   {
    "duration": 154,
    "start_time": "2021-09-10T06:46:29.427Z"
   },
   {
    "duration": 7,
    "start_time": "2021-09-10T06:47:38.126Z"
   },
   {
    "duration": 628,
    "start_time": "2021-09-10T06:48:02.349Z"
   },
   {
    "duration": 8,
    "start_time": "2021-09-10T06:48:09.559Z"
   },
   {
    "duration": 8,
    "start_time": "2021-09-10T06:48:35.118Z"
   },
   {
    "duration": 164,
    "start_time": "2021-09-10T06:48:54.679Z"
   },
   {
    "duration": 8,
    "start_time": "2021-09-10T06:49:08.487Z"
   },
   {
    "duration": 8,
    "start_time": "2021-09-10T06:49:10.719Z"
   },
   {
    "duration": 145,
    "start_time": "2021-09-10T06:49:46.847Z"
   },
   {
    "duration": 158,
    "start_time": "2021-09-10T06:49:57.619Z"
   },
   {
    "duration": 159,
    "start_time": "2021-09-10T06:50:04.979Z"
   },
   {
    "duration": 149,
    "start_time": "2021-09-10T06:50:43.030Z"
   },
   {
    "duration": 169,
    "start_time": "2021-09-10T06:50:59.420Z"
   },
   {
    "duration": 155,
    "start_time": "2021-09-10T06:51:26.152Z"
   },
   {
    "duration": 9,
    "start_time": "2021-09-10T06:52:31.547Z"
   },
   {
    "duration": 6,
    "start_time": "2021-09-10T06:52:44.352Z"
   },
   {
    "duration": 8,
    "start_time": "2021-09-10T06:52:52.562Z"
   },
   {
    "duration": 5,
    "start_time": "2021-09-10T06:53:07.430Z"
   },
   {
    "duration": 5,
    "start_time": "2021-09-10T06:53:10.271Z"
   },
   {
    "duration": 226,
    "start_time": "2021-09-10T06:53:30.033Z"
   },
   {
    "duration": 8,
    "start_time": "2021-09-10T06:54:06.031Z"
   },
   {
    "duration": 287,
    "start_time": "2021-09-10T06:54:21.318Z"
   },
   {
    "duration": 156,
    "start_time": "2021-09-10T06:54:54.671Z"
   },
   {
    "duration": 20,
    "start_time": "2021-09-10T06:55:18.481Z"
   },
   {
    "duration": 8,
    "start_time": "2021-09-10T06:55:40.073Z"
   },
   {
    "duration": 8,
    "start_time": "2021-09-10T06:55:43.559Z"
   },
   {
    "duration": 15,
    "start_time": "2021-09-10T06:55:47.859Z"
   },
   {
    "duration": 303,
    "start_time": "2021-09-10T06:56:17.119Z"
   },
   {
    "duration": 150,
    "start_time": "2021-09-10T06:56:27.763Z"
   },
   {
    "duration": 9,
    "start_time": "2021-09-10T06:56:42.870Z"
   },
   {
    "duration": 8,
    "start_time": "2021-09-10T06:57:28.741Z"
   },
   {
    "duration": 8,
    "start_time": "2021-09-10T06:57:35.596Z"
   },
   {
    "duration": 13,
    "start_time": "2021-09-10T06:57:38.507Z"
   },
   {
    "duration": 14,
    "start_time": "2021-09-10T06:58:36.054Z"
   },
   {
    "duration": 20,
    "start_time": "2021-09-10T06:58:46.159Z"
   },
   {
    "duration": 6,
    "start_time": "2021-09-10T06:59:27.111Z"
   },
   {
    "duration": 8,
    "start_time": "2021-09-10T06:59:30.391Z"
   },
   {
    "duration": 144,
    "start_time": "2021-09-10T06:59:40.231Z"
   },
   {
    "duration": 2,
    "start_time": "2021-09-10T07:00:41.592Z"
   },
   {
    "duration": 3,
    "start_time": "2021-09-10T07:00:41.750Z"
   },
   {
    "duration": 1112,
    "start_time": "2021-09-10T07:01:02.435Z"
   },
   {
    "duration": 594,
    "start_time": "2021-09-10T07:01:03.549Z"
   },
   {
    "duration": 3,
    "start_time": "2021-09-10T07:01:04.145Z"
   },
   {
    "duration": 25,
    "start_time": "2021-09-10T07:01:04.150Z"
   },
   {
    "duration": 169,
    "start_time": "2021-09-10T07:01:04.176Z"
   },
   {
    "duration": 21,
    "start_time": "2021-09-10T07:01:04.347Z"
   },
   {
    "duration": 18,
    "start_time": "2021-09-10T07:01:04.370Z"
   },
   {
    "duration": 188,
    "start_time": "2021-09-10T07:01:04.391Z"
   },
   {
    "duration": 172,
    "start_time": "2021-09-10T07:01:04.581Z"
   },
   {
    "duration": 11,
    "start_time": "2021-09-10T07:01:04.755Z"
   },
   {
    "duration": 24,
    "start_time": "2021-09-10T07:01:04.768Z"
   },
   {
    "duration": 981,
    "start_time": "2021-09-10T07:01:04.794Z"
   },
   {
    "duration": 8,
    "start_time": "2021-09-10T07:01:05.784Z"
   },
   {
    "duration": 6,
    "start_time": "2021-09-10T07:01:05.794Z"
   },
   {
    "duration": 196,
    "start_time": "2021-09-10T07:01:05.802Z"
   },
   {
    "duration": 179,
    "start_time": "2021-09-10T07:01:06.000Z"
   },
   {
    "duration": 322,
    "start_time": "2021-09-10T07:01:06.181Z"
   },
   {
    "duration": 242,
    "start_time": "2021-09-10T07:01:06.505Z"
   },
   {
    "duration": 11,
    "start_time": "2021-09-10T07:01:06.749Z"
   },
   {
    "duration": 6,
    "start_time": "2021-09-10T07:01:06.762Z"
   },
   {
    "duration": 16,
    "start_time": "2021-09-10T07:01:06.784Z"
   },
   {
    "duration": 14,
    "start_time": "2021-09-10T07:01:06.801Z"
   },
   {
    "duration": 16,
    "start_time": "2021-09-10T07:01:06.819Z"
   },
   {
    "duration": 5,
    "start_time": "2021-09-10T07:01:06.837Z"
   },
   {
    "duration": 42,
    "start_time": "2021-09-10T07:01:06.844Z"
   },
   {
    "duration": 4,
    "start_time": "2021-09-10T07:01:06.887Z"
   },
   {
    "duration": 6,
    "start_time": "2021-09-10T07:01:06.892Z"
   },
   {
    "duration": 7,
    "start_time": "2021-09-10T07:01:06.900Z"
   },
   {
    "duration": 4,
    "start_time": "2021-09-10T07:01:06.908Z"
   },
   {
    "duration": 7,
    "start_time": "2021-09-10T07:01:06.913Z"
   },
   {
    "duration": 4,
    "start_time": "2021-09-10T07:01:06.922Z"
   },
   {
    "duration": 11,
    "start_time": "2021-09-10T07:01:06.927Z"
   },
   {
    "duration": 13,
    "start_time": "2021-09-10T07:01:06.940Z"
   },
   {
    "duration": 42,
    "start_time": "2021-09-10T07:01:06.955Z"
   },
   {
    "duration": 6,
    "start_time": "2021-09-10T07:01:06.998Z"
   },
   {
    "duration": 7863,
    "start_time": "2021-09-10T07:01:07.005Z"
   },
   {
    "duration": 7,
    "start_time": "2021-09-10T07:01:14.869Z"
   },
   {
    "duration": 15,
    "start_time": "2021-09-10T07:01:14.885Z"
   },
   {
    "duration": 3,
    "start_time": "2021-09-10T07:01:14.902Z"
   },
   {
    "duration": 16,
    "start_time": "2021-09-10T07:01:14.907Z"
   },
   {
    "duration": 4,
    "start_time": "2021-09-10T07:01:14.924Z"
   },
   {
    "duration": 8,
    "start_time": "2021-09-10T07:01:14.929Z"
   },
   {
    "duration": 6,
    "start_time": "2021-09-10T07:01:14.939Z"
   },
   {
    "duration": 140,
    "start_time": "2021-09-10T07:01:14.946Z"
   },
   {
    "duration": 99,
    "start_time": "2021-09-10T07:01:15.088Z"
   },
   {
    "duration": 23682,
    "start_time": "2021-09-10T07:01:15.190Z"
   },
   {
    "duration": 17,
    "start_time": "2021-09-10T07:01:38.874Z"
   },
   {
    "duration": 8,
    "start_time": "2021-09-10T07:01:38.892Z"
   },
   {
    "duration": 4,
    "start_time": "2021-09-10T07:01:38.902Z"
   },
   {
    "duration": 18,
    "start_time": "2021-09-10T07:01:38.908Z"
   },
   {
    "duration": 5,
    "start_time": "2021-09-10T07:01:38.927Z"
   },
   {
    "duration": 13,
    "start_time": "2021-09-10T07:01:38.934Z"
   },
   {
    "duration": 37,
    "start_time": "2021-09-10T07:01:38.949Z"
   },
   {
    "duration": 91,
    "start_time": "2021-09-10T07:01:38.988Z"
   },
   {
    "duration": -1009,
    "start_time": "2021-09-10T07:01:40.090Z"
   },
   {
    "duration": -1012,
    "start_time": "2021-09-10T07:01:40.094Z"
   },
   {
    "duration": -1014,
    "start_time": "2021-09-10T07:01:40.097Z"
   },
   {
    "duration": -1019,
    "start_time": "2021-09-10T07:01:40.103Z"
   },
   {
    "duration": -1021,
    "start_time": "2021-09-10T07:01:40.106Z"
   },
   {
    "duration": -1024,
    "start_time": "2021-09-10T07:01:40.110Z"
   },
   {
    "duration": -1027,
    "start_time": "2021-09-10T07:01:40.114Z"
   },
   {
    "duration": -1032,
    "start_time": "2021-09-10T07:01:40.120Z"
   },
   {
    "duration": -1035,
    "start_time": "2021-09-10T07:01:40.124Z"
   },
   {
    "duration": 106,
    "start_time": "2021-09-10T07:07:25.401Z"
   },
   {
    "duration": 128568,
    "start_time": "2021-09-10T07:07:49.041Z"
   },
   {
    "duration": 29677,
    "start_time": "2021-09-10T07:19:00.536Z"
   },
   {
    "duration": 6,
    "start_time": "2021-09-10T07:20:18.067Z"
   },
   {
    "duration": 6,
    "start_time": "2021-09-10T07:20:20.346Z"
   },
   {
    "duration": 6,
    "start_time": "2021-09-10T07:20:20.547Z"
   },
   {
    "duration": 175,
    "start_time": "2021-09-10T07:20:22.522Z"
   },
   {
    "duration": 175,
    "start_time": "2021-09-10T07:20:55.787Z"
   },
   {
    "duration": 167,
    "start_time": "2021-09-10T07:21:08.336Z"
   },
   {
    "duration": 173,
    "start_time": "2021-09-10T07:21:35.696Z"
   },
   {
    "duration": 15,
    "start_time": "2021-09-10T07:21:42.898Z"
   },
   {
    "duration": 15,
    "start_time": "2021-09-10T07:22:22.142Z"
   },
   {
    "duration": 6,
    "start_time": "2021-09-10T07:22:30.749Z"
   },
   {
    "duration": 146,
    "start_time": "2021-09-10T07:26:57.906Z"
   },
   {
    "duration": 8,
    "start_time": "2021-09-10T07:27:29.886Z"
   },
   {
    "duration": 9,
    "start_time": "2021-09-10T07:30:00.178Z"
   },
   {
    "duration": 9,
    "start_time": "2021-09-10T07:30:05.898Z"
   },
   {
    "duration": 12,
    "start_time": "2021-09-10T07:30:17.056Z"
   },
   {
    "duration": 6,
    "start_time": "2021-09-10T07:31:07.484Z"
   },
   {
    "duration": 1126,
    "start_time": "2021-09-10T07:31:22.224Z"
   },
   {
    "duration": 269,
    "start_time": "2021-09-10T07:31:23.352Z"
   },
   {
    "duration": 3,
    "start_time": "2021-09-10T07:31:23.623Z"
   },
   {
    "duration": 28,
    "start_time": "2021-09-10T07:31:23.628Z"
   },
   {
    "duration": 161,
    "start_time": "2021-09-10T07:31:23.658Z"
   },
   {
    "duration": 9,
    "start_time": "2021-09-10T07:31:23.821Z"
   },
   {
    "duration": 15,
    "start_time": "2021-09-10T07:31:23.832Z"
   },
   {
    "duration": 35,
    "start_time": "2021-09-10T07:31:23.850Z"
   },
   {
    "duration": 172,
    "start_time": "2021-09-10T07:31:23.887Z"
   },
   {
    "duration": 33,
    "start_time": "2021-09-10T07:31:24.061Z"
   },
   {
    "duration": 6,
    "start_time": "2021-09-10T07:31:24.096Z"
   },
   {
    "duration": 197,
    "start_time": "2021-09-10T07:31:24.104Z"
   },
   {
    "duration": 173,
    "start_time": "2021-09-10T07:31:24.303Z"
   },
   {
    "duration": 14,
    "start_time": "2021-09-10T07:31:24.477Z"
   },
   {
    "duration": 8,
    "start_time": "2021-09-10T07:31:24.492Z"
   },
   {
    "duration": 982,
    "start_time": "2021-09-10T07:31:24.502Z"
   },
   {
    "duration": 6,
    "start_time": "2021-09-10T07:31:25.486Z"
   },
   {
    "duration": 7,
    "start_time": "2021-09-10T07:31:25.494Z"
   },
   {
    "duration": 198,
    "start_time": "2021-09-10T07:31:25.503Z"
   },
   {
    "duration": 202,
    "start_time": "2021-09-10T07:31:25.703Z"
   },
   {
    "duration": 332,
    "start_time": "2021-09-10T07:31:25.907Z"
   },
   {
    "duration": 269,
    "start_time": "2021-09-10T07:31:26.241Z"
   },
   {
    "duration": 13,
    "start_time": "2021-09-10T07:31:26.513Z"
   },
   {
    "duration": 10,
    "start_time": "2021-09-10T07:31:26.528Z"
   },
   {
    "duration": 21,
    "start_time": "2021-09-10T07:31:26.540Z"
   },
   {
    "duration": 30,
    "start_time": "2021-09-10T07:31:26.563Z"
   },
   {
    "duration": 18,
    "start_time": "2021-09-10T07:31:26.594Z"
   },
   {
    "duration": 5,
    "start_time": "2021-09-10T07:31:26.613Z"
   },
   {
    "duration": 6,
    "start_time": "2021-09-10T07:31:26.620Z"
   },
   {
    "duration": 5,
    "start_time": "2021-09-10T07:31:26.627Z"
   },
   {
    "duration": 7,
    "start_time": "2021-09-10T07:31:26.633Z"
   },
   {
    "duration": 8,
    "start_time": "2021-09-10T07:31:26.641Z"
   },
   {
    "duration": 35,
    "start_time": "2021-09-10T07:31:26.650Z"
   },
   {
    "duration": 6,
    "start_time": "2021-09-10T07:31:26.687Z"
   },
   {
    "duration": 4,
    "start_time": "2021-09-10T07:31:26.695Z"
   },
   {
    "duration": 6,
    "start_time": "2021-09-10T07:31:26.701Z"
   },
   {
    "duration": 10,
    "start_time": "2021-09-10T07:31:26.708Z"
   },
   {
    "duration": 18,
    "start_time": "2021-09-10T07:31:26.719Z"
   },
   {
    "duration": 5,
    "start_time": "2021-09-10T07:31:26.739Z"
   },
   {
    "duration": 8317,
    "start_time": "2021-09-10T07:31:26.745Z"
   },
   {
    "duration": 7,
    "start_time": "2021-09-10T07:31:35.064Z"
   },
   {
    "duration": 23,
    "start_time": "2021-09-10T07:31:35.072Z"
   },
   {
    "duration": 4,
    "start_time": "2021-09-10T07:31:35.097Z"
   },
   {
    "duration": 15,
    "start_time": "2021-09-10T07:31:35.102Z"
   },
   {
    "duration": 4,
    "start_time": "2021-09-10T07:31:35.118Z"
   },
   {
    "duration": 8,
    "start_time": "2021-09-10T07:31:35.123Z"
   },
   {
    "duration": 7,
    "start_time": "2021-09-10T07:31:35.132Z"
   },
   {
    "duration": 48,
    "start_time": "2021-09-10T07:31:35.140Z"
   },
   {
    "duration": 195,
    "start_time": "2021-09-10T07:31:35.190Z"
   },
   {
    "duration": 23129,
    "start_time": "2021-09-10T07:31:35.387Z"
   },
   {
    "duration": 13,
    "start_time": "2021-09-10T07:31:58.517Z"
   },
   {
    "duration": 8,
    "start_time": "2021-09-10T07:31:58.531Z"
   },
   {
    "duration": 3,
    "start_time": "2021-09-10T07:31:58.540Z"
   },
   {
    "duration": 18,
    "start_time": "2021-09-10T07:31:58.545Z"
   },
   {
    "duration": 5,
    "start_time": "2021-09-10T07:31:58.585Z"
   },
   {
    "duration": 14,
    "start_time": "2021-09-10T07:31:58.591Z"
   },
   {
    "duration": 5,
    "start_time": "2021-09-10T07:31:58.606Z"
   },
   {
    "duration": 128223,
    "start_time": "2021-09-10T07:31:58.613Z"
   },
   {
    "duration": 2,
    "start_time": "2021-09-10T07:34:06.838Z"
   },
   {
    "duration": 13,
    "start_time": "2021-09-10T07:34:06.841Z"
   },
   {
    "duration": 29353,
    "start_time": "2021-09-10T07:34:06.856Z"
   },
   {
    "duration": 6,
    "start_time": "2021-09-10T07:34:36.211Z"
   },
   {
    "duration": 6,
    "start_time": "2021-09-10T07:34:36.218Z"
   },
   {
    "duration": 6,
    "start_time": "2021-09-10T07:34:36.225Z"
   },
   {
    "duration": 781,
    "start_time": "2021-09-10T07:34:36.233Z"
   },
   {
    "duration": -1057,
    "start_time": "2021-09-10T07:34:38.074Z"
   },
   {
    "duration": -1063,
    "start_time": "2021-09-10T07:34:38.081Z"
   },
   {
    "duration": 182,
    "start_time": "2021-09-10T07:34:57.969Z"
   },
   {
    "duration": 16,
    "start_time": "2021-09-10T07:35:01.422Z"
   },
   {
    "duration": 8,
    "start_time": "2021-09-10T07:35:02.941Z"
   },
   {
    "duration": 1428,
    "start_time": "2021-09-10T07:35:41.125Z"
   },
   {
    "duration": 1136,
    "start_time": "2021-09-10T07:35:42.555Z"
   },
   {
    "duration": 2,
    "start_time": "2021-09-10T07:35:43.693Z"
   },
   {
    "duration": 24,
    "start_time": "2021-09-10T07:35:43.697Z"
   },
   {
    "duration": 181,
    "start_time": "2021-09-10T07:35:43.723Z"
   },
   {
    "duration": 8,
    "start_time": "2021-09-10T07:35:43.906Z"
   },
   {
    "duration": 13,
    "start_time": "2021-09-10T07:35:43.916Z"
   },
   {
    "duration": 6,
    "start_time": "2021-09-10T07:35:43.931Z"
   },
   {
    "duration": 186,
    "start_time": "2021-09-10T07:35:43.939Z"
   },
   {
    "duration": 20,
    "start_time": "2021-09-10T07:35:44.126Z"
   },
   {
    "duration": 6,
    "start_time": "2021-09-10T07:35:44.148Z"
   },
   {
    "duration": 190,
    "start_time": "2021-09-10T07:35:44.156Z"
   },
   {
    "duration": 175,
    "start_time": "2021-09-10T07:35:44.348Z"
   },
   {
    "duration": 8,
    "start_time": "2021-09-10T07:35:44.524Z"
   },
   {
    "duration": 7,
    "start_time": "2021-09-10T07:35:44.534Z"
   },
   {
    "duration": 1000,
    "start_time": "2021-09-10T07:35:44.542Z"
   },
   {
    "duration": 7,
    "start_time": "2021-09-10T07:35:45.543Z"
   },
   {
    "duration": 9,
    "start_time": "2021-09-10T07:35:45.551Z"
   },
   {
    "duration": 193,
    "start_time": "2021-09-10T07:35:45.561Z"
   },
   {
    "duration": 190,
    "start_time": "2021-09-10T07:35:45.755Z"
   },
   {
    "duration": 329,
    "start_time": "2021-09-10T07:35:45.947Z"
   },
   {
    "duration": 269,
    "start_time": "2021-09-10T07:35:46.284Z"
   },
   {
    "duration": 13,
    "start_time": "2021-09-10T07:35:46.555Z"
   },
   {
    "duration": 17,
    "start_time": "2021-09-10T07:35:46.570Z"
   },
   {
    "duration": 28,
    "start_time": "2021-09-10T07:35:46.589Z"
   },
   {
    "duration": 15,
    "start_time": "2021-09-10T07:35:46.619Z"
   },
   {
    "duration": 26,
    "start_time": "2021-09-10T07:35:46.636Z"
   },
   {
    "duration": 6,
    "start_time": "2021-09-10T07:35:46.664Z"
   },
   {
    "duration": 17,
    "start_time": "2021-09-10T07:35:46.672Z"
   },
   {
    "duration": 11,
    "start_time": "2021-09-10T07:35:46.691Z"
   },
   {
    "duration": 8,
    "start_time": "2021-09-10T07:35:46.704Z"
   },
   {
    "duration": 16,
    "start_time": "2021-09-10T07:35:46.714Z"
   },
   {
    "duration": 10,
    "start_time": "2021-09-10T07:35:46.732Z"
   },
   {
    "duration": 10,
    "start_time": "2021-09-10T07:35:46.744Z"
   },
   {
    "duration": 9,
    "start_time": "2021-09-10T07:35:46.756Z"
   },
   {
    "duration": 9,
    "start_time": "2021-09-10T07:35:46.767Z"
   },
   {
    "duration": 13,
    "start_time": "2021-09-10T07:35:46.777Z"
   },
   {
    "duration": 17,
    "start_time": "2021-09-10T07:35:46.792Z"
   },
   {
    "duration": 5,
    "start_time": "2021-09-10T07:35:46.810Z"
   },
   {
    "duration": 8011,
    "start_time": "2021-09-10T07:35:46.817Z"
   },
   {
    "duration": 8,
    "start_time": "2021-09-10T07:35:54.830Z"
   },
   {
    "duration": 20,
    "start_time": "2021-09-10T07:35:54.840Z"
   },
   {
    "duration": 5,
    "start_time": "2021-09-10T07:35:54.862Z"
   },
   {
    "duration": 50,
    "start_time": "2021-09-10T07:35:54.868Z"
   },
   {
    "duration": 7,
    "start_time": "2021-09-10T07:35:54.919Z"
   },
   {
    "duration": 18,
    "start_time": "2021-09-10T07:35:54.927Z"
   },
   {
    "duration": 14,
    "start_time": "2021-09-10T07:35:54.947Z"
   },
   {
    "duration": 46,
    "start_time": "2021-09-10T07:35:54.962Z"
   },
   {
    "duration": 99,
    "start_time": "2021-09-10T07:35:55.086Z"
   },
   {
    "duration": 23126,
    "start_time": "2021-09-10T07:35:55.188Z"
   },
   {
    "duration": 14,
    "start_time": "2021-09-10T07:36:18.316Z"
   },
   {
    "duration": 32,
    "start_time": "2021-09-10T07:36:18.332Z"
   },
   {
    "duration": 170,
    "start_time": "2021-09-10T07:36:18.365Z"
   },
   {
    "duration": 91,
    "start_time": "2021-09-10T07:36:18.537Z"
   },
   {
    "duration": 113,
    "start_time": "2021-09-10T07:36:18.629Z"
   },
   {
    "duration": 30,
    "start_time": "2021-09-10T07:36:18.744Z"
   },
   {
    "duration": 9,
    "start_time": "2021-09-10T07:36:18.776Z"
   },
   {
    "duration": 125636,
    "start_time": "2021-09-10T07:36:18.786Z"
   },
   {
    "duration": 2,
    "start_time": "2021-09-10T07:38:24.424Z"
   },
   {
    "duration": 14,
    "start_time": "2021-09-10T07:38:24.428Z"
   },
   {
    "duration": 29463,
    "start_time": "2021-09-10T07:38:24.444Z"
   },
   {
    "duration": 6,
    "start_time": "2021-09-10T07:38:53.908Z"
   },
   {
    "duration": 12,
    "start_time": "2021-09-10T07:38:53.915Z"
   },
   {
    "duration": 5,
    "start_time": "2021-09-10T07:38:53.929Z"
   },
   {
    "duration": 188,
    "start_time": "2021-09-10T07:38:53.935Z"
   },
   {
    "duration": 15,
    "start_time": "2021-09-10T07:38:54.124Z"
   },
   {
    "duration": 6,
    "start_time": "2021-09-10T07:38:54.143Z"
   },
   {
    "duration": 151,
    "start_time": "2021-09-10T07:40:14.494Z"
   },
   {
    "duration": 280,
    "start_time": "2021-09-10T07:40:23.082Z"
   },
   {
    "duration": 3,
    "start_time": "2021-09-10T07:40:23.591Z"
   },
   {
    "duration": 19,
    "start_time": "2021-09-10T07:40:23.762Z"
   },
   {
    "duration": 151,
    "start_time": "2021-09-10T07:40:23.904Z"
   },
   {
    "duration": 9,
    "start_time": "2021-09-10T07:40:24.089Z"
   },
   {
    "duration": 13,
    "start_time": "2021-09-10T07:40:24.267Z"
   },
   {
    "duration": 6,
    "start_time": "2021-09-10T07:40:24.454Z"
   },
   {
    "duration": 152,
    "start_time": "2021-09-10T07:40:24.624Z"
   },
   {
    "duration": 6,
    "start_time": "2021-09-10T07:40:35.934Z"
   },
   {
    "duration": 152,
    "start_time": "2021-09-10T07:40:36.424Z"
   },
   {
    "duration": 6,
    "start_time": "2021-09-10T07:40:45.782Z"
   },
   {
    "duration": 151,
    "start_time": "2021-09-10T07:40:46.629Z"
   },
   {
    "duration": 1199,
    "start_time": "2021-09-10T07:40:59.818Z"
   },
   {
    "duration": 251,
    "start_time": "2021-09-10T07:41:01.019Z"
   },
   {
    "duration": 3,
    "start_time": "2021-09-10T07:41:01.273Z"
   },
   {
    "duration": 33,
    "start_time": "2021-09-10T07:41:01.278Z"
   },
   {
    "duration": 157,
    "start_time": "2021-09-10T07:41:01.313Z"
   },
   {
    "duration": 18,
    "start_time": "2021-09-10T07:41:01.473Z"
   },
   {
    "duration": 19,
    "start_time": "2021-09-10T07:41:01.492Z"
   },
   {
    "duration": 12,
    "start_time": "2021-09-10T07:41:01.513Z"
   },
   {
    "duration": 164,
    "start_time": "2021-09-10T07:41:01.527Z"
   },
   {
    "duration": 427,
    "start_time": "2021-09-10T07:41:01.693Z"
   },
   {
    "duration": -1030,
    "start_time": "2021-09-10T07:41:03.153Z"
   },
   {
    "duration": -1036,
    "start_time": "2021-09-10T07:41:03.161Z"
   },
   {
    "duration": -1039,
    "start_time": "2021-09-10T07:41:03.165Z"
   },
   {
    "duration": -1042,
    "start_time": "2021-09-10T07:41:03.169Z"
   },
   {
    "duration": -1045,
    "start_time": "2021-09-10T07:41:03.173Z"
   },
   {
    "duration": -1049,
    "start_time": "2021-09-10T07:41:03.178Z"
   },
   {
    "duration": -1051,
    "start_time": "2021-09-10T07:41:03.181Z"
   },
   {
    "duration": -1053,
    "start_time": "2021-09-10T07:41:03.184Z"
   },
   {
    "duration": -1055,
    "start_time": "2021-09-10T07:41:03.186Z"
   },
   {
    "duration": -1061,
    "start_time": "2021-09-10T07:41:03.193Z"
   },
   {
    "duration": -1063,
    "start_time": "2021-09-10T07:41:03.196Z"
   },
   {
    "duration": -1064,
    "start_time": "2021-09-10T07:41:03.198Z"
   },
   {
    "duration": -1066,
    "start_time": "2021-09-10T07:41:03.201Z"
   },
   {
    "duration": -1068,
    "start_time": "2021-09-10T07:41:03.204Z"
   },
   {
    "duration": -1073,
    "start_time": "2021-09-10T07:41:03.210Z"
   },
   {
    "duration": -1075,
    "start_time": "2021-09-10T07:41:03.213Z"
   },
   {
    "duration": -1077,
    "start_time": "2021-09-10T07:41:03.216Z"
   },
   {
    "duration": -1079,
    "start_time": "2021-09-10T07:41:03.219Z"
   },
   {
    "duration": -1081,
    "start_time": "2021-09-10T07:41:03.222Z"
   },
   {
    "duration": -1086,
    "start_time": "2021-09-10T07:41:03.228Z"
   },
   {
    "duration": -1088,
    "start_time": "2021-09-10T07:41:03.231Z"
   },
   {
    "duration": -1090,
    "start_time": "2021-09-10T07:41:03.234Z"
   },
   {
    "duration": -1092,
    "start_time": "2021-09-10T07:41:03.237Z"
   },
   {
    "duration": -1098,
    "start_time": "2021-09-10T07:41:03.244Z"
   },
   {
    "duration": -1113,
    "start_time": "2021-09-10T07:41:03.260Z"
   },
   {
    "duration": -1115,
    "start_time": "2021-09-10T07:41:03.263Z"
   },
   {
    "duration": -1117,
    "start_time": "2021-09-10T07:41:03.266Z"
   },
   {
    "duration": -1120,
    "start_time": "2021-09-10T07:41:03.269Z"
   },
   {
    "duration": -1122,
    "start_time": "2021-09-10T07:41:03.272Z"
   },
   {
    "duration": -1127,
    "start_time": "2021-09-10T07:41:03.278Z"
   },
   {
    "duration": -1129,
    "start_time": "2021-09-10T07:41:03.281Z"
   },
   {
    "duration": -1131,
    "start_time": "2021-09-10T07:41:03.284Z"
   },
   {
    "duration": -1133,
    "start_time": "2021-09-10T07:41:03.287Z"
   },
   {
    "duration": -1138,
    "start_time": "2021-09-10T07:41:03.293Z"
   },
   {
    "duration": -1139,
    "start_time": "2021-09-10T07:41:03.295Z"
   },
   {
    "duration": -1152,
    "start_time": "2021-09-10T07:41:03.309Z"
   },
   {
    "duration": -1154,
    "start_time": "2021-09-10T07:41:03.312Z"
   },
   {
    "duration": -1156,
    "start_time": "2021-09-10T07:41:03.315Z"
   },
   {
    "duration": -1158,
    "start_time": "2021-09-10T07:41:03.318Z"
   },
   {
    "duration": -1161,
    "start_time": "2021-09-10T07:41:03.322Z"
   },
   {
    "duration": -1144,
    "start_time": "2021-09-10T07:41:03.329Z"
   },
   {
    "duration": -1146,
    "start_time": "2021-09-10T07:41:03.332Z"
   },
   {
    "duration": -1149,
    "start_time": "2021-09-10T07:41:03.335Z"
   },
   {
    "duration": -1151,
    "start_time": "2021-09-10T07:41:03.338Z"
   },
   {
    "duration": -1161,
    "start_time": "2021-09-10T07:41:03.349Z"
   },
   {
    "duration": -1163,
    "start_time": "2021-09-10T07:41:03.352Z"
   },
   {
    "duration": -1166,
    "start_time": "2021-09-10T07:41:03.356Z"
   },
   {
    "duration": -1170,
    "start_time": "2021-09-10T07:41:03.361Z"
   },
   {
    "duration": -1173,
    "start_time": "2021-09-10T07:41:03.365Z"
   },
   {
    "duration": -1174,
    "start_time": "2021-09-10T07:41:03.367Z"
   },
   {
    "duration": -1177,
    "start_time": "2021-09-10T07:41:03.371Z"
   },
   {
    "duration": -1182,
    "start_time": "2021-09-10T07:41:03.377Z"
   },
   {
    "duration": -1183,
    "start_time": "2021-09-10T07:41:03.379Z"
   },
   {
    "duration": -1185,
    "start_time": "2021-09-10T07:41:03.382Z"
   },
   {
    "duration": -1187,
    "start_time": "2021-09-10T07:41:03.385Z"
   },
   {
    "duration": -1190,
    "start_time": "2021-09-10T07:41:03.389Z"
   },
   {
    "duration": -1195,
    "start_time": "2021-09-10T07:41:03.395Z"
   },
   {
    "duration": -1198,
    "start_time": "2021-09-10T07:41:03.399Z"
   },
   {
    "duration": -1199,
    "start_time": "2021-09-10T07:41:03.401Z"
   },
   {
    "duration": 6,
    "start_time": "2021-09-10T07:44:06.656Z"
   },
   {
    "duration": 144,
    "start_time": "2021-09-10T07:44:06.894Z"
   },
   {
    "duration": 6,
    "start_time": "2021-09-10T07:44:14.057Z"
   },
   {
    "duration": 146,
    "start_time": "2021-09-10T07:44:14.216Z"
   },
   {
    "duration": 1106,
    "start_time": "2021-09-10T07:44:46.531Z"
   },
   {
    "duration": 266,
    "start_time": "2021-09-10T07:44:47.639Z"
   },
   {
    "duration": 2,
    "start_time": "2021-09-10T07:44:47.907Z"
   },
   {
    "duration": 39,
    "start_time": "2021-09-10T07:44:47.911Z"
   },
   {
    "duration": 149,
    "start_time": "2021-09-10T07:44:47.952Z"
   },
   {
    "duration": 8,
    "start_time": "2021-09-10T07:44:48.103Z"
   },
   {
    "duration": 14,
    "start_time": "2021-09-10T07:44:48.112Z"
   },
   {
    "duration": 5,
    "start_time": "2021-09-10T07:44:48.129Z"
   },
   {
    "duration": 190,
    "start_time": "2021-09-10T07:44:48.135Z"
   },
   {
    "duration": 32,
    "start_time": "2021-09-10T07:44:48.327Z"
   },
   {
    "duration": 7,
    "start_time": "2021-09-10T07:44:48.360Z"
   },
   {
    "duration": 185,
    "start_time": "2021-09-10T07:44:48.368Z"
   },
   {
    "duration": 206,
    "start_time": "2021-09-10T07:44:48.555Z"
   },
   {
    "duration": 12,
    "start_time": "2021-09-10T07:44:48.764Z"
   },
   {
    "duration": 17,
    "start_time": "2021-09-10T07:44:48.779Z"
   },
   {
    "duration": 956,
    "start_time": "2021-09-10T07:44:48.799Z"
   },
   {
    "duration": 6,
    "start_time": "2021-09-10T07:44:49.757Z"
   },
   {
    "duration": 21,
    "start_time": "2021-09-10T07:44:49.764Z"
   },
   {
    "duration": 173,
    "start_time": "2021-09-10T07:44:49.786Z"
   },
   {
    "duration": 187,
    "start_time": "2021-09-10T07:44:49.961Z"
   },
   {
    "duration": 316,
    "start_time": "2021-09-10T07:44:50.149Z"
   },
   {
    "duration": 253,
    "start_time": "2021-09-10T07:44:50.466Z"
   },
   {
    "duration": 13,
    "start_time": "2021-09-10T07:44:50.722Z"
   },
   {
    "duration": 16,
    "start_time": "2021-09-10T07:44:50.737Z"
   },
   {
    "duration": 22,
    "start_time": "2021-09-10T07:44:50.755Z"
   },
   {
    "duration": 16,
    "start_time": "2021-09-10T07:44:50.779Z"
   },
   {
    "duration": 17,
    "start_time": "2021-09-10T07:44:50.796Z"
   },
   {
    "duration": 9,
    "start_time": "2021-09-10T07:44:50.814Z"
   },
   {
    "duration": 8,
    "start_time": "2021-09-10T07:44:50.825Z"
   },
   {
    "duration": 11,
    "start_time": "2021-09-10T07:44:50.835Z"
   },
   {
    "duration": 9,
    "start_time": "2021-09-10T07:44:50.848Z"
   },
   {
    "duration": 13,
    "start_time": "2021-09-10T07:44:50.858Z"
   },
   {
    "duration": 20,
    "start_time": "2021-09-10T07:44:50.872Z"
   },
   {
    "duration": 24,
    "start_time": "2021-09-10T07:44:50.894Z"
   },
   {
    "duration": 11,
    "start_time": "2021-09-10T07:44:50.920Z"
   },
   {
    "duration": 10,
    "start_time": "2021-09-10T07:44:50.933Z"
   },
   {
    "duration": 14,
    "start_time": "2021-09-10T07:44:50.944Z"
   },
   {
    "duration": 19,
    "start_time": "2021-09-10T07:44:50.959Z"
   },
   {
    "duration": 5,
    "start_time": "2021-09-10T07:44:50.980Z"
   },
   {
    "duration": 7925,
    "start_time": "2021-09-10T07:44:50.986Z"
   },
   {
    "duration": 8,
    "start_time": "2021-09-10T07:44:58.912Z"
   },
   {
    "duration": 19,
    "start_time": "2021-09-10T07:44:58.921Z"
   },
   {
    "duration": 4,
    "start_time": "2021-09-10T07:44:58.941Z"
   },
   {
    "duration": 14,
    "start_time": "2021-09-10T07:44:58.947Z"
   },
   {
    "duration": 3,
    "start_time": "2021-09-10T07:44:58.963Z"
   },
   {
    "duration": 20,
    "start_time": "2021-09-10T07:44:58.967Z"
   },
   {
    "duration": 8,
    "start_time": "2021-09-10T07:44:58.988Z"
   },
   {
    "duration": 86,
    "start_time": "2021-09-10T07:44:58.998Z"
   },
   {
    "duration": 109,
    "start_time": "2021-09-10T07:44:59.086Z"
   },
   {
    "duration": 23136,
    "start_time": "2021-09-10T07:44:59.288Z"
   },
   {
    "duration": 13,
    "start_time": "2021-09-10T07:45:22.425Z"
   },
   {
    "duration": 8,
    "start_time": "2021-09-10T07:45:22.440Z"
   },
   {
    "duration": 13,
    "start_time": "2021-09-10T07:45:22.450Z"
   },
   {
    "duration": 32,
    "start_time": "2021-09-10T07:45:22.464Z"
   },
   {
    "duration": 5,
    "start_time": "2021-09-10T07:45:22.498Z"
   },
   {
    "duration": 16,
    "start_time": "2021-09-10T07:45:22.505Z"
   },
   {
    "duration": 9,
    "start_time": "2021-09-10T07:45:22.523Z"
   },
   {
    "duration": 127101,
    "start_time": "2021-09-10T07:45:22.533Z"
   },
   {
    "duration": 2,
    "start_time": "2021-09-10T07:47:29.635Z"
   },
   {
    "duration": 12,
    "start_time": "2021-09-10T07:47:29.639Z"
   },
   {
    "duration": 29235,
    "start_time": "2021-09-10T07:47:29.652Z"
   },
   {
    "duration": 5,
    "start_time": "2021-09-10T07:47:58.889Z"
   },
   {
    "duration": 10,
    "start_time": "2021-09-10T07:47:58.896Z"
   },
   {
    "duration": 12,
    "start_time": "2021-09-10T07:47:58.907Z"
   },
   {
    "duration": 177,
    "start_time": "2021-09-10T07:47:58.920Z"
   },
   {
    "duration": 14,
    "start_time": "2021-09-10T07:47:59.099Z"
   },
   {
    "duration": 18,
    "start_time": "2021-09-10T07:47:59.115Z"
   },
   {
    "duration": 257,
    "start_time": "2021-09-10T07:48:54.431Z"
   },
   {
    "duration": 5,
    "start_time": "2021-09-10T07:48:54.980Z"
   },
   {
    "duration": 22,
    "start_time": "2021-09-10T07:48:55.142Z"
   },
   {
    "duration": 142,
    "start_time": "2021-09-10T07:48:55.333Z"
   },
   {
    "duration": 8,
    "start_time": "2021-09-10T07:48:55.523Z"
   },
   {
    "duration": 15,
    "start_time": "2021-09-10T07:48:55.701Z"
   },
   {
    "duration": 6,
    "start_time": "2021-09-10T07:48:55.892Z"
   },
   {
    "duration": 146,
    "start_time": "2021-09-10T07:49:00.892Z"
   },
   {
    "duration": 6,
    "start_time": "2021-09-10T07:49:12.610Z"
   },
   {
    "duration": 139,
    "start_time": "2021-09-10T07:49:13.042Z"
   },
   {
    "duration": 7,
    "start_time": "2021-09-10T07:49:17.921Z"
   },
   {
    "duration": 166,
    "start_time": "2021-09-10T07:49:18.241Z"
   },
   {
    "duration": 6,
    "start_time": "2021-09-10T07:49:23.253Z"
   },
   {
    "duration": 172,
    "start_time": "2021-09-10T07:49:23.482Z"
   },
   {
    "duration": 156,
    "start_time": "2021-09-10T07:49:28.143Z"
   },
   {
    "duration": 20,
    "start_time": "2021-09-10T07:49:30.370Z"
   },
   {
    "duration": 20,
    "start_time": "2021-09-10T07:49:35.382Z"
   },
   {
    "duration": 6,
    "start_time": "2021-09-10T07:49:36.482Z"
   },
   {
    "duration": 145,
    "start_time": "2021-09-10T07:49:39.402Z"
   },
   {
    "duration": 6,
    "start_time": "2021-09-10T07:49:46.359Z"
   },
   {
    "duration": 162,
    "start_time": "2021-09-10T07:49:46.802Z"
   },
   {
    "duration": 7,
    "start_time": "2021-09-10T07:50:03.101Z"
   },
   {
    "duration": 158,
    "start_time": "2021-09-10T07:50:03.357Z"
   },
   {
    "duration": 7,
    "start_time": "2021-09-10T07:50:12.811Z"
   },
   {
    "duration": 141,
    "start_time": "2021-09-10T07:50:13.051Z"
   },
   {
    "duration": 159,
    "start_time": "2021-09-10T07:50:14.012Z"
   },
   {
    "duration": 1266,
    "start_time": "2021-09-10T07:50:37.253Z"
   },
   {
    "duration": 546,
    "start_time": "2021-09-10T07:50:38.520Z"
   },
   {
    "duration": 2,
    "start_time": "2021-09-10T07:50:39.070Z"
   },
   {
    "duration": 32,
    "start_time": "2021-09-10T07:50:39.074Z"
   },
   {
    "duration": 157,
    "start_time": "2021-09-10T07:50:39.108Z"
   },
   {
    "duration": 18,
    "start_time": "2021-09-10T07:50:39.267Z"
   },
   {
    "duration": 13,
    "start_time": "2021-09-10T07:50:39.287Z"
   },
   {
    "duration": 10,
    "start_time": "2021-09-10T07:50:39.302Z"
   },
   {
    "duration": 156,
    "start_time": "2021-09-10T07:50:39.313Z"
   },
   {
    "duration": 167,
    "start_time": "2021-09-10T07:50:39.471Z"
   },
   {
    "duration": 22,
    "start_time": "2021-09-10T07:50:39.640Z"
   },
   {
    "duration": 21,
    "start_time": "2021-09-10T07:50:39.664Z"
   },
   {
    "duration": 163,
    "start_time": "2021-09-10T07:50:39.686Z"
   },
   {
    "duration": 177,
    "start_time": "2021-09-10T07:50:39.851Z"
   },
   {
    "duration": 223,
    "start_time": "2021-09-10T07:50:40.030Z"
   },
   {
    "duration": 8,
    "start_time": "2021-09-10T07:50:40.255Z"
   },
   {
    "duration": 23,
    "start_time": "2021-09-10T07:50:40.265Z"
   },
   {
    "duration": 902,
    "start_time": "2021-09-10T07:50:40.289Z"
   },
   {
    "duration": 6,
    "start_time": "2021-09-10T07:50:41.193Z"
   },
   {
    "duration": 7,
    "start_time": "2021-09-10T07:50:41.201Z"
   },
   {
    "duration": 196,
    "start_time": "2021-09-10T07:50:41.209Z"
   },
   {
    "duration": 187,
    "start_time": "2021-09-10T07:50:41.409Z"
   },
   {
    "duration": 326,
    "start_time": "2021-09-10T07:50:41.598Z"
   },
   {
    "duration": 244,
    "start_time": "2021-09-10T07:50:41.926Z"
   },
   {
    "duration": 18,
    "start_time": "2021-09-10T07:50:42.172Z"
   },
   {
    "duration": 23,
    "start_time": "2021-09-10T07:50:42.192Z"
   },
   {
    "duration": 29,
    "start_time": "2021-09-10T07:50:42.216Z"
   },
   {
    "duration": 14,
    "start_time": "2021-09-10T07:50:42.246Z"
   },
   {
    "duration": 22,
    "start_time": "2021-09-10T07:50:42.262Z"
   },
   {
    "duration": 7,
    "start_time": "2021-09-10T07:50:42.286Z"
   },
   {
    "duration": 13,
    "start_time": "2021-09-10T07:50:42.295Z"
   },
   {
    "duration": 11,
    "start_time": "2021-09-10T07:50:42.309Z"
   },
   {
    "duration": 18,
    "start_time": "2021-09-10T07:50:42.322Z"
   },
   {
    "duration": 22,
    "start_time": "2021-09-10T07:50:42.342Z"
   },
   {
    "duration": 19,
    "start_time": "2021-09-10T07:50:42.366Z"
   },
   {
    "duration": 18,
    "start_time": "2021-09-10T07:50:42.386Z"
   },
   {
    "duration": 7,
    "start_time": "2021-09-10T07:50:42.406Z"
   },
   {
    "duration": 11,
    "start_time": "2021-09-10T07:50:42.415Z"
   },
   {
    "duration": 15,
    "start_time": "2021-09-10T07:50:42.428Z"
   },
   {
    "duration": 17,
    "start_time": "2021-09-10T07:50:42.445Z"
   },
   {
    "duration": 6,
    "start_time": "2021-09-10T07:50:42.464Z"
   },
   {
    "duration": 7965,
    "start_time": "2021-09-10T07:50:42.472Z"
   },
   {
    "duration": 9,
    "start_time": "2021-09-10T07:50:50.439Z"
   },
   {
    "duration": 31,
    "start_time": "2021-09-10T07:50:50.450Z"
   },
   {
    "duration": 5,
    "start_time": "2021-09-10T07:50:50.485Z"
   },
   {
    "duration": 32,
    "start_time": "2021-09-10T07:50:50.492Z"
   },
   {
    "duration": 8,
    "start_time": "2021-09-10T07:50:50.525Z"
   },
   {
    "duration": 23,
    "start_time": "2021-09-10T07:50:50.534Z"
   },
   {
    "duration": 23,
    "start_time": "2021-09-10T07:50:50.559Z"
   },
   {
    "duration": 41,
    "start_time": "2021-09-10T07:50:50.584Z"
   },
   {
    "duration": 68,
    "start_time": "2021-09-10T07:50:50.627Z"
   },
   {
    "duration": 22593,
    "start_time": "2021-09-10T07:50:50.787Z"
   },
   {
    "duration": 14,
    "start_time": "2021-09-10T07:51:13.385Z"
   },
   {
    "duration": 9,
    "start_time": "2021-09-10T07:51:13.401Z"
   },
   {
    "duration": 3,
    "start_time": "2021-09-10T07:51:13.412Z"
   },
   {
    "duration": 18,
    "start_time": "2021-09-10T07:51:13.416Z"
   },
   {
    "duration": 5,
    "start_time": "2021-09-10T07:51:13.435Z"
   },
   {
    "duration": 43,
    "start_time": "2021-09-10T07:51:13.442Z"
   },
   {
    "duration": 5,
    "start_time": "2021-09-10T07:51:13.486Z"
   },
   {
    "duration": 123712,
    "start_time": "2021-09-10T07:51:13.493Z"
   },
   {
    "duration": 2,
    "start_time": "2021-09-10T07:53:17.207Z"
   },
   {
    "duration": 9,
    "start_time": "2021-09-10T07:53:17.211Z"
   },
   {
    "duration": 28538,
    "start_time": "2021-09-10T07:53:17.221Z"
   },
   {
    "duration": 6,
    "start_time": "2021-09-10T07:53:45.760Z"
   },
   {
    "duration": 19,
    "start_time": "2021-09-10T07:53:45.767Z"
   },
   {
    "duration": 5,
    "start_time": "2021-09-10T07:53:45.787Z"
   },
   {
    "duration": 190,
    "start_time": "2021-09-10T07:53:45.796Z"
   },
   {
    "duration": 15,
    "start_time": "2021-09-10T07:53:45.988Z"
   },
   {
    "duration": 6,
    "start_time": "2021-09-10T07:53:46.004Z"
   },
   {
    "duration": 7,
    "start_time": "2021-09-10T07:54:26.029Z"
   },
   {
    "duration": 1168,
    "start_time": "2021-09-10T07:55:18.562Z"
   },
   {
    "duration": 249,
    "start_time": "2021-09-10T07:55:19.732Z"
   },
   {
    "duration": 3,
    "start_time": "2021-09-10T07:55:19.983Z"
   },
   {
    "duration": 31,
    "start_time": "2021-09-10T07:55:19.988Z"
   },
   {
    "duration": 172,
    "start_time": "2021-09-10T07:55:20.021Z"
   },
   {
    "duration": 9,
    "start_time": "2021-09-10T07:55:20.195Z"
   },
   {
    "duration": 16,
    "start_time": "2021-09-10T07:55:20.205Z"
   },
   {
    "duration": 2,
    "start_time": "2021-09-10T07:55:20.223Z"
   },
   {
    "duration": 168,
    "start_time": "2021-09-10T07:55:20.227Z"
   },
   {
    "duration": 168,
    "start_time": "2021-09-10T07:55:20.397Z"
   },
   {
    "duration": 29,
    "start_time": "2021-09-10T07:55:20.567Z"
   },
   {
    "duration": 5,
    "start_time": "2021-09-10T07:55:20.598Z"
   },
   {
    "duration": 169,
    "start_time": "2021-09-10T07:55:20.605Z"
   },
   {
    "duration": 179,
    "start_time": "2021-09-10T07:55:20.775Z"
   },
   {
    "duration": 237,
    "start_time": "2021-09-10T07:55:20.956Z"
   },
   {
    "duration": 8,
    "start_time": "2021-09-10T07:55:21.195Z"
   },
   {
    "duration": 7,
    "start_time": "2021-09-10T07:55:21.205Z"
   },
   {
    "duration": 916,
    "start_time": "2021-09-10T07:55:21.214Z"
   },
   {
    "duration": 6,
    "start_time": "2021-09-10T07:55:22.132Z"
   },
   {
    "duration": 8,
    "start_time": "2021-09-10T07:55:22.140Z"
   },
   {
    "duration": 190,
    "start_time": "2021-09-10T07:55:22.149Z"
   },
   {
    "duration": 193,
    "start_time": "2021-09-10T07:55:22.340Z"
   },
   {
    "duration": 330,
    "start_time": "2021-09-10T07:55:22.534Z"
   },
   {
    "duration": 256,
    "start_time": "2021-09-10T07:55:22.866Z"
   },
   {
    "duration": 13,
    "start_time": "2021-09-10T07:55:23.124Z"
   },
   {
    "duration": 9,
    "start_time": "2021-09-10T07:55:23.139Z"
   },
   {
    "duration": 33,
    "start_time": "2021-09-10T07:55:23.152Z"
   },
   {
    "duration": 12,
    "start_time": "2021-09-10T07:55:23.187Z"
   },
   {
    "duration": 17,
    "start_time": "2021-09-10T07:55:23.201Z"
   },
   {
    "duration": 5,
    "start_time": "2021-09-10T07:55:23.219Z"
   },
   {
    "duration": 18,
    "start_time": "2021-09-10T07:55:23.225Z"
   },
   {
    "duration": 14,
    "start_time": "2021-09-10T07:55:23.244Z"
   },
   {
    "duration": 16,
    "start_time": "2021-09-10T07:55:23.260Z"
   },
   {
    "duration": 25,
    "start_time": "2021-09-10T07:55:23.277Z"
   },
   {
    "duration": 11,
    "start_time": "2021-09-10T07:55:23.304Z"
   },
   {
    "duration": 19,
    "start_time": "2021-09-10T07:55:23.316Z"
   },
   {
    "duration": 16,
    "start_time": "2021-09-10T07:55:23.337Z"
   },
   {
    "duration": 20,
    "start_time": "2021-09-10T07:55:23.354Z"
   },
   {
    "duration": 18,
    "start_time": "2021-09-10T07:55:23.376Z"
   },
   {
    "duration": 30,
    "start_time": "2021-09-10T07:55:23.396Z"
   },
   {
    "duration": 5,
    "start_time": "2021-09-10T07:55:23.427Z"
   },
   {
    "duration": 7937,
    "start_time": "2021-09-10T07:55:23.434Z"
   },
   {
    "duration": 12,
    "start_time": "2021-09-10T07:55:31.373Z"
   },
   {
    "duration": 11,
    "start_time": "2021-09-10T07:55:31.387Z"
   },
   {
    "duration": 9,
    "start_time": "2021-09-10T07:55:31.400Z"
   },
   {
    "duration": 30,
    "start_time": "2021-09-10T07:55:31.411Z"
   },
   {
    "duration": 5,
    "start_time": "2021-09-10T07:55:31.442Z"
   },
   {
    "duration": 19,
    "start_time": "2021-09-10T07:55:31.448Z"
   },
   {
    "duration": 26,
    "start_time": "2021-09-10T07:55:31.469Z"
   },
   {
    "duration": 27,
    "start_time": "2021-09-10T07:55:31.497Z"
   },
   {
    "duration": 161,
    "start_time": "2021-09-10T07:55:31.526Z"
   },
   {
    "duration": 22906,
    "start_time": "2021-09-10T07:55:31.690Z"
   },
   {
    "duration": 12,
    "start_time": "2021-09-10T07:55:54.597Z"
   },
   {
    "duration": 15,
    "start_time": "2021-09-10T07:55:54.611Z"
   },
   {
    "duration": 7,
    "start_time": "2021-09-10T07:55:54.627Z"
   },
   {
    "duration": 31,
    "start_time": "2021-09-10T07:55:54.635Z"
   },
   {
    "duration": 11,
    "start_time": "2021-09-10T07:55:54.668Z"
   },
   {
    "duration": 17,
    "start_time": "2021-09-10T07:55:54.681Z"
   },
   {
    "duration": 7,
    "start_time": "2021-09-10T07:55:54.700Z"
   },
   {
    "duration": 125692,
    "start_time": "2021-09-10T07:55:54.708Z"
   },
   {
    "duration": 2,
    "start_time": "2021-09-10T07:58:00.402Z"
   },
   {
    "duration": 18,
    "start_time": "2021-09-10T07:58:00.406Z"
   },
   {
    "duration": 28933,
    "start_time": "2021-09-10T07:58:00.426Z"
   },
   {
    "duration": 5,
    "start_time": "2021-09-10T07:58:29.361Z"
   },
   {
    "duration": 18,
    "start_time": "2021-09-10T07:58:29.368Z"
   },
   {
    "duration": 5,
    "start_time": "2021-09-10T07:58:29.388Z"
   },
   {
    "duration": 205,
    "start_time": "2021-09-10T07:58:29.395Z"
   },
   {
    "duration": 17,
    "start_time": "2021-09-10T07:58:29.602Z"
   },
   {
    "duration": 8,
    "start_time": "2021-09-10T07:58:29.621Z"
   },
   {
    "duration": 1152,
    "start_time": "2021-09-10T07:59:25.494Z"
   },
   {
    "duration": 252,
    "start_time": "2021-09-10T07:59:26.648Z"
   },
   {
    "duration": 3,
    "start_time": "2021-09-10T07:59:26.902Z"
   },
   {
    "duration": 26,
    "start_time": "2021-09-10T07:59:26.906Z"
   },
   {
    "duration": 167,
    "start_time": "2021-09-10T07:59:26.934Z"
   },
   {
    "duration": 8,
    "start_time": "2021-09-10T07:59:27.102Z"
   },
   {
    "duration": 12,
    "start_time": "2021-09-10T07:59:27.112Z"
   },
   {
    "duration": 2,
    "start_time": "2021-09-10T07:59:27.126Z"
   },
   {
    "duration": 182,
    "start_time": "2021-09-10T07:59:27.130Z"
   },
   {
    "duration": 174,
    "start_time": "2021-09-10T07:59:27.314Z"
   },
   {
    "duration": 15,
    "start_time": "2021-09-10T07:59:27.490Z"
   },
   {
    "duration": 9,
    "start_time": "2021-09-10T07:59:27.506Z"
   },
   {
    "duration": 176,
    "start_time": "2021-09-10T07:59:27.516Z"
   },
   {
    "duration": 247,
    "start_time": "2021-09-10T07:59:27.693Z"
   },
   {
    "duration": 164,
    "start_time": "2021-09-10T07:59:27.942Z"
   },
   {
    "duration": 8,
    "start_time": "2021-09-10T07:59:28.107Z"
   },
   {
    "duration": 8,
    "start_time": "2021-09-10T07:59:28.117Z"
   },
   {
    "duration": 876,
    "start_time": "2021-09-10T07:59:28.127Z"
   },
   {
    "duration": 7,
    "start_time": "2021-09-10T07:59:29.004Z"
   },
   {
    "duration": 7,
    "start_time": "2021-09-10T07:59:29.012Z"
   },
   {
    "duration": 186,
    "start_time": "2021-09-10T07:59:29.021Z"
   },
   {
    "duration": 186,
    "start_time": "2021-09-10T07:59:29.208Z"
   },
   {
    "duration": 324,
    "start_time": "2021-09-10T07:59:29.396Z"
   },
   {
    "duration": 263,
    "start_time": "2021-09-10T07:59:29.722Z"
   },
   {
    "duration": 12,
    "start_time": "2021-09-10T07:59:29.987Z"
   },
   {
    "duration": 4,
    "start_time": "2021-09-10T07:59:30.001Z"
   },
   {
    "duration": 21,
    "start_time": "2021-09-10T07:59:30.010Z"
   },
   {
    "duration": 16,
    "start_time": "2021-09-10T07:59:30.033Z"
   },
   {
    "duration": 47,
    "start_time": "2021-09-10T07:59:30.051Z"
   },
   {
    "duration": 5,
    "start_time": "2021-09-10T07:59:30.100Z"
   },
   {
    "duration": 7,
    "start_time": "2021-09-10T07:59:30.107Z"
   },
   {
    "duration": 5,
    "start_time": "2021-09-10T07:59:30.115Z"
   },
   {
    "duration": 8,
    "start_time": "2021-09-10T07:59:30.122Z"
   },
   {
    "duration": 16,
    "start_time": "2021-09-10T07:59:30.132Z"
   },
   {
    "duration": 4,
    "start_time": "2021-09-10T07:59:30.150Z"
   },
   {
    "duration": 6,
    "start_time": "2021-09-10T07:59:30.156Z"
   },
   {
    "duration": 20,
    "start_time": "2021-09-10T07:59:30.164Z"
   },
   {
    "duration": 3,
    "start_time": "2021-09-10T07:59:30.186Z"
   },
   {
    "duration": 17,
    "start_time": "2021-09-10T07:59:30.190Z"
   },
   {
    "duration": 20,
    "start_time": "2021-09-10T07:59:30.208Z"
   },
   {
    "duration": 6,
    "start_time": "2021-09-10T07:59:30.230Z"
   },
   {
    "duration": 8272,
    "start_time": "2021-09-10T07:59:30.237Z"
   },
   {
    "duration": 6,
    "start_time": "2021-09-10T07:59:38.511Z"
   },
   {
    "duration": 16,
    "start_time": "2021-09-10T07:59:38.519Z"
   },
   {
    "duration": 3,
    "start_time": "2021-09-10T07:59:38.536Z"
   },
   {
    "duration": 17,
    "start_time": "2021-09-10T07:59:38.541Z"
   },
   {
    "duration": 3,
    "start_time": "2021-09-10T07:59:38.559Z"
   },
   {
    "duration": 21,
    "start_time": "2021-09-10T07:59:38.564Z"
   },
   {
    "duration": 10,
    "start_time": "2021-09-10T07:59:38.587Z"
   },
   {
    "duration": 89,
    "start_time": "2021-09-10T07:59:38.599Z"
   },
   {
    "duration": 196,
    "start_time": "2021-09-10T07:59:38.690Z"
   },
   {
    "duration": 23682,
    "start_time": "2021-09-10T07:59:38.888Z"
   },
   {
    "duration": 18,
    "start_time": "2021-09-10T08:00:02.572Z"
   },
   {
    "duration": 9,
    "start_time": "2021-09-10T08:00:02.592Z"
   },
   {
    "duration": 6,
    "start_time": "2021-09-10T08:00:02.603Z"
   },
   {
    "duration": 23,
    "start_time": "2021-09-10T08:00:02.611Z"
   },
   {
    "duration": 7,
    "start_time": "2021-09-10T08:00:02.636Z"
   },
   {
    "duration": 40,
    "start_time": "2021-09-10T08:00:02.645Z"
   },
   {
    "duration": 7,
    "start_time": "2021-09-10T08:00:02.687Z"
   },
   {
    "duration": 129604,
    "start_time": "2021-09-10T08:00:02.695Z"
   },
   {
    "duration": 2,
    "start_time": "2021-09-10T08:02:12.301Z"
   },
   {
    "duration": 6,
    "start_time": "2021-09-10T08:02:12.305Z"
   },
   {
    "duration": 30077,
    "start_time": "2021-09-10T08:02:12.312Z"
   },
   {
    "duration": 5,
    "start_time": "2021-09-10T08:02:42.391Z"
   },
   {
    "duration": 25,
    "start_time": "2021-09-10T08:02:42.397Z"
   },
   {
    "duration": 23,
    "start_time": "2021-09-10T08:02:42.423Z"
   },
   {
    "duration": 177,
    "start_time": "2021-09-10T08:02:42.447Z"
   },
   {
    "duration": 14,
    "start_time": "2021-09-10T08:02:42.626Z"
   },
   {
    "duration": 10,
    "start_time": "2021-09-10T08:02:42.642Z"
   },
   {
    "duration": 1201,
    "start_time": "2021-09-10T08:05:39.586Z"
   },
   {
    "duration": 313,
    "start_time": "2021-09-10T08:05:40.789Z"
   },
   {
    "duration": 3,
    "start_time": "2021-09-10T08:05:41.104Z"
   },
   {
    "duration": 32,
    "start_time": "2021-09-10T08:05:41.109Z"
   },
   {
    "duration": 160,
    "start_time": "2021-09-10T08:05:41.143Z"
   },
   {
    "duration": 7,
    "start_time": "2021-09-10T08:05:41.305Z"
   },
   {
    "duration": 18,
    "start_time": "2021-09-10T08:05:41.314Z"
   },
   {
    "duration": 2,
    "start_time": "2021-09-10T08:05:41.334Z"
   },
   {
    "duration": 174,
    "start_time": "2021-09-10T08:05:41.338Z"
   },
   {
    "duration": 173,
    "start_time": "2021-09-10T08:05:41.514Z"
   },
   {
    "duration": 14,
    "start_time": "2021-09-10T08:05:41.688Z"
   },
   {
    "duration": 25,
    "start_time": "2021-09-10T08:05:41.703Z"
   },
   {
    "duration": 164,
    "start_time": "2021-09-10T08:05:41.729Z"
   },
   {
    "duration": 240,
    "start_time": "2021-09-10T08:05:41.894Z"
   },
   {
    "duration": 165,
    "start_time": "2021-09-10T08:05:42.136Z"
   },
   {
    "duration": 8,
    "start_time": "2021-09-10T08:05:42.302Z"
   },
   {
    "duration": 12,
    "start_time": "2021-09-10T08:05:42.312Z"
   },
   {
    "duration": 880,
    "start_time": "2021-09-10T08:05:42.326Z"
   },
   {
    "duration": 6,
    "start_time": "2021-09-10T08:05:43.207Z"
   },
   {
    "duration": 20,
    "start_time": "2021-09-10T08:05:43.214Z"
   },
   {
    "duration": 173,
    "start_time": "2021-09-10T08:05:43.236Z"
   },
   {
    "duration": 180,
    "start_time": "2021-09-10T08:05:43.411Z"
   },
   {
    "duration": 324,
    "start_time": "2021-09-10T08:05:43.593Z"
   },
   {
    "duration": 240,
    "start_time": "2021-09-10T08:05:43.918Z"
   },
   {
    "duration": 13,
    "start_time": "2021-09-10T08:05:44.160Z"
   },
   {
    "duration": 4,
    "start_time": "2021-09-10T08:05:44.185Z"
   },
   {
    "duration": 16,
    "start_time": "2021-09-10T08:05:44.193Z"
   },
   {
    "duration": 12,
    "start_time": "2021-09-10T08:05:44.211Z"
   },
   {
    "duration": 16,
    "start_time": "2021-09-10T08:05:44.225Z"
   },
   {
    "duration": 5,
    "start_time": "2021-09-10T08:05:44.243Z"
   },
   {
    "duration": 36,
    "start_time": "2021-09-10T08:05:44.249Z"
   },
   {
    "duration": 4,
    "start_time": "2021-09-10T08:05:44.286Z"
   },
   {
    "duration": 7,
    "start_time": "2021-09-10T08:05:44.291Z"
   },
   {
    "duration": 9,
    "start_time": "2021-09-10T08:05:44.300Z"
   },
   {
    "duration": 4,
    "start_time": "2021-09-10T08:05:44.310Z"
   },
   {
    "duration": 6,
    "start_time": "2021-09-10T08:05:44.315Z"
   },
   {
    "duration": 4,
    "start_time": "2021-09-10T08:05:44.322Z"
   },
   {
    "duration": 6,
    "start_time": "2021-09-10T08:05:44.327Z"
   },
   {
    "duration": 9,
    "start_time": "2021-09-10T08:05:44.334Z"
   },
   {
    "duration": 44,
    "start_time": "2021-09-10T08:05:44.345Z"
   },
   {
    "duration": 4,
    "start_time": "2021-09-10T08:05:44.391Z"
   },
   {
    "duration": 8187,
    "start_time": "2021-09-10T08:05:44.397Z"
   },
   {
    "duration": 7,
    "start_time": "2021-09-10T08:05:52.586Z"
   },
   {
    "duration": 14,
    "start_time": "2021-09-10T08:05:52.595Z"
   },
   {
    "duration": 4,
    "start_time": "2021-09-10T08:05:52.611Z"
   },
   {
    "duration": 19,
    "start_time": "2021-09-10T08:05:52.617Z"
   },
   {
    "duration": 4,
    "start_time": "2021-09-10T08:05:52.637Z"
   },
   {
    "duration": 13,
    "start_time": "2021-09-10T08:05:52.643Z"
   },
   {
    "duration": 35,
    "start_time": "2021-09-10T08:05:52.657Z"
   },
   {
    "duration": 28,
    "start_time": "2021-09-10T08:05:52.694Z"
   },
   {
    "duration": 8,
    "start_time": "2021-09-10T08:05:52.786Z"
   },
   {
    "duration": 23545,
    "start_time": "2021-09-10T08:05:52.886Z"
   },
   {
    "duration": 13,
    "start_time": "2021-09-10T08:06:16.433Z"
   },
   {
    "duration": 8,
    "start_time": "2021-09-10T08:06:16.447Z"
   },
   {
    "duration": 3,
    "start_time": "2021-09-10T08:06:16.457Z"
   },
   {
    "duration": 37,
    "start_time": "2021-09-10T08:06:16.462Z"
   },
   {
    "duration": 5,
    "start_time": "2021-09-10T08:06:16.500Z"
   },
   {
    "duration": 14,
    "start_time": "2021-09-10T08:06:16.507Z"
   },
   {
    "duration": 5,
    "start_time": "2021-09-10T08:06:16.522Z"
   },
   {
    "duration": 131288,
    "start_time": "2021-09-10T08:06:16.528Z"
   },
   {
    "duration": 2,
    "start_time": "2021-09-10T08:08:27.817Z"
   },
   {
    "duration": 8,
    "start_time": "2021-09-10T08:08:27.821Z"
   },
   {
    "duration": 30376,
    "start_time": "2021-09-10T08:08:27.831Z"
   },
   {
    "duration": 6,
    "start_time": "2021-09-10T08:08:58.208Z"
   },
   {
    "duration": 10,
    "start_time": "2021-09-10T08:08:58.215Z"
   },
   {
    "duration": 9,
    "start_time": "2021-09-10T08:08:58.227Z"
   },
   {
    "duration": 196,
    "start_time": "2021-09-10T08:08:58.237Z"
   },
   {
    "duration": 15,
    "start_time": "2021-09-10T08:08:58.435Z"
   },
   {
    "duration": 11,
    "start_time": "2021-09-10T08:08:58.451Z"
   },
   {
    "duration": 1159,
    "start_time": "2021-09-10T08:10:03.269Z"
   },
   {
    "duration": 424,
    "start_time": "2021-09-10T08:10:04.430Z"
   },
   {
    "duration": 3,
    "start_time": "2021-09-10T08:10:04.856Z"
   },
   {
    "duration": 26,
    "start_time": "2021-09-10T08:10:04.860Z"
   },
   {
    "duration": 160,
    "start_time": "2021-09-10T08:10:04.887Z"
   },
   {
    "duration": 8,
    "start_time": "2021-09-10T08:10:05.049Z"
   },
   {
    "duration": 29,
    "start_time": "2021-09-10T08:10:05.059Z"
   },
   {
    "duration": 7,
    "start_time": "2021-09-10T08:10:05.090Z"
   },
   {
    "duration": 169,
    "start_time": "2021-09-10T08:10:05.099Z"
   },
   {
    "duration": 179,
    "start_time": "2021-09-10T08:10:05.270Z"
   },
   {
    "duration": 33,
    "start_time": "2021-09-10T08:10:05.451Z"
   },
   {
    "duration": 6,
    "start_time": "2021-09-10T08:10:05.486Z"
   },
   {
    "duration": 177,
    "start_time": "2021-09-10T08:10:05.493Z"
   },
   {
    "duration": 237,
    "start_time": "2021-09-10T08:10:05.672Z"
   },
   {
    "duration": 164,
    "start_time": "2021-09-10T08:10:05.911Z"
   },
   {
    "duration": 13,
    "start_time": "2021-09-10T08:10:06.076Z"
   },
   {
    "duration": 8,
    "start_time": "2021-09-10T08:10:06.091Z"
   },
   {
    "duration": 938,
    "start_time": "2021-09-10T08:10:06.101Z"
   },
   {
    "duration": 7,
    "start_time": "2021-09-10T08:10:07.040Z"
   },
   {
    "duration": 15,
    "start_time": "2021-09-10T08:10:07.048Z"
   },
   {
    "duration": 193,
    "start_time": "2021-09-10T08:10:07.065Z"
   },
   {
    "duration": 188,
    "start_time": "2021-09-10T08:10:07.259Z"
   },
   {
    "duration": 338,
    "start_time": "2021-09-10T08:10:07.448Z"
   },
   {
    "duration": 267,
    "start_time": "2021-09-10T08:10:07.788Z"
   },
   {
    "duration": 12,
    "start_time": "2021-09-10T08:10:08.056Z"
   },
   {
    "duration": 16,
    "start_time": "2021-09-10T08:10:08.069Z"
   },
   {
    "duration": 17,
    "start_time": "2021-09-10T08:10:08.088Z"
   },
   {
    "duration": 12,
    "start_time": "2021-09-10T08:10:08.108Z"
   },
   {
    "duration": 17,
    "start_time": "2021-09-10T08:10:08.121Z"
   },
   {
    "duration": 5,
    "start_time": "2021-09-10T08:10:08.140Z"
   },
   {
    "duration": 7,
    "start_time": "2021-09-10T08:10:08.146Z"
   },
   {
    "duration": 30,
    "start_time": "2021-09-10T08:10:08.155Z"
   },
   {
    "duration": 3,
    "start_time": "2021-09-10T08:10:08.187Z"
   },
   {
    "duration": 9,
    "start_time": "2021-09-10T08:10:08.192Z"
   },
   {
    "duration": 6,
    "start_time": "2021-09-10T08:10:08.202Z"
   },
   {
    "duration": 7,
    "start_time": "2021-09-10T08:10:08.210Z"
   },
   {
    "duration": 9,
    "start_time": "2021-09-10T08:10:08.219Z"
   },
   {
    "duration": 12,
    "start_time": "2021-09-10T08:10:08.230Z"
   },
   {
    "duration": 10,
    "start_time": "2021-09-10T08:10:08.244Z"
   },
   {
    "duration": 33,
    "start_time": "2021-09-10T08:10:08.256Z"
   },
   {
    "duration": 5,
    "start_time": "2021-09-10T08:10:08.291Z"
   },
   {
    "duration": 8252,
    "start_time": "2021-09-10T08:10:08.298Z"
   },
   {
    "duration": 7,
    "start_time": "2021-09-10T08:10:16.551Z"
   },
   {
    "duration": 14,
    "start_time": "2021-09-10T08:10:16.559Z"
   },
   {
    "duration": 3,
    "start_time": "2021-09-10T08:10:16.585Z"
   },
   {
    "duration": 18,
    "start_time": "2021-09-10T08:10:16.589Z"
   },
   {
    "duration": 3,
    "start_time": "2021-09-10T08:10:16.609Z"
   },
   {
    "duration": 6,
    "start_time": "2021-09-10T08:10:16.613Z"
   },
   {
    "duration": 20,
    "start_time": "2021-09-10T08:10:16.620Z"
   },
   {
    "duration": 50,
    "start_time": "2021-09-10T08:10:16.641Z"
   },
   {
    "duration": 100,
    "start_time": "2021-09-10T08:10:16.693Z"
   },
   {
    "duration": 23976,
    "start_time": "2021-09-10T08:10:16.890Z"
   },
   {
    "duration": 20,
    "start_time": "2021-09-10T08:10:40.867Z"
   },
   {
    "duration": 378,
    "start_time": "2021-09-10T08:10:40.889Z"
   },
   {
    "duration": -1024,
    "start_time": "2021-09-10T08:10:42.292Z"
   },
   {
    "duration": -1029,
    "start_time": "2021-09-10T08:10:42.298Z"
   },
   {
    "duration": -1034,
    "start_time": "2021-09-10T08:10:42.304Z"
   },
   {
    "duration": -1037,
    "start_time": "2021-09-10T08:10:42.308Z"
   },
   {
    "duration": -1039,
    "start_time": "2021-09-10T08:10:42.311Z"
   },
   {
    "duration": -1041,
    "start_time": "2021-09-10T08:10:42.314Z"
   },
   {
    "duration": -1046,
    "start_time": "2021-09-10T08:10:42.320Z"
   },
   {
    "duration": -1048,
    "start_time": "2021-09-10T08:10:42.323Z"
   },
   {
    "duration": -1049,
    "start_time": "2021-09-10T08:10:42.326Z"
   },
   {
    "duration": -1050,
    "start_time": "2021-09-10T08:10:42.328Z"
   },
   {
    "duration": -1053,
    "start_time": "2021-09-10T08:10:42.331Z"
   },
   {
    "duration": -1058,
    "start_time": "2021-09-10T08:10:42.337Z"
   },
   {
    "duration": -1060,
    "start_time": "2021-09-10T08:10:42.340Z"
   },
   {
    "duration": -1061,
    "start_time": "2021-09-10T08:10:42.342Z"
   },
   {
    "duration": -1062,
    "start_time": "2021-09-10T08:10:42.345Z"
   },
   {
    "duration": -1064,
    "start_time": "2021-09-10T08:10:42.348Z"
   },
   {
    "duration": 1103,
    "start_time": "2021-09-10T08:10:46.930Z"
   },
   {
    "duration": 263,
    "start_time": "2021-09-10T08:10:48.035Z"
   },
   {
    "duration": 3,
    "start_time": "2021-09-10T08:10:48.301Z"
   },
   {
    "duration": 49,
    "start_time": "2021-09-10T08:10:48.306Z"
   },
   {
    "duration": 166,
    "start_time": "2021-09-10T08:10:48.357Z"
   },
   {
    "duration": 8,
    "start_time": "2021-09-10T08:10:48.525Z"
   },
   {
    "duration": 14,
    "start_time": "2021-09-10T08:10:48.534Z"
   },
   {
    "duration": 2,
    "start_time": "2021-09-10T08:10:48.550Z"
   },
   {
    "duration": 189,
    "start_time": "2021-09-10T08:10:48.555Z"
   },
   {
    "duration": 187,
    "start_time": "2021-09-10T08:10:48.746Z"
   },
   {
    "duration": 23,
    "start_time": "2021-09-10T08:10:48.936Z"
   },
   {
    "duration": 7,
    "start_time": "2021-09-10T08:10:48.960Z"
   },
   {
    "duration": 166,
    "start_time": "2021-09-10T08:10:48.985Z"
   },
   {
    "duration": 185,
    "start_time": "2021-09-10T08:10:49.153Z"
   },
   {
    "duration": 237,
    "start_time": "2021-09-10T08:10:49.341Z"
   },
   {
    "duration": 13,
    "start_time": "2021-09-10T08:10:49.580Z"
   },
   {
    "duration": 7,
    "start_time": "2021-09-10T08:10:49.596Z"
   },
   {
    "duration": 950,
    "start_time": "2021-09-10T08:10:49.605Z"
   },
   {
    "duration": 8,
    "start_time": "2021-09-10T08:10:50.557Z"
   },
   {
    "duration": 21,
    "start_time": "2021-09-10T08:10:50.567Z"
   },
   {
    "duration": 184,
    "start_time": "2021-09-10T08:10:50.590Z"
   },
   {
    "duration": 193,
    "start_time": "2021-09-10T08:10:50.776Z"
   },
   {
    "duration": 399,
    "start_time": "2021-09-10T08:10:50.973Z"
   },
   {
    "duration": 258,
    "start_time": "2021-09-10T08:10:51.376Z"
   },
   {
    "duration": 12,
    "start_time": "2021-09-10T08:10:51.636Z"
   },
   {
    "duration": 8,
    "start_time": "2021-09-10T08:10:51.650Z"
   },
   {
    "duration": 28,
    "start_time": "2021-09-10T08:10:51.660Z"
   },
   {
    "duration": 13,
    "start_time": "2021-09-10T08:10:51.689Z"
   },
   {
    "duration": 17,
    "start_time": "2021-09-10T08:10:51.703Z"
   },
   {
    "duration": 5,
    "start_time": "2021-09-10T08:10:51.722Z"
   },
   {
    "duration": 7,
    "start_time": "2021-09-10T08:10:51.729Z"
   },
   {
    "duration": 6,
    "start_time": "2021-09-10T08:10:51.737Z"
   },
   {
    "duration": 41,
    "start_time": "2021-09-10T08:10:51.745Z"
   },
   {
    "duration": 7,
    "start_time": "2021-09-10T08:10:51.788Z"
   },
   {
    "duration": 5,
    "start_time": "2021-09-10T08:10:51.797Z"
   },
   {
    "duration": 4,
    "start_time": "2021-09-10T08:10:51.803Z"
   },
   {
    "duration": 3,
    "start_time": "2021-09-10T08:10:51.809Z"
   },
   {
    "duration": 14,
    "start_time": "2021-09-10T08:10:51.814Z"
   },
   {
    "duration": 12,
    "start_time": "2021-09-10T08:10:51.830Z"
   },
   {
    "duration": 43,
    "start_time": "2021-09-10T08:10:51.843Z"
   },
   {
    "duration": 7,
    "start_time": "2021-09-10T08:10:51.887Z"
   },
   {
    "duration": 8108,
    "start_time": "2021-09-10T08:10:51.896Z"
   },
   {
    "duration": 8,
    "start_time": "2021-09-10T08:11:00.006Z"
   },
   {
    "duration": 45,
    "start_time": "2021-09-10T08:11:00.016Z"
   },
   {
    "duration": 8,
    "start_time": "2021-09-10T08:11:00.062Z"
   },
   {
    "duration": 26,
    "start_time": "2021-09-10T08:11:00.072Z"
   },
   {
    "duration": 15,
    "start_time": "2021-09-10T08:11:00.099Z"
   },
   {
    "duration": 29,
    "start_time": "2021-09-10T08:11:00.115Z"
   },
   {
    "duration": 30,
    "start_time": "2021-09-10T08:11:00.145Z"
   },
   {
    "duration": 40,
    "start_time": "2021-09-10T08:11:00.176Z"
   },
   {
    "duration": 166,
    "start_time": "2021-09-10T08:11:00.218Z"
   },
   {
    "duration": 23811,
    "start_time": "2021-09-10T08:11:00.387Z"
   },
   {
    "duration": 14,
    "start_time": "2021-09-10T08:11:24.199Z"
   },
   {
    "duration": 372,
    "start_time": "2021-09-10T08:11:24.214Z"
   },
   {
    "duration": -1002,
    "start_time": "2021-09-10T08:11:25.590Z"
   },
   {
    "duration": -1005,
    "start_time": "2021-09-10T08:11:25.594Z"
   },
   {
    "duration": -1008,
    "start_time": "2021-09-10T08:11:25.598Z"
   },
   {
    "duration": -1030,
    "start_time": "2021-09-10T08:11:25.621Z"
   },
   {
    "duration": -1032,
    "start_time": "2021-09-10T08:11:25.624Z"
   },
   {
    "duration": -1035,
    "start_time": "2021-09-10T08:11:25.628Z"
   },
   {
    "duration": -1039,
    "start_time": "2021-09-10T08:11:25.633Z"
   },
   {
    "duration": -1044,
    "start_time": "2021-09-10T08:11:25.640Z"
   },
   {
    "duration": -1048,
    "start_time": "2021-09-10T08:11:25.644Z"
   },
   {
    "duration": -1050,
    "start_time": "2021-09-10T08:11:25.647Z"
   },
   {
    "duration": -1056,
    "start_time": "2021-09-10T08:11:25.654Z"
   },
   {
    "duration": -1059,
    "start_time": "2021-09-10T08:11:25.658Z"
   },
   {
    "duration": -1061,
    "start_time": "2021-09-10T08:11:25.661Z"
   },
   {
    "duration": -1064,
    "start_time": "2021-09-10T08:11:25.665Z"
   },
   {
    "duration": -1068,
    "start_time": "2021-09-10T08:11:25.670Z"
   },
   {
    "duration": -1071,
    "start_time": "2021-09-10T08:11:25.674Z"
   },
   {
    "duration": 1166,
    "start_time": "2021-09-10T08:11:50.164Z"
   },
   {
    "duration": 245,
    "start_time": "2021-09-10T08:11:51.332Z"
   },
   {
    "duration": 3,
    "start_time": "2021-09-10T08:11:51.579Z"
   },
   {
    "duration": 26,
    "start_time": "2021-09-10T08:11:51.584Z"
   },
   {
    "duration": 165,
    "start_time": "2021-09-10T08:11:51.612Z"
   },
   {
    "duration": 13,
    "start_time": "2021-09-10T08:11:51.778Z"
   },
   {
    "duration": 13,
    "start_time": "2021-09-10T08:11:51.792Z"
   },
   {
    "duration": 5,
    "start_time": "2021-09-10T08:11:51.806Z"
   },
   {
    "duration": 169,
    "start_time": "2021-09-10T08:11:51.813Z"
   },
   {
    "duration": 168,
    "start_time": "2021-09-10T08:11:51.984Z"
   },
   {
    "duration": 6,
    "start_time": "2021-09-10T08:11:52.153Z"
   },
   {
    "duration": 169,
    "start_time": "2021-09-10T08:11:52.160Z"
   },
   {
    "duration": 174,
    "start_time": "2021-09-10T08:11:52.331Z"
   },
   {
    "duration": 221,
    "start_time": "2021-09-10T08:11:52.507Z"
   },
   {
    "duration": 8,
    "start_time": "2021-09-10T08:11:52.730Z"
   },
   {
    "duration": 6,
    "start_time": "2021-09-10T08:11:52.740Z"
   },
   {
    "duration": 963,
    "start_time": "2021-09-10T08:11:52.747Z"
   },
   {
    "duration": 7,
    "start_time": "2021-09-10T08:11:53.712Z"
   },
   {
    "duration": 14,
    "start_time": "2021-09-10T08:11:53.721Z"
   },
   {
    "duration": 189,
    "start_time": "2021-09-10T08:11:53.736Z"
   },
   {
    "duration": 179,
    "start_time": "2021-09-10T08:11:53.926Z"
   },
   {
    "duration": 314,
    "start_time": "2021-09-10T08:11:54.106Z"
   },
   {
    "duration": 248,
    "start_time": "2021-09-10T08:11:54.421Z"
   },
   {
    "duration": 15,
    "start_time": "2021-09-10T08:11:54.670Z"
   },
   {
    "duration": 7,
    "start_time": "2021-09-10T08:11:54.687Z"
   },
   {
    "duration": 19,
    "start_time": "2021-09-10T08:11:54.695Z"
   },
   {
    "duration": 14,
    "start_time": "2021-09-10T08:11:54.718Z"
   },
   {
    "duration": 18,
    "start_time": "2021-09-10T08:11:54.734Z"
   },
   {
    "duration": 5,
    "start_time": "2021-09-10T08:11:54.753Z"
   },
   {
    "duration": 27,
    "start_time": "2021-09-10T08:11:54.760Z"
   },
   {
    "duration": 3,
    "start_time": "2021-09-10T08:11:54.789Z"
   },
   {
    "duration": 6,
    "start_time": "2021-09-10T08:11:54.793Z"
   },
   {
    "duration": 8,
    "start_time": "2021-09-10T08:11:54.801Z"
   },
   {
    "duration": 4,
    "start_time": "2021-09-10T08:11:54.810Z"
   },
   {
    "duration": 6,
    "start_time": "2021-09-10T08:11:54.815Z"
   },
   {
    "duration": 4,
    "start_time": "2021-09-10T08:11:54.822Z"
   },
   {
    "duration": 5,
    "start_time": "2021-09-10T08:11:54.828Z"
   },
   {
    "duration": 10,
    "start_time": "2021-09-10T08:11:54.834Z"
   },
   {
    "duration": 50,
    "start_time": "2021-09-10T08:11:54.845Z"
   },
   {
    "duration": 5,
    "start_time": "2021-09-10T08:11:54.896Z"
   },
   {
    "duration": 8161,
    "start_time": "2021-09-10T08:11:54.903Z"
   },
   {
    "duration": 18,
    "start_time": "2021-09-10T08:12:03.066Z"
   },
   {
    "duration": 13,
    "start_time": "2021-09-10T08:12:03.086Z"
   },
   {
    "duration": 4,
    "start_time": "2021-09-10T08:12:03.100Z"
   },
   {
    "duration": 19,
    "start_time": "2021-09-10T08:12:03.106Z"
   },
   {
    "duration": 3,
    "start_time": "2021-09-10T08:12:03.127Z"
   },
   {
    "duration": 6,
    "start_time": "2021-09-10T08:12:03.131Z"
   },
   {
    "duration": 6,
    "start_time": "2021-09-10T08:12:03.139Z"
   },
   {
    "duration": 53,
    "start_time": "2021-09-10T08:12:03.147Z"
   },
   {
    "duration": 89,
    "start_time": "2021-09-10T08:12:03.202Z"
   },
   {
    "duration": 23771,
    "start_time": "2021-09-10T08:12:03.293Z"
   },
   {
    "duration": 21,
    "start_time": "2021-09-10T08:12:27.066Z"
   },
   {
    "duration": 2112,
    "start_time": "2021-09-10T08:12:27.089Z"
   },
   {
    "duration": -1035,
    "start_time": "2021-09-10T08:12:30.237Z"
   },
   {
    "duration": -1037,
    "start_time": "2021-09-10T08:12:30.240Z"
   },
   {
    "duration": -1040,
    "start_time": "2021-09-10T08:12:30.244Z"
   },
   {
    "duration": -1068,
    "start_time": "2021-09-10T08:12:30.273Z"
   },
   {
    "duration": -1076,
    "start_time": "2021-09-10T08:12:30.282Z"
   },
   {
    "duration": -1081,
    "start_time": "2021-09-10T08:12:30.288Z"
   },
   {
    "duration": -1089,
    "start_time": "2021-09-10T08:12:30.297Z"
   },
   {
    "duration": -1095,
    "start_time": "2021-09-10T08:12:30.303Z"
   },
   {
    "duration": -1097,
    "start_time": "2021-09-10T08:12:30.306Z"
   },
   {
    "duration": -1110,
    "start_time": "2021-09-10T08:12:30.320Z"
   },
   {
    "duration": -1113,
    "start_time": "2021-09-10T08:12:30.324Z"
   },
   {
    "duration": -1126,
    "start_time": "2021-09-10T08:12:30.338Z"
   },
   {
    "duration": -1128,
    "start_time": "2021-09-10T08:12:30.341Z"
   },
   {
    "duration": -1141,
    "start_time": "2021-09-10T08:12:30.355Z"
   },
   {
    "duration": -1145,
    "start_time": "2021-09-10T08:12:30.359Z"
   },
   {
    "duration": -1160,
    "start_time": "2021-09-10T08:12:30.375Z"
   },
   {
    "duration": 1250,
    "start_time": "2021-09-10T08:12:53.282Z"
   },
   {
    "duration": 342,
    "start_time": "2021-09-10T08:12:54.534Z"
   },
   {
    "duration": 2,
    "start_time": "2021-09-10T08:12:54.878Z"
   },
   {
    "duration": 49,
    "start_time": "2021-09-10T08:12:54.882Z"
   },
   {
    "duration": 166,
    "start_time": "2021-09-10T08:12:54.932Z"
   },
   {
    "duration": 8,
    "start_time": "2021-09-10T08:12:55.100Z"
   },
   {
    "duration": 42,
    "start_time": "2021-09-10T08:12:55.109Z"
   },
   {
    "duration": 2,
    "start_time": "2021-09-10T08:12:55.153Z"
   },
   {
    "duration": 156,
    "start_time": "2021-09-10T08:12:55.157Z"
   },
   {
    "duration": 166,
    "start_time": "2021-09-10T08:12:55.314Z"
   },
   {
    "duration": 6,
    "start_time": "2021-09-10T08:12:55.484Z"
   },
   {
    "duration": 175,
    "start_time": "2021-09-10T08:12:55.491Z"
   },
   {
    "duration": 174,
    "start_time": "2021-09-10T08:12:55.667Z"
   },
   {
    "duration": 231,
    "start_time": "2021-09-10T08:12:55.843Z"
   },
   {
    "duration": 14,
    "start_time": "2021-09-10T08:12:56.075Z"
   },
   {
    "duration": 7,
    "start_time": "2021-09-10T08:12:56.091Z"
   },
   {
    "duration": 913,
    "start_time": "2021-09-10T08:12:56.100Z"
   },
   {
    "duration": 6,
    "start_time": "2021-09-10T08:12:57.015Z"
   },
   {
    "duration": 7,
    "start_time": "2021-09-10T08:12:57.023Z"
   },
   {
    "duration": 184,
    "start_time": "2021-09-10T08:12:57.032Z"
   },
   {
    "duration": 180,
    "start_time": "2021-09-10T08:12:57.217Z"
   },
   {
    "duration": 313,
    "start_time": "2021-09-10T08:12:57.399Z"
   },
   {
    "duration": 250,
    "start_time": "2021-09-10T08:12:57.715Z"
   },
   {
    "duration": 11,
    "start_time": "2021-09-10T08:12:57.967Z"
   },
   {
    "duration": 4,
    "start_time": "2021-09-10T08:12:57.985Z"
   },
   {
    "duration": 19,
    "start_time": "2021-09-10T08:12:57.990Z"
   },
   {
    "duration": 12,
    "start_time": "2021-09-10T08:12:58.011Z"
   },
   {
    "duration": 16,
    "start_time": "2021-09-10T08:12:58.024Z"
   },
   {
    "duration": 5,
    "start_time": "2021-09-10T08:12:58.041Z"
   },
   {
    "duration": 6,
    "start_time": "2021-09-10T08:12:58.047Z"
   },
   {
    "duration": 31,
    "start_time": "2021-09-10T08:12:58.055Z"
   },
   {
    "duration": 7,
    "start_time": "2021-09-10T08:12:58.088Z"
   },
   {
    "duration": 8,
    "start_time": "2021-09-10T08:12:58.096Z"
   },
   {
    "duration": 8,
    "start_time": "2021-09-10T08:12:58.105Z"
   },
   {
    "duration": 9,
    "start_time": "2021-09-10T08:12:58.115Z"
   },
   {
    "duration": 6,
    "start_time": "2021-09-10T08:12:58.126Z"
   },
   {
    "duration": 4,
    "start_time": "2021-09-10T08:12:58.134Z"
   },
   {
    "duration": 10,
    "start_time": "2021-09-10T08:12:58.139Z"
   },
   {
    "duration": 16,
    "start_time": "2021-09-10T08:12:58.151Z"
   },
   {
    "duration": 20,
    "start_time": "2021-09-10T08:12:58.168Z"
   },
   {
    "duration": 8076,
    "start_time": "2021-09-10T08:12:58.189Z"
   },
   {
    "duration": 8,
    "start_time": "2021-09-10T08:13:06.266Z"
   },
   {
    "duration": 14,
    "start_time": "2021-09-10T08:13:06.284Z"
   },
   {
    "duration": 4,
    "start_time": "2021-09-10T08:13:06.300Z"
   },
   {
    "duration": 23,
    "start_time": "2021-09-10T08:13:06.306Z"
   },
   {
    "duration": 4,
    "start_time": "2021-09-10T08:13:06.331Z"
   },
   {
    "duration": 11,
    "start_time": "2021-09-10T08:13:06.337Z"
   },
   {
    "duration": 8,
    "start_time": "2021-09-10T08:13:06.349Z"
   },
   {
    "duration": 48,
    "start_time": "2021-09-10T08:13:06.358Z"
   },
   {
    "duration": 105,
    "start_time": "2021-09-10T08:13:06.487Z"
   },
   {
    "duration": 23814,
    "start_time": "2021-09-10T08:13:06.594Z"
   },
   {
    "duration": 13,
    "start_time": "2021-09-10T08:13:30.410Z"
   },
   {
    "duration": 370,
    "start_time": "2021-09-10T08:13:30.425Z"
   },
   {
    "duration": -1014,
    "start_time": "2021-09-10T08:13:31.811Z"
   },
   {
    "duration": -1017,
    "start_time": "2021-09-10T08:13:31.815Z"
   },
   {
    "duration": -1028,
    "start_time": "2021-09-10T08:13:31.826Z"
   },
   {
    "duration": -1031,
    "start_time": "2021-09-10T08:13:31.830Z"
   },
   {
    "duration": -1036,
    "start_time": "2021-09-10T08:13:31.836Z"
   },
   {
    "duration": -1039,
    "start_time": "2021-09-10T08:13:31.840Z"
   },
   {
    "duration": -1041,
    "start_time": "2021-09-10T08:13:31.843Z"
   },
   {
    "duration": -1043,
    "start_time": "2021-09-10T08:13:31.846Z"
   },
   {
    "duration": -1049,
    "start_time": "2021-09-10T08:13:31.853Z"
   },
   {
    "duration": -1050,
    "start_time": "2021-09-10T08:13:31.855Z"
   },
   {
    "duration": -1052,
    "start_time": "2021-09-10T08:13:31.858Z"
   },
   {
    "duration": -1062,
    "start_time": "2021-09-10T08:13:31.869Z"
   },
   {
    "duration": -1065,
    "start_time": "2021-09-10T08:13:31.872Z"
   },
   {
    "duration": -1066,
    "start_time": "2021-09-10T08:13:31.875Z"
   },
   {
    "duration": -1067,
    "start_time": "2021-09-10T08:13:31.877Z"
   },
   {
    "duration": -1070,
    "start_time": "2021-09-10T08:13:31.880Z"
   },
   {
    "duration": 1122,
    "start_time": "2021-09-10T08:13:54.110Z"
   },
   {
    "duration": 313,
    "start_time": "2021-09-10T08:13:55.234Z"
   },
   {
    "duration": 2,
    "start_time": "2021-09-10T08:13:55.549Z"
   },
   {
    "duration": 26,
    "start_time": "2021-09-10T08:13:55.553Z"
   },
   {
    "duration": 164,
    "start_time": "2021-09-10T08:13:55.580Z"
   },
   {
    "duration": 8,
    "start_time": "2021-09-10T08:13:55.746Z"
   },
   {
    "duration": 28,
    "start_time": "2021-09-10T08:13:55.756Z"
   },
   {
    "duration": 2,
    "start_time": "2021-09-10T08:13:55.787Z"
   },
   {
    "duration": 183,
    "start_time": "2021-09-10T08:13:55.791Z"
   },
   {
    "duration": 172,
    "start_time": "2021-09-10T08:13:55.976Z"
   },
   {
    "duration": 5,
    "start_time": "2021-09-10T08:13:56.150Z"
   },
   {
    "duration": 177,
    "start_time": "2021-09-10T08:13:56.156Z"
   },
   {
    "duration": 182,
    "start_time": "2021-09-10T08:13:56.335Z"
   },
   {
    "duration": 235,
    "start_time": "2021-09-10T08:13:56.518Z"
   },
   {
    "duration": 8,
    "start_time": "2021-09-10T08:13:56.755Z"
   },
   {
    "duration": 21,
    "start_time": "2021-09-10T08:13:56.765Z"
   },
   {
    "duration": 944,
    "start_time": "2021-09-10T08:13:56.788Z"
   },
   {
    "duration": 6,
    "start_time": "2021-09-10T08:13:57.734Z"
   },
   {
    "duration": 8,
    "start_time": "2021-09-10T08:13:57.742Z"
   },
   {
    "duration": 201,
    "start_time": "2021-09-10T08:13:57.751Z"
   },
   {
    "duration": 190,
    "start_time": "2021-09-10T08:13:57.953Z"
   },
   {
    "duration": 311,
    "start_time": "2021-09-10T08:13:58.144Z"
   },
   {
    "duration": 250,
    "start_time": "2021-09-10T08:13:58.459Z"
   },
   {
    "duration": 11,
    "start_time": "2021-09-10T08:13:58.712Z"
   },
   {
    "duration": 12,
    "start_time": "2021-09-10T08:13:58.724Z"
   },
   {
    "duration": 31,
    "start_time": "2021-09-10T08:13:58.737Z"
   },
   {
    "duration": 16,
    "start_time": "2021-09-10T08:13:58.769Z"
   },
   {
    "duration": 22,
    "start_time": "2021-09-10T08:13:58.787Z"
   },
   {
    "duration": 9,
    "start_time": "2021-09-10T08:13:58.810Z"
   },
   {
    "duration": 11,
    "start_time": "2021-09-10T08:13:58.820Z"
   },
   {
    "duration": 10,
    "start_time": "2021-09-10T08:13:58.832Z"
   },
   {
    "duration": 11,
    "start_time": "2021-09-10T08:13:58.843Z"
   },
   {
    "duration": 14,
    "start_time": "2021-09-10T08:13:58.856Z"
   },
   {
    "duration": 4,
    "start_time": "2021-09-10T08:13:58.871Z"
   },
   {
    "duration": 11,
    "start_time": "2021-09-10T08:13:58.876Z"
   },
   {
    "duration": 5,
    "start_time": "2021-09-10T08:13:58.888Z"
   },
   {
    "duration": 5,
    "start_time": "2021-09-10T08:13:58.895Z"
   },
   {
    "duration": 8,
    "start_time": "2021-09-10T08:13:58.902Z"
   },
   {
    "duration": 16,
    "start_time": "2021-09-10T08:13:58.912Z"
   },
   {
    "duration": 5,
    "start_time": "2021-09-10T08:13:58.929Z"
   },
   {
    "duration": 8032,
    "start_time": "2021-09-10T08:13:58.935Z"
   },
   {
    "duration": 7,
    "start_time": "2021-09-10T08:14:06.968Z"
   },
   {
    "duration": 19,
    "start_time": "2021-09-10T08:14:06.976Z"
   },
   {
    "duration": 4,
    "start_time": "2021-09-10T08:14:06.996Z"
   },
   {
    "duration": 15,
    "start_time": "2021-09-10T08:14:07.002Z"
   },
   {
    "duration": 3,
    "start_time": "2021-09-10T08:14:07.019Z"
   },
   {
    "duration": 5,
    "start_time": "2021-09-10T08:14:07.024Z"
   },
   {
    "duration": 6,
    "start_time": "2021-09-10T08:14:07.031Z"
   },
   {
    "duration": 58,
    "start_time": "2021-09-10T08:14:07.039Z"
   },
   {
    "duration": 91,
    "start_time": "2021-09-10T08:14:07.099Z"
   },
   {
    "duration": 24245,
    "start_time": "2021-09-10T08:14:07.192Z"
   },
   {
    "duration": 13,
    "start_time": "2021-09-10T08:14:31.439Z"
   },
   {
    "duration": 389,
    "start_time": "2021-09-10T08:14:31.453Z"
   },
   {
    "duration": -1032,
    "start_time": "2021-09-10T08:14:32.875Z"
   },
   {
    "duration": -1035,
    "start_time": "2021-09-10T08:14:32.879Z"
   },
   {
    "duration": -1037,
    "start_time": "2021-09-10T08:14:32.882Z"
   },
   {
    "duration": -1053,
    "start_time": "2021-09-10T08:14:32.899Z"
   },
   {
    "duration": -1059,
    "start_time": "2021-09-10T08:14:32.906Z"
   },
   {
    "duration": -1061,
    "start_time": "2021-09-10T08:14:32.909Z"
   },
   {
    "duration": -1063,
    "start_time": "2021-09-10T08:14:32.912Z"
   },
   {
    "duration": -1069,
    "start_time": "2021-09-10T08:14:32.919Z"
   },
   {
    "duration": -1071,
    "start_time": "2021-09-10T08:14:32.922Z"
   },
   {
    "duration": -1074,
    "start_time": "2021-09-10T08:14:32.925Z"
   },
   {
    "duration": -1075,
    "start_time": "2021-09-10T08:14:32.928Z"
   },
   {
    "duration": -1078,
    "start_time": "2021-09-10T08:14:32.931Z"
   },
   {
    "duration": -1083,
    "start_time": "2021-09-10T08:14:32.937Z"
   },
   {
    "duration": -1085,
    "start_time": "2021-09-10T08:14:32.940Z"
   },
   {
    "duration": -1088,
    "start_time": "2021-09-10T08:14:32.944Z"
   },
   {
    "duration": -1091,
    "start_time": "2021-09-10T08:14:32.948Z"
   },
   {
    "duration": 1184,
    "start_time": "2021-09-10T08:15:08.238Z"
   },
   {
    "duration": 289,
    "start_time": "2021-09-10T08:15:09.424Z"
   },
   {
    "duration": 3,
    "start_time": "2021-09-10T08:15:09.715Z"
   },
   {
    "duration": 29,
    "start_time": "2021-09-10T08:15:09.719Z"
   },
   {
    "duration": 159,
    "start_time": "2021-09-10T08:15:09.749Z"
   },
   {
    "duration": 9,
    "start_time": "2021-09-10T08:15:09.909Z"
   },
   {
    "duration": 13,
    "start_time": "2021-09-10T08:15:09.919Z"
   },
   {
    "duration": 5,
    "start_time": "2021-09-10T08:15:09.934Z"
   },
   {
    "duration": 177,
    "start_time": "2021-09-10T08:15:09.940Z"
   },
   {
    "duration": 176,
    "start_time": "2021-09-10T08:15:10.118Z"
   },
   {
    "duration": 6,
    "start_time": "2021-09-10T08:15:10.295Z"
   },
   {
    "duration": 160,
    "start_time": "2021-09-10T08:15:10.303Z"
   },
   {
    "duration": 176,
    "start_time": "2021-09-10T08:15:10.465Z"
   },
   {
    "duration": 224,
    "start_time": "2021-09-10T08:15:10.642Z"
   },
   {
    "duration": 8,
    "start_time": "2021-09-10T08:15:10.868Z"
   },
   {
    "duration": 12,
    "start_time": "2021-09-10T08:15:10.878Z"
   },
   {
    "duration": 939,
    "start_time": "2021-09-10T08:15:10.891Z"
   },
   {
    "duration": 7,
    "start_time": "2021-09-10T08:15:11.832Z"
   },
   {
    "duration": 9,
    "start_time": "2021-09-10T08:15:11.840Z"
   },
   {
    "duration": 196,
    "start_time": "2021-09-10T08:15:11.850Z"
   },
   {
    "duration": 182,
    "start_time": "2021-09-10T08:15:12.048Z"
   },
   {
    "duration": 320,
    "start_time": "2021-09-10T08:15:12.232Z"
   },
   {
    "duration": 254,
    "start_time": "2021-09-10T08:15:12.556Z"
   },
   {
    "duration": 12,
    "start_time": "2021-09-10T08:15:12.812Z"
   },
   {
    "duration": 14,
    "start_time": "2021-09-10T08:15:12.826Z"
   },
   {
    "duration": 23,
    "start_time": "2021-09-10T08:15:12.841Z"
   },
   {
    "duration": 27,
    "start_time": "2021-09-10T08:15:12.866Z"
   },
   {
    "duration": 29,
    "start_time": "2021-09-10T08:15:12.894Z"
   },
   {
    "duration": 5,
    "start_time": "2021-09-10T08:15:12.925Z"
   },
   {
    "duration": 17,
    "start_time": "2021-09-10T08:15:12.931Z"
   },
   {
    "duration": 15,
    "start_time": "2021-09-10T08:15:12.949Z"
   },
   {
    "duration": 16,
    "start_time": "2021-09-10T08:15:12.965Z"
   },
   {
    "duration": 15,
    "start_time": "2021-09-10T08:15:12.983Z"
   },
   {
    "duration": 14,
    "start_time": "2021-09-10T08:15:12.999Z"
   },
   {
    "duration": 11,
    "start_time": "2021-09-10T08:15:13.015Z"
   },
   {
    "duration": 15,
    "start_time": "2021-09-10T08:15:13.028Z"
   },
   {
    "duration": 14,
    "start_time": "2021-09-10T08:15:13.045Z"
   },
   {
    "duration": 21,
    "start_time": "2021-09-10T08:15:13.061Z"
   },
   {
    "duration": 28,
    "start_time": "2021-09-10T08:15:13.084Z"
   },
   {
    "duration": 6,
    "start_time": "2021-09-10T08:15:13.114Z"
   },
   {
    "duration": 8070,
    "start_time": "2021-09-10T08:15:13.122Z"
   },
   {
    "duration": 8,
    "start_time": "2021-09-10T08:15:21.194Z"
   },
   {
    "duration": 14,
    "start_time": "2021-09-10T08:15:21.204Z"
   },
   {
    "duration": 5,
    "start_time": "2021-09-10T08:15:21.219Z"
   },
   {
    "duration": 17,
    "start_time": "2021-09-10T08:15:21.226Z"
   },
   {
    "duration": 5,
    "start_time": "2021-09-10T08:15:21.244Z"
   },
   {
    "duration": 34,
    "start_time": "2021-09-10T08:15:21.251Z"
   },
   {
    "duration": 7,
    "start_time": "2021-09-10T08:15:21.286Z"
   },
   {
    "duration": 92,
    "start_time": "2021-09-10T08:15:21.294Z"
   },
   {
    "duration": 104,
    "start_time": "2021-09-10T08:15:21.388Z"
   },
   {
    "duration": 23877,
    "start_time": "2021-09-10T08:15:21.494Z"
   },
   {
    "duration": 21,
    "start_time": "2021-09-10T08:15:45.372Z"
   },
   {
    "duration": 368,
    "start_time": "2021-09-10T08:15:45.394Z"
   },
   {
    "duration": -1022,
    "start_time": "2021-09-10T08:15:46.785Z"
   },
   {
    "duration": -1025,
    "start_time": "2021-09-10T08:15:46.789Z"
   },
   {
    "duration": -1027,
    "start_time": "2021-09-10T08:15:46.792Z"
   },
   {
    "duration": -1029,
    "start_time": "2021-09-10T08:15:46.795Z"
   },
   {
    "duration": -1032,
    "start_time": "2021-09-10T08:15:46.799Z"
   },
   {
    "duration": -1038,
    "start_time": "2021-09-10T08:15:46.806Z"
   },
   {
    "duration": -1039,
    "start_time": "2021-09-10T08:15:46.808Z"
   },
   {
    "duration": -1043,
    "start_time": "2021-09-10T08:15:46.812Z"
   },
   {
    "duration": -1049,
    "start_time": "2021-09-10T08:15:46.819Z"
   },
   {
    "duration": -1050,
    "start_time": "2021-09-10T08:15:46.821Z"
   },
   {
    "duration": -1052,
    "start_time": "2021-09-10T08:15:46.824Z"
   },
   {
    "duration": -1054,
    "start_time": "2021-09-10T08:15:46.827Z"
   },
   {
    "duration": -1056,
    "start_time": "2021-09-10T08:15:46.830Z"
   },
   {
    "duration": -1063,
    "start_time": "2021-09-10T08:15:46.838Z"
   },
   {
    "duration": -1065,
    "start_time": "2021-09-10T08:15:46.841Z"
   },
   {
    "duration": -1068,
    "start_time": "2021-09-10T08:15:46.845Z"
   },
   {
    "duration": 1165,
    "start_time": "2021-09-10T08:16:39.263Z"
   },
   {
    "duration": 915,
    "start_time": "2021-09-10T08:16:40.430Z"
   },
   {
    "duration": 2,
    "start_time": "2021-09-10T08:16:41.347Z"
   },
   {
    "duration": 26,
    "start_time": "2021-09-10T08:16:41.351Z"
   },
   {
    "duration": 161,
    "start_time": "2021-09-10T08:16:41.379Z"
   },
   {
    "duration": 8,
    "start_time": "2021-09-10T08:16:41.541Z"
   },
   {
    "duration": 12,
    "start_time": "2021-09-10T08:16:41.551Z"
   },
   {
    "duration": 19,
    "start_time": "2021-09-10T08:16:41.566Z"
   },
   {
    "duration": 163,
    "start_time": "2021-09-10T08:16:41.587Z"
   },
   {
    "duration": 180,
    "start_time": "2021-09-10T08:16:41.752Z"
   },
   {
    "duration": 5,
    "start_time": "2021-09-10T08:16:41.934Z"
   },
   {
    "duration": 175,
    "start_time": "2021-09-10T08:16:41.941Z"
   },
   {
    "duration": 178,
    "start_time": "2021-09-10T08:16:42.118Z"
   },
   {
    "duration": 239,
    "start_time": "2021-09-10T08:16:42.298Z"
   },
   {
    "duration": 8,
    "start_time": "2021-09-10T08:16:42.538Z"
   },
   {
    "duration": 6,
    "start_time": "2021-09-10T08:16:42.548Z"
   },
   {
    "duration": 957,
    "start_time": "2021-09-10T08:16:42.555Z"
   },
   {
    "duration": 7,
    "start_time": "2021-09-10T08:16:43.513Z"
   },
   {
    "duration": 13,
    "start_time": "2021-09-10T08:16:43.522Z"
   },
   {
    "duration": 196,
    "start_time": "2021-09-10T08:16:43.536Z"
   },
   {
    "duration": 184,
    "start_time": "2021-09-10T08:16:43.734Z"
   },
   {
    "duration": 319,
    "start_time": "2021-09-10T08:16:43.920Z"
   },
   {
    "duration": 247,
    "start_time": "2021-09-10T08:16:44.243Z"
   },
   {
    "duration": 11,
    "start_time": "2021-09-10T08:16:44.493Z"
   },
   {
    "duration": 7,
    "start_time": "2021-09-10T08:16:44.505Z"
   },
   {
    "duration": 19,
    "start_time": "2021-09-10T08:16:44.514Z"
   },
   {
    "duration": 12,
    "start_time": "2021-09-10T08:16:44.535Z"
   },
   {
    "duration": 44,
    "start_time": "2021-09-10T08:16:44.549Z"
   },
   {
    "duration": 5,
    "start_time": "2021-09-10T08:16:44.595Z"
   },
   {
    "duration": 7,
    "start_time": "2021-09-10T08:16:44.601Z"
   },
   {
    "duration": 5,
    "start_time": "2021-09-10T08:16:44.610Z"
   },
   {
    "duration": 7,
    "start_time": "2021-09-10T08:16:44.617Z"
   },
   {
    "duration": 8,
    "start_time": "2021-09-10T08:16:44.625Z"
   },
   {
    "duration": 5,
    "start_time": "2021-09-10T08:16:44.634Z"
   },
   {
    "duration": 6,
    "start_time": "2021-09-10T08:16:44.640Z"
   },
   {
    "duration": 10,
    "start_time": "2021-09-10T08:16:44.648Z"
   },
   {
    "duration": 28,
    "start_time": "2021-09-10T08:16:44.659Z"
   },
   {
    "duration": 15,
    "start_time": "2021-09-10T08:16:44.688Z"
   },
   {
    "duration": 17,
    "start_time": "2021-09-10T08:16:44.704Z"
   },
   {
    "duration": 5,
    "start_time": "2021-09-10T08:16:44.722Z"
   },
   {
    "duration": 7986,
    "start_time": "2021-09-10T08:16:44.729Z"
   },
   {
    "duration": 7,
    "start_time": "2021-09-10T08:16:52.717Z"
   },
   {
    "duration": 15,
    "start_time": "2021-09-10T08:16:52.725Z"
   },
   {
    "duration": 3,
    "start_time": "2021-09-10T08:16:52.742Z"
   },
   {
    "duration": 16,
    "start_time": "2021-09-10T08:16:52.747Z"
   },
   {
    "duration": 21,
    "start_time": "2021-09-10T08:16:52.765Z"
   },
   {
    "duration": 8,
    "start_time": "2021-09-10T08:16:52.787Z"
   },
   {
    "duration": 10,
    "start_time": "2021-09-10T08:16:52.796Z"
   },
   {
    "duration": 78,
    "start_time": "2021-09-10T08:16:52.808Z"
   },
   {
    "duration": 99,
    "start_time": "2021-09-10T08:16:52.888Z"
   },
   {
    "duration": 23316,
    "start_time": "2021-09-10T08:16:52.990Z"
   },
   {
    "duration": 13,
    "start_time": "2021-09-10T08:17:16.308Z"
   },
   {
    "duration": 359,
    "start_time": "2021-09-10T08:17:16.322Z"
   },
   {
    "duration": -998,
    "start_time": "2021-09-10T08:17:17.681Z"
   },
   {
    "duration": -1004,
    "start_time": "2021-09-10T08:17:17.688Z"
   },
   {
    "duration": -1007,
    "start_time": "2021-09-10T08:17:17.692Z"
   },
   {
    "duration": -1010,
    "start_time": "2021-09-10T08:17:17.696Z"
   },
   {
    "duration": -1038,
    "start_time": "2021-09-10T08:17:17.725Z"
   },
   {
    "duration": -1042,
    "start_time": "2021-09-10T08:17:17.730Z"
   },
   {
    "duration": -1048,
    "start_time": "2021-09-10T08:17:17.737Z"
   },
   {
    "duration": -1050,
    "start_time": "2021-09-10T08:17:17.740Z"
   },
   {
    "duration": -1052,
    "start_time": "2021-09-10T08:17:17.743Z"
   },
   {
    "duration": -1056,
    "start_time": "2021-09-10T08:17:17.748Z"
   },
   {
    "duration": -1061,
    "start_time": "2021-09-10T08:17:17.754Z"
   },
   {
    "duration": -1064,
    "start_time": "2021-09-10T08:17:17.758Z"
   },
   {
    "duration": -1066,
    "start_time": "2021-09-10T08:17:17.761Z"
   },
   {
    "duration": -1069,
    "start_time": "2021-09-10T08:17:17.764Z"
   },
   {
    "duration": -1074,
    "start_time": "2021-09-10T08:17:17.770Z"
   },
   {
    "duration": -1077,
    "start_time": "2021-09-10T08:17:17.774Z"
   },
   {
    "duration": 1174,
    "start_time": "2021-09-10T08:18:33.642Z"
   },
   {
    "duration": 255,
    "start_time": "2021-09-10T08:18:34.818Z"
   },
   {
    "duration": 2,
    "start_time": "2021-09-10T08:18:35.075Z"
   },
   {
    "duration": 76,
    "start_time": "2021-09-10T08:18:35.079Z"
   },
   {
    "duration": 154,
    "start_time": "2021-09-10T08:18:35.157Z"
   },
   {
    "duration": 8,
    "start_time": "2021-09-10T08:18:35.313Z"
   },
   {
    "duration": 26,
    "start_time": "2021-09-10T08:18:35.323Z"
   },
   {
    "duration": 12,
    "start_time": "2021-09-10T08:18:35.351Z"
   },
   {
    "duration": 161,
    "start_time": "2021-09-10T08:18:35.366Z"
   },
   {
    "duration": 173,
    "start_time": "2021-09-10T08:18:35.529Z"
   },
   {
    "duration": 5,
    "start_time": "2021-09-10T08:18:35.704Z"
   },
   {
    "duration": 164,
    "start_time": "2021-09-10T08:18:35.710Z"
   },
   {
    "duration": 179,
    "start_time": "2021-09-10T08:18:35.875Z"
   },
   {
    "duration": 227,
    "start_time": "2021-09-10T08:18:36.055Z"
   },
   {
    "duration": 8,
    "start_time": "2021-09-10T08:18:36.285Z"
   },
   {
    "duration": 6,
    "start_time": "2021-09-10T08:18:36.295Z"
   },
   {
    "duration": 921,
    "start_time": "2021-09-10T08:18:36.303Z"
   },
   {
    "duration": 7,
    "start_time": "2021-09-10T08:18:37.225Z"
   },
   {
    "duration": 6,
    "start_time": "2021-09-10T08:18:37.234Z"
   },
   {
    "duration": 194,
    "start_time": "2021-09-10T08:18:37.241Z"
   },
   {
    "duration": 190,
    "start_time": "2021-09-10T08:18:37.437Z"
   },
   {
    "duration": 330,
    "start_time": "2021-09-10T08:18:37.628Z"
   },
   {
    "duration": 253,
    "start_time": "2021-09-10T08:18:37.960Z"
   },
   {
    "duration": 12,
    "start_time": "2021-09-10T08:18:38.215Z"
   },
   {
    "duration": 11,
    "start_time": "2021-09-10T08:18:38.228Z"
   },
   {
    "duration": 25,
    "start_time": "2021-09-10T08:18:38.241Z"
   },
   {
    "duration": 17,
    "start_time": "2021-09-10T08:18:38.269Z"
   },
   {
    "duration": 19,
    "start_time": "2021-09-10T08:18:38.288Z"
   },
   {
    "duration": 5,
    "start_time": "2021-09-10T08:18:38.308Z"
   },
   {
    "duration": 24,
    "start_time": "2021-09-10T08:18:38.315Z"
   },
   {
    "duration": 21,
    "start_time": "2021-09-10T08:18:38.340Z"
   },
   {
    "duration": 18,
    "start_time": "2021-09-10T08:18:38.362Z"
   },
   {
    "duration": 18,
    "start_time": "2021-09-10T08:18:38.381Z"
   },
   {
    "duration": 17,
    "start_time": "2021-09-10T08:18:38.401Z"
   },
   {
    "duration": 19,
    "start_time": "2021-09-10T08:18:38.419Z"
   },
   {
    "duration": 13,
    "start_time": "2021-09-10T08:18:38.440Z"
   },
   {
    "duration": 8,
    "start_time": "2021-09-10T08:18:38.455Z"
   },
   {
    "duration": 12,
    "start_time": "2021-09-10T08:18:38.465Z"
   },
   {
    "duration": 21,
    "start_time": "2021-09-10T08:18:38.479Z"
   },
   {
    "duration": 10,
    "start_time": "2021-09-10T08:18:38.502Z"
   },
   {
    "duration": 8115,
    "start_time": "2021-09-10T08:18:38.514Z"
   },
   {
    "duration": 7,
    "start_time": "2021-09-10T08:18:46.631Z"
   },
   {
    "duration": 16,
    "start_time": "2021-09-10T08:18:46.639Z"
   },
   {
    "duration": 4,
    "start_time": "2021-09-10T08:18:46.656Z"
   },
   {
    "duration": 27,
    "start_time": "2021-09-10T08:18:46.661Z"
   },
   {
    "duration": 3,
    "start_time": "2021-09-10T08:18:46.690Z"
   },
   {
    "duration": 7,
    "start_time": "2021-09-10T08:18:46.695Z"
   },
   {
    "duration": 6,
    "start_time": "2021-09-10T08:18:46.704Z"
   },
   {
    "duration": 76,
    "start_time": "2021-09-10T08:18:46.712Z"
   },
   {
    "duration": 197,
    "start_time": "2021-09-10T08:18:46.790Z"
   },
   {
    "duration": 24030,
    "start_time": "2021-09-10T08:18:46.989Z"
   },
   {
    "duration": 14,
    "start_time": "2021-09-10T08:19:11.020Z"
   },
   {
    "duration": 396,
    "start_time": "2021-09-10T08:19:11.035Z"
   },
   {
    "duration": -1005,
    "start_time": "2021-09-10T08:19:12.437Z"
   },
   {
    "duration": -1008,
    "start_time": "2021-09-10T08:19:12.441Z"
   },
   {
    "duration": -1009,
    "start_time": "2021-09-10T08:19:12.444Z"
   },
   {
    "duration": -1031,
    "start_time": "2021-09-10T08:19:12.467Z"
   },
   {
    "duration": -1035,
    "start_time": "2021-09-10T08:19:12.472Z"
   },
   {
    "duration": -1039,
    "start_time": "2021-09-10T08:19:12.476Z"
   },
   {
    "duration": -1042,
    "start_time": "2021-09-10T08:19:12.480Z"
   },
   {
    "duration": -1046,
    "start_time": "2021-09-10T08:19:12.485Z"
   },
   {
    "duration": -1048,
    "start_time": "2021-09-10T08:19:12.488Z"
   },
   {
    "duration": -1050,
    "start_time": "2021-09-10T08:19:12.491Z"
   },
   {
    "duration": -1052,
    "start_time": "2021-09-10T08:19:12.494Z"
   },
   {
    "duration": -1055,
    "start_time": "2021-09-10T08:19:12.498Z"
   },
   {
    "duration": -1059,
    "start_time": "2021-09-10T08:19:12.503Z"
   },
   {
    "duration": -1061,
    "start_time": "2021-09-10T08:19:12.506Z"
   },
   {
    "duration": -1063,
    "start_time": "2021-09-10T08:19:12.509Z"
   },
   {
    "duration": -1065,
    "start_time": "2021-09-10T08:19:12.512Z"
   },
   {
    "duration": 1409,
    "start_time": "2021-09-10T08:20:08.615Z"
   },
   {
    "duration": 855,
    "start_time": "2021-09-10T08:20:10.026Z"
   },
   {
    "duration": 2,
    "start_time": "2021-09-10T08:20:10.883Z"
   },
   {
    "duration": 32,
    "start_time": "2021-09-10T08:20:10.887Z"
   },
   {
    "duration": 159,
    "start_time": "2021-09-10T08:20:10.921Z"
   },
   {
    "duration": 7,
    "start_time": "2021-09-10T08:20:11.085Z"
   },
   {
    "duration": 14,
    "start_time": "2021-09-10T08:20:11.094Z"
   },
   {
    "duration": 2,
    "start_time": "2021-09-10T08:20:11.110Z"
   },
   {
    "duration": 171,
    "start_time": "2021-09-10T08:20:11.114Z"
   },
   {
    "duration": 167,
    "start_time": "2021-09-10T08:20:11.286Z"
   },
   {
    "duration": 6,
    "start_time": "2021-09-10T08:20:11.454Z"
   },
   {
    "duration": 166,
    "start_time": "2021-09-10T08:20:11.461Z"
   },
   {
    "duration": 188,
    "start_time": "2021-09-10T08:20:11.629Z"
   },
   {
    "duration": 220,
    "start_time": "2021-09-10T08:20:11.819Z"
   },
   {
    "duration": 8,
    "start_time": "2021-09-10T08:20:12.041Z"
   },
   {
    "duration": 11,
    "start_time": "2021-09-10T08:20:12.051Z"
   },
   {
    "duration": 924,
    "start_time": "2021-09-10T08:20:12.064Z"
   },
   {
    "duration": 7,
    "start_time": "2021-09-10T08:20:12.990Z"
   },
   {
    "duration": 7,
    "start_time": "2021-09-10T08:20:12.999Z"
   },
   {
    "duration": 178,
    "start_time": "2021-09-10T08:20:13.008Z"
   },
   {
    "duration": 186,
    "start_time": "2021-09-10T08:20:13.188Z"
   },
   {
    "duration": 319,
    "start_time": "2021-09-10T08:20:13.376Z"
   },
   {
    "duration": 252,
    "start_time": "2021-09-10T08:20:13.699Z"
   },
   {
    "duration": 11,
    "start_time": "2021-09-10T08:20:13.955Z"
   },
   {
    "duration": 17,
    "start_time": "2021-09-10T08:20:13.968Z"
   },
   {
    "duration": 20,
    "start_time": "2021-09-10T08:20:13.986Z"
   },
   {
    "duration": 12,
    "start_time": "2021-09-10T08:20:14.008Z"
   },
   {
    "duration": 21,
    "start_time": "2021-09-10T08:20:14.022Z"
   },
   {
    "duration": 5,
    "start_time": "2021-09-10T08:20:14.045Z"
   },
   {
    "duration": 13,
    "start_time": "2021-09-10T08:20:14.051Z"
   },
   {
    "duration": 19,
    "start_time": "2021-09-10T08:20:14.065Z"
   },
   {
    "duration": 3,
    "start_time": "2021-09-10T08:20:14.086Z"
   },
   {
    "duration": 16,
    "start_time": "2021-09-10T08:20:14.090Z"
   },
   {
    "duration": 7,
    "start_time": "2021-09-10T08:20:14.107Z"
   },
   {
    "duration": 5,
    "start_time": "2021-09-10T08:20:14.116Z"
   },
   {
    "duration": 9,
    "start_time": "2021-09-10T08:20:14.123Z"
   },
   {
    "duration": 7,
    "start_time": "2021-09-10T08:20:14.134Z"
   },
   {
    "duration": 10,
    "start_time": "2021-09-10T08:20:14.142Z"
   },
   {
    "duration": 19,
    "start_time": "2021-09-10T08:20:14.153Z"
   },
   {
    "duration": 14,
    "start_time": "2021-09-10T08:20:14.173Z"
   },
   {
    "duration": 7992,
    "start_time": "2021-09-10T08:20:14.189Z"
   },
   {
    "duration": 6,
    "start_time": "2021-09-10T08:20:22.183Z"
   },
   {
    "duration": 15,
    "start_time": "2021-09-10T08:20:22.191Z"
   },
   {
    "duration": 6,
    "start_time": "2021-09-10T08:20:22.207Z"
   },
   {
    "duration": 16,
    "start_time": "2021-09-10T08:20:22.215Z"
   },
   {
    "duration": 3,
    "start_time": "2021-09-10T08:20:22.233Z"
   },
   {
    "duration": 6,
    "start_time": "2021-09-10T08:20:22.238Z"
   },
   {
    "duration": 7,
    "start_time": "2021-09-10T08:20:22.245Z"
   },
   {
    "duration": 52,
    "start_time": "2021-09-10T08:20:22.254Z"
   },
   {
    "duration": 83,
    "start_time": "2021-09-10T08:20:22.308Z"
   },
   {
    "duration": 24318,
    "start_time": "2021-09-10T08:20:22.393Z"
   },
   {
    "duration": 14,
    "start_time": "2021-09-10T08:20:46.713Z"
   },
   {
    "duration": 924,
    "start_time": "2021-09-10T08:20:46.728Z"
   },
   {
    "duration": -1004,
    "start_time": "2021-09-10T08:20:48.658Z"
   },
   {
    "duration": -1006,
    "start_time": "2021-09-10T08:20:48.661Z"
   },
   {
    "duration": -1011,
    "start_time": "2021-09-10T08:20:48.667Z"
   },
   {
    "duration": -1030,
    "start_time": "2021-09-10T08:20:48.687Z"
   },
   {
    "duration": -1037,
    "start_time": "2021-09-10T08:20:48.695Z"
   },
   {
    "duration": -1042,
    "start_time": "2021-09-10T08:20:48.701Z"
   },
   {
    "duration": -1045,
    "start_time": "2021-09-10T08:20:48.705Z"
   },
   {
    "duration": -1047,
    "start_time": "2021-09-10T08:20:48.708Z"
   },
   {
    "duration": -1049,
    "start_time": "2021-09-10T08:20:48.711Z"
   },
   {
    "duration": -1055,
    "start_time": "2021-09-10T08:20:48.718Z"
   },
   {
    "duration": -1057,
    "start_time": "2021-09-10T08:20:48.721Z"
   },
   {
    "duration": -1058,
    "start_time": "2021-09-10T08:20:48.723Z"
   },
   {
    "duration": -1060,
    "start_time": "2021-09-10T08:20:48.726Z"
   },
   {
    "duration": -1063,
    "start_time": "2021-09-10T08:20:48.730Z"
   },
   {
    "duration": -1068,
    "start_time": "2021-09-10T08:20:48.736Z"
   },
   {
    "duration": -1070,
    "start_time": "2021-09-10T08:20:48.739Z"
   },
   {
    "duration": 1294,
    "start_time": "2021-09-10T08:21:30.770Z"
   },
   {
    "duration": 751,
    "start_time": "2021-09-10T08:21:32.067Z"
   },
   {
    "duration": 2,
    "start_time": "2021-09-10T08:21:32.820Z"
   },
   {
    "duration": 30,
    "start_time": "2021-09-10T08:21:32.824Z"
   },
   {
    "duration": 183,
    "start_time": "2021-09-10T08:21:32.856Z"
   },
   {
    "duration": 7,
    "start_time": "2021-09-10T08:21:33.041Z"
   },
   {
    "duration": 23,
    "start_time": "2021-09-10T08:21:33.050Z"
   },
   {
    "duration": 13,
    "start_time": "2021-09-10T08:21:33.075Z"
   },
   {
    "duration": 158,
    "start_time": "2021-09-10T08:21:33.090Z"
   },
   {
    "duration": 175,
    "start_time": "2021-09-10T08:21:33.250Z"
   },
   {
    "duration": 6,
    "start_time": "2021-09-10T08:21:33.426Z"
   },
   {
    "duration": 154,
    "start_time": "2021-09-10T08:21:33.434Z"
   },
   {
    "duration": 180,
    "start_time": "2021-09-10T08:21:33.590Z"
   },
   {
    "duration": 224,
    "start_time": "2021-09-10T08:21:33.772Z"
   },
   {
    "duration": 8,
    "start_time": "2021-09-10T08:21:33.998Z"
   },
   {
    "duration": 7,
    "start_time": "2021-09-10T08:21:34.007Z"
   },
   {
    "duration": 915,
    "start_time": "2021-09-10T08:21:34.015Z"
   },
   {
    "duration": 7,
    "start_time": "2021-09-10T08:21:34.931Z"
   },
   {
    "duration": 8,
    "start_time": "2021-09-10T08:21:34.939Z"
   },
   {
    "duration": 171,
    "start_time": "2021-09-10T08:21:34.949Z"
   },
   {
    "duration": 183,
    "start_time": "2021-09-10T08:21:35.121Z"
   },
   {
    "duration": 389,
    "start_time": "2021-09-10T08:21:35.306Z"
   },
   {
    "duration": 342,
    "start_time": "2021-09-10T08:21:35.699Z"
   },
   {
    "duration": 52,
    "start_time": "2021-09-10T08:21:36.044Z"
   },
   {
    "duration": 5,
    "start_time": "2021-09-10T08:21:36.098Z"
   },
   {
    "duration": 20,
    "start_time": "2021-09-10T08:21:36.105Z"
   },
   {
    "duration": 12,
    "start_time": "2021-09-10T08:21:36.127Z"
   },
   {
    "duration": 18,
    "start_time": "2021-09-10T08:21:36.141Z"
   },
   {
    "duration": 6,
    "start_time": "2021-09-10T08:21:36.184Z"
   },
   {
    "duration": 14,
    "start_time": "2021-09-10T08:21:36.191Z"
   },
   {
    "duration": 11,
    "start_time": "2021-09-10T08:21:36.206Z"
   },
   {
    "duration": 8,
    "start_time": "2021-09-10T08:21:36.218Z"
   },
   {
    "duration": 8,
    "start_time": "2021-09-10T08:21:36.227Z"
   },
   {
    "duration": 5,
    "start_time": "2021-09-10T08:21:36.236Z"
   },
   {
    "duration": 5,
    "start_time": "2021-09-10T08:21:36.242Z"
   },
   {
    "duration": 4,
    "start_time": "2021-09-10T08:21:36.249Z"
   },
   {
    "duration": 6,
    "start_time": "2021-09-10T08:21:36.254Z"
   },
   {
    "duration": 26,
    "start_time": "2021-09-10T08:21:36.261Z"
   },
   {
    "duration": 18,
    "start_time": "2021-09-10T08:21:36.288Z"
   },
   {
    "duration": 5,
    "start_time": "2021-09-10T08:21:36.308Z"
   },
   {
    "duration": 7891,
    "start_time": "2021-09-10T08:21:36.315Z"
   },
   {
    "duration": 6,
    "start_time": "2021-09-10T08:21:44.208Z"
   },
   {
    "duration": 14,
    "start_time": "2021-09-10T08:21:44.216Z"
   },
   {
    "duration": 3,
    "start_time": "2021-09-10T08:21:44.232Z"
   },
   {
    "duration": 17,
    "start_time": "2021-09-10T08:21:44.237Z"
   },
   {
    "duration": 3,
    "start_time": "2021-09-10T08:21:44.256Z"
   },
   {
    "duration": 24,
    "start_time": "2021-09-10T08:21:44.260Z"
   },
   {
    "duration": 5,
    "start_time": "2021-09-10T08:21:44.286Z"
   },
   {
    "duration": 92,
    "start_time": "2021-09-10T08:21:44.292Z"
   },
   {
    "duration": 101,
    "start_time": "2021-09-10T08:21:44.386Z"
   },
   {
    "duration": 23037,
    "start_time": "2021-09-10T08:21:44.490Z"
   },
   {
    "duration": 13,
    "start_time": "2021-09-10T08:22:07.528Z"
   },
   {
    "duration": 646,
    "start_time": "2021-09-10T08:22:07.543Z"
   },
   {
    "duration": -1002,
    "start_time": "2021-09-10T08:22:09.193Z"
   },
   {
    "duration": -1008,
    "start_time": "2021-09-10T08:22:09.200Z"
   },
   {
    "duration": -1010,
    "start_time": "2021-09-10T08:22:09.203Z"
   },
   {
    "duration": -1017,
    "start_time": "2021-09-10T08:22:09.211Z"
   },
   {
    "duration": -1023,
    "start_time": "2021-09-10T08:22:09.218Z"
   },
   {
    "duration": -1026,
    "start_time": "2021-09-10T08:22:09.222Z"
   },
   {
    "duration": -1028,
    "start_time": "2021-09-10T08:22:09.225Z"
   },
   {
    "duration": -1031,
    "start_time": "2021-09-10T08:22:09.229Z"
   },
   {
    "duration": -1035,
    "start_time": "2021-09-10T08:22:09.234Z"
   },
   {
    "duration": -1037,
    "start_time": "2021-09-10T08:22:09.237Z"
   },
   {
    "duration": -1039,
    "start_time": "2021-09-10T08:22:09.240Z"
   },
   {
    "duration": -1041,
    "start_time": "2021-09-10T08:22:09.243Z"
   },
   {
    "duration": -1043,
    "start_time": "2021-09-10T08:22:09.246Z"
   },
   {
    "duration": -1048,
    "start_time": "2021-09-10T08:22:09.252Z"
   },
   {
    "duration": -1049,
    "start_time": "2021-09-10T08:22:09.254Z"
   },
   {
    "duration": -1050,
    "start_time": "2021-09-10T08:22:09.256Z"
   },
   {
    "duration": 1164,
    "start_time": "2021-09-10T08:23:27.247Z"
   },
   {
    "duration": 340,
    "start_time": "2021-09-10T08:23:28.412Z"
   },
   {
    "duration": 2,
    "start_time": "2021-09-10T08:23:28.754Z"
   },
   {
    "duration": 36,
    "start_time": "2021-09-10T08:23:28.758Z"
   },
   {
    "duration": 168,
    "start_time": "2021-09-10T08:23:28.795Z"
   },
   {
    "duration": 8,
    "start_time": "2021-09-10T08:23:28.965Z"
   },
   {
    "duration": 26,
    "start_time": "2021-09-10T08:23:28.974Z"
   },
   {
    "duration": 15,
    "start_time": "2021-09-10T08:23:29.003Z"
   },
   {
    "duration": 155,
    "start_time": "2021-09-10T08:23:29.019Z"
   },
   {
    "duration": 169,
    "start_time": "2021-09-10T08:23:29.176Z"
   },
   {
    "duration": 6,
    "start_time": "2021-09-10T08:23:29.347Z"
   },
   {
    "duration": 162,
    "start_time": "2021-09-10T08:23:29.355Z"
   },
   {
    "duration": 179,
    "start_time": "2021-09-10T08:23:29.519Z"
   },
   {
    "duration": 224,
    "start_time": "2021-09-10T08:23:29.700Z"
   },
   {
    "duration": 8,
    "start_time": "2021-09-10T08:23:29.926Z"
   },
   {
    "duration": 8,
    "start_time": "2021-09-10T08:23:29.936Z"
   },
   {
    "duration": 939,
    "start_time": "2021-09-10T08:23:29.945Z"
   },
   {
    "duration": 7,
    "start_time": "2021-09-10T08:23:30.885Z"
   },
   {
    "duration": 17,
    "start_time": "2021-09-10T08:23:30.894Z"
   },
   {
    "duration": 189,
    "start_time": "2021-09-10T08:23:30.913Z"
   },
   {
    "duration": 188,
    "start_time": "2021-09-10T08:23:31.103Z"
   },
   {
    "duration": 325,
    "start_time": "2021-09-10T08:23:31.292Z"
   },
   {
    "duration": 254,
    "start_time": "2021-09-10T08:23:31.621Z"
   },
   {
    "duration": 17,
    "start_time": "2021-09-10T08:23:31.877Z"
   },
   {
    "duration": 11,
    "start_time": "2021-09-10T08:23:31.895Z"
   },
   {
    "duration": 33,
    "start_time": "2021-09-10T08:23:31.908Z"
   },
   {
    "duration": 13,
    "start_time": "2021-09-10T08:23:31.942Z"
   },
   {
    "duration": 17,
    "start_time": "2021-09-10T08:23:31.956Z"
   },
   {
    "duration": 11,
    "start_time": "2021-09-10T08:23:31.974Z"
   },
   {
    "duration": 5,
    "start_time": "2021-09-10T08:23:31.986Z"
   },
   {
    "duration": 7,
    "start_time": "2021-09-10T08:23:31.993Z"
   },
   {
    "duration": 6,
    "start_time": "2021-09-10T08:23:32.001Z"
   },
   {
    "duration": 10,
    "start_time": "2021-09-10T08:23:32.009Z"
   },
   {
    "duration": 5,
    "start_time": "2021-09-10T08:23:32.020Z"
   },
   {
    "duration": 6,
    "start_time": "2021-09-10T08:23:32.027Z"
   },
   {
    "duration": 8,
    "start_time": "2021-09-10T08:23:32.035Z"
   },
   {
    "duration": 13,
    "start_time": "2021-09-10T08:23:32.045Z"
   },
   {
    "duration": 8,
    "start_time": "2021-09-10T08:23:32.084Z"
   },
   {
    "duration": 22,
    "start_time": "2021-09-10T08:23:32.094Z"
   },
   {
    "duration": 5,
    "start_time": "2021-09-10T08:23:32.118Z"
   },
   {
    "duration": 8015,
    "start_time": "2021-09-10T08:23:32.125Z"
   },
   {
    "duration": 6,
    "start_time": "2021-09-10T08:23:40.142Z"
   },
   {
    "duration": 28,
    "start_time": "2021-09-10T08:23:40.150Z"
   },
   {
    "duration": 6,
    "start_time": "2021-09-10T08:23:40.183Z"
   },
   {
    "duration": 26,
    "start_time": "2021-09-10T08:23:40.190Z"
   },
   {
    "duration": 4,
    "start_time": "2021-09-10T08:23:40.218Z"
   },
   {
    "duration": 13,
    "start_time": "2021-09-10T08:23:40.224Z"
   },
   {
    "duration": 14,
    "start_time": "2021-09-10T08:23:40.239Z"
   },
   {
    "duration": 33,
    "start_time": "2021-09-10T08:23:40.255Z"
   },
   {
    "duration": 196,
    "start_time": "2021-09-10T08:23:40.290Z"
   },
   {
    "duration": 22911,
    "start_time": "2021-09-10T08:23:40.488Z"
   },
   {
    "duration": 13,
    "start_time": "2021-09-10T08:24:03.400Z"
   },
   {
    "duration": 637,
    "start_time": "2021-09-10T08:24:03.414Z"
   },
   {
    "duration": -992,
    "start_time": "2021-09-10T08:24:05.045Z"
   },
   {
    "duration": -998,
    "start_time": "2021-09-10T08:24:05.052Z"
   },
   {
    "duration": -1007,
    "start_time": "2021-09-10T08:24:05.061Z"
   },
   {
    "duration": -1011,
    "start_time": "2021-09-10T08:24:05.067Z"
   },
   {
    "duration": -1056,
    "start_time": "2021-09-10T08:24:05.112Z"
   },
   {
    "duration": -1065,
    "start_time": "2021-09-10T08:24:05.122Z"
   },
   {
    "duration": -1069,
    "start_time": "2021-09-10T08:24:05.127Z"
   },
   {
    "duration": -1075,
    "start_time": "2021-09-10T08:24:05.134Z"
   },
   {
    "duration": -1078,
    "start_time": "2021-09-10T08:24:05.138Z"
   },
   {
    "duration": -1081,
    "start_time": "2021-09-10T08:24:05.142Z"
   },
   {
    "duration": -1082,
    "start_time": "2021-09-10T08:24:05.144Z"
   },
   {
    "duration": -1087,
    "start_time": "2021-09-10T08:24:05.150Z"
   },
   {
    "duration": -1089,
    "start_time": "2021-09-10T08:24:05.153Z"
   },
   {
    "duration": -1091,
    "start_time": "2021-09-10T08:24:05.156Z"
   },
   {
    "duration": -1093,
    "start_time": "2021-09-10T08:24:05.159Z"
   },
   {
    "duration": -1094,
    "start_time": "2021-09-10T08:24:05.161Z"
   },
   {
    "duration": 1161,
    "start_time": "2021-09-10T08:25:52.067Z"
   },
   {
    "duration": 246,
    "start_time": "2021-09-10T08:25:53.230Z"
   },
   {
    "duration": 3,
    "start_time": "2021-09-10T08:25:53.477Z"
   },
   {
    "duration": 34,
    "start_time": "2021-09-10T08:25:53.482Z"
   },
   {
    "duration": 158,
    "start_time": "2021-09-10T08:25:53.518Z"
   },
   {
    "duration": 12,
    "start_time": "2021-09-10T08:25:53.678Z"
   },
   {
    "duration": 17,
    "start_time": "2021-09-10T08:25:53.691Z"
   },
   {
    "duration": 2,
    "start_time": "2021-09-10T08:25:53.710Z"
   },
   {
    "duration": 165,
    "start_time": "2021-09-10T08:25:53.714Z"
   },
   {
    "duration": 172,
    "start_time": "2021-09-10T08:25:53.881Z"
   },
   {
    "duration": 5,
    "start_time": "2021-09-10T08:25:54.055Z"
   },
   {
    "duration": 190,
    "start_time": "2021-09-10T08:25:54.062Z"
   },
   {
    "duration": 165,
    "start_time": "2021-09-10T08:25:54.253Z"
   },
   {
    "duration": 8,
    "start_time": "2021-09-10T08:25:54.419Z"
   },
   {
    "duration": 15,
    "start_time": "2021-09-10T08:25:54.428Z"
   },
   {
    "duration": 983,
    "start_time": "2021-09-10T08:25:54.445Z"
   },
   {
    "duration": 6,
    "start_time": "2021-09-10T08:25:55.430Z"
   },
   {
    "duration": 7,
    "start_time": "2021-09-10T08:25:55.437Z"
   },
   {
    "duration": 184,
    "start_time": "2021-09-10T08:25:55.446Z"
   },
   {
    "duration": 184,
    "start_time": "2021-09-10T08:25:55.631Z"
   },
   {
    "duration": 311,
    "start_time": "2021-09-10T08:25:55.817Z"
   },
   {
    "duration": 246,
    "start_time": "2021-09-10T08:25:56.130Z"
   },
   {
    "duration": 16,
    "start_time": "2021-09-10T08:25:56.379Z"
   },
   {
    "duration": 6,
    "start_time": "2021-09-10T08:25:56.397Z"
   },
   {
    "duration": 19,
    "start_time": "2021-09-10T08:25:56.404Z"
   },
   {
    "duration": 16,
    "start_time": "2021-09-10T08:25:56.424Z"
   },
   {
    "duration": 17,
    "start_time": "2021-09-10T08:25:56.441Z"
   },
   {
    "duration": 26,
    "start_time": "2021-09-10T08:25:56.459Z"
   },
   {
    "duration": 5,
    "start_time": "2021-09-10T08:25:56.486Z"
   },
   {
    "duration": 5,
    "start_time": "2021-09-10T08:25:56.492Z"
   },
   {
    "duration": 5,
    "start_time": "2021-09-10T08:25:56.499Z"
   },
   {
    "duration": 7,
    "start_time": "2021-09-10T08:25:56.505Z"
   },
   {
    "duration": 5,
    "start_time": "2021-09-10T08:25:56.513Z"
   },
   {
    "duration": 6,
    "start_time": "2021-09-10T08:25:56.519Z"
   },
   {
    "duration": 6,
    "start_time": "2021-09-10T08:25:56.526Z"
   },
   {
    "duration": 6,
    "start_time": "2021-09-10T08:25:56.533Z"
   },
   {
    "duration": 12,
    "start_time": "2021-09-10T08:25:56.540Z"
   },
   {
    "duration": 40,
    "start_time": "2021-09-10T08:25:56.554Z"
   },
   {
    "duration": 5,
    "start_time": "2021-09-10T08:25:56.595Z"
   },
   {
    "duration": 7883,
    "start_time": "2021-09-10T08:25:56.602Z"
   },
   {
    "duration": 7,
    "start_time": "2021-09-10T08:26:04.486Z"
   },
   {
    "duration": 32,
    "start_time": "2021-09-10T08:26:04.495Z"
   },
   {
    "duration": 29,
    "start_time": "2021-09-10T08:26:04.529Z"
   },
   {
    "duration": 33,
    "start_time": "2021-09-10T08:26:04.560Z"
   },
   {
    "duration": 17,
    "start_time": "2021-09-10T08:26:04.595Z"
   },
   {
    "duration": 34,
    "start_time": "2021-09-10T08:26:04.613Z"
   },
   {
    "duration": 17,
    "start_time": "2021-09-10T08:26:04.649Z"
   },
   {
    "duration": 37,
    "start_time": "2021-09-10T08:26:04.668Z"
   },
   {
    "duration": 85,
    "start_time": "2021-09-10T08:26:04.707Z"
   },
   {
    "duration": 22981,
    "start_time": "2021-09-10T08:26:04.794Z"
   },
   {
    "duration": 19,
    "start_time": "2021-09-10T08:26:27.776Z"
   },
   {
    "duration": 8,
    "start_time": "2021-09-10T08:26:27.797Z"
   },
   {
    "duration": 3,
    "start_time": "2021-09-10T08:26:27.807Z"
   },
   {
    "duration": 17,
    "start_time": "2021-09-10T08:26:27.812Z"
   },
   {
    "duration": 6,
    "start_time": "2021-09-10T08:26:27.831Z"
   },
   {
    "duration": 13,
    "start_time": "2021-09-10T08:26:27.838Z"
   },
   {
    "duration": 34,
    "start_time": "2021-09-10T08:26:27.852Z"
   },
   {
    "duration": 126623,
    "start_time": "2021-09-10T08:26:27.888Z"
   },
   {
    "duration": 2,
    "start_time": "2021-09-10T08:28:34.512Z"
   },
   {
    "duration": 8,
    "start_time": "2021-09-10T08:28:34.516Z"
   },
   {
    "duration": 28968,
    "start_time": "2021-09-10T08:28:34.526Z"
   },
   {
    "duration": 6,
    "start_time": "2021-09-10T08:29:03.496Z"
   },
   {
    "duration": 19,
    "start_time": "2021-09-10T08:29:03.503Z"
   },
   {
    "duration": 20,
    "start_time": "2021-09-10T08:29:03.523Z"
   },
   {
    "duration": 173,
    "start_time": "2021-09-10T08:29:03.545Z"
   },
   {
    "duration": 15,
    "start_time": "2021-09-10T08:29:03.720Z"
   },
   {
    "duration": 6,
    "start_time": "2021-09-10T08:29:03.737Z"
   },
   {
    "duration": 191,
    "start_time": "2021-09-10T08:34:57.971Z"
   },
   {
    "duration": 543,
    "start_time": "2021-09-10T08:35:20.522Z"
   },
   {
    "duration": 43983,
    "start_time": "2021-09-10T08:35:27.802Z"
   },
   {
    "duration": 24980,
    "start_time": "2021-09-10T08:36:50.621Z"
   },
   {
    "duration": 43965,
    "start_time": "2021-09-10T08:37:37.921Z"
   },
   {
    "duration": 14604,
    "start_time": "2021-09-10T08:38:33.461Z"
   },
   {
    "duration": 31492,
    "start_time": "2021-09-10T08:39:01.328Z"
   },
   {
    "duration": 93954,
    "start_time": "2021-09-10T08:39:46.010Z"
   },
   {
    "duration": 141659,
    "start_time": "2021-09-10T08:41:55.074Z"
   },
   {
    "duration": 366,
    "start_time": "2021-09-10T08:45:17.687Z"
   },
   {
    "duration": 1804,
    "start_time": "2021-09-10T12:03:41.788Z"
   },
   {
    "duration": 425,
    "start_time": "2021-09-10T12:03:43.595Z"
   },
   {
    "duration": 5,
    "start_time": "2021-09-10T12:03:44.026Z"
   },
   {
    "duration": 87,
    "start_time": "2021-09-10T12:03:44.036Z"
   },
   {
    "duration": 352,
    "start_time": "2021-09-10T12:03:44.126Z"
   },
   {
    "duration": 19,
    "start_time": "2021-09-10T12:03:44.484Z"
   },
   {
    "duration": 38,
    "start_time": "2021-09-10T12:03:44.506Z"
   },
   {
    "duration": 3,
    "start_time": "2021-09-10T12:03:44.547Z"
   },
   {
    "duration": 437,
    "start_time": "2021-09-10T12:03:44.587Z"
   },
   {
    "duration": 464,
    "start_time": "2021-09-10T12:03:45.030Z"
   },
   {
    "duration": 15,
    "start_time": "2021-09-10T12:03:45.498Z"
   },
   {
    "duration": 505,
    "start_time": "2021-09-10T12:03:45.517Z"
   },
   {
    "duration": 336,
    "start_time": "2021-09-10T12:03:46.025Z"
   },
   {
    "duration": 19,
    "start_time": "2021-09-10T12:03:46.364Z"
   },
   {
    "duration": 10,
    "start_time": "2021-09-10T12:03:46.386Z"
   },
   {
    "duration": 1463,
    "start_time": "2021-09-10T12:03:46.398Z"
   },
   {
    "duration": 19,
    "start_time": "2021-09-10T12:03:47.864Z"
   },
   {
    "duration": 9,
    "start_time": "2021-09-10T12:03:47.886Z"
   },
   {
    "duration": 297,
    "start_time": "2021-09-10T12:03:47.898Z"
   },
   {
    "duration": 307,
    "start_time": "2021-09-10T12:03:48.197Z"
   },
   {
    "duration": 529,
    "start_time": "2021-09-10T12:03:48.508Z"
   },
   {
    "duration": 417,
    "start_time": "2021-09-10T12:03:49.039Z"
   },
   {
    "duration": 26,
    "start_time": "2021-09-10T12:03:49.459Z"
   },
   {
    "duration": 7,
    "start_time": "2021-09-10T12:03:49.488Z"
   },
   {
    "duration": 29,
    "start_time": "2021-09-10T12:03:49.497Z"
   },
   {
    "duration": 66,
    "start_time": "2021-09-10T12:03:49.528Z"
   },
   {
    "duration": 29,
    "start_time": "2021-09-10T12:03:49.601Z"
   },
   {
    "duration": 8,
    "start_time": "2021-09-10T12:03:49.633Z"
   },
   {
    "duration": 9,
    "start_time": "2021-09-10T12:03:49.683Z"
   },
   {
    "duration": 7,
    "start_time": "2021-09-10T12:03:49.695Z"
   },
   {
    "duration": 7,
    "start_time": "2021-09-10T12:03:49.705Z"
   },
   {
    "duration": 14,
    "start_time": "2021-09-10T12:03:49.714Z"
   },
   {
    "duration": 54,
    "start_time": "2021-09-10T12:03:49.731Z"
   },
   {
    "duration": 7,
    "start_time": "2021-09-10T12:03:49.788Z"
   },
   {
    "duration": 6,
    "start_time": "2021-09-10T12:03:49.797Z"
   },
   {
    "duration": 6,
    "start_time": "2021-09-10T12:03:49.805Z"
   },
   {
    "duration": 14,
    "start_time": "2021-09-10T12:03:49.813Z"
   },
   {
    "duration": 77,
    "start_time": "2021-09-10T12:03:49.829Z"
   },
   {
    "duration": 8,
    "start_time": "2021-09-10T12:03:49.908Z"
   },
   {
    "duration": 12454,
    "start_time": "2021-09-10T12:03:49.919Z"
   },
   {
    "duration": 11,
    "start_time": "2021-09-10T12:04:02.383Z"
   },
   {
    "duration": 37,
    "start_time": "2021-09-10T12:04:02.396Z"
   },
   {
    "duration": 5,
    "start_time": "2021-09-10T12:04:02.436Z"
   },
   {
    "duration": 38,
    "start_time": "2021-09-10T12:04:02.443Z"
   },
   {
    "duration": 6,
    "start_time": "2021-09-10T12:04:02.483Z"
   },
   {
    "duration": 11,
    "start_time": "2021-09-10T12:04:02.492Z"
   },
   {
    "duration": 20,
    "start_time": "2021-09-10T12:04:02.505Z"
   },
   {
    "duration": 157,
    "start_time": "2021-09-10T12:04:02.527Z"
   },
   {
    "duration": 195,
    "start_time": "2021-09-10T12:04:02.688Z"
   },
   {
    "duration": 37824,
    "start_time": "2021-09-10T12:04:02.888Z"
   },
   {
    "duration": 20,
    "start_time": "2021-09-10T12:04:40.715Z"
   },
   {
    "duration": 14,
    "start_time": "2021-09-10T12:04:40.737Z"
   },
   {
    "duration": 6,
    "start_time": "2021-09-10T12:04:40.784Z"
   },
   {
    "duration": 28,
    "start_time": "2021-09-10T12:04:40.793Z"
   },
   {
    "duration": 11,
    "start_time": "2021-09-10T12:04:40.823Z"
   },
   {
    "duration": 67,
    "start_time": "2021-09-10T12:04:40.837Z"
   },
   {
    "duration": 11,
    "start_time": "2021-09-10T12:04:40.908Z"
   },
   {
    "duration": 54810,
    "start_time": "2021-09-10T12:04:40.922Z"
   },
   {
    "duration": 3,
    "start_time": "2021-09-10T12:05:35.734Z"
   },
   {
    "duration": 14,
    "start_time": "2021-09-10T12:05:35.740Z"
   },
   {
    "duration": 611,
    "start_time": "2021-09-10T12:05:35.758Z"
   },
   {
    "duration": 18,
    "start_time": "2021-09-10T12:05:36.372Z"
   },
   {
    "duration": 13,
    "start_time": "2021-09-10T12:05:36.393Z"
   },
   {
    "duration": 13,
    "start_time": "2021-09-10T12:05:36.410Z"
   },
   {
    "duration": 567,
    "start_time": "2021-09-10T12:05:36.427Z"
   },
   {
    "duration": 100,
    "start_time": "2021-09-10T12:05:36.998Z"
   },
   {
    "duration": 13,
    "start_time": "2021-09-10T12:05:37.101Z"
   },
   {
    "duration": 13,
    "start_time": "2021-09-10T12:05:37.117Z"
   },
   {
    "duration": 23,
    "start_time": "2021-09-10T12:11:06.246Z"
   },
   {
    "duration": 15,
    "start_time": "2021-09-10T12:11:29.436Z"
   },
   {
    "duration": 391,
    "start_time": "2021-09-10T12:13:19.866Z"
   },
   {
    "duration": 5,
    "start_time": "2021-09-10T12:13:41.867Z"
   },
   {
    "duration": 6,
    "start_time": "2021-09-10T12:13:43.571Z"
   },
   {
    "duration": 98,
    "start_time": "2021-09-10T12:14:54.797Z"
   },
   {
    "duration": 219,
    "start_time": "2021-09-10T12:15:15.411Z"
   },
   {
    "duration": 267,
    "start_time": "2021-09-10T12:15:22.634Z"
   },
   {
    "duration": 342,
    "start_time": "2021-09-10T12:15:47.170Z"
   },
   {
    "duration": 98,
    "start_time": "2021-09-10T12:15:57.497Z"
   },
   {
    "duration": 310,
    "start_time": "2021-09-10T12:16:04.467Z"
   },
   {
    "duration": 336,
    "start_time": "2021-09-10T12:16:21.724Z"
   },
   {
    "duration": 327,
    "start_time": "2021-09-10T12:16:26.634Z"
   },
   {
    "duration": 317,
    "start_time": "2021-09-10T12:16:37.027Z"
   },
   {
    "duration": 304,
    "start_time": "2021-09-10T12:16:43.508Z"
   },
   {
    "duration": 761,
    "start_time": "2021-09-10T12:16:50.804Z"
   },
   {
    "duration": 336,
    "start_time": "2021-09-10T12:16:55.013Z"
   },
   {
    "duration": 332,
    "start_time": "2021-09-10T12:17:03.740Z"
   },
   {
    "duration": 15,
    "start_time": "2021-09-10T12:17:36.154Z"
   },
   {
    "duration": 15,
    "start_time": "2021-09-10T12:17:53.786Z"
   },
   {
    "duration": 15,
    "start_time": "2021-09-10T12:17:56.976Z"
   },
   {
    "duration": 22,
    "start_time": "2021-09-10T12:18:01.587Z"
   },
   {
    "duration": 13,
    "start_time": "2021-09-10T12:18:09.917Z"
   },
   {
    "duration": 13,
    "start_time": "2021-09-10T12:18:13.981Z"
   },
   {
    "duration": 321,
    "start_time": "2021-09-10T12:18:23.195Z"
   },
   {
    "duration": 114,
    "start_time": "2021-09-10T12:18:38.016Z"
   },
   {
    "duration": 677,
    "start_time": "2021-09-10T12:18:44.065Z"
   },
   {
    "duration": 6,
    "start_time": "2021-09-10T12:18:48.466Z"
   },
   {
    "duration": 6,
    "start_time": "2021-09-10T12:18:52.306Z"
   },
   {
    "duration": 76,
    "start_time": "2021-09-10T12:19:21.892Z"
   },
   {
    "duration": 235,
    "start_time": "2021-09-10T12:19:26.371Z"
   },
   {
    "duration": 13,
    "start_time": "2021-09-10T12:19:40.387Z"
   },
   {
    "duration": 22,
    "start_time": "2021-09-10T12:19:53.266Z"
   },
   {
    "duration": 319,
    "start_time": "2021-09-10T12:24:02.615Z"
   },
   {
    "duration": 257,
    "start_time": "2021-09-10T12:41:57.056Z"
   },
   {
    "duration": 8,
    "start_time": "2021-09-10T12:42:28.058Z"
   },
   {
    "duration": 1442,
    "start_time": "2021-09-10T12:44:54.795Z"
   },
   {
    "duration": 226,
    "start_time": "2021-09-10T12:44:56.240Z"
   },
   {
    "duration": 3,
    "start_time": "2021-09-10T12:44:56.469Z"
   },
   {
    "duration": 40,
    "start_time": "2021-09-10T12:44:56.474Z"
   },
   {
    "duration": 239,
    "start_time": "2021-09-10T12:44:56.517Z"
   },
   {
    "duration": 11,
    "start_time": "2021-09-10T12:44:56.759Z"
   },
   {
    "duration": 19,
    "start_time": "2021-09-10T12:44:56.783Z"
   },
   {
    "duration": 8,
    "start_time": "2021-09-10T12:44:56.806Z"
   },
   {
    "duration": 268,
    "start_time": "2021-09-10T12:44:56.817Z"
   },
   {
    "duration": 256,
    "start_time": "2021-09-10T12:44:57.087Z"
   },
   {
    "duration": 10,
    "start_time": "2021-09-10T12:44:57.346Z"
   },
   {
    "duration": 281,
    "start_time": "2021-09-10T12:44:57.358Z"
   },
   {
    "duration": 270,
    "start_time": "2021-09-10T12:44:57.643Z"
   },
   {
    "duration": 12,
    "start_time": "2021-09-10T12:44:57.915Z"
   },
   {
    "duration": 12,
    "start_time": "2021-09-10T12:44:57.929Z"
   },
   {
    "duration": 1339,
    "start_time": "2021-09-10T12:44:57.944Z"
   },
   {
    "duration": 9,
    "start_time": "2021-09-10T12:44:59.285Z"
   },
   {
    "duration": 11,
    "start_time": "2021-09-10T12:44:59.296Z"
   },
   {
    "duration": 297,
    "start_time": "2021-09-10T12:44:59.309Z"
   },
   {
    "duration": 284,
    "start_time": "2021-09-10T12:44:59.609Z"
   },
   {
    "duration": 503,
    "start_time": "2021-09-10T12:44:59.895Z"
   },
   {
    "duration": 405,
    "start_time": "2021-09-10T12:45:00.400Z"
   },
   {
    "duration": 18,
    "start_time": "2021-09-10T12:45:00.811Z"
   },
   {
    "duration": 18,
    "start_time": "2021-09-10T12:45:00.832Z"
   },
   {
    "duration": 41,
    "start_time": "2021-09-10T12:45:00.852Z"
   },
   {
    "duration": 19,
    "start_time": "2021-09-10T12:45:00.895Z"
   },
   {
    "duration": 34,
    "start_time": "2021-09-10T12:45:00.916Z"
   },
   {
    "duration": 32,
    "start_time": "2021-09-10T12:45:00.952Z"
   },
   {
    "duration": 8,
    "start_time": "2021-09-10T12:45:00.986Z"
   },
   {
    "duration": 30,
    "start_time": "2021-09-10T12:45:00.996Z"
   },
   {
    "duration": 18,
    "start_time": "2021-09-10T12:45:01.028Z"
   },
   {
    "duration": 24,
    "start_time": "2021-09-10T12:45:01.049Z"
   },
   {
    "duration": 19,
    "start_time": "2021-09-10T12:45:01.076Z"
   },
   {
    "duration": 31,
    "start_time": "2021-09-10T12:45:01.098Z"
   },
   {
    "duration": 34,
    "start_time": "2021-09-10T12:45:01.131Z"
   },
   {
    "duration": 34,
    "start_time": "2021-09-10T12:45:01.167Z"
   },
   {
    "duration": 33,
    "start_time": "2021-09-10T12:45:01.204Z"
   },
   {
    "duration": 34,
    "start_time": "2021-09-10T12:45:01.240Z"
   },
   {
    "duration": 7,
    "start_time": "2021-09-10T12:45:01.277Z"
   },
   {
    "duration": 11902,
    "start_time": "2021-09-10T12:45:01.287Z"
   },
   {
    "duration": 11,
    "start_time": "2021-09-10T12:45:13.192Z"
   },
   {
    "duration": 18,
    "start_time": "2021-09-10T12:45:13.205Z"
   },
   {
    "duration": 5,
    "start_time": "2021-09-10T12:45:13.225Z"
   },
   {
    "duration": 52,
    "start_time": "2021-09-10T12:45:13.233Z"
   },
   {
    "duration": 5,
    "start_time": "2021-09-10T12:45:13.288Z"
   },
   {
    "duration": 18,
    "start_time": "2021-09-10T12:45:13.295Z"
   },
   {
    "duration": 11,
    "start_time": "2021-09-10T12:45:13.315Z"
   },
   {
    "duration": 152,
    "start_time": "2021-09-10T12:45:13.329Z"
   },
   {
    "duration": 199,
    "start_time": "2021-09-10T12:45:13.485Z"
   },
   {
    "duration": 34903,
    "start_time": "2021-09-10T12:45:13.686Z"
   },
   {
    "duration": 18,
    "start_time": "2021-09-10T12:45:48.592Z"
   },
   {
    "duration": 650,
    "start_time": "2021-09-10T12:45:48.612Z"
   },
   {
    "duration": -1400,
    "start_time": "2021-09-10T12:45:50.665Z"
   },
   {
    "duration": -1403,
    "start_time": "2021-09-10T12:45:50.669Z"
   },
   {
    "duration": -1410,
    "start_time": "2021-09-10T12:45:50.678Z"
   },
   {
    "duration": -1417,
    "start_time": "2021-09-10T12:45:50.686Z"
   },
   {
    "duration": -1420,
    "start_time": "2021-09-10T12:45:50.690Z"
   },
   {
    "duration": -1431,
    "start_time": "2021-09-10T12:45:50.703Z"
   },
   {
    "duration": -1433,
    "start_time": "2021-09-10T12:45:50.706Z"
   },
   {
    "duration": -1437,
    "start_time": "2021-09-10T12:45:50.712Z"
   },
   {
    "duration": -1438,
    "start_time": "2021-09-10T12:45:50.714Z"
   },
   {
    "duration": -1440,
    "start_time": "2021-09-10T12:45:50.717Z"
   },
   {
    "duration": -1440,
    "start_time": "2021-09-10T12:45:50.719Z"
   },
   {
    "duration": -1441,
    "start_time": "2021-09-10T12:45:50.721Z"
   },
   {
    "duration": -1443,
    "start_time": "2021-09-10T12:45:50.725Z"
   },
   {
    "duration": -1448,
    "start_time": "2021-09-10T12:45:50.731Z"
   },
   {
    "duration": -1459,
    "start_time": "2021-09-10T12:45:50.744Z"
   },
   {
    "duration": -1475,
    "start_time": "2021-09-10T12:45:50.761Z"
   },
   {
    "duration": -1476,
    "start_time": "2021-09-10T12:45:50.763Z"
   },
   {
    "duration": 1417,
    "start_time": "2021-09-10T12:46:24.042Z"
   },
   {
    "duration": 208,
    "start_time": "2021-09-10T12:46:25.462Z"
   },
   {
    "duration": 3,
    "start_time": "2021-09-10T12:46:25.672Z"
   },
   {
    "duration": 39,
    "start_time": "2021-09-10T12:46:25.678Z"
   },
   {
    "duration": 247,
    "start_time": "2021-09-10T12:46:25.719Z"
   },
   {
    "duration": 15,
    "start_time": "2021-09-10T12:46:25.968Z"
   },
   {
    "duration": 28,
    "start_time": "2021-09-10T12:46:25.985Z"
   },
   {
    "duration": 9,
    "start_time": "2021-09-10T12:46:26.016Z"
   },
   {
    "duration": 246,
    "start_time": "2021-09-10T12:46:26.028Z"
   },
   {
    "duration": 246,
    "start_time": "2021-09-10T12:46:26.276Z"
   },
   {
    "duration": 8,
    "start_time": "2021-09-10T12:46:26.524Z"
   },
   {
    "duration": 277,
    "start_time": "2021-09-10T12:46:26.534Z"
   },
   {
    "duration": 251,
    "start_time": "2021-09-10T12:46:26.813Z"
   },
   {
    "duration": 19,
    "start_time": "2021-09-10T12:46:27.066Z"
   },
   {
    "duration": 11,
    "start_time": "2021-09-10T12:46:27.087Z"
   },
   {
    "duration": 1352,
    "start_time": "2021-09-10T12:46:27.100Z"
   },
   {
    "duration": 8,
    "start_time": "2021-09-10T12:46:28.454Z"
   },
   {
    "duration": 37,
    "start_time": "2021-09-10T12:46:28.465Z"
   },
   {
    "duration": 266,
    "start_time": "2021-09-10T12:46:28.505Z"
   },
   {
    "duration": 268,
    "start_time": "2021-09-10T12:46:28.773Z"
   },
   {
    "duration": 487,
    "start_time": "2021-09-10T12:46:29.043Z"
   },
   {
    "duration": 370,
    "start_time": "2021-09-10T12:46:29.533Z"
   },
   {
    "duration": 17,
    "start_time": "2021-09-10T12:46:29.909Z"
   },
   {
    "duration": 12,
    "start_time": "2021-09-10T12:46:29.930Z"
   },
   {
    "duration": 42,
    "start_time": "2021-09-10T12:46:29.944Z"
   },
   {
    "duration": 24,
    "start_time": "2021-09-10T12:46:29.988Z"
   },
   {
    "duration": 41,
    "start_time": "2021-09-10T12:46:30.014Z"
   },
   {
    "duration": 28,
    "start_time": "2021-09-10T12:46:30.058Z"
   },
   {
    "duration": 20,
    "start_time": "2021-09-10T12:46:30.088Z"
   },
   {
    "duration": 11,
    "start_time": "2021-09-10T12:46:30.110Z"
   },
   {
    "duration": 18,
    "start_time": "2021-09-10T12:46:30.124Z"
   },
   {
    "duration": 21,
    "start_time": "2021-09-10T12:46:30.144Z"
   },
   {
    "duration": 27,
    "start_time": "2021-09-10T12:46:30.167Z"
   },
   {
    "duration": 24,
    "start_time": "2021-09-10T12:46:30.197Z"
   },
   {
    "duration": 21,
    "start_time": "2021-09-10T12:46:30.224Z"
   },
   {
    "duration": 15,
    "start_time": "2021-09-10T12:46:30.248Z"
   },
   {
    "duration": 26,
    "start_time": "2021-09-10T12:46:30.266Z"
   },
   {
    "duration": 42,
    "start_time": "2021-09-10T12:46:30.296Z"
   },
   {
    "duration": 10,
    "start_time": "2021-09-10T12:46:30.341Z"
   },
   {
    "duration": 11464,
    "start_time": "2021-09-10T12:46:30.354Z"
   },
   {
    "duration": 10,
    "start_time": "2021-09-10T12:46:41.820Z"
   },
   {
    "duration": 19,
    "start_time": "2021-09-10T12:46:41.832Z"
   },
   {
    "duration": 4,
    "start_time": "2021-09-10T12:46:41.854Z"
   },
   {
    "duration": 36,
    "start_time": "2021-09-10T12:46:41.860Z"
   },
   {
    "duration": 4,
    "start_time": "2021-09-10T12:46:41.898Z"
   },
   {
    "duration": 11,
    "start_time": "2021-09-10T12:46:41.904Z"
   },
   {
    "duration": 12,
    "start_time": "2021-09-10T12:46:41.917Z"
   },
   {
    "duration": 83,
    "start_time": "2021-09-10T12:46:41.931Z"
   },
   {
    "duration": 105,
    "start_time": "2021-09-10T12:46:42.085Z"
   },
   {
    "duration": 34027,
    "start_time": "2021-09-10T12:46:42.284Z"
   },
   {
    "duration": 18,
    "start_time": "2021-09-10T12:47:16.313Z"
   },
   {
    "duration": 410,
    "start_time": "2021-09-10T12:47:16.334Z"
   },
   {
    "duration": -1406,
    "start_time": "2021-09-10T12:47:18.152Z"
   },
   {
    "duration": -1407,
    "start_time": "2021-09-10T12:47:18.155Z"
   },
   {
    "duration": -1418,
    "start_time": "2021-09-10T12:47:18.167Z"
   },
   {
    "duration": -1420,
    "start_time": "2021-09-10T12:47:18.170Z"
   },
   {
    "duration": -1421,
    "start_time": "2021-09-10T12:47:18.173Z"
   },
   {
    "duration": -1425,
    "start_time": "2021-09-10T12:47:18.178Z"
   },
   {
    "duration": -1427,
    "start_time": "2021-09-10T12:47:18.181Z"
   },
   {
    "duration": -1428,
    "start_time": "2021-09-10T12:47:18.184Z"
   },
   {
    "duration": -1433,
    "start_time": "2021-09-10T12:47:18.190Z"
   },
   {
    "duration": -1441,
    "start_time": "2021-09-10T12:47:18.199Z"
   },
   {
    "duration": -1446,
    "start_time": "2021-09-10T12:47:18.206Z"
   },
   {
    "duration": -1450,
    "start_time": "2021-09-10T12:47:18.211Z"
   },
   {
    "duration": -1451,
    "start_time": "2021-09-10T12:47:18.214Z"
   },
   {
    "duration": -1453,
    "start_time": "2021-09-10T12:47:18.217Z"
   },
   {
    "duration": -1454,
    "start_time": "2021-09-10T12:47:18.219Z"
   },
   {
    "duration": -1454,
    "start_time": "2021-09-10T12:47:18.221Z"
   },
   {
    "duration": -1461,
    "start_time": "2021-09-10T12:47:18.229Z"
   },
   {
    "duration": 1425,
    "start_time": "2021-09-10T12:50:23.337Z"
   },
   {
    "duration": 274,
    "start_time": "2021-09-10T12:50:24.765Z"
   },
   {
    "duration": 4,
    "start_time": "2021-09-10T12:50:25.043Z"
   },
   {
    "duration": 63,
    "start_time": "2021-09-10T12:50:25.050Z"
   },
   {
    "duration": 247,
    "start_time": "2021-09-10T12:50:25.116Z"
   },
   {
    "duration": 20,
    "start_time": "2021-09-10T12:50:25.366Z"
   },
   {
    "duration": 25,
    "start_time": "2021-09-10T12:50:25.389Z"
   },
   {
    "duration": 16,
    "start_time": "2021-09-10T12:50:25.418Z"
   },
   {
    "duration": 254,
    "start_time": "2021-09-10T12:50:25.437Z"
   },
   {
    "duration": 252,
    "start_time": "2021-09-10T12:50:25.694Z"
   },
   {
    "duration": 9,
    "start_time": "2021-09-10T12:50:25.948Z"
   },
   {
    "duration": 276,
    "start_time": "2021-09-10T12:50:25.960Z"
   },
   {
    "duration": 253,
    "start_time": "2021-09-10T12:50:26.238Z"
   },
   {
    "duration": 12,
    "start_time": "2021-09-10T12:50:26.493Z"
   },
   {
    "duration": 14,
    "start_time": "2021-09-10T12:50:26.507Z"
   },
   {
    "duration": 1368,
    "start_time": "2021-09-10T12:50:26.523Z"
   },
   {
    "duration": 11,
    "start_time": "2021-09-10T12:50:27.893Z"
   },
   {
    "duration": 13,
    "start_time": "2021-09-10T12:50:27.906Z"
   },
   {
    "duration": 306,
    "start_time": "2021-09-10T12:50:27.922Z"
   },
   {
    "duration": 306,
    "start_time": "2021-09-10T12:50:28.230Z"
   },
   {
    "duration": 509,
    "start_time": "2021-09-10T12:50:28.538Z"
   },
   {
    "duration": 394,
    "start_time": "2021-09-10T12:50:29.049Z"
   },
   {
    "duration": 17,
    "start_time": "2021-09-10T12:50:29.449Z"
   },
   {
    "duration": 17,
    "start_time": "2021-09-10T12:50:29.482Z"
   },
   {
    "duration": 39,
    "start_time": "2021-09-10T12:50:29.501Z"
   },
   {
    "duration": 21,
    "start_time": "2021-09-10T12:50:29.543Z"
   },
   {
    "duration": 38,
    "start_time": "2021-09-10T12:50:29.567Z"
   },
   {
    "duration": 8,
    "start_time": "2021-09-10T12:50:29.609Z"
   },
   {
    "duration": 8,
    "start_time": "2021-09-10T12:50:29.620Z"
   },
   {
    "duration": 48,
    "start_time": "2021-09-10T12:50:29.630Z"
   },
   {
    "duration": 7,
    "start_time": "2021-09-10T12:50:29.680Z"
   },
   {
    "duration": 9,
    "start_time": "2021-09-10T12:50:29.690Z"
   },
   {
    "duration": 6,
    "start_time": "2021-09-10T12:50:29.702Z"
   },
   {
    "duration": 10,
    "start_time": "2021-09-10T12:50:29.711Z"
   },
   {
    "duration": 5,
    "start_time": "2021-09-10T12:50:29.724Z"
   },
   {
    "duration": 50,
    "start_time": "2021-09-10T12:50:29.732Z"
   },
   {
    "duration": 14,
    "start_time": "2021-09-10T12:50:29.786Z"
   },
   {
    "duration": 75,
    "start_time": "2021-09-10T12:50:29.803Z"
   },
   {
    "duration": 8,
    "start_time": "2021-09-10T12:50:29.880Z"
   },
   {
    "duration": 13404,
    "start_time": "2021-09-10T12:50:29.891Z"
   },
   {
    "duration": 10,
    "start_time": "2021-09-10T12:50:43.298Z"
   },
   {
    "duration": 24,
    "start_time": "2021-09-10T12:50:43.311Z"
   },
   {
    "duration": 7,
    "start_time": "2021-09-10T12:50:43.337Z"
   },
   {
    "duration": 45,
    "start_time": "2021-09-10T12:50:43.347Z"
   },
   {
    "duration": 6,
    "start_time": "2021-09-10T12:50:43.395Z"
   },
   {
    "duration": 9,
    "start_time": "2021-09-10T12:50:43.403Z"
   },
   {
    "duration": 9,
    "start_time": "2021-09-10T12:50:43.415Z"
   },
   {
    "duration": 155,
    "start_time": "2021-09-10T12:50:43.427Z"
   },
   {
    "duration": 106,
    "start_time": "2021-09-10T12:50:43.585Z"
   },
   {
    "duration": 34149,
    "start_time": "2021-09-10T12:50:43.783Z"
   },
   {
    "duration": 17,
    "start_time": "2021-09-10T12:51:17.935Z"
   },
   {
    "duration": 32,
    "start_time": "2021-09-10T12:51:17.954Z"
   },
   {
    "duration": 4,
    "start_time": "2021-09-10T12:51:17.988Z"
   },
   {
    "duration": 29,
    "start_time": "2021-09-10T12:51:17.994Z"
   },
   {
    "duration": 8,
    "start_time": "2021-09-10T12:51:18.025Z"
   },
   {
    "duration": 46,
    "start_time": "2021-09-10T12:51:18.036Z"
   },
   {
    "duration": 7,
    "start_time": "2021-09-10T12:51:18.085Z"
   },
   {
    "duration": 50268,
    "start_time": "2021-09-10T12:51:18.094Z"
   },
   {
    "duration": 17,
    "start_time": "2021-09-10T12:52:08.364Z"
   },
   {
    "duration": 2,
    "start_time": "2021-09-10T12:52:08.384Z"
   },
   {
    "duration": 626,
    "start_time": "2021-09-10T12:52:08.388Z"
   },
   {
    "duration": 8,
    "start_time": "2021-09-10T12:52:09.017Z"
   },
   {
    "duration": 9,
    "start_time": "2021-09-10T12:52:09.028Z"
   },
   {
    "duration": 8,
    "start_time": "2021-09-10T12:52:09.039Z"
   },
   {
    "duration": 275,
    "start_time": "2021-09-10T12:52:09.083Z"
   },
   {
    "duration": 37,
    "start_time": "2021-09-10T12:52:09.361Z"
   },
   {
    "duration": 9,
    "start_time": "2021-09-10T12:52:09.400Z"
   },
   {
    "duration": 431,
    "start_time": "2021-09-10T12:52:09.416Z"
   },
   {
    "duration": 562,
    "start_time": "2021-09-10T12:55:58.474Z"
   },
   {
    "duration": 167,
    "start_time": "2021-09-10T12:56:30.262Z"
   },
   {
    "duration": 121421,
    "start_time": "2021-09-10T12:57:22.688Z"
   },
   {
    "duration": 1450,
    "start_time": "2021-09-10T13:44:52.391Z"
   },
   {
    "duration": 311,
    "start_time": "2021-09-10T13:44:53.843Z"
   },
   {
    "duration": 3,
    "start_time": "2021-09-10T13:44:54.158Z"
   },
   {
    "duration": 49,
    "start_time": "2021-09-10T13:44:54.165Z"
   },
   {
    "duration": 243,
    "start_time": "2021-09-10T13:44:54.217Z"
   },
   {
    "duration": 25,
    "start_time": "2021-09-10T13:44:54.463Z"
   },
   {
    "duration": 21,
    "start_time": "2021-09-10T13:44:54.491Z"
   },
   {
    "duration": 7,
    "start_time": "2021-09-10T13:44:54.518Z"
   },
   {
    "duration": 269,
    "start_time": "2021-09-10T13:44:54.529Z"
   },
   {
    "duration": 285,
    "start_time": "2021-09-10T13:44:54.801Z"
   },
   {
    "duration": 8,
    "start_time": "2021-09-10T13:44:55.088Z"
   },
   {
    "duration": 277,
    "start_time": "2021-09-10T13:44:55.098Z"
   },
   {
    "duration": 243,
    "start_time": "2021-09-10T13:44:55.377Z"
   },
   {
    "duration": 10,
    "start_time": "2021-09-10T13:44:55.623Z"
   },
   {
    "duration": 12,
    "start_time": "2021-09-10T13:44:55.635Z"
   },
   {
    "duration": 1325,
    "start_time": "2021-09-10T13:44:55.649Z"
   },
   {
    "duration": 9,
    "start_time": "2021-09-10T13:44:56.977Z"
   },
   {
    "duration": 19,
    "start_time": "2021-09-10T13:44:56.989Z"
   },
   {
    "duration": 278,
    "start_time": "2021-09-10T13:44:57.010Z"
   },
   {
    "duration": 286,
    "start_time": "2021-09-10T13:44:57.291Z"
   },
   {
    "duration": 584,
    "start_time": "2021-09-10T13:44:57.582Z"
   },
   {
    "duration": 359,
    "start_time": "2021-09-10T13:44:58.169Z"
   },
   {
    "duration": 18,
    "start_time": "2021-09-10T13:44:58.534Z"
   },
   {
    "duration": 28,
    "start_time": "2021-09-10T13:44:58.556Z"
   },
   {
    "duration": 30,
    "start_time": "2021-09-10T13:44:58.586Z"
   },
   {
    "duration": 18,
    "start_time": "2021-09-10T13:44:58.619Z"
   },
   {
    "duration": 50,
    "start_time": "2021-09-10T13:44:58.639Z"
   },
   {
    "duration": 6,
    "start_time": "2021-09-10T13:44:58.691Z"
   },
   {
    "duration": 8,
    "start_time": "2021-09-10T13:44:58.699Z"
   },
   {
    "duration": 6,
    "start_time": "2021-09-10T13:44:58.709Z"
   },
   {
    "duration": 17,
    "start_time": "2021-09-10T13:44:58.717Z"
   },
   {
    "duration": 142,
    "start_time": "2021-09-10T13:44:58.736Z"
   },
   {
    "duration": 6,
    "start_time": "2021-09-10T13:44:58.881Z"
   },
   {
    "duration": 8,
    "start_time": "2021-09-10T13:44:58.890Z"
   },
   {
    "duration": 5,
    "start_time": "2021-09-10T13:44:58.900Z"
   },
   {
    "duration": 5,
    "start_time": "2021-09-10T13:44:58.908Z"
   },
   {
    "duration": 15,
    "start_time": "2021-09-10T13:44:58.916Z"
   },
   {
    "duration": 58,
    "start_time": "2021-09-10T13:44:58.934Z"
   },
   {
    "duration": 9,
    "start_time": "2021-09-10T13:44:58.994Z"
   },
   {
    "duration": 11812,
    "start_time": "2021-09-10T13:44:59.006Z"
   },
   {
    "duration": 9,
    "start_time": "2021-09-10T13:45:10.821Z"
   },
   {
    "duration": 19,
    "start_time": "2021-09-10T13:45:10.833Z"
   },
   {
    "duration": 30,
    "start_time": "2021-09-10T13:45:10.855Z"
   },
   {
    "duration": 29,
    "start_time": "2021-09-10T13:45:10.887Z"
   },
   {
    "duration": 5,
    "start_time": "2021-09-10T13:45:10.918Z"
   },
   {
    "duration": 11,
    "start_time": "2021-09-10T13:45:10.926Z"
   },
   {
    "duration": 10,
    "start_time": "2021-09-10T13:45:10.941Z"
   },
   {
    "duration": 129,
    "start_time": "2021-09-10T13:45:10.954Z"
   },
   {
    "duration": 107,
    "start_time": "2021-09-10T13:45:11.086Z"
   },
   {
    "duration": 35022,
    "start_time": "2021-09-10T13:45:11.283Z"
   },
   {
    "duration": 18,
    "start_time": "2021-09-10T13:45:46.307Z"
   },
   {
    "duration": 12,
    "start_time": "2021-09-10T13:45:46.327Z"
   },
   {
    "duration": 5,
    "start_time": "2021-09-10T13:45:46.341Z"
   },
   {
    "duration": 25,
    "start_time": "2021-09-10T13:45:46.383Z"
   },
   {
    "duration": 8,
    "start_time": "2021-09-10T13:45:46.410Z"
   },
   {
    "duration": 18,
    "start_time": "2021-09-10T13:45:46.421Z"
   },
   {
    "duration": 43,
    "start_time": "2021-09-10T13:45:46.441Z"
   },
   {
    "duration": 124904,
    "start_time": "2021-09-10T13:45:46.486Z"
   },
   {
    "duration": 4,
    "start_time": "2021-09-10T13:47:51.393Z"
   },
   {
    "duration": 7,
    "start_time": "2021-09-10T13:47:51.400Z"
   },
   {
    "duration": 185,
    "start_time": "2021-09-10T13:47:51.410Z"
   },
   {
    "duration": 7,
    "start_time": "2021-09-10T13:47:51.597Z"
   },
   {
    "duration": 7,
    "start_time": "2021-09-10T13:47:51.607Z"
   },
   {
    "duration": 8,
    "start_time": "2021-09-10T13:47:51.616Z"
   },
   {
    "duration": 277,
    "start_time": "2021-09-10T13:47:51.626Z"
   },
   {
    "duration": 15,
    "start_time": "2021-09-10T13:47:51.905Z"
   },
   {
    "duration": 8,
    "start_time": "2021-09-10T13:47:51.923Z"
   },
   {
    "duration": 344,
    "start_time": "2021-09-10T13:47:51.938Z"
   },
   {
    "duration": 1495,
    "start_time": "2021-09-10T13:51:16.274Z"
   },
   {
    "duration": 261,
    "start_time": "2021-09-10T13:51:17.772Z"
   },
   {
    "duration": 3,
    "start_time": "2021-09-10T13:51:18.036Z"
   },
   {
    "duration": 39,
    "start_time": "2021-09-10T13:51:18.042Z"
   },
   {
    "duration": 243,
    "start_time": "2021-09-10T13:51:18.083Z"
   },
   {
    "duration": 12,
    "start_time": "2021-09-10T13:51:18.328Z"
   },
   {
    "duration": 40,
    "start_time": "2021-09-10T13:51:18.343Z"
   },
   {
    "duration": 7,
    "start_time": "2021-09-10T13:51:18.387Z"
   },
   {
    "duration": 246,
    "start_time": "2021-09-10T13:51:18.396Z"
   },
   {
    "duration": 261,
    "start_time": "2021-09-10T13:51:18.645Z"
   },
   {
    "duration": 10,
    "start_time": "2021-09-10T13:51:18.909Z"
   },
   {
    "duration": 287,
    "start_time": "2021-09-10T13:51:18.921Z"
   },
   {
    "duration": 259,
    "start_time": "2021-09-10T13:51:19.211Z"
   },
   {
    "duration": 19,
    "start_time": "2021-09-10T13:51:19.474Z"
   },
   {
    "duration": 10,
    "start_time": "2021-09-10T13:51:19.495Z"
   },
   {
    "duration": 1518,
    "start_time": "2021-09-10T13:51:19.508Z"
   },
   {
    "duration": 8,
    "start_time": "2021-09-10T13:51:21.028Z"
   },
   {
    "duration": 12,
    "start_time": "2021-09-10T13:51:21.038Z"
   },
   {
    "duration": 288,
    "start_time": "2021-09-10T13:51:21.081Z"
   },
   {
    "duration": 283,
    "start_time": "2021-09-10T13:51:21.371Z"
   },
   {
    "duration": 479,
    "start_time": "2021-09-10T13:51:21.657Z"
   },
   {
    "duration": 367,
    "start_time": "2021-09-10T13:51:22.139Z"
   },
   {
    "duration": 18,
    "start_time": "2021-09-10T13:51:22.511Z"
   },
   {
    "duration": 14,
    "start_time": "2021-09-10T13:51:22.533Z"
   },
   {
    "duration": 44,
    "start_time": "2021-09-10T13:51:22.549Z"
   },
   {
    "duration": 24,
    "start_time": "2021-09-10T13:51:22.596Z"
   },
   {
    "duration": 38,
    "start_time": "2021-09-10T13:51:22.622Z"
   },
   {
    "duration": 6,
    "start_time": "2021-09-10T13:51:22.663Z"
   },
   {
    "duration": 17,
    "start_time": "2021-09-10T13:51:22.671Z"
   },
   {
    "duration": 9,
    "start_time": "2021-09-10T13:51:22.691Z"
   },
   {
    "duration": 14,
    "start_time": "2021-09-10T13:51:22.702Z"
   },
   {
    "duration": 21,
    "start_time": "2021-09-10T13:51:22.718Z"
   },
   {
    "duration": 17,
    "start_time": "2021-09-10T13:51:22.742Z"
   },
   {
    "duration": 22,
    "start_time": "2021-09-10T13:51:22.761Z"
   },
   {
    "duration": 3,
    "start_time": "2021-09-10T13:51:22.786Z"
   },
   {
    "duration": 8,
    "start_time": "2021-09-10T13:51:22.792Z"
   },
   {
    "duration": 16,
    "start_time": "2021-09-10T13:51:22.802Z"
   },
   {
    "duration": 33,
    "start_time": "2021-09-10T13:51:22.820Z"
   },
   {
    "duration": 7,
    "start_time": "2021-09-10T13:51:22.855Z"
   },
   {
    "duration": 12085,
    "start_time": "2021-09-10T13:51:22.883Z"
   },
   {
    "duration": 16,
    "start_time": "2021-09-10T13:51:34.971Z"
   },
   {
    "duration": 18,
    "start_time": "2021-09-10T13:51:34.990Z"
   },
   {
    "duration": 5,
    "start_time": "2021-09-10T13:51:35.010Z"
   },
   {
    "duration": 22,
    "start_time": "2021-09-10T13:51:35.018Z"
   },
   {
    "duration": 5,
    "start_time": "2021-09-10T13:51:35.043Z"
   },
   {
    "duration": 36,
    "start_time": "2021-09-10T13:51:35.050Z"
   },
   {
    "duration": 8,
    "start_time": "2021-09-10T13:51:35.088Z"
   },
   {
    "duration": 91,
    "start_time": "2021-09-10T13:51:35.099Z"
   },
   {
    "duration": 12,
    "start_time": "2021-09-10T13:51:35.283Z"
   },
   {
    "duration": 35733,
    "start_time": "2021-09-10T13:51:35.299Z"
   },
   {
    "duration": 18,
    "start_time": "2021-09-10T13:52:11.034Z"
   },
   {
    "duration": 33,
    "start_time": "2021-09-10T13:52:11.055Z"
   },
   {
    "duration": 5,
    "start_time": "2021-09-10T13:52:11.090Z"
   },
   {
    "duration": 25,
    "start_time": "2021-09-10T13:52:11.098Z"
   },
   {
    "duration": 8,
    "start_time": "2021-09-10T13:52:11.125Z"
   },
   {
    "duration": 56,
    "start_time": "2021-09-10T13:52:11.135Z"
   },
   {
    "duration": 8,
    "start_time": "2021-09-10T13:52:11.193Z"
   },
   {
    "duration": 124530,
    "start_time": "2021-09-10T13:52:11.203Z"
   },
   {
    "duration": 3,
    "start_time": "2021-09-10T13:54:15.736Z"
   },
   {
    "duration": 7,
    "start_time": "2021-09-10T13:54:15.741Z"
   },
   {
    "duration": 183,
    "start_time": "2021-09-10T13:54:15.751Z"
   },
   {
    "duration": 8,
    "start_time": "2021-09-10T13:54:15.937Z"
   },
   {
    "duration": 8,
    "start_time": "2021-09-10T13:54:15.947Z"
   },
   {
    "duration": 30,
    "start_time": "2021-09-10T13:54:15.958Z"
   },
   {
    "duration": 285,
    "start_time": "2021-09-10T13:54:15.990Z"
   },
   {
    "duration": 21,
    "start_time": "2021-09-10T13:54:16.278Z"
   },
   {
    "duration": 9,
    "start_time": "2021-09-10T13:54:16.301Z"
   },
   {
    "duration": 353,
    "start_time": "2021-09-10T13:54:16.317Z"
   },
   {
    "duration": 1432,
    "start_time": "2021-09-10T13:56:31.135Z"
   },
   {
    "duration": 215,
    "start_time": "2021-09-10T13:56:32.569Z"
   },
   {
    "duration": 3,
    "start_time": "2021-09-10T13:56:32.787Z"
   },
   {
    "duration": 46,
    "start_time": "2021-09-10T13:56:32.792Z"
   },
   {
    "duration": 244,
    "start_time": "2021-09-10T13:56:32.840Z"
   },
   {
    "duration": 10,
    "start_time": "2021-09-10T13:56:33.087Z"
   },
   {
    "duration": 19,
    "start_time": "2021-09-10T13:56:33.100Z"
   },
   {
    "duration": 7,
    "start_time": "2021-09-10T13:56:33.121Z"
   },
   {
    "duration": 267,
    "start_time": "2021-09-10T13:56:33.132Z"
   },
   {
    "duration": 267,
    "start_time": "2021-09-10T13:56:33.402Z"
   },
   {
    "duration": 14,
    "start_time": "2021-09-10T13:56:33.671Z"
   },
   {
    "duration": 254,
    "start_time": "2021-09-10T13:56:33.687Z"
   },
   {
    "duration": 312,
    "start_time": "2021-09-10T13:56:33.944Z"
   },
   {
    "duration": 25,
    "start_time": "2021-09-10T13:56:34.259Z"
   },
   {
    "duration": 9,
    "start_time": "2021-09-10T13:56:34.287Z"
   },
   {
    "duration": 1270,
    "start_time": "2021-09-10T13:56:34.298Z"
   },
   {
    "duration": 16,
    "start_time": "2021-09-10T13:56:35.570Z"
   },
   {
    "duration": 8,
    "start_time": "2021-09-10T13:56:35.588Z"
   },
   {
    "duration": 279,
    "start_time": "2021-09-10T13:56:35.599Z"
   },
   {
    "duration": 272,
    "start_time": "2021-09-10T13:56:35.880Z"
   },
   {
    "duration": 486,
    "start_time": "2021-09-10T13:56:36.154Z"
   },
   {
    "duration": 387,
    "start_time": "2021-09-10T13:56:36.642Z"
   },
   {
    "duration": 18,
    "start_time": "2021-09-10T13:56:37.032Z"
   },
   {
    "duration": 11,
    "start_time": "2021-09-10T13:56:37.053Z"
   },
   {
    "duration": 26,
    "start_time": "2021-09-10T13:56:37.082Z"
   },
   {
    "duration": 19,
    "start_time": "2021-09-10T13:56:37.111Z"
   },
   {
    "duration": 52,
    "start_time": "2021-09-10T13:56:37.136Z"
   },
   {
    "duration": 7,
    "start_time": "2021-09-10T13:56:37.191Z"
   },
   {
    "duration": 10,
    "start_time": "2021-09-10T13:56:37.200Z"
   },
   {
    "duration": 5,
    "start_time": "2021-09-10T13:56:37.212Z"
   },
   {
    "duration": 5,
    "start_time": "2021-09-10T13:56:37.220Z"
   },
   {
    "duration": 56,
    "start_time": "2021-09-10T13:56:37.228Z"
   },
   {
    "duration": 6,
    "start_time": "2021-09-10T13:56:37.286Z"
   },
   {
    "duration": 6,
    "start_time": "2021-09-10T13:56:37.294Z"
   },
   {
    "duration": 4,
    "start_time": "2021-09-10T13:56:37.303Z"
   },
   {
    "duration": 6,
    "start_time": "2021-09-10T13:56:37.309Z"
   },
   {
    "duration": 14,
    "start_time": "2021-09-10T13:56:37.317Z"
   },
   {
    "duration": 65,
    "start_time": "2021-09-10T13:56:37.333Z"
   },
   {
    "duration": 8,
    "start_time": "2021-09-10T13:56:37.401Z"
   },
   {
    "duration": 11819,
    "start_time": "2021-09-10T13:56:37.411Z"
   },
   {
    "duration": 10,
    "start_time": "2021-09-10T13:56:49.233Z"
   },
   {
    "duration": 38,
    "start_time": "2021-09-10T13:56:49.245Z"
   },
   {
    "duration": 6,
    "start_time": "2021-09-10T13:56:49.285Z"
   },
   {
    "duration": 32,
    "start_time": "2021-09-10T13:56:49.292Z"
   },
   {
    "duration": 5,
    "start_time": "2021-09-10T13:56:49.326Z"
   },
   {
    "duration": 9,
    "start_time": "2021-09-10T13:56:49.333Z"
   },
   {
    "duration": 17,
    "start_time": "2021-09-10T13:56:49.344Z"
   },
   {
    "duration": 122,
    "start_time": "2021-09-10T13:56:49.364Z"
   },
   {
    "duration": 196,
    "start_time": "2021-09-10T13:56:49.489Z"
   },
   {
    "duration": 34359,
    "start_time": "2021-09-10T13:56:49.689Z"
   },
   {
    "duration": 32,
    "start_time": "2021-09-10T13:57:24.051Z"
   },
   {
    "duration": 12,
    "start_time": "2021-09-10T13:57:24.085Z"
   },
   {
    "duration": 16,
    "start_time": "2021-09-10T13:57:24.099Z"
   },
   {
    "duration": 27,
    "start_time": "2021-09-10T13:57:24.117Z"
   },
   {
    "duration": 7,
    "start_time": "2021-09-10T13:57:24.146Z"
   },
   {
    "duration": 37,
    "start_time": "2021-09-10T13:57:24.155Z"
   },
   {
    "duration": 8,
    "start_time": "2021-09-10T13:57:24.194Z"
   },
   {
    "duration": 120170,
    "start_time": "2021-09-10T13:57:24.205Z"
   },
   {
    "duration": 4,
    "start_time": "2021-09-10T13:59:24.381Z"
   },
   {
    "duration": 13,
    "start_time": "2021-09-10T13:59:24.387Z"
   },
   {
    "duration": 169,
    "start_time": "2021-09-10T13:59:24.402Z"
   },
   {
    "duration": 362,
    "start_time": "2021-09-10T13:59:24.574Z"
   },
   {
    "duration": -1418,
    "start_time": "2021-09-10T13:59:26.357Z"
   },
   {
    "duration": -1422,
    "start_time": "2021-09-10T13:59:26.362Z"
   },
   {
    "duration": -1425,
    "start_time": "2021-09-10T13:59:26.366Z"
   },
   {
    "duration": -1427,
    "start_time": "2021-09-10T13:59:26.370Z"
   },
   {
    "duration": -1429,
    "start_time": "2021-09-10T13:59:26.373Z"
   },
   {
    "duration": -1431,
    "start_time": "2021-09-10T13:59:26.376Z"
   },
   {
    "duration": 9,
    "start_time": "2021-09-10T14:00:17.900Z"
   },
   {
    "duration": 9,
    "start_time": "2021-09-10T14:00:19.759Z"
   },
   {
    "duration": 9,
    "start_time": "2021-09-10T14:00:20.757Z"
   },
   {
    "duration": 10,
    "start_time": "2021-09-10T14:00:47.861Z"
   },
   {
    "duration": 8,
    "start_time": "2021-09-10T14:01:00.067Z"
   },
   {
    "duration": 11,
    "start_time": "2021-09-10T14:01:05.549Z"
   },
   {
    "duration": 11,
    "start_time": "2021-09-10T14:01:05.745Z"
   },
   {
    "duration": 351,
    "start_time": "2021-09-10T14:01:07.359Z"
   },
   {
    "duration": 21,
    "start_time": "2021-09-10T14:01:37.259Z"
   },
   {
    "duration": 9,
    "start_time": "2021-09-10T14:01:40.423Z"
   },
   {
    "duration": 294,
    "start_time": "2021-09-10T14:01:50.747Z"
   }
  ],
  "kernelspec": {
   "display_name": "Python 3",
   "language": "python",
   "name": "python3"
  },
  "language_info": {
   "codemirror_mode": {
    "name": "ipython",
    "version": 3
   },
   "file_extension": ".py",
   "mimetype": "text/x-python",
   "name": "python",
   "nbconvert_exporter": "python",
   "pygments_lexer": "ipython3",
   "version": "3.8.5"
  },
  "toc": {
   "base_numbering": 1,
   "nav_menu": {},
   "number_sections": true,
   "sideBar": true,
   "skip_h1_title": true,
   "title_cell": "Table of Contents",
   "title_sidebar": "Contents",
   "toc_cell": false,
   "toc_position": {},
   "toc_section_display": true,
   "toc_window_display": false
  }
 },
 "nbformat": 4,
 "nbformat_minor": 4
}
