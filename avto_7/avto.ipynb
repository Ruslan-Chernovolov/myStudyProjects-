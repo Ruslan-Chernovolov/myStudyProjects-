{
 "cells": [
  {
   "cell_type": "markdown",
   "metadata": {},
   "source": [
    "# Определение стоимости автомобилей"
   ]
  },
  {
   "cell_type": "markdown",
   "metadata": {},
   "source": [
    "## Загрузка библиотек. Знакомство с данными"
   ]
  },
  {
   "cell_type": "code",
   "execution_count": 1,
   "metadata": {},
   "outputs": [],
   "source": [
    "import pandas as pd\n",
    "import numpy as np\n",
    "\n",
    "import matplotlib.pyplot as plt\n",
    "import seaborn as sns\n",
    "\n",
    "\n",
    "from sklearn.model_selection import train_test_split\n",
    "from catboost import CatBoostRegressor\n",
    "from sklearn.metrics import mean_squared_error\n",
    "import xgboost as xgb\n",
    "from sklearn.model_selection import GridSearchCV\n",
    "import lightgbm as lgb\n",
    "from sklearn.preprocessing import OrdinalEncoder\n",
    "from sklearn.ensemble import RandomForestRegressor\n",
    "from sklearn.linear_model import LinearRegression\n",
    "from sklearn.dummy import DummyRegressor\n",
    "from sklearn.neighbors import KNeighborsRegressor\n",
    "from sklearn.svm import SVR\n",
    "import seaborn as sns\n",
    "import time\n",
    "import matplotlib.pyplot as plt"
   ]
  },
  {
   "cell_type": "code",
   "execution_count": 2,
   "metadata": {},
   "outputs": [],
   "source": [
    "import warnings\n",
    "warnings.filterwarnings(\"ignore\")"
   ]
  },
  {
   "cell_type": "code",
   "execution_count": 3,
   "metadata": {},
   "outputs": [],
   "source": [
    "# считываем датафрейм\n",
    "try:\n",
    "    df=pd.read_csv('C:\\\\\\\\Python\\\\\\\\ЯП\\\\\\\\проект_8\\\\\\\\autos.csv', sep=',')\n",
    "\n",
    "except:\n",
    "    df=pd.read_csv('/datasets/autos.csv', sep=',')\n"
   ]
  },
  {
   "cell_type": "markdown",
   "metadata": {},
   "source": [
    " "
   ]
  },
  {
   "cell_type": "markdown",
   "metadata": {},
   "source": [
    " "
   ]
  },
  {
   "cell_type": "code",
   "execution_count": 4,
   "metadata": {},
   "outputs": [
    {
     "data": {
      "text/html": [
       "<div>\n",
       "<style scoped>\n",
       "    .dataframe tbody tr th:only-of-type {\n",
       "        vertical-align: middle;\n",
       "    }\n",
       "\n",
       "    .dataframe tbody tr th {\n",
       "        vertical-align: top;\n",
       "    }\n",
       "\n",
       "    .dataframe thead th {\n",
       "        text-align: right;\n",
       "    }\n",
       "</style>\n",
       "<table border=\"1\" class=\"dataframe\">\n",
       "  <thead>\n",
       "    <tr style=\"text-align: right;\">\n",
       "      <th></th>\n",
       "      <th>DateCrawled</th>\n",
       "      <th>Price</th>\n",
       "      <th>VehicleType</th>\n",
       "      <th>RegistrationYear</th>\n",
       "      <th>Gearbox</th>\n",
       "      <th>Power</th>\n",
       "      <th>Model</th>\n",
       "      <th>Kilometer</th>\n",
       "      <th>RegistrationMonth</th>\n",
       "      <th>FuelType</th>\n",
       "      <th>Brand</th>\n",
       "      <th>NotRepaired</th>\n",
       "      <th>DateCreated</th>\n",
       "      <th>NumberOfPictures</th>\n",
       "      <th>PostalCode</th>\n",
       "      <th>LastSeen</th>\n",
       "    </tr>\n",
       "  </thead>\n",
       "  <tbody>\n",
       "    <tr>\n",
       "      <th>0</th>\n",
       "      <td>2016-03-24 11:52:17</td>\n",
       "      <td>480</td>\n",
       "      <td>NaN</td>\n",
       "      <td>1993</td>\n",
       "      <td>manual</td>\n",
       "      <td>0</td>\n",
       "      <td>golf</td>\n",
       "      <td>150000</td>\n",
       "      <td>0</td>\n",
       "      <td>petrol</td>\n",
       "      <td>volkswagen</td>\n",
       "      <td>NaN</td>\n",
       "      <td>2016-03-24 00:00:00</td>\n",
       "      <td>0</td>\n",
       "      <td>70435</td>\n",
       "      <td>2016-04-07 03:16:57</td>\n",
       "    </tr>\n",
       "    <tr>\n",
       "      <th>1</th>\n",
       "      <td>2016-03-24 10:58:45</td>\n",
       "      <td>18300</td>\n",
       "      <td>coupe</td>\n",
       "      <td>2011</td>\n",
       "      <td>manual</td>\n",
       "      <td>190</td>\n",
       "      <td>NaN</td>\n",
       "      <td>125000</td>\n",
       "      <td>5</td>\n",
       "      <td>gasoline</td>\n",
       "      <td>audi</td>\n",
       "      <td>yes</td>\n",
       "      <td>2016-03-24 00:00:00</td>\n",
       "      <td>0</td>\n",
       "      <td>66954</td>\n",
       "      <td>2016-04-07 01:46:50</td>\n",
       "    </tr>\n",
       "    <tr>\n",
       "      <th>2</th>\n",
       "      <td>2016-03-14 12:52:21</td>\n",
       "      <td>9800</td>\n",
       "      <td>suv</td>\n",
       "      <td>2004</td>\n",
       "      <td>auto</td>\n",
       "      <td>163</td>\n",
       "      <td>grand</td>\n",
       "      <td>125000</td>\n",
       "      <td>8</td>\n",
       "      <td>gasoline</td>\n",
       "      <td>jeep</td>\n",
       "      <td>NaN</td>\n",
       "      <td>2016-03-14 00:00:00</td>\n",
       "      <td>0</td>\n",
       "      <td>90480</td>\n",
       "      <td>2016-04-05 12:47:46</td>\n",
       "    </tr>\n",
       "    <tr>\n",
       "      <th>3</th>\n",
       "      <td>2016-03-17 16:54:04</td>\n",
       "      <td>1500</td>\n",
       "      <td>small</td>\n",
       "      <td>2001</td>\n",
       "      <td>manual</td>\n",
       "      <td>75</td>\n",
       "      <td>golf</td>\n",
       "      <td>150000</td>\n",
       "      <td>6</td>\n",
       "      <td>petrol</td>\n",
       "      <td>volkswagen</td>\n",
       "      <td>no</td>\n",
       "      <td>2016-03-17 00:00:00</td>\n",
       "      <td>0</td>\n",
       "      <td>91074</td>\n",
       "      <td>2016-03-17 17:40:17</td>\n",
       "    </tr>\n",
       "    <tr>\n",
       "      <th>4</th>\n",
       "      <td>2016-03-31 17:25:20</td>\n",
       "      <td>3600</td>\n",
       "      <td>small</td>\n",
       "      <td>2008</td>\n",
       "      <td>manual</td>\n",
       "      <td>69</td>\n",
       "      <td>fabia</td>\n",
       "      <td>90000</td>\n",
       "      <td>7</td>\n",
       "      <td>gasoline</td>\n",
       "      <td>skoda</td>\n",
       "      <td>no</td>\n",
       "      <td>2016-03-31 00:00:00</td>\n",
       "      <td>0</td>\n",
       "      <td>60437</td>\n",
       "      <td>2016-04-06 10:17:21</td>\n",
       "    </tr>\n",
       "    <tr>\n",
       "      <th>...</th>\n",
       "      <td>...</td>\n",
       "      <td>...</td>\n",
       "      <td>...</td>\n",
       "      <td>...</td>\n",
       "      <td>...</td>\n",
       "      <td>...</td>\n",
       "      <td>...</td>\n",
       "      <td>...</td>\n",
       "      <td>...</td>\n",
       "      <td>...</td>\n",
       "      <td>...</td>\n",
       "      <td>...</td>\n",
       "      <td>...</td>\n",
       "      <td>...</td>\n",
       "      <td>...</td>\n",
       "      <td>...</td>\n",
       "    </tr>\n",
       "    <tr>\n",
       "      <th>354364</th>\n",
       "      <td>2016-03-21 09:50:58</td>\n",
       "      <td>0</td>\n",
       "      <td>NaN</td>\n",
       "      <td>2005</td>\n",
       "      <td>manual</td>\n",
       "      <td>0</td>\n",
       "      <td>colt</td>\n",
       "      <td>150000</td>\n",
       "      <td>7</td>\n",
       "      <td>petrol</td>\n",
       "      <td>mitsubishi</td>\n",
       "      <td>yes</td>\n",
       "      <td>2016-03-21 00:00:00</td>\n",
       "      <td>0</td>\n",
       "      <td>2694</td>\n",
       "      <td>2016-03-21 10:42:49</td>\n",
       "    </tr>\n",
       "    <tr>\n",
       "      <th>354365</th>\n",
       "      <td>2016-03-14 17:48:27</td>\n",
       "      <td>2200</td>\n",
       "      <td>NaN</td>\n",
       "      <td>2005</td>\n",
       "      <td>NaN</td>\n",
       "      <td>0</td>\n",
       "      <td>NaN</td>\n",
       "      <td>20000</td>\n",
       "      <td>1</td>\n",
       "      <td>NaN</td>\n",
       "      <td>sonstige_autos</td>\n",
       "      <td>NaN</td>\n",
       "      <td>2016-03-14 00:00:00</td>\n",
       "      <td>0</td>\n",
       "      <td>39576</td>\n",
       "      <td>2016-04-06 00:46:52</td>\n",
       "    </tr>\n",
       "    <tr>\n",
       "      <th>354366</th>\n",
       "      <td>2016-03-05 19:56:21</td>\n",
       "      <td>1199</td>\n",
       "      <td>convertible</td>\n",
       "      <td>2000</td>\n",
       "      <td>auto</td>\n",
       "      <td>101</td>\n",
       "      <td>fortwo</td>\n",
       "      <td>125000</td>\n",
       "      <td>3</td>\n",
       "      <td>petrol</td>\n",
       "      <td>smart</td>\n",
       "      <td>no</td>\n",
       "      <td>2016-03-05 00:00:00</td>\n",
       "      <td>0</td>\n",
       "      <td>26135</td>\n",
       "      <td>2016-03-11 18:17:12</td>\n",
       "    </tr>\n",
       "    <tr>\n",
       "      <th>354367</th>\n",
       "      <td>2016-03-19 18:57:12</td>\n",
       "      <td>9200</td>\n",
       "      <td>bus</td>\n",
       "      <td>1996</td>\n",
       "      <td>manual</td>\n",
       "      <td>102</td>\n",
       "      <td>transporter</td>\n",
       "      <td>150000</td>\n",
       "      <td>3</td>\n",
       "      <td>gasoline</td>\n",
       "      <td>volkswagen</td>\n",
       "      <td>no</td>\n",
       "      <td>2016-03-19 00:00:00</td>\n",
       "      <td>0</td>\n",
       "      <td>87439</td>\n",
       "      <td>2016-04-07 07:15:26</td>\n",
       "    </tr>\n",
       "    <tr>\n",
       "      <th>354368</th>\n",
       "      <td>2016-03-20 19:41:08</td>\n",
       "      <td>3400</td>\n",
       "      <td>wagon</td>\n",
       "      <td>2002</td>\n",
       "      <td>manual</td>\n",
       "      <td>100</td>\n",
       "      <td>golf</td>\n",
       "      <td>150000</td>\n",
       "      <td>6</td>\n",
       "      <td>gasoline</td>\n",
       "      <td>volkswagen</td>\n",
       "      <td>NaN</td>\n",
       "      <td>2016-03-20 00:00:00</td>\n",
       "      <td>0</td>\n",
       "      <td>40764</td>\n",
       "      <td>2016-03-24 12:45:21</td>\n",
       "    </tr>\n",
       "  </tbody>\n",
       "</table>\n",
       "<p>354369 rows × 16 columns</p>\n",
       "</div>"
      ],
      "text/plain": [
       "                DateCrawled  Price  VehicleType  RegistrationYear Gearbox  \\\n",
       "0       2016-03-24 11:52:17    480          NaN              1993  manual   \n",
       "1       2016-03-24 10:58:45  18300        coupe              2011  manual   \n",
       "2       2016-03-14 12:52:21   9800          suv              2004    auto   \n",
       "3       2016-03-17 16:54:04   1500        small              2001  manual   \n",
       "4       2016-03-31 17:25:20   3600        small              2008  manual   \n",
       "...                     ...    ...          ...               ...     ...   \n",
       "354364  2016-03-21 09:50:58      0          NaN              2005  manual   \n",
       "354365  2016-03-14 17:48:27   2200          NaN              2005     NaN   \n",
       "354366  2016-03-05 19:56:21   1199  convertible              2000    auto   \n",
       "354367  2016-03-19 18:57:12   9200          bus              1996  manual   \n",
       "354368  2016-03-20 19:41:08   3400        wagon              2002  manual   \n",
       "\n",
       "        Power        Model  Kilometer  RegistrationMonth  FuelType  \\\n",
       "0           0         golf     150000                  0    petrol   \n",
       "1         190          NaN     125000                  5  gasoline   \n",
       "2         163        grand     125000                  8  gasoline   \n",
       "3          75         golf     150000                  6    petrol   \n",
       "4          69        fabia      90000                  7  gasoline   \n",
       "...       ...          ...        ...                ...       ...   \n",
       "354364      0         colt     150000                  7    petrol   \n",
       "354365      0          NaN      20000                  1       NaN   \n",
       "354366    101       fortwo     125000                  3    petrol   \n",
       "354367    102  transporter     150000                  3  gasoline   \n",
       "354368    100         golf     150000                  6  gasoline   \n",
       "\n",
       "                 Brand NotRepaired          DateCreated  NumberOfPictures  \\\n",
       "0           volkswagen         NaN  2016-03-24 00:00:00                 0   \n",
       "1                 audi         yes  2016-03-24 00:00:00                 0   \n",
       "2                 jeep         NaN  2016-03-14 00:00:00                 0   \n",
       "3           volkswagen          no  2016-03-17 00:00:00                 0   \n",
       "4                skoda          no  2016-03-31 00:00:00                 0   \n",
       "...                ...         ...                  ...               ...   \n",
       "354364      mitsubishi         yes  2016-03-21 00:00:00                 0   \n",
       "354365  sonstige_autos         NaN  2016-03-14 00:00:00                 0   \n",
       "354366           smart          no  2016-03-05 00:00:00                 0   \n",
       "354367      volkswagen          no  2016-03-19 00:00:00                 0   \n",
       "354368      volkswagen         NaN  2016-03-20 00:00:00                 0   \n",
       "\n",
       "        PostalCode             LastSeen  \n",
       "0            70435  2016-04-07 03:16:57  \n",
       "1            66954  2016-04-07 01:46:50  \n",
       "2            90480  2016-04-05 12:47:46  \n",
       "3            91074  2016-03-17 17:40:17  \n",
       "4            60437  2016-04-06 10:17:21  \n",
       "...            ...                  ...  \n",
       "354364        2694  2016-03-21 10:42:49  \n",
       "354365       39576  2016-04-06 00:46:52  \n",
       "354366       26135  2016-03-11 18:17:12  \n",
       "354367       87439  2016-04-07 07:15:26  \n",
       "354368       40764  2016-03-24 12:45:21  \n",
       "\n",
       "[354369 rows x 16 columns]"
      ]
     },
     "execution_count": 4,
     "metadata": {},
     "output_type": "execute_result"
    }
   ],
   "source": [
    "df"
   ]
  },
  {
   "cell_type": "markdown",
   "metadata": {},
   "source": [
    " "
   ]
  },
  {
   "cell_type": "markdown",
   "metadata": {},
   "source": [
    " "
   ]
  },
  {
   "cell_type": "markdown",
   "metadata": {},
   "source": [
    "Переименуем столбцы"
   ]
  },
  {
   "cell_type": "code",
   "execution_count": 5,
   "metadata": {},
   "outputs": [
    {
     "data": {
      "text/html": [
       "<div>\n",
       "<style scoped>\n",
       "    .dataframe tbody tr th:only-of-type {\n",
       "        vertical-align: middle;\n",
       "    }\n",
       "\n",
       "    .dataframe tbody tr th {\n",
       "        vertical-align: top;\n",
       "    }\n",
       "\n",
       "    .dataframe thead th {\n",
       "        text-align: right;\n",
       "    }\n",
       "</style>\n",
       "<table border=\"1\" class=\"dataframe\">\n",
       "  <thead>\n",
       "    <tr style=\"text-align: right;\">\n",
       "      <th></th>\n",
       "      <th>date_crawled</th>\n",
       "      <th>price</th>\n",
       "      <th>vehicle_type</th>\n",
       "      <th>registration_year</th>\n",
       "      <th>gearbox</th>\n",
       "      <th>power</th>\n",
       "      <th>model</th>\n",
       "      <th>kilometer</th>\n",
       "      <th>registration_month</th>\n",
       "      <th>fuel_type</th>\n",
       "      <th>brand</th>\n",
       "      <th>not_repaired</th>\n",
       "      <th>date_created</th>\n",
       "      <th>number_of_pictures</th>\n",
       "      <th>postal_code</th>\n",
       "      <th>last_seen</th>\n",
       "    </tr>\n",
       "  </thead>\n",
       "  <tbody>\n",
       "    <tr>\n",
       "      <th>0</th>\n",
       "      <td>2016-03-24 11:52:17</td>\n",
       "      <td>480</td>\n",
       "      <td>NaN</td>\n",
       "      <td>1993</td>\n",
       "      <td>manual</td>\n",
       "      <td>0</td>\n",
       "      <td>golf</td>\n",
       "      <td>150000</td>\n",
       "      <td>0</td>\n",
       "      <td>petrol</td>\n",
       "      <td>volkswagen</td>\n",
       "      <td>NaN</td>\n",
       "      <td>2016-03-24 00:00:00</td>\n",
       "      <td>0</td>\n",
       "      <td>70435</td>\n",
       "      <td>2016-04-07 03:16:57</td>\n",
       "    </tr>\n",
       "    <tr>\n",
       "      <th>1</th>\n",
       "      <td>2016-03-24 10:58:45</td>\n",
       "      <td>18300</td>\n",
       "      <td>coupe</td>\n",
       "      <td>2011</td>\n",
       "      <td>manual</td>\n",
       "      <td>190</td>\n",
       "      <td>NaN</td>\n",
       "      <td>125000</td>\n",
       "      <td>5</td>\n",
       "      <td>gasoline</td>\n",
       "      <td>audi</td>\n",
       "      <td>yes</td>\n",
       "      <td>2016-03-24 00:00:00</td>\n",
       "      <td>0</td>\n",
       "      <td>66954</td>\n",
       "      <td>2016-04-07 01:46:50</td>\n",
       "    </tr>\n",
       "    <tr>\n",
       "      <th>2</th>\n",
       "      <td>2016-03-14 12:52:21</td>\n",
       "      <td>9800</td>\n",
       "      <td>suv</td>\n",
       "      <td>2004</td>\n",
       "      <td>auto</td>\n",
       "      <td>163</td>\n",
       "      <td>grand</td>\n",
       "      <td>125000</td>\n",
       "      <td>8</td>\n",
       "      <td>gasoline</td>\n",
       "      <td>jeep</td>\n",
       "      <td>NaN</td>\n",
       "      <td>2016-03-14 00:00:00</td>\n",
       "      <td>0</td>\n",
       "      <td>90480</td>\n",
       "      <td>2016-04-05 12:47:46</td>\n",
       "    </tr>\n",
       "    <tr>\n",
       "      <th>3</th>\n",
       "      <td>2016-03-17 16:54:04</td>\n",
       "      <td>1500</td>\n",
       "      <td>small</td>\n",
       "      <td>2001</td>\n",
       "      <td>manual</td>\n",
       "      <td>75</td>\n",
       "      <td>golf</td>\n",
       "      <td>150000</td>\n",
       "      <td>6</td>\n",
       "      <td>petrol</td>\n",
       "      <td>volkswagen</td>\n",
       "      <td>no</td>\n",
       "      <td>2016-03-17 00:00:00</td>\n",
       "      <td>0</td>\n",
       "      <td>91074</td>\n",
       "      <td>2016-03-17 17:40:17</td>\n",
       "    </tr>\n",
       "    <tr>\n",
       "      <th>4</th>\n",
       "      <td>2016-03-31 17:25:20</td>\n",
       "      <td>3600</td>\n",
       "      <td>small</td>\n",
       "      <td>2008</td>\n",
       "      <td>manual</td>\n",
       "      <td>69</td>\n",
       "      <td>fabia</td>\n",
       "      <td>90000</td>\n",
       "      <td>7</td>\n",
       "      <td>gasoline</td>\n",
       "      <td>skoda</td>\n",
       "      <td>no</td>\n",
       "      <td>2016-03-31 00:00:00</td>\n",
       "      <td>0</td>\n",
       "      <td>60437</td>\n",
       "      <td>2016-04-06 10:17:21</td>\n",
       "    </tr>\n",
       "    <tr>\n",
       "      <th>...</th>\n",
       "      <td>...</td>\n",
       "      <td>...</td>\n",
       "      <td>...</td>\n",
       "      <td>...</td>\n",
       "      <td>...</td>\n",
       "      <td>...</td>\n",
       "      <td>...</td>\n",
       "      <td>...</td>\n",
       "      <td>...</td>\n",
       "      <td>...</td>\n",
       "      <td>...</td>\n",
       "      <td>...</td>\n",
       "      <td>...</td>\n",
       "      <td>...</td>\n",
       "      <td>...</td>\n",
       "      <td>...</td>\n",
       "    </tr>\n",
       "    <tr>\n",
       "      <th>354364</th>\n",
       "      <td>2016-03-21 09:50:58</td>\n",
       "      <td>0</td>\n",
       "      <td>NaN</td>\n",
       "      <td>2005</td>\n",
       "      <td>manual</td>\n",
       "      <td>0</td>\n",
       "      <td>colt</td>\n",
       "      <td>150000</td>\n",
       "      <td>7</td>\n",
       "      <td>petrol</td>\n",
       "      <td>mitsubishi</td>\n",
       "      <td>yes</td>\n",
       "      <td>2016-03-21 00:00:00</td>\n",
       "      <td>0</td>\n",
       "      <td>2694</td>\n",
       "      <td>2016-03-21 10:42:49</td>\n",
       "    </tr>\n",
       "    <tr>\n",
       "      <th>354365</th>\n",
       "      <td>2016-03-14 17:48:27</td>\n",
       "      <td>2200</td>\n",
       "      <td>NaN</td>\n",
       "      <td>2005</td>\n",
       "      <td>NaN</td>\n",
       "      <td>0</td>\n",
       "      <td>NaN</td>\n",
       "      <td>20000</td>\n",
       "      <td>1</td>\n",
       "      <td>NaN</td>\n",
       "      <td>sonstige_autos</td>\n",
       "      <td>NaN</td>\n",
       "      <td>2016-03-14 00:00:00</td>\n",
       "      <td>0</td>\n",
       "      <td>39576</td>\n",
       "      <td>2016-04-06 00:46:52</td>\n",
       "    </tr>\n",
       "    <tr>\n",
       "      <th>354366</th>\n",
       "      <td>2016-03-05 19:56:21</td>\n",
       "      <td>1199</td>\n",
       "      <td>convertible</td>\n",
       "      <td>2000</td>\n",
       "      <td>auto</td>\n",
       "      <td>101</td>\n",
       "      <td>fortwo</td>\n",
       "      <td>125000</td>\n",
       "      <td>3</td>\n",
       "      <td>petrol</td>\n",
       "      <td>smart</td>\n",
       "      <td>no</td>\n",
       "      <td>2016-03-05 00:00:00</td>\n",
       "      <td>0</td>\n",
       "      <td>26135</td>\n",
       "      <td>2016-03-11 18:17:12</td>\n",
       "    </tr>\n",
       "    <tr>\n",
       "      <th>354367</th>\n",
       "      <td>2016-03-19 18:57:12</td>\n",
       "      <td>9200</td>\n",
       "      <td>bus</td>\n",
       "      <td>1996</td>\n",
       "      <td>manual</td>\n",
       "      <td>102</td>\n",
       "      <td>transporter</td>\n",
       "      <td>150000</td>\n",
       "      <td>3</td>\n",
       "      <td>gasoline</td>\n",
       "      <td>volkswagen</td>\n",
       "      <td>no</td>\n",
       "      <td>2016-03-19 00:00:00</td>\n",
       "      <td>0</td>\n",
       "      <td>87439</td>\n",
       "      <td>2016-04-07 07:15:26</td>\n",
       "    </tr>\n",
       "    <tr>\n",
       "      <th>354368</th>\n",
       "      <td>2016-03-20 19:41:08</td>\n",
       "      <td>3400</td>\n",
       "      <td>wagon</td>\n",
       "      <td>2002</td>\n",
       "      <td>manual</td>\n",
       "      <td>100</td>\n",
       "      <td>golf</td>\n",
       "      <td>150000</td>\n",
       "      <td>6</td>\n",
       "      <td>gasoline</td>\n",
       "      <td>volkswagen</td>\n",
       "      <td>NaN</td>\n",
       "      <td>2016-03-20 00:00:00</td>\n",
       "      <td>0</td>\n",
       "      <td>40764</td>\n",
       "      <td>2016-03-24 12:45:21</td>\n",
       "    </tr>\n",
       "  </tbody>\n",
       "</table>\n",
       "<p>354369 rows × 16 columns</p>\n",
       "</div>"
      ],
      "text/plain": [
       "               date_crawled  price vehicle_type  registration_year gearbox  \\\n",
       "0       2016-03-24 11:52:17    480          NaN               1993  manual   \n",
       "1       2016-03-24 10:58:45  18300        coupe               2011  manual   \n",
       "2       2016-03-14 12:52:21   9800          suv               2004    auto   \n",
       "3       2016-03-17 16:54:04   1500        small               2001  manual   \n",
       "4       2016-03-31 17:25:20   3600        small               2008  manual   \n",
       "...                     ...    ...          ...                ...     ...   \n",
       "354364  2016-03-21 09:50:58      0          NaN               2005  manual   \n",
       "354365  2016-03-14 17:48:27   2200          NaN               2005     NaN   \n",
       "354366  2016-03-05 19:56:21   1199  convertible               2000    auto   \n",
       "354367  2016-03-19 18:57:12   9200          bus               1996  manual   \n",
       "354368  2016-03-20 19:41:08   3400        wagon               2002  manual   \n",
       "\n",
       "        power        model  kilometer  registration_month fuel_type  \\\n",
       "0           0         golf     150000                   0    petrol   \n",
       "1         190          NaN     125000                   5  gasoline   \n",
       "2         163        grand     125000                   8  gasoline   \n",
       "3          75         golf     150000                   6    petrol   \n",
       "4          69        fabia      90000                   7  gasoline   \n",
       "...       ...          ...        ...                 ...       ...   \n",
       "354364      0         colt     150000                   7    petrol   \n",
       "354365      0          NaN      20000                   1       NaN   \n",
       "354366    101       fortwo     125000                   3    petrol   \n",
       "354367    102  transporter     150000                   3  gasoline   \n",
       "354368    100         golf     150000                   6  gasoline   \n",
       "\n",
       "                 brand not_repaired         date_created  number_of_pictures  \\\n",
       "0           volkswagen          NaN  2016-03-24 00:00:00                   0   \n",
       "1                 audi          yes  2016-03-24 00:00:00                   0   \n",
       "2                 jeep          NaN  2016-03-14 00:00:00                   0   \n",
       "3           volkswagen           no  2016-03-17 00:00:00                   0   \n",
       "4                skoda           no  2016-03-31 00:00:00                   0   \n",
       "...                ...          ...                  ...                 ...   \n",
       "354364      mitsubishi          yes  2016-03-21 00:00:00                   0   \n",
       "354365  sonstige_autos          NaN  2016-03-14 00:00:00                   0   \n",
       "354366           smart           no  2016-03-05 00:00:00                   0   \n",
       "354367      volkswagen           no  2016-03-19 00:00:00                   0   \n",
       "354368      volkswagen          NaN  2016-03-20 00:00:00                   0   \n",
       "\n",
       "        postal_code            last_seen  \n",
       "0             70435  2016-04-07 03:16:57  \n",
       "1             66954  2016-04-07 01:46:50  \n",
       "2             90480  2016-04-05 12:47:46  \n",
       "3             91074  2016-03-17 17:40:17  \n",
       "4             60437  2016-04-06 10:17:21  \n",
       "...             ...                  ...  \n",
       "354364         2694  2016-03-21 10:42:49  \n",
       "354365        39576  2016-04-06 00:46:52  \n",
       "354366        26135  2016-03-11 18:17:12  \n",
       "354367        87439  2016-04-07 07:15:26  \n",
       "354368        40764  2016-03-24 12:45:21  \n",
       "\n",
       "[354369 rows x 16 columns]"
      ]
     },
     "execution_count": 5,
     "metadata": {},
     "output_type": "execute_result"
    }
   ],
   "source": [
    "df=df.rename(columns={\n",
    "    'DateCrawled':'date_crawled',\n",
    "    'Price':'price',\n",
    "    'VehicleType':'vehicle_type',\n",
    "    'RegistrationYear':'registration_year',\n",
    "    'Gearbox':'gearbox',\n",
    "    'Power':'power',\n",
    "    'Model':'model',\n",
    "    'Kilometer':'kilometer',\n",
    "    'RegistrationMonth':'registration_month',\n",
    "    'FuelType':'fuel_type',\n",
    "    'Brand':'brand',\n",
    "    'NotRepaired':'not_repaired',\n",
    "    'DateCreated':'date_created',\n",
    "    'NumberOfPictures':'number_of_pictures',\n",
    "    'PostalCode':'postal_code',\n",
    "    'LastSeen':'last_seen'\n",
    "    })\n",
    "\n",
    "df"
   ]
  },
  {
   "cell_type": "markdown",
   "metadata": {},
   "source": [
    " "
   ]
  },
  {
   "cell_type": "markdown",
   "metadata": {},
   "source": [
    "#### Посмотрим на колонку - кол-во фотографий"
   ]
  },
  {
   "cell_type": "code",
   "execution_count": 6,
   "metadata": {},
   "outputs": [
    {
     "data": {
      "image/png": "[encoded data removed]",
      "text/plain": [
       "<Figure size 432x288 with 1 Axes>"
      ]
     },
     "metadata": {
      "needs_background": "light"
     },
     "output_type": "display_data"
    }
   ],
   "source": [
    "df.number_of_pictures.hist(bins = 100);"
   ]
  },
  {
   "cell_type": "markdown",
   "metadata": {},
   "source": [
    "помоему там только нули..."
   ]
  },
  {
   "cell_type": "code",
   "execution_count": 7,
   "metadata": {},
   "outputs": [
    {
     "data": {
      "text/plain": [
       "array([0], dtype=int64)"
      ]
     },
     "execution_count": 7,
     "metadata": {},
     "output_type": "execute_result"
    }
   ],
   "source": [
    "#посмотрим на уникальные значения столбца number_of_pictures\n",
    "df['number_of_pictures'].unique()"
   ]
  },
  {
   "cell_type": "markdown",
   "metadata": {},
   "source": [
    "Так как кроме нулей в этом столбце значений нет, то он бесполезен и мы его удалим!"
   ]
  },
  {
   "cell_type": "code",
   "execution_count": 8,
   "metadata": {},
   "outputs": [],
   "source": [
    "df = df.drop(['number_of_pictures'], axis=1)"
   ]
  },
  {
   "cell_type": "markdown",
   "metadata": {},
   "source": [
    " "
   ]
  },
  {
   "cell_type": "markdown",
   "metadata": {},
   "source": [
    "Посмотрим на тип данных каждого из столбцов"
   ]
  },
  {
   "cell_type": "code",
   "execution_count": 9,
   "metadata": {},
   "outputs": [
    {
     "name": "stdout",
     "output_type": "stream",
     "text": [
      "<class 'pandas.core.frame.DataFrame'>\n",
      "RangeIndex: 354369 entries, 0 to 354368\n",
      "Data columns (total 15 columns):\n",
      " #   Column              Non-Null Count   Dtype \n",
      "---  ------              --------------   ----- \n",
      " 0   date_crawled        354369 non-null  object\n",
      " 1   price               354369 non-null  int64 \n",
      " 2   vehicle_type        316879 non-null  object\n",
      " 3   registration_year   354369 non-null  int64 \n",
      " 4   gearbox             334536 non-null  object\n",
      " 5   power               354369 non-null  int64 \n",
      " 6   model               334664 non-null  object\n",
      " 7   kilometer           354369 non-null  int64 \n",
      " 8   registration_month  354369 non-null  int64 \n",
      " 9   fuel_type           321474 non-null  object\n",
      " 10  brand               354369 non-null  object\n",
      " 11  not_repaired        283215 non-null  object\n",
      " 12  date_created        354369 non-null  object\n",
      " 13  postal_code         354369 non-null  int64 \n",
      " 14  last_seen           354369 non-null  object\n",
      "dtypes: int64(6), object(9)\n",
      "memory usage: 40.6+ MB\n"
     ]
    }
   ],
   "source": [
    "df.info()"
   ]
  },
  {
   "cell_type": "markdown",
   "metadata": {},
   "source": [
    " "
   ]
  },
  {
   "cell_type": "markdown",
   "metadata": {},
   "source": [
    "Посмотрим на пропуски данных"
   ]
  },
  {
   "cell_type": "code",
   "execution_count": 10,
   "metadata": {},
   "outputs": [
    {
     "data": {
      "text/plain": [
       "date_crawled              0\n",
       "price                     0\n",
       "vehicle_type          37490\n",
       "registration_year         0\n",
       "gearbox               19833\n",
       "power                     0\n",
       "model                 19705\n",
       "kilometer                 0\n",
       "registration_month        0\n",
       "fuel_type             32895\n",
       "brand                     0\n",
       "not_repaired          71154\n",
       "date_created              0\n",
       "postal_code               0\n",
       "last_seen                 0\n",
       "dtype: int64"
      ]
     },
     "execution_count": 10,
     "metadata": {},
     "output_type": "execute_result"
    }
   ],
   "source": [
    "df.isnull().sum()"
   ]
  },
  {
   "cell_type": "markdown",
   "metadata": {},
   "source": [
    "пропуски есть в 5 столбцах"
   ]
  },
  {
   "cell_type": "markdown",
   "metadata": {},
   "source": [
    " "
   ]
  },
  {
   "cell_type": "markdown",
   "metadata": {},
   "source": [
    "Посмотрим на уникальные значения содержащиеся в этих колонках с пропусками"
   ]
  },
  {
   "cell_type": "markdown",
   "metadata": {},
   "source": [
    "#### Столбец vehicle_type - тип автомобильного кузова"
   ]
  },
  {
   "cell_type": "code",
   "execution_count": 11,
   "metadata": {},
   "outputs": [
    {
     "data": {
      "text/plain": [
       "array([nan, 'coupe', 'suv', 'small', 'sedan', 'convertible', 'bus',\n",
       "       'wagon', 'other'], dtype=object)"
      ]
     },
     "execution_count": 11,
     "metadata": {},
     "output_type": "execute_result"
    }
   ],
   "source": [
    "df.vehicle_type.unique()"
   ]
  },
  {
   "cell_type": "code",
   "execution_count": 12,
   "metadata": {},
   "outputs": [
    {
     "data": {
      "image/png": "[encoded data removed]",
      "text/plain": [
       "<Figure size 432x288 with 1 Axes>"
      ]
     },
     "metadata": {},
     "output_type": "display_data"
    }
   ],
   "source": [
    "df[['vehicle_type']].value_counts().plot.pie(radius=2, autopct='%1.0f%%');"
   ]
  },
  {
   "cell_type": "markdown",
   "metadata": {},
   "source": [
    " "
   ]
  },
  {
   "cell_type": "markdown",
   "metadata": {},
   "source": [
    "#### Столбец gearbox -  тип коробки передач"
   ]
  },
  {
   "cell_type": "code",
   "execution_count": 13,
   "metadata": {},
   "outputs": [
    {
     "data": {
      "text/plain": [
       "array(['manual', 'auto', nan], dtype=object)"
      ]
     },
     "execution_count": 13,
     "metadata": {},
     "output_type": "execute_result"
    }
   ],
   "source": [
    "df.gearbox.unique()"
   ]
  },
  {
   "cell_type": "code",
   "execution_count": 14,
   "metadata": {},
   "outputs": [
    {
     "data": {
      "image/png": "[encoded data removed]",
      "text/plain": [
       "<Figure size 432x288 with 1 Axes>"
      ]
     },
     "metadata": {},
     "output_type": "display_data"
    }
   ],
   "source": [
    "df[['gearbox']].value_counts().plot.pie(radius=2, autopct='%1.0f%%');"
   ]
  },
  {
   "cell_type": "code",
   "execution_count": 15,
   "metadata": {},
   "outputs": [
    {
     "data": {
      "image/png": "[encoded data removed]",
      "text/plain": [
       "<Figure size 720x720 with 1 Axes>"
      ]
     },
     "metadata": {
      "needs_background": "light"
     },
     "output_type": "display_data"
    }
   ],
   "source": [
    "df.gearbox.hist(bins=100, figsize=(10,10));"
   ]
  },
  {
   "cell_type": "markdown",
   "metadata": {},
   "source": [
    " "
   ]
  },
  {
   "cell_type": "markdown",
   "metadata": {},
   "source": [
    "#### Столбец brand -  марка"
   ]
  },
  {
   "cell_type": "code",
   "execution_count": 16,
   "metadata": {},
   "outputs": [
    {
     "data": {
      "text/plain": [
       "array(['volkswagen', 'audi', 'jeep', 'skoda', 'bmw', 'peugeot', 'ford',\n",
       "       'mazda', 'nissan', 'renault', 'mercedes_benz', 'opel', 'seat',\n",
       "       'citroen', 'honda', 'fiat', 'mini', 'smart', 'hyundai',\n",
       "       'sonstige_autos', 'alfa_romeo', 'subaru', 'volvo', 'mitsubishi',\n",
       "       'kia', 'suzuki', 'lancia', 'toyota', 'chevrolet', 'dacia',\n",
       "       'daihatsu', 'trabant', 'saab', 'chrysler', 'jaguar', 'daewoo',\n",
       "       'porsche', 'rover', 'land_rover', 'lada'], dtype=object)"
      ]
     },
     "execution_count": 16,
     "metadata": {},
     "output_type": "execute_result"
    }
   ],
   "source": [
    "df.brand.unique()"
   ]
  },
  {
   "cell_type": "markdown",
   "metadata": {},
   "source": [
    " "
   ]
  },
  {
   "cell_type": "markdown",
   "metadata": {},
   "source": [
    "#### Столбец model -  модель"
   ]
  },
  {
   "cell_type": "code",
   "execution_count": 17,
   "metadata": {},
   "outputs": [
    {
     "data": {
      "text/plain": [
       "array(['golf', nan, 'grand', 'fabia', '3er', '2_reihe', 'other', 'c_max',\n",
       "       '3_reihe', 'passat', 'navara', 'ka', 'polo', 'twingo', 'a_klasse',\n",
       "       'scirocco', '5er', 'meriva', 'arosa', 'c4', 'civic', 'transporter',\n",
       "       'punto', 'e_klasse', 'clio', 'kadett', 'kangoo', 'corsa', 'one',\n",
       "       'fortwo', '1er', 'b_klasse', 'signum', 'astra', 'a8', 'jetta',\n",
       "       'fiesta', 'c_klasse', 'micra', 'vito', 'sprinter', '156', 'escort',\n",
       "       'forester', 'xc_reihe', 'scenic', 'a4', 'a1', 'insignia', 'combo',\n",
       "       'focus', 'tt', 'a6', 'jazz', 'omega', 'slk', '7er', '80', '147',\n",
       "       '100', 'z_reihe', 'sportage', 'sorento', 'v40', 'ibiza', 'mustang',\n",
       "       'eos', 'touran', 'getz', 'a3', 'almera', 'megane', 'lupo', 'r19',\n",
       "       'zafira', 'caddy', 'mondeo', 'cordoba', 'colt', 'impreza',\n",
       "       'vectra', 'berlingo', 'tiguan', 'i_reihe', 'espace', 'sharan',\n",
       "       '6_reihe', 'panda', 'up', 'seicento', 'ceed', '5_reihe', 'yeti',\n",
       "       'octavia', 'mii', 'rx_reihe', '6er', 'modus', 'fox', 'matiz',\n",
       "       'beetle', 'c1', 'rio', 'touareg', 'logan', 'spider', 'cuore',\n",
       "       's_max', 'a2', 'galaxy', 'c3', 'viano', 's_klasse', '1_reihe',\n",
       "       'avensis', 'roomster', 'sl', 'kaefer', 'santa', 'cooper', 'leon',\n",
       "       '4_reihe', 'a5', '500', 'laguna', 'ptcruiser', 'clk', 'primera',\n",
       "       'x_reihe', 'exeo', '159', 'transit', 'juke', 'qashqai', 'carisma',\n",
       "       'accord', 'corolla', 'lanos', 'phaeton', 'verso', 'swift', 'rav',\n",
       "       'picanto', 'boxster', 'kalos', 'superb', 'stilo', 'alhambra',\n",
       "       'mx_reihe', 'roadster', 'ypsilon', 'cayenne', 'galant', 'justy',\n",
       "       '90', 'sirion', 'crossfire', 'agila', 'duster', 'cr_reihe', 'v50',\n",
       "       'c_reihe', 'v_klasse', 'm_klasse', 'yaris', 'c5', 'aygo', 'cc',\n",
       "       'carnival', 'fusion', '911', 'bora', 'forfour', 'm_reihe', 'cl',\n",
       "       'tigra', '300c', 'spark', 'v70', 'kuga', 'x_type', 'ducato',\n",
       "       's_type', 'x_trail', 'toledo', 'altea', 'voyager', 'calibra',\n",
       "       'bravo', 'antara', 'tucson', 'citigo', 'jimny', 'wrangler',\n",
       "       'lybra', 'q7', 'lancer', 'captiva', 'c2', 'discovery',\n",
       "       'freelander', 'sandero', 'note', '900', 'cherokee', 'clubman',\n",
       "       'samara', 'defender', '601', 'cx_reihe', 'legacy', 'pajero',\n",
       "       'auris', 'niva', 's60', 'nubira', 'vivaro', 'g_klasse', 'lodgy',\n",
       "       '850', 'range_rover', 'q3', 'serie_2', 'glk', 'charade', 'croma',\n",
       "       'outlander', 'doblo', 'musa', 'move', '9000', 'v60', '145', 'aveo',\n",
       "       '200', 'b_max', 'range_rover_sport', 'terios', 'rangerover', 'q5',\n",
       "       'range_rover_evoque', 'materia', 'delta', 'gl', 'kalina', 'amarok',\n",
       "       'elefantino', 'i3', 'kappa', 'serie_3', 'serie_1'], dtype=object)"
      ]
     },
     "execution_count": 17,
     "metadata": {},
     "output_type": "execute_result"
    }
   ],
   "source": [
    "df.model.unique()"
   ]
  },
  {
   "cell_type": "markdown",
   "metadata": {},
   "source": [
    " "
   ]
  },
  {
   "cell_type": "markdown",
   "metadata": {},
   "source": [
    "#### Столбец fuel_type -  тип топлива"
   ]
  },
  {
   "cell_type": "code",
   "execution_count": 18,
   "metadata": {},
   "outputs": [
    {
     "data": {
      "text/plain": [
       "array(['petrol', 'gasoline', nan, 'lpg', 'other', 'hybrid', 'cng',\n",
       "       'electric'], dtype=object)"
      ]
     },
     "execution_count": 18,
     "metadata": {},
     "output_type": "execute_result"
    }
   ],
   "source": [
    "df.fuel_type.unique()"
   ]
  },
  {
   "cell_type": "code",
   "execution_count": 19,
   "metadata": {},
   "outputs": [
    {
     "data": {
      "text/plain": [
       "petrol      216352\n",
       "gasoline     98720\n",
       "lpg           5310\n",
       "cng            565\n",
       "hybrid         233\n",
       "other          204\n",
       "electric        90\n",
       "Name: fuel_type, dtype: int64"
      ]
     },
     "execution_count": 19,
     "metadata": {},
     "output_type": "execute_result"
    }
   ],
   "source": [
    "tab_fuel_type = df['fuel_type'].value_counts()\n",
    "tab_fuel_type"
   ]
  },
  {
   "cell_type": "code",
   "execution_count": 20,
   "metadata": {},
   "outputs": [
    {
     "data": {
      "image/png": "[encoded data removed]",
      "text/plain": [
       "<Figure size 432x288 with 1 Axes>"
      ]
     },
     "metadata": {
      "needs_background": "light"
     },
     "output_type": "display_data"
    }
   ],
   "source": [
    "tab_fuel_type.plot(kind='bar');"
   ]
  },
  {
   "cell_type": "markdown",
   "metadata": {},
   "source": [
    " "
   ]
  },
  {
   "cell_type": "markdown",
   "metadata": {},
   "source": [
    "#### Столбец not_repaired -  сведенья о ремонте"
   ]
  },
  {
   "cell_type": "code",
   "execution_count": 21,
   "metadata": {},
   "outputs": [
    {
     "data": {
      "text/plain": [
       "array([nan, 'yes', 'no'], dtype=object)"
      ]
     },
     "execution_count": 21,
     "metadata": {},
     "output_type": "execute_result"
    }
   ],
   "source": [
    "df.not_repaired.unique()"
   ]
  },
  {
   "cell_type": "code",
   "execution_count": 22,
   "metadata": {},
   "outputs": [
    {
     "data": {
      "image/png": "[encoded data removed]",
      "text/plain": [
       "<Figure size 432x288 with 1 Axes>"
      ]
     },
     "metadata": {},
     "output_type": "display_data"
    }
   ],
   "source": [
    "df[['not_repaired']].value_counts().plot.pie(radius=2, autopct='%1.0f%%');"
   ]
  },
  {
   "cell_type": "code",
   "execution_count": 23,
   "metadata": {},
   "outputs": [
    {
     "data": {
      "image/png": "[encoded data removed]",
      "text/plain": [
       "<Figure size 720x720 with 1 Axes>"
      ]
     },
     "metadata": {
      "needs_background": "light"
     },
     "output_type": "display_data"
    }
   ],
   "source": [
    "df.not_repaired.hist(bins=100, figsize=(10,10));"
   ]
  },
  {
   "cell_type": "markdown",
   "metadata": {},
   "source": [
    " "
   ]
  },
  {
   "cell_type": "markdown",
   "metadata": {},
   "source": [
    "#### Посмотрим на года регистрации авто"
   ]
  },
  {
   "cell_type": "code",
   "execution_count": 24,
   "metadata": {},
   "outputs": [
    {
     "data": {
      "text/plain": [
       "2000    24490\n",
       "1999    22728\n",
       "2005    22109\n",
       "2001    20124\n",
       "2006    19900\n",
       "        ...  \n",
       "3200        1\n",
       "1920        1\n",
       "1919        1\n",
       "1915        1\n",
       "8455        1\n",
       "Name: registration_year, Length: 151, dtype: int64"
      ]
     },
     "execution_count": 24,
     "metadata": {},
     "output_type": "execute_result"
    }
   ],
   "source": [
    "df.registration_year.sort_values().value_counts()"
   ]
  },
  {
   "cell_type": "markdown",
   "metadata": {},
   "source": [
    "Тут явные ошибки: 1253 год и 8455 год и тому подобное"
   ]
  },
  {
   "cell_type": "code",
   "execution_count": 25,
   "metadata": {},
   "outputs": [
    {
     "data": {
      "image/png": "[encoded data removed]",
      "text/plain": [
       "<Figure size 720x720 with 1 Axes>"
      ]
     },
     "metadata": {
      "needs_background": "light"
     },
     "output_type": "display_data"
    }
   ],
   "source": [
    "df.registration_year.hist(bins=100, figsize=(10,10));"
   ]
  },
  {
   "cell_type": "code",
   "execution_count": 26,
   "metadata": {},
   "outputs": [
    {
     "data": {
      "image/png": "[encoded data removed]",
      "text/plain": [
       "<Figure size 720x720 with 1 Axes>"
      ]
     },
     "metadata": {
      "needs_background": "light"
     },
     "output_type": "display_data"
    }
   ],
   "source": [
    "df.registration_year.hist(bins = 700, figsize=(10,10),range=(1900,2020));"
   ]
  },
  {
   "cell_type": "code",
   "execution_count": 27,
   "metadata": {},
   "outputs": [
    {
     "data": {
      "image/png": "[encoded data removed]",
      "text/plain": [
       "<Figure size 720x720 with 1 Axes>"
      ]
     },
     "metadata": {
      "needs_background": "light"
     },
     "output_type": "display_data"
    }
   ],
   "source": [
    "df.registration_year.hist(bins = 200, figsize=(10,10),range=(2010,2020));"
   ]
  },
  {
   "cell_type": "markdown",
   "metadata": {},
   "source": [
    "на авто с 2012 года по 2015 какой то спад, а потом резкий подъем"
   ]
  },
  {
   "cell_type": "markdown",
   "metadata": {},
   "source": [
    " "
   ]
  },
  {
   "cell_type": "code",
   "execution_count": 28,
   "metadata": {},
   "outputs": [
    {
     "data": {
      "text/html": [
       "<div>\n",
       "<style scoped>\n",
       "    .dataframe tbody tr th:only-of-type {\n",
       "        vertical-align: middle;\n",
       "    }\n",
       "\n",
       "    .dataframe tbody tr th {\n",
       "        vertical-align: top;\n",
       "    }\n",
       "\n",
       "    .dataframe thead th {\n",
       "        text-align: right;\n",
       "    }\n",
       "</style>\n",
       "<table border=\"1\" class=\"dataframe\">\n",
       "  <thead>\n",
       "    <tr style=\"text-align: right;\">\n",
       "      <th></th>\n",
       "      <th>date_crawled</th>\n",
       "      <th>price</th>\n",
       "      <th>vehicle_type</th>\n",
       "      <th>registration_year</th>\n",
       "      <th>gearbox</th>\n",
       "      <th>power</th>\n",
       "      <th>model</th>\n",
       "      <th>kilometer</th>\n",
       "      <th>registration_month</th>\n",
       "      <th>fuel_type</th>\n",
       "      <th>brand</th>\n",
       "      <th>not_repaired</th>\n",
       "      <th>date_created</th>\n",
       "      <th>postal_code</th>\n",
       "      <th>last_seen</th>\n",
       "    </tr>\n",
       "  </thead>\n",
       "  <tbody>\n",
       "    <tr>\n",
       "      <th>15</th>\n",
       "      <td>2016-03-11 21:39:15</td>\n",
       "      <td>450</td>\n",
       "      <td>small</td>\n",
       "      <td>1910</td>\n",
       "      <td>NaN</td>\n",
       "      <td>0</td>\n",
       "      <td>ka</td>\n",
       "      <td>5000</td>\n",
       "      <td>0</td>\n",
       "      <td>petrol</td>\n",
       "      <td>ford</td>\n",
       "      <td>NaN</td>\n",
       "      <td>2016-03-11 00:00:00</td>\n",
       "      <td>24148</td>\n",
       "      <td>2016-03-19 08:46:47</td>\n",
       "    </tr>\n",
       "    <tr>\n",
       "      <th>622</th>\n",
       "      <td>2016-03-16 16:55:09</td>\n",
       "      <td>0</td>\n",
       "      <td>NaN</td>\n",
       "      <td>1111</td>\n",
       "      <td>NaN</td>\n",
       "      <td>0</td>\n",
       "      <td>NaN</td>\n",
       "      <td>5000</td>\n",
       "      <td>0</td>\n",
       "      <td>NaN</td>\n",
       "      <td>opel</td>\n",
       "      <td>NaN</td>\n",
       "      <td>2016-03-16 00:00:00</td>\n",
       "      <td>44628</td>\n",
       "      <td>2016-03-20 16:44:37</td>\n",
       "    </tr>\n",
       "    <tr>\n",
       "      <th>6629</th>\n",
       "      <td>2016-04-02 13:47:16</td>\n",
       "      <td>0</td>\n",
       "      <td>small</td>\n",
       "      <td>1910</td>\n",
       "      <td>NaN</td>\n",
       "      <td>0</td>\n",
       "      <td>NaN</td>\n",
       "      <td>5000</td>\n",
       "      <td>1</td>\n",
       "      <td>other</td>\n",
       "      <td>sonstige_autos</td>\n",
       "      <td>NaN</td>\n",
       "      <td>2016-04-02 00:00:00</td>\n",
       "      <td>93105</td>\n",
       "      <td>2016-04-04 11:16:30</td>\n",
       "    </tr>\n",
       "    <tr>\n",
       "      <th>6977</th>\n",
       "      <td>2016-03-24 08:37:22</td>\n",
       "      <td>135</td>\n",
       "      <td>NaN</td>\n",
       "      <td>1910</td>\n",
       "      <td>NaN</td>\n",
       "      <td>0</td>\n",
       "      <td>NaN</td>\n",
       "      <td>5000</td>\n",
       "      <td>0</td>\n",
       "      <td>NaN</td>\n",
       "      <td>opel</td>\n",
       "      <td>NaN</td>\n",
       "      <td>2016-03-24 00:00:00</td>\n",
       "      <td>19374</td>\n",
       "      <td>2016-04-06 20:46:08</td>\n",
       "    </tr>\n",
       "    <tr>\n",
       "      <th>10183</th>\n",
       "      <td>2016-03-27 13:59:08</td>\n",
       "      <td>1250</td>\n",
       "      <td>NaN</td>\n",
       "      <td>1910</td>\n",
       "      <td>NaN</td>\n",
       "      <td>0</td>\n",
       "      <td>other</td>\n",
       "      <td>5000</td>\n",
       "      <td>0</td>\n",
       "      <td>NaN</td>\n",
       "      <td>audi</td>\n",
       "      <td>NaN</td>\n",
       "      <td>2016-03-27 00:00:00</td>\n",
       "      <td>18445</td>\n",
       "      <td>2016-04-07 10:45:31</td>\n",
       "    </tr>\n",
       "    <tr>\n",
       "      <th>...</th>\n",
       "      <td>...</td>\n",
       "      <td>...</td>\n",
       "      <td>...</td>\n",
       "      <td>...</td>\n",
       "      <td>...</td>\n",
       "      <td>...</td>\n",
       "      <td>...</td>\n",
       "      <td>...</td>\n",
       "      <td>...</td>\n",
       "      <td>...</td>\n",
       "      <td>...</td>\n",
       "      <td>...</td>\n",
       "      <td>...</td>\n",
       "      <td>...</td>\n",
       "      <td>...</td>\n",
       "    </tr>\n",
       "    <tr>\n",
       "      <th>341791</th>\n",
       "      <td>2016-03-28 17:37:30</td>\n",
       "      <td>1</td>\n",
       "      <td>NaN</td>\n",
       "      <td>3000</td>\n",
       "      <td>NaN</td>\n",
       "      <td>0</td>\n",
       "      <td>zafira</td>\n",
       "      <td>5000</td>\n",
       "      <td>0</td>\n",
       "      <td>NaN</td>\n",
       "      <td>opel</td>\n",
       "      <td>NaN</td>\n",
       "      <td>2016-03-28 00:00:00</td>\n",
       "      <td>26624</td>\n",
       "      <td>2016-04-02 22:17:49</td>\n",
       "    </tr>\n",
       "    <tr>\n",
       "      <th>343083</th>\n",
       "      <td>2016-04-01 08:51:08</td>\n",
       "      <td>1</td>\n",
       "      <td>other</td>\n",
       "      <td>1910</td>\n",
       "      <td>NaN</td>\n",
       "      <td>0</td>\n",
       "      <td>NaN</td>\n",
       "      <td>5000</td>\n",
       "      <td>1</td>\n",
       "      <td>other</td>\n",
       "      <td>volkswagen</td>\n",
       "      <td>NaN</td>\n",
       "      <td>2016-04-01 00:00:00</td>\n",
       "      <td>18273</td>\n",
       "      <td>2016-04-07 05:44:39</td>\n",
       "    </tr>\n",
       "    <tr>\n",
       "      <th>348830</th>\n",
       "      <td>2016-03-22 00:38:15</td>\n",
       "      <td>1</td>\n",
       "      <td>NaN</td>\n",
       "      <td>1000</td>\n",
       "      <td>NaN</td>\n",
       "      <td>1000</td>\n",
       "      <td>NaN</td>\n",
       "      <td>150000</td>\n",
       "      <td>0</td>\n",
       "      <td>NaN</td>\n",
       "      <td>sonstige_autos</td>\n",
       "      <td>NaN</td>\n",
       "      <td>2016-03-21 00:00:00</td>\n",
       "      <td>41472</td>\n",
       "      <td>2016-04-05 14:18:01</td>\n",
       "    </tr>\n",
       "    <tr>\n",
       "      <th>351682</th>\n",
       "      <td>2016-03-12 00:57:39</td>\n",
       "      <td>11500</td>\n",
       "      <td>NaN</td>\n",
       "      <td>1800</td>\n",
       "      <td>NaN</td>\n",
       "      <td>16</td>\n",
       "      <td>other</td>\n",
       "      <td>5000</td>\n",
       "      <td>6</td>\n",
       "      <td>petrol</td>\n",
       "      <td>fiat</td>\n",
       "      <td>NaN</td>\n",
       "      <td>2016-03-11 00:00:00</td>\n",
       "      <td>16515</td>\n",
       "      <td>2016-04-05 19:47:27</td>\n",
       "    </tr>\n",
       "    <tr>\n",
       "      <th>353961</th>\n",
       "      <td>2016-03-17 13:54:22</td>\n",
       "      <td>200</td>\n",
       "      <td>NaN</td>\n",
       "      <td>1910</td>\n",
       "      <td>NaN</td>\n",
       "      <td>0</td>\n",
       "      <td>NaN</td>\n",
       "      <td>5000</td>\n",
       "      <td>0</td>\n",
       "      <td>petrol</td>\n",
       "      <td>sonstige_autos</td>\n",
       "      <td>NaN</td>\n",
       "      <td>2016-03-17 00:00:00</td>\n",
       "      <td>42289</td>\n",
       "      <td>2016-03-31 22:46:47</td>\n",
       "    </tr>\n",
       "  </tbody>\n",
       "</table>\n",
       "<p>274 rows × 15 columns</p>\n",
       "</div>"
      ],
      "text/plain": [
       "               date_crawled  price vehicle_type  registration_year gearbox  \\\n",
       "15      2016-03-11 21:39:15    450        small               1910     NaN   \n",
       "622     2016-03-16 16:55:09      0          NaN               1111     NaN   \n",
       "6629    2016-04-02 13:47:16      0        small               1910     NaN   \n",
       "6977    2016-03-24 08:37:22    135          NaN               1910     NaN   \n",
       "10183   2016-03-27 13:59:08   1250          NaN               1910     NaN   \n",
       "...                     ...    ...          ...                ...     ...   \n",
       "341791  2016-03-28 17:37:30      1          NaN               3000     NaN   \n",
       "343083  2016-04-01 08:51:08      1        other               1910     NaN   \n",
       "348830  2016-03-22 00:38:15      1          NaN               1000     NaN   \n",
       "351682  2016-03-12 00:57:39  11500          NaN               1800     NaN   \n",
       "353961  2016-03-17 13:54:22    200          NaN               1910     NaN   \n",
       "\n",
       "        power   model  kilometer  registration_month fuel_type  \\\n",
       "15          0      ka       5000                   0    petrol   \n",
       "622         0     NaN       5000                   0       NaN   \n",
       "6629        0     NaN       5000                   1     other   \n",
       "6977        0     NaN       5000                   0       NaN   \n",
       "10183       0   other       5000                   0       NaN   \n",
       "...       ...     ...        ...                 ...       ...   \n",
       "341791      0  zafira       5000                   0       NaN   \n",
       "343083      0     NaN       5000                   1     other   \n",
       "348830   1000     NaN     150000                   0       NaN   \n",
       "351682     16   other       5000                   6    petrol   \n",
       "353961      0     NaN       5000                   0    petrol   \n",
       "\n",
       "                 brand not_repaired         date_created  postal_code  \\\n",
       "15                ford          NaN  2016-03-11 00:00:00        24148   \n",
       "622               opel          NaN  2016-03-16 00:00:00        44628   \n",
       "6629    sonstige_autos          NaN  2016-04-02 00:00:00        93105   \n",
       "6977              opel          NaN  2016-03-24 00:00:00        19374   \n",
       "10183             audi          NaN  2016-03-27 00:00:00        18445   \n",
       "...                ...          ...                  ...          ...   \n",
       "341791            opel          NaN  2016-03-28 00:00:00        26624   \n",
       "343083      volkswagen          NaN  2016-04-01 00:00:00        18273   \n",
       "348830  sonstige_autos          NaN  2016-03-21 00:00:00        41472   \n",
       "351682            fiat          NaN  2016-03-11 00:00:00        16515   \n",
       "353961  sonstige_autos          NaN  2016-03-17 00:00:00        42289   \n",
       "\n",
       "                  last_seen  \n",
       "15      2016-03-19 08:46:47  \n",
       "622     2016-03-20 16:44:37  \n",
       "6629    2016-04-04 11:16:30  \n",
       "6977    2016-04-06 20:46:08  \n",
       "10183   2016-04-07 10:45:31  \n",
       "...                     ...  \n",
       "341791  2016-04-02 22:17:49  \n",
       "343083  2016-04-07 05:44:39  \n",
       "348830  2016-04-05 14:18:01  \n",
       "351682  2016-04-05 19:47:27  \n",
       "353961  2016-03-31 22:46:47  \n",
       "\n",
       "[274 rows x 15 columns]"
      ]
     },
     "execution_count": 28,
     "metadata": {},
     "output_type": "execute_result"
    }
   ],
   "source": [
    "df[(df['registration_year'] < 1920) | (df['registration_year'] > 2021)]"
   ]
  },
  {
   "cell_type": "markdown",
   "metadata": {},
   "source": [
    "Машины с ошибкой в RegistrationYear. Считаем что авто у нас в промежутке с 1920 - 2021"
   ]
  },
  {
   "cell_type": "markdown",
   "metadata": {},
   "source": [
    " "
   ]
  },
  {
   "cell_type": "markdown",
   "metadata": {},
   "source": [
    " "
   ]
  },
  {
   "cell_type": "markdown",
   "metadata": {},
   "source": [
    " "
   ]
  },
  {
   "cell_type": "markdown",
   "metadata": {},
   "source": [
    "### Очистка от выбросов"
   ]
  },
  {
   "cell_type": "markdown",
   "metadata": {},
   "source": [
    "#### колонка - год регистрации"
   ]
  },
  {
   "cell_type": "code",
   "execution_count": 29,
   "metadata": {},
   "outputs": [
    {
     "data": {
      "text/plain": [
       "(354369, 15)"
      ]
     },
     "execution_count": 29,
     "metadata": {},
     "output_type": "execute_result"
    }
   ],
   "source": [
    "df.shape"
   ]
  },
  {
   "cell_type": "code",
   "execution_count": 30,
   "metadata": {},
   "outputs": [
    {
     "data": {
      "text/plain": [
       "(339670, 15)"
      ]
     },
     "execution_count": 30,
     "metadata": {},
     "output_type": "execute_result"
    }
   ],
   "source": [
    "df = df[(df['registration_year'] >= 1920) & (df['registration_year'] <= 2016)]\n",
    "df.shape"
   ]
  },
  {
   "cell_type": "markdown",
   "metadata": {},
   "source": [
    "выбросы убрали"
   ]
  },
  {
   "cell_type": "markdown",
   "metadata": {},
   "source": [
    " "
   ]
  },
  {
   "cell_type": "markdown",
   "metadata": {},
   "source": [
    " "
   ]
  },
  {
   "cell_type": "code",
   "execution_count": 31,
   "metadata": {},
   "outputs": [
    {
     "data": {
      "text/html": [
       "<div>\n",
       "<style scoped>\n",
       "    .dataframe tbody tr th:only-of-type {\n",
       "        vertical-align: middle;\n",
       "    }\n",
       "\n",
       "    .dataframe tbody tr th {\n",
       "        vertical-align: top;\n",
       "    }\n",
       "\n",
       "    .dataframe thead th {\n",
       "        text-align: right;\n",
       "    }\n",
       "</style>\n",
       "<table border=\"1\" class=\"dataframe\">\n",
       "  <thead>\n",
       "    <tr style=\"text-align: right;\">\n",
       "      <th></th>\n",
       "      <th>date_crawled</th>\n",
       "      <th>price</th>\n",
       "      <th>vehicle_type</th>\n",
       "      <th>registration_year</th>\n",
       "      <th>gearbox</th>\n",
       "      <th>power</th>\n",
       "      <th>model</th>\n",
       "      <th>kilometer</th>\n",
       "      <th>registration_month</th>\n",
       "      <th>fuel_type</th>\n",
       "      <th>brand</th>\n",
       "      <th>not_repaired</th>\n",
       "      <th>date_created</th>\n",
       "      <th>postal_code</th>\n",
       "      <th>last_seen</th>\n",
       "    </tr>\n",
       "  </thead>\n",
       "  <tbody>\n",
       "    <tr>\n",
       "      <th>2273</th>\n",
       "      <td>2016-03-15 21:44:32</td>\n",
       "      <td>1800</td>\n",
       "      <td>convertible</td>\n",
       "      <td>1925</td>\n",
       "      <td>NaN</td>\n",
       "      <td>0</td>\n",
       "      <td>NaN</td>\n",
       "      <td>5000</td>\n",
       "      <td>1</td>\n",
       "      <td>NaN</td>\n",
       "      <td>sonstige_autos</td>\n",
       "      <td>no</td>\n",
       "      <td>2016-03-15 00:00:00</td>\n",
       "      <td>79288</td>\n",
       "      <td>2016-04-07 05:15:34</td>\n",
       "    </tr>\n",
       "    <tr>\n",
       "      <th>16635</th>\n",
       "      <td>2016-03-09 10:54:11</td>\n",
       "      <td>9500</td>\n",
       "      <td>suv</td>\n",
       "      <td>1941</td>\n",
       "      <td>manual</td>\n",
       "      <td>57</td>\n",
       "      <td>NaN</td>\n",
       "      <td>40000</td>\n",
       "      <td>1</td>\n",
       "      <td>petrol</td>\n",
       "      <td>sonstige_autos</td>\n",
       "      <td>no</td>\n",
       "      <td>2016-03-09 00:00:00</td>\n",
       "      <td>59557</td>\n",
       "      <td>2016-03-12 21:16:29</td>\n",
       "    </tr>\n",
       "    <tr>\n",
       "      <th>22621</th>\n",
       "      <td>2016-03-23 11:37:57</td>\n",
       "      <td>14000</td>\n",
       "      <td>sedan</td>\n",
       "      <td>1929</td>\n",
       "      <td>manual</td>\n",
       "      <td>30</td>\n",
       "      <td>NaN</td>\n",
       "      <td>5000</td>\n",
       "      <td>7</td>\n",
       "      <td>petrol</td>\n",
       "      <td>sonstige_autos</td>\n",
       "      <td>NaN</td>\n",
       "      <td>2016-03-23 00:00:00</td>\n",
       "      <td>90475</td>\n",
       "      <td>2016-04-05 11:18:18</td>\n",
       "    </tr>\n",
       "    <tr>\n",
       "      <th>26216</th>\n",
       "      <td>2016-03-16 21:43:10</td>\n",
       "      <td>15000</td>\n",
       "      <td>small</td>\n",
       "      <td>1940</td>\n",
       "      <td>manual</td>\n",
       "      <td>24</td>\n",
       "      <td>NaN</td>\n",
       "      <td>5000</td>\n",
       "      <td>7</td>\n",
       "      <td>petrol</td>\n",
       "      <td>sonstige_autos</td>\n",
       "      <td>no</td>\n",
       "      <td>2016-03-16 00:00:00</td>\n",
       "      <td>4924</td>\n",
       "      <td>2016-04-07 08:46:27</td>\n",
       "    </tr>\n",
       "    <tr>\n",
       "      <th>29933</th>\n",
       "      <td>2016-03-09 13:47:22</td>\n",
       "      <td>12900</td>\n",
       "      <td>sedan</td>\n",
       "      <td>1940</td>\n",
       "      <td>manual</td>\n",
       "      <td>0</td>\n",
       "      <td>NaN</td>\n",
       "      <td>150000</td>\n",
       "      <td>4</td>\n",
       "      <td>petrol</td>\n",
       "      <td>ford</td>\n",
       "      <td>NaN</td>\n",
       "      <td>2016-03-09 00:00:00</td>\n",
       "      <td>45657</td>\n",
       "      <td>2016-03-30 06:52:51</td>\n",
       "    </tr>\n",
       "    <tr>\n",
       "      <th>33638</th>\n",
       "      <td>2016-03-16 09:47:50</td>\n",
       "      <td>5400</td>\n",
       "      <td>small</td>\n",
       "      <td>1937</td>\n",
       "      <td>manual</td>\n",
       "      <td>0</td>\n",
       "      <td>other</td>\n",
       "      <td>20000</td>\n",
       "      <td>3</td>\n",
       "      <td>petrol</td>\n",
       "      <td>opel</td>\n",
       "      <td>no</td>\n",
       "      <td>2016-03-16 00:00:00</td>\n",
       "      <td>7907</td>\n",
       "      <td>2016-03-17 07:47:51</td>\n",
       "    </tr>\n",
       "    <tr>\n",
       "      <th>34055</th>\n",
       "      <td>2016-03-25 00:55:47</td>\n",
       "      <td>2900</td>\n",
       "      <td>small</td>\n",
       "      <td>1937</td>\n",
       "      <td>manual</td>\n",
       "      <td>34</td>\n",
       "      <td>other</td>\n",
       "      <td>40000</td>\n",
       "      <td>7</td>\n",
       "      <td>petrol</td>\n",
       "      <td>ford</td>\n",
       "      <td>yes</td>\n",
       "      <td>2016-03-25 00:00:00</td>\n",
       "      <td>33378</td>\n",
       "      <td>2016-04-02 07:16:41</td>\n",
       "    </tr>\n",
       "    <tr>\n",
       "      <th>37953</th>\n",
       "      <td>2016-03-07 22:51:16</td>\n",
       "      <td>9500</td>\n",
       "      <td>other</td>\n",
       "      <td>1937</td>\n",
       "      <td>NaN</td>\n",
       "      <td>0</td>\n",
       "      <td>other</td>\n",
       "      <td>20000</td>\n",
       "      <td>4</td>\n",
       "      <td>NaN</td>\n",
       "      <td>ford</td>\n",
       "      <td>NaN</td>\n",
       "      <td>2016-03-07 00:00:00</td>\n",
       "      <td>48599</td>\n",
       "      <td>2016-04-06 22:15:45</td>\n",
       "    </tr>\n",
       "    <tr>\n",
       "      <th>54749</th>\n",
       "      <td>2016-03-09 22:37:45</td>\n",
       "      <td>0</td>\n",
       "      <td>small</td>\n",
       "      <td>1933</td>\n",
       "      <td>NaN</td>\n",
       "      <td>0</td>\n",
       "      <td>NaN</td>\n",
       "      <td>5000</td>\n",
       "      <td>0</td>\n",
       "      <td>petrol</td>\n",
       "      <td>fiat</td>\n",
       "      <td>NaN</td>\n",
       "      <td>2016-03-09 00:00:00</td>\n",
       "      <td>53919</td>\n",
       "      <td>2016-03-11 10:44:11</td>\n",
       "    </tr>\n",
       "    <tr>\n",
       "      <th>68185</th>\n",
       "      <td>2016-03-25 14:48:15</td>\n",
       "      <td>19900</td>\n",
       "      <td>convertible</td>\n",
       "      <td>1932</td>\n",
       "      <td>manual</td>\n",
       "      <td>18</td>\n",
       "      <td>other</td>\n",
       "      <td>5000</td>\n",
       "      <td>2</td>\n",
       "      <td>petrol</td>\n",
       "      <td>bmw</td>\n",
       "      <td>no</td>\n",
       "      <td>2016-03-25 00:00:00</td>\n",
       "      <td>99735</td>\n",
       "      <td>2016-04-06 18:15:26</td>\n",
       "    </tr>\n",
       "    <tr>\n",
       "      <th>76529</th>\n",
       "      <td>2016-03-30 22:42:50</td>\n",
       "      <td>4800</td>\n",
       "      <td>sedan</td>\n",
       "      <td>1937</td>\n",
       "      <td>manual</td>\n",
       "      <td>38</td>\n",
       "      <td>other</td>\n",
       "      <td>5000</td>\n",
       "      <td>0</td>\n",
       "      <td>petrol</td>\n",
       "      <td>mercedes_benz</td>\n",
       "      <td>NaN</td>\n",
       "      <td>2016-03-30 00:00:00</td>\n",
       "      <td>23936</td>\n",
       "      <td>2016-03-30 22:42:50</td>\n",
       "    </tr>\n",
       "    <tr>\n",
       "      <th>78477</th>\n",
       "      <td>2016-03-25 22:54:31</td>\n",
       "      <td>8990</td>\n",
       "      <td>sedan</td>\n",
       "      <td>1937</td>\n",
       "      <td>NaN</td>\n",
       "      <td>0</td>\n",
       "      <td>NaN</td>\n",
       "      <td>150000</td>\n",
       "      <td>7</td>\n",
       "      <td>petrol</td>\n",
       "      <td>sonstige_autos</td>\n",
       "      <td>NaN</td>\n",
       "      <td>2016-03-25 00:00:00</td>\n",
       "      <td>3042</td>\n",
       "      <td>2016-04-05 15:47:14</td>\n",
       "    </tr>\n",
       "    <tr>\n",
       "      <th>97923</th>\n",
       "      <td>2016-03-22 17:38:09</td>\n",
       "      <td>0</td>\n",
       "      <td>other</td>\n",
       "      <td>1935</td>\n",
       "      <td>manual</td>\n",
       "      <td>100</td>\n",
       "      <td>other</td>\n",
       "      <td>10000</td>\n",
       "      <td>7</td>\n",
       "      <td>petrol</td>\n",
       "      <td>ford</td>\n",
       "      <td>NaN</td>\n",
       "      <td>2016-03-22 00:00:00</td>\n",
       "      <td>88709</td>\n",
       "      <td>2016-04-06 08:17:04</td>\n",
       "    </tr>\n",
       "    <tr>\n",
       "      <th>104836</th>\n",
       "      <td>2016-03-28 17:48:34</td>\n",
       "      <td>4500</td>\n",
       "      <td>sedan</td>\n",
       "      <td>1935</td>\n",
       "      <td>manual</td>\n",
       "      <td>25</td>\n",
       "      <td>NaN</td>\n",
       "      <td>5000</td>\n",
       "      <td>0</td>\n",
       "      <td>petrol</td>\n",
       "      <td>sonstige_autos</td>\n",
       "      <td>no</td>\n",
       "      <td>2016-03-28 00:00:00</td>\n",
       "      <td>22850</td>\n",
       "      <td>2016-04-06 23:45:42</td>\n",
       "    </tr>\n",
       "    <tr>\n",
       "      <th>106886</th>\n",
       "      <td>2016-03-21 20:39:50</td>\n",
       "      <td>17200</td>\n",
       "      <td>small</td>\n",
       "      <td>1933</td>\n",
       "      <td>NaN</td>\n",
       "      <td>0</td>\n",
       "      <td>other</td>\n",
       "      <td>80000</td>\n",
       "      <td>7</td>\n",
       "      <td>NaN</td>\n",
       "      <td>ford</td>\n",
       "      <td>no</td>\n",
       "      <td>2016-03-21 00:00:00</td>\n",
       "      <td>35469</td>\n",
       "      <td>2016-04-06 23:45:43</td>\n",
       "    </tr>\n",
       "    <tr>\n",
       "      <th>108326</th>\n",
       "      <td>2016-03-27 20:45:44</td>\n",
       "      <td>14000</td>\n",
       "      <td>sedan</td>\n",
       "      <td>1936</td>\n",
       "      <td>NaN</td>\n",
       "      <td>0</td>\n",
       "      <td>500</td>\n",
       "      <td>5000</td>\n",
       "      <td>1</td>\n",
       "      <td>NaN</td>\n",
       "      <td>fiat</td>\n",
       "      <td>no</td>\n",
       "      <td>2016-03-27 00:00:00</td>\n",
       "      <td>90518</td>\n",
       "      <td>2016-04-05 19:17:03</td>\n",
       "    </tr>\n",
       "    <tr>\n",
       "      <th>113259</th>\n",
       "      <td>2016-03-27 14:58:15</td>\n",
       "      <td>8000</td>\n",
       "      <td>sedan</td>\n",
       "      <td>1937</td>\n",
       "      <td>manual</td>\n",
       "      <td>0</td>\n",
       "      <td>NaN</td>\n",
       "      <td>50000</td>\n",
       "      <td>5</td>\n",
       "      <td>petrol</td>\n",
       "      <td>sonstige_autos</td>\n",
       "      <td>no</td>\n",
       "      <td>2016-03-27 00:00:00</td>\n",
       "      <td>23769</td>\n",
       "      <td>2016-04-07 12:18:03</td>\n",
       "    </tr>\n",
       "    <tr>\n",
       "      <th>117371</th>\n",
       "      <td>2016-03-14 14:00:30</td>\n",
       "      <td>8750</td>\n",
       "      <td>convertible</td>\n",
       "      <td>1923</td>\n",
       "      <td>manual</td>\n",
       "      <td>11</td>\n",
       "      <td>c3</td>\n",
       "      <td>5000</td>\n",
       "      <td>0</td>\n",
       "      <td>petrol</td>\n",
       "      <td>citroen</td>\n",
       "      <td>no</td>\n",
       "      <td>2016-03-14 00:00:00</td>\n",
       "      <td>27299</td>\n",
       "      <td>2016-04-05 16:44:28</td>\n",
       "    </tr>\n",
       "    <tr>\n",
       "      <th>122879</th>\n",
       "      <td>2016-03-08 03:58:35</td>\n",
       "      <td>8000</td>\n",
       "      <td>other</td>\n",
       "      <td>1930</td>\n",
       "      <td>manual</td>\n",
       "      <td>23</td>\n",
       "      <td>other</td>\n",
       "      <td>150000</td>\n",
       "      <td>0</td>\n",
       "      <td>petrol</td>\n",
       "      <td>peugeot</td>\n",
       "      <td>NaN</td>\n",
       "      <td>2016-03-08 00:00:00</td>\n",
       "      <td>74523</td>\n",
       "      <td>2016-03-29 09:45:15</td>\n",
       "    </tr>\n",
       "    <tr>\n",
       "      <th>131019</th>\n",
       "      <td>2016-04-02 23:54:49</td>\n",
       "      <td>16000</td>\n",
       "      <td>sedan</td>\n",
       "      <td>1929</td>\n",
       "      <td>NaN</td>\n",
       "      <td>0</td>\n",
       "      <td>NaN</td>\n",
       "      <td>60000</td>\n",
       "      <td>2</td>\n",
       "      <td>petrol</td>\n",
       "      <td>sonstige_autos</td>\n",
       "      <td>no</td>\n",
       "      <td>2016-04-02 00:00:00</td>\n",
       "      <td>21435</td>\n",
       "      <td>2016-04-07 07:16:24</td>\n",
       "    </tr>\n",
       "    <tr>\n",
       "      <th>136797</th>\n",
       "      <td>2016-04-03 11:37:34</td>\n",
       "      <td>0</td>\n",
       "      <td>other</td>\n",
       "      <td>1937</td>\n",
       "      <td>manual</td>\n",
       "      <td>18</td>\n",
       "      <td>NaN</td>\n",
       "      <td>100000</td>\n",
       "      <td>1</td>\n",
       "      <td>petrol</td>\n",
       "      <td>sonstige_autos</td>\n",
       "      <td>NaN</td>\n",
       "      <td>2016-04-03 00:00:00</td>\n",
       "      <td>46397</td>\n",
       "      <td>2016-04-07 12:44:42</td>\n",
       "    </tr>\n",
       "    <tr>\n",
       "      <th>137324</th>\n",
       "      <td>2016-03-09 16:51:17</td>\n",
       "      <td>11500</td>\n",
       "      <td>convertible</td>\n",
       "      <td>1929</td>\n",
       "      <td>manual</td>\n",
       "      <td>15</td>\n",
       "      <td>other</td>\n",
       "      <td>5000</td>\n",
       "      <td>1</td>\n",
       "      <td>NaN</td>\n",
       "      <td>bmw</td>\n",
       "      <td>yes</td>\n",
       "      <td>2016-03-09 00:00:00</td>\n",
       "      <td>70569</td>\n",
       "      <td>2016-04-07 06:17:11</td>\n",
       "    </tr>\n",
       "    <tr>\n",
       "      <th>143747</th>\n",
       "      <td>2016-03-14 22:56:36</td>\n",
       "      <td>0</td>\n",
       "      <td>wagon</td>\n",
       "      <td>1930</td>\n",
       "      <td>manual</td>\n",
       "      <td>99</td>\n",
       "      <td>spark</td>\n",
       "      <td>20000</td>\n",
       "      <td>6</td>\n",
       "      <td>hybrid</td>\n",
       "      <td>chevrolet</td>\n",
       "      <td>no</td>\n",
       "      <td>2016-03-14 00:00:00</td>\n",
       "      <td>6842</td>\n",
       "      <td>2016-03-17 20:15:29</td>\n",
       "    </tr>\n",
       "    <tr>\n",
       "      <th>145609</th>\n",
       "      <td>2016-03-06 14:39:02</td>\n",
       "      <td>1</td>\n",
       "      <td>other</td>\n",
       "      <td>1934</td>\n",
       "      <td>auto</td>\n",
       "      <td>0</td>\n",
       "      <td>other</td>\n",
       "      <td>5000</td>\n",
       "      <td>7</td>\n",
       "      <td>petrol</td>\n",
       "      <td>citroen</td>\n",
       "      <td>NaN</td>\n",
       "      <td>2016-03-06 00:00:00</td>\n",
       "      <td>39343</td>\n",
       "      <td>2016-04-02 13:15:51</td>\n",
       "    </tr>\n",
       "    <tr>\n",
       "      <th>146207</th>\n",
       "      <td>2016-04-01 19:46:02</td>\n",
       "      <td>12999</td>\n",
       "      <td>small</td>\n",
       "      <td>1938</td>\n",
       "      <td>manual</td>\n",
       "      <td>40</td>\n",
       "      <td>2_reihe</td>\n",
       "      <td>70000</td>\n",
       "      <td>1</td>\n",
       "      <td>petrol</td>\n",
       "      <td>peugeot</td>\n",
       "      <td>no</td>\n",
       "      <td>2016-04-01 00:00:00</td>\n",
       "      <td>54673</td>\n",
       "      <td>2016-04-05 15:47:26</td>\n",
       "    </tr>\n",
       "    <tr>\n",
       "      <th>149465</th>\n",
       "      <td>2016-03-28 11:51:54</td>\n",
       "      <td>10000</td>\n",
       "      <td>sedan</td>\n",
       "      <td>1938</td>\n",
       "      <td>manual</td>\n",
       "      <td>24</td>\n",
       "      <td>NaN</td>\n",
       "      <td>30000</td>\n",
       "      <td>7</td>\n",
       "      <td>petrol</td>\n",
       "      <td>sonstige_autos</td>\n",
       "      <td>yes</td>\n",
       "      <td>2016-03-28 00:00:00</td>\n",
       "      <td>91795</td>\n",
       "      <td>2016-04-06 14:17:27</td>\n",
       "    </tr>\n",
       "    <tr>\n",
       "      <th>157965</th>\n",
       "      <td>2016-03-15 14:57:07</td>\n",
       "      <td>3350</td>\n",
       "      <td>other</td>\n",
       "      <td>1934</td>\n",
       "      <td>manual</td>\n",
       "      <td>0</td>\n",
       "      <td>other</td>\n",
       "      <td>5000</td>\n",
       "      <td>0</td>\n",
       "      <td>petrol</td>\n",
       "      <td>opel</td>\n",
       "      <td>yes</td>\n",
       "      <td>2016-03-15 00:00:00</td>\n",
       "      <td>49828</td>\n",
       "      <td>2016-04-06 06:17:51</td>\n",
       "    </tr>\n",
       "    <tr>\n",
       "      <th>165188</th>\n",
       "      <td>2016-04-05 15:06:17</td>\n",
       "      <td>16000</td>\n",
       "      <td>other</td>\n",
       "      <td>1935</td>\n",
       "      <td>manual</td>\n",
       "      <td>23</td>\n",
       "      <td>other</td>\n",
       "      <td>30000</td>\n",
       "      <td>1</td>\n",
       "      <td>petrol</td>\n",
       "      <td>opel</td>\n",
       "      <td>NaN</td>\n",
       "      <td>2016-04-05 00:00:00</td>\n",
       "      <td>65195</td>\n",
       "      <td>2016-04-05 15:06:17</td>\n",
       "    </tr>\n",
       "    <tr>\n",
       "      <th>174278</th>\n",
       "      <td>2016-03-28 16:55:31</td>\n",
       "      <td>20000</td>\n",
       "      <td>sedan</td>\n",
       "      <td>1936</td>\n",
       "      <td>manual</td>\n",
       "      <td>23</td>\n",
       "      <td>other</td>\n",
       "      <td>30000</td>\n",
       "      <td>0</td>\n",
       "      <td>petrol</td>\n",
       "      <td>opel</td>\n",
       "      <td>NaN</td>\n",
       "      <td>2016-03-28 00:00:00</td>\n",
       "      <td>66879</td>\n",
       "      <td>2016-04-06 22:17:51</td>\n",
       "    </tr>\n",
       "    <tr>\n",
       "      <th>179219</th>\n",
       "      <td>2016-03-15 23:54:31</td>\n",
       "      <td>5200</td>\n",
       "      <td>sedan</td>\n",
       "      <td>1928</td>\n",
       "      <td>NaN</td>\n",
       "      <td>0</td>\n",
       "      <td>other</td>\n",
       "      <td>5000</td>\n",
       "      <td>0</td>\n",
       "      <td>NaN</td>\n",
       "      <td>citroen</td>\n",
       "      <td>NaN</td>\n",
       "      <td>2016-03-15 00:00:00</td>\n",
       "      <td>79299</td>\n",
       "      <td>2016-04-06 00:46:07</td>\n",
       "    </tr>\n",
       "    <tr>\n",
       "      <th>188344</th>\n",
       "      <td>2016-03-15 10:50:59</td>\n",
       "      <td>10700</td>\n",
       "      <td>suv</td>\n",
       "      <td>1941</td>\n",
       "      <td>NaN</td>\n",
       "      <td>0</td>\n",
       "      <td>other</td>\n",
       "      <td>150000</td>\n",
       "      <td>0</td>\n",
       "      <td>petrol</td>\n",
       "      <td>jeep</td>\n",
       "      <td>NaN</td>\n",
       "      <td>2016-03-15 00:00:00</td>\n",
       "      <td>70806</td>\n",
       "      <td>2016-04-07 07:17:15</td>\n",
       "    </tr>\n",
       "    <tr>\n",
       "      <th>196564</th>\n",
       "      <td>2016-03-19 04:57:17</td>\n",
       "      <td>1</td>\n",
       "      <td>other</td>\n",
       "      <td>1929</td>\n",
       "      <td>NaN</td>\n",
       "      <td>0</td>\n",
       "      <td>other</td>\n",
       "      <td>70000</td>\n",
       "      <td>2</td>\n",
       "      <td>petrol</td>\n",
       "      <td>mercedes_benz</td>\n",
       "      <td>NaN</td>\n",
       "      <td>2016-03-19 00:00:00</td>\n",
       "      <td>59077</td>\n",
       "      <td>2016-04-06 04:17:30</td>\n",
       "    </tr>\n",
       "    <tr>\n",
       "      <th>218297</th>\n",
       "      <td>2016-03-18 21:48:21</td>\n",
       "      <td>6000</td>\n",
       "      <td>convertible</td>\n",
       "      <td>1932</td>\n",
       "      <td>NaN</td>\n",
       "      <td>0</td>\n",
       "      <td>other</td>\n",
       "      <td>30000</td>\n",
       "      <td>8</td>\n",
       "      <td>NaN</td>\n",
       "      <td>ford</td>\n",
       "      <td>no</td>\n",
       "      <td>2016-03-18 00:00:00</td>\n",
       "      <td>70378</td>\n",
       "      <td>2016-03-18 21:48:21</td>\n",
       "    </tr>\n",
       "    <tr>\n",
       "      <th>229913</th>\n",
       "      <td>2016-03-31 10:58:39</td>\n",
       "      <td>7500</td>\n",
       "      <td>small</td>\n",
       "      <td>1938</td>\n",
       "      <td>manual</td>\n",
       "      <td>18</td>\n",
       "      <td>NaN</td>\n",
       "      <td>5000</td>\n",
       "      <td>3</td>\n",
       "      <td>NaN</td>\n",
       "      <td>sonstige_autos</td>\n",
       "      <td>yes</td>\n",
       "      <td>2016-03-31 00:00:00</td>\n",
       "      <td>53937</td>\n",
       "      <td>2016-04-04 03:17:44</td>\n",
       "    </tr>\n",
       "    <tr>\n",
       "      <th>230095</th>\n",
       "      <td>2016-03-09 16:52:31</td>\n",
       "      <td>11500</td>\n",
       "      <td>convertible</td>\n",
       "      <td>1929</td>\n",
       "      <td>manual</td>\n",
       "      <td>15</td>\n",
       "      <td>other</td>\n",
       "      <td>5000</td>\n",
       "      <td>1</td>\n",
       "      <td>petrol</td>\n",
       "      <td>bmw</td>\n",
       "      <td>yes</td>\n",
       "      <td>2016-03-09 00:00:00</td>\n",
       "      <td>70569</td>\n",
       "      <td>2016-04-07 06:44:38</td>\n",
       "    </tr>\n",
       "    <tr>\n",
       "      <th>235505</th>\n",
       "      <td>2016-03-17 07:37:03</td>\n",
       "      <td>9999</td>\n",
       "      <td>convertible</td>\n",
       "      <td>1928</td>\n",
       "      <td>manual</td>\n",
       "      <td>40</td>\n",
       "      <td>other</td>\n",
       "      <td>150000</td>\n",
       "      <td>6</td>\n",
       "      <td>petrol</td>\n",
       "      <td>ford</td>\n",
       "      <td>NaN</td>\n",
       "      <td>2016-03-17 00:00:00</td>\n",
       "      <td>27419</td>\n",
       "      <td>2016-04-06 05:16:30</td>\n",
       "    </tr>\n",
       "    <tr>\n",
       "      <th>237933</th>\n",
       "      <td>2016-03-14 16:44:27</td>\n",
       "      <td>11000</td>\n",
       "      <td>sedan</td>\n",
       "      <td>1929</td>\n",
       "      <td>NaN</td>\n",
       "      <td>0</td>\n",
       "      <td>NaN</td>\n",
       "      <td>60000</td>\n",
       "      <td>1</td>\n",
       "      <td>petrol</td>\n",
       "      <td>sonstige_autos</td>\n",
       "      <td>no</td>\n",
       "      <td>2016-03-14 00:00:00</td>\n",
       "      <td>9669</td>\n",
       "      <td>2016-04-05 20:46:04</td>\n",
       "    </tr>\n",
       "    <tr>\n",
       "      <th>244423</th>\n",
       "      <td>2016-03-19 22:51:25</td>\n",
       "      <td>3000</td>\n",
       "      <td>other</td>\n",
       "      <td>1934</td>\n",
       "      <td>NaN</td>\n",
       "      <td>0</td>\n",
       "      <td>NaN</td>\n",
       "      <td>90000</td>\n",
       "      <td>1</td>\n",
       "      <td>petrol</td>\n",
       "      <td>sonstige_autos</td>\n",
       "      <td>no</td>\n",
       "      <td>2016-03-19 00:00:00</td>\n",
       "      <td>90489</td>\n",
       "      <td>2016-03-19 22:51:25</td>\n",
       "    </tr>\n",
       "    <tr>\n",
       "      <th>247198</th>\n",
       "      <td>2016-03-08 14:49:15</td>\n",
       "      <td>5500</td>\n",
       "      <td>sedan</td>\n",
       "      <td>1937</td>\n",
       "      <td>manual</td>\n",
       "      <td>0</td>\n",
       "      <td>other</td>\n",
       "      <td>30000</td>\n",
       "      <td>3</td>\n",
       "      <td>petrol</td>\n",
       "      <td>opel</td>\n",
       "      <td>no</td>\n",
       "      <td>2016-03-08 00:00:00</td>\n",
       "      <td>7907</td>\n",
       "      <td>2016-03-09 05:45:44</td>\n",
       "    </tr>\n",
       "    <tr>\n",
       "      <th>251167</th>\n",
       "      <td>2016-03-06 12:38:33</td>\n",
       "      <td>5900</td>\n",
       "      <td>sedan</td>\n",
       "      <td>1932</td>\n",
       "      <td>manual</td>\n",
       "      <td>0</td>\n",
       "      <td>other</td>\n",
       "      <td>150000</td>\n",
       "      <td>0</td>\n",
       "      <td>petrol</td>\n",
       "      <td>peugeot</td>\n",
       "      <td>NaN</td>\n",
       "      <td>2016-03-06 00:00:00</td>\n",
       "      <td>93083</td>\n",
       "      <td>2016-04-06 05:45:27</td>\n",
       "    </tr>\n",
       "    <tr>\n",
       "      <th>263175</th>\n",
       "      <td>2016-03-25 10:46:59</td>\n",
       "      <td>1700</td>\n",
       "      <td>sedan</td>\n",
       "      <td>1938</td>\n",
       "      <td>manual</td>\n",
       "      <td>0</td>\n",
       "      <td>NaN</td>\n",
       "      <td>100000</td>\n",
       "      <td>4</td>\n",
       "      <td>petrol</td>\n",
       "      <td>sonstige_autos</td>\n",
       "      <td>yes</td>\n",
       "      <td>2016-03-25 00:00:00</td>\n",
       "      <td>24407</td>\n",
       "      <td>2016-03-28 09:18:11</td>\n",
       "    </tr>\n",
       "    <tr>\n",
       "      <th>263574</th>\n",
       "      <td>2016-04-03 20:37:38</td>\n",
       "      <td>4700</td>\n",
       "      <td>other</td>\n",
       "      <td>1931</td>\n",
       "      <td>auto</td>\n",
       "      <td>40</td>\n",
       "      <td>other</td>\n",
       "      <td>150000</td>\n",
       "      <td>1</td>\n",
       "      <td>petrol</td>\n",
       "      <td>ford</td>\n",
       "      <td>yes</td>\n",
       "      <td>2016-04-03 00:00:00</td>\n",
       "      <td>23769</td>\n",
       "      <td>2016-04-05 21:16:51</td>\n",
       "    </tr>\n",
       "    <tr>\n",
       "      <th>266438</th>\n",
       "      <td>2016-03-16 12:37:38</td>\n",
       "      <td>8500</td>\n",
       "      <td>convertible</td>\n",
       "      <td>1938</td>\n",
       "      <td>manual</td>\n",
       "      <td>0</td>\n",
       "      <td>NaN</td>\n",
       "      <td>5000</td>\n",
       "      <td>6</td>\n",
       "      <td>petrol</td>\n",
       "      <td>sonstige_autos</td>\n",
       "      <td>yes</td>\n",
       "      <td>2016-03-16 00:00:00</td>\n",
       "      <td>61118</td>\n",
       "      <td>2016-03-16 19:43:33</td>\n",
       "    </tr>\n",
       "    <tr>\n",
       "      <th>271260</th>\n",
       "      <td>2016-03-26 18:55:51</td>\n",
       "      <td>5000</td>\n",
       "      <td>sedan</td>\n",
       "      <td>1938</td>\n",
       "      <td>manual</td>\n",
       "      <td>0</td>\n",
       "      <td>kadett</td>\n",
       "      <td>5000</td>\n",
       "      <td>0</td>\n",
       "      <td>petrol</td>\n",
       "      <td>opel</td>\n",
       "      <td>NaN</td>\n",
       "      <td>2016-03-26 00:00:00</td>\n",
       "      <td>36369</td>\n",
       "      <td>2016-04-06 08:17:31</td>\n",
       "    </tr>\n",
       "    <tr>\n",
       "      <th>281071</th>\n",
       "      <td>2016-04-05 10:50:33</td>\n",
       "      <td>14500</td>\n",
       "      <td>sedan</td>\n",
       "      <td>1935</td>\n",
       "      <td>NaN</td>\n",
       "      <td>0</td>\n",
       "      <td>other</td>\n",
       "      <td>50000</td>\n",
       "      <td>1</td>\n",
       "      <td>NaN</td>\n",
       "      <td>opel</td>\n",
       "      <td>no</td>\n",
       "      <td>2016-04-05 00:00:00</td>\n",
       "      <td>4758</td>\n",
       "      <td>2016-04-07 14:33:01</td>\n",
       "    </tr>\n",
       "    <tr>\n",
       "      <th>282912</th>\n",
       "      <td>2016-03-11 13:51:58</td>\n",
       "      <td>0</td>\n",
       "      <td>other</td>\n",
       "      <td>1920</td>\n",
       "      <td>NaN</td>\n",
       "      <td>0</td>\n",
       "      <td>NaN</td>\n",
       "      <td>5000</td>\n",
       "      <td>1</td>\n",
       "      <td>other</td>\n",
       "      <td>sonstige_autos</td>\n",
       "      <td>NaN</td>\n",
       "      <td>2016-03-11 00:00:00</td>\n",
       "      <td>12099</td>\n",
       "      <td>2016-04-07 09:45:59</td>\n",
       "    </tr>\n",
       "    <tr>\n",
       "      <th>295868</th>\n",
       "      <td>2016-03-09 20:44:56</td>\n",
       "      <td>14900</td>\n",
       "      <td>coupe</td>\n",
       "      <td>1937</td>\n",
       "      <td>manual</td>\n",
       "      <td>150</td>\n",
       "      <td>NaN</td>\n",
       "      <td>10000</td>\n",
       "      <td>5</td>\n",
       "      <td>petrol</td>\n",
       "      <td>sonstige_autos</td>\n",
       "      <td>no</td>\n",
       "      <td>2016-03-09 00:00:00</td>\n",
       "      <td>74889</td>\n",
       "      <td>2016-03-31 01:15:28</td>\n",
       "    </tr>\n",
       "    <tr>\n",
       "      <th>299914</th>\n",
       "      <td>2016-03-12 08:36:21</td>\n",
       "      <td>16500</td>\n",
       "      <td>convertible</td>\n",
       "      <td>1927</td>\n",
       "      <td>manual</td>\n",
       "      <td>40</td>\n",
       "      <td>other</td>\n",
       "      <td>5000</td>\n",
       "      <td>5</td>\n",
       "      <td>petrol</td>\n",
       "      <td>ford</td>\n",
       "      <td>NaN</td>\n",
       "      <td>2016-03-12 00:00:00</td>\n",
       "      <td>74821</td>\n",
       "      <td>2016-03-15 12:45:12</td>\n",
       "    </tr>\n",
       "    <tr>\n",
       "      <th>302827</th>\n",
       "      <td>2016-04-01 19:41:33</td>\n",
       "      <td>4500</td>\n",
       "      <td>other</td>\n",
       "      <td>1938</td>\n",
       "      <td>manual</td>\n",
       "      <td>0</td>\n",
       "      <td>NaN</td>\n",
       "      <td>5000</td>\n",
       "      <td>10</td>\n",
       "      <td>NaN</td>\n",
       "      <td>sonstige_autos</td>\n",
       "      <td>NaN</td>\n",
       "      <td>2016-04-01 00:00:00</td>\n",
       "      <td>84072</td>\n",
       "      <td>2016-04-05 15:45:04</td>\n",
       "    </tr>\n",
       "    <tr>\n",
       "      <th>303458</th>\n",
       "      <td>2016-04-03 14:56:07</td>\n",
       "      <td>1000</td>\n",
       "      <td>small</td>\n",
       "      <td>1936</td>\n",
       "      <td>NaN</td>\n",
       "      <td>0</td>\n",
       "      <td>other</td>\n",
       "      <td>90000</td>\n",
       "      <td>0</td>\n",
       "      <td>petrol</td>\n",
       "      <td>citroen</td>\n",
       "      <td>NaN</td>\n",
       "      <td>2016-04-03 00:00:00</td>\n",
       "      <td>49393</td>\n",
       "      <td>2016-04-03 14:56:07</td>\n",
       "    </tr>\n",
       "    <tr>\n",
       "      <th>306463</th>\n",
       "      <td>2016-03-29 03:36:23</td>\n",
       "      <td>16800</td>\n",
       "      <td>other</td>\n",
       "      <td>1930</td>\n",
       "      <td>manual</td>\n",
       "      <td>24</td>\n",
       "      <td>other</td>\n",
       "      <td>150000</td>\n",
       "      <td>1</td>\n",
       "      <td>petrol</td>\n",
       "      <td>ford</td>\n",
       "      <td>no</td>\n",
       "      <td>2016-03-29 00:00:00</td>\n",
       "      <td>51063</td>\n",
       "      <td>2016-04-05 17:25:58</td>\n",
       "    </tr>\n",
       "    <tr>\n",
       "      <th>309657</th>\n",
       "      <td>2016-04-05 15:25:19</td>\n",
       "      <td>19000</td>\n",
       "      <td>sedan</td>\n",
       "      <td>1933</td>\n",
       "      <td>manual</td>\n",
       "      <td>23</td>\n",
       "      <td>other</td>\n",
       "      <td>50000</td>\n",
       "      <td>1</td>\n",
       "      <td>petrol</td>\n",
       "      <td>opel</td>\n",
       "      <td>NaN</td>\n",
       "      <td>2016-04-05 00:00:00</td>\n",
       "      <td>65195</td>\n",
       "      <td>2016-04-05 15:25:19</td>\n",
       "    </tr>\n",
       "    <tr>\n",
       "      <th>324049</th>\n",
       "      <td>2016-03-16 17:57:29</td>\n",
       "      <td>8750</td>\n",
       "      <td>convertible</td>\n",
       "      <td>1923</td>\n",
       "      <td>manual</td>\n",
       "      <td>8</td>\n",
       "      <td>c3</td>\n",
       "      <td>5000</td>\n",
       "      <td>1</td>\n",
       "      <td>petrol</td>\n",
       "      <td>citroen</td>\n",
       "      <td>no</td>\n",
       "      <td>2016-03-16 00:00:00</td>\n",
       "      <td>27299</td>\n",
       "      <td>2016-04-04 22:16:07</td>\n",
       "    </tr>\n",
       "    <tr>\n",
       "      <th>335547</th>\n",
       "      <td>2016-03-27 12:44:33</td>\n",
       "      <td>9000</td>\n",
       "      <td>sedan</td>\n",
       "      <td>1938</td>\n",
       "      <td>manual</td>\n",
       "      <td>1</td>\n",
       "      <td>kadett</td>\n",
       "      <td>5000</td>\n",
       "      <td>0</td>\n",
       "      <td>petrol</td>\n",
       "      <td>opel</td>\n",
       "      <td>NaN</td>\n",
       "      <td>2016-03-27 00:00:00</td>\n",
       "      <td>93437</td>\n",
       "      <td>2016-03-27 12:44:33</td>\n",
       "    </tr>\n",
       "    <tr>\n",
       "      <th>336104</th>\n",
       "      <td>2016-03-11 11:51:33</td>\n",
       "      <td>20000</td>\n",
       "      <td>coupe</td>\n",
       "      <td>1929</td>\n",
       "      <td>manual</td>\n",
       "      <td>12</td>\n",
       "      <td>other</td>\n",
       "      <td>10000</td>\n",
       "      <td>4</td>\n",
       "      <td>petrol</td>\n",
       "      <td>bmw</td>\n",
       "      <td>NaN</td>\n",
       "      <td>2016-03-11 00:00:00</td>\n",
       "      <td>74523</td>\n",
       "      <td>2016-04-07 05:45:00</td>\n",
       "    </tr>\n",
       "    <tr>\n",
       "      <th>338109</th>\n",
       "      <td>2016-03-05 17:45:32</td>\n",
       "      <td>7000</td>\n",
       "      <td>coupe</td>\n",
       "      <td>1937</td>\n",
       "      <td>manual</td>\n",
       "      <td>85</td>\n",
       "      <td>other</td>\n",
       "      <td>5000</td>\n",
       "      <td>8</td>\n",
       "      <td>petrol</td>\n",
       "      <td>ford</td>\n",
       "      <td>yes</td>\n",
       "      <td>2016-03-05 00:00:00</td>\n",
       "      <td>8359</td>\n",
       "      <td>2016-04-07 10:44:39</td>\n",
       "    </tr>\n",
       "    <tr>\n",
       "      <th>353531</th>\n",
       "      <td>2016-03-16 21:56:55</td>\n",
       "      <td>6000</td>\n",
       "      <td>sedan</td>\n",
       "      <td>1937</td>\n",
       "      <td>manual</td>\n",
       "      <td>38</td>\n",
       "      <td>other</td>\n",
       "      <td>5000</td>\n",
       "      <td>0</td>\n",
       "      <td>petrol</td>\n",
       "      <td>mercedes_benz</td>\n",
       "      <td>NaN</td>\n",
       "      <td>2016-03-16 00:00:00</td>\n",
       "      <td>23936</td>\n",
       "      <td>2016-03-30 18:47:41</td>\n",
       "    </tr>\n",
       "  </tbody>\n",
       "</table>\n",
       "</div>"
      ],
      "text/plain": [
       "               date_crawled  price vehicle_type  registration_year gearbox  \\\n",
       "2273    2016-03-15 21:44:32   1800  convertible               1925     NaN   \n",
       "16635   2016-03-09 10:54:11   9500          suv               1941  manual   \n",
       "22621   2016-03-23 11:37:57  14000        sedan               1929  manual   \n",
       "26216   2016-03-16 21:43:10  15000        small               1940  manual   \n",
       "29933   2016-03-09 13:47:22  12900        sedan               1940  manual   \n",
       "33638   2016-03-16 09:47:50   5400        small               1937  manual   \n",
       "34055   2016-03-25 00:55:47   2900        small               1937  manual   \n",
       "37953   2016-03-07 22:51:16   9500        other               1937     NaN   \n",
       "54749   2016-03-09 22:37:45      0        small               1933     NaN   \n",
       "68185   2016-03-25 14:48:15  19900  convertible               1932  manual   \n",
       "76529   2016-03-30 22:42:50   4800        sedan               1937  manual   \n",
       "78477   2016-03-25 22:54:31   8990        sedan               1937     NaN   \n",
       "97923   2016-03-22 17:38:09      0        other               1935  manual   \n",
       "104836  2016-03-28 17:48:34   4500        sedan               1935  manual   \n",
       "106886  2016-03-21 20:39:50  17200        small               1933     NaN   \n",
       "108326  2016-03-27 20:45:44  14000        sedan               1936     NaN   \n",
       "113259  2016-03-27 14:58:15   8000        sedan               1937  manual   \n",
       "117371  2016-03-14 14:00:30   8750  convertible               1923  manual   \n",
       "122879  2016-03-08 03:58:35   8000        other               1930  manual   \n",
       "131019  2016-04-02 23:54:49  16000        sedan               1929     NaN   \n",
       "136797  2016-04-03 11:37:34      0        other               1937  manual   \n",
       "137324  2016-03-09 16:51:17  11500  convertible               1929  manual   \n",
       "143747  2016-03-14 22:56:36      0        wagon               1930  manual   \n",
       "145609  2016-03-06 14:39:02      1        other               1934    auto   \n",
       "146207  2016-04-01 19:46:02  12999        small               1938  manual   \n",
       "149465  2016-03-28 11:51:54  10000        sedan               1938  manual   \n",
       "157965  2016-03-15 14:57:07   3350        other               1934  manual   \n",
       "165188  2016-04-05 15:06:17  16000        other               1935  manual   \n",
       "174278  2016-03-28 16:55:31  20000        sedan               1936  manual   \n",
       "179219  2016-03-15 23:54:31   5200        sedan               1928     NaN   \n",
       "188344  2016-03-15 10:50:59  10700          suv               1941     NaN   \n",
       "196564  2016-03-19 04:57:17      1        other               1929     NaN   \n",
       "218297  2016-03-18 21:48:21   6000  convertible               1932     NaN   \n",
       "229913  2016-03-31 10:58:39   7500        small               1938  manual   \n",
       "230095  2016-03-09 16:52:31  11500  convertible               1929  manual   \n",
       "235505  2016-03-17 07:37:03   9999  convertible               1928  manual   \n",
       "237933  2016-03-14 16:44:27  11000        sedan               1929     NaN   \n",
       "244423  2016-03-19 22:51:25   3000        other               1934     NaN   \n",
       "247198  2016-03-08 14:49:15   5500        sedan               1937  manual   \n",
       "251167  2016-03-06 12:38:33   5900        sedan               1932  manual   \n",
       "263175  2016-03-25 10:46:59   1700        sedan               1938  manual   \n",
       "263574  2016-04-03 20:37:38   4700        other               1931    auto   \n",
       "266438  2016-03-16 12:37:38   8500  convertible               1938  manual   \n",
       "271260  2016-03-26 18:55:51   5000        sedan               1938  manual   \n",
       "281071  2016-04-05 10:50:33  14500        sedan               1935     NaN   \n",
       "282912  2016-03-11 13:51:58      0        other               1920     NaN   \n",
       "295868  2016-03-09 20:44:56  14900        coupe               1937  manual   \n",
       "299914  2016-03-12 08:36:21  16500  convertible               1927  manual   \n",
       "302827  2016-04-01 19:41:33   4500        other               1938  manual   \n",
       "303458  2016-04-03 14:56:07   1000        small               1936     NaN   \n",
       "306463  2016-03-29 03:36:23  16800        other               1930  manual   \n",
       "309657  2016-04-05 15:25:19  19000        sedan               1933  manual   \n",
       "324049  2016-03-16 17:57:29   8750  convertible               1923  manual   \n",
       "335547  2016-03-27 12:44:33   9000        sedan               1938  manual   \n",
       "336104  2016-03-11 11:51:33  20000        coupe               1929  manual   \n",
       "338109  2016-03-05 17:45:32   7000        coupe               1937  manual   \n",
       "353531  2016-03-16 21:56:55   6000        sedan               1937  manual   \n",
       "\n",
       "        power    model  kilometer  registration_month fuel_type  \\\n",
       "2273        0      NaN       5000                   1       NaN   \n",
       "16635      57      NaN      40000                   1    petrol   \n",
       "22621      30      NaN       5000                   7    petrol   \n",
       "26216      24      NaN       5000                   7    petrol   \n",
       "29933       0      NaN     150000                   4    petrol   \n",
       "33638       0    other      20000                   3    petrol   \n",
       "34055      34    other      40000                   7    petrol   \n",
       "37953       0    other      20000                   4       NaN   \n",
       "54749       0      NaN       5000                   0    petrol   \n",
       "68185      18    other       5000                   2    petrol   \n",
       "76529      38    other       5000                   0    petrol   \n",
       "78477       0      NaN     150000                   7    petrol   \n",
       "97923     100    other      10000                   7    petrol   \n",
       "104836     25      NaN       5000                   0    petrol   \n",
       "106886      0    other      80000                   7       NaN   \n",
       "108326      0      500       5000                   1       NaN   \n",
       "113259      0      NaN      50000                   5    petrol   \n",
       "117371     11       c3       5000                   0    petrol   \n",
       "122879     23    other     150000                   0    petrol   \n",
       "131019      0      NaN      60000                   2    petrol   \n",
       "136797     18      NaN     100000                   1    petrol   \n",
       "137324     15    other       5000                   1       NaN   \n",
       "143747     99    spark      20000                   6    hybrid   \n",
       "145609      0    other       5000                   7    petrol   \n",
       "146207     40  2_reihe      70000                   1    petrol   \n",
       "149465     24      NaN      30000                   7    petrol   \n",
       "157965      0    other       5000                   0    petrol   \n",
       "165188     23    other      30000                   1    petrol   \n",
       "174278     23    other      30000                   0    petrol   \n",
       "179219      0    other       5000                   0       NaN   \n",
       "188344      0    other     150000                   0    petrol   \n",
       "196564      0    other      70000                   2    petrol   \n",
       "218297      0    other      30000                   8       NaN   \n",
       "229913     18      NaN       5000                   3       NaN   \n",
       "230095     15    other       5000                   1    petrol   \n",
       "235505     40    other     150000                   6    petrol   \n",
       "237933      0      NaN      60000                   1    petrol   \n",
       "244423      0      NaN      90000                   1    petrol   \n",
       "247198      0    other      30000                   3    petrol   \n",
       "251167      0    other     150000                   0    petrol   \n",
       "263175      0      NaN     100000                   4    petrol   \n",
       "263574     40    other     150000                   1    petrol   \n",
       "266438      0      NaN       5000                   6    petrol   \n",
       "271260      0   kadett       5000                   0    petrol   \n",
       "281071      0    other      50000                   1       NaN   \n",
       "282912      0      NaN       5000                   1     other   \n",
       "295868    150      NaN      10000                   5    petrol   \n",
       "299914     40    other       5000                   5    petrol   \n",
       "302827      0      NaN       5000                  10       NaN   \n",
       "303458      0    other      90000                   0    petrol   \n",
       "306463     24    other     150000                   1    petrol   \n",
       "309657     23    other      50000                   1    petrol   \n",
       "324049      8       c3       5000                   1    petrol   \n",
       "335547      1   kadett       5000                   0    petrol   \n",
       "336104     12    other      10000                   4    petrol   \n",
       "338109     85    other       5000                   8    petrol   \n",
       "353531     38    other       5000                   0    petrol   \n",
       "\n",
       "                 brand not_repaired         date_created  postal_code  \\\n",
       "2273    sonstige_autos           no  2016-03-15 00:00:00        79288   \n",
       "16635   sonstige_autos           no  2016-03-09 00:00:00        59557   \n",
       "22621   sonstige_autos          NaN  2016-03-23 00:00:00        90475   \n",
       "26216   sonstige_autos           no  2016-03-16 00:00:00         4924   \n",
       "29933             ford          NaN  2016-03-09 00:00:00        45657   \n",
       "33638             opel           no  2016-03-16 00:00:00         7907   \n",
       "34055             ford          yes  2016-03-25 00:00:00        33378   \n",
       "37953             ford          NaN  2016-03-07 00:00:00        48599   \n",
       "54749             fiat          NaN  2016-03-09 00:00:00        53919   \n",
       "68185              bmw           no  2016-03-25 00:00:00        99735   \n",
       "76529    mercedes_benz          NaN  2016-03-30 00:00:00        23936   \n",
       "78477   sonstige_autos          NaN  2016-03-25 00:00:00         3042   \n",
       "97923             ford          NaN  2016-03-22 00:00:00        88709   \n",
       "104836  sonstige_autos           no  2016-03-28 00:00:00        22850   \n",
       "106886            ford           no  2016-03-21 00:00:00        35469   \n",
       "108326            fiat           no  2016-03-27 00:00:00        90518   \n",
       "113259  sonstige_autos           no  2016-03-27 00:00:00        23769   \n",
       "117371         citroen           no  2016-03-14 00:00:00        27299   \n",
       "122879         peugeot          NaN  2016-03-08 00:00:00        74523   \n",
       "131019  sonstige_autos           no  2016-04-02 00:00:00        21435   \n",
       "136797  sonstige_autos          NaN  2016-04-03 00:00:00        46397   \n",
       "137324             bmw          yes  2016-03-09 00:00:00        70569   \n",
       "143747       chevrolet           no  2016-03-14 00:00:00         6842   \n",
       "145609         citroen          NaN  2016-03-06 00:00:00        39343   \n",
       "146207         peugeot           no  2016-04-01 00:00:00        54673   \n",
       "149465  sonstige_autos          yes  2016-03-28 00:00:00        91795   \n",
       "157965            opel          yes  2016-03-15 00:00:00        49828   \n",
       "165188            opel          NaN  2016-04-05 00:00:00        65195   \n",
       "174278            opel          NaN  2016-03-28 00:00:00        66879   \n",
       "179219         citroen          NaN  2016-03-15 00:00:00        79299   \n",
       "188344            jeep          NaN  2016-03-15 00:00:00        70806   \n",
       "196564   mercedes_benz          NaN  2016-03-19 00:00:00        59077   \n",
       "218297            ford           no  2016-03-18 00:00:00        70378   \n",
       "229913  sonstige_autos          yes  2016-03-31 00:00:00        53937   \n",
       "230095             bmw          yes  2016-03-09 00:00:00        70569   \n",
       "235505            ford          NaN  2016-03-17 00:00:00        27419   \n",
       "237933  sonstige_autos           no  2016-03-14 00:00:00         9669   \n",
       "244423  sonstige_autos           no  2016-03-19 00:00:00        90489   \n",
       "247198            opel           no  2016-03-08 00:00:00         7907   \n",
       "251167         peugeot          NaN  2016-03-06 00:00:00        93083   \n",
       "263175  sonstige_autos          yes  2016-03-25 00:00:00        24407   \n",
       "263574            ford          yes  2016-04-03 00:00:00        23769   \n",
       "266438  sonstige_autos          yes  2016-03-16 00:00:00        61118   \n",
       "271260            opel          NaN  2016-03-26 00:00:00        36369   \n",
       "281071            opel           no  2016-04-05 00:00:00         4758   \n",
       "282912  sonstige_autos          NaN  2016-03-11 00:00:00        12099   \n",
       "295868  sonstige_autos           no  2016-03-09 00:00:00        74889   \n",
       "299914            ford          NaN  2016-03-12 00:00:00        74821   \n",
       "302827  sonstige_autos          NaN  2016-04-01 00:00:00        84072   \n",
       "303458         citroen          NaN  2016-04-03 00:00:00        49393   \n",
       "306463            ford           no  2016-03-29 00:00:00        51063   \n",
       "309657            opel          NaN  2016-04-05 00:00:00        65195   \n",
       "324049         citroen           no  2016-03-16 00:00:00        27299   \n",
       "335547            opel          NaN  2016-03-27 00:00:00        93437   \n",
       "336104             bmw          NaN  2016-03-11 00:00:00        74523   \n",
       "338109            ford          yes  2016-03-05 00:00:00         8359   \n",
       "353531   mercedes_benz          NaN  2016-03-16 00:00:00        23936   \n",
       "\n",
       "                  last_seen  \n",
       "2273    2016-04-07 05:15:34  \n",
       "16635   2016-03-12 21:16:29  \n",
       "22621   2016-04-05 11:18:18  \n",
       "26216   2016-04-07 08:46:27  \n",
       "29933   2016-03-30 06:52:51  \n",
       "33638   2016-03-17 07:47:51  \n",
       "34055   2016-04-02 07:16:41  \n",
       "37953   2016-04-06 22:15:45  \n",
       "54749   2016-03-11 10:44:11  \n",
       "68185   2016-04-06 18:15:26  \n",
       "76529   2016-03-30 22:42:50  \n",
       "78477   2016-04-05 15:47:14  \n",
       "97923   2016-04-06 08:17:04  \n",
       "104836  2016-04-06 23:45:42  \n",
       "106886  2016-04-06 23:45:43  \n",
       "108326  2016-04-05 19:17:03  \n",
       "113259  2016-04-07 12:18:03  \n",
       "117371  2016-04-05 16:44:28  \n",
       "122879  2016-03-29 09:45:15  \n",
       "131019  2016-04-07 07:16:24  \n",
       "136797  2016-04-07 12:44:42  \n",
       "137324  2016-04-07 06:17:11  \n",
       "143747  2016-03-17 20:15:29  \n",
       "145609  2016-04-02 13:15:51  \n",
       "146207  2016-04-05 15:47:26  \n",
       "149465  2016-04-06 14:17:27  \n",
       "157965  2016-04-06 06:17:51  \n",
       "165188  2016-04-05 15:06:17  \n",
       "174278  2016-04-06 22:17:51  \n",
       "179219  2016-04-06 00:46:07  \n",
       "188344  2016-04-07 07:17:15  \n",
       "196564  2016-04-06 04:17:30  \n",
       "218297  2016-03-18 21:48:21  \n",
       "229913  2016-04-04 03:17:44  \n",
       "230095  2016-04-07 06:44:38  \n",
       "235505  2016-04-06 05:16:30  \n",
       "237933  2016-04-05 20:46:04  \n",
       "244423  2016-03-19 22:51:25  \n",
       "247198  2016-03-09 05:45:44  \n",
       "251167  2016-04-06 05:45:27  \n",
       "263175  2016-03-28 09:18:11  \n",
       "263574  2016-04-05 21:16:51  \n",
       "266438  2016-03-16 19:43:33  \n",
       "271260  2016-04-06 08:17:31  \n",
       "281071  2016-04-07 14:33:01  \n",
       "282912  2016-04-07 09:45:59  \n",
       "295868  2016-03-31 01:15:28  \n",
       "299914  2016-03-15 12:45:12  \n",
       "302827  2016-04-05 15:45:04  \n",
       "303458  2016-04-03 14:56:07  \n",
       "306463  2016-04-05 17:25:58  \n",
       "309657  2016-04-05 15:25:19  \n",
       "324049  2016-04-04 22:16:07  \n",
       "335547  2016-03-27 12:44:33  \n",
       "336104  2016-04-07 05:45:00  \n",
       "338109  2016-04-07 10:44:39  \n",
       "353531  2016-03-30 18:47:41  "
      ]
     },
     "execution_count": 31,
     "metadata": {},
     "output_type": "execute_result"
    }
   ],
   "source": [
    "df[df['registration_year'] <= 1941]"
   ]
  },
  {
   "cell_type": "markdown",
   "metadata": {},
   "source": [
    "Довоенные машины (очень раритетные)"
   ]
  },
  {
   "cell_type": "markdown",
   "metadata": {},
   "source": [
    " "
   ]
  },
  {
   "cell_type": "code",
   "execution_count": 32,
   "metadata": {},
   "outputs": [
    {
     "data": {
      "text/html": [
       "<div>\n",
       "<style scoped>\n",
       "    .dataframe tbody tr th:only-of-type {\n",
       "        vertical-align: middle;\n",
       "    }\n",
       "\n",
       "    .dataframe tbody tr th {\n",
       "        vertical-align: top;\n",
       "    }\n",
       "\n",
       "    .dataframe thead th {\n",
       "        text-align: right;\n",
       "    }\n",
       "</style>\n",
       "<table border=\"1\" class=\"dataframe\">\n",
       "  <thead>\n",
       "    <tr style=\"text-align: right;\">\n",
       "      <th></th>\n",
       "      <th>date_crawled</th>\n",
       "      <th>price</th>\n",
       "      <th>vehicle_type</th>\n",
       "      <th>registration_year</th>\n",
       "      <th>gearbox</th>\n",
       "      <th>power</th>\n",
       "      <th>model</th>\n",
       "      <th>kilometer</th>\n",
       "      <th>registration_month</th>\n",
       "      <th>fuel_type</th>\n",
       "      <th>brand</th>\n",
       "      <th>not_repaired</th>\n",
       "      <th>date_created</th>\n",
       "      <th>postal_code</th>\n",
       "      <th>last_seen</th>\n",
       "    </tr>\n",
       "  </thead>\n",
       "  <tbody>\n",
       "    <tr>\n",
       "      <th>630</th>\n",
       "      <td>2016-03-18 12:43:41</td>\n",
       "      <td>12000</td>\n",
       "      <td>sedan</td>\n",
       "      <td>1969</td>\n",
       "      <td>manual</td>\n",
       "      <td>140</td>\n",
       "      <td>s_klasse</td>\n",
       "      <td>80000</td>\n",
       "      <td>3</td>\n",
       "      <td>petrol</td>\n",
       "      <td>mercedes_benz</td>\n",
       "      <td>no</td>\n",
       "      <td>2016-03-18 00:00:00</td>\n",
       "      <td>46286</td>\n",
       "      <td>2016-04-05 22:16:44</td>\n",
       "    </tr>\n",
       "    <tr>\n",
       "      <th>1331</th>\n",
       "      <td>2016-04-03 19:53:44</td>\n",
       "      <td>650</td>\n",
       "      <td>NaN</td>\n",
       "      <td>1970</td>\n",
       "      <td>NaN</td>\n",
       "      <td>26</td>\n",
       "      <td>NaN</td>\n",
       "      <td>100000</td>\n",
       "      <td>5</td>\n",
       "      <td>NaN</td>\n",
       "      <td>trabant</td>\n",
       "      <td>NaN</td>\n",
       "      <td>2016-04-03 00:00:00</td>\n",
       "      <td>9337</td>\n",
       "      <td>2016-04-05 20:45:24</td>\n",
       "    </tr>\n",
       "    <tr>\n",
       "      <th>1794</th>\n",
       "      <td>2016-04-03 21:49:57</td>\n",
       "      <td>12800</td>\n",
       "      <td>coupe</td>\n",
       "      <td>1965</td>\n",
       "      <td>manual</td>\n",
       "      <td>90</td>\n",
       "      <td>other</td>\n",
       "      <td>100000</td>\n",
       "      <td>8</td>\n",
       "      <td>petrol</td>\n",
       "      <td>ford</td>\n",
       "      <td>no</td>\n",
       "      <td>2016-04-03 00:00:00</td>\n",
       "      <td>12049</td>\n",
       "      <td>2016-04-05 23:15:21</td>\n",
       "    </tr>\n",
       "    <tr>\n",
       "      <th>1844</th>\n",
       "      <td>2016-03-31 19:50:00</td>\n",
       "      <td>1200</td>\n",
       "      <td>NaN</td>\n",
       "      <td>1970</td>\n",
       "      <td>manual</td>\n",
       "      <td>0</td>\n",
       "      <td>kaefer</td>\n",
       "      <td>150000</td>\n",
       "      <td>5</td>\n",
       "      <td>petrol</td>\n",
       "      <td>volkswagen</td>\n",
       "      <td>NaN</td>\n",
       "      <td>2016-03-31 00:00:00</td>\n",
       "      <td>90459</td>\n",
       "      <td>2016-04-06 14:17:55</td>\n",
       "    </tr>\n",
       "    <tr>\n",
       "      <th>1928</th>\n",
       "      <td>2016-03-25 15:58:21</td>\n",
       "      <td>7000</td>\n",
       "      <td>suv</td>\n",
       "      <td>1945</td>\n",
       "      <td>manual</td>\n",
       "      <td>48</td>\n",
       "      <td>other</td>\n",
       "      <td>150000</td>\n",
       "      <td>2</td>\n",
       "      <td>petrol</td>\n",
       "      <td>volkswagen</td>\n",
       "      <td>no</td>\n",
       "      <td>2016-03-25 00:00:00</td>\n",
       "      <td>58135</td>\n",
       "      <td>2016-03-25 15:58:21</td>\n",
       "    </tr>\n",
       "    <tr>\n",
       "      <th>...</th>\n",
       "      <td>...</td>\n",
       "      <td>...</td>\n",
       "      <td>...</td>\n",
       "      <td>...</td>\n",
       "      <td>...</td>\n",
       "      <td>...</td>\n",
       "      <td>...</td>\n",
       "      <td>...</td>\n",
       "      <td>...</td>\n",
       "      <td>...</td>\n",
       "      <td>...</td>\n",
       "      <td>...</td>\n",
       "      <td>...</td>\n",
       "      <td>...</td>\n",
       "      <td>...</td>\n",
       "    </tr>\n",
       "    <tr>\n",
       "      <th>353447</th>\n",
       "      <td>2016-03-27 00:46:19</td>\n",
       "      <td>2900</td>\n",
       "      <td>small</td>\n",
       "      <td>1969</td>\n",
       "      <td>manual</td>\n",
       "      <td>18</td>\n",
       "      <td>500</td>\n",
       "      <td>5000</td>\n",
       "      <td>8</td>\n",
       "      <td>petrol</td>\n",
       "      <td>fiat</td>\n",
       "      <td>no</td>\n",
       "      <td>2016-03-26 00:00:00</td>\n",
       "      <td>74076</td>\n",
       "      <td>2016-03-28 17:45:04</td>\n",
       "    </tr>\n",
       "    <tr>\n",
       "      <th>353912</th>\n",
       "      <td>2016-03-05 20:43:30</td>\n",
       "      <td>800</td>\n",
       "      <td>NaN</td>\n",
       "      <td>1970</td>\n",
       "      <td>NaN</td>\n",
       "      <td>0</td>\n",
       "      <td>other</td>\n",
       "      <td>150000</td>\n",
       "      <td>0</td>\n",
       "      <td>NaN</td>\n",
       "      <td>trabant</td>\n",
       "      <td>NaN</td>\n",
       "      <td>2016-03-05 00:00:00</td>\n",
       "      <td>1609</td>\n",
       "      <td>2016-03-12 08:17:10</td>\n",
       "    </tr>\n",
       "    <tr>\n",
       "      <th>354037</th>\n",
       "      <td>2016-03-23 16:57:30</td>\n",
       "      <td>10500</td>\n",
       "      <td>convertible</td>\n",
       "      <td>1968</td>\n",
       "      <td>manual</td>\n",
       "      <td>54</td>\n",
       "      <td>other</td>\n",
       "      <td>20000</td>\n",
       "      <td>4</td>\n",
       "      <td>NaN</td>\n",
       "      <td>renault</td>\n",
       "      <td>no</td>\n",
       "      <td>2016-03-23 00:00:00</td>\n",
       "      <td>63755</td>\n",
       "      <td>2016-03-25 00:47:18</td>\n",
       "    </tr>\n",
       "    <tr>\n",
       "      <th>354063</th>\n",
       "      <td>2016-03-08 23:37:04</td>\n",
       "      <td>0</td>\n",
       "      <td>NaN</td>\n",
       "      <td>1970</td>\n",
       "      <td>NaN</td>\n",
       "      <td>0</td>\n",
       "      <td>sl</td>\n",
       "      <td>150000</td>\n",
       "      <td>0</td>\n",
       "      <td>NaN</td>\n",
       "      <td>mercedes_benz</td>\n",
       "      <td>NaN</td>\n",
       "      <td>2016-03-08 00:00:00</td>\n",
       "      <td>34123</td>\n",
       "      <td>2016-04-07 05:15:38</td>\n",
       "    </tr>\n",
       "    <tr>\n",
       "      <th>354316</th>\n",
       "      <td>2016-03-07 19:58:44</td>\n",
       "      <td>3300</td>\n",
       "      <td>coupe</td>\n",
       "      <td>1957</td>\n",
       "      <td>manual</td>\n",
       "      <td>40</td>\n",
       "      <td>other</td>\n",
       "      <td>100000</td>\n",
       "      <td>11</td>\n",
       "      <td>petrol</td>\n",
       "      <td>trabant</td>\n",
       "      <td>no</td>\n",
       "      <td>2016-03-07 00:00:00</td>\n",
       "      <td>10317</td>\n",
       "      <td>2016-03-08 06:45:48</td>\n",
       "    </tr>\n",
       "  </tbody>\n",
       "</table>\n",
       "<p>1445 rows × 15 columns</p>\n",
       "</div>"
      ],
      "text/plain": [
       "               date_crawled  price vehicle_type  registration_year gearbox  \\\n",
       "630     2016-03-18 12:43:41  12000        sedan               1969  manual   \n",
       "1331    2016-04-03 19:53:44    650          NaN               1970     NaN   \n",
       "1794    2016-04-03 21:49:57  12800        coupe               1965  manual   \n",
       "1844    2016-03-31 19:50:00   1200          NaN               1970  manual   \n",
       "1928    2016-03-25 15:58:21   7000          suv               1945  manual   \n",
       "...                     ...    ...          ...                ...     ...   \n",
       "353447  2016-03-27 00:46:19   2900        small               1969  manual   \n",
       "353912  2016-03-05 20:43:30    800          NaN               1970     NaN   \n",
       "354037  2016-03-23 16:57:30  10500  convertible               1968  manual   \n",
       "354063  2016-03-08 23:37:04      0          NaN               1970     NaN   \n",
       "354316  2016-03-07 19:58:44   3300        coupe               1957  manual   \n",
       "\n",
       "        power     model  kilometer  registration_month fuel_type  \\\n",
       "630       140  s_klasse      80000                   3    petrol   \n",
       "1331       26       NaN     100000                   5       NaN   \n",
       "1794       90     other     100000                   8    petrol   \n",
       "1844        0    kaefer     150000                   5    petrol   \n",
       "1928       48     other     150000                   2    petrol   \n",
       "...       ...       ...        ...                 ...       ...   \n",
       "353447     18       500       5000                   8    petrol   \n",
       "353912      0     other     150000                   0       NaN   \n",
       "354037     54     other      20000                   4       NaN   \n",
       "354063      0        sl     150000                   0       NaN   \n",
       "354316     40     other     100000                  11    petrol   \n",
       "\n",
       "                brand not_repaired         date_created  postal_code  \\\n",
       "630     mercedes_benz           no  2016-03-18 00:00:00        46286   \n",
       "1331          trabant          NaN  2016-04-03 00:00:00         9337   \n",
       "1794             ford           no  2016-04-03 00:00:00        12049   \n",
       "1844       volkswagen          NaN  2016-03-31 00:00:00        90459   \n",
       "1928       volkswagen           no  2016-03-25 00:00:00        58135   \n",
       "...               ...          ...                  ...          ...   \n",
       "353447           fiat           no  2016-03-26 00:00:00        74076   \n",
       "353912        trabant          NaN  2016-03-05 00:00:00         1609   \n",
       "354037        renault           no  2016-03-23 00:00:00        63755   \n",
       "354063  mercedes_benz          NaN  2016-03-08 00:00:00        34123   \n",
       "354316        trabant           no  2016-03-07 00:00:00        10317   \n",
       "\n",
       "                  last_seen  \n",
       "630     2016-04-05 22:16:44  \n",
       "1331    2016-04-05 20:45:24  \n",
       "1794    2016-04-05 23:15:21  \n",
       "1844    2016-04-06 14:17:55  \n",
       "1928    2016-03-25 15:58:21  \n",
       "...                     ...  \n",
       "353447  2016-03-28 17:45:04  \n",
       "353912  2016-03-12 08:17:10  \n",
       "354037  2016-03-25 00:47:18  \n",
       "354063  2016-04-07 05:15:38  \n",
       "354316  2016-03-08 06:45:48  \n",
       "\n",
       "[1445 rows x 15 columns]"
      ]
     },
     "execution_count": 32,
     "metadata": {},
     "output_type": "execute_result"
    }
   ],
   "source": [
    "df[(df['registration_year'] > 1941) & (df['registration_year'] <= 1970)]"
   ]
  },
  {
   "cell_type": "markdown",
   "metadata": {},
   "source": [
    "Раритетные машины"
   ]
  },
  {
   "cell_type": "markdown",
   "metadata": {},
   "source": [
    " "
   ]
  },
  {
   "cell_type": "markdown",
   "metadata": {},
   "source": [
    " "
   ]
  },
  {
   "cell_type": "code",
   "execution_count": 33,
   "metadata": {},
   "outputs": [
    {
     "data": {
      "text/html": [
       "<div>\n",
       "<style scoped>\n",
       "    .dataframe tbody tr th:only-of-type {\n",
       "        vertical-align: middle;\n",
       "    }\n",
       "\n",
       "    .dataframe tbody tr th {\n",
       "        vertical-align: top;\n",
       "    }\n",
       "\n",
       "    .dataframe thead th {\n",
       "        text-align: right;\n",
       "    }\n",
       "</style>\n",
       "<table border=\"1\" class=\"dataframe\">\n",
       "  <thead>\n",
       "    <tr style=\"text-align: right;\">\n",
       "      <th></th>\n",
       "      <th>date_crawled</th>\n",
       "      <th>price</th>\n",
       "      <th>vehicle_type</th>\n",
       "      <th>registration_year</th>\n",
       "      <th>gearbox</th>\n",
       "      <th>power</th>\n",
       "      <th>model</th>\n",
       "      <th>kilometer</th>\n",
       "      <th>registration_month</th>\n",
       "      <th>fuel_type</th>\n",
       "      <th>brand</th>\n",
       "      <th>not_repaired</th>\n",
       "      <th>date_created</th>\n",
       "      <th>postal_code</th>\n",
       "      <th>last_seen</th>\n",
       "    </tr>\n",
       "  </thead>\n",
       "  <tbody>\n",
       "    <tr>\n",
       "      <th>7</th>\n",
       "      <td>2016-03-21 18:54:38</td>\n",
       "      <td>0</td>\n",
       "      <td>sedan</td>\n",
       "      <td>1980</td>\n",
       "      <td>manual</td>\n",
       "      <td>50</td>\n",
       "      <td>other</td>\n",
       "      <td>40000</td>\n",
       "      <td>7</td>\n",
       "      <td>petrol</td>\n",
       "      <td>volkswagen</td>\n",
       "      <td>no</td>\n",
       "      <td>2016-03-21 00:00:00</td>\n",
       "      <td>19348</td>\n",
       "      <td>2016-03-25 16:47:58</td>\n",
       "    </tr>\n",
       "    <tr>\n",
       "      <th>28</th>\n",
       "      <td>2016-03-09 11:56:38</td>\n",
       "      <td>1990</td>\n",
       "      <td>bus</td>\n",
       "      <td>1981</td>\n",
       "      <td>manual</td>\n",
       "      <td>50</td>\n",
       "      <td>transporter</td>\n",
       "      <td>5000</td>\n",
       "      <td>1</td>\n",
       "      <td>petrol</td>\n",
       "      <td>volkswagen</td>\n",
       "      <td>no</td>\n",
       "      <td>2016-03-09 00:00:00</td>\n",
       "      <td>87471</td>\n",
       "      <td>2016-03-10 07:44:33</td>\n",
       "    </tr>\n",
       "    <tr>\n",
       "      <th>39</th>\n",
       "      <td>2016-03-25 15:50:30</td>\n",
       "      <td>1500</td>\n",
       "      <td>bus</td>\n",
       "      <td>1984</td>\n",
       "      <td>manual</td>\n",
       "      <td>70</td>\n",
       "      <td>other</td>\n",
       "      <td>150000</td>\n",
       "      <td>8</td>\n",
       "      <td>gasoline</td>\n",
       "      <td>mercedes_benz</td>\n",
       "      <td>no</td>\n",
       "      <td>2016-03-25 00:00:00</td>\n",
       "      <td>22767</td>\n",
       "      <td>2016-03-27 03:17:02</td>\n",
       "    </tr>\n",
       "    <tr>\n",
       "      <th>91</th>\n",
       "      <td>2016-04-02 23:25:25</td>\n",
       "      <td>1222</td>\n",
       "      <td>sedan</td>\n",
       "      <td>1984</td>\n",
       "      <td>auto</td>\n",
       "      <td>180</td>\n",
       "      <td>other</td>\n",
       "      <td>150000</td>\n",
       "      <td>3</td>\n",
       "      <td>petrol</td>\n",
       "      <td>opel</td>\n",
       "      <td>NaN</td>\n",
       "      <td>2016-04-02 00:00:00</td>\n",
       "      <td>57290</td>\n",
       "      <td>2016-04-06 14:44:57</td>\n",
       "    </tr>\n",
       "    <tr>\n",
       "      <th>145</th>\n",
       "      <td>2016-03-06 21:38:00</td>\n",
       "      <td>150</td>\n",
       "      <td>NaN</td>\n",
       "      <td>1985</td>\n",
       "      <td>NaN</td>\n",
       "      <td>0</td>\n",
       "      <td>100</td>\n",
       "      <td>150000</td>\n",
       "      <td>4</td>\n",
       "      <td>petrol</td>\n",
       "      <td>audi</td>\n",
       "      <td>NaN</td>\n",
       "      <td>2016-03-06 00:00:00</td>\n",
       "      <td>87616</td>\n",
       "      <td>2016-04-07 02:16:59</td>\n",
       "    </tr>\n",
       "    <tr>\n",
       "      <th>...</th>\n",
       "      <td>...</td>\n",
       "      <td>...</td>\n",
       "      <td>...</td>\n",
       "      <td>...</td>\n",
       "      <td>...</td>\n",
       "      <td>...</td>\n",
       "      <td>...</td>\n",
       "      <td>...</td>\n",
       "      <td>...</td>\n",
       "      <td>...</td>\n",
       "      <td>...</td>\n",
       "      <td>...</td>\n",
       "      <td>...</td>\n",
       "      <td>...</td>\n",
       "      <td>...</td>\n",
       "    </tr>\n",
       "    <tr>\n",
       "      <th>354220</th>\n",
       "      <td>2016-03-14 23:53:14</td>\n",
       "      <td>2200</td>\n",
       "      <td>convertible</td>\n",
       "      <td>1988</td>\n",
       "      <td>manual</td>\n",
       "      <td>0</td>\n",
       "      <td>golf</td>\n",
       "      <td>150000</td>\n",
       "      <td>6</td>\n",
       "      <td>petrol</td>\n",
       "      <td>volkswagen</td>\n",
       "      <td>no</td>\n",
       "      <td>2016-03-14 00:00:00</td>\n",
       "      <td>4179</td>\n",
       "      <td>2016-03-17 23:46:44</td>\n",
       "    </tr>\n",
       "    <tr>\n",
       "      <th>354237</th>\n",
       "      <td>2016-03-17 13:38:56</td>\n",
       "      <td>2500</td>\n",
       "      <td>sedan</td>\n",
       "      <td>1988</td>\n",
       "      <td>auto</td>\n",
       "      <td>188</td>\n",
       "      <td>7er</td>\n",
       "      <td>150000</td>\n",
       "      <td>10</td>\n",
       "      <td>petrol</td>\n",
       "      <td>bmw</td>\n",
       "      <td>no</td>\n",
       "      <td>2016-03-17 00:00:00</td>\n",
       "      <td>67547</td>\n",
       "      <td>2016-03-31 21:44:25</td>\n",
       "    </tr>\n",
       "    <tr>\n",
       "      <th>354286</th>\n",
       "      <td>2016-03-21 20:44:38</td>\n",
       "      <td>16500</td>\n",
       "      <td>coupe</td>\n",
       "      <td>1973</td>\n",
       "      <td>manual</td>\n",
       "      <td>200</td>\n",
       "      <td>other</td>\n",
       "      <td>150000</td>\n",
       "      <td>6</td>\n",
       "      <td>petrol</td>\n",
       "      <td>bmw</td>\n",
       "      <td>yes</td>\n",
       "      <td>2016-03-21 00:00:00</td>\n",
       "      <td>74722</td>\n",
       "      <td>2016-04-06 19:16:32</td>\n",
       "    </tr>\n",
       "    <tr>\n",
       "      <th>354302</th>\n",
       "      <td>2016-03-12 08:37:15</td>\n",
       "      <td>5990</td>\n",
       "      <td>bus</td>\n",
       "      <td>1984</td>\n",
       "      <td>auto</td>\n",
       "      <td>0</td>\n",
       "      <td>other</td>\n",
       "      <td>70000</td>\n",
       "      <td>4</td>\n",
       "      <td>petrol</td>\n",
       "      <td>chevrolet</td>\n",
       "      <td>NaN</td>\n",
       "      <td>2016-03-12 00:00:00</td>\n",
       "      <td>87600</td>\n",
       "      <td>2016-03-24 23:47:48</td>\n",
       "    </tr>\n",
       "    <tr>\n",
       "      <th>354304</th>\n",
       "      <td>2016-03-05 16:44:46</td>\n",
       "      <td>850</td>\n",
       "      <td>sedan</td>\n",
       "      <td>1989</td>\n",
       "      <td>manual</td>\n",
       "      <td>113</td>\n",
       "      <td>80</td>\n",
       "      <td>150000</td>\n",
       "      <td>3</td>\n",
       "      <td>petrol</td>\n",
       "      <td>audi</td>\n",
       "      <td>yes</td>\n",
       "      <td>2016-03-05 00:00:00</td>\n",
       "      <td>9127</td>\n",
       "      <td>2016-03-16 05:17:34</td>\n",
       "    </tr>\n",
       "  </tbody>\n",
       "</table>\n",
       "<p>7998 rows × 15 columns</p>\n",
       "</div>"
      ],
      "text/plain": [
       "               date_crawled  price vehicle_type  registration_year gearbox  \\\n",
       "7       2016-03-21 18:54:38      0        sedan               1980  manual   \n",
       "28      2016-03-09 11:56:38   1990          bus               1981  manual   \n",
       "39      2016-03-25 15:50:30   1500          bus               1984  manual   \n",
       "91      2016-04-02 23:25:25   1222        sedan               1984    auto   \n",
       "145     2016-03-06 21:38:00    150          NaN               1985     NaN   \n",
       "...                     ...    ...          ...                ...     ...   \n",
       "354220  2016-03-14 23:53:14   2200  convertible               1988  manual   \n",
       "354237  2016-03-17 13:38:56   2500        sedan               1988    auto   \n",
       "354286  2016-03-21 20:44:38  16500        coupe               1973  manual   \n",
       "354302  2016-03-12 08:37:15   5990          bus               1984    auto   \n",
       "354304  2016-03-05 16:44:46    850        sedan               1989  manual   \n",
       "\n",
       "        power        model  kilometer  registration_month fuel_type  \\\n",
       "7          50        other      40000                   7    petrol   \n",
       "28         50  transporter       5000                   1    petrol   \n",
       "39         70        other     150000                   8  gasoline   \n",
       "91        180        other     150000                   3    petrol   \n",
       "145         0          100     150000                   4    petrol   \n",
       "...       ...          ...        ...                 ...       ...   \n",
       "354220      0         golf     150000                   6    petrol   \n",
       "354237    188          7er     150000                  10    petrol   \n",
       "354286    200        other     150000                   6    petrol   \n",
       "354302      0        other      70000                   4    petrol   \n",
       "354304    113           80     150000                   3    petrol   \n",
       "\n",
       "                brand not_repaired         date_created  postal_code  \\\n",
       "7          volkswagen           no  2016-03-21 00:00:00        19348   \n",
       "28         volkswagen           no  2016-03-09 00:00:00        87471   \n",
       "39      mercedes_benz           no  2016-03-25 00:00:00        22767   \n",
       "91               opel          NaN  2016-04-02 00:00:00        57290   \n",
       "145              audi          NaN  2016-03-06 00:00:00        87616   \n",
       "...               ...          ...                  ...          ...   \n",
       "354220     volkswagen           no  2016-03-14 00:00:00         4179   \n",
       "354237            bmw           no  2016-03-17 00:00:00        67547   \n",
       "354286            bmw          yes  2016-03-21 00:00:00        74722   \n",
       "354302      chevrolet          NaN  2016-03-12 00:00:00        87600   \n",
       "354304           audi          yes  2016-03-05 00:00:00         9127   \n",
       "\n",
       "                  last_seen  \n",
       "7       2016-03-25 16:47:58  \n",
       "28      2016-03-10 07:44:33  \n",
       "39      2016-03-27 03:17:02  \n",
       "91      2016-04-06 14:44:57  \n",
       "145     2016-04-07 02:16:59  \n",
       "...                     ...  \n",
       "354220  2016-03-17 23:46:44  \n",
       "354237  2016-03-31 21:44:25  \n",
       "354286  2016-04-06 19:16:32  \n",
       "354302  2016-03-24 23:47:48  \n",
       "354304  2016-03-16 05:17:34  \n",
       "\n",
       "[7998 rows x 15 columns]"
      ]
     },
     "execution_count": 33,
     "metadata": {},
     "output_type": "execute_result"
    }
   ],
   "source": [
    "df[(df['registration_year'] > 1970) & (df['registration_year'] < 1990)]"
   ]
  },
  {
   "cell_type": "markdown",
   "metadata": {},
   "source": [
    "Старые машины"
   ]
  },
  {
   "cell_type": "markdown",
   "metadata": {},
   "source": [
    " "
   ]
  },
  {
   "cell_type": "markdown",
   "metadata": {},
   "source": [
    "  "
   ]
  },
  {
   "cell_type": "code",
   "execution_count": 34,
   "metadata": {},
   "outputs": [
    {
     "data": {
      "text/html": [
       "<div>\n",
       "<style scoped>\n",
       "    .dataframe tbody tr th:only-of-type {\n",
       "        vertical-align: middle;\n",
       "    }\n",
       "\n",
       "    .dataframe tbody tr th {\n",
       "        vertical-align: top;\n",
       "    }\n",
       "\n",
       "    .dataframe thead th {\n",
       "        text-align: right;\n",
       "    }\n",
       "</style>\n",
       "<table border=\"1\" class=\"dataframe\">\n",
       "  <thead>\n",
       "    <tr style=\"text-align: right;\">\n",
       "      <th></th>\n",
       "      <th>date_crawled</th>\n",
       "      <th>price</th>\n",
       "      <th>vehicle_type</th>\n",
       "      <th>registration_year</th>\n",
       "      <th>gearbox</th>\n",
       "      <th>power</th>\n",
       "      <th>model</th>\n",
       "      <th>kilometer</th>\n",
       "      <th>registration_month</th>\n",
       "      <th>fuel_type</th>\n",
       "      <th>brand</th>\n",
       "      <th>not_repaired</th>\n",
       "      <th>date_created</th>\n",
       "      <th>postal_code</th>\n",
       "      <th>last_seen</th>\n",
       "    </tr>\n",
       "  </thead>\n",
       "  <tbody>\n",
       "    <tr>\n",
       "      <th>0</th>\n",
       "      <td>2016-03-24 11:52:17</td>\n",
       "      <td>480</td>\n",
       "      <td>NaN</td>\n",
       "      <td>1993</td>\n",
       "      <td>manual</td>\n",
       "      <td>0</td>\n",
       "      <td>golf</td>\n",
       "      <td>150000</td>\n",
       "      <td>0</td>\n",
       "      <td>petrol</td>\n",
       "      <td>volkswagen</td>\n",
       "      <td>NaN</td>\n",
       "      <td>2016-03-24 00:00:00</td>\n",
       "      <td>70435</td>\n",
       "      <td>2016-04-07 03:16:57</td>\n",
       "    </tr>\n",
       "    <tr>\n",
       "      <th>1</th>\n",
       "      <td>2016-03-24 10:58:45</td>\n",
       "      <td>18300</td>\n",
       "      <td>coupe</td>\n",
       "      <td>2011</td>\n",
       "      <td>manual</td>\n",
       "      <td>190</td>\n",
       "      <td>NaN</td>\n",
       "      <td>125000</td>\n",
       "      <td>5</td>\n",
       "      <td>gasoline</td>\n",
       "      <td>audi</td>\n",
       "      <td>yes</td>\n",
       "      <td>2016-03-24 00:00:00</td>\n",
       "      <td>66954</td>\n",
       "      <td>2016-04-07 01:46:50</td>\n",
       "    </tr>\n",
       "    <tr>\n",
       "      <th>2</th>\n",
       "      <td>2016-03-14 12:52:21</td>\n",
       "      <td>9800</td>\n",
       "      <td>suv</td>\n",
       "      <td>2004</td>\n",
       "      <td>auto</td>\n",
       "      <td>163</td>\n",
       "      <td>grand</td>\n",
       "      <td>125000</td>\n",
       "      <td>8</td>\n",
       "      <td>gasoline</td>\n",
       "      <td>jeep</td>\n",
       "      <td>NaN</td>\n",
       "      <td>2016-03-14 00:00:00</td>\n",
       "      <td>90480</td>\n",
       "      <td>2016-04-05 12:47:46</td>\n",
       "    </tr>\n",
       "    <tr>\n",
       "      <th>3</th>\n",
       "      <td>2016-03-17 16:54:04</td>\n",
       "      <td>1500</td>\n",
       "      <td>small</td>\n",
       "      <td>2001</td>\n",
       "      <td>manual</td>\n",
       "      <td>75</td>\n",
       "      <td>golf</td>\n",
       "      <td>150000</td>\n",
       "      <td>6</td>\n",
       "      <td>petrol</td>\n",
       "      <td>volkswagen</td>\n",
       "      <td>no</td>\n",
       "      <td>2016-03-17 00:00:00</td>\n",
       "      <td>91074</td>\n",
       "      <td>2016-03-17 17:40:17</td>\n",
       "    </tr>\n",
       "    <tr>\n",
       "      <th>4</th>\n",
       "      <td>2016-03-31 17:25:20</td>\n",
       "      <td>3600</td>\n",
       "      <td>small</td>\n",
       "      <td>2008</td>\n",
       "      <td>manual</td>\n",
       "      <td>69</td>\n",
       "      <td>fabia</td>\n",
       "      <td>90000</td>\n",
       "      <td>7</td>\n",
       "      <td>gasoline</td>\n",
       "      <td>skoda</td>\n",
       "      <td>no</td>\n",
       "      <td>2016-03-31 00:00:00</td>\n",
       "      <td>60437</td>\n",
       "      <td>2016-04-06 10:17:21</td>\n",
       "    </tr>\n",
       "    <tr>\n",
       "      <th>...</th>\n",
       "      <td>...</td>\n",
       "      <td>...</td>\n",
       "      <td>...</td>\n",
       "      <td>...</td>\n",
       "      <td>...</td>\n",
       "      <td>...</td>\n",
       "      <td>...</td>\n",
       "      <td>...</td>\n",
       "      <td>...</td>\n",
       "      <td>...</td>\n",
       "      <td>...</td>\n",
       "      <td>...</td>\n",
       "      <td>...</td>\n",
       "      <td>...</td>\n",
       "      <td>...</td>\n",
       "    </tr>\n",
       "    <tr>\n",
       "      <th>354364</th>\n",
       "      <td>2016-03-21 09:50:58</td>\n",
       "      <td>0</td>\n",
       "      <td>NaN</td>\n",
       "      <td>2005</td>\n",
       "      <td>manual</td>\n",
       "      <td>0</td>\n",
       "      <td>colt</td>\n",
       "      <td>150000</td>\n",
       "      <td>7</td>\n",
       "      <td>petrol</td>\n",
       "      <td>mitsubishi</td>\n",
       "      <td>yes</td>\n",
       "      <td>2016-03-21 00:00:00</td>\n",
       "      <td>2694</td>\n",
       "      <td>2016-03-21 10:42:49</td>\n",
       "    </tr>\n",
       "    <tr>\n",
       "      <th>354365</th>\n",
       "      <td>2016-03-14 17:48:27</td>\n",
       "      <td>2200</td>\n",
       "      <td>NaN</td>\n",
       "      <td>2005</td>\n",
       "      <td>NaN</td>\n",
       "      <td>0</td>\n",
       "      <td>NaN</td>\n",
       "      <td>20000</td>\n",
       "      <td>1</td>\n",
       "      <td>NaN</td>\n",
       "      <td>sonstige_autos</td>\n",
       "      <td>NaN</td>\n",
       "      <td>2016-03-14 00:00:00</td>\n",
       "      <td>39576</td>\n",
       "      <td>2016-04-06 00:46:52</td>\n",
       "    </tr>\n",
       "    <tr>\n",
       "      <th>354366</th>\n",
       "      <td>2016-03-05 19:56:21</td>\n",
       "      <td>1199</td>\n",
       "      <td>convertible</td>\n",
       "      <td>2000</td>\n",
       "      <td>auto</td>\n",
       "      <td>101</td>\n",
       "      <td>fortwo</td>\n",
       "      <td>125000</td>\n",
       "      <td>3</td>\n",
       "      <td>petrol</td>\n",
       "      <td>smart</td>\n",
       "      <td>no</td>\n",
       "      <td>2016-03-05 00:00:00</td>\n",
       "      <td>26135</td>\n",
       "      <td>2016-03-11 18:17:12</td>\n",
       "    </tr>\n",
       "    <tr>\n",
       "      <th>354367</th>\n",
       "      <td>2016-03-19 18:57:12</td>\n",
       "      <td>9200</td>\n",
       "      <td>bus</td>\n",
       "      <td>1996</td>\n",
       "      <td>manual</td>\n",
       "      <td>102</td>\n",
       "      <td>transporter</td>\n",
       "      <td>150000</td>\n",
       "      <td>3</td>\n",
       "      <td>gasoline</td>\n",
       "      <td>volkswagen</td>\n",
       "      <td>no</td>\n",
       "      <td>2016-03-19 00:00:00</td>\n",
       "      <td>87439</td>\n",
       "      <td>2016-04-07 07:15:26</td>\n",
       "    </tr>\n",
       "    <tr>\n",
       "      <th>354368</th>\n",
       "      <td>2016-03-20 19:41:08</td>\n",
       "      <td>3400</td>\n",
       "      <td>wagon</td>\n",
       "      <td>2002</td>\n",
       "      <td>manual</td>\n",
       "      <td>100</td>\n",
       "      <td>golf</td>\n",
       "      <td>150000</td>\n",
       "      <td>6</td>\n",
       "      <td>gasoline</td>\n",
       "      <td>volkswagen</td>\n",
       "      <td>NaN</td>\n",
       "      <td>2016-03-20 00:00:00</td>\n",
       "      <td>40764</td>\n",
       "      <td>2016-03-24 12:45:21</td>\n",
       "    </tr>\n",
       "  </tbody>\n",
       "</table>\n",
       "<p>330170 rows × 15 columns</p>\n",
       "</div>"
      ],
      "text/plain": [
       "               date_crawled  price vehicle_type  registration_year gearbox  \\\n",
       "0       2016-03-24 11:52:17    480          NaN               1993  manual   \n",
       "1       2016-03-24 10:58:45  18300        coupe               2011  manual   \n",
       "2       2016-03-14 12:52:21   9800          suv               2004    auto   \n",
       "3       2016-03-17 16:54:04   1500        small               2001  manual   \n",
       "4       2016-03-31 17:25:20   3600        small               2008  manual   \n",
       "...                     ...    ...          ...                ...     ...   \n",
       "354364  2016-03-21 09:50:58      0          NaN               2005  manual   \n",
       "354365  2016-03-14 17:48:27   2200          NaN               2005     NaN   \n",
       "354366  2016-03-05 19:56:21   1199  convertible               2000    auto   \n",
       "354367  2016-03-19 18:57:12   9200          bus               1996  manual   \n",
       "354368  2016-03-20 19:41:08   3400        wagon               2002  manual   \n",
       "\n",
       "        power        model  kilometer  registration_month fuel_type  \\\n",
       "0           0         golf     150000                   0    petrol   \n",
       "1         190          NaN     125000                   5  gasoline   \n",
       "2         163        grand     125000                   8  gasoline   \n",
       "3          75         golf     150000                   6    petrol   \n",
       "4          69        fabia      90000                   7  gasoline   \n",
       "...       ...          ...        ...                 ...       ...   \n",
       "354364      0         colt     150000                   7    petrol   \n",
       "354365      0          NaN      20000                   1       NaN   \n",
       "354366    101       fortwo     125000                   3    petrol   \n",
       "354367    102  transporter     150000                   3  gasoline   \n",
       "354368    100         golf     150000                   6  gasoline   \n",
       "\n",
       "                 brand not_repaired         date_created  postal_code  \\\n",
       "0           volkswagen          NaN  2016-03-24 00:00:00        70435   \n",
       "1                 audi          yes  2016-03-24 00:00:00        66954   \n",
       "2                 jeep          NaN  2016-03-14 00:00:00        90480   \n",
       "3           volkswagen           no  2016-03-17 00:00:00        91074   \n",
       "4                skoda           no  2016-03-31 00:00:00        60437   \n",
       "...                ...          ...                  ...          ...   \n",
       "354364      mitsubishi          yes  2016-03-21 00:00:00         2694   \n",
       "354365  sonstige_autos          NaN  2016-03-14 00:00:00        39576   \n",
       "354366           smart           no  2016-03-05 00:00:00        26135   \n",
       "354367      volkswagen           no  2016-03-19 00:00:00        87439   \n",
       "354368      volkswagen          NaN  2016-03-20 00:00:00        40764   \n",
       "\n",
       "                  last_seen  \n",
       "0       2016-04-07 03:16:57  \n",
       "1       2016-04-07 01:46:50  \n",
       "2       2016-04-05 12:47:46  \n",
       "3       2016-03-17 17:40:17  \n",
       "4       2016-04-06 10:17:21  \n",
       "...                     ...  \n",
       "354364  2016-03-21 10:42:49  \n",
       "354365  2016-04-06 00:46:52  \n",
       "354366  2016-03-11 18:17:12  \n",
       "354367  2016-04-07 07:15:26  \n",
       "354368  2016-03-24 12:45:21  \n",
       "\n",
       "[330170 rows x 15 columns]"
      ]
     },
     "execution_count": 34,
     "metadata": {},
     "output_type": "execute_result"
    }
   ],
   "source": [
    "df[df['registration_year'] >= 1990]"
   ]
  },
  {
   "cell_type": "markdown",
   "metadata": {},
   "source": [
    "современные машины"
   ]
  },
  {
   "cell_type": "code",
   "execution_count": 35,
   "metadata": {},
   "outputs": [],
   "source": [
    "def registration_year_id(registration_year):\n",
    "    \n",
    "    if registration_year <= 1941:\n",
    "        return 'древние'\n",
    "    \n",
    "    elif registration_year <= 1970:\n",
    "        return 'раритетные'\n",
    "    \n",
    "    elif registration_year < 1990:\n",
    "        return \"старые\"\n",
    "    \n",
    "    elif registration_year >= 1990:\n",
    "        return \"современные\""
   ]
  },
  {
   "cell_type": "code",
   "execution_count": 36,
   "metadata": {},
   "outputs": [],
   "source": [
    "df['registration_year_id']=df['registration_year'].apply(registration_year_id)"
   ]
  },
  {
   "cell_type": "code",
   "execution_count": 37,
   "metadata": {},
   "outputs": [
    {
     "data": {
      "text/html": [
       "<div>\n",
       "<style scoped>\n",
       "    .dataframe tbody tr th:only-of-type {\n",
       "        vertical-align: middle;\n",
       "    }\n",
       "\n",
       "    .dataframe tbody tr th {\n",
       "        vertical-align: top;\n",
       "    }\n",
       "\n",
       "    .dataframe thead th {\n",
       "        text-align: right;\n",
       "    }\n",
       "</style>\n",
       "<table border=\"1\" class=\"dataframe\">\n",
       "  <thead>\n",
       "    <tr style=\"text-align: right;\">\n",
       "      <th></th>\n",
       "      <th>date_crawled</th>\n",
       "      <th>price</th>\n",
       "      <th>vehicle_type</th>\n",
       "      <th>registration_year</th>\n",
       "      <th>gearbox</th>\n",
       "      <th>power</th>\n",
       "      <th>model</th>\n",
       "      <th>kilometer</th>\n",
       "      <th>registration_month</th>\n",
       "      <th>fuel_type</th>\n",
       "      <th>brand</th>\n",
       "      <th>not_repaired</th>\n",
       "      <th>date_created</th>\n",
       "      <th>postal_code</th>\n",
       "      <th>last_seen</th>\n",
       "      <th>registration_year_id</th>\n",
       "    </tr>\n",
       "  </thead>\n",
       "  <tbody>\n",
       "    <tr>\n",
       "      <th>0</th>\n",
       "      <td>2016-03-24 11:52:17</td>\n",
       "      <td>480</td>\n",
       "      <td>NaN</td>\n",
       "      <td>1993</td>\n",
       "      <td>manual</td>\n",
       "      <td>0</td>\n",
       "      <td>golf</td>\n",
       "      <td>150000</td>\n",
       "      <td>0</td>\n",
       "      <td>petrol</td>\n",
       "      <td>volkswagen</td>\n",
       "      <td>NaN</td>\n",
       "      <td>2016-03-24 00:00:00</td>\n",
       "      <td>70435</td>\n",
       "      <td>2016-04-07 03:16:57</td>\n",
       "      <td>современные</td>\n",
       "    </tr>\n",
       "    <tr>\n",
       "      <th>1</th>\n",
       "      <td>2016-03-24 10:58:45</td>\n",
       "      <td>18300</td>\n",
       "      <td>coupe</td>\n",
       "      <td>2011</td>\n",
       "      <td>manual</td>\n",
       "      <td>190</td>\n",
       "      <td>NaN</td>\n",
       "      <td>125000</td>\n",
       "      <td>5</td>\n",
       "      <td>gasoline</td>\n",
       "      <td>audi</td>\n",
       "      <td>yes</td>\n",
       "      <td>2016-03-24 00:00:00</td>\n",
       "      <td>66954</td>\n",
       "      <td>2016-04-07 01:46:50</td>\n",
       "      <td>современные</td>\n",
       "    </tr>\n",
       "    <tr>\n",
       "      <th>2</th>\n",
       "      <td>2016-03-14 12:52:21</td>\n",
       "      <td>9800</td>\n",
       "      <td>suv</td>\n",
       "      <td>2004</td>\n",
       "      <td>auto</td>\n",
       "      <td>163</td>\n",
       "      <td>grand</td>\n",
       "      <td>125000</td>\n",
       "      <td>8</td>\n",
       "      <td>gasoline</td>\n",
       "      <td>jeep</td>\n",
       "      <td>NaN</td>\n",
       "      <td>2016-03-14 00:00:00</td>\n",
       "      <td>90480</td>\n",
       "      <td>2016-04-05 12:47:46</td>\n",
       "      <td>современные</td>\n",
       "    </tr>\n",
       "    <tr>\n",
       "      <th>3</th>\n",
       "      <td>2016-03-17 16:54:04</td>\n",
       "      <td>1500</td>\n",
       "      <td>small</td>\n",
       "      <td>2001</td>\n",
       "      <td>manual</td>\n",
       "      <td>75</td>\n",
       "      <td>golf</td>\n",
       "      <td>150000</td>\n",
       "      <td>6</td>\n",
       "      <td>petrol</td>\n",
       "      <td>volkswagen</td>\n",
       "      <td>no</td>\n",
       "      <td>2016-03-17 00:00:00</td>\n",
       "      <td>91074</td>\n",
       "      <td>2016-03-17 17:40:17</td>\n",
       "      <td>современные</td>\n",
       "    </tr>\n",
       "    <tr>\n",
       "      <th>4</th>\n",
       "      <td>2016-03-31 17:25:20</td>\n",
       "      <td>3600</td>\n",
       "      <td>small</td>\n",
       "      <td>2008</td>\n",
       "      <td>manual</td>\n",
       "      <td>69</td>\n",
       "      <td>fabia</td>\n",
       "      <td>90000</td>\n",
       "      <td>7</td>\n",
       "      <td>gasoline</td>\n",
       "      <td>skoda</td>\n",
       "      <td>no</td>\n",
       "      <td>2016-03-31 00:00:00</td>\n",
       "      <td>60437</td>\n",
       "      <td>2016-04-06 10:17:21</td>\n",
       "      <td>современные</td>\n",
       "    </tr>\n",
       "    <tr>\n",
       "      <th>...</th>\n",
       "      <td>...</td>\n",
       "      <td>...</td>\n",
       "      <td>...</td>\n",
       "      <td>...</td>\n",
       "      <td>...</td>\n",
       "      <td>...</td>\n",
       "      <td>...</td>\n",
       "      <td>...</td>\n",
       "      <td>...</td>\n",
       "      <td>...</td>\n",
       "      <td>...</td>\n",
       "      <td>...</td>\n",
       "      <td>...</td>\n",
       "      <td>...</td>\n",
       "      <td>...</td>\n",
       "      <td>...</td>\n",
       "    </tr>\n",
       "    <tr>\n",
       "      <th>354364</th>\n",
       "      <td>2016-03-21 09:50:58</td>\n",
       "      <td>0</td>\n",
       "      <td>NaN</td>\n",
       "      <td>2005</td>\n",
       "      <td>manual</td>\n",
       "      <td>0</td>\n",
       "      <td>colt</td>\n",
       "      <td>150000</td>\n",
       "      <td>7</td>\n",
       "      <td>petrol</td>\n",
       "      <td>mitsubishi</td>\n",
       "      <td>yes</td>\n",
       "      <td>2016-03-21 00:00:00</td>\n",
       "      <td>2694</td>\n",
       "      <td>2016-03-21 10:42:49</td>\n",
       "      <td>современные</td>\n",
       "    </tr>\n",
       "    <tr>\n",
       "      <th>354365</th>\n",
       "      <td>2016-03-14 17:48:27</td>\n",
       "      <td>2200</td>\n",
       "      <td>NaN</td>\n",
       "      <td>2005</td>\n",
       "      <td>NaN</td>\n",
       "      <td>0</td>\n",
       "      <td>NaN</td>\n",
       "      <td>20000</td>\n",
       "      <td>1</td>\n",
       "      <td>NaN</td>\n",
       "      <td>sonstige_autos</td>\n",
       "      <td>NaN</td>\n",
       "      <td>2016-03-14 00:00:00</td>\n",
       "      <td>39576</td>\n",
       "      <td>2016-04-06 00:46:52</td>\n",
       "      <td>современные</td>\n",
       "    </tr>\n",
       "    <tr>\n",
       "      <th>354366</th>\n",
       "      <td>2016-03-05 19:56:21</td>\n",
       "      <td>1199</td>\n",
       "      <td>convertible</td>\n",
       "      <td>2000</td>\n",
       "      <td>auto</td>\n",
       "      <td>101</td>\n",
       "      <td>fortwo</td>\n",
       "      <td>125000</td>\n",
       "      <td>3</td>\n",
       "      <td>petrol</td>\n",
       "      <td>smart</td>\n",
       "      <td>no</td>\n",
       "      <td>2016-03-05 00:00:00</td>\n",
       "      <td>26135</td>\n",
       "      <td>2016-03-11 18:17:12</td>\n",
       "      <td>современные</td>\n",
       "    </tr>\n",
       "    <tr>\n",
       "      <th>354367</th>\n",
       "      <td>2016-03-19 18:57:12</td>\n",
       "      <td>9200</td>\n",
       "      <td>bus</td>\n",
       "      <td>1996</td>\n",
       "      <td>manual</td>\n",
       "      <td>102</td>\n",
       "      <td>transporter</td>\n",
       "      <td>150000</td>\n",
       "      <td>3</td>\n",
       "      <td>gasoline</td>\n",
       "      <td>volkswagen</td>\n",
       "      <td>no</td>\n",
       "      <td>2016-03-19 00:00:00</td>\n",
       "      <td>87439</td>\n",
       "      <td>2016-04-07 07:15:26</td>\n",
       "      <td>современные</td>\n",
       "    </tr>\n",
       "    <tr>\n",
       "      <th>354368</th>\n",
       "      <td>2016-03-20 19:41:08</td>\n",
       "      <td>3400</td>\n",
       "      <td>wagon</td>\n",
       "      <td>2002</td>\n",
       "      <td>manual</td>\n",
       "      <td>100</td>\n",
       "      <td>golf</td>\n",
       "      <td>150000</td>\n",
       "      <td>6</td>\n",
       "      <td>gasoline</td>\n",
       "      <td>volkswagen</td>\n",
       "      <td>NaN</td>\n",
       "      <td>2016-03-20 00:00:00</td>\n",
       "      <td>40764</td>\n",
       "      <td>2016-03-24 12:45:21</td>\n",
       "      <td>современные</td>\n",
       "    </tr>\n",
       "  </tbody>\n",
       "</table>\n",
       "<p>339670 rows × 16 columns</p>\n",
       "</div>"
      ],
      "text/plain": [
       "               date_crawled  price vehicle_type  registration_year gearbox  \\\n",
       "0       2016-03-24 11:52:17    480          NaN               1993  manual   \n",
       "1       2016-03-24 10:58:45  18300        coupe               2011  manual   \n",
       "2       2016-03-14 12:52:21   9800          suv               2004    auto   \n",
       "3       2016-03-17 16:54:04   1500        small               2001  manual   \n",
       "4       2016-03-31 17:25:20   3600        small               2008  manual   \n",
       "...                     ...    ...          ...                ...     ...   \n",
       "354364  2016-03-21 09:50:58      0          NaN               2005  manual   \n",
       "354365  2016-03-14 17:48:27   2200          NaN               2005     NaN   \n",
       "354366  2016-03-05 19:56:21   1199  convertible               2000    auto   \n",
       "354367  2016-03-19 18:57:12   9200          bus               1996  manual   \n",
       "354368  2016-03-20 19:41:08   3400        wagon               2002  manual   \n",
       "\n",
       "        power        model  kilometer  registration_month fuel_type  \\\n",
       "0           0         golf     150000                   0    petrol   \n",
       "1         190          NaN     125000                   5  gasoline   \n",
       "2         163        grand     125000                   8  gasoline   \n",
       "3          75         golf     150000                   6    petrol   \n",
       "4          69        fabia      90000                   7  gasoline   \n",
       "...       ...          ...        ...                 ...       ...   \n",
       "354364      0         colt     150000                   7    petrol   \n",
       "354365      0          NaN      20000                   1       NaN   \n",
       "354366    101       fortwo     125000                   3    petrol   \n",
       "354367    102  transporter     150000                   3  gasoline   \n",
       "354368    100         golf     150000                   6  gasoline   \n",
       "\n",
       "                 brand not_repaired         date_created  postal_code  \\\n",
       "0           volkswagen          NaN  2016-03-24 00:00:00        70435   \n",
       "1                 audi          yes  2016-03-24 00:00:00        66954   \n",
       "2                 jeep          NaN  2016-03-14 00:00:00        90480   \n",
       "3           volkswagen           no  2016-03-17 00:00:00        91074   \n",
       "4                skoda           no  2016-03-31 00:00:00        60437   \n",
       "...                ...          ...                  ...          ...   \n",
       "354364      mitsubishi          yes  2016-03-21 00:00:00         2694   \n",
       "354365  sonstige_autos          NaN  2016-03-14 00:00:00        39576   \n",
       "354366           smart           no  2016-03-05 00:00:00        26135   \n",
       "354367      volkswagen           no  2016-03-19 00:00:00        87439   \n",
       "354368      volkswagen          NaN  2016-03-20 00:00:00        40764   \n",
       "\n",
       "                  last_seen registration_year_id  \n",
       "0       2016-04-07 03:16:57          современные  \n",
       "1       2016-04-07 01:46:50          современные  \n",
       "2       2016-04-05 12:47:46          современные  \n",
       "3       2016-03-17 17:40:17          современные  \n",
       "4       2016-04-06 10:17:21          современные  \n",
       "...                     ...                  ...  \n",
       "354364  2016-03-21 10:42:49          современные  \n",
       "354365  2016-04-06 00:46:52          современные  \n",
       "354366  2016-03-11 18:17:12          современные  \n",
       "354367  2016-04-07 07:15:26          современные  \n",
       "354368  2016-03-24 12:45:21          современные  \n",
       "\n",
       "[339670 rows x 16 columns]"
      ]
     },
     "execution_count": 37,
     "metadata": {},
     "output_type": "execute_result"
    }
   ],
   "source": [
    "df"
   ]
  },
  {
   "cell_type": "markdown",
   "metadata": {},
   "source": [
    " "
   ]
  },
  {
   "cell_type": "markdown",
   "metadata": {},
   "source": [
    "#### Посмотрим на бренды авто"
   ]
  },
  {
   "cell_type": "code",
   "execution_count": 38,
   "metadata": {},
   "outputs": [
    {
     "data": {
      "text/plain": [
       "volkswagen        73169\n",
       "opel              37992\n",
       "bmw               35796\n",
       "mercedes_benz     31002\n",
       "audi              28472\n",
       "ford              24164\n",
       "renault           16925\n",
       "peugeot           10623\n",
       "fiat               9156\n",
       "seat               6535\n",
       "mazda              5397\n",
       "skoda              5358\n",
       "smart              5029\n",
       "citroen            4915\n",
       "nissan             4747\n",
       "toyota             4459\n",
       "hyundai            3446\n",
       "sonstige_autos     3160\n",
       "volvo              3142\n",
       "mini               3094\n",
       "mitsubishi         2909\n",
       "honda              2688\n",
       "kia                2364\n",
       "suzuki             2249\n",
       "alfa_romeo         2232\n",
       "chevrolet          1703\n",
       "chrysler           1393\n",
       "dacia               874\n",
       "daihatsu            780\n",
       "porsche             747\n",
       "subaru              740\n",
       "jeep                651\n",
       "trabant             570\n",
       "land_rover          537\n",
       "saab                514\n",
       "daewoo              513\n",
       "jaguar              500\n",
       "rover               459\n",
       "lancia              448\n",
       "lada                218\n",
       "Name: brand, dtype: int64"
      ]
     },
     "execution_count": 38,
     "metadata": {},
     "output_type": "execute_result"
    }
   ],
   "source": [
    "df['brand'].value_counts()"
   ]
  },
  {
   "cell_type": "markdown",
   "metadata": {},
   "source": [
    "первая пятерка - немецкие производители"
   ]
  },
  {
   "cell_type": "markdown",
   "metadata": {},
   "source": [
    " "
   ]
  },
  {
   "cell_type": "code",
   "execution_count": 39,
   "metadata": {},
   "outputs": [],
   "source": [
    "platform_table_brand_count_model = df.groupby(['brand', 'model'])\\\n",
    "                                     .aggregate({'model':'count'})\\\n",
    "                                     .rename(columns={'model':\"count_model\"})\\\n",
    "                                     .sort_values('count_model')\n",
    "platform_table_brand_count_model_top20 = platform_table_brand_count_model.head(20)\n",
    "platform_table_brand_count_model_tail20 = platform_table_brand_count_model.tail(20)"
   ]
  },
  {
   "cell_type": "markdown",
   "metadata": {},
   "source": [
    " "
   ]
  },
  {
   "cell_type": "markdown",
   "metadata": {},
   "source": [
    "Посмотрим на редкие марки автомобилей"
   ]
  },
  {
   "cell_type": "code",
   "execution_count": 40,
   "metadata": {},
   "outputs": [
    {
     "data": {
      "text/html": [
       "<div>\n",
       "<style scoped>\n",
       "    .dataframe tbody tr th:only-of-type {\n",
       "        vertical-align: middle;\n",
       "    }\n",
       "\n",
       "    .dataframe tbody tr th {\n",
       "        vertical-align: top;\n",
       "    }\n",
       "\n",
       "    .dataframe thead th {\n",
       "        text-align: right;\n",
       "    }\n",
       "</style>\n",
       "<table border=\"1\" class=\"dataframe\">\n",
       "  <thead>\n",
       "    <tr style=\"text-align: right;\">\n",
       "      <th></th>\n",
       "      <th></th>\n",
       "      <th>count_model</th>\n",
       "    </tr>\n",
       "    <tr>\n",
       "      <th>brand</th>\n",
       "      <th>model</th>\n",
       "      <th></th>\n",
       "    </tr>\n",
       "  </thead>\n",
       "  <tbody>\n",
       "    <tr>\n",
       "      <th rowspan=\"2\" valign=\"top\">rover</th>\n",
       "      <th>defender</th>\n",
       "      <td>1</td>\n",
       "    </tr>\n",
       "    <tr>\n",
       "      <th>discovery</th>\n",
       "      <td>2</td>\n",
       "    </tr>\n",
       "    <tr>\n",
       "      <th rowspan=\"2\" valign=\"top\">land_rover</th>\n",
       "      <th>range_rover_evoque</th>\n",
       "      <td>2</td>\n",
       "    </tr>\n",
       "    <tr>\n",
       "      <th>serie_1</th>\n",
       "      <td>2</td>\n",
       "    </tr>\n",
       "    <tr>\n",
       "      <th rowspan=\"2\" valign=\"top\">rover</th>\n",
       "      <th>rangerover</th>\n",
       "      <td>3</td>\n",
       "    </tr>\n",
       "    <tr>\n",
       "      <th>freelander</th>\n",
       "      <td>3</td>\n",
       "    </tr>\n",
       "    <tr>\n",
       "      <th>land_rover</th>\n",
       "      <th>serie_3</th>\n",
       "      <td>4</td>\n",
       "    </tr>\n",
       "    <tr>\n",
       "      <th>lada</th>\n",
       "      <th>kalina</th>\n",
       "      <td>6</td>\n",
       "    </tr>\n",
       "    <tr>\n",
       "      <th>land_rover</th>\n",
       "      <th>serie_2</th>\n",
       "      <td>7</td>\n",
       "    </tr>\n",
       "    <tr>\n",
       "      <th>lancia</th>\n",
       "      <th>elefantino</th>\n",
       "      <td>8</td>\n",
       "    </tr>\n",
       "    <tr>\n",
       "      <th>bmw</th>\n",
       "      <th>i3</th>\n",
       "      <td>8</td>\n",
       "    </tr>\n",
       "    <tr>\n",
       "      <th>mercedes_benz</th>\n",
       "      <th>gl</th>\n",
       "      <td>12</td>\n",
       "    </tr>\n",
       "    <tr>\n",
       "      <th>lada</th>\n",
       "      <th>samara</th>\n",
       "      <td>13</td>\n",
       "    </tr>\n",
       "    <tr>\n",
       "      <th>lancia</th>\n",
       "      <th>kappa</th>\n",
       "      <td>15</td>\n",
       "    </tr>\n",
       "    <tr>\n",
       "      <th>volkswagen</th>\n",
       "      <th>amarok</th>\n",
       "      <td>15</td>\n",
       "    </tr>\n",
       "    <tr>\n",
       "      <th>audi</th>\n",
       "      <th>q3</th>\n",
       "      <td>15</td>\n",
       "    </tr>\n",
       "    <tr>\n",
       "      <th>daihatsu</th>\n",
       "      <th>materia</th>\n",
       "      <td>18</td>\n",
       "    </tr>\n",
       "    <tr>\n",
       "      <th>land_rover</th>\n",
       "      <th>other</th>\n",
       "      <td>18</td>\n",
       "    </tr>\n",
       "    <tr>\n",
       "      <th>audi</th>\n",
       "      <th>200</th>\n",
       "      <td>18</td>\n",
       "    </tr>\n",
       "    <tr>\n",
       "      <th>lancia</th>\n",
       "      <th>musa</th>\n",
       "      <td>22</td>\n",
       "    </tr>\n",
       "  </tbody>\n",
       "</table>\n",
       "</div>"
      ],
      "text/plain": [
       "                                  count_model\n",
       "brand         model                          \n",
       "rover         defender                      1\n",
       "              discovery                     2\n",
       "land_rover    range_rover_evoque            2\n",
       "              serie_1                       2\n",
       "rover         rangerover                    3\n",
       "              freelander                    3\n",
       "land_rover    serie_3                       4\n",
       "lada          kalina                        6\n",
       "land_rover    serie_2                       7\n",
       "lancia        elefantino                    8\n",
       "bmw           i3                            8\n",
       "mercedes_benz gl                           12\n",
       "lada          samara                       13\n",
       "lancia        kappa                        15\n",
       "volkswagen    amarok                       15\n",
       "audi          q3                           15\n",
       "daihatsu      materia                      18\n",
       "land_rover    other                        18\n",
       "audi          200                          18\n",
       "lancia        musa                         22"
      ]
     },
     "execution_count": 40,
     "metadata": {},
     "output_type": "execute_result"
    }
   ],
   "source": [
    "platform_table_brand_count_model_top20"
   ]
  },
  {
   "cell_type": "markdown",
   "metadata": {},
   "source": [
    " "
   ]
  },
  {
   "cell_type": "markdown",
   "metadata": {},
   "source": [
    " "
   ]
  },
  {
   "cell_type": "markdown",
   "metadata": {},
   "source": [
    "Посмотрим на частые марки автомобилей в нашей выборке"
   ]
  },
  {
   "cell_type": "code",
   "execution_count": 41,
   "metadata": {},
   "outputs": [
    {
     "data": {
      "text/html": [
       "<div>\n",
       "<style scoped>\n",
       "    .dataframe tbody tr th:only-of-type {\n",
       "        vertical-align: middle;\n",
       "    }\n",
       "\n",
       "    .dataframe tbody tr th {\n",
       "        vertical-align: top;\n",
       "    }\n",
       "\n",
       "    .dataframe thead th {\n",
       "        text-align: right;\n",
       "    }\n",
       "</style>\n",
       "<table border=\"1\" class=\"dataframe\">\n",
       "  <thead>\n",
       "    <tr style=\"text-align: right;\">\n",
       "      <th></th>\n",
       "      <th></th>\n",
       "      <th>count_model</th>\n",
       "    </tr>\n",
       "    <tr>\n",
       "      <th>brand</th>\n",
       "      <th>model</th>\n",
       "      <th></th>\n",
       "    </tr>\n",
       "  </thead>\n",
       "  <tbody>\n",
       "    <tr>\n",
       "      <th>mercedes_benz</th>\n",
       "      <th>a_klasse</th>\n",
       "      <td>3919</td>\n",
       "    </tr>\n",
       "    <tr>\n",
       "      <th>opel</th>\n",
       "      <th>vectra</th>\n",
       "      <td>4097</td>\n",
       "    </tr>\n",
       "    <tr>\n",
       "      <th>smart</th>\n",
       "      <th>fortwo</th>\n",
       "      <td>4189</td>\n",
       "    </tr>\n",
       "    <tr>\n",
       "      <th>renault</th>\n",
       "      <th>twingo</th>\n",
       "      <td>4645</td>\n",
       "    </tr>\n",
       "    <tr>\n",
       "      <th>volkswagen</th>\n",
       "      <th>transporter</th>\n",
       "      <td>4665</td>\n",
       "    </tr>\n",
       "    <tr>\n",
       "      <th>peugeot</th>\n",
       "      <th>2_reihe</th>\n",
       "      <td>4699</td>\n",
       "    </tr>\n",
       "    <tr>\n",
       "      <th>audi</th>\n",
       "      <th>a6</th>\n",
       "      <td>5425</td>\n",
       "    </tr>\n",
       "    <tr>\n",
       "      <th rowspan=\"2\" valign=\"top\">ford</th>\n",
       "      <th>fiesta</th>\n",
       "      <td>5550</td>\n",
       "    </tr>\n",
       "    <tr>\n",
       "      <th>focus</th>\n",
       "      <td>5631</td>\n",
       "    </tr>\n",
       "    <tr>\n",
       "      <th>audi</th>\n",
       "      <th>a3</th>\n",
       "      <td>5761</td>\n",
       "    </tr>\n",
       "    <tr>\n",
       "      <th>mercedes_benz</th>\n",
       "      <th>e_klasse</th>\n",
       "      <td>6638</td>\n",
       "    </tr>\n",
       "    <tr>\n",
       "      <th>bmw</th>\n",
       "      <th>5er</th>\n",
       "      <td>7721</td>\n",
       "    </tr>\n",
       "    <tr>\n",
       "      <th>mercedes_benz</th>\n",
       "      <th>c_klasse</th>\n",
       "      <td>8113</td>\n",
       "    </tr>\n",
       "    <tr>\n",
       "      <th>audi</th>\n",
       "      <th>a4</th>\n",
       "      <td>9695</td>\n",
       "    </tr>\n",
       "    <tr>\n",
       "      <th>volkswagen</th>\n",
       "      <th>passat</th>\n",
       "      <td>9842</td>\n",
       "    </tr>\n",
       "    <tr>\n",
       "      <th rowspan=\"2\" valign=\"top\">opel</th>\n",
       "      <th>astra</th>\n",
       "      <td>10336</td>\n",
       "    </tr>\n",
       "    <tr>\n",
       "      <th>corsa</th>\n",
       "      <td>11936</td>\n",
       "    </tr>\n",
       "    <tr>\n",
       "      <th>volkswagen</th>\n",
       "      <th>polo</th>\n",
       "      <td>12450</td>\n",
       "    </tr>\n",
       "    <tr>\n",
       "      <th>bmw</th>\n",
       "      <th>3er</th>\n",
       "      <td>19223</td>\n",
       "    </tr>\n",
       "    <tr>\n",
       "      <th>volkswagen</th>\n",
       "      <th>golf</th>\n",
       "      <td>27610</td>\n",
       "    </tr>\n",
       "  </tbody>\n",
       "</table>\n",
       "</div>"
      ],
      "text/plain": [
       "                           count_model\n",
       "brand         model                   \n",
       "mercedes_benz a_klasse            3919\n",
       "opel          vectra              4097\n",
       "smart         fortwo              4189\n",
       "renault       twingo              4645\n",
       "volkswagen    transporter         4665\n",
       "peugeot       2_reihe             4699\n",
       "audi          a6                  5425\n",
       "ford          fiesta              5550\n",
       "              focus               5631\n",
       "audi          a3                  5761\n",
       "mercedes_benz e_klasse            6638\n",
       "bmw           5er                 7721\n",
       "mercedes_benz c_klasse            8113\n",
       "audi          a4                  9695\n",
       "volkswagen    passat              9842\n",
       "opel          astra              10336\n",
       "              corsa              11936\n",
       "volkswagen    polo               12450\n",
       "bmw           3er                19223\n",
       "volkswagen    golf               27610"
      ]
     },
     "execution_count": 41,
     "metadata": {},
     "output_type": "execute_result"
    }
   ],
   "source": [
    "platform_table_brand_count_model_tail20"
   ]
  },
  {
   "cell_type": "code",
   "execution_count": 42,
   "metadata": {},
   "outputs": [
    {
     "data": {
      "text/plain": [
       "<Figure size 432x288 with 0 Axes>"
      ]
     },
     "metadata": {},
     "output_type": "display_data"
    },
    {
     "data": {
      "image/png": "[encoded data removed]",
      "text/plain": [
       "<Figure size 1008x720 with 1 Axes>"
      ]
     },
     "metadata": {
      "needs_background": "light"
     },
     "output_type": "display_data"
    },
    {
     "data": {
      "text/plain": [
       "<Figure size 432x288 with 0 Axes>"
      ]
     },
     "metadata": {},
     "output_type": "display_data"
    },
    {
     "data": {
      "image/png": "[encoded data removed]",
      "text/plain": [
       "<Figure size 1008x720 with 1 Axes>"
      ]
     },
     "metadata": {
      "needs_background": "light"
     },
     "output_type": "display_data"
    }
   ],
   "source": [
    "# посмотрим на топ \n",
    "plt.figure()\n",
    "platform_table_brand_count_model_top20.plot(figsize=(14,10),kind = 'bar', title = 'Часто встречающиеся марки авто')\n",
    "plt.xlabel('марки + модели')\n",
    "plt.ylabel('колличество штук')\n",
    "plt.show();\n",
    "\n",
    "# посмотрим на \n",
    "plt.figure()\n",
    "platform_table_brand_count_model_tail20.plot(figsize=(14,10),kind = 'bar', title = 'Редко встречающиеся марки авто')\n",
    "plt.xlabel('марки + модели')\n",
    "plt.ylabel('годы выхода')\n",
    "plt.show();"
   ]
  },
  {
   "cell_type": "markdown",
   "metadata": {},
   "source": [
    " "
   ]
  },
  {
   "cell_type": "markdown",
   "metadata": {},
   "source": [
    "Посмотрим в целом по брендам каких авто больше, каких меньше"
   ]
  },
  {
   "cell_type": "code",
   "execution_count": 43,
   "metadata": {},
   "outputs": [],
   "source": [
    "platform_table_brand=df.pivot_table(index=['brand'], values='model', aggfunc='count').sort_values(['model'], ascending = False)"
   ]
  },
  {
   "cell_type": "markdown",
   "metadata": {},
   "source": [
    " "
   ]
  },
  {
   "cell_type": "code",
   "execution_count": 44,
   "metadata": {},
   "outputs": [
    {
     "data": {
      "text/plain": [
       "<Figure size 432x288 with 0 Axes>"
      ]
     },
     "metadata": {},
     "output_type": "display_data"
    },
    {
     "data": {
      "image/png": "[encoded data removed]",
      "text/plain": [
       "<Figure size 720x504 with 1 Axes>"
      ]
     },
     "metadata": {
      "needs_background": "light"
     },
     "output_type": "display_data"
    },
    {
     "data": {
      "text/plain": [
       "<Figure size 432x288 with 0 Axes>"
      ]
     },
     "metadata": {},
     "output_type": "display_data"
    },
    {
     "data": {
      "image/png": "[encoded data removed]",
      "text/plain": [
       "<Figure size 504x504 with 1 Axes>"
      ]
     },
     "metadata": {
      "needs_background": "light"
     },
     "output_type": "display_data"
    }
   ],
   "source": [
    "plt.figure()\n",
    "platform_table_brand.head(10).plot(figsize=(10,7),kind = 'bar', title = 'Часто встречающиеся бренды авто')\n",
    "plt.xlabel('бренды')\n",
    "plt.ylabel('кол-во')\n",
    "plt.show()\n",
    "\n",
    "plt.figure()\n",
    "platform_table_brand.tail(10).plot(figsize=(7,7),kind = 'bar', title = 'Редко встречающиеся бренды авто')\n",
    "plt.xlabel('бренды')\n",
    "plt.ylabel('кол-во')\n",
    "plt.show()"
   ]
  },
  {
   "cell_type": "markdown",
   "metadata": {},
   "source": [
    " "
   ]
  },
  {
   "cell_type": "markdown",
   "metadata": {},
   "source": [
    " "
   ]
  },
  {
   "cell_type": "markdown",
   "metadata": {},
   "source": [
    "Поисследуем модели"
   ]
  },
  {
   "cell_type": "code",
   "execution_count": 45,
   "metadata": {},
   "outputs": [
    {
     "data": {
      "text/plain": [
       "golf                  27610\n",
       "other                 23863\n",
       "3er                   19223\n",
       "polo                  12450\n",
       "corsa                 11936\n",
       "                      ...  \n",
       "kalina                    6\n",
       "serie_3                   4\n",
       "rangerover                3\n",
       "range_rover_evoque        2\n",
       "serie_1                   2\n",
       "Name: model, Length: 250, dtype: int64"
      ]
     },
     "execution_count": 45,
     "metadata": {},
     "output_type": "execute_result"
    }
   ],
   "source": [
    "df['model'].value_counts()"
   ]
  },
  {
   "cell_type": "code",
   "execution_count": 46,
   "metadata": {},
   "outputs": [
    {
     "data": {
      "image/png": "[encoded data removed]",
      "text/plain": [
       "<Figure size 2448x1944 with 1 Axes>"
      ]
     },
     "metadata": {
      "needs_background": "light"
     },
     "output_type": "display_data"
    }
   ],
   "source": [
    "plt.figure()\n",
    "df['model'].value_counts().plot(figsize=(34,27),kind = 'bar', title = 'Распределение моделей авто ')\n",
    "plt.xlabel('МАРКИ АВТО')\n",
    "plt.ylabel('КОЛЛИЧЕСТВО')\n",
    "plt.show()"
   ]
  },
  {
   "cell_type": "markdown",
   "metadata": {},
   "source": [
    "немецкий автопром впереди планеты всей"
   ]
  },
  {
   "cell_type": "markdown",
   "metadata": {},
   "source": [
    "#### Исследуем на дубликаты"
   ]
  },
  {
   "cell_type": "code",
   "execution_count": 47,
   "metadata": {},
   "outputs": [
    {
     "data": {
      "text/plain": [
       "4"
      ]
     },
     "execution_count": 47,
     "metadata": {},
     "output_type": "execute_result"
    }
   ],
   "source": [
    "df.duplicated().sum()"
   ]
  },
  {
   "cell_type": "code",
   "execution_count": 48,
   "metadata": {},
   "outputs": [
    {
     "data": {
      "text/html": [
       "<div>\n",
       "<style scoped>\n",
       "    .dataframe tbody tr th:only-of-type {\n",
       "        vertical-align: middle;\n",
       "    }\n",
       "\n",
       "    .dataframe tbody tr th {\n",
       "        vertical-align: top;\n",
       "    }\n",
       "\n",
       "    .dataframe thead th {\n",
       "        text-align: right;\n",
       "    }\n",
       "</style>\n",
       "<table border=\"1\" class=\"dataframe\">\n",
       "  <thead>\n",
       "    <tr style=\"text-align: right;\">\n",
       "      <th></th>\n",
       "      <th>date_crawled</th>\n",
       "      <th>price</th>\n",
       "      <th>vehicle_type</th>\n",
       "      <th>registration_year</th>\n",
       "      <th>gearbox</th>\n",
       "      <th>power</th>\n",
       "      <th>model</th>\n",
       "      <th>kilometer</th>\n",
       "      <th>registration_month</th>\n",
       "      <th>fuel_type</th>\n",
       "      <th>brand</th>\n",
       "      <th>not_repaired</th>\n",
       "      <th>date_created</th>\n",
       "      <th>postal_code</th>\n",
       "      <th>last_seen</th>\n",
       "      <th>registration_year_id</th>\n",
       "    </tr>\n",
       "  </thead>\n",
       "  <tbody>\n",
       "    <tr>\n",
       "      <th>0</th>\n",
       "      <td>2016-03-24 11:52:17</td>\n",
       "      <td>480</td>\n",
       "      <td>NaN</td>\n",
       "      <td>1993</td>\n",
       "      <td>manual</td>\n",
       "      <td>0</td>\n",
       "      <td>golf</td>\n",
       "      <td>150000</td>\n",
       "      <td>0</td>\n",
       "      <td>petrol</td>\n",
       "      <td>volkswagen</td>\n",
       "      <td>NaN</td>\n",
       "      <td>2016-03-24 00:00:00</td>\n",
       "      <td>70435</td>\n",
       "      <td>2016-04-07 03:16:57</td>\n",
       "      <td>современные</td>\n",
       "    </tr>\n",
       "    <tr>\n",
       "      <th>1</th>\n",
       "      <td>2016-03-24 10:58:45</td>\n",
       "      <td>18300</td>\n",
       "      <td>coupe</td>\n",
       "      <td>2011</td>\n",
       "      <td>manual</td>\n",
       "      <td>190</td>\n",
       "      <td>NaN</td>\n",
       "      <td>125000</td>\n",
       "      <td>5</td>\n",
       "      <td>gasoline</td>\n",
       "      <td>audi</td>\n",
       "      <td>yes</td>\n",
       "      <td>2016-03-24 00:00:00</td>\n",
       "      <td>66954</td>\n",
       "      <td>2016-04-07 01:46:50</td>\n",
       "      <td>современные</td>\n",
       "    </tr>\n",
       "    <tr>\n",
       "      <th>2</th>\n",
       "      <td>2016-03-14 12:52:21</td>\n",
       "      <td>9800</td>\n",
       "      <td>suv</td>\n",
       "      <td>2004</td>\n",
       "      <td>auto</td>\n",
       "      <td>163</td>\n",
       "      <td>grand</td>\n",
       "      <td>125000</td>\n",
       "      <td>8</td>\n",
       "      <td>gasoline</td>\n",
       "      <td>jeep</td>\n",
       "      <td>NaN</td>\n",
       "      <td>2016-03-14 00:00:00</td>\n",
       "      <td>90480</td>\n",
       "      <td>2016-04-05 12:47:46</td>\n",
       "      <td>современные</td>\n",
       "    </tr>\n",
       "    <tr>\n",
       "      <th>3</th>\n",
       "      <td>2016-03-17 16:54:04</td>\n",
       "      <td>1500</td>\n",
       "      <td>small</td>\n",
       "      <td>2001</td>\n",
       "      <td>manual</td>\n",
       "      <td>75</td>\n",
       "      <td>golf</td>\n",
       "      <td>150000</td>\n",
       "      <td>6</td>\n",
       "      <td>petrol</td>\n",
       "      <td>volkswagen</td>\n",
       "      <td>no</td>\n",
       "      <td>2016-03-17 00:00:00</td>\n",
       "      <td>91074</td>\n",
       "      <td>2016-03-17 17:40:17</td>\n",
       "      <td>современные</td>\n",
       "    </tr>\n",
       "    <tr>\n",
       "      <th>4</th>\n",
       "      <td>2016-03-31 17:25:20</td>\n",
       "      <td>3600</td>\n",
       "      <td>small</td>\n",
       "      <td>2008</td>\n",
       "      <td>manual</td>\n",
       "      <td>69</td>\n",
       "      <td>fabia</td>\n",
       "      <td>90000</td>\n",
       "      <td>7</td>\n",
       "      <td>gasoline</td>\n",
       "      <td>skoda</td>\n",
       "      <td>no</td>\n",
       "      <td>2016-03-31 00:00:00</td>\n",
       "      <td>60437</td>\n",
       "      <td>2016-04-06 10:17:21</td>\n",
       "      <td>современные</td>\n",
       "    </tr>\n",
       "    <tr>\n",
       "      <th>...</th>\n",
       "      <td>...</td>\n",
       "      <td>...</td>\n",
       "      <td>...</td>\n",
       "      <td>...</td>\n",
       "      <td>...</td>\n",
       "      <td>...</td>\n",
       "      <td>...</td>\n",
       "      <td>...</td>\n",
       "      <td>...</td>\n",
       "      <td>...</td>\n",
       "      <td>...</td>\n",
       "      <td>...</td>\n",
       "      <td>...</td>\n",
       "      <td>...</td>\n",
       "      <td>...</td>\n",
       "      <td>...</td>\n",
       "    </tr>\n",
       "    <tr>\n",
       "      <th>339661</th>\n",
       "      <td>2016-03-21 09:50:58</td>\n",
       "      <td>0</td>\n",
       "      <td>NaN</td>\n",
       "      <td>2005</td>\n",
       "      <td>manual</td>\n",
       "      <td>0</td>\n",
       "      <td>colt</td>\n",
       "      <td>150000</td>\n",
       "      <td>7</td>\n",
       "      <td>petrol</td>\n",
       "      <td>mitsubishi</td>\n",
       "      <td>yes</td>\n",
       "      <td>2016-03-21 00:00:00</td>\n",
       "      <td>2694</td>\n",
       "      <td>2016-03-21 10:42:49</td>\n",
       "      <td>современные</td>\n",
       "    </tr>\n",
       "    <tr>\n",
       "      <th>339662</th>\n",
       "      <td>2016-03-14 17:48:27</td>\n",
       "      <td>2200</td>\n",
       "      <td>NaN</td>\n",
       "      <td>2005</td>\n",
       "      <td>NaN</td>\n",
       "      <td>0</td>\n",
       "      <td>NaN</td>\n",
       "      <td>20000</td>\n",
       "      <td>1</td>\n",
       "      <td>NaN</td>\n",
       "      <td>sonstige_autos</td>\n",
       "      <td>NaN</td>\n",
       "      <td>2016-03-14 00:00:00</td>\n",
       "      <td>39576</td>\n",
       "      <td>2016-04-06 00:46:52</td>\n",
       "      <td>современные</td>\n",
       "    </tr>\n",
       "    <tr>\n",
       "      <th>339663</th>\n",
       "      <td>2016-03-05 19:56:21</td>\n",
       "      <td>1199</td>\n",
       "      <td>convertible</td>\n",
       "      <td>2000</td>\n",
       "      <td>auto</td>\n",
       "      <td>101</td>\n",
       "      <td>fortwo</td>\n",
       "      <td>125000</td>\n",
       "      <td>3</td>\n",
       "      <td>petrol</td>\n",
       "      <td>smart</td>\n",
       "      <td>no</td>\n",
       "      <td>2016-03-05 00:00:00</td>\n",
       "      <td>26135</td>\n",
       "      <td>2016-03-11 18:17:12</td>\n",
       "      <td>современные</td>\n",
       "    </tr>\n",
       "    <tr>\n",
       "      <th>339664</th>\n",
       "      <td>2016-03-19 18:57:12</td>\n",
       "      <td>9200</td>\n",
       "      <td>bus</td>\n",
       "      <td>1996</td>\n",
       "      <td>manual</td>\n",
       "      <td>102</td>\n",
       "      <td>transporter</td>\n",
       "      <td>150000</td>\n",
       "      <td>3</td>\n",
       "      <td>gasoline</td>\n",
       "      <td>volkswagen</td>\n",
       "      <td>no</td>\n",
       "      <td>2016-03-19 00:00:00</td>\n",
       "      <td>87439</td>\n",
       "      <td>2016-04-07 07:15:26</td>\n",
       "      <td>современные</td>\n",
       "    </tr>\n",
       "    <tr>\n",
       "      <th>339665</th>\n",
       "      <td>2016-03-20 19:41:08</td>\n",
       "      <td>3400</td>\n",
       "      <td>wagon</td>\n",
       "      <td>2002</td>\n",
       "      <td>manual</td>\n",
       "      <td>100</td>\n",
       "      <td>golf</td>\n",
       "      <td>150000</td>\n",
       "      <td>6</td>\n",
       "      <td>gasoline</td>\n",
       "      <td>volkswagen</td>\n",
       "      <td>NaN</td>\n",
       "      <td>2016-03-20 00:00:00</td>\n",
       "      <td>40764</td>\n",
       "      <td>2016-03-24 12:45:21</td>\n",
       "      <td>современные</td>\n",
       "    </tr>\n",
       "  </tbody>\n",
       "</table>\n",
       "<p>339666 rows × 16 columns</p>\n",
       "</div>"
      ],
      "text/plain": [
       "               date_crawled  price vehicle_type  registration_year gearbox  \\\n",
       "0       2016-03-24 11:52:17    480          NaN               1993  manual   \n",
       "1       2016-03-24 10:58:45  18300        coupe               2011  manual   \n",
       "2       2016-03-14 12:52:21   9800          suv               2004    auto   \n",
       "3       2016-03-17 16:54:04   1500        small               2001  manual   \n",
       "4       2016-03-31 17:25:20   3600        small               2008  manual   \n",
       "...                     ...    ...          ...                ...     ...   \n",
       "339661  2016-03-21 09:50:58      0          NaN               2005  manual   \n",
       "339662  2016-03-14 17:48:27   2200          NaN               2005     NaN   \n",
       "339663  2016-03-05 19:56:21   1199  convertible               2000    auto   \n",
       "339664  2016-03-19 18:57:12   9200          bus               1996  manual   \n",
       "339665  2016-03-20 19:41:08   3400        wagon               2002  manual   \n",
       "\n",
       "        power        model  kilometer  registration_month fuel_type  \\\n",
       "0           0         golf     150000                   0    petrol   \n",
       "1         190          NaN     125000                   5  gasoline   \n",
       "2         163        grand     125000                   8  gasoline   \n",
       "3          75         golf     150000                   6    petrol   \n",
       "4          69        fabia      90000                   7  gasoline   \n",
       "...       ...          ...        ...                 ...       ...   \n",
       "339661      0         colt     150000                   7    petrol   \n",
       "339662      0          NaN      20000                   1       NaN   \n",
       "339663    101       fortwo     125000                   3    petrol   \n",
       "339664    102  transporter     150000                   3  gasoline   \n",
       "339665    100         golf     150000                   6  gasoline   \n",
       "\n",
       "                 brand not_repaired         date_created  postal_code  \\\n",
       "0           volkswagen          NaN  2016-03-24 00:00:00        70435   \n",
       "1                 audi          yes  2016-03-24 00:00:00        66954   \n",
       "2                 jeep          NaN  2016-03-14 00:00:00        90480   \n",
       "3           volkswagen           no  2016-03-17 00:00:00        91074   \n",
       "4                skoda           no  2016-03-31 00:00:00        60437   \n",
       "...                ...          ...                  ...          ...   \n",
       "339661      mitsubishi          yes  2016-03-21 00:00:00         2694   \n",
       "339662  sonstige_autos          NaN  2016-03-14 00:00:00        39576   \n",
       "339663           smart           no  2016-03-05 00:00:00        26135   \n",
       "339664      volkswagen           no  2016-03-19 00:00:00        87439   \n",
       "339665      volkswagen          NaN  2016-03-20 00:00:00        40764   \n",
       "\n",
       "                  last_seen registration_year_id  \n",
       "0       2016-04-07 03:16:57          современные  \n",
       "1       2016-04-07 01:46:50          современные  \n",
       "2       2016-04-05 12:47:46          современные  \n",
       "3       2016-03-17 17:40:17          современные  \n",
       "4       2016-04-06 10:17:21          современные  \n",
       "...                     ...                  ...  \n",
       "339661  2016-03-21 10:42:49          современные  \n",
       "339662  2016-04-06 00:46:52          современные  \n",
       "339663  2016-03-11 18:17:12          современные  \n",
       "339664  2016-04-07 07:15:26          современные  \n",
       "339665  2016-03-24 12:45:21          современные  \n",
       "\n",
       "[339666 rows x 16 columns]"
      ]
     },
     "execution_count": 48,
     "metadata": {},
     "output_type": "execute_result"
    }
   ],
   "source": [
    "df.drop_duplicates().reset_index(drop=True)"
   ]
  },
  {
   "cell_type": "markdown",
   "metadata": {},
   "source": [
    " "
   ]
  },
  {
   "cell_type": "markdown",
   "metadata": {},
   "source": [
    " "
   ]
  },
  {
   "cell_type": "markdown",
   "metadata": {},
   "source": [
    "#### Посмотрим на цены"
   ]
  },
  {
   "cell_type": "code",
   "execution_count": 49,
   "metadata": {},
   "outputs": [
    {
     "data": {
      "image/png": "[encoded data removed]",
      "text/plain": [
       "<Figure size 504x504 with 1 Axes>"
      ]
     },
     "metadata": {
      "needs_background": "light"
     },
     "output_type": "display_data"
    }
   ],
   "source": [
    "df[['price']].boxplot(figsize=(7,7));"
   ]
  },
  {
   "cell_type": "markdown",
   "metadata": {},
   "source": [
    "Околонулевые суммы явная ошибка! принимаем такой постулат: машина не может стоить меньше 100"
   ]
  },
  {
   "cell_type": "markdown",
   "metadata": {},
   "source": [
    " "
   ]
  },
  {
   "cell_type": "code",
   "execution_count": 50,
   "metadata": {},
   "outputs": [
    {
     "data": {
      "text/html": [
       "<div>\n",
       "<style scoped>\n",
       "    .dataframe tbody tr th:only-of-type {\n",
       "        vertical-align: middle;\n",
       "    }\n",
       "\n",
       "    .dataframe tbody tr th {\n",
       "        vertical-align: top;\n",
       "    }\n",
       "\n",
       "    .dataframe thead th {\n",
       "        text-align: right;\n",
       "    }\n",
       "</style>\n",
       "<table border=\"1\" class=\"dataframe\">\n",
       "  <thead>\n",
       "    <tr style=\"text-align: right;\">\n",
       "      <th></th>\n",
       "      <th>date_crawled</th>\n",
       "      <th>price</th>\n",
       "      <th>vehicle_type</th>\n",
       "      <th>registration_year</th>\n",
       "      <th>gearbox</th>\n",
       "      <th>power</th>\n",
       "      <th>model</th>\n",
       "      <th>kilometer</th>\n",
       "      <th>registration_month</th>\n",
       "      <th>fuel_type</th>\n",
       "      <th>brand</th>\n",
       "      <th>not_repaired</th>\n",
       "      <th>date_created</th>\n",
       "      <th>postal_code</th>\n",
       "      <th>last_seen</th>\n",
       "      <th>registration_year_id</th>\n",
       "    </tr>\n",
       "  </thead>\n",
       "  <tbody>\n",
       "    <tr>\n",
       "      <th>0</th>\n",
       "      <td>2016-03-24 11:52:17</td>\n",
       "      <td>480</td>\n",
       "      <td>NaN</td>\n",
       "      <td>1993</td>\n",
       "      <td>manual</td>\n",
       "      <td>0</td>\n",
       "      <td>golf</td>\n",
       "      <td>150000</td>\n",
       "      <td>0</td>\n",
       "      <td>petrol</td>\n",
       "      <td>volkswagen</td>\n",
       "      <td>NaN</td>\n",
       "      <td>2016-03-24 00:00:00</td>\n",
       "      <td>70435</td>\n",
       "      <td>2016-04-07 03:16:57</td>\n",
       "      <td>современные</td>\n",
       "    </tr>\n",
       "    <tr>\n",
       "      <th>1</th>\n",
       "      <td>2016-03-24 10:58:45</td>\n",
       "      <td>18300</td>\n",
       "      <td>coupe</td>\n",
       "      <td>2011</td>\n",
       "      <td>manual</td>\n",
       "      <td>190</td>\n",
       "      <td>NaN</td>\n",
       "      <td>125000</td>\n",
       "      <td>5</td>\n",
       "      <td>gasoline</td>\n",
       "      <td>audi</td>\n",
       "      <td>yes</td>\n",
       "      <td>2016-03-24 00:00:00</td>\n",
       "      <td>66954</td>\n",
       "      <td>2016-04-07 01:46:50</td>\n",
       "      <td>современные</td>\n",
       "    </tr>\n",
       "    <tr>\n",
       "      <th>2</th>\n",
       "      <td>2016-03-14 12:52:21</td>\n",
       "      <td>9800</td>\n",
       "      <td>suv</td>\n",
       "      <td>2004</td>\n",
       "      <td>auto</td>\n",
       "      <td>163</td>\n",
       "      <td>grand</td>\n",
       "      <td>125000</td>\n",
       "      <td>8</td>\n",
       "      <td>gasoline</td>\n",
       "      <td>jeep</td>\n",
       "      <td>NaN</td>\n",
       "      <td>2016-03-14 00:00:00</td>\n",
       "      <td>90480</td>\n",
       "      <td>2016-04-05 12:47:46</td>\n",
       "      <td>современные</td>\n",
       "    </tr>\n",
       "    <tr>\n",
       "      <th>3</th>\n",
       "      <td>2016-03-17 16:54:04</td>\n",
       "      <td>1500</td>\n",
       "      <td>small</td>\n",
       "      <td>2001</td>\n",
       "      <td>manual</td>\n",
       "      <td>75</td>\n",
       "      <td>golf</td>\n",
       "      <td>150000</td>\n",
       "      <td>6</td>\n",
       "      <td>petrol</td>\n",
       "      <td>volkswagen</td>\n",
       "      <td>no</td>\n",
       "      <td>2016-03-17 00:00:00</td>\n",
       "      <td>91074</td>\n",
       "      <td>2016-03-17 17:40:17</td>\n",
       "      <td>современные</td>\n",
       "    </tr>\n",
       "    <tr>\n",
       "      <th>4</th>\n",
       "      <td>2016-03-31 17:25:20</td>\n",
       "      <td>3600</td>\n",
       "      <td>small</td>\n",
       "      <td>2008</td>\n",
       "      <td>manual</td>\n",
       "      <td>69</td>\n",
       "      <td>fabia</td>\n",
       "      <td>90000</td>\n",
       "      <td>7</td>\n",
       "      <td>gasoline</td>\n",
       "      <td>skoda</td>\n",
       "      <td>no</td>\n",
       "      <td>2016-03-31 00:00:00</td>\n",
       "      <td>60437</td>\n",
       "      <td>2016-04-06 10:17:21</td>\n",
       "      <td>современные</td>\n",
       "    </tr>\n",
       "    <tr>\n",
       "      <th>...</th>\n",
       "      <td>...</td>\n",
       "      <td>...</td>\n",
       "      <td>...</td>\n",
       "      <td>...</td>\n",
       "      <td>...</td>\n",
       "      <td>...</td>\n",
       "      <td>...</td>\n",
       "      <td>...</td>\n",
       "      <td>...</td>\n",
       "      <td>...</td>\n",
       "      <td>...</td>\n",
       "      <td>...</td>\n",
       "      <td>...</td>\n",
       "      <td>...</td>\n",
       "      <td>...</td>\n",
       "      <td>...</td>\n",
       "    </tr>\n",
       "    <tr>\n",
       "      <th>354363</th>\n",
       "      <td>2016-03-27 20:36:20</td>\n",
       "      <td>1150</td>\n",
       "      <td>bus</td>\n",
       "      <td>2000</td>\n",
       "      <td>manual</td>\n",
       "      <td>0</td>\n",
       "      <td>zafira</td>\n",
       "      <td>150000</td>\n",
       "      <td>3</td>\n",
       "      <td>petrol</td>\n",
       "      <td>opel</td>\n",
       "      <td>no</td>\n",
       "      <td>2016-03-27 00:00:00</td>\n",
       "      <td>26624</td>\n",
       "      <td>2016-03-29 10:17:23</td>\n",
       "      <td>современные</td>\n",
       "    </tr>\n",
       "    <tr>\n",
       "      <th>354365</th>\n",
       "      <td>2016-03-14 17:48:27</td>\n",
       "      <td>2200</td>\n",
       "      <td>NaN</td>\n",
       "      <td>2005</td>\n",
       "      <td>NaN</td>\n",
       "      <td>0</td>\n",
       "      <td>NaN</td>\n",
       "      <td>20000</td>\n",
       "      <td>1</td>\n",
       "      <td>NaN</td>\n",
       "      <td>sonstige_autos</td>\n",
       "      <td>NaN</td>\n",
       "      <td>2016-03-14 00:00:00</td>\n",
       "      <td>39576</td>\n",
       "      <td>2016-04-06 00:46:52</td>\n",
       "      <td>современные</td>\n",
       "    </tr>\n",
       "    <tr>\n",
       "      <th>354366</th>\n",
       "      <td>2016-03-05 19:56:21</td>\n",
       "      <td>1199</td>\n",
       "      <td>convertible</td>\n",
       "      <td>2000</td>\n",
       "      <td>auto</td>\n",
       "      <td>101</td>\n",
       "      <td>fortwo</td>\n",
       "      <td>125000</td>\n",
       "      <td>3</td>\n",
       "      <td>petrol</td>\n",
       "      <td>smart</td>\n",
       "      <td>no</td>\n",
       "      <td>2016-03-05 00:00:00</td>\n",
       "      <td>26135</td>\n",
       "      <td>2016-03-11 18:17:12</td>\n",
       "      <td>современные</td>\n",
       "    </tr>\n",
       "    <tr>\n",
       "      <th>354367</th>\n",
       "      <td>2016-03-19 18:57:12</td>\n",
       "      <td>9200</td>\n",
       "      <td>bus</td>\n",
       "      <td>1996</td>\n",
       "      <td>manual</td>\n",
       "      <td>102</td>\n",
       "      <td>transporter</td>\n",
       "      <td>150000</td>\n",
       "      <td>3</td>\n",
       "      <td>gasoline</td>\n",
       "      <td>volkswagen</td>\n",
       "      <td>no</td>\n",
       "      <td>2016-03-19 00:00:00</td>\n",
       "      <td>87439</td>\n",
       "      <td>2016-04-07 07:15:26</td>\n",
       "      <td>современные</td>\n",
       "    </tr>\n",
       "    <tr>\n",
       "      <th>354368</th>\n",
       "      <td>2016-03-20 19:41:08</td>\n",
       "      <td>3400</td>\n",
       "      <td>wagon</td>\n",
       "      <td>2002</td>\n",
       "      <td>manual</td>\n",
       "      <td>100</td>\n",
       "      <td>golf</td>\n",
       "      <td>150000</td>\n",
       "      <td>6</td>\n",
       "      <td>gasoline</td>\n",
       "      <td>volkswagen</td>\n",
       "      <td>NaN</td>\n",
       "      <td>2016-03-20 00:00:00</td>\n",
       "      <td>40764</td>\n",
       "      <td>2016-03-24 12:45:21</td>\n",
       "      <td>современные</td>\n",
       "    </tr>\n",
       "  </tbody>\n",
       "</table>\n",
       "<p>326277 rows × 16 columns</p>\n",
       "</div>"
      ],
      "text/plain": [
       "               date_crawled  price vehicle_type  registration_year gearbox  \\\n",
       "0       2016-03-24 11:52:17    480          NaN               1993  manual   \n",
       "1       2016-03-24 10:58:45  18300        coupe               2011  manual   \n",
       "2       2016-03-14 12:52:21   9800          suv               2004    auto   \n",
       "3       2016-03-17 16:54:04   1500        small               2001  manual   \n",
       "4       2016-03-31 17:25:20   3600        small               2008  manual   \n",
       "...                     ...    ...          ...                ...     ...   \n",
       "354363  2016-03-27 20:36:20   1150          bus               2000  manual   \n",
       "354365  2016-03-14 17:48:27   2200          NaN               2005     NaN   \n",
       "354366  2016-03-05 19:56:21   1199  convertible               2000    auto   \n",
       "354367  2016-03-19 18:57:12   9200          bus               1996  manual   \n",
       "354368  2016-03-20 19:41:08   3400        wagon               2002  manual   \n",
       "\n",
       "        power        model  kilometer  registration_month fuel_type  \\\n",
       "0           0         golf     150000                   0    petrol   \n",
       "1         190          NaN     125000                   5  gasoline   \n",
       "2         163        grand     125000                   8  gasoline   \n",
       "3          75         golf     150000                   6    petrol   \n",
       "4          69        fabia      90000                   7  gasoline   \n",
       "...       ...          ...        ...                 ...       ...   \n",
       "354363      0       zafira     150000                   3    petrol   \n",
       "354365      0          NaN      20000                   1       NaN   \n",
       "354366    101       fortwo     125000                   3    petrol   \n",
       "354367    102  transporter     150000                   3  gasoline   \n",
       "354368    100         golf     150000                   6  gasoline   \n",
       "\n",
       "                 brand not_repaired         date_created  postal_code  \\\n",
       "0           volkswagen          NaN  2016-03-24 00:00:00        70435   \n",
       "1                 audi          yes  2016-03-24 00:00:00        66954   \n",
       "2                 jeep          NaN  2016-03-14 00:00:00        90480   \n",
       "3           volkswagen           no  2016-03-17 00:00:00        91074   \n",
       "4                skoda           no  2016-03-31 00:00:00        60437   \n",
       "...                ...          ...                  ...          ...   \n",
       "354363            opel           no  2016-03-27 00:00:00        26624   \n",
       "354365  sonstige_autos          NaN  2016-03-14 00:00:00        39576   \n",
       "354366           smart           no  2016-03-05 00:00:00        26135   \n",
       "354367      volkswagen           no  2016-03-19 00:00:00        87439   \n",
       "354368      volkswagen          NaN  2016-03-20 00:00:00        40764   \n",
       "\n",
       "                  last_seen registration_year_id  \n",
       "0       2016-04-07 03:16:57          современные  \n",
       "1       2016-04-07 01:46:50          современные  \n",
       "2       2016-04-05 12:47:46          современные  \n",
       "3       2016-03-17 17:40:17          современные  \n",
       "4       2016-04-06 10:17:21          современные  \n",
       "...                     ...                  ...  \n",
       "354363  2016-03-29 10:17:23          современные  \n",
       "354365  2016-04-06 00:46:52          современные  \n",
       "354366  2016-03-11 18:17:12          современные  \n",
       "354367  2016-04-07 07:15:26          современные  \n",
       "354368  2016-03-24 12:45:21          современные  \n",
       "\n",
       "[326277 rows x 16 columns]"
      ]
     },
     "execution_count": 50,
     "metadata": {},
     "output_type": "execute_result"
    }
   ],
   "source": [
    "df = df[df['price'] > 100]\n",
    "df"
   ]
  },
  {
   "cell_type": "markdown",
   "metadata": {},
   "source": [
    "Обновили наш датафрейм выкинув из него маленькие суммы"
   ]
  },
  {
   "cell_type": "markdown",
   "metadata": {},
   "source": [
    " "
   ]
  },
  {
   "cell_type": "markdown",
   "metadata": {},
   "source": [
    " "
   ]
  },
  {
   "cell_type": "markdown",
   "metadata": {},
   "source": [
    "#### Посмотрим на мощности"
   ]
  },
  {
   "cell_type": "code",
   "execution_count": 51,
   "metadata": {},
   "outputs": [
    {
     "data": {
      "image/png": "[encoded data removed]",
      "text/plain": [
       "<Figure size 504x504 with 1 Axes>"
      ]
     },
     "metadata": {
      "needs_background": "light"
     },
     "output_type": "display_data"
    }
   ],
   "source": [
    "df[['power']].boxplot(figsize=(7,7));"
   ]
  },
  {
   "cell_type": "markdown",
   "metadata": {},
   "source": [
    "Видим много выбросов. Принимаем постулат что автомобиль мощьностью больше 2500 быть не может. (хотя и 2500 многовато)"
   ]
  },
  {
   "cell_type": "code",
   "execution_count": 52,
   "metadata": {},
   "outputs": [
    {
     "data": {
      "text/plain": [
       "date_crawled            31383\n",
       "price                   31383\n",
       "vehicle_type            23571\n",
       "registration_year       31383\n",
       "gearbox                 22258\n",
       "power                   31383\n",
       "model                   27277\n",
       "kilometer               31383\n",
       "registration_month      31383\n",
       "fuel_type               23861\n",
       "brand                   31383\n",
       "not_repaired            15832\n",
       "date_created            31383\n",
       "postal_code             31383\n",
       "last_seen               31383\n",
       "registration_year_id    31383\n",
       "dtype: int64"
      ]
     },
     "execution_count": 52,
     "metadata": {},
     "output_type": "execute_result"
    }
   ],
   "source": [
    "df[df['power']<10].count()"
   ]
  },
  {
   "cell_type": "markdown",
   "metadata": {},
   "source": [
    "много автомобилей с околонулевой мощностью. Тоже выбросы"
   ]
  },
  {
   "cell_type": "code",
   "execution_count": 53,
   "metadata": {},
   "outputs": [
    {
     "data": {
      "text/plain": [
       "date_crawled            84\n",
       "price                   84\n",
       "vehicle_type            79\n",
       "registration_year       84\n",
       "gearbox                 80\n",
       "power                   84\n",
       "model                   77\n",
       "kilometer               84\n",
       "registration_month      84\n",
       "fuel_type               68\n",
       "brand                   84\n",
       "not_repaired            49\n",
       "date_created            84\n",
       "postal_code             84\n",
       "last_seen               84\n",
       "registration_year_id    84\n",
       "dtype: int64"
      ]
     },
     "execution_count": 53,
     "metadata": {},
     "output_type": "execute_result"
    }
   ],
   "source": [
    "df[df['power']>2500].count()"
   ]
  },
  {
   "cell_type": "code",
   "execution_count": 54,
   "metadata": {},
   "outputs": [
    {
     "data": {
      "text/html": [
       "<div>\n",
       "<style scoped>\n",
       "    .dataframe tbody tr th:only-of-type {\n",
       "        vertical-align: middle;\n",
       "    }\n",
       "\n",
       "    .dataframe tbody tr th {\n",
       "        vertical-align: top;\n",
       "    }\n",
       "\n",
       "    .dataframe thead th {\n",
       "        text-align: right;\n",
       "    }\n",
       "</style>\n",
       "<table border=\"1\" class=\"dataframe\">\n",
       "  <thead>\n",
       "    <tr style=\"text-align: right;\">\n",
       "      <th></th>\n",
       "      <th>date_crawled</th>\n",
       "      <th>price</th>\n",
       "      <th>vehicle_type</th>\n",
       "      <th>registration_year</th>\n",
       "      <th>gearbox</th>\n",
       "      <th>power</th>\n",
       "      <th>model</th>\n",
       "      <th>kilometer</th>\n",
       "      <th>registration_month</th>\n",
       "      <th>fuel_type</th>\n",
       "      <th>brand</th>\n",
       "      <th>not_repaired</th>\n",
       "      <th>date_created</th>\n",
       "      <th>postal_code</th>\n",
       "      <th>last_seen</th>\n",
       "      <th>registration_year_id</th>\n",
       "    </tr>\n",
       "  </thead>\n",
       "  <tbody>\n",
       "    <tr>\n",
       "      <th>1</th>\n",
       "      <td>2016-03-24 10:58:45</td>\n",
       "      <td>18300</td>\n",
       "      <td>coupe</td>\n",
       "      <td>2011</td>\n",
       "      <td>manual</td>\n",
       "      <td>190</td>\n",
       "      <td>NaN</td>\n",
       "      <td>125000</td>\n",
       "      <td>5</td>\n",
       "      <td>gasoline</td>\n",
       "      <td>audi</td>\n",
       "      <td>yes</td>\n",
       "      <td>2016-03-24 00:00:00</td>\n",
       "      <td>66954</td>\n",
       "      <td>2016-04-07 01:46:50</td>\n",
       "      <td>современные</td>\n",
       "    </tr>\n",
       "    <tr>\n",
       "      <th>2</th>\n",
       "      <td>2016-03-14 12:52:21</td>\n",
       "      <td>9800</td>\n",
       "      <td>suv</td>\n",
       "      <td>2004</td>\n",
       "      <td>auto</td>\n",
       "      <td>163</td>\n",
       "      <td>grand</td>\n",
       "      <td>125000</td>\n",
       "      <td>8</td>\n",
       "      <td>gasoline</td>\n",
       "      <td>jeep</td>\n",
       "      <td>NaN</td>\n",
       "      <td>2016-03-14 00:00:00</td>\n",
       "      <td>90480</td>\n",
       "      <td>2016-04-05 12:47:46</td>\n",
       "      <td>современные</td>\n",
       "    </tr>\n",
       "    <tr>\n",
       "      <th>3</th>\n",
       "      <td>2016-03-17 16:54:04</td>\n",
       "      <td>1500</td>\n",
       "      <td>small</td>\n",
       "      <td>2001</td>\n",
       "      <td>manual</td>\n",
       "      <td>75</td>\n",
       "      <td>golf</td>\n",
       "      <td>150000</td>\n",
       "      <td>6</td>\n",
       "      <td>petrol</td>\n",
       "      <td>volkswagen</td>\n",
       "      <td>no</td>\n",
       "      <td>2016-03-17 00:00:00</td>\n",
       "      <td>91074</td>\n",
       "      <td>2016-03-17 17:40:17</td>\n",
       "      <td>современные</td>\n",
       "    </tr>\n",
       "    <tr>\n",
       "      <th>4</th>\n",
       "      <td>2016-03-31 17:25:20</td>\n",
       "      <td>3600</td>\n",
       "      <td>small</td>\n",
       "      <td>2008</td>\n",
       "      <td>manual</td>\n",
       "      <td>69</td>\n",
       "      <td>fabia</td>\n",
       "      <td>90000</td>\n",
       "      <td>7</td>\n",
       "      <td>gasoline</td>\n",
       "      <td>skoda</td>\n",
       "      <td>no</td>\n",
       "      <td>2016-03-31 00:00:00</td>\n",
       "      <td>60437</td>\n",
       "      <td>2016-04-06 10:17:21</td>\n",
       "      <td>современные</td>\n",
       "    </tr>\n",
       "    <tr>\n",
       "      <th>5</th>\n",
       "      <td>2016-04-04 17:36:23</td>\n",
       "      <td>650</td>\n",
       "      <td>sedan</td>\n",
       "      <td>1995</td>\n",
       "      <td>manual</td>\n",
       "      <td>102</td>\n",
       "      <td>3er</td>\n",
       "      <td>150000</td>\n",
       "      <td>10</td>\n",
       "      <td>petrol</td>\n",
       "      <td>bmw</td>\n",
       "      <td>yes</td>\n",
       "      <td>2016-04-04 00:00:00</td>\n",
       "      <td>33775</td>\n",
       "      <td>2016-04-06 19:17:07</td>\n",
       "      <td>современные</td>\n",
       "    </tr>\n",
       "    <tr>\n",
       "      <th>...</th>\n",
       "      <td>...</td>\n",
       "      <td>...</td>\n",
       "      <td>...</td>\n",
       "      <td>...</td>\n",
       "      <td>...</td>\n",
       "      <td>...</td>\n",
       "      <td>...</td>\n",
       "      <td>...</td>\n",
       "      <td>...</td>\n",
       "      <td>...</td>\n",
       "      <td>...</td>\n",
       "      <td>...</td>\n",
       "      <td>...</td>\n",
       "      <td>...</td>\n",
       "      <td>...</td>\n",
       "      <td>...</td>\n",
       "    </tr>\n",
       "    <tr>\n",
       "      <th>354361</th>\n",
       "      <td>2016-03-09 13:37:43</td>\n",
       "      <td>5250</td>\n",
       "      <td>NaN</td>\n",
       "      <td>2016</td>\n",
       "      <td>auto</td>\n",
       "      <td>150</td>\n",
       "      <td>159</td>\n",
       "      <td>150000</td>\n",
       "      <td>12</td>\n",
       "      <td>NaN</td>\n",
       "      <td>alfa_romeo</td>\n",
       "      <td>no</td>\n",
       "      <td>2016-03-09 00:00:00</td>\n",
       "      <td>51371</td>\n",
       "      <td>2016-03-13 01:44:13</td>\n",
       "      <td>современные</td>\n",
       "    </tr>\n",
       "    <tr>\n",
       "      <th>354362</th>\n",
       "      <td>2016-03-19 19:53:49</td>\n",
       "      <td>3200</td>\n",
       "      <td>sedan</td>\n",
       "      <td>2004</td>\n",
       "      <td>manual</td>\n",
       "      <td>225</td>\n",
       "      <td>leon</td>\n",
       "      <td>150000</td>\n",
       "      <td>5</td>\n",
       "      <td>petrol</td>\n",
       "      <td>seat</td>\n",
       "      <td>yes</td>\n",
       "      <td>2016-03-19 00:00:00</td>\n",
       "      <td>96465</td>\n",
       "      <td>2016-03-19 20:44:43</td>\n",
       "      <td>современные</td>\n",
       "    </tr>\n",
       "    <tr>\n",
       "      <th>354366</th>\n",
       "      <td>2016-03-05 19:56:21</td>\n",
       "      <td>1199</td>\n",
       "      <td>convertible</td>\n",
       "      <td>2000</td>\n",
       "      <td>auto</td>\n",
       "      <td>101</td>\n",
       "      <td>fortwo</td>\n",
       "      <td>125000</td>\n",
       "      <td>3</td>\n",
       "      <td>petrol</td>\n",
       "      <td>smart</td>\n",
       "      <td>no</td>\n",
       "      <td>2016-03-05 00:00:00</td>\n",
       "      <td>26135</td>\n",
       "      <td>2016-03-11 18:17:12</td>\n",
       "      <td>современные</td>\n",
       "    </tr>\n",
       "    <tr>\n",
       "      <th>354367</th>\n",
       "      <td>2016-03-19 18:57:12</td>\n",
       "      <td>9200</td>\n",
       "      <td>bus</td>\n",
       "      <td>1996</td>\n",
       "      <td>manual</td>\n",
       "      <td>102</td>\n",
       "      <td>transporter</td>\n",
       "      <td>150000</td>\n",
       "      <td>3</td>\n",
       "      <td>gasoline</td>\n",
       "      <td>volkswagen</td>\n",
       "      <td>no</td>\n",
       "      <td>2016-03-19 00:00:00</td>\n",
       "      <td>87439</td>\n",
       "      <td>2016-04-07 07:15:26</td>\n",
       "      <td>современные</td>\n",
       "    </tr>\n",
       "    <tr>\n",
       "      <th>354368</th>\n",
       "      <td>2016-03-20 19:41:08</td>\n",
       "      <td>3400</td>\n",
       "      <td>wagon</td>\n",
       "      <td>2002</td>\n",
       "      <td>manual</td>\n",
       "      <td>100</td>\n",
       "      <td>golf</td>\n",
       "      <td>150000</td>\n",
       "      <td>6</td>\n",
       "      <td>gasoline</td>\n",
       "      <td>volkswagen</td>\n",
       "      <td>NaN</td>\n",
       "      <td>2016-03-20 00:00:00</td>\n",
       "      <td>40764</td>\n",
       "      <td>2016-03-24 12:45:21</td>\n",
       "      <td>современные</td>\n",
       "    </tr>\n",
       "  </tbody>\n",
       "</table>\n",
       "<p>294799 rows × 16 columns</p>\n",
       "</div>"
      ],
      "text/plain": [
       "               date_crawled  price vehicle_type  registration_year gearbox  \\\n",
       "1       2016-03-24 10:58:45  18300        coupe               2011  manual   \n",
       "2       2016-03-14 12:52:21   9800          suv               2004    auto   \n",
       "3       2016-03-17 16:54:04   1500        small               2001  manual   \n",
       "4       2016-03-31 17:25:20   3600        small               2008  manual   \n",
       "5       2016-04-04 17:36:23    650        sedan               1995  manual   \n",
       "...                     ...    ...          ...                ...     ...   \n",
       "354361  2016-03-09 13:37:43   5250          NaN               2016    auto   \n",
       "354362  2016-03-19 19:53:49   3200        sedan               2004  manual   \n",
       "354366  2016-03-05 19:56:21   1199  convertible               2000    auto   \n",
       "354367  2016-03-19 18:57:12   9200          bus               1996  manual   \n",
       "354368  2016-03-20 19:41:08   3400        wagon               2002  manual   \n",
       "\n",
       "        power        model  kilometer  registration_month fuel_type  \\\n",
       "1         190          NaN     125000                   5  gasoline   \n",
       "2         163        grand     125000                   8  gasoline   \n",
       "3          75         golf     150000                   6    petrol   \n",
       "4          69        fabia      90000                   7  gasoline   \n",
       "5         102          3er     150000                  10    petrol   \n",
       "...       ...          ...        ...                 ...       ...   \n",
       "354361    150          159     150000                  12       NaN   \n",
       "354362    225         leon     150000                   5    petrol   \n",
       "354366    101       fortwo     125000                   3    petrol   \n",
       "354367    102  transporter     150000                   3  gasoline   \n",
       "354368    100         golf     150000                   6  gasoline   \n",
       "\n",
       "             brand not_repaired         date_created  postal_code  \\\n",
       "1             audi          yes  2016-03-24 00:00:00        66954   \n",
       "2             jeep          NaN  2016-03-14 00:00:00        90480   \n",
       "3       volkswagen           no  2016-03-17 00:00:00        91074   \n",
       "4            skoda           no  2016-03-31 00:00:00        60437   \n",
       "5              bmw          yes  2016-04-04 00:00:00        33775   \n",
       "...            ...          ...                  ...          ...   \n",
       "354361  alfa_romeo           no  2016-03-09 00:00:00        51371   \n",
       "354362        seat          yes  2016-03-19 00:00:00        96465   \n",
       "354366       smart           no  2016-03-05 00:00:00        26135   \n",
       "354367  volkswagen           no  2016-03-19 00:00:00        87439   \n",
       "354368  volkswagen          NaN  2016-03-20 00:00:00        40764   \n",
       "\n",
       "                  last_seen registration_year_id  \n",
       "1       2016-04-07 01:46:50          современные  \n",
       "2       2016-04-05 12:47:46          современные  \n",
       "3       2016-03-17 17:40:17          современные  \n",
       "4       2016-04-06 10:17:21          современные  \n",
       "5       2016-04-06 19:17:07          современные  \n",
       "...                     ...                  ...  \n",
       "354361  2016-03-13 01:44:13          современные  \n",
       "354362  2016-03-19 20:44:43          современные  \n",
       "354366  2016-03-11 18:17:12          современные  \n",
       "354367  2016-04-07 07:15:26          современные  \n",
       "354368  2016-03-24 12:45:21          современные  \n",
       "\n",
       "[294799 rows x 16 columns]"
      ]
     },
     "execution_count": 54,
     "metadata": {},
     "output_type": "execute_result"
    }
   ],
   "source": [
    "df = df[(df['power']<2500) & (df['power']>10)]\n",
    "df"
   ]
  },
  {
   "cell_type": "markdown",
   "metadata": {},
   "source": [
    "Обновили наш датафрейм выкинув из него неадекватные мощности"
   ]
  },
  {
   "cell_type": "markdown",
   "metadata": {},
   "source": [
    " "
   ]
  },
  {
   "cell_type": "markdown",
   "metadata": {},
   "source": [
    " "
   ]
  },
  {
   "cell_type": "markdown",
   "metadata": {},
   "source": [
    "#### Посмотрим на пробег"
   ]
  },
  {
   "cell_type": "code",
   "execution_count": 55,
   "metadata": {},
   "outputs": [
    {
     "data": {
      "image/png": "[encoded data removed]",
      "text/plain": [
       "<Figure size 504x504 with 1 Axes>"
      ]
     },
     "metadata": {
      "needs_background": "light"
     },
     "output_type": "display_data"
    }
   ],
   "source": [
    "df[['kilometer']].boxplot(figsize=(7,7));"
   ]
  },
  {
   "cell_type": "markdown",
   "metadata": {},
   "source": [
    "тут вроде бы все нормально."
   ]
  },
  {
   "cell_type": "markdown",
   "metadata": {},
   "source": [
    "  "
   ]
  },
  {
   "cell_type": "markdown",
   "metadata": {},
   "source": [
    " "
   ]
  },
  {
   "cell_type": "markdown",
   "metadata": {},
   "source": [
    "#### Посмотрим на месяц регистрации"
   ]
  },
  {
   "cell_type": "code",
   "execution_count": 56,
   "metadata": {},
   "outputs": [
    {
     "data": {
      "image/png": "[encoded data removed]",
      "text/plain": [
       "<Figure size 504x504 with 1 Axes>"
      ]
     },
     "metadata": {
      "needs_background": "light"
     },
     "output_type": "display_data"
    }
   ],
   "source": [
    "df[['registration_month']].boxplot(figsize=(7,7));"
   ]
  },
  {
   "cell_type": "code",
   "execution_count": 57,
   "metadata": {},
   "outputs": [
    {
     "data": {
      "text/plain": [
       "3     30340\n",
       "6     27481\n",
       "4     25667\n",
       "5     25534\n",
       "7     23768\n",
       "10    22904\n",
       "12    21139\n",
       "11    20997\n",
       "9     20907\n",
       "1     20095\n",
       "8     19665\n",
       "2     18810\n",
       "0     17492\n",
       "Name: registration_month, dtype: int64"
      ]
     },
     "execution_count": 57,
     "metadata": {},
     "output_type": "execute_result"
    }
   ],
   "source": [
    "df['registration_month'].value_counts()"
   ]
  },
  {
   "cell_type": "markdown",
   "metadata": {},
   "source": [
    "месяц 0 это ошибка. Предполагаю, что 0 это имелся в виду первый месяц года, т.е. январь"
   ]
  },
  {
   "cell_type": "markdown",
   "metadata": {},
   "source": [
    " "
   ]
  },
  {
   "cell_type": "code",
   "execution_count": 58,
   "metadata": {},
   "outputs": [],
   "source": [
    "df = df[df['registration_month'] != 0]"
   ]
  },
  {
   "cell_type": "code",
   "execution_count": 59,
   "metadata": {},
   "outputs": [
    {
     "data": {
      "text/plain": [
       "3     30340\n",
       "6     27481\n",
       "4     25667\n",
       "5     25534\n",
       "7     23768\n",
       "10    22904\n",
       "12    21139\n",
       "11    20997\n",
       "9     20907\n",
       "1     20095\n",
       "8     19665\n",
       "2     18810\n",
       "Name: registration_month, dtype: int64"
      ]
     },
     "execution_count": 59,
     "metadata": {},
     "output_type": "execute_result"
    }
   ],
   "source": [
    "df['registration_month'].value_counts()"
   ]
  },
  {
   "cell_type": "markdown",
   "metadata": {},
   "source": [
    "Проверили. Все ок, нулей нет."
   ]
  },
  {
   "cell_type": "markdown",
   "metadata": {},
   "source": [
    " "
   ]
  },
  {
   "cell_type": "code",
   "execution_count": 60,
   "metadata": {},
   "outputs": [
    {
     "data": {
      "text/plain": [
       "(277307, 16)"
      ]
     },
     "execution_count": 60,
     "metadata": {},
     "output_type": "execute_result"
    }
   ],
   "source": [
    "df.shape"
   ]
  },
  {
   "cell_type": "markdown",
   "metadata": {},
   "source": [
    "Еще раз проверили пропуски"
   ]
  },
  {
   "cell_type": "code",
   "execution_count": 61,
   "metadata": {},
   "outputs": [
    {
     "data": {
      "text/plain": [
       "date_crawled                0\n",
       "price                       0\n",
       "vehicle_type             7421\n",
       "registration_year           0\n",
       "gearbox                  3737\n",
       "power                       0\n",
       "model                    8792\n",
       "kilometer                   0\n",
       "registration_month          0\n",
       "fuel_type               10979\n",
       "brand                       0\n",
       "not_repaired            33753\n",
       "date_created                0\n",
       "postal_code                 0\n",
       "last_seen                   0\n",
       "registration_year_id        0\n",
       "dtype: int64"
      ]
     },
     "execution_count": 61,
     "metadata": {},
     "output_type": "execute_result"
    }
   ],
   "source": [
    "df.isnull().sum()"
   ]
  },
  {
   "cell_type": "markdown",
   "metadata": {},
   "source": [
    "Считаем что не имеем права заменять медианными или средними значениями, т.к. можем исказить данные. Просто заменим сломом Unknown"
   ]
  },
  {
   "cell_type": "code",
   "execution_count": 62,
   "metadata": {},
   "outputs": [],
   "source": [
    "df[\"vehicle_type\"] = df[\"vehicle_type\"].fillna('Unknown')\n",
    "df[\"gearbox\"] = df[\"gearbox\"].fillna('Unknown')\n",
    "df[\"model\"] = df[\"model\"].fillna('Unknown')\n",
    "df[\"fuel_type\"] = df[\"fuel_type\"].fillna('Unknown')\n",
    "df[\"not_repaired\"] = df[\"not_repaired\"].fillna('Unknown')\n"
   ]
  },
  {
   "cell_type": "markdown",
   "metadata": {},
   "source": [
    "Еще раз проверим"
   ]
  },
  {
   "cell_type": "code",
   "execution_count": 63,
   "metadata": {},
   "outputs": [
    {
     "data": {
      "text/plain": [
       "date_crawled            0\n",
       "price                   0\n",
       "vehicle_type            0\n",
       "registration_year       0\n",
       "gearbox                 0\n",
       "power                   0\n",
       "model                   0\n",
       "kilometer               0\n",
       "registration_month      0\n",
       "fuel_type               0\n",
       "brand                   0\n",
       "not_repaired            0\n",
       "date_created            0\n",
       "postal_code             0\n",
       "last_seen               0\n",
       "registration_year_id    0\n",
       "dtype: int64"
      ]
     },
     "execution_count": 63,
     "metadata": {},
     "output_type": "execute_result"
    }
   ],
   "source": [
    "df.isnull().sum()"
   ]
  },
  {
   "cell_type": "markdown",
   "metadata": {},
   "source": [
    "Все ок"
   ]
  },
  {
   "cell_type": "markdown",
   "metadata": {},
   "source": [
    " "
   ]
  },
  {
   "cell_type": "markdown",
   "metadata": {},
   "source": [
    "Посмотрим на взаимосвязь признаков"
   ]
  },
  {
   "cell_type": "code",
   "execution_count": 64,
   "metadata": {},
   "outputs": [
    {
     "data": {
      "image/png": "[encoded data removed]",
      "text/plain": [
       "<Figure size 720x576 with 2 Axes>"
      ]
     },
     "metadata": {
      "needs_background": "light"
     },
     "output_type": "display_data"
    }
   ],
   "source": [
    "plt.figure(figsize=(10, 8))\n",
    "sns.heatmap(df.corr(method='spearman'), annot=True, fmt='.3f', linecolor='black', linewidths=0.1);"
   ]
  },
  {
   "cell_type": "markdown",
   "metadata": {},
   "source": [
    "сильно коррелирующих фичей не наблюдаю. Есть большие корреляции года выпуска, мощности и пробега к цене"
   ]
  },
  {
   "cell_type": "code",
   "execution_count": 65,
   "metadata": {},
   "outputs": [
    {
     "data": {
      "text/html": [
       "<div>\n",
       "<style scoped>\n",
       "    .dataframe tbody tr th:only-of-type {\n",
       "        vertical-align: middle;\n",
       "    }\n",
       "\n",
       "    .dataframe tbody tr th {\n",
       "        vertical-align: top;\n",
       "    }\n",
       "\n",
       "    .dataframe thead th {\n",
       "        text-align: right;\n",
       "    }\n",
       "</style>\n",
       "<table border=\"1\" class=\"dataframe\">\n",
       "  <thead>\n",
       "    <tr style=\"text-align: right;\">\n",
       "      <th></th>\n",
       "      <th>date_crawled</th>\n",
       "      <th>price</th>\n",
       "      <th>vehicle_type</th>\n",
       "      <th>registration_year</th>\n",
       "      <th>gearbox</th>\n",
       "      <th>power</th>\n",
       "      <th>model</th>\n",
       "      <th>kilometer</th>\n",
       "      <th>registration_month</th>\n",
       "      <th>fuel_type</th>\n",
       "      <th>brand</th>\n",
       "      <th>not_repaired</th>\n",
       "      <th>date_created</th>\n",
       "      <th>postal_code</th>\n",
       "      <th>last_seen</th>\n",
       "      <th>registration_year_id</th>\n",
       "    </tr>\n",
       "  </thead>\n",
       "  <tbody>\n",
       "    <tr>\n",
       "      <th>1</th>\n",
       "      <td>2016-03-24 10:58:45</td>\n",
       "      <td>18300</td>\n",
       "      <td>coupe</td>\n",
       "      <td>2011</td>\n",
       "      <td>manual</td>\n",
       "      <td>190</td>\n",
       "      <td>Unknown</td>\n",
       "      <td>125000</td>\n",
       "      <td>5</td>\n",
       "      <td>gasoline</td>\n",
       "      <td>audi</td>\n",
       "      <td>yes</td>\n",
       "      <td>2016-03-24 00:00:00</td>\n",
       "      <td>66954</td>\n",
       "      <td>2016-04-07 01:46:50</td>\n",
       "      <td>современные</td>\n",
       "    </tr>\n",
       "    <tr>\n",
       "      <th>2</th>\n",
       "      <td>2016-03-14 12:52:21</td>\n",
       "      <td>9800</td>\n",
       "      <td>suv</td>\n",
       "      <td>2004</td>\n",
       "      <td>auto</td>\n",
       "      <td>163</td>\n",
       "      <td>grand</td>\n",
       "      <td>125000</td>\n",
       "      <td>8</td>\n",
       "      <td>gasoline</td>\n",
       "      <td>jeep</td>\n",
       "      <td>Unknown</td>\n",
       "      <td>2016-03-14 00:00:00</td>\n",
       "      <td>90480</td>\n",
       "      <td>2016-04-05 12:47:46</td>\n",
       "      <td>современные</td>\n",
       "    </tr>\n",
       "    <tr>\n",
       "      <th>3</th>\n",
       "      <td>2016-03-17 16:54:04</td>\n",
       "      <td>1500</td>\n",
       "      <td>small</td>\n",
       "      <td>2001</td>\n",
       "      <td>manual</td>\n",
       "      <td>75</td>\n",
       "      <td>golf</td>\n",
       "      <td>150000</td>\n",
       "      <td>6</td>\n",
       "      <td>petrol</td>\n",
       "      <td>volkswagen</td>\n",
       "      <td>no</td>\n",
       "      <td>2016-03-17 00:00:00</td>\n",
       "      <td>91074</td>\n",
       "      <td>2016-03-17 17:40:17</td>\n",
       "      <td>современные</td>\n",
       "    </tr>\n",
       "    <tr>\n",
       "      <th>4</th>\n",
       "      <td>2016-03-31 17:25:20</td>\n",
       "      <td>3600</td>\n",
       "      <td>small</td>\n",
       "      <td>2008</td>\n",
       "      <td>manual</td>\n",
       "      <td>69</td>\n",
       "      <td>fabia</td>\n",
       "      <td>90000</td>\n",
       "      <td>7</td>\n",
       "      <td>gasoline</td>\n",
       "      <td>skoda</td>\n",
       "      <td>no</td>\n",
       "      <td>2016-03-31 00:00:00</td>\n",
       "      <td>60437</td>\n",
       "      <td>2016-04-06 10:17:21</td>\n",
       "      <td>современные</td>\n",
       "    </tr>\n",
       "    <tr>\n",
       "      <th>5</th>\n",
       "      <td>2016-04-04 17:36:23</td>\n",
       "      <td>650</td>\n",
       "      <td>sedan</td>\n",
       "      <td>1995</td>\n",
       "      <td>manual</td>\n",
       "      <td>102</td>\n",
       "      <td>3er</td>\n",
       "      <td>150000</td>\n",
       "      <td>10</td>\n",
       "      <td>petrol</td>\n",
       "      <td>bmw</td>\n",
       "      <td>yes</td>\n",
       "      <td>2016-04-04 00:00:00</td>\n",
       "      <td>33775</td>\n",
       "      <td>2016-04-06 19:17:07</td>\n",
       "      <td>современные</td>\n",
       "    </tr>\n",
       "    <tr>\n",
       "      <th>...</th>\n",
       "      <td>...</td>\n",
       "      <td>...</td>\n",
       "      <td>...</td>\n",
       "      <td>...</td>\n",
       "      <td>...</td>\n",
       "      <td>...</td>\n",
       "      <td>...</td>\n",
       "      <td>...</td>\n",
       "      <td>...</td>\n",
       "      <td>...</td>\n",
       "      <td>...</td>\n",
       "      <td>...</td>\n",
       "      <td>...</td>\n",
       "      <td>...</td>\n",
       "      <td>...</td>\n",
       "      <td>...</td>\n",
       "    </tr>\n",
       "    <tr>\n",
       "      <th>354361</th>\n",
       "      <td>2016-03-09 13:37:43</td>\n",
       "      <td>5250</td>\n",
       "      <td>Unknown</td>\n",
       "      <td>2016</td>\n",
       "      <td>auto</td>\n",
       "      <td>150</td>\n",
       "      <td>159</td>\n",
       "      <td>150000</td>\n",
       "      <td>12</td>\n",
       "      <td>Unknown</td>\n",
       "      <td>alfa_romeo</td>\n",
       "      <td>no</td>\n",
       "      <td>2016-03-09 00:00:00</td>\n",
       "      <td>51371</td>\n",
       "      <td>2016-03-13 01:44:13</td>\n",
       "      <td>современные</td>\n",
       "    </tr>\n",
       "    <tr>\n",
       "      <th>354362</th>\n",
       "      <td>2016-03-19 19:53:49</td>\n",
       "      <td>3200</td>\n",
       "      <td>sedan</td>\n",
       "      <td>2004</td>\n",
       "      <td>manual</td>\n",
       "      <td>225</td>\n",
       "      <td>leon</td>\n",
       "      <td>150000</td>\n",
       "      <td>5</td>\n",
       "      <td>petrol</td>\n",
       "      <td>seat</td>\n",
       "      <td>yes</td>\n",
       "      <td>2016-03-19 00:00:00</td>\n",
       "      <td>96465</td>\n",
       "      <td>2016-03-19 20:44:43</td>\n",
       "      <td>современные</td>\n",
       "    </tr>\n",
       "    <tr>\n",
       "      <th>354366</th>\n",
       "      <td>2016-03-05 19:56:21</td>\n",
       "      <td>1199</td>\n",
       "      <td>convertible</td>\n",
       "      <td>2000</td>\n",
       "      <td>auto</td>\n",
       "      <td>101</td>\n",
       "      <td>fortwo</td>\n",
       "      <td>125000</td>\n",
       "      <td>3</td>\n",
       "      <td>petrol</td>\n",
       "      <td>smart</td>\n",
       "      <td>no</td>\n",
       "      <td>2016-03-05 00:00:00</td>\n",
       "      <td>26135</td>\n",
       "      <td>2016-03-11 18:17:12</td>\n",
       "      <td>современные</td>\n",
       "    </tr>\n",
       "    <tr>\n",
       "      <th>354367</th>\n",
       "      <td>2016-03-19 18:57:12</td>\n",
       "      <td>9200</td>\n",
       "      <td>bus</td>\n",
       "      <td>1996</td>\n",
       "      <td>manual</td>\n",
       "      <td>102</td>\n",
       "      <td>transporter</td>\n",
       "      <td>150000</td>\n",
       "      <td>3</td>\n",
       "      <td>gasoline</td>\n",
       "      <td>volkswagen</td>\n",
       "      <td>no</td>\n",
       "      <td>2016-03-19 00:00:00</td>\n",
       "      <td>87439</td>\n",
       "      <td>2016-04-07 07:15:26</td>\n",
       "      <td>современные</td>\n",
       "    </tr>\n",
       "    <tr>\n",
       "      <th>354368</th>\n",
       "      <td>2016-03-20 19:41:08</td>\n",
       "      <td>3400</td>\n",
       "      <td>wagon</td>\n",
       "      <td>2002</td>\n",
       "      <td>manual</td>\n",
       "      <td>100</td>\n",
       "      <td>golf</td>\n",
       "      <td>150000</td>\n",
       "      <td>6</td>\n",
       "      <td>gasoline</td>\n",
       "      <td>volkswagen</td>\n",
       "      <td>Unknown</td>\n",
       "      <td>2016-03-20 00:00:00</td>\n",
       "      <td>40764</td>\n",
       "      <td>2016-03-24 12:45:21</td>\n",
       "      <td>современные</td>\n",
       "    </tr>\n",
       "  </tbody>\n",
       "</table>\n",
       "<p>277307 rows × 16 columns</p>\n",
       "</div>"
      ],
      "text/plain": [
       "               date_crawled  price vehicle_type  registration_year gearbox  \\\n",
       "1       2016-03-24 10:58:45  18300        coupe               2011  manual   \n",
       "2       2016-03-14 12:52:21   9800          suv               2004    auto   \n",
       "3       2016-03-17 16:54:04   1500        small               2001  manual   \n",
       "4       2016-03-31 17:25:20   3600        small               2008  manual   \n",
       "5       2016-04-04 17:36:23    650        sedan               1995  manual   \n",
       "...                     ...    ...          ...                ...     ...   \n",
       "354361  2016-03-09 13:37:43   5250      Unknown               2016    auto   \n",
       "354362  2016-03-19 19:53:49   3200        sedan               2004  manual   \n",
       "354366  2016-03-05 19:56:21   1199  convertible               2000    auto   \n",
       "354367  2016-03-19 18:57:12   9200          bus               1996  manual   \n",
       "354368  2016-03-20 19:41:08   3400        wagon               2002  manual   \n",
       "\n",
       "        power        model  kilometer  registration_month fuel_type  \\\n",
       "1         190      Unknown     125000                   5  gasoline   \n",
       "2         163        grand     125000                   8  gasoline   \n",
       "3          75         golf     150000                   6    petrol   \n",
       "4          69        fabia      90000                   7  gasoline   \n",
       "5         102          3er     150000                  10    petrol   \n",
       "...       ...          ...        ...                 ...       ...   \n",
       "354361    150          159     150000                  12   Unknown   \n",
       "354362    225         leon     150000                   5    petrol   \n",
       "354366    101       fortwo     125000                   3    petrol   \n",
       "354367    102  transporter     150000                   3  gasoline   \n",
       "354368    100         golf     150000                   6  gasoline   \n",
       "\n",
       "             brand not_repaired         date_created  postal_code  \\\n",
       "1             audi          yes  2016-03-24 00:00:00        66954   \n",
       "2             jeep      Unknown  2016-03-14 00:00:00        90480   \n",
       "3       volkswagen           no  2016-03-17 00:00:00        91074   \n",
       "4            skoda           no  2016-03-31 00:00:00        60437   \n",
       "5              bmw          yes  2016-04-04 00:00:00        33775   \n",
       "...            ...          ...                  ...          ...   \n",
       "354361  alfa_romeo           no  2016-03-09 00:00:00        51371   \n",
       "354362        seat          yes  2016-03-19 00:00:00        96465   \n",
       "354366       smart           no  2016-03-05 00:00:00        26135   \n",
       "354367  volkswagen           no  2016-03-19 00:00:00        87439   \n",
       "354368  volkswagen      Unknown  2016-03-20 00:00:00        40764   \n",
       "\n",
       "                  last_seen registration_year_id  \n",
       "1       2016-04-07 01:46:50          современные  \n",
       "2       2016-04-05 12:47:46          современные  \n",
       "3       2016-03-17 17:40:17          современные  \n",
       "4       2016-04-06 10:17:21          современные  \n",
       "5       2016-04-06 19:17:07          современные  \n",
       "...                     ...                  ...  \n",
       "354361  2016-03-13 01:44:13          современные  \n",
       "354362  2016-03-19 20:44:43          современные  \n",
       "354366  2016-03-11 18:17:12          современные  \n",
       "354367  2016-04-07 07:15:26          современные  \n",
       "354368  2016-03-24 12:45:21          современные  \n",
       "\n",
       "[277307 rows x 16 columns]"
      ]
     },
     "execution_count": 65,
     "metadata": {},
     "output_type": "execute_result"
    }
   ],
   "source": [
    "df"
   ]
  },
  {
   "cell_type": "code",
   "execution_count": 66,
   "metadata": {},
   "outputs": [
    {
     "data": {
      "text/html": [
       "<div>\n",
       "<style scoped>\n",
       "    .dataframe tbody tr th:only-of-type {\n",
       "        vertical-align: middle;\n",
       "    }\n",
       "\n",
       "    .dataframe tbody tr th {\n",
       "        vertical-align: top;\n",
       "    }\n",
       "\n",
       "    .dataframe thead th {\n",
       "        text-align: right;\n",
       "    }\n",
       "</style>\n",
       "<table border=\"1\" class=\"dataframe\">\n",
       "  <thead>\n",
       "    <tr style=\"text-align: right;\">\n",
       "      <th></th>\n",
       "      <th>price</th>\n",
       "      <th>vehicle_type</th>\n",
       "      <th>registration_year</th>\n",
       "      <th>gearbox</th>\n",
       "      <th>power</th>\n",
       "      <th>model</th>\n",
       "      <th>kilometer</th>\n",
       "      <th>registration_month</th>\n",
       "      <th>fuel_type</th>\n",
       "      <th>brand</th>\n",
       "      <th>not_repaired</th>\n",
       "      <th>registration_year_id</th>\n",
       "    </tr>\n",
       "  </thead>\n",
       "  <tbody>\n",
       "    <tr>\n",
       "      <th>1</th>\n",
       "      <td>18300</td>\n",
       "      <td>coupe</td>\n",
       "      <td>2011</td>\n",
       "      <td>manual</td>\n",
       "      <td>190</td>\n",
       "      <td>Unknown</td>\n",
       "      <td>125000</td>\n",
       "      <td>5</td>\n",
       "      <td>gasoline</td>\n",
       "      <td>audi</td>\n",
       "      <td>yes</td>\n",
       "      <td>современные</td>\n",
       "    </tr>\n",
       "    <tr>\n",
       "      <th>2</th>\n",
       "      <td>9800</td>\n",
       "      <td>suv</td>\n",
       "      <td>2004</td>\n",
       "      <td>auto</td>\n",
       "      <td>163</td>\n",
       "      <td>grand</td>\n",
       "      <td>125000</td>\n",
       "      <td>8</td>\n",
       "      <td>gasoline</td>\n",
       "      <td>jeep</td>\n",
       "      <td>Unknown</td>\n",
       "      <td>современные</td>\n",
       "    </tr>\n",
       "    <tr>\n",
       "      <th>3</th>\n",
       "      <td>1500</td>\n",
       "      <td>small</td>\n",
       "      <td>2001</td>\n",
       "      <td>manual</td>\n",
       "      <td>75</td>\n",
       "      <td>golf</td>\n",
       "      <td>150000</td>\n",
       "      <td>6</td>\n",
       "      <td>petrol</td>\n",
       "      <td>volkswagen</td>\n",
       "      <td>no</td>\n",
       "      <td>современные</td>\n",
       "    </tr>\n",
       "    <tr>\n",
       "      <th>4</th>\n",
       "      <td>3600</td>\n",
       "      <td>small</td>\n",
       "      <td>2008</td>\n",
       "      <td>manual</td>\n",
       "      <td>69</td>\n",
       "      <td>fabia</td>\n",
       "      <td>90000</td>\n",
       "      <td>7</td>\n",
       "      <td>gasoline</td>\n",
       "      <td>skoda</td>\n",
       "      <td>no</td>\n",
       "      <td>современные</td>\n",
       "    </tr>\n",
       "    <tr>\n",
       "      <th>5</th>\n",
       "      <td>650</td>\n",
       "      <td>sedan</td>\n",
       "      <td>1995</td>\n",
       "      <td>manual</td>\n",
       "      <td>102</td>\n",
       "      <td>3er</td>\n",
       "      <td>150000</td>\n",
       "      <td>10</td>\n",
       "      <td>petrol</td>\n",
       "      <td>bmw</td>\n",
       "      <td>yes</td>\n",
       "      <td>современные</td>\n",
       "    </tr>\n",
       "    <tr>\n",
       "      <th>...</th>\n",
       "      <td>...</td>\n",
       "      <td>...</td>\n",
       "      <td>...</td>\n",
       "      <td>...</td>\n",
       "      <td>...</td>\n",
       "      <td>...</td>\n",
       "      <td>...</td>\n",
       "      <td>...</td>\n",
       "      <td>...</td>\n",
       "      <td>...</td>\n",
       "      <td>...</td>\n",
       "      <td>...</td>\n",
       "    </tr>\n",
       "    <tr>\n",
       "      <th>354361</th>\n",
       "      <td>5250</td>\n",
       "      <td>Unknown</td>\n",
       "      <td>2016</td>\n",
       "      <td>auto</td>\n",
       "      <td>150</td>\n",
       "      <td>159</td>\n",
       "      <td>150000</td>\n",
       "      <td>12</td>\n",
       "      <td>Unknown</td>\n",
       "      <td>alfa_romeo</td>\n",
       "      <td>no</td>\n",
       "      <td>современные</td>\n",
       "    </tr>\n",
       "    <tr>\n",
       "      <th>354362</th>\n",
       "      <td>3200</td>\n",
       "      <td>sedan</td>\n",
       "      <td>2004</td>\n",
       "      <td>manual</td>\n",
       "      <td>225</td>\n",
       "      <td>leon</td>\n",
       "      <td>150000</td>\n",
       "      <td>5</td>\n",
       "      <td>petrol</td>\n",
       "      <td>seat</td>\n",
       "      <td>yes</td>\n",
       "      <td>современные</td>\n",
       "    </tr>\n",
       "    <tr>\n",
       "      <th>354366</th>\n",
       "      <td>1199</td>\n",
       "      <td>convertible</td>\n",
       "      <td>2000</td>\n",
       "      <td>auto</td>\n",
       "      <td>101</td>\n",
       "      <td>fortwo</td>\n",
       "      <td>125000</td>\n",
       "      <td>3</td>\n",
       "      <td>petrol</td>\n",
       "      <td>smart</td>\n",
       "      <td>no</td>\n",
       "      <td>современные</td>\n",
       "    </tr>\n",
       "    <tr>\n",
       "      <th>354367</th>\n",
       "      <td>9200</td>\n",
       "      <td>bus</td>\n",
       "      <td>1996</td>\n",
       "      <td>manual</td>\n",
       "      <td>102</td>\n",
       "      <td>transporter</td>\n",
       "      <td>150000</td>\n",
       "      <td>3</td>\n",
       "      <td>gasoline</td>\n",
       "      <td>volkswagen</td>\n",
       "      <td>no</td>\n",
       "      <td>современные</td>\n",
       "    </tr>\n",
       "    <tr>\n",
       "      <th>354368</th>\n",
       "      <td>3400</td>\n",
       "      <td>wagon</td>\n",
       "      <td>2002</td>\n",
       "      <td>manual</td>\n",
       "      <td>100</td>\n",
       "      <td>golf</td>\n",
       "      <td>150000</td>\n",
       "      <td>6</td>\n",
       "      <td>gasoline</td>\n",
       "      <td>volkswagen</td>\n",
       "      <td>Unknown</td>\n",
       "      <td>современные</td>\n",
       "    </tr>\n",
       "  </tbody>\n",
       "</table>\n",
       "<p>277307 rows × 12 columns</p>\n",
       "</div>"
      ],
      "text/plain": [
       "        price vehicle_type  registration_year gearbox  power        model  \\\n",
       "1       18300        coupe               2011  manual    190      Unknown   \n",
       "2        9800          suv               2004    auto    163        grand   \n",
       "3        1500        small               2001  manual     75         golf   \n",
       "4        3600        small               2008  manual     69        fabia   \n",
       "5         650        sedan               1995  manual    102          3er   \n",
       "...       ...          ...                ...     ...    ...          ...   \n",
       "354361   5250      Unknown               2016    auto    150          159   \n",
       "354362   3200        sedan               2004  manual    225         leon   \n",
       "354366   1199  convertible               2000    auto    101       fortwo   \n",
       "354367   9200          bus               1996  manual    102  transporter   \n",
       "354368   3400        wagon               2002  manual    100         golf   \n",
       "\n",
       "        kilometer  registration_month fuel_type       brand not_repaired  \\\n",
       "1          125000                   5  gasoline        audi          yes   \n",
       "2          125000                   8  gasoline        jeep      Unknown   \n",
       "3          150000                   6    petrol  volkswagen           no   \n",
       "4           90000                   7  gasoline       skoda           no   \n",
       "5          150000                  10    petrol         bmw          yes   \n",
       "...           ...                 ...       ...         ...          ...   \n",
       "354361     150000                  12   Unknown  alfa_romeo           no   \n",
       "354362     150000                   5    petrol        seat          yes   \n",
       "354366     125000                   3    petrol       smart           no   \n",
       "354367     150000                   3  gasoline  volkswagen           no   \n",
       "354368     150000                   6  gasoline  volkswagen      Unknown   \n",
       "\n",
       "       registration_year_id  \n",
       "1               современные  \n",
       "2               современные  \n",
       "3               современные  \n",
       "4               современные  \n",
       "5               современные  \n",
       "...                     ...  \n",
       "354361          современные  \n",
       "354362          современные  \n",
       "354366          современные  \n",
       "354367          современные  \n",
       "354368          современные  \n",
       "\n",
       "[277307 rows x 12 columns]"
      ]
     },
     "execution_count": 66,
     "metadata": {},
     "output_type": "execute_result"
    }
   ],
   "source": [
    "df = df[['price','vehicle_type','registration_year',\\\n",
    "         'gearbox','power','model','kilometer',\\\n",
    "         'registration_month','fuel_type','brand',\\\n",
    "         'not_repaired', 'registration_year_id']]\n",
    "df"
   ]
  },
  {
   "cell_type": "markdown",
   "metadata": {},
   "source": [
    " "
   ]
  },
  {
   "cell_type": "markdown",
   "metadata": {},
   "source": [
    "сделаем резервную копию на всякий случай"
   ]
  },
  {
   "cell_type": "code",
   "execution_count": 67,
   "metadata": {},
   "outputs": [],
   "source": [
    "df_copy = df.copy()"
   ]
  },
  {
   "cell_type": "markdown",
   "metadata": {},
   "source": [
    " "
   ]
  },
  {
   "cell_type": "markdown",
   "metadata": {},
   "source": [
    " "
   ]
  },
  {
   "cell_type": "code",
   "execution_count": 68,
   "metadata": {},
   "outputs": [
    {
     "data": {
      "text/plain": [
       "array(['coupe', 'suv', 'small', 'sedan', 'convertible', 'bus', 'wagon',\n",
       "       'Unknown', 'other'], dtype=object)"
      ]
     },
     "execution_count": 68,
     "metadata": {},
     "output_type": "execute_result"
    }
   ],
   "source": [
    "df.vehicle_type.unique()"
   ]
  },
  {
   "cell_type": "markdown",
   "metadata": {},
   "source": [
    "Преобразуем наши категориальные значения"
   ]
  },
  {
   "cell_type": "markdown",
   "metadata": {},
   "source": [
    " "
   ]
  },
  {
   "cell_type": "code",
   "execution_count": 69,
   "metadata": {},
   "outputs": [],
   "source": [
    "encoder = OrdinalEncoder()"
   ]
  },
  {
   "cell_type": "code",
   "execution_count": 70,
   "metadata": {},
   "outputs": [
    {
     "data": {
      "text/html": [
       "<div>\n",
       "<style scoped>\n",
       "    .dataframe tbody tr th:only-of-type {\n",
       "        vertical-align: middle;\n",
       "    }\n",
       "\n",
       "    .dataframe tbody tr th {\n",
       "        vertical-align: top;\n",
       "    }\n",
       "\n",
       "    .dataframe thead th {\n",
       "        text-align: right;\n",
       "    }\n",
       "</style>\n",
       "<table border=\"1\" class=\"dataframe\">\n",
       "  <thead>\n",
       "    <tr style=\"text-align: right;\">\n",
       "      <th></th>\n",
       "      <th>price</th>\n",
       "      <th>vehicle_type</th>\n",
       "      <th>registration_year</th>\n",
       "      <th>gearbox</th>\n",
       "      <th>power</th>\n",
       "      <th>model</th>\n",
       "      <th>kilometer</th>\n",
       "      <th>registration_month</th>\n",
       "      <th>fuel_type</th>\n",
       "      <th>brand</th>\n",
       "      <th>not_repaired</th>\n",
       "      <th>registration_year_id</th>\n",
       "    </tr>\n",
       "  </thead>\n",
       "  <tbody>\n",
       "    <tr>\n",
       "      <th>1</th>\n",
       "      <td>18300</td>\n",
       "      <td>3.0</td>\n",
       "      <td>2011</td>\n",
       "      <td>2.0</td>\n",
       "      <td>190</td>\n",
       "      <td>26.0</td>\n",
       "      <td>125000</td>\n",
       "      <td>5</td>\n",
       "      <td>3.0</td>\n",
       "      <td>1.0</td>\n",
       "      <td>2.0</td>\n",
       "      <td>2.0</td>\n",
       "    </tr>\n",
       "    <tr>\n",
       "      <th>2</th>\n",
       "      <td>9800</td>\n",
       "      <td>7.0</td>\n",
       "      <td>2004</td>\n",
       "      <td>1.0</td>\n",
       "      <td>163</td>\n",
       "      <td>118.0</td>\n",
       "      <td>125000</td>\n",
       "      <td>8</td>\n",
       "      <td>3.0</td>\n",
       "      <td>14.0</td>\n",
       "      <td>0.0</td>\n",
       "      <td>2.0</td>\n",
       "    </tr>\n",
       "    <tr>\n",
       "      <th>3</th>\n",
       "      <td>1500</td>\n",
       "      <td>6.0</td>\n",
       "      <td>2001</td>\n",
       "      <td>2.0</td>\n",
       "      <td>75</td>\n",
       "      <td>117.0</td>\n",
       "      <td>150000</td>\n",
       "      <td>6</td>\n",
       "      <td>7.0</td>\n",
       "      <td>38.0</td>\n",
       "      <td>1.0</td>\n",
       "      <td>2.0</td>\n",
       "    </tr>\n",
       "    <tr>\n",
       "      <th>4</th>\n",
       "      <td>3600</td>\n",
       "      <td>6.0</td>\n",
       "      <td>2008</td>\n",
       "      <td>2.0</td>\n",
       "      <td>69</td>\n",
       "      <td>102.0</td>\n",
       "      <td>90000</td>\n",
       "      <td>7</td>\n",
       "      <td>3.0</td>\n",
       "      <td>31.0</td>\n",
       "      <td>1.0</td>\n",
       "      <td>2.0</td>\n",
       "    </tr>\n",
       "    <tr>\n",
       "      <th>5</th>\n",
       "      <td>650</td>\n",
       "      <td>5.0</td>\n",
       "      <td>1995</td>\n",
       "      <td>2.0</td>\n",
       "      <td>102</td>\n",
       "      <td>11.0</td>\n",
       "      <td>150000</td>\n",
       "      <td>10</td>\n",
       "      <td>7.0</td>\n",
       "      <td>2.0</td>\n",
       "      <td>2.0</td>\n",
       "      <td>2.0</td>\n",
       "    </tr>\n",
       "    <tr>\n",
       "      <th>...</th>\n",
       "      <td>...</td>\n",
       "      <td>...</td>\n",
       "      <td>...</td>\n",
       "      <td>...</td>\n",
       "      <td>...</td>\n",
       "      <td>...</td>\n",
       "      <td>...</td>\n",
       "      <td>...</td>\n",
       "      <td>...</td>\n",
       "      <td>...</td>\n",
       "      <td>...</td>\n",
       "      <td>...</td>\n",
       "    </tr>\n",
       "    <tr>\n",
       "      <th>354361</th>\n",
       "      <td>5250</td>\n",
       "      <td>0.0</td>\n",
       "      <td>2016</td>\n",
       "      <td>1.0</td>\n",
       "      <td>150</td>\n",
       "      <td>4.0</td>\n",
       "      <td>150000</td>\n",
       "      <td>12</td>\n",
       "      <td>0.0</td>\n",
       "      <td>0.0</td>\n",
       "      <td>1.0</td>\n",
       "      <td>2.0</td>\n",
       "    </tr>\n",
       "    <tr>\n",
       "      <th>354362</th>\n",
       "      <td>3200</td>\n",
       "      <td>5.0</td>\n",
       "      <td>2004</td>\n",
       "      <td>2.0</td>\n",
       "      <td>225</td>\n",
       "      <td>141.0</td>\n",
       "      <td>150000</td>\n",
       "      <td>5</td>\n",
       "      <td>7.0</td>\n",
       "      <td>30.0</td>\n",
       "      <td>2.0</td>\n",
       "      <td>2.0</td>\n",
       "    </tr>\n",
       "    <tr>\n",
       "      <th>354366</th>\n",
       "      <td>1199</td>\n",
       "      <td>2.0</td>\n",
       "      <td>2000</td>\n",
       "      <td>1.0</td>\n",
       "      <td>101</td>\n",
       "      <td>107.0</td>\n",
       "      <td>125000</td>\n",
       "      <td>3</td>\n",
       "      <td>7.0</td>\n",
       "      <td>32.0</td>\n",
       "      <td>1.0</td>\n",
       "      <td>2.0</td>\n",
       "    </tr>\n",
       "    <tr>\n",
       "      <th>354367</th>\n",
       "      <td>9200</td>\n",
       "      <td>1.0</td>\n",
       "      <td>1996</td>\n",
       "      <td>2.0</td>\n",
       "      <td>102</td>\n",
       "      <td>224.0</td>\n",
       "      <td>150000</td>\n",
       "      <td>3</td>\n",
       "      <td>3.0</td>\n",
       "      <td>38.0</td>\n",
       "      <td>1.0</td>\n",
       "      <td>2.0</td>\n",
       "    </tr>\n",
       "    <tr>\n",
       "      <th>354368</th>\n",
       "      <td>3400</td>\n",
       "      <td>8.0</td>\n",
       "      <td>2002</td>\n",
       "      <td>2.0</td>\n",
       "      <td>100</td>\n",
       "      <td>117.0</td>\n",
       "      <td>150000</td>\n",
       "      <td>6</td>\n",
       "      <td>3.0</td>\n",
       "      <td>38.0</td>\n",
       "      <td>0.0</td>\n",
       "      <td>2.0</td>\n",
       "    </tr>\n",
       "  </tbody>\n",
       "</table>\n",
       "<p>277307 rows × 12 columns</p>\n",
       "</div>"
      ],
      "text/plain": [
       "        price  vehicle_type  registration_year  gearbox  power  model  \\\n",
       "1       18300           3.0               2011      2.0    190   26.0   \n",
       "2        9800           7.0               2004      1.0    163  118.0   \n",
       "3        1500           6.0               2001      2.0     75  117.0   \n",
       "4        3600           6.0               2008      2.0     69  102.0   \n",
       "5         650           5.0               1995      2.0    102   11.0   \n",
       "...       ...           ...                ...      ...    ...    ...   \n",
       "354361   5250           0.0               2016      1.0    150    4.0   \n",
       "354362   3200           5.0               2004      2.0    225  141.0   \n",
       "354366   1199           2.0               2000      1.0    101  107.0   \n",
       "354367   9200           1.0               1996      2.0    102  224.0   \n",
       "354368   3400           8.0               2002      2.0    100  117.0   \n",
       "\n",
       "        kilometer  registration_month  fuel_type  brand  not_repaired  \\\n",
       "1          125000                   5        3.0    1.0           2.0   \n",
       "2          125000                   8        3.0   14.0           0.0   \n",
       "3          150000                   6        7.0   38.0           1.0   \n",
       "4           90000                   7        3.0   31.0           1.0   \n",
       "5          150000                  10        7.0    2.0           2.0   \n",
       "...           ...                 ...        ...    ...           ...   \n",
       "354361     150000                  12        0.0    0.0           1.0   \n",
       "354362     150000                   5        7.0   30.0           2.0   \n",
       "354366     125000                   3        7.0   32.0           1.0   \n",
       "354367     150000                   3        3.0   38.0           1.0   \n",
       "354368     150000                   6        3.0   38.0           0.0   \n",
       "\n",
       "        registration_year_id  \n",
       "1                        2.0  \n",
       "2                        2.0  \n",
       "3                        2.0  \n",
       "4                        2.0  \n",
       "5                        2.0  \n",
       "...                      ...  \n",
       "354361                   2.0  \n",
       "354362                   2.0  \n",
       "354366                   2.0  \n",
       "354367                   2.0  \n",
       "354368                   2.0  \n",
       "\n",
       "[277307 rows x 12 columns]"
      ]
     },
     "execution_count": 70,
     "metadata": {},
     "output_type": "execute_result"
    }
   ],
   "source": [
    "df[['vehicle_type','gearbox','model','fuel_type','brand','not_repaired','registration_year_id']] = \\\n",
    "encoder.fit_transform(df[['vehicle_type','gearbox','model','fuel_type','brand','not_repaired','registration_year_id']])\n",
    "df"
   ]
  },
  {
   "cell_type": "code",
   "execution_count": 71,
   "metadata": {},
   "outputs": [
    {
     "name": "stdout",
     "output_type": "stream",
     "text": [
      "<class 'pandas.core.frame.DataFrame'>\n",
      "Int64Index: 277307 entries, 1 to 354368\n",
      "Data columns (total 12 columns):\n",
      " #   Column                Non-Null Count   Dtype  \n",
      "---  ------                --------------   -----  \n",
      " 0   price                 277307 non-null  int64  \n",
      " 1   vehicle_type          277307 non-null  float64\n",
      " 2   registration_year     277307 non-null  int64  \n",
      " 3   gearbox               277307 non-null  float64\n",
      " 4   power                 277307 non-null  int64  \n",
      " 5   model                 277307 non-null  float64\n",
      " 6   kilometer             277307 non-null  int64  \n",
      " 7   registration_month    277307 non-null  int64  \n",
      " 8   fuel_type             277307 non-null  float64\n",
      " 9   brand                 277307 non-null  float64\n",
      " 10  not_repaired          277307 non-null  float64\n",
      " 11  registration_year_id  277307 non-null  float64\n",
      "dtypes: float64(7), int64(5)\n",
      "memory usage: 27.5 MB\n"
     ]
    }
   ],
   "source": [
    "df.info()"
   ]
  },
  {
   "cell_type": "markdown",
   "metadata": {},
   "source": [
    "Преобразуем наши типы данных в int"
   ]
  },
  {
   "cell_type": "code",
   "execution_count": 72,
   "metadata": {},
   "outputs": [],
   "source": [
    "df['vehicle_type']=df['vehicle_type'].astype('int')\n",
    "df['gearbox']=df['gearbox'].astype('int')\n",
    "df['model']=df['model'].astype('int')\n",
    "df['fuel_type']=df['fuel_type'].astype('int')\n",
    "df['brand']=df['brand'].astype('int')\n",
    "df['not_repaired']=df['not_repaired'].astype('int')\n",
    "df['registration_year_id']=df['registration_year_id'].astype('int')"
   ]
  },
  {
   "cell_type": "code",
   "execution_count": 73,
   "metadata": {},
   "outputs": [
    {
     "name": "stdout",
     "output_type": "stream",
     "text": [
      "<class 'pandas.core.frame.DataFrame'>\n",
      "Int64Index: 277307 entries, 1 to 354368\n",
      "Data columns (total 12 columns):\n",
      " #   Column                Non-Null Count   Dtype\n",
      "---  ------                --------------   -----\n",
      " 0   price                 277307 non-null  int64\n",
      " 1   vehicle_type          277307 non-null  int32\n",
      " 2   registration_year     277307 non-null  int64\n",
      " 3   gearbox               277307 non-null  int32\n",
      " 4   power                 277307 non-null  int64\n",
      " 5   model                 277307 non-null  int32\n",
      " 6   kilometer             277307 non-null  int64\n",
      " 7   registration_month    277307 non-null  int64\n",
      " 8   fuel_type             277307 non-null  int32\n",
      " 9   brand                 277307 non-null  int32\n",
      " 10  not_repaired          277307 non-null  int32\n",
      " 11  registration_year_id  277307 non-null  int32\n",
      "dtypes: int32(7), int64(5)\n",
      "memory usage: 20.1 MB\n"
     ]
    }
   ],
   "source": [
    "df.info()"
   ]
  },
  {
   "cell_type": "code",
   "execution_count": 74,
   "metadata": {},
   "outputs": [
    {
     "data": {
      "text/html": [
       "<div>\n",
       "<style scoped>\n",
       "    .dataframe tbody tr th:only-of-type {\n",
       "        vertical-align: middle;\n",
       "    }\n",
       "\n",
       "    .dataframe tbody tr th {\n",
       "        vertical-align: top;\n",
       "    }\n",
       "\n",
       "    .dataframe thead th {\n",
       "        text-align: right;\n",
       "    }\n",
       "</style>\n",
       "<table border=\"1\" class=\"dataframe\">\n",
       "  <thead>\n",
       "    <tr style=\"text-align: right;\">\n",
       "      <th></th>\n",
       "      <th>price</th>\n",
       "      <th>vehicle_type</th>\n",
       "      <th>registration_year</th>\n",
       "      <th>gearbox</th>\n",
       "      <th>power</th>\n",
       "      <th>model</th>\n",
       "      <th>kilometer</th>\n",
       "      <th>registration_month</th>\n",
       "      <th>fuel_type</th>\n",
       "      <th>brand</th>\n",
       "      <th>not_repaired</th>\n",
       "      <th>registration_year_id</th>\n",
       "    </tr>\n",
       "  </thead>\n",
       "  <tbody>\n",
       "    <tr>\n",
       "      <th>1</th>\n",
       "      <td>18300</td>\n",
       "      <td>3</td>\n",
       "      <td>2011</td>\n",
       "      <td>2</td>\n",
       "      <td>190</td>\n",
       "      <td>26</td>\n",
       "      <td>125000</td>\n",
       "      <td>5</td>\n",
       "      <td>3</td>\n",
       "      <td>1</td>\n",
       "      <td>2</td>\n",
       "      <td>2</td>\n",
       "    </tr>\n",
       "    <tr>\n",
       "      <th>2</th>\n",
       "      <td>9800</td>\n",
       "      <td>7</td>\n",
       "      <td>2004</td>\n",
       "      <td>1</td>\n",
       "      <td>163</td>\n",
       "      <td>118</td>\n",
       "      <td>125000</td>\n",
       "      <td>8</td>\n",
       "      <td>3</td>\n",
       "      <td>14</td>\n",
       "      <td>0</td>\n",
       "      <td>2</td>\n",
       "    </tr>\n",
       "    <tr>\n",
       "      <th>3</th>\n",
       "      <td>1500</td>\n",
       "      <td>6</td>\n",
       "      <td>2001</td>\n",
       "      <td>2</td>\n",
       "      <td>75</td>\n",
       "      <td>117</td>\n",
       "      <td>150000</td>\n",
       "      <td>6</td>\n",
       "      <td>7</td>\n",
       "      <td>38</td>\n",
       "      <td>1</td>\n",
       "      <td>2</td>\n",
       "    </tr>\n",
       "    <tr>\n",
       "      <th>4</th>\n",
       "      <td>3600</td>\n",
       "      <td>6</td>\n",
       "      <td>2008</td>\n",
       "      <td>2</td>\n",
       "      <td>69</td>\n",
       "      <td>102</td>\n",
       "      <td>90000</td>\n",
       "      <td>7</td>\n",
       "      <td>3</td>\n",
       "      <td>31</td>\n",
       "      <td>1</td>\n",
       "      <td>2</td>\n",
       "    </tr>\n",
       "    <tr>\n",
       "      <th>5</th>\n",
       "      <td>650</td>\n",
       "      <td>5</td>\n",
       "      <td>1995</td>\n",
       "      <td>2</td>\n",
       "      <td>102</td>\n",
       "      <td>11</td>\n",
       "      <td>150000</td>\n",
       "      <td>10</td>\n",
       "      <td>7</td>\n",
       "      <td>2</td>\n",
       "      <td>2</td>\n",
       "      <td>2</td>\n",
       "    </tr>\n",
       "    <tr>\n",
       "      <th>...</th>\n",
       "      <td>...</td>\n",
       "      <td>...</td>\n",
       "      <td>...</td>\n",
       "      <td>...</td>\n",
       "      <td>...</td>\n",
       "      <td>...</td>\n",
       "      <td>...</td>\n",
       "      <td>...</td>\n",
       "      <td>...</td>\n",
       "      <td>...</td>\n",
       "      <td>...</td>\n",
       "      <td>...</td>\n",
       "    </tr>\n",
       "    <tr>\n",
       "      <th>354361</th>\n",
       "      <td>5250</td>\n",
       "      <td>0</td>\n",
       "      <td>2016</td>\n",
       "      <td>1</td>\n",
       "      <td>150</td>\n",
       "      <td>4</td>\n",
       "      <td>150000</td>\n",
       "      <td>12</td>\n",
       "      <td>0</td>\n",
       "      <td>0</td>\n",
       "      <td>1</td>\n",
       "      <td>2</td>\n",
       "    </tr>\n",
       "    <tr>\n",
       "      <th>354362</th>\n",
       "      <td>3200</td>\n",
       "      <td>5</td>\n",
       "      <td>2004</td>\n",
       "      <td>2</td>\n",
       "      <td>225</td>\n",
       "      <td>141</td>\n",
       "      <td>150000</td>\n",
       "      <td>5</td>\n",
       "      <td>7</td>\n",
       "      <td>30</td>\n",
       "      <td>2</td>\n",
       "      <td>2</td>\n",
       "    </tr>\n",
       "    <tr>\n",
       "      <th>354366</th>\n",
       "      <td>1199</td>\n",
       "      <td>2</td>\n",
       "      <td>2000</td>\n",
       "      <td>1</td>\n",
       "      <td>101</td>\n",
       "      <td>107</td>\n",
       "      <td>125000</td>\n",
       "      <td>3</td>\n",
       "      <td>7</td>\n",
       "      <td>32</td>\n",
       "      <td>1</td>\n",
       "      <td>2</td>\n",
       "    </tr>\n",
       "    <tr>\n",
       "      <th>354367</th>\n",
       "      <td>9200</td>\n",
       "      <td>1</td>\n",
       "      <td>1996</td>\n",
       "      <td>2</td>\n",
       "      <td>102</td>\n",
       "      <td>224</td>\n",
       "      <td>150000</td>\n",
       "      <td>3</td>\n",
       "      <td>3</td>\n",
       "      <td>38</td>\n",
       "      <td>1</td>\n",
       "      <td>2</td>\n",
       "    </tr>\n",
       "    <tr>\n",
       "      <th>354368</th>\n",
       "      <td>3400</td>\n",
       "      <td>8</td>\n",
       "      <td>2002</td>\n",
       "      <td>2</td>\n",
       "      <td>100</td>\n",
       "      <td>117</td>\n",
       "      <td>150000</td>\n",
       "      <td>6</td>\n",
       "      <td>3</td>\n",
       "      <td>38</td>\n",
       "      <td>0</td>\n",
       "      <td>2</td>\n",
       "    </tr>\n",
       "  </tbody>\n",
       "</table>\n",
       "<p>277307 rows × 12 columns</p>\n",
       "</div>"
      ],
      "text/plain": [
       "        price  vehicle_type  registration_year  gearbox  power  model  \\\n",
       "1       18300             3               2011        2    190     26   \n",
       "2        9800             7               2004        1    163    118   \n",
       "3        1500             6               2001        2     75    117   \n",
       "4        3600             6               2008        2     69    102   \n",
       "5         650             5               1995        2    102     11   \n",
       "...       ...           ...                ...      ...    ...    ...   \n",
       "354361   5250             0               2016        1    150      4   \n",
       "354362   3200             5               2004        2    225    141   \n",
       "354366   1199             2               2000        1    101    107   \n",
       "354367   9200             1               1996        2    102    224   \n",
       "354368   3400             8               2002        2    100    117   \n",
       "\n",
       "        kilometer  registration_month  fuel_type  brand  not_repaired  \\\n",
       "1          125000                   5          3      1             2   \n",
       "2          125000                   8          3     14             0   \n",
       "3          150000                   6          7     38             1   \n",
       "4           90000                   7          3     31             1   \n",
       "5          150000                  10          7      2             2   \n",
       "...           ...                 ...        ...    ...           ...   \n",
       "354361     150000                  12          0      0             1   \n",
       "354362     150000                   5          7     30             2   \n",
       "354366     125000                   3          7     32             1   \n",
       "354367     150000                   3          3     38             1   \n",
       "354368     150000                   6          3     38             0   \n",
       "\n",
       "        registration_year_id  \n",
       "1                          2  \n",
       "2                          2  \n",
       "3                          2  \n",
       "4                          2  \n",
       "5                          2  \n",
       "...                      ...  \n",
       "354361                     2  \n",
       "354362                     2  \n",
       "354366                     2  \n",
       "354367                     2  \n",
       "354368                     2  \n",
       "\n",
       "[277307 rows x 12 columns]"
      ]
     },
     "execution_count": 74,
     "metadata": {},
     "output_type": "execute_result"
    }
   ],
   "source": [
    "df"
   ]
  },
  {
   "cell_type": "markdown",
   "metadata": {},
   "source": [
    " "
   ]
  },
  {
   "cell_type": "markdown",
   "metadata": {},
   "source": [
    "Выводы: \n",
    "анализ данных показал что больше всего:\n",
    " - немецких машин\n",
    " - машин выпущенных в диапазоне 1990-2010 год\n",
    " - седанов\n",
    " - машин с ручной коробкой\n",
    " - машин на бензине\n",
    " - машин не продававшиеся ранее\n",
    "\n",
    "Обнаруженные в данных пропуски и выбросы подчистили и заполнили. В процессе продобработки потеряли порядка 14 % данных. В данном случае считаем что это не критично, т.к. 300 тысяч строк это довольно большой датасет."
   ]
  },
  {
   "cell_type": "markdown",
   "metadata": {},
   "source": [
    " "
   ]
  },
  {
   "cell_type": "markdown",
   "metadata": {},
   "source": [
    "## Обучение моделей"
   ]
  },
  {
   "cell_type": "markdown",
   "metadata": {},
   "source": [
    "Разовьем данные на тестовую и тренировочную выборки"
   ]
  },
  {
   "cell_type": "code",
   "execution_count": 75,
   "metadata": {},
   "outputs": [],
   "source": [
    "features_train, features_valid, target_train, target_valid = train_test_split(\n",
    "    df.drop(['price'], axis=1), df.price, test_size=0.25, random_state=12345)   "
   ]
  },
  {
   "cell_type": "markdown",
   "metadata": {},
   "source": [
    " "
   ]
  },
  {
   "cell_type": "markdown",
   "metadata": {},
   "source": [
    "Для замера времени выполнения ячейки и результата введем два списка"
   ]
  },
  {
   "cell_type": "code",
   "execution_count": 76,
   "metadata": {},
   "outputs": [],
   "source": [
    "time_value = []"
   ]
  },
  {
   "cell_type": "code",
   "execution_count": 77,
   "metadata": {},
   "outputs": [],
   "source": [
    "RMSE_value = []"
   ]
  },
  {
   "cell_type": "code",
   "execution_count": 78,
   "metadata": {},
   "outputs": [],
   "source": [
    "model = []"
   ]
  },
  {
   "cell_type": "markdown",
   "metadata": {},
   "source": [
    "Создадим список с категориальными признаками"
   ]
  },
  {
   "cell_type": "code",
   "execution_count": 79,
   "metadata": {},
   "outputs": [],
   "source": [
    "cat_features = ['vehicle_type','registration_year','registration_year_id', 'gearbox', 'model',\n",
    "                'registration_month', 'fuel_type', 'brand', 'not_repaired']"
   ]
  },
  {
   "cell_type": "markdown",
   "metadata": {},
   "source": [
    " "
   ]
  },
  {
   "cell_type": "markdown",
   "metadata": {},
   "source": [
    "### обучим модель CatBoostRegressor"
   ]
  },
  {
   "cell_type": "code",
   "execution_count": 80,
   "metadata": {},
   "outputs": [
    {
     "name": "stdout",
     "output_type": "stream",
     "text": [
      "<class 'pandas.core.frame.DataFrame'>\n",
      "Int64Index: 277307 entries, 1 to 354368\n",
      "Data columns (total 12 columns):\n",
      " #   Column                Non-Null Count   Dtype \n",
      "---  ------                --------------   ----- \n",
      " 0   price                 277307 non-null  int64 \n",
      " 1   vehicle_type          277307 non-null  object\n",
      " 2   registration_year     277307 non-null  int64 \n",
      " 3   gearbox               277307 non-null  object\n",
      " 4   power                 277307 non-null  int64 \n",
      " 5   model                 277307 non-null  object\n",
      " 6   kilometer             277307 non-null  int64 \n",
      " 7   registration_month    277307 non-null  int64 \n",
      " 8   fuel_type             277307 non-null  object\n",
      " 9   brand                 277307 non-null  object\n",
      " 10  not_repaired          277307 non-null  object\n",
      " 11  registration_year_id  277307 non-null  object\n",
      "dtypes: int64(5), object(7)\n",
      "memory usage: 27.5+ MB\n"
     ]
    }
   ],
   "source": [
    "df_copy.info()"
   ]
  },
  {
   "cell_type": "code",
   "execution_count": 81,
   "metadata": {},
   "outputs": [
    {
     "data": {
      "text/html": [
       "<div>\n",
       "<style scoped>\n",
       "    .dataframe tbody tr th:only-of-type {\n",
       "        vertical-align: middle;\n",
       "    }\n",
       "\n",
       "    .dataframe tbody tr th {\n",
       "        vertical-align: top;\n",
       "    }\n",
       "\n",
       "    .dataframe thead th {\n",
       "        text-align: right;\n",
       "    }\n",
       "</style>\n",
       "<table border=\"1\" class=\"dataframe\">\n",
       "  <thead>\n",
       "    <tr style=\"text-align: right;\">\n",
       "      <th></th>\n",
       "      <th>price</th>\n",
       "      <th>vehicle_type</th>\n",
       "      <th>registration_year</th>\n",
       "      <th>gearbox</th>\n",
       "      <th>power</th>\n",
       "      <th>model</th>\n",
       "      <th>kilometer</th>\n",
       "      <th>registration_month</th>\n",
       "      <th>fuel_type</th>\n",
       "      <th>brand</th>\n",
       "      <th>not_repaired</th>\n",
       "      <th>registration_year_id</th>\n",
       "    </tr>\n",
       "  </thead>\n",
       "  <tbody>\n",
       "    <tr>\n",
       "      <th>1</th>\n",
       "      <td>18300</td>\n",
       "      <td>coupe</td>\n",
       "      <td>2011</td>\n",
       "      <td>manual</td>\n",
       "      <td>190</td>\n",
       "      <td>Unknown</td>\n",
       "      <td>125000</td>\n",
       "      <td>5</td>\n",
       "      <td>gasoline</td>\n",
       "      <td>audi</td>\n",
       "      <td>yes</td>\n",
       "      <td>современные</td>\n",
       "    </tr>\n",
       "    <tr>\n",
       "      <th>2</th>\n",
       "      <td>9800</td>\n",
       "      <td>suv</td>\n",
       "      <td>2004</td>\n",
       "      <td>auto</td>\n",
       "      <td>163</td>\n",
       "      <td>grand</td>\n",
       "      <td>125000</td>\n",
       "      <td>8</td>\n",
       "      <td>gasoline</td>\n",
       "      <td>jeep</td>\n",
       "      <td>Unknown</td>\n",
       "      <td>современные</td>\n",
       "    </tr>\n",
       "    <tr>\n",
       "      <th>3</th>\n",
       "      <td>1500</td>\n",
       "      <td>small</td>\n",
       "      <td>2001</td>\n",
       "      <td>manual</td>\n",
       "      <td>75</td>\n",
       "      <td>golf</td>\n",
       "      <td>150000</td>\n",
       "      <td>6</td>\n",
       "      <td>petrol</td>\n",
       "      <td>volkswagen</td>\n",
       "      <td>no</td>\n",
       "      <td>современные</td>\n",
       "    </tr>\n",
       "    <tr>\n",
       "      <th>4</th>\n",
       "      <td>3600</td>\n",
       "      <td>small</td>\n",
       "      <td>2008</td>\n",
       "      <td>manual</td>\n",
       "      <td>69</td>\n",
       "      <td>fabia</td>\n",
       "      <td>90000</td>\n",
       "      <td>7</td>\n",
       "      <td>gasoline</td>\n",
       "      <td>skoda</td>\n",
       "      <td>no</td>\n",
       "      <td>современные</td>\n",
       "    </tr>\n",
       "    <tr>\n",
       "      <th>5</th>\n",
       "      <td>650</td>\n",
       "      <td>sedan</td>\n",
       "      <td>1995</td>\n",
       "      <td>manual</td>\n",
       "      <td>102</td>\n",
       "      <td>3er</td>\n",
       "      <td>150000</td>\n",
       "      <td>10</td>\n",
       "      <td>petrol</td>\n",
       "      <td>bmw</td>\n",
       "      <td>yes</td>\n",
       "      <td>современные</td>\n",
       "    </tr>\n",
       "    <tr>\n",
       "      <th>...</th>\n",
       "      <td>...</td>\n",
       "      <td>...</td>\n",
       "      <td>...</td>\n",
       "      <td>...</td>\n",
       "      <td>...</td>\n",
       "      <td>...</td>\n",
       "      <td>...</td>\n",
       "      <td>...</td>\n",
       "      <td>...</td>\n",
       "      <td>...</td>\n",
       "      <td>...</td>\n",
       "      <td>...</td>\n",
       "    </tr>\n",
       "    <tr>\n",
       "      <th>354361</th>\n",
       "      <td>5250</td>\n",
       "      <td>Unknown</td>\n",
       "      <td>2016</td>\n",
       "      <td>auto</td>\n",
       "      <td>150</td>\n",
       "      <td>159</td>\n",
       "      <td>150000</td>\n",
       "      <td>12</td>\n",
       "      <td>Unknown</td>\n",
       "      <td>alfa_romeo</td>\n",
       "      <td>no</td>\n",
       "      <td>современные</td>\n",
       "    </tr>\n",
       "    <tr>\n",
       "      <th>354362</th>\n",
       "      <td>3200</td>\n",
       "      <td>sedan</td>\n",
       "      <td>2004</td>\n",
       "      <td>manual</td>\n",
       "      <td>225</td>\n",
       "      <td>leon</td>\n",
       "      <td>150000</td>\n",
       "      <td>5</td>\n",
       "      <td>petrol</td>\n",
       "      <td>seat</td>\n",
       "      <td>yes</td>\n",
       "      <td>современные</td>\n",
       "    </tr>\n",
       "    <tr>\n",
       "      <th>354366</th>\n",
       "      <td>1199</td>\n",
       "      <td>convertible</td>\n",
       "      <td>2000</td>\n",
       "      <td>auto</td>\n",
       "      <td>101</td>\n",
       "      <td>fortwo</td>\n",
       "      <td>125000</td>\n",
       "      <td>3</td>\n",
       "      <td>petrol</td>\n",
       "      <td>smart</td>\n",
       "      <td>no</td>\n",
       "      <td>современные</td>\n",
       "    </tr>\n",
       "    <tr>\n",
       "      <th>354367</th>\n",
       "      <td>9200</td>\n",
       "      <td>bus</td>\n",
       "      <td>1996</td>\n",
       "      <td>manual</td>\n",
       "      <td>102</td>\n",
       "      <td>transporter</td>\n",
       "      <td>150000</td>\n",
       "      <td>3</td>\n",
       "      <td>gasoline</td>\n",
       "      <td>volkswagen</td>\n",
       "      <td>no</td>\n",
       "      <td>современные</td>\n",
       "    </tr>\n",
       "    <tr>\n",
       "      <th>354368</th>\n",
       "      <td>3400</td>\n",
       "      <td>wagon</td>\n",
       "      <td>2002</td>\n",
       "      <td>manual</td>\n",
       "      <td>100</td>\n",
       "      <td>golf</td>\n",
       "      <td>150000</td>\n",
       "      <td>6</td>\n",
       "      <td>gasoline</td>\n",
       "      <td>volkswagen</td>\n",
       "      <td>Unknown</td>\n",
       "      <td>современные</td>\n",
       "    </tr>\n",
       "  </tbody>\n",
       "</table>\n",
       "<p>277307 rows × 12 columns</p>\n",
       "</div>"
      ],
      "text/plain": [
       "        price vehicle_type  registration_year gearbox  power        model  \\\n",
       "1       18300        coupe               2011  manual    190      Unknown   \n",
       "2        9800          suv               2004    auto    163        grand   \n",
       "3        1500        small               2001  manual     75         golf   \n",
       "4        3600        small               2008  manual     69        fabia   \n",
       "5         650        sedan               1995  manual    102          3er   \n",
       "...       ...          ...                ...     ...    ...          ...   \n",
       "354361   5250      Unknown               2016    auto    150          159   \n",
       "354362   3200        sedan               2004  manual    225         leon   \n",
       "354366   1199  convertible               2000    auto    101       fortwo   \n",
       "354367   9200          bus               1996  manual    102  transporter   \n",
       "354368   3400        wagon               2002  manual    100         golf   \n",
       "\n",
       "        kilometer  registration_month fuel_type       brand not_repaired  \\\n",
       "1          125000                   5  gasoline        audi          yes   \n",
       "2          125000                   8  gasoline        jeep      Unknown   \n",
       "3          150000                   6    petrol  volkswagen           no   \n",
       "4           90000                   7  gasoline       skoda           no   \n",
       "5          150000                  10    petrol         bmw          yes   \n",
       "...           ...                 ...       ...         ...          ...   \n",
       "354361     150000                  12   Unknown  alfa_romeo           no   \n",
       "354362     150000                   5    petrol        seat          yes   \n",
       "354366     125000                   3    petrol       smart           no   \n",
       "354367     150000                   3  gasoline  volkswagen           no   \n",
       "354368     150000                   6  gasoline  volkswagen      Unknown   \n",
       "\n",
       "       registration_year_id  \n",
       "1               современные  \n",
       "2               современные  \n",
       "3               современные  \n",
       "4               современные  \n",
       "5               современные  \n",
       "...                     ...  \n",
       "354361          современные  \n",
       "354362          современные  \n",
       "354366          современные  \n",
       "354367          современные  \n",
       "354368          современные  \n",
       "\n",
       "[277307 rows x 12 columns]"
      ]
     },
     "execution_count": 81,
     "metadata": {},
     "output_type": "execute_result"
    }
   ],
   "source": [
    "df_copy"
   ]
  },
  {
   "cell_type": "code",
   "execution_count": 82,
   "metadata": {},
   "outputs": [],
   "source": [
    "features_train_copy, features_valid_copy, target_train_copy, target_valid_copy = train_test_split(\n",
    "    df_copy.drop(['price'], axis=1), df_copy.price, test_size=0.25, random_state=12345) "
   ]
  },
  {
   "cell_type": "code",
   "execution_count": 83,
   "metadata": {},
   "outputs": [
    {
     "name": "stdout",
     "output_type": "stream",
     "text": [
      "Fitting 3 folds for each of 1 candidates, totalling 3 fits\n",
      "[Parallel(n_jobs=-1)]: Using backend LokyBackend with 8 concurrent workers.\n",
      "[Parallel(n_jobs=-1)]: Done   1 tasks      | elapsed:  1.9min\n",
      "[Parallel(n_jobs=-1)]: Done   3 out of   3 | elapsed:  2.0min remaining:    0.0s\n",
      "[Parallel(n_jobs=-1)]: Done   3 out of   3 | elapsed:  2.0min finished\n",
      "0:\tlearn: 3442.7579772\ttotal: 327ms\tremaining: 1m 37s\n",
      "1:\tlearn: 2792.8570801\ttotal: 474ms\tremaining: 1m 10s\n",
      "2:\tlearn: 2457.2901933\ttotal: 670ms\tremaining: 1m 6s\n",
      "3:\tlearn: 2216.6798984\ttotal: 861ms\tremaining: 1m 3s\n",
      "4:\tlearn: 2090.9399175\ttotal: 1.03s\tremaining: 1m\n",
      "5:\tlearn: 2020.2296047\ttotal: 1.22s\tremaining: 59.9s\n",
      "6:\tlearn: 1980.6191569\ttotal: 1.41s\tremaining: 58.8s\n",
      "7:\tlearn: 1946.0981940\ttotal: 1.63s\tremaining: 59.6s\n",
      "8:\tlearn: 1921.7734698\ttotal: 1.79s\tremaining: 57.8s\n",
      "9:\tlearn: 1905.8726939\ttotal: 1.98s\tremaining: 57.5s\n",
      "10:\tlearn: 1885.7667166\ttotal: 2.13s\tremaining: 55.9s\n",
      "11:\tlearn: 1875.6803532\ttotal: 2.32s\tremaining: 55.6s\n",
      "12:\tlearn: 1867.9022344\ttotal: 2.54s\tremaining: 56s\n",
      "13:\tlearn: 1856.6192994\ttotal: 2.73s\tremaining: 55.7s\n",
      "14:\tlearn: 1845.9471585\ttotal: 2.91s\tremaining: 55.3s\n",
      "15:\tlearn: 1837.8474228\ttotal: 3.1s\tremaining: 55s\n",
      "16:\tlearn: 1833.3900800\ttotal: 3.28s\tremaining: 54.6s\n",
      "17:\tlearn: 1822.9715870\ttotal: 3.48s\tremaining: 54.6s\n",
      "18:\tlearn: 1814.0456210\ttotal: 3.66s\tremaining: 54.2s\n",
      "19:\tlearn: 1807.4623261\ttotal: 3.84s\tremaining: 53.8s\n",
      "20:\tlearn: 1802.0690103\ttotal: 4.04s\tremaining: 53.6s\n",
      "21:\tlearn: 1798.2158152\ttotal: 4.26s\tremaining: 53.8s\n",
      "22:\tlearn: 1793.8191872\ttotal: 4.48s\tremaining: 54s\n",
      "23:\tlearn: 1789.2559178\ttotal: 4.74s\tremaining: 54.5s\n",
      "24:\tlearn: 1782.8275187\ttotal: 4.94s\tremaining: 54.4s\n",
      "25:\tlearn: 1775.6722014\ttotal: 5.15s\tremaining: 54.2s\n",
      "26:\tlearn: 1772.7985586\ttotal: 5.37s\tremaining: 54.3s\n",
      "27:\tlearn: 1768.3980548\ttotal: 5.6s\tremaining: 54.4s\n",
      "28:\tlearn: 1764.6531172\ttotal: 5.82s\tremaining: 54.4s\n",
      "29:\tlearn: 1759.6927554\ttotal: 6.03s\tremaining: 54.3s\n",
      "30:\tlearn: 1755.9473109\ttotal: 6.28s\tremaining: 54.5s\n",
      "31:\tlearn: 1752.6399908\ttotal: 6.51s\tremaining: 54.6s\n",
      "32:\tlearn: 1749.6355268\ttotal: 6.75s\tremaining: 54.6s\n",
      "33:\tlearn: 1745.0447529\ttotal: 7.02s\tremaining: 54.9s\n",
      "34:\tlearn: 1741.0513544\ttotal: 7.23s\tremaining: 54.7s\n",
      "35:\tlearn: 1738.0624440\ttotal: 7.49s\tremaining: 54.9s\n",
      "36:\tlearn: 1732.8685977\ttotal: 7.78s\tremaining: 55.3s\n",
      "37:\tlearn: 1729.5718824\ttotal: 8.06s\tremaining: 55.6s\n",
      "38:\tlearn: 1727.2313510\ttotal: 8.24s\tremaining: 55.2s\n",
      "39:\tlearn: 1724.0524965\ttotal: 8.46s\tremaining: 55s\n",
      "40:\tlearn: 1722.0714375\ttotal: 8.66s\tremaining: 54.7s\n",
      "41:\tlearn: 1717.6437579\ttotal: 8.9s\tremaining: 54.7s\n",
      "42:\tlearn: 1715.5085672\ttotal: 9.12s\tremaining: 54.5s\n",
      "43:\tlearn: 1712.8544355\ttotal: 9.39s\tremaining: 54.6s\n",
      "44:\tlearn: 1703.6005458\ttotal: 9.71s\tremaining: 55.1s\n",
      "45:\tlearn: 1702.5854036\ttotal: 9.91s\tremaining: 54.7s\n",
      "46:\tlearn: 1700.3543045\ttotal: 10.1s\tremaining: 54.5s\n",
      "47:\tlearn: 1698.9304140\ttotal: 10.4s\tremaining: 54.5s\n",
      "48:\tlearn: 1696.2860949\ttotal: 10.6s\tremaining: 54.5s\n",
      "49:\tlearn: 1694.3487710\ttotal: 10.9s\tremaining: 54.4s\n",
      "50:\tlearn: 1691.3901218\ttotal: 11.1s\tremaining: 54s\n",
      "51:\tlearn: 1689.9096306\ttotal: 11.3s\tremaining: 53.9s\n",
      "52:\tlearn: 1687.3798104\ttotal: 11.6s\tremaining: 54s\n",
      "53:\tlearn: 1685.1653844\ttotal: 11.8s\tremaining: 53.9s\n",
      "54:\tlearn: 1680.8853447\ttotal: 12.2s\tremaining: 54.2s\n",
      "55:\tlearn: 1679.4384582\ttotal: 12.3s\tremaining: 53.8s\n",
      "56:\tlearn: 1677.4522225\ttotal: 12.6s\tremaining: 53.5s\n",
      "57:\tlearn: 1675.7941182\ttotal: 12.8s\tremaining: 53.2s\n",
      "58:\tlearn: 1675.0434557\ttotal: 13s\tremaining: 53s\n",
      "59:\tlearn: 1672.5451854\ttotal: 13.2s\tremaining: 52.7s\n",
      "60:\tlearn: 1670.0849821\ttotal: 13.4s\tremaining: 52.5s\n",
      "61:\tlearn: 1667.9622114\ttotal: 13.7s\tremaining: 52.4s\n",
      "62:\tlearn: 1665.3421981\ttotal: 13.9s\tremaining: 52.2s\n",
      "63:\tlearn: 1662.6172892\ttotal: 14.1s\tremaining: 52.1s\n",
      "64:\tlearn: 1661.3860020\ttotal: 14.3s\tremaining: 51.8s\n",
      "65:\tlearn: 1660.3122860\ttotal: 14.5s\tremaining: 51.6s\n",
      "66:\tlearn: 1658.7116245\ttotal: 14.7s\tremaining: 51.3s\n",
      "67:\tlearn: 1657.5065894\ttotal: 14.9s\tremaining: 50.9s\n",
      "68:\tlearn: 1656.3781200\ttotal: 15.1s\tremaining: 50.6s\n",
      "69:\tlearn: 1653.9436046\ttotal: 15.4s\tremaining: 50.5s\n",
      "70:\tlearn: 1652.1192682\ttotal: 15.6s\tremaining: 50.2s\n",
      "71:\tlearn: 1651.0602364\ttotal: 15.8s\tremaining: 50.2s\n",
      "72:\tlearn: 1649.5682434\ttotal: 16s\tremaining: 49.8s\n",
      "73:\tlearn: 1648.3177456\ttotal: 16.2s\tremaining: 49.5s\n",
      "74:\tlearn: 1645.9262048\ttotal: 16.4s\tremaining: 49.2s\n",
      "75:\tlearn: 1645.2486143\ttotal: 16.6s\tremaining: 48.9s\n",
      "76:\tlearn: 1643.9173988\ttotal: 16.8s\tremaining: 48.6s\n",
      "77:\tlearn: 1642.3598440\ttotal: 17s\tremaining: 48.4s\n",
      "78:\tlearn: 1641.1666879\ttotal: 17.2s\tremaining: 48.1s\n",
      "79:\tlearn: 1640.2751793\ttotal: 17.4s\tremaining: 47.9s\n",
      "80:\tlearn: 1639.1056692\ttotal: 17.7s\tremaining: 47.7s\n",
      "81:\tlearn: 1638.4867697\ttotal: 17.9s\tremaining: 47.5s\n",
      "82:\tlearn: 1636.6099159\ttotal: 18.1s\tremaining: 47.3s\n",
      "83:\tlearn: 1634.8995686\ttotal: 18.3s\tremaining: 47s\n",
      "84:\tlearn: 1634.0288985\ttotal: 18.5s\tremaining: 46.8s\n",
      "85:\tlearn: 1633.7867399\ttotal: 18.7s\tremaining: 46.6s\n",
      "86:\tlearn: 1632.7914340\ttotal: 18.9s\tremaining: 46.3s\n",
      "87:\tlearn: 1631.8247747\ttotal: 19.1s\tremaining: 46s\n",
      "88:\tlearn: 1631.0706436\ttotal: 19.3s\tremaining: 45.7s\n",
      "89:\tlearn: 1629.9210042\ttotal: 19.4s\tremaining: 45.3s\n",
      "90:\tlearn: 1629.0105289\ttotal: 19.6s\tremaining: 45.1s\n",
      "91:\tlearn: 1628.6956893\ttotal: 19.8s\tremaining: 44.8s\n",
      "92:\tlearn: 1627.8757357\ttotal: 20s\tremaining: 44.5s\n",
      "93:\tlearn: 1626.2167175\ttotal: 20.2s\tremaining: 44.3s\n",
      "94:\tlearn: 1625.7869246\ttotal: 20.4s\tremaining: 44s\n",
      "95:\tlearn: 1624.5979771\ttotal: 20.6s\tremaining: 43.8s\n",
      "96:\tlearn: 1622.8456666\ttotal: 20.8s\tremaining: 43.6s\n",
      "97:\tlearn: 1622.0871929\ttotal: 21.1s\tremaining: 43.4s\n",
      "98:\tlearn: 1621.2645948\ttotal: 21.2s\tremaining: 43.1s\n",
      "99:\tlearn: 1619.3448762\ttotal: 21.5s\tremaining: 42.9s\n",
      "100:\tlearn: 1619.0934382\ttotal: 21.7s\tremaining: 42.8s\n",
      "101:\tlearn: 1618.7824235\ttotal: 21.9s\tremaining: 42.5s\n",
      "102:\tlearn: 1617.7639602\ttotal: 22.1s\tremaining: 42.3s\n",
      "103:\tlearn: 1617.0724482\ttotal: 22.3s\tremaining: 42.1s\n",
      "104:\tlearn: 1616.6721842\ttotal: 22.5s\tremaining: 41.9s\n",
      "105:\tlearn: 1615.7173955\ttotal: 22.7s\tremaining: 41.6s\n",
      "106:\tlearn: 1615.5525212\ttotal: 23s\tremaining: 41.4s\n",
      "107:\tlearn: 1614.8579237\ttotal: 23.2s\tremaining: 41.3s\n",
      "108:\tlearn: 1613.3372721\ttotal: 23.5s\tremaining: 41.1s\n",
      "109:\tlearn: 1612.8628304\ttotal: 23.7s\tremaining: 40.9s\n",
      "110:\tlearn: 1612.6807112\ttotal: 23.9s\tremaining: 40.7s\n",
      "111:\tlearn: 1612.1395786\ttotal: 24.1s\tremaining: 40.5s\n",
      "112:\tlearn: 1611.6609233\ttotal: 24.4s\tremaining: 40.4s\n",
      "113:\tlearn: 1610.3133594\ttotal: 24.6s\tremaining: 40.1s\n",
      "114:\tlearn: 1609.2652831\ttotal: 24.8s\tremaining: 39.9s\n",
      "115:\tlearn: 1608.9235938\ttotal: 25s\tremaining: 39.6s\n",
      "116:\tlearn: 1608.1036066\ttotal: 25.1s\tremaining: 39.3s\n",
      "117:\tlearn: 1607.6579639\ttotal: 25.4s\tremaining: 39.1s\n",
      "118:\tlearn: 1607.0827253\ttotal: 25.6s\tremaining: 38.9s\n",
      "119:\tlearn: 1606.1771656\ttotal: 25.8s\tremaining: 38.7s\n",
      "120:\tlearn: 1604.5691714\ttotal: 26s\tremaining: 38.5s\n",
      "121:\tlearn: 1603.9625819\ttotal: 26.2s\tremaining: 38.2s\n",
      "122:\tlearn: 1603.2268697\ttotal: 26.4s\tremaining: 38s\n",
      "123:\tlearn: 1602.3396133\ttotal: 26.6s\tremaining: 37.7s\n",
      "124:\tlearn: 1600.9506407\ttotal: 26.8s\tremaining: 37.5s\n",
      "125:\tlearn: 1599.9160759\ttotal: 27s\tremaining: 37.3s\n",
      "126:\tlearn: 1598.8593190\ttotal: 27.2s\tremaining: 37.1s\n",
      "127:\tlearn: 1598.4103037\ttotal: 27.4s\tremaining: 36.8s\n",
      "128:\tlearn: 1597.8089637\ttotal: 27.6s\tremaining: 36.6s\n",
      "129:\tlearn: 1597.6414648\ttotal: 27.8s\tremaining: 36.3s\n",
      "130:\tlearn: 1596.6569078\ttotal: 28s\tremaining: 36.1s\n",
      "131:\tlearn: 1595.4195089\ttotal: 28.2s\tremaining: 35.9s\n",
      "132:\tlearn: 1595.1748661\ttotal: 28.4s\tremaining: 35.7s\n",
      "133:\tlearn: 1594.3071243\ttotal: 28.6s\tremaining: 35.4s\n",
      "134:\tlearn: 1593.4330892\ttotal: 28.8s\tremaining: 35.2s\n",
      "135:\tlearn: 1593.4273010\ttotal: 29s\tremaining: 34.9s\n",
      "136:\tlearn: 1592.4689304\ttotal: 29.2s\tremaining: 34.7s\n",
      "137:\tlearn: 1591.7585754\ttotal: 29.4s\tremaining: 34.5s\n",
      "138:\tlearn: 1591.3707935\ttotal: 29.6s\tremaining: 34.2s\n",
      "139:\tlearn: 1590.8642093\ttotal: 29.8s\tremaining: 34.1s\n",
      "140:\tlearn: 1590.2254128\ttotal: 30.1s\tremaining: 33.9s\n",
      "141:\tlearn: 1589.3119599\ttotal: 30.3s\tremaining: 33.7s\n",
      "142:\tlearn: 1589.0958671\ttotal: 30.5s\tremaining: 33.5s\n",
      "143:\tlearn: 1588.5271844\ttotal: 30.8s\tremaining: 33.4s\n",
      "144:\tlearn: 1588.4264965\ttotal: 31s\tremaining: 33.2s\n",
      "145:\tlearn: 1587.4036272\ttotal: 31.3s\tremaining: 33s\n"
     ]
    },
    {
     "name": "stdout",
     "output_type": "stream",
     "text": [
      "146:\tlearn: 1587.0820102\ttotal: 31.6s\tremaining: 32.9s\n",
      "147:\tlearn: 1586.0749679\ttotal: 31.8s\tremaining: 32.7s\n",
      "148:\tlearn: 1585.8229659\ttotal: 32.1s\tremaining: 32.5s\n",
      "149:\tlearn: 1585.5570876\ttotal: 32.3s\tremaining: 32.3s\n",
      "150:\tlearn: 1584.9899712\ttotal: 32.5s\tremaining: 32s\n",
      "151:\tlearn: 1584.2270871\ttotal: 32.7s\tremaining: 31.8s\n",
      "152:\tlearn: 1583.8920259\ttotal: 32.9s\tremaining: 31.6s\n",
      "153:\tlearn: 1583.3763338\ttotal: 33.1s\tremaining: 31.4s\n",
      "154:\tlearn: 1583.3400665\ttotal: 33.3s\tremaining: 31.1s\n",
      "155:\tlearn: 1583.1008350\ttotal: 33.5s\tremaining: 30.9s\n",
      "156:\tlearn: 1582.9649040\ttotal: 33.7s\tremaining: 30.7s\n",
      "157:\tlearn: 1582.6617210\ttotal: 33.9s\tremaining: 30.5s\n",
      "158:\tlearn: 1582.1843777\ttotal: 34.2s\tremaining: 30.3s\n",
      "159:\tlearn: 1581.7162226\ttotal: 34.3s\tremaining: 30s\n",
      "160:\tlearn: 1580.7110720\ttotal: 34.6s\tremaining: 29.9s\n",
      "161:\tlearn: 1579.9776428\ttotal: 34.8s\tremaining: 29.6s\n",
      "162:\tlearn: 1579.7160645\ttotal: 35s\tremaining: 29.4s\n",
      "163:\tlearn: 1578.6671324\ttotal: 35.2s\tremaining: 29.2s\n",
      "164:\tlearn: 1578.3948366\ttotal: 35.4s\tremaining: 29s\n",
      "165:\tlearn: 1578.2813350\ttotal: 35.6s\tremaining: 28.7s\n",
      "166:\tlearn: 1577.8609148\ttotal: 35.8s\tremaining: 28.5s\n",
      "167:\tlearn: 1577.1203732\ttotal: 36s\tremaining: 28.3s\n",
      "168:\tlearn: 1577.0485881\ttotal: 36.2s\tremaining: 28.1s\n",
      "169:\tlearn: 1576.9437899\ttotal: 36.4s\tremaining: 27.9s\n",
      "170:\tlearn: 1576.8416980\ttotal: 36.7s\tremaining: 27.7s\n",
      "171:\tlearn: 1575.8725865\ttotal: 36.9s\tremaining: 27.4s\n",
      "172:\tlearn: 1575.1639634\ttotal: 37s\tremaining: 27.2s\n",
      "173:\tlearn: 1574.7398176\ttotal: 37.3s\tremaining: 27s\n",
      "174:\tlearn: 1574.1835956\ttotal: 37.5s\tremaining: 26.8s\n",
      "175:\tlearn: 1573.8825315\ttotal: 37.7s\tremaining: 26.5s\n",
      "176:\tlearn: 1573.4594757\ttotal: 37.9s\tremaining: 26.4s\n",
      "177:\tlearn: 1573.1649859\ttotal: 38.1s\tremaining: 26.1s\n",
      "178:\tlearn: 1572.3556374\ttotal: 38.3s\tremaining: 25.9s\n",
      "179:\tlearn: 1570.9089713\ttotal: 38.6s\tremaining: 25.7s\n",
      "180:\tlearn: 1570.0811752\ttotal: 38.8s\tremaining: 25.5s\n",
      "181:\tlearn: 1568.9728200\ttotal: 39.1s\tremaining: 25.3s\n",
      "182:\tlearn: 1568.8070847\ttotal: 39.4s\tremaining: 25.2s\n",
      "183:\tlearn: 1568.6731449\ttotal: 39.6s\tremaining: 24.9s\n",
      "184:\tlearn: 1568.1019033\ttotal: 39.9s\tremaining: 24.8s\n",
      "185:\tlearn: 1567.7664997\ttotal: 40.2s\tremaining: 24.6s\n",
      "186:\tlearn: 1567.4114650\ttotal: 40.5s\tremaining: 24.5s\n",
      "187:\tlearn: 1567.0205319\ttotal: 40.8s\tremaining: 24.3s\n",
      "188:\tlearn: 1566.7419329\ttotal: 41.1s\tremaining: 24.2s\n",
      "189:\tlearn: 1565.8297686\ttotal: 41.4s\tremaining: 24s\n",
      "190:\tlearn: 1565.4299012\ttotal: 41.6s\tremaining: 23.8s\n",
      "191:\tlearn: 1564.7553135\ttotal: 41.9s\tremaining: 23.6s\n",
      "192:\tlearn: 1564.2925645\ttotal: 42.2s\tremaining: 23.4s\n",
      "193:\tlearn: 1564.2094184\ttotal: 42.4s\tremaining: 23.2s\n",
      "194:\tlearn: 1563.8118596\ttotal: 42.7s\tremaining: 23s\n",
      "195:\tlearn: 1563.3124951\ttotal: 43s\tremaining: 22.8s\n",
      "196:\tlearn: 1562.5478665\ttotal: 43.3s\tremaining: 22.6s\n",
      "197:\tlearn: 1561.6873565\ttotal: 43.5s\tremaining: 22.4s\n",
      "198:\tlearn: 1561.6180577\ttotal: 43.8s\tremaining: 22.2s\n",
      "199:\tlearn: 1561.0372927\ttotal: 44s\tremaining: 22s\n",
      "200:\tlearn: 1560.5465009\ttotal: 44.3s\tremaining: 21.8s\n",
      "201:\tlearn: 1560.4545929\ttotal: 44.5s\tremaining: 21.6s\n",
      "202:\tlearn: 1559.7916183\ttotal: 44.8s\tremaining: 21.4s\n",
      "203:\tlearn: 1558.8152295\ttotal: 45s\tremaining: 21.2s\n",
      "204:\tlearn: 1558.0861409\ttotal: 45.2s\tremaining: 21s\n",
      "205:\tlearn: 1557.6279239\ttotal: 45.5s\tremaining: 20.7s\n",
      "206:\tlearn: 1556.8151341\ttotal: 45.7s\tremaining: 20.5s\n",
      "207:\tlearn: 1556.7006531\ttotal: 45.9s\tremaining: 20.3s\n",
      "208:\tlearn: 1556.2339933\ttotal: 46.1s\tremaining: 20.1s\n",
      "209:\tlearn: 1555.7639966\ttotal: 46.3s\tremaining: 19.8s\n",
      "210:\tlearn: 1555.3591143\ttotal: 46.5s\tremaining: 19.6s\n",
      "211:\tlearn: 1553.9806314\ttotal: 46.7s\tremaining: 19.4s\n",
      "212:\tlearn: 1553.5596274\ttotal: 46.9s\tremaining: 19.2s\n",
      "213:\tlearn: 1553.5131843\ttotal: 47.1s\tremaining: 18.9s\n",
      "214:\tlearn: 1553.3236132\ttotal: 47.3s\tremaining: 18.7s\n",
      "215:\tlearn: 1553.2369159\ttotal: 47.5s\tremaining: 18.5s\n",
      "216:\tlearn: 1552.9454787\ttotal: 47.7s\tremaining: 18.3s\n",
      "217:\tlearn: 1552.7866626\ttotal: 47.9s\tremaining: 18s\n",
      "218:\tlearn: 1552.6615815\ttotal: 48.1s\tremaining: 17.8s\n",
      "219:\tlearn: 1551.7248729\ttotal: 48.3s\tremaining: 17.6s\n",
      "220:\tlearn: 1551.4292866\ttotal: 48.5s\tremaining: 17.4s\n",
      "221:\tlearn: 1550.1132121\ttotal: 48.7s\tremaining: 17.1s\n",
      "222:\tlearn: 1550.0101335\ttotal: 49s\tremaining: 16.9s\n",
      "223:\tlearn: 1549.9222063\ttotal: 49.2s\tremaining: 16.7s\n",
      "224:\tlearn: 1549.8915375\ttotal: 49.3s\tremaining: 16.4s\n",
      "225:\tlearn: 1549.8209823\ttotal: 49.5s\tremaining: 16.2s\n",
      "226:\tlearn: 1549.1588200\ttotal: 49.7s\tremaining: 16s\n",
      "227:\tlearn: 1549.1010621\ttotal: 49.9s\tremaining: 15.8s\n",
      "228:\tlearn: 1548.9799338\ttotal: 50.1s\tremaining: 15.5s\n",
      "229:\tlearn: 1548.6537578\ttotal: 50.3s\tremaining: 15.3s\n",
      "230:\tlearn: 1548.0429360\ttotal: 50.5s\tremaining: 15.1s\n",
      "231:\tlearn: 1547.9621412\ttotal: 50.7s\tremaining: 14.9s\n",
      "232:\tlearn: 1547.5570538\ttotal: 50.9s\tremaining: 14.6s\n",
      "233:\tlearn: 1547.4798866\ttotal: 51.2s\tremaining: 14.4s\n",
      "234:\tlearn: 1547.1002863\ttotal: 51.3s\tremaining: 14.2s\n",
      "235:\tlearn: 1546.6805996\ttotal: 51.6s\tremaining: 14s\n",
      "236:\tlearn: 1545.9319187\ttotal: 51.8s\tremaining: 13.8s\n",
      "237:\tlearn: 1545.4846106\ttotal: 52s\tremaining: 13.6s\n",
      "238:\tlearn: 1544.8076968\ttotal: 52.2s\tremaining: 13.3s\n",
      "239:\tlearn: 1544.1842316\ttotal: 52.5s\tremaining: 13.1s\n",
      "240:\tlearn: 1543.8450453\ttotal: 52.6s\tremaining: 12.9s\n",
      "241:\tlearn: 1543.4812126\ttotal: 52.9s\tremaining: 12.7s\n",
      "242:\tlearn: 1542.5387532\ttotal: 53.1s\tremaining: 12.4s\n",
      "243:\tlearn: 1542.2147860\ttotal: 53.3s\tremaining: 12.2s\n",
      "244:\tlearn: 1541.6981094\ttotal: 53.5s\tremaining: 12s\n",
      "245:\tlearn: 1541.5082315\ttotal: 53.7s\tremaining: 11.8s\n",
      "246:\tlearn: 1540.5369571\ttotal: 53.9s\tremaining: 11.6s\n",
      "247:\tlearn: 1540.5139413\ttotal: 54.1s\tremaining: 11.3s\n",
      "248:\tlearn: 1540.4898588\ttotal: 54.4s\tremaining: 11.1s\n",
      "249:\tlearn: 1540.4651664\ttotal: 54.6s\tremaining: 10.9s\n",
      "250:\tlearn: 1540.3766854\ttotal: 54.8s\tremaining: 10.7s\n",
      "251:\tlearn: 1540.0081446\ttotal: 55.1s\tremaining: 10.5s\n",
      "252:\tlearn: 1539.9228224\ttotal: 55.2s\tremaining: 10.3s\n",
      "253:\tlearn: 1539.8070817\ttotal: 55.4s\tremaining: 10s\n",
      "254:\tlearn: 1539.6338276\ttotal: 55.6s\tremaining: 9.82s\n",
      "255:\tlearn: 1539.2544459\ttotal: 55.9s\tremaining: 9.6s\n",
      "256:\tlearn: 1538.8670198\ttotal: 56.1s\tremaining: 9.38s\n",
      "257:\tlearn: 1538.3124324\ttotal: 56.3s\tremaining: 9.17s\n",
      "258:\tlearn: 1538.0997996\ttotal: 56.5s\tremaining: 8.94s\n",
      "259:\tlearn: 1537.7811815\ttotal: 56.7s\tremaining: 8.73s\n",
      "260:\tlearn: 1537.5092837\ttotal: 56.9s\tremaining: 8.51s\n",
      "261:\tlearn: 1537.2155802\ttotal: 57.2s\tremaining: 8.29s\n",
      "262:\tlearn: 1536.5928335\ttotal: 57.3s\tremaining: 8.07s\n",
      "263:\tlearn: 1536.3199185\ttotal: 57.6s\tremaining: 7.85s\n",
      "264:\tlearn: 1536.1248170\ttotal: 57.8s\tremaining: 7.63s\n",
      "265:\tlearn: 1535.6596573\ttotal: 58s\tremaining: 7.41s\n",
      "266:\tlearn: 1534.9717415\ttotal: 58.2s\tremaining: 7.19s\n",
      "267:\tlearn: 1534.9399438\ttotal: 58.4s\tremaining: 6.97s\n",
      "268:\tlearn: 1534.6376418\ttotal: 58.6s\tremaining: 6.75s\n",
      "269:\tlearn: 1534.1305013\ttotal: 58.9s\tremaining: 6.54s\n",
      "270:\tlearn: 1533.8326197\ttotal: 59s\tremaining: 6.32s\n",
      "271:\tlearn: 1533.6536444\ttotal: 59.3s\tremaining: 6.1s\n",
      "272:\tlearn: 1533.2731384\ttotal: 59.5s\tremaining: 5.88s\n",
      "273:\tlearn: 1533.0330968\ttotal: 59.7s\tremaining: 5.66s\n",
      "274:\tlearn: 1532.7724608\ttotal: 59.9s\tremaining: 5.45s\n",
      "275:\tlearn: 1532.0079033\ttotal: 1m\tremaining: 5.23s\n",
      "276:\tlearn: 1531.3372972\ttotal: 1m\tremaining: 5.01s\n",
      "277:\tlearn: 1531.0930433\ttotal: 1m\tremaining: 4.79s\n",
      "278:\tlearn: 1530.8935962\ttotal: 1m\tremaining: 4.57s\n",
      "279:\tlearn: 1530.7475565\ttotal: 1m\tremaining: 4.36s\n",
      "280:\tlearn: 1529.9948719\ttotal: 1m 1s\tremaining: 4.14s\n",
      "281:\tlearn: 1529.4932676\ttotal: 1m 1s\tremaining: 3.92s\n",
      "282:\tlearn: 1529.2879293\ttotal: 1m 1s\tremaining: 3.71s\n",
      "283:\tlearn: 1529.1510438\ttotal: 1m 1s\tremaining: 3.49s\n",
      "284:\tlearn: 1528.5054063\ttotal: 1m 2s\tremaining: 3.27s\n",
      "285:\tlearn: 1528.4034372\ttotal: 1m 2s\tremaining: 3.05s\n",
      "286:\tlearn: 1528.0222212\ttotal: 1m 2s\tremaining: 2.83s\n",
      "287:\tlearn: 1527.7633823\ttotal: 1m 2s\tremaining: 2.61s\n",
      "288:\tlearn: 1527.4370949\ttotal: 1m 2s\tremaining: 2.39s\n",
      "289:\tlearn: 1527.1336497\ttotal: 1m 3s\tremaining: 2.17s\n",
      "290:\tlearn: 1526.7845741\ttotal: 1m 3s\tremaining: 1.96s\n",
      "291:\tlearn: 1526.4002892\ttotal: 1m 3s\tremaining: 1.74s\n",
      "292:\tlearn: 1525.8044443\ttotal: 1m 3s\tremaining: 1.52s\n",
      "293:\tlearn: 1525.3800772\ttotal: 1m 3s\tremaining: 1.3s\n",
      "294:\tlearn: 1525.2500750\ttotal: 1m 4s\tremaining: 1.09s\n",
      "295:\tlearn: 1524.8052416\ttotal: 1m 4s\tremaining: 869ms\n",
      "296:\tlearn: 1524.7199375\ttotal: 1m 4s\tremaining: 652ms\n",
      "297:\tlearn: 1524.5924481\ttotal: 1m 4s\tremaining: 435ms\n"
     ]
    },
    {
     "name": "stdout",
     "output_type": "stream",
     "text": [
      "298:\tlearn: 1524.5620259\ttotal: 1m 4s\tremaining: 217ms\n",
      "299:\tlearn: 1523.9655522\ttotal: 1m 5s\tremaining: 0us\n"
     ]
    },
    {
     "data": {
      "text/plain": [
       "1585.6490038923632"
      ]
     },
     "execution_count": 83,
     "metadata": {},
     "output_type": "execute_result"
    }
   ],
   "source": [
    "start_time = time.time()\n",
    "\n",
    "cat = GridSearchCV(estimator=CatBoostRegressor(loss_function='RMSE',learning_rate = 0.4, iterations  = 300, random_state=12345),param_grid={},\n",
    "            cv=3, verbose=100, n_jobs=-1)\n",
    "\n",
    "grid_result = cat.fit(features_train, target_train, cat_features=cat_features)\n",
    "\n",
    "pred_valid = grid_result.predict(features_valid)\n",
    "RMSE = mean_squared_error(target_valid, pred_valid)**0.5\n",
    "time_value.append(time.time() - start_time)\n",
    "RMSE_value.append(RMSE)\n",
    "model.append('CatBoostRegressor + features')\n",
    "RMSE\n"
   ]
  },
  {
   "cell_type": "markdown",
   "metadata": {},
   "source": [
    " "
   ]
  },
  {
   "cell_type": "markdown",
   "metadata": {},
   "source": [
    " "
   ]
  },
  {
   "cell_type": "markdown",
   "metadata": {},
   "source": [
    "### обучим модель XGBRegressor"
   ]
  },
  {
   "cell_type": "code",
   "execution_count": 84,
   "metadata": {},
   "outputs": [
    {
     "data": {
      "text/plain": [
       "1495.9117997879032"
      ]
     },
     "execution_count": 84,
     "metadata": {},
     "output_type": "execute_result"
    }
   ],
   "source": [
    "start_time = time.time()\n",
    "\n",
    "gsc = GridSearchCV(estimator=xgb.XGBRegressor(max_depth = 12, learning_rate = 0.2, colsample_bytree  = 0.8, random_state=12345, min_child_weight = 0.1),param_grid={},\n",
    "            cv=3, verbose=0, n_jobs=-1)\n",
    "\n",
    "grid_result = gsc.fit(features_train, target_train)\n",
    "\n",
    "pred_valid = grid_result.predict(features_valid)\n",
    "RMSE = mean_squared_error(target_valid, pred_valid)**0.5\n",
    "\n",
    "time_value.append(time.time() - start_time)\n",
    "RMSE_value.append(RMSE)\n",
    "model.append('XGBRegressor')\n",
    "\n",
    "RMSE"
   ]
  },
  {
   "cell_type": "markdown",
   "metadata": {},
   "source": [
    " "
   ]
  },
  {
   "cell_type": "markdown",
   "metadata": {},
   "source": [
    " "
   ]
  },
  {
   "cell_type": "markdown",
   "metadata": {},
   "source": [
    "### обучим модель LGBMModel"
   ]
  },
  {
   "cell_type": "code",
   "execution_count": 85,
   "metadata": {},
   "outputs": [
    {
     "name": "stdout",
     "output_type": "stream",
     "text": [
      "[LightGBM] [Warning] Unknown parameter: iterations\n"
     ]
    },
    {
     "data": {
      "text/plain": [
       "1523.1988858933214"
      ]
     },
     "execution_count": 85,
     "metadata": {},
     "output_type": "execute_result"
    }
   ],
   "source": [
    "start_time = time.time()\n",
    "\n",
    "model_lgb = GridSearchCV(estimator=lgb.LGBMModel(objective=\"regression\", iterations = 300, n_estimators = 500, learning_rate = 0.1, max_depth = 12),\n",
    "                   param_grid={},cv=3,scoring='neg_mean_squared_error', verbose=0, n_jobs=-1)\n",
    "\n",
    "grid_result = model_lgb.fit(features_train, target_train, categorical_feature=cat_features)\n",
    "\n",
    "pred_valid = grid_result.predict(features_valid)\n",
    "RMSE = mean_squared_error(target_valid, pred_valid)**0.5\n",
    "\n",
    "time_value.append(time.time() - start_time)\n",
    "RMSE_value.append(RMSE)\n",
    "model.append('LGBMModel + features')\n",
    "\n",
    "RMSE"
   ]
  },
  {
   "cell_type": "markdown",
   "metadata": {},
   "source": [
    " "
   ]
  },
  {
   "cell_type": "markdown",
   "metadata": {},
   "source": [
    " "
   ]
  },
  {
   "cell_type": "markdown",
   "metadata": {},
   "source": [
    "Поскольку эта модель получилась с наилучшими признаками точности и скорости то ее мы и исследуем"
   ]
  },
  {
   "cell_type": "code",
   "execution_count": 86,
   "metadata": {},
   "outputs": [
    {
     "name": "stdout",
     "output_type": "stream",
     "text": [
      "[LightGBM] [Warning] Unknown parameter: iterations\n"
     ]
    }
   ],
   "source": [
    "model_lgb = lgb.LGBMModel(objective=\"regression\", iterations = 300, n_estimators = 500, learning_rate = 0.1, max_depth = 12)\n",
    "model_lgb.fit(features_train, target_train)\n",
    "pred_valid = model_lgb.predict(features_valid)\n"
   ]
  },
  {
   "cell_type": "markdown",
   "metadata": {},
   "source": [
    "И теперь посмотрим какие же признаки повлияли больше всего"
   ]
  },
  {
   "cell_type": "code",
   "execution_count": 87,
   "metadata": {},
   "outputs": [
    {
     "data": {
      "text/plain": [
       "<AxesSubplot:xlabel='feature'>"
      ]
     },
     "execution_count": 87,
     "metadata": {},
     "output_type": "execute_result"
    },
    {
     "data": {
      "image/png": "[encoded data removed]",
      "text/plain": [
       "<Figure size 1152x216 with 1 Axes>"
      ]
     },
     "metadata": {
      "needs_background": "light"
     },
     "output_type": "display_data"
    }
   ],
   "source": [
    "importances = pd.DataFrame({'feature':features_valid.columns,'importance':np.round(model_lgb.feature_importances_,3)})\n",
    "importances = importances.sort_values('importance',ascending=False).set_index('feature')\n",
    "importances.plot.bar(figsize=(16, 3))"
   ]
  },
  {
   "cell_type": "markdown",
   "metadata": {},
   "source": [
    "Наиболее важным признаком оказалась мощность и год регистрации, дальше идут модельи бренд. введенный нами фактор раритетная/современная/старое авто себя не очень оправдал..."
   ]
  },
  {
   "cell_type": "markdown",
   "metadata": {},
   "source": [
    "#### Анализ остатков"
   ]
  },
  {
   "cell_type": "markdown",
   "metadata": {},
   "source": [
    "соберем в один датафрейм предсказанные и валидационные значения"
   ]
  },
  {
   "cell_type": "code",
   "execution_count": 88,
   "metadata": {},
   "outputs": [
    {
     "data": {
      "text/html": [
       "<div>\n",
       "<style scoped>\n",
       "    .dataframe tbody tr th:only-of-type {\n",
       "        vertical-align: middle;\n",
       "    }\n",
       "\n",
       "    .dataframe tbody tr th {\n",
       "        vertical-align: top;\n",
       "    }\n",
       "\n",
       "    .dataframe thead th {\n",
       "        text-align: right;\n",
       "    }\n",
       "</style>\n",
       "<table border=\"1\" class=\"dataframe\">\n",
       "  <thead>\n",
       "    <tr style=\"text-align: right;\">\n",
       "      <th></th>\n",
       "      <th>target_valid</th>\n",
       "      <th>pred_valid</th>\n",
       "    </tr>\n",
       "  </thead>\n",
       "  <tbody>\n",
       "    <tr>\n",
       "      <th>121647</th>\n",
       "      <td>980</td>\n",
       "      <td>1002.926139</td>\n",
       "    </tr>\n",
       "    <tr>\n",
       "      <th>136601</th>\n",
       "      <td>8600</td>\n",
       "      <td>3075.961961</td>\n",
       "    </tr>\n",
       "    <tr>\n",
       "      <th>218266</th>\n",
       "      <td>4950</td>\n",
       "      <td>5324.365533</td>\n",
       "    </tr>\n",
       "    <tr>\n",
       "      <th>207866</th>\n",
       "      <td>2300</td>\n",
       "      <td>2256.778298</td>\n",
       "    </tr>\n",
       "    <tr>\n",
       "      <th>130569</th>\n",
       "      <td>3900</td>\n",
       "      <td>4563.114553</td>\n",
       "    </tr>\n",
       "    <tr>\n",
       "      <th>...</th>\n",
       "      <td>...</td>\n",
       "      <td>...</td>\n",
       "    </tr>\n",
       "    <tr>\n",
       "      <th>156863</th>\n",
       "      <td>6200</td>\n",
       "      <td>6826.224576</td>\n",
       "    </tr>\n",
       "    <tr>\n",
       "      <th>295054</th>\n",
       "      <td>4700</td>\n",
       "      <td>4400.447818</td>\n",
       "    </tr>\n",
       "    <tr>\n",
       "      <th>30282</th>\n",
       "      <td>5950</td>\n",
       "      <td>4515.726373</td>\n",
       "    </tr>\n",
       "    <tr>\n",
       "      <th>168754</th>\n",
       "      <td>11495</td>\n",
       "      <td>10702.949527</td>\n",
       "    </tr>\n",
       "    <tr>\n",
       "      <th>20698</th>\n",
       "      <td>1500</td>\n",
       "      <td>3501.142244</td>\n",
       "    </tr>\n",
       "  </tbody>\n",
       "</table>\n",
       "<p>69327 rows × 2 columns</p>\n",
       "</div>"
      ],
      "text/plain": [
       "        target_valid    pred_valid\n",
       "121647           980   1002.926139\n",
       "136601          8600   3075.961961\n",
       "218266          4950   5324.365533\n",
       "207866          2300   2256.778298\n",
       "130569          3900   4563.114553\n",
       "...              ...           ...\n",
       "156863          6200   6826.224576\n",
       "295054          4700   4400.447818\n",
       "30282           5950   4515.726373\n",
       "168754         11495  10702.949527\n",
       "20698           1500   3501.142244\n",
       "\n",
       "[69327 rows x 2 columns]"
      ]
     },
     "execution_count": 88,
     "metadata": {},
     "output_type": "execute_result"
    }
   ],
   "source": [
    "tabl = pd.DataFrame({'target_valid':target_valid, 'pred_valid':pred_valid})\n",
    "tabl"
   ]
  },
  {
   "cell_type": "markdown",
   "metadata": {},
   "source": [
    "найдем их разность (delta)"
   ]
  },
  {
   "cell_type": "code",
   "execution_count": 89,
   "metadata": {},
   "outputs": [
    {
     "data": {
      "text/html": [
       "<div>\n",
       "<style scoped>\n",
       "    .dataframe tbody tr th:only-of-type {\n",
       "        vertical-align: middle;\n",
       "    }\n",
       "\n",
       "    .dataframe tbody tr th {\n",
       "        vertical-align: top;\n",
       "    }\n",
       "\n",
       "    .dataframe thead th {\n",
       "        text-align: right;\n",
       "    }\n",
       "</style>\n",
       "<table border=\"1\" class=\"dataframe\">\n",
       "  <thead>\n",
       "    <tr style=\"text-align: right;\">\n",
       "      <th></th>\n",
       "      <th>target_valid</th>\n",
       "      <th>pred_valid</th>\n",
       "      <th>delta</th>\n",
       "    </tr>\n",
       "  </thead>\n",
       "  <tbody>\n",
       "    <tr>\n",
       "      <th>121647</th>\n",
       "      <td>980</td>\n",
       "      <td>1002.926139</td>\n",
       "      <td>-22.926139</td>\n",
       "    </tr>\n",
       "    <tr>\n",
       "      <th>136601</th>\n",
       "      <td>8600</td>\n",
       "      <td>3075.961961</td>\n",
       "      <td>5524.038039</td>\n",
       "    </tr>\n",
       "    <tr>\n",
       "      <th>218266</th>\n",
       "      <td>4950</td>\n",
       "      <td>5324.365533</td>\n",
       "      <td>-374.365533</td>\n",
       "    </tr>\n",
       "    <tr>\n",
       "      <th>207866</th>\n",
       "      <td>2300</td>\n",
       "      <td>2256.778298</td>\n",
       "      <td>43.221702</td>\n",
       "    </tr>\n",
       "    <tr>\n",
       "      <th>130569</th>\n",
       "      <td>3900</td>\n",
       "      <td>4563.114553</td>\n",
       "      <td>-663.114553</td>\n",
       "    </tr>\n",
       "    <tr>\n",
       "      <th>...</th>\n",
       "      <td>...</td>\n",
       "      <td>...</td>\n",
       "      <td>...</td>\n",
       "    </tr>\n",
       "    <tr>\n",
       "      <th>156863</th>\n",
       "      <td>6200</td>\n",
       "      <td>6826.224576</td>\n",
       "      <td>-626.224576</td>\n",
       "    </tr>\n",
       "    <tr>\n",
       "      <th>295054</th>\n",
       "      <td>4700</td>\n",
       "      <td>4400.447818</td>\n",
       "      <td>299.552182</td>\n",
       "    </tr>\n",
       "    <tr>\n",
       "      <th>30282</th>\n",
       "      <td>5950</td>\n",
       "      <td>4515.726373</td>\n",
       "      <td>1434.273627</td>\n",
       "    </tr>\n",
       "    <tr>\n",
       "      <th>168754</th>\n",
       "      <td>11495</td>\n",
       "      <td>10702.949527</td>\n",
       "      <td>792.050473</td>\n",
       "    </tr>\n",
       "    <tr>\n",
       "      <th>20698</th>\n",
       "      <td>1500</td>\n",
       "      <td>3501.142244</td>\n",
       "      <td>-2001.142244</td>\n",
       "    </tr>\n",
       "  </tbody>\n",
       "</table>\n",
       "<p>69327 rows × 3 columns</p>\n",
       "</div>"
      ],
      "text/plain": [
       "        target_valid    pred_valid        delta\n",
       "121647           980   1002.926139   -22.926139\n",
       "136601          8600   3075.961961  5524.038039\n",
       "218266          4950   5324.365533  -374.365533\n",
       "207866          2300   2256.778298    43.221702\n",
       "130569          3900   4563.114553  -663.114553\n",
       "...              ...           ...          ...\n",
       "156863          6200   6826.224576  -626.224576\n",
       "295054          4700   4400.447818   299.552182\n",
       "30282           5950   4515.726373  1434.273627\n",
       "168754         11495  10702.949527   792.050473\n",
       "20698           1500   3501.142244 -2001.142244\n",
       "\n",
       "[69327 rows x 3 columns]"
      ]
     },
     "execution_count": 89,
     "metadata": {},
     "output_type": "execute_result"
    }
   ],
   "source": [
    "tabl['delta'] = tabl['target_valid'] - tabl['pred_valid']\n",
    "tabl"
   ]
  },
  {
   "cell_type": "markdown",
   "metadata": {},
   "source": [
    "полученные значения delta поместим в таблицу с признаками"
   ]
  },
  {
   "cell_type": "code",
   "execution_count": 90,
   "metadata": {},
   "outputs": [
    {
     "data": {
      "text/html": [
       "<div>\n",
       "<style scoped>\n",
       "    .dataframe tbody tr th:only-of-type {\n",
       "        vertical-align: middle;\n",
       "    }\n",
       "\n",
       "    .dataframe tbody tr th {\n",
       "        vertical-align: top;\n",
       "    }\n",
       "\n",
       "    .dataframe thead th {\n",
       "        text-align: right;\n",
       "    }\n",
       "</style>\n",
       "<table border=\"1\" class=\"dataframe\">\n",
       "  <thead>\n",
       "    <tr style=\"text-align: right;\">\n",
       "      <th></th>\n",
       "      <th>vehicle_type</th>\n",
       "      <th>registration_year</th>\n",
       "      <th>gearbox</th>\n",
       "      <th>power</th>\n",
       "      <th>model</th>\n",
       "      <th>kilometer</th>\n",
       "      <th>registration_month</th>\n",
       "      <th>fuel_type</th>\n",
       "      <th>brand</th>\n",
       "      <th>not_repaired</th>\n",
       "      <th>registration_year_id</th>\n",
       "      <th>delta</th>\n",
       "    </tr>\n",
       "  </thead>\n",
       "  <tbody>\n",
       "    <tr>\n",
       "      <th>121647</th>\n",
       "      <td>5</td>\n",
       "      <td>1994</td>\n",
       "      <td>2</td>\n",
       "      <td>75</td>\n",
       "      <td>117</td>\n",
       "      <td>150000</td>\n",
       "      <td>10</td>\n",
       "      <td>7</td>\n",
       "      <td>38</td>\n",
       "      <td>1</td>\n",
       "      <td>2</td>\n",
       "      <td>-22.926139</td>\n",
       "    </tr>\n",
       "    <tr>\n",
       "      <th>136601</th>\n",
       "      <td>1</td>\n",
       "      <td>2004</td>\n",
       "      <td>2</td>\n",
       "      <td>101</td>\n",
       "      <td>223</td>\n",
       "      <td>150000</td>\n",
       "      <td>12</td>\n",
       "      <td>3</td>\n",
       "      <td>10</td>\n",
       "      <td>1</td>\n",
       "      <td>2</td>\n",
       "      <td>5524.038039</td>\n",
       "    </tr>\n",
       "    <tr>\n",
       "      <th>218266</th>\n",
       "      <td>5</td>\n",
       "      <td>1963</td>\n",
       "      <td>2</td>\n",
       "      <td>40</td>\n",
       "      <td>167</td>\n",
       "      <td>30000</td>\n",
       "      <td>12</td>\n",
       "      <td>7</td>\n",
       "      <td>10</td>\n",
       "      <td>1</td>\n",
       "      <td>1</td>\n",
       "      <td>-374.365533</td>\n",
       "    </tr>\n",
       "    <tr>\n",
       "      <th>207866</th>\n",
       "      <td>1</td>\n",
       "      <td>2002</td>\n",
       "      <td>2</td>\n",
       "      <td>146</td>\n",
       "      <td>113</td>\n",
       "      <td>150000</td>\n",
       "      <td>10</td>\n",
       "      <td>7</td>\n",
       "      <td>10</td>\n",
       "      <td>0</td>\n",
       "      <td>2</td>\n",
       "      <td>43.221702</td>\n",
       "    </tr>\n",
       "    <tr>\n",
       "      <th>130569</th>\n",
       "      <td>8</td>\n",
       "      <td>2004</td>\n",
       "      <td>1</td>\n",
       "      <td>122</td>\n",
       "      <td>60</td>\n",
       "      <td>150000</td>\n",
       "      <td>7</td>\n",
       "      <td>3</td>\n",
       "      <td>20</td>\n",
       "      <td>1</td>\n",
       "      <td>2</td>\n",
       "      <td>-663.114553</td>\n",
       "    </tr>\n",
       "    <tr>\n",
       "      <th>...</th>\n",
       "      <td>...</td>\n",
       "      <td>...</td>\n",
       "      <td>...</td>\n",
       "      <td>...</td>\n",
       "      <td>...</td>\n",
       "      <td>...</td>\n",
       "      <td>...</td>\n",
       "      <td>...</td>\n",
       "      <td>...</td>\n",
       "      <td>...</td>\n",
       "      <td>...</td>\n",
       "      <td>...</td>\n",
       "    </tr>\n",
       "    <tr>\n",
       "      <th>156863</th>\n",
       "      <td>8</td>\n",
       "      <td>2006</td>\n",
       "      <td>2</td>\n",
       "      <td>140</td>\n",
       "      <td>29</td>\n",
       "      <td>150000</td>\n",
       "      <td>4</td>\n",
       "      <td>3</td>\n",
       "      <td>1</td>\n",
       "      <td>1</td>\n",
       "      <td>2</td>\n",
       "      <td>-626.224576</td>\n",
       "    </tr>\n",
       "    <tr>\n",
       "      <th>295054</th>\n",
       "      <td>6</td>\n",
       "      <td>2005</td>\n",
       "      <td>2</td>\n",
       "      <td>64</td>\n",
       "      <td>174</td>\n",
       "      <td>50000</td>\n",
       "      <td>8</td>\n",
       "      <td>7</td>\n",
       "      <td>38</td>\n",
       "      <td>1</td>\n",
       "      <td>2</td>\n",
       "      <td>299.552182</td>\n",
       "    </tr>\n",
       "    <tr>\n",
       "      <th>30282</th>\n",
       "      <td>5</td>\n",
       "      <td>2006</td>\n",
       "      <td>2</td>\n",
       "      <td>140</td>\n",
       "      <td>74</td>\n",
       "      <td>150000</td>\n",
       "      <td>3</td>\n",
       "      <td>7</td>\n",
       "      <td>11</td>\n",
       "      <td>1</td>\n",
       "      <td>2</td>\n",
       "      <td>1434.273627</td>\n",
       "    </tr>\n",
       "    <tr>\n",
       "      <th>168754</th>\n",
       "      <td>8</td>\n",
       "      <td>2008</td>\n",
       "      <td>1</td>\n",
       "      <td>179</td>\n",
       "      <td>32</td>\n",
       "      <td>150000</td>\n",
       "      <td>7</td>\n",
       "      <td>3</td>\n",
       "      <td>1</td>\n",
       "      <td>1</td>\n",
       "      <td>2</td>\n",
       "      <td>792.050473</td>\n",
       "    </tr>\n",
       "    <tr>\n",
       "      <th>20698</th>\n",
       "      <td>8</td>\n",
       "      <td>2003</td>\n",
       "      <td>2</td>\n",
       "      <td>150</td>\n",
       "      <td>137</td>\n",
       "      <td>125000</td>\n",
       "      <td>4</td>\n",
       "      <td>3</td>\n",
       "      <td>27</td>\n",
       "      <td>1</td>\n",
       "      <td>2</td>\n",
       "      <td>-2001.142244</td>\n",
       "    </tr>\n",
       "  </tbody>\n",
       "</table>\n",
       "<p>69327 rows × 12 columns</p>\n",
       "</div>"
      ],
      "text/plain": [
       "        vehicle_type  registration_year  gearbox  power  model  kilometer  \\\n",
       "121647             5               1994        2     75    117     150000   \n",
       "136601             1               2004        2    101    223     150000   \n",
       "218266             5               1963        2     40    167      30000   \n",
       "207866             1               2002        2    146    113     150000   \n",
       "130569             8               2004        1    122     60     150000   \n",
       "...              ...                ...      ...    ...    ...        ...   \n",
       "156863             8               2006        2    140     29     150000   \n",
       "295054             6               2005        2     64    174      50000   \n",
       "30282              5               2006        2    140     74     150000   \n",
       "168754             8               2008        1    179     32     150000   \n",
       "20698              8               2003        2    150    137     125000   \n",
       "\n",
       "        registration_month  fuel_type  brand  not_repaired  \\\n",
       "121647                  10          7     38             1   \n",
       "136601                  12          3     10             1   \n",
       "218266                  12          7     10             1   \n",
       "207866                  10          7     10             0   \n",
       "130569                   7          3     20             1   \n",
       "...                    ...        ...    ...           ...   \n",
       "156863                   4          3      1             1   \n",
       "295054                   8          7     38             1   \n",
       "30282                    3          7     11             1   \n",
       "168754                   7          3      1             1   \n",
       "20698                    4          3     27             1   \n",
       "\n",
       "        registration_year_id        delta  \n",
       "121647                     2   -22.926139  \n",
       "136601                     2  5524.038039  \n",
       "218266                     1  -374.365533  \n",
       "207866                     2    43.221702  \n",
       "130569                     2  -663.114553  \n",
       "...                      ...          ...  \n",
       "156863                     2  -626.224576  \n",
       "295054                     2   299.552182  \n",
       "30282                      2  1434.273627  \n",
       "168754                     2   792.050473  \n",
       "20698                      2 -2001.142244  \n",
       "\n",
       "[69327 rows x 12 columns]"
      ]
     },
     "execution_count": 90,
     "metadata": {},
     "output_type": "execute_result"
    }
   ],
   "source": [
    "features_valid['delta'] = tabl['delta']\n",
    "features_valid"
   ]
  },
  {
   "cell_type": "markdown",
   "metadata": {},
   "source": [
    " "
   ]
  },
  {
   "cell_type": "markdown",
   "metadata": {},
   "source": [
    "Итак, посмотрим как у нас распределеились ошибки исходя из разных признаков"
   ]
  },
  {
   "cell_type": "code",
   "execution_count": 91,
   "metadata": {},
   "outputs": [
    {
     "data": {
      "image/png": "[encoded data removed]",
      "text/plain": [
       "<Figure size 720x720 with 1 Axes>"
      ]
     },
     "metadata": {
      "needs_background": "light"
     },
     "output_type": "display_data"
    }
   ],
   "source": [
    "plt.figure(figsize=(10,10))\n",
    "ax = sns.boxplot(x='vehicle_type',y='delta',data=features_valid,linewidth=1,fliersize=2)\n",
    "plt.show()"
   ]
  },
  {
   "cell_type": "markdown",
   "metadata": {},
   "source": [
    "Как будто бы все примерно одинаково.... Конечно есть разница между 6 и 7 значениями, но медиана почти в линию."
   ]
  },
  {
   "cell_type": "markdown",
   "metadata": {},
   "source": [
    " "
   ]
  },
  {
   "cell_type": "code",
   "execution_count": 92,
   "metadata": {},
   "outputs": [
    {
     "data": {
      "image/png": "[encoded data removed]",
      "text/plain": [
       "<Figure size 2880x720 with 1 Axes>"
      ]
     },
     "metadata": {
      "needs_background": "light"
     },
     "output_type": "display_data"
    }
   ],
   "source": [
    "plt.figure(figsize=(40,10))\n",
    "ax = sns.boxplot(x='registration_year',y='delta',data=features_valid,linewidth=1,fliersize=2)\n",
    "plt.show()"
   ]
  },
  {
   "cell_type": "markdown",
   "metadata": {},
   "source": [
    "разброс значений ошибок относительно года регистрации лихих 90-х и начала 2000-х как будто меньше (меньше разница между первым и третьим квантилями). Предположу, что, все дело в том что, колличество машин первой половины 20-го века просто меньше и из за этого страдает \"нормальность\" распределения."
   ]
  },
  {
   "cell_type": "markdown",
   "metadata": {},
   "source": [
    " "
   ]
  },
  {
   "cell_type": "code",
   "execution_count": 93,
   "metadata": {},
   "outputs": [
    {
     "data": {
      "image/png": "[encoded data removed]",
      "text/plain": [
       "<Figure size 720x720 with 1 Axes>"
      ]
     },
     "metadata": {
      "needs_background": "light"
     },
     "output_type": "display_data"
    }
   ],
   "source": [
    "plt.figure(figsize=(10,10))\n",
    "ax = sns.boxplot(x='gearbox',y='delta',data=features_valid,linewidth=1,fliersize=2)\n",
    "plt.show()"
   ]
  },
  {
   "cell_type": "markdown",
   "metadata": {},
   "source": [
    "тут все примерно одинаково"
   ]
  },
  {
   "cell_type": "markdown",
   "metadata": {},
   "source": [
    " "
   ]
  },
  {
   "cell_type": "code",
   "execution_count": 94,
   "metadata": {},
   "outputs": [
    {
     "data": {
      "image/png": "[encoded data removed]",
      "text/plain": [
       "<Figure size 720x720 with 1 Axes>"
      ]
     },
     "metadata": {
      "needs_background": "light"
     },
     "output_type": "display_data"
    }
   ],
   "source": [
    "plt.figure(figsize=(10,10))\n",
    "ax = sns.boxplot(x='fuel_type',y='delta',data=features_valid,linewidth=1,fliersize=2)\n",
    "plt.show()"
   ]
  },
  {
   "cell_type": "markdown",
   "metadata": {},
   "source": [
    "По типу топлива:\n",
    "2-й тип топлива имеет очень большое межквартильное расстояние + отсутствие выбросов.\n",
    "\n",
    "0, 3 и 7 типы топлива имеют большое кол-во выбросов."
   ]
  },
  {
   "cell_type": "markdown",
   "metadata": {},
   "source": [
    " "
   ]
  },
  {
   "cell_type": "markdown",
   "metadata": {},
   "source": [
    " "
   ]
  },
  {
   "cell_type": "code",
   "execution_count": 95,
   "metadata": {},
   "outputs": [
    {
     "data": {
      "image/png": "[encoded data removed]",
      "text/plain": [
       "<Figure size 720x720 with 1 Axes>"
      ]
     },
     "metadata": {
      "needs_background": "light"
     },
     "output_type": "display_data"
    }
   ],
   "source": [
    "plt.figure(figsize=(10,10))\n",
    "ax = sns.boxplot(x='registration_year_id',y='delta',data=features_valid,linewidth=1,fliersize=2)\n",
    "plt.show()"
   ]
  },
  {
   "cell_type": "markdown",
   "metadata": {},
   "source": [
    "И наконец наш сгенерированный признак! Тут медиана 1, 2 и 3 значений примерно равны. \n",
    "\n",
    "Ошибка у авто с нулевым классом года регистрации выше!!"
   ]
  },
  {
   "cell_type": "code",
   "execution_count": 96,
   "metadata": {},
   "outputs": [],
   "source": [
    "features_valid = features_valid.drop('delta', axis = 1)"
   ]
  },
  {
   "cell_type": "markdown",
   "metadata": {},
   "source": [
    " "
   ]
  },
  {
   "cell_type": "markdown",
   "metadata": {},
   "source": [
    " "
   ]
  },
  {
   "cell_type": "markdown",
   "metadata": {},
   "source": [
    " "
   ]
  },
  {
   "cell_type": "markdown",
   "metadata": {},
   "source": [
    "### обучим модель RandomForestRegressor"
   ]
  },
  {
   "cell_type": "code",
   "execution_count": 97,
   "metadata": {},
   "outputs": [],
   "source": [
    "model_rand_for_reg = RandomForestRegressor(random_state=12345, n_estimators=40, max_depth=15)"
   ]
  },
  {
   "cell_type": "code",
   "execution_count": 98,
   "metadata": {},
   "outputs": [],
   "source": [
    "start_time = time.time()\n",
    "\n",
    "model_rand_for_reg.fit(features_train, target_train)\n",
    "\n",
    "time_value.append(time.time() - start_time)\n",
    "model.append('RandomForestRegressor')"
   ]
  },
  {
   "cell_type": "code",
   "execution_count": 99,
   "metadata": {},
   "outputs": [
    {
     "data": {
      "text/plain": [
       "1614.6587787863089"
      ]
     },
     "execution_count": 99,
     "metadata": {},
     "output_type": "execute_result"
    }
   ],
   "source": [
    "pred_valid = model_rand_for_reg.predict(features_valid)\n",
    "RMSE = mean_squared_error(target_valid, pred_valid)**0.5\n",
    "\n",
    "RMSE_value.append(RMSE)\n",
    "\n",
    "RMSE"
   ]
  },
  {
   "cell_type": "markdown",
   "metadata": {},
   "source": [
    " "
   ]
  },
  {
   "cell_type": "markdown",
   "metadata": {},
   "source": [
    " "
   ]
  },
  {
   "cell_type": "markdown",
   "metadata": {},
   "source": [
    "### обучим модель LinearRegression"
   ]
  },
  {
   "cell_type": "code",
   "execution_count": 100,
   "metadata": {},
   "outputs": [
    {
     "name": "stdout",
     "output_type": "stream",
     "text": [
      "3308.0958655736226\n"
     ]
    }
   ],
   "source": [
    "start_time = time.time()\n",
    "\n",
    "model_L = GridSearchCV(LinearRegression(),param_grid={},cv=5,n_jobs=-1)\n",
    "model_L.fit(features_train, target_train)\n",
    "\n",
    "pred_valid = model_L.predict(features_valid)\n",
    "RMSE = mean_squared_error(target_valid, pred_valid)**0.5\n",
    "\n",
    "time_value.append(time.time() - start_time)\n",
    "RMSE_value.append(RMSE)\n",
    "model.append('LinearRegression')\n",
    "\n",
    "print(RMSE)"
   ]
  },
  {
   "cell_type": "markdown",
   "metadata": {},
   "source": [
    " "
   ]
  },
  {
   "cell_type": "markdown",
   "metadata": {},
   "source": [
    " "
   ]
  },
  {
   "cell_type": "markdown",
   "metadata": {},
   "source": [
    "### обучим модель KNeighborsRegressor"
   ]
  },
  {
   "cell_type": "code",
   "execution_count": 101,
   "metadata": {},
   "outputs": [
    {
     "data": {
      "text/plain": [
       "1819.1339689294084"
      ]
     },
     "execution_count": 101,
     "metadata": {},
     "output_type": "execute_result"
    }
   ],
   "source": [
    "start_time = time.time()\n",
    "\n",
    "model_gs_knn = GridSearchCV(KNeighborsRegressor(weights = 'distance', n_neighbors = 7, p = 1),param_grid={},cv=3)\n",
    "model_gs_knn.fit(features_train, target_train)\n",
    "\n",
    "pred_valid = model_gs_knn.predict(features_valid)\n",
    "RMSE = mean_squared_error(target_valid, pred_valid)**0.5\n",
    "\n",
    "time_value.append(time.time() - start_time)\n",
    "RMSE_value.append(RMSE)\n",
    "model.append('KNeighborsRegressor')\n",
    "\n",
    "RMSE"
   ]
  },
  {
   "cell_type": "markdown",
   "metadata": {},
   "source": [
    " "
   ]
  },
  {
   "cell_type": "markdown",
   "metadata": {},
   "source": [
    " "
   ]
  },
  {
   "cell_type": "markdown",
   "metadata": {},
   "source": [
    "### обучим константную модель DummyRegressor"
   ]
  },
  {
   "cell_type": "code",
   "execution_count": 102,
   "metadata": {},
   "outputs": [
    {
     "data": {
      "text/plain": [
       "4645.745233113019"
      ]
     },
     "execution_count": 102,
     "metadata": {},
     "output_type": "execute_result"
    }
   ],
   "source": [
    "start_time = time.time()\n",
    "\n",
    "dc = DummyRegressor()\n",
    "model_dc = dc.fit(features_train, target_train)\n",
    "dummy_pred = model_dc.predict(features_valid)\n",
    "RMSE = mean_squared_error(target_valid, dummy_pred)**0.5\n",
    "\n",
    "time_value.append(time.time() - start_time)\n",
    "RMSE_value.append(RMSE)\n",
    "model.append('DummyRegressor')\n",
    "\n",
    "RMSE"
   ]
  },
  {
   "cell_type": "markdown",
   "metadata": {},
   "source": [
    " "
   ]
  },
  {
   "cell_type": "markdown",
   "metadata": {},
   "source": [
    "Преобразуем результаты в табличку"
   ]
  },
  {
   "cell_type": "code",
   "execution_count": 103,
   "metadata": {},
   "outputs": [],
   "source": [
    "model = pd.Series(model)\n",
    "RMSE_value = pd.Series(RMSE_value)\n",
    "time_value = pd.Series(time_value)\n",
    "\n",
    "res = pd.DataFrame({'model':model,'RMSE_value':RMSE_value,'time_value':time_value})"
   ]
  },
  {
   "cell_type": "markdown",
   "metadata": {},
   "source": [
    " "
   ]
  },
  {
   "cell_type": "code",
   "execution_count": 104,
   "metadata": {},
   "outputs": [
    {
     "data": {
      "text/html": [
       "<div>\n",
       "<style scoped>\n",
       "    .dataframe tbody tr th:only-of-type {\n",
       "        vertical-align: middle;\n",
       "    }\n",
       "\n",
       "    .dataframe tbody tr th {\n",
       "        vertical-align: top;\n",
       "    }\n",
       "\n",
       "    .dataframe thead th {\n",
       "        text-align: right;\n",
       "    }\n",
       "</style>\n",
       "<table border=\"1\" class=\"dataframe\">\n",
       "  <thead>\n",
       "    <tr style=\"text-align: right;\">\n",
       "      <th></th>\n",
       "      <th>model</th>\n",
       "      <th>RMSE_value</th>\n",
       "      <th>time_value</th>\n",
       "    </tr>\n",
       "  </thead>\n",
       "  <tbody>\n",
       "    <tr>\n",
       "      <th>0</th>\n",
       "      <td>CatBoostRegressor + features</td>\n",
       "      <td>1585.649004</td>\n",
       "      <td>184.734264</td>\n",
       "    </tr>\n",
       "    <tr>\n",
       "      <th>1</th>\n",
       "      <td>XGBRegressor</td>\n",
       "      <td>1495.911800</td>\n",
       "      <td>53.172943</td>\n",
       "    </tr>\n",
       "    <tr>\n",
       "      <th>2</th>\n",
       "      <td>LGBMModel + features</td>\n",
       "      <td>1523.198886</td>\n",
       "      <td>20.435636</td>\n",
       "    </tr>\n",
       "    <tr>\n",
       "      <th>3</th>\n",
       "      <td>RandomForestRegressor</td>\n",
       "      <td>1614.658779</td>\n",
       "      <td>21.368086</td>\n",
       "    </tr>\n",
       "    <tr>\n",
       "      <th>4</th>\n",
       "      <td>LinearRegression</td>\n",
       "      <td>3308.095866</td>\n",
       "      <td>2.038967</td>\n",
       "    </tr>\n",
       "    <tr>\n",
       "      <th>5</th>\n",
       "      <td>KNeighborsRegressor</td>\n",
       "      <td>1819.133969</td>\n",
       "      <td>110.596575</td>\n",
       "    </tr>\n",
       "    <tr>\n",
       "      <th>6</th>\n",
       "      <td>DummyRegressor</td>\n",
       "      <td>4645.745233</td>\n",
       "      <td>0.002001</td>\n",
       "    </tr>\n",
       "  </tbody>\n",
       "</table>\n",
       "</div>"
      ],
      "text/plain": [
       "                          model   RMSE_value  time_value\n",
       "0  CatBoostRegressor + features  1585.649004  184.734264\n",
       "1                  XGBRegressor  1495.911800   53.172943\n",
       "2          LGBMModel + features  1523.198886   20.435636\n",
       "3         RandomForestRegressor  1614.658779   21.368086\n",
       "4              LinearRegression  3308.095866    2.038967\n",
       "5           KNeighborsRegressor  1819.133969  110.596575\n",
       "6                DummyRegressor  4645.745233    0.002001"
      ]
     },
     "execution_count": 104,
     "metadata": {},
     "output_type": "execute_result"
    }
   ],
   "source": [
    "res"
   ]
  },
  {
   "cell_type": "markdown",
   "metadata": {},
   "source": [
    " "
   ]
  },
  {
   "cell_type": "markdown",
   "metadata": {},
   "source": [
    " "
   ]
  },
  {
   "cell_type": "markdown",
   "metadata": {},
   "source": [
    "## Выводы: "
   ]
  },
  {
   "cell_type": "markdown",
   "metadata": {},
   "source": [
    "самая точная модель оказалась: XGBRegressor \n",
    "\n",
    "Самое оптимальное соотношение точности и скорости показал LGBMModel\n",
    " \n",
    "Так же неплохо показавшие себя модели : \n",
    " - CatBoostRegressor \n",
    " - RandomForestRegressor\n",
    " \n",
    "Не оправдавшие себя/медленные модели : LinearRegressor, KNeighborsRegressor\n",
    "По сравнению с константной моделью DummyRegressor, все модели лучше."
   ]
  }
 ],
 "metadata": {
  "ExecuteTimeLog": [
   {
    "duration": 1553,
    "start_time": "2021-11-06T11:12:27.575Z"
   },
   {
    "duration": 2663,
    "start_time": "2021-11-06T11:12:29.149Z"
   },
   {
    "duration": 1089,
    "start_time": "2021-11-06T11:13:07.947Z"
   },
   {
    "duration": 68,
    "start_time": "2021-11-06T11:13:53.837Z"
   },
   {
    "duration": 260,
    "start_time": "2021-11-06T11:13:58.316Z"
   },
   {
    "duration": 590,
    "start_time": "2021-11-06T11:14:23.355Z"
   },
   {
    "duration": 7,
    "start_time": "2021-11-06T11:14:24.707Z"
   },
   {
    "duration": 58,
    "start_time": "2021-11-06T11:14:25.079Z"
   },
   {
    "duration": 278,
    "start_time": "2021-11-06T11:14:25.571Z"
   },
   {
    "duration": 262,
    "start_time": "2021-11-06T11:14:26.063Z"
   },
   {
    "duration": 28,
    "start_time": "2021-11-06T11:14:26.911Z"
   },
   {
    "duration": 1593,
    "start_time": "2021-11-06T11:23:01.676Z"
   },
   {
    "duration": 1093,
    "start_time": "2021-11-06T11:23:05.311Z"
   },
   {
    "duration": 41,
    "start_time": "2021-11-06T11:23:07.851Z"
   },
   {
    "duration": 177,
    "start_time": "2021-11-06T11:23:08.556Z"
   },
   {
    "duration": 533,
    "start_time": "2021-11-06T11:23:10.005Z"
   },
   {
    "duration": 7,
    "start_time": "2021-11-06T11:23:10.541Z"
   },
   {
    "duration": 59,
    "start_time": "2021-11-06T11:23:10.909Z"
   },
   {
    "duration": 151,
    "start_time": "2021-11-06T11:23:12.100Z"
   },
   {
    "duration": 158,
    "start_time": "2021-11-06T11:23:12.950Z"
   },
   {
    "duration": 27,
    "start_time": "2021-11-06T11:23:16.996Z"
   },
   {
    "duration": 25,
    "start_time": "2021-11-06T11:24:16.287Z"
   },
   {
    "duration": 8223,
    "start_time": "2021-11-06T11:24:21.326Z"
   },
   {
    "duration": 28,
    "start_time": "2021-11-06T11:25:46.290Z"
   },
   {
    "duration": 34,
    "start_time": "2021-11-06T11:25:49.526Z"
   },
   {
    "duration": 29,
    "start_time": "2021-11-06T11:25:55.649Z"
   },
   {
    "duration": 28,
    "start_time": "2021-11-06T11:25:57.452Z"
   },
   {
    "duration": 49,
    "start_time": "2021-11-06T11:26:01.738Z"
   },
   {
    "duration": 682,
    "start_time": "2021-11-06T11:26:06.744Z"
   },
   {
    "duration": 2408,
    "start_time": "2021-11-06T11:26:11.349Z"
   },
   {
    "duration": 925,
    "start_time": "2021-11-06T11:26:14.434Z"
   },
   {
    "duration": 39,
    "start_time": "2021-11-06T11:26:19.633Z"
   },
   {
    "duration": 6,
    "start_time": "2021-11-06T11:26:30.281Z"
   },
   {
    "duration": 84,
    "start_time": "2021-11-06T11:26:30.909Z"
   },
   {
    "duration": 38,
    "start_time": "2021-11-06T11:27:15.584Z"
   },
   {
    "duration": 45,
    "start_time": "2021-11-06T11:27:19.371Z"
   },
   {
    "duration": 99,
    "start_time": "2021-11-06T11:27:24.503Z"
   },
   {
    "duration": 47,
    "start_time": "2021-11-06T11:28:10.649Z"
   },
   {
    "duration": 91,
    "start_time": "2021-11-06T11:28:14.421Z"
   },
   {
    "duration": 11,
    "start_time": "2021-11-06T11:28:17.909Z"
   },
   {
    "duration": 12,
    "start_time": "2021-11-06T11:28:22.313Z"
   },
   {
    "duration": 1423,
    "start_time": "2021-11-06T11:28:23.030Z"
   },
   {
    "duration": 67,
    "start_time": "2021-11-06T11:28:25.004Z"
   },
   {
    "duration": 853,
    "start_time": "2021-11-06T11:28:25.899Z"
   },
   {
    "duration": 46,
    "start_time": "2021-11-06T11:28:29.979Z"
   },
   {
    "duration": 5685,
    "start_time": "2021-11-06T11:28:30.963Z"
   },
   {
    "duration": 641,
    "start_time": "2021-11-06T11:28:40.182Z"
   },
   {
    "duration": 865,
    "start_time": "2021-11-06T11:28:40.828Z"
   },
   {
    "duration": 317,
    "start_time": "2021-11-06T11:28:45.312Z"
   },
   {
    "duration": 101,
    "start_time": "2021-11-06T11:28:47.213Z"
   },
   {
    "duration": 429,
    "start_time": "2021-11-06T11:28:49.261Z"
   },
   {
    "duration": 43,
    "start_time": "2021-11-06T11:28:50.550Z"
   },
   {
    "duration": 10,
    "start_time": "2021-11-06T11:28:51.789Z"
   },
   {
    "duration": 82,
    "start_time": "2021-11-06T11:28:52.403Z"
   },
   {
    "duration": 357,
    "start_time": "2021-11-06T11:28:56.943Z"
   },
   {
    "duration": 267,
    "start_time": "2021-11-06T11:28:59.212Z"
   },
   {
    "duration": 12,
    "start_time": "2021-11-06T11:28:59.704Z"
   },
   {
    "duration": 21,
    "start_time": "2021-11-06T11:29:01.156Z"
   },
   {
    "duration": 11,
    "start_time": "2021-11-06T11:29:02.329Z"
   },
   {
    "duration": 5,
    "start_time": "2021-11-06T11:29:04.147Z"
   },
   {
    "duration": 129,
    "start_time": "2021-11-06T11:29:05.806Z"
   },
   {
    "duration": 99,
    "start_time": "2021-11-06T11:29:06.876Z"
   },
   {
    "duration": 125,
    "start_time": "2021-11-06T11:29:11.450Z"
   },
   {
    "duration": 2388,
    "start_time": "2021-11-06T11:29:13.124Z"
   },
   {
    "duration": 37,
    "start_time": "2021-11-06T11:29:15.522Z"
   },
   {
    "duration": 46,
    "start_time": "2021-11-06T11:29:15.758Z"
   },
   {
    "duration": 34,
    "start_time": "2021-11-06T11:29:17.559Z"
   },
   {
    "duration": 4,
    "start_time": "2021-11-06T11:29:19.652Z"
   },
   {
    "duration": 1149,
    "start_time": "2021-11-06T11:29:20.247Z"
   },
   {
    "duration": 37,
    "start_time": "2021-11-06T11:29:21.399Z"
   },
   {
    "duration": 28,
    "start_time": "2021-11-06T11:29:22.250Z"
   },
   {
    "duration": 34,
    "start_time": "2021-11-06T11:29:22.700Z"
   },
   {
    "duration": 17,
    "start_time": "2021-11-06T11:29:23.379Z"
   },
   {
    "duration": 65,
    "start_time": "2021-11-06T11:47:24.614Z"
   },
   {
    "duration": 4,
    "start_time": "2021-11-06T11:47:25.754Z"
   },
   {
    "duration": 2188273,
    "start_time": "2021-11-06T11:47:35.375Z"
   },
   {
    "duration": 2145058,
    "start_time": "2021-11-06T12:24:03.650Z"
   },
   {
    "duration": 446887,
    "start_time": "2021-11-06T12:59:48.711Z"
   },
   {
    "duration": 1482,
    "start_time": "2021-11-06T13:07:35.648Z"
   },
   {
    "duration": 283,
    "start_time": "2021-11-06T13:07:47.689Z"
   },
   {
    "duration": 273,
    "start_time": "2021-11-06T13:07:52.667Z"
   },
   {
    "duration": 262,
    "start_time": "2021-11-06T13:07:53.673Z"
   },
   {
    "duration": 1716,
    "start_time": "2021-11-06T16:19:55.184Z"
   },
   {
    "duration": 3332,
    "start_time": "2021-11-06T16:19:56.903Z"
   },
   {
    "duration": -1331,
    "start_time": "2021-11-06T16:20:01.573Z"
   },
   {
    "duration": -1342,
    "start_time": "2021-11-06T16:20:01.586Z"
   },
   {
    "duration": -1349,
    "start_time": "2021-11-06T16:20:01.594Z"
   },
   {
    "duration": -1357,
    "start_time": "2021-11-06T16:20:01.604Z"
   },
   {
    "duration": -1364,
    "start_time": "2021-11-06T16:20:01.612Z"
   },
   {
    "duration": -1374,
    "start_time": "2021-11-06T16:20:01.623Z"
   },
   {
    "duration": -1382,
    "start_time": "2021-11-06T16:20:01.633Z"
   },
   {
    "duration": -1392,
    "start_time": "2021-11-06T16:20:01.644Z"
   },
   {
    "duration": -1401,
    "start_time": "2021-11-06T16:20:01.655Z"
   },
   {
    "duration": -1409,
    "start_time": "2021-11-06T16:20:01.664Z"
   },
   {
    "duration": -1417,
    "start_time": "2021-11-06T16:20:01.673Z"
   },
   {
    "duration": -1425,
    "start_time": "2021-11-06T16:20:01.683Z"
   },
   {
    "duration": -1432,
    "start_time": "2021-11-06T16:20:01.691Z"
   },
   {
    "duration": -1441,
    "start_time": "2021-11-06T16:20:01.702Z"
   },
   {
    "duration": -1449,
    "start_time": "2021-11-06T16:20:01.711Z"
   },
   {
    "duration": -1461,
    "start_time": "2021-11-06T16:20:01.724Z"
   },
   {
    "duration": -1471,
    "start_time": "2021-11-06T16:20:01.736Z"
   },
   {
    "duration": -1477,
    "start_time": "2021-11-06T16:20:01.743Z"
   },
   {
    "duration": -1484,
    "start_time": "2021-11-06T16:20:01.752Z"
   },
   {
    "duration": -1492,
    "start_time": "2021-11-06T16:20:01.761Z"
   },
   {
    "duration": -1501,
    "start_time": "2021-11-06T16:20:01.771Z"
   },
   {
    "duration": -1507,
    "start_time": "2021-11-06T16:20:01.778Z"
   },
   {
    "duration": -1516,
    "start_time": "2021-11-06T16:20:01.789Z"
   },
   {
    "duration": -1522,
    "start_time": "2021-11-06T16:20:01.796Z"
   },
   {
    "duration": -1530,
    "start_time": "2021-11-06T16:20:01.806Z"
   },
   {
    "duration": -1512,
    "start_time": "2021-11-06T16:20:01.813Z"
   },
   {
    "duration": -1520,
    "start_time": "2021-11-06T16:20:01.823Z"
   },
   {
    "duration": -1526,
    "start_time": "2021-11-06T16:20:01.830Z"
   },
   {
    "duration": -1535,
    "start_time": "2021-11-06T16:20:01.841Z"
   },
   {
    "duration": -1544,
    "start_time": "2021-11-06T16:20:01.851Z"
   },
   {
    "duration": -1550,
    "start_time": "2021-11-06T16:20:01.859Z"
   },
   {
    "duration": -1559,
    "start_time": "2021-11-06T16:20:01.869Z"
   },
   {
    "duration": -1564,
    "start_time": "2021-11-06T16:20:01.876Z"
   },
   {
    "duration": -1573,
    "start_time": "2021-11-06T16:20:01.886Z"
   },
   {
    "duration": -1580,
    "start_time": "2021-11-06T16:20:01.894Z"
   },
   {
    "duration": -1588,
    "start_time": "2021-11-06T16:20:01.904Z"
   },
   {
    "duration": -1595,
    "start_time": "2021-11-06T16:20:01.912Z"
   },
   {
    "duration": -1604,
    "start_time": "2021-11-06T16:20:01.922Z"
   },
   {
    "duration": -1609,
    "start_time": "2021-11-06T16:20:01.929Z"
   },
   {
    "duration": -1618,
    "start_time": "2021-11-06T16:20:01.939Z"
   },
   {
    "duration": -1623,
    "start_time": "2021-11-06T16:20:01.946Z"
   },
   {
    "duration": -1633,
    "start_time": "2021-11-06T16:20:01.957Z"
   },
   {
    "duration": -1644,
    "start_time": "2021-11-06T16:20:01.969Z"
   },
   {
    "duration": -1649,
    "start_time": "2021-11-06T16:20:01.976Z"
   },
   {
    "duration": -1659,
    "start_time": "2021-11-06T16:20:01.987Z"
   },
   {
    "duration": -1665,
    "start_time": "2021-11-06T16:20:01.994Z"
   },
   {
    "duration": -1676,
    "start_time": "2021-11-06T16:20:02.006Z"
   },
   {
    "duration": -1682,
    "start_time": "2021-11-06T16:20:02.014Z"
   },
   {
    "duration": -1692,
    "start_time": "2021-11-06T16:20:02.025Z"
   },
   {
    "duration": -1703,
    "start_time": "2021-11-06T16:20:02.037Z"
   },
   {
    "duration": -1710,
    "start_time": "2021-11-06T16:20:02.045Z"
   },
   {
    "duration": -1717,
    "start_time": "2021-11-06T16:20:02.054Z"
   },
   {
    "duration": -1724,
    "start_time": "2021-11-06T16:20:02.062Z"
   },
   {
    "duration": -1672,
    "start_time": "2021-11-06T16:20:02.072Z"
   },
   {
    "duration": -1677,
    "start_time": "2021-11-06T16:20:02.079Z"
   },
   {
    "duration": -1686,
    "start_time": "2021-11-06T16:20:02.089Z"
   },
   {
    "duration": -1692,
    "start_time": "2021-11-06T16:20:02.096Z"
   },
   {
    "duration": -1700,
    "start_time": "2021-11-06T16:20:02.106Z"
   },
   {
    "duration": -1709,
    "start_time": "2021-11-06T16:20:02.116Z"
   },
   {
    "duration": -1716,
    "start_time": "2021-11-06T16:20:02.124Z"
   },
   {
    "duration": -1723,
    "start_time": "2021-11-06T16:20:02.133Z"
   },
   {
    "duration": -1729,
    "start_time": "2021-11-06T16:20:02.140Z"
   },
   {
    "duration": -1738,
    "start_time": "2021-11-06T16:20:02.151Z"
   },
   {
    "duration": -1744,
    "start_time": "2021-11-06T16:20:02.158Z"
   },
   {
    "duration": -1755,
    "start_time": "2021-11-06T16:20:02.171Z"
   },
   {
    "duration": -1762,
    "start_time": "2021-11-06T16:20:02.179Z"
   },
   {
    "duration": -1771,
    "start_time": "2021-11-06T16:20:02.189Z"
   },
   {
    "duration": -1777,
    "start_time": "2021-11-06T16:20:02.197Z"
   },
   {
    "duration": -1785,
    "start_time": "2021-11-06T16:20:02.207Z"
   },
   {
    "duration": -1794,
    "start_time": "2021-11-06T16:20:02.217Z"
   },
   {
    "duration": -1800,
    "start_time": "2021-11-06T16:20:02.225Z"
   },
   {
    "duration": -1808,
    "start_time": "2021-11-06T16:20:02.234Z"
   },
   {
    "duration": -1814,
    "start_time": "2021-11-06T16:20:02.242Z"
   },
   {
    "duration": -1823,
    "start_time": "2021-11-06T16:20:02.252Z"
   },
   {
    "duration": -1828,
    "start_time": "2021-11-06T16:20:02.259Z"
   },
   {
    "duration": -1837,
    "start_time": "2021-11-06T16:20:02.269Z"
   },
   {
    "duration": -1842,
    "start_time": "2021-11-06T16:20:02.276Z"
   },
   {
    "duration": -1851,
    "start_time": "2021-11-06T16:20:02.286Z"
   },
   {
    "duration": -1857,
    "start_time": "2021-11-06T16:20:02.294Z"
   },
   {
    "duration": -1866,
    "start_time": "2021-11-06T16:20:02.304Z"
   },
   {
    "duration": 1646,
    "start_time": "2021-11-06T16:20:52.356Z"
   },
   {
    "duration": 1402,
    "start_time": "2021-11-06T16:20:54.004Z"
   },
   {
    "duration": 43,
    "start_time": "2021-11-06T16:20:55.409Z"
   },
   {
    "duration": 212,
    "start_time": "2021-11-06T16:20:55.455Z"
   },
   {
    "duration": 572,
    "start_time": "2021-11-06T16:20:55.670Z"
   },
   {
    "duration": 9,
    "start_time": "2021-11-06T16:20:56.246Z"
   },
   {
    "duration": 79,
    "start_time": "2021-11-06T16:20:56.258Z"
   },
   {
    "duration": 172,
    "start_time": "2021-11-06T16:20:56.341Z"
   },
   {
    "duration": 162,
    "start_time": "2021-11-06T16:20:56.516Z"
   },
   {
    "duration": 43,
    "start_time": "2021-11-06T16:20:56.680Z"
   },
   {
    "duration": 1407,
    "start_time": "2021-11-09T13:17:12.905Z"
   },
   {
    "duration": 3,
    "start_time": "2021-11-09T13:17:14.314Z"
   },
   {
    "duration": 879,
    "start_time": "2021-11-09T13:17:14.318Z"
   },
   {
    "duration": 4,
    "start_time": "2021-11-09T13:36:02.363Z"
   },
   {
    "duration": 4,
    "start_time": "2021-11-09T13:36:02.537Z"
   },
   {
    "duration": 859,
    "start_time": "2021-11-09T13:36:02.735Z"
   },
   {
    "duration": 27,
    "start_time": "2021-11-09T13:36:03.711Z"
   },
   {
    "duration": 128,
    "start_time": "2021-11-09T13:36:04.325Z"
   },
   {
    "duration": 366,
    "start_time": "2021-11-09T13:36:05.080Z"
   },
   {
    "duration": 7,
    "start_time": "2021-11-09T13:36:05.448Z"
   },
   {
    "duration": 29,
    "start_time": "2021-11-09T13:36:05.781Z"
   },
   {
    "duration": 113,
    "start_time": "2021-11-09T13:36:06.407Z"
   },
   {
    "duration": 109,
    "start_time": "2021-11-09T13:36:09.150Z"
   },
   {
    "duration": 20,
    "start_time": "2021-11-09T13:36:12.641Z"
   },
   {
    "duration": 2,
    "start_time": "2021-11-09T13:36:13.467Z"
   },
   {
    "duration": 3,
    "start_time": "2021-11-09T13:36:13.987Z"
   },
   {
    "duration": 330,
    "start_time": "2021-11-09T13:36:14.534Z"
   },
   {
    "duration": 24,
    "start_time": "2021-11-09T13:36:35.507Z"
   },
   {
    "duration": 4,
    "start_time": "2021-11-09T13:36:38.268Z"
   },
   {
    "duration": 56,
    "start_time": "2021-11-09T13:36:38.655Z"
   },
   {
    "duration": 28,
    "start_time": "2021-11-09T13:36:40.260Z"
   },
   {
    "duration": 24,
    "start_time": "2021-11-09T13:36:41.791Z"
   },
   {
    "duration": 30,
    "start_time": "2021-11-09T13:36:42.664Z"
   },
   {
    "duration": 48,
    "start_time": "2021-11-09T13:36:43.412Z"
   },
   {
    "duration": 3,
    "start_time": "2021-11-09T13:36:44.540Z"
   },
   {
    "duration": 73,
    "start_time": "2021-11-09T13:36:45.224Z"
   },
   {
    "duration": 24,
    "start_time": "2021-11-09T13:36:45.437Z"
   },
   {
    "duration": 32,
    "start_time": "2021-11-09T13:36:46.397Z"
   },
   {
    "duration": 164,
    "start_time": "2021-11-09T13:36:47.666Z"
   },
   {
    "duration": 8,
    "start_time": "2021-11-09T13:36:48.366Z"
   },
   {
    "duration": 7,
    "start_time": "2021-11-09T13:36:49.270Z"
   },
   {
    "duration": 851,
    "start_time": "2021-11-09T13:36:49.466Z"
   },
   {
    "duration": 39,
    "start_time": "2021-11-09T13:36:56.436Z"
   },
   {
    "duration": 549,
    "start_time": "2021-11-09T13:36:57.121Z"
   },
   {
    "duration": 34,
    "start_time": "2021-11-09T13:36:59.885Z"
   },
   {
    "duration": 391,
    "start_time": "2021-11-09T13:37:04.815Z"
   },
   {
    "duration": 460,
    "start_time": "2021-11-09T13:37:05.209Z"
   },
   {
    "duration": 207,
    "start_time": "2021-11-09T13:37:08.304Z"
   },
   {
    "duration": 51,
    "start_time": "2021-11-09T13:37:08.513Z"
   },
   {
    "duration": 190,
    "start_time": "2021-11-09T13:37:10.029Z"
   },
   {
    "duration": 32,
    "start_time": "2021-11-09T13:37:13.389Z"
   },
   {
    "duration": 10,
    "start_time": "2021-11-09T13:37:13.751Z"
   },
   {
    "duration": 69,
    "start_time": "2021-11-09T13:37:13.957Z"
   },
   {
    "duration": 234,
    "start_time": "2021-11-09T13:37:15.000Z"
   },
   {
    "duration": 167,
    "start_time": "2021-11-09T13:37:15.821Z"
   },
   {
    "duration": 7,
    "start_time": "2021-11-09T13:37:15.995Z"
   },
   {
    "duration": 2,
    "start_time": "2021-11-09T13:37:16.844Z"
   },
   {
    "duration": 3,
    "start_time": "2021-11-09T13:37:17.029Z"
   },
   {
    "duration": 40,
    "start_time": "2021-11-09T13:37:17.356Z"
   },
   {
    "duration": 8,
    "start_time": "2021-11-09T13:37:18.122Z"
   },
   {
    "duration": 5,
    "start_time": "2021-11-09T13:37:18.696Z"
   },
   {
    "duration": 98,
    "start_time": "2021-11-09T13:37:19.076Z"
   },
   {
    "duration": 61,
    "start_time": "2021-11-09T13:37:19.421Z"
   },
   {
    "duration": 99,
    "start_time": "2021-11-09T13:37:20.547Z"
   },
   {
    "duration": 23,
    "start_time": "2021-11-09T13:37:24.806Z"
   },
   {
    "duration": 45,
    "start_time": "2021-11-09T13:37:36.960Z"
   },
   {
    "duration": 41,
    "start_time": "2021-11-09T13:37:40.629Z"
   },
   {
    "duration": 36,
    "start_time": "2021-11-09T13:37:42.352Z"
   },
   {
    "duration": 3,
    "start_time": "2021-11-09T13:37:45.296Z"
   },
   {
    "duration": 861,
    "start_time": "2021-11-09T13:37:45.707Z"
   },
   {
    "duration": 20,
    "start_time": "2021-11-09T13:37:53.018Z"
   },
   {
    "duration": 25,
    "start_time": "2021-11-09T13:37:54.256Z"
   },
   {
    "duration": 25,
    "start_time": "2021-11-09T13:37:55.692Z"
   },
   {
    "duration": 11,
    "start_time": "2021-11-09T13:37:57.989Z"
   },
   {
    "duration": 52,
    "start_time": "2021-11-09T13:38:03.750Z"
   },
   {
    "duration": 3,
    "start_time": "2021-11-09T13:38:04.802Z"
   },
   {
    "duration": 3,
    "start_time": "2021-11-09T13:38:05.038Z"
   },
   {
    "duration": 3,
    "start_time": "2021-11-09T13:38:05.377Z"
   },
   {
    "duration": 2,
    "start_time": "2021-11-09T13:38:05.882Z"
   }
  ],
  "kernelspec": {
   "display_name": "Python 3",
   "language": "python",
   "name": "python3"
  },
  "language_info": {
   "codemirror_mode": {
    "name": "ipython",
    "version": 3
   },
   "file_extension": ".py",
   "mimetype": "text/x-python",
   "name": "python",
   "nbconvert_exporter": "python",
   "pygments_lexer": "ipython3",
   "version": "3.8.5"
  },
  "toc": {
   "base_numbering": 1,
   "nav_menu": {},
   "number_sections": true,
   "sideBar": true,
   "skip_h1_title": true,
   "title_cell": "Table of Contents",
   "title_sidebar": "Contents",
   "toc_cell": false,
   "toc_position": {},
   "toc_section_display": true,
   "toc_window_display": false
  }
 },
 "nbformat": 4,
 "nbformat_minor": 4
}
